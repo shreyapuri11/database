{
    "metadata": {
        "kernelspec": {
            "name": "SQL",
            "display_name": "SQL",
            "language": "sql"
        },
        "language_info": {
            "name": "sql",
            "version": ""
        }
    },
    "nbformat_minor": 2,
    "nbformat": 4,
    "cells": [
        {
            "cell_type": "markdown",
            "source": [
                "# Baseball.SQL file"
            ],
            "metadata": {
                "azdata_cell_guid": "c744a12f-0045-405f-87f3-fcdab4ed6c8c"
            },
            "attachments": {}
        },
        {
            "cell_type": "code",
            "source": [
                "use practice;"
            ],
            "metadata": {
                "azdata_cell_guid": "ffdc5917-8e7e-4ddc-bdf1-aa14002f980c",
                "language": "sql"
            },
            "outputs": [
                {
                    "output_type": "display_data",
                    "data": {
                        "text/html": "Commands completed successfully"
                    },
                    "metadata": {}
                },
                {
                    "output_type": "display_data",
                    "data": {
                        "text/html": "Total execution time: 00:00:00.004"
                    },
                    "metadata": {}
                }
            ],
            "execution_count": 1
        },
        {
            "cell_type": "code",
            "source": [
                "SELECT * from baseball;"
            ],
            "metadata": {
                "language": "sql",
                "azdata_cell_guid": "1dfc0e36-bf6b-424d-becd-a18bba6a3c49"
            },
            "outputs": [
                {
                    "output_type": "display_data",
                    "data": {
                        "text/html": "(823 row(s) affected)"
                    },
                    "metadata": {}
                },
                {
                    "output_type": "display_data",
                    "data": {
                        "text/html": "Total execution time: 00:00:01.042"
                    },
                    "metadata": {}
                },
                {
                    "output_type": "execute_result",
                    "metadata": {},
                    "execution_count": 2,
                    "data": {
                        "application/vnd.dataresource+json": {
                            "schema": {
                                "fields": [
                                    {
                                        "name": "Num"
                                    },
                                    {
                                        "name": "Name"
                                    },
                                    {
                                        "name": "Team"
                                    },
                                    {
                                        "name": "Games"
                                    },
                                    {
                                        "name": "AtBats"
                                    },
                                    {
                                        "name": "Runs"
                                    },
                                    {
                                        "name": "Hits"
                                    },
                                    {
                                        "name": "Doubles"
                                    },
                                    {
                                        "name": "Triples"
                                    },
                                    {
                                        "name": "Homers"
                                    },
                                    {
                                        "name": "RBIs"
                                    }
                                ]
                            },
                            "data": [
                                {
                                    "Num": "2",
                                    "Name": "José Abreu",
                                    "Team": "CHW",
                                    "Games": "159",
                                    "AtBats": "634",
                                    "Runs": "85",
                                    "Hits": "180",
                                    "Doubles": "38",
                                    "Triples": "1",
                                    "Homers": "33",
                                    "RBIs": "123"
                                },
                                {
                                    "Num": "3",
                                    "Name": "Ronald Acuna Jr.",
                                    "Team": "ATL",
                                    "Games": "156",
                                    "AtBats": "626",
                                    "Runs": "127",
                                    "Hits": "175",
                                    "Doubles": "22",
                                    "Triples": "2",
                                    "Homers": "41",
                                    "RBIs": "101"
                                },
                                {
                                    "Num": "5",
                                    "Name": "Cristhian Adames",
                                    "Team": "SFG",
                                    "Games": "10",
                                    "AtBats": "22",
                                    "Runs": "1",
                                    "Hits": "7",
                                    "Doubles": "1",
                                    "Triples": "0",
                                    "Homers": "0",
                                    "RBIs": "2"
                                },
                                {
                                    "Num": "6",
                                    "Name": "Willy Adames",
                                    "Team": "TBR",
                                    "Games": "152",
                                    "AtBats": "531",
                                    "Runs": "69",
                                    "Hits": "135",
                                    "Doubles": "25",
                                    "Triples": "1",
                                    "Homers": "20",
                                    "RBIs": "52"
                                },
                                {
                                    "Num": "12",
                                    "Name": "Matt Adams",
                                    "Team": "WSN",
                                    "Games": "111",
                                    "AtBats": "310",
                                    "Runs": "42",
                                    "Hits": "70",
                                    "Doubles": "14",
                                    "Triples": "0",
                                    "Homers": "20",
                                    "RBIs": "56"
                                },
                                {
                                    "Num": "14",
                                    "Name": "Ehire Adrianza",
                                    "Team": "MIN",
                                    "Games": "83",
                                    "AtBats": "202",
                                    "Runs": "34",
                                    "Hits": "55",
                                    "Doubles": "8",
                                    "Triples": "3",
                                    "Homers": "5",
                                    "RBIs": "22"
                                },
                                {
                                    "Num": "15",
                                    "Name": "Dario Agrazal",
                                    "Team": "PIT",
                                    "Games": "14",
                                    "AtBats": "22",
                                    "Runs": "0",
                                    "Hits": "2",
                                    "Doubles": "0",
                                    "Triples": "0",
                                    "Homers": "0",
                                    "RBIs": "2"
                                },
                                {
                                    "Num": "17",
                                    "Name": "Jesus Aguilar",
                                    "Team": "MIL",
                                    "Games": "94",
                                    "AtBats": "222",
                                    "Runs": "26",
                                    "Hits": "50",
                                    "Doubles": "9",
                                    "Triples": "0",
                                    "Homers": "8",
                                    "RBIs": "34"
                                },
                                {
                                    "Num": "18",
                                    "Name": "Jesus Aguilar",
                                    "Team": "TBR",
                                    "Games": "37",
                                    "AtBats": "92",
                                    "Runs": "13",
                                    "Hits": "24",
                                    "Doubles": "3",
                                    "Triples": "0",
                                    "Homers": "4",
                                    "RBIs": "16"
                                },
                                {
                                    "Num": "19",
                                    "Name": "Nick Ahmed",
                                    "Team": "ARI",
                                    "Games": "158",
                                    "AtBats": "556",
                                    "Runs": "79",
                                    "Hits": "141",
                                    "Doubles": "33",
                                    "Triples": "6",
                                    "Homers": "19",
                                    "RBIs": "82"
                                },
                                {
                                    "Num": "21",
                                    "Name": "R.J. Alaniz",
                                    "Team": "CIN",
                                    "Games": "8",
                                    "AtBats": "1",
                                    "Runs": "0",
                                    "Hits": "1",
                                    "Doubles": "0",
                                    "Triples": "0",
                                    "Homers": "0",
                                    "RBIs": "1"
                                },
                                {
                                    "Num": "23",
                                    "Name": "Hanser Alberto",
                                    "Team": "BAL",
                                    "Games": "139",
                                    "AtBats": "524",
                                    "Runs": "62",
                                    "Hits": "160",
                                    "Doubles": "21",
                                    "Triples": "2",
                                    "Homers": "12",
                                    "RBIs": "51"
                                },
                                {
                                    "Num": "24",
                                    "Name": "Ozzie Albies",
                                    "Team": "ATL",
                                    "Games": "160",
                                    "AtBats": "640",
                                    "Runs": "102",
                                    "Hits": "189",
                                    "Doubles": "43",
                                    "Triples": "8",
                                    "Homers": "24",
                                    "RBIs": "86"
                                },
                                {
                                    "Num": "25",
                                    "Name": "Sandy Alcantara",
                                    "Team": "MIA",
                                    "Games": "31",
                                    "AtBats": "58",
                                    "Runs": "2",
                                    "Hits": "5",
                                    "Doubles": "1",
                                    "Triples": "0",
                                    "Homers": "0",
                                    "RBIs": "4"
                                },
                                {
                                    "Num": "28",
                                    "Name": "Jorge Alfaro",
                                    "Team": "MIA",
                                    "Games": "130",
                                    "AtBats": "431",
                                    "Runs": "44",
                                    "Hits": "113",
                                    "Doubles": "14",
                                    "Triples": "1",
                                    "Homers": "18",
                                    "RBIs": "57"
                                },
                                {
                                    "Num": "29",
                                    "Name": "Anthony Alford",
                                    "Team": "TOR",
                                    "Games": "16",
                                    "AtBats": "28",
                                    "Runs": "3",
                                    "Hits": "5",
                                    "Doubles": "0",
                                    "Triples": "0",
                                    "Homers": "1",
                                    "RBIs": "1"
                                },
                                {
                                    "Num": "31",
                                    "Name": "Austin Allen",
                                    "Team": "SDP",
                                    "Games": "34",
                                    "AtBats": "65",
                                    "Runs": "4",
                                    "Hits": "14",
                                    "Doubles": "4",
                                    "Triples": "0",
                                    "Homers": "0",
                                    "RBIs": "3"
                                },
                                {
                                    "Num": "33",
                                    "Name": "Greg Allen",
                                    "Team": "CLE",
                                    "Games": "89",
                                    "AtBats": "231",
                                    "Runs": "30",
                                    "Hits": "53",
                                    "Doubles": "9",
                                    "Triples": "3",
                                    "Homers": "4",
                                    "RBIs": "27"
                                },
                                {
                                    "Num": "35",
                                    "Name": "Logan Allen",
                                    "Team": "SDP",
                                    "Games": "7",
                                    "AtBats": "4",
                                    "Runs": "1",
                                    "Hits": "1",
                                    "Doubles": "0",
                                    "Triples": "0",
                                    "Homers": "0",
                                    "RBIs": "0"
                                },
                                {
                                    "Num": "36",
                                    "Name": "Abraham Almonte",
                                    "Team": "ARI",
                                    "Games": "17",
                                    "AtBats": "31",
                                    "Runs": "11",
                                    "Hits": "9",
                                    "Doubles": "3",
                                    "Triples": "1",
                                    "Homers": "1",
                                    "RBIs": "4"
                                },
                                {
                                    "Num": "38",
                                    "Name": "Albert Almora",
                                    "Team": "CHC",
                                    "Games": "130",
                                    "AtBats": "339",
                                    "Runs": "41",
                                    "Hits": "80",
                                    "Doubles": "11",
                                    "Triples": "1",
                                    "Homers": "12",
                                    "RBIs": "32"
                                },
                                {
                                    "Num": "39",
                                    "Name": "Pete Alonso",
                                    "Team": "NYM",
                                    "Games": "161",
                                    "AtBats": "597",
                                    "Runs": "103",
                                    "Hits": "155",
                                    "Doubles": "30",
                                    "Triples": "2",
                                    "Homers": "53",
                                    "RBIs": "120"
                                },
                                {
                                    "Num": "41",
                                    "Name": "Yonder Alonso",
                                    "Team": "CHW",
                                    "Games": "67",
                                    "AtBats": "219",
                                    "Runs": "23",
                                    "Hits": "39",
                                    "Doubles": "6",
                                    "Triples": "0",
                                    "Homers": "7",
                                    "RBIs": "27"
                                },
                                {
                                    "Num": "42",
                                    "Name": "Yonder Alonso",
                                    "Team": "COL",
                                    "Games": "54",
                                    "AtBats": "73",
                                    "Runs": "11",
                                    "Hits": "19",
                                    "Doubles": "7",
                                    "Triples": "0",
                                    "Homers": "3",
                                    "RBIs": "10"
                                },
                                {
                                    "Num": "45",
                                    "Name": "Aaron Altherr",
                                    "Team": "PHI",
                                    "Games": "22",
                                    "AtBats": "29",
                                    "Runs": "2",
                                    "Hits": "1",
                                    "Doubles": "1",
                                    "Triples": "0",
                                    "Homers": "0",
                                    "RBIs": "1"
                                },
                                {
                                    "Num": "47",
                                    "Name": "Aaron Altherr",
                                    "Team": "NYM",
                                    "Games": "26",
                                    "AtBats": "31",
                                    "Runs": "6",
                                    "Hits": "4",
                                    "Doubles": "1",
                                    "Triples": "0",
                                    "Homers": "1",
                                    "RBIs": "2"
                                },
                                {
                                    "Num": "48",
                                    "Name": "Jose Altuve",
                                    "Team": "HOU",
                                    "Games": "124",
                                    "AtBats": "500",
                                    "Runs": "89",
                                    "Hits": "149",
                                    "Doubles": "27",
                                    "Triples": "3",
                                    "Homers": "31",
                                    "RBIs": "74"
                                },
                                {
                                    "Num": "51",
                                    "Name": "Yordan Álvarez",
                                    "Team": "HOU",
                                    "Games": "87",
                                    "AtBats": "313",
                                    "Runs": "58",
                                    "Hits": "98",
                                    "Doubles": "26",
                                    "Triples": "0",
                                    "Homers": "27",
                                    "RBIs": "78"
                                },
                                {
                                    "Num": "53",
                                    "Name": "Brett Anderson",
                                    "Team": "OAK",
                                    "Games": "3",
                                    "AtBats": "8",
                                    "Runs": "1",
                                    "Hits": "4",
                                    "Doubles": "0",
                                    "Triples": "0",
                                    "Homers": "0",
                                    "RBIs": "0"
                                },
                                {
                                    "Num": "54",
                                    "Name": "Brian Anderson",
                                    "Team": "MIA",
                                    "Games": "126",
                                    "AtBats": "459",
                                    "Runs": "57",
                                    "Hits": "120",
                                    "Doubles": "33",
                                    "Triples": "1",
                                    "Homers": "20",
                                    "RBIs": "66"
                                },
                                {
                                    "Num": "55",
                                    "Name": "Chase Anderson",
                                    "Team": "MIL",
                                    "Games": "31",
                                    "AtBats": "40",
                                    "Runs": "1",
                                    "Hits": "4",
                                    "Doubles": "1",
                                    "Triples": "0",
                                    "Homers": "0",
                                    "RBIs": "1"
                                },
                                {
                                    "Num": "61",
                                    "Name": "Shaun Anderson",
                                    "Team": "SFG",
                                    "Games": "25",
                                    "AtBats": "25",
                                    "Runs": "0",
                                    "Hits": "2",
                                    "Doubles": "1",
                                    "Triples": "0",
                                    "Homers": "0",
                                    "RBIs": "0"
                                },
                                {
                                    "Num": "63",
                                    "Name": "Tim Anderson",
                                    "Team": "CHW",
                                    "Games": "123",
                                    "AtBats": "498",
                                    "Runs": "81",
                                    "Hits": "167",
                                    "Doubles": "32",
                                    "Triples": "0",
                                    "Homers": "18",
                                    "RBIs": "56"
                                },
                                {
                                    "Num": "64",
                                    "Name": "Tyler Anderson",
                                    "Team": "COL",
                                    "Games": "5",
                                    "AtBats": "7",
                                    "Runs": "1",
                                    "Hits": "1",
                                    "Doubles": "0",
                                    "Triples": "0",
                                    "Homers": "0",
                                    "RBIs": "0"
                                },
                                {
                                    "Num": "66",
                                    "Name": "Elvis Andrus",
                                    "Team": "TEX",
                                    "Games": "147",
                                    "AtBats": "600",
                                    "Runs": "81",
                                    "Hits": "165",
                                    "Doubles": "27",
                                    "Triples": "4",
                                    "Homers": "12",
                                    "RBIs": "72"
                                },
                                {
                                    "Num": "67",
                                    "Name": "Miguel Andujar",
                                    "Team": "NYY",
                                    "Games": "12",
                                    "AtBats": "47",
                                    "Runs": "1",
                                    "Hits": "6",
                                    "Doubles": "0",
                                    "Triples": "0",
                                    "Homers": "0",
                                    "RBIs": "1"
                                },
                                {
                                    "Num": "68",
                                    "Name": "Aristides Aquino",
                                    "Team": "CIN",
                                    "Games": "56",
                                    "AtBats": "205",
                                    "Runs": "31",
                                    "Hits": "53",
                                    "Doubles": "8",
                                    "Triples": "0",
                                    "Homers": "19",
                                    "RBIs": "47"
                                },
                                {
                                    "Num": "70",
                                    "Name": "Chris Archer",
                                    "Team": "PIT",
                                    "Games": "22",
                                    "AtBats": "35",
                                    "Runs": "1",
                                    "Hits": "4",
                                    "Doubles": "0",
                                    "Triples": "0",
                                    "Homers": "0",
                                    "RBIs": "2"
                                },
                                {
                                    "Num": "71",
                                    "Name": "Orlando Arcia",
                                    "Team": "MIL",
                                    "Games": "152",
                                    "AtBats": "494",
                                    "Runs": "51",
                                    "Hits": "110",
                                    "Doubles": "16",
                                    "Triples": "1",
                                    "Homers": "15",
                                    "RBIs": "59"
                                },
                                {
                                    "Num": "72",
                                    "Name": "Nolan Arenado",
                                    "Team": "COL",
                                    "Games": "155",
                                    "AtBats": "588",
                                    "Runs": "102",
                                    "Hits": "185",
                                    "Doubles": "31",
                                    "Triples": "2",
                                    "Homers": "41",
                                    "RBIs": "118"
                                },
                                {
                                    "Num": "75",
                                    "Name": "Randy Arozarena",
                                    "Team": "STL",
                                    "Games": "19",
                                    "AtBats": "20",
                                    "Runs": "4",
                                    "Hits": "6",
                                    "Doubles": "1",
                                    "Triples": "0",
                                    "Homers": "1",
                                    "RBIs": "2"
                                },
                                {
                                    "Num": "76",
                                    "Name": "Luis Arraez",
                                    "Team": "MIN",
                                    "Games": "92",
                                    "AtBats": "326",
                                    "Runs": "54",
                                    "Hits": "109",
                                    "Doubles": "20",
                                    "Triples": "1",
                                    "Homers": "4",
                                    "RBIs": "28"
                                },
                                {
                                    "Num": "77",
                                    "Name": "Jake Arrieta",
                                    "Team": "PHI",
                                    "Games": "23",
                                    "AtBats": "45",
                                    "Runs": "2",
                                    "Hits": "7",
                                    "Doubles": "1",
                                    "Triples": "0",
                                    "Homers": "0",
                                    "RBIs": "4"
                                },
                                {
                                    "Num": "78",
                                    "Name": "Christian Arroyo",
                                    "Team": "TBR",
                                    "Games": "16",
                                    "AtBats": "50",
                                    "Runs": "8",
                                    "Hits": "11",
                                    "Doubles": "2",
                                    "Triples": "0",
                                    "Homers": "2",
                                    "RBIs": "7"
                                },
                                {
                                    "Num": "79",
                                    "Name": "Humberto Arteaga",
                                    "Team": "KCR",
                                    "Games": "41",
                                    "AtBats": "122",
                                    "Runs": "11",
                                    "Hits": "24",
                                    "Doubles": "4",
                                    "Triples": "0",
                                    "Homers": "0",
                                    "RBIs": "4"
                                },
                                {
                                    "Num": "80",
                                    "Name": "Willians Astudillo",
                                    "Team": "MIN",
                                    "Games": "58",
                                    "AtBats": "190",
                                    "Runs": "28",
                                    "Hits": "51",
                                    "Doubles": "9",
                                    "Triples": "0",
                                    "Homers": "4",
                                    "RBIs": "21"
                                },
                                {
                                    "Num": "83",
                                    "Name": "Tyler Austin",
                                    "Team": "MIN",
                                    "Games": "2",
                                    "AtBats": "4",
                                    "Runs": "1",
                                    "Hits": "1",
                                    "Doubles": "1",
                                    "Triples": "0",
                                    "Homers": "0",
                                    "RBIs": "0"
                                },
                                {
                                    "Num": "84",
                                    "Name": "Tyler Austin",
                                    "Team": "SFG",
                                    "Games": "70",
                                    "AtBats": "130",
                                    "Runs": "24",
                                    "Hits": "24",
                                    "Doubles": "2",
                                    "Triples": "1",
                                    "Homers": "8",
                                    "RBIs": "20"
                                },
                                {
                                    "Num": "85",
                                    "Name": "Tyler Austin",
                                    "Team": "MIL",
                                    "Games": "17",
                                    "AtBats": "20",
                                    "Runs": "5",
                                    "Hits": "4",
                                    "Doubles": "2",
                                    "Triples": "0",
                                    "Homers": "1",
                                    "RBIs": "4"
                                },
                                {
                                    "Num": "86",
                                    "Name": "Abiatal Avelino",
                                    "Team": "SFG",
                                    "Games": "4",
                                    "AtBats": "7",
                                    "Runs": "0",
                                    "Hits": "2",
                                    "Doubles": "0",
                                    "Triples": "0",
                                    "Homers": "0",
                                    "RBIs": "1"
                                },
                                {
                                    "Num": "87",
                                    "Name": "Alex Avila",
                                    "Team": "ARI",
                                    "Games": "63",
                                    "AtBats": "164",
                                    "Runs": "22",
                                    "Hits": "34",
                                    "Doubles": "8",
                                    "Triples": "0",
                                    "Homers": "9",
                                    "RBIs": "24"
                                },
                                {
                                    "Num": "90",
                                    "Name": "Harrison Bader",
                                    "Team": "STL",
                                    "Games": "128",
                                    "AtBats": "347",
                                    "Runs": "54",
                                    "Hits": "71",
                                    "Doubles": "14",
                                    "Triples": "3",
                                    "Homers": "12",
                                    "RBIs": "39"
                                },
                                {
                                    "Num": "91",
                                    "Name": "Javier Baez",
                                    "Team": "CHC",
                                    "Games": "138",
                                    "AtBats": "531",
                                    "Runs": "89",
                                    "Hits": "149",
                                    "Doubles": "38",
                                    "Triples": "4",
                                    "Homers": "29",
                                    "RBIs": "85"
                                },
                                {
                                    "Num": "96",
                                    "Name": "Homer Bailey",
                                    "Team": "OAK",
                                    "Games": "2",
                                    "AtBats": "4",
                                    "Runs": "0",
                                    "Hits": "2",
                                    "Doubles": "0",
                                    "Triples": "0",
                                    "Homers": "0",
                                    "RBIs": "1"
                                },
                                {
                                    "Num": "100",
                                    "Name": "Austin Barnes",
                                    "Team": "LAD",
                                    "Games": "75",
                                    "AtBats": "212",
                                    "Runs": "28",
                                    "Hits": "43",
                                    "Doubles": "12",
                                    "Triples": "1",
                                    "Homers": "5",
                                    "RBIs": "25"
                                },
                                {
                                    "Num": "106",
                                    "Name": "Tucker Barnhart",
                                    "Team": "CIN",
                                    "Games": "114",
                                    "AtBats": "316",
                                    "Runs": "32",
                                    "Hits": "73",
                                    "Doubles": "14",
                                    "Triples": "0",
                                    "Homers": "11",
                                    "RBIs": "40"
                                },
                                {
                                    "Num": "107",
                                    "Name": "Steven Baron",
                                    "Team": "PIT",
                                    "Games": "7",
                                    "AtBats": "10",
                                    "Runs": "0",
                                    "Hits": "2",
                                    "Doubles": "1",
                                    "Triples": "0",
                                    "Homers": "0",
                                    "RBIs": "1"
                                },
                                {
                                    "Num": "112",
                                    "Name": "Franklin Barreto",
                                    "Team": "OAK",
                                    "Games": "23",
                                    "AtBats": "57",
                                    "Runs": "6",
                                    "Hits": "7",
                                    "Doubles": "2",
                                    "Triples": "0",
                                    "Homers": "2",
                                    "RBIs": "5"
                                },
                                {
                                    "Num": "119",
                                    "Name": "Trevor Bauer",
                                    "Team": "CLE",
                                    "Games": "2",
                                    "AtBats": "5",
                                    "Runs": "0",
                                    "Hits": "1",
                                    "Doubles": "0",
                                    "Triples": "0",
                                    "Homers": "0",
                                    "RBIs": "0"
                                },
                                {
                                    "Num": "120",
                                    "Name": "Trevor Bauer",
                                    "Team": "CIN",
                                    "Games": "9",
                                    "AtBats": "14",
                                    "Runs": "1",
                                    "Hits": "2",
                                    "Doubles": "0",
                                    "Triples": "0",
                                    "Homers": "0",
                                    "RBIs": "0"
                                },
                                {
                                    "Num": "121",
                                    "Name": "Jake Bauers",
                                    "Team": "CLE",
                                    "Games": "117",
                                    "AtBats": "372",
                                    "Runs": "46",
                                    "Hits": "84",
                                    "Doubles": "16",
                                    "Triples": "1",
                                    "Homers": "12",
                                    "RBIs": "43"
                                },
                                {
                                    "Num": "122",
                                    "Name": "Matt Beaty",
                                    "Team": "LAD",
                                    "Games": "99",
                                    "AtBats": "249",
                                    "Runs": "36",
                                    "Hits": "66",
                                    "Doubles": "19",
                                    "Triples": "1",
                                    "Homers": "9",
                                    "RBIs": "46"
                                },
                                {
                                    "Num": "123",
                                    "Name": "Gordon Beckham",
                                    "Team": "DET",
                                    "Games": "83",
                                    "AtBats": "223",
                                    "Runs": "29",
                                    "Hits": "48",
                                    "Doubles": "13",
                                    "Triples": "2",
                                    "Homers": "6",
                                    "RBIs": "15"
                                },
                                {
                                    "Num": "124",
                                    "Name": "Tim Beckham",
                                    "Team": "SEA",
                                    "Games": "88",
                                    "AtBats": "304",
                                    "Runs": "39",
                                    "Hits": "72",
                                    "Doubles": "21",
                                    "Triples": "1",
                                    "Homers": "15",
                                    "RBIs": "47"
                                },
                                {
                                    "Num": "127",
                                    "Name": "Tyler Beede",
                                    "Team": "SFG",
                                    "Games": "25",
                                    "AtBats": "38",
                                    "Runs": "2",
                                    "Hits": "4",
                                    "Doubles": "0",
                                    "Triples": "0",
                                    "Homers": "0",
                                    "RBIs": "1"
                                },
                                {
                                    "Num": "129",
                                    "Name": "Josh Bell",
                                    "Team": "PIT",
                                    "Games": "143",
                                    "AtBats": "527",
                                    "Runs": "94",
                                    "Hits": "146",
                                    "Doubles": "37",
                                    "Triples": "3",
                                    "Homers": "37",
                                    "RBIs": "116"
                                },
                                {
                                    "Num": "130",
                                    "Name": "Cody Bellinger",
                                    "Team": "LAD",
                                    "Games": "156",
                                    "AtBats": "558",
                                    "Runs": "121",
                                    "Hits": "170",
                                    "Doubles": "34",
                                    "Triples": "3",
                                    "Homers": "47",
                                    "RBIs": "115"
                                },
                                {
                                    "Num": "131",
                                    "Name": "Brandon Belt",
                                    "Team": "SFG",
                                    "Games": "156",
                                    "AtBats": "526",
                                    "Runs": "76",
                                    "Hits": "123",
                                    "Doubles": "32",
                                    "Triples": "3",
                                    "Homers": "17",
                                    "RBIs": "57"
                                },
                                {
                                    "Num": "133",
                                    "Name": "Anthony Bemboom",
                                    "Team": "TBR",
                                    "Games": "3",
                                    "AtBats": "5",
                                    "Runs": "0",
                                    "Hits": "2",
                                    "Doubles": "1",
                                    "Triples": "0",
                                    "Homers": "0",
                                    "RBIs": "1"
                                },
                                {
                                    "Num": "134",
                                    "Name": "Anthony Bemboom",
                                    "Team": "LAA",
                                    "Games": "22",
                                    "AtBats": "49",
                                    "Runs": "2",
                                    "Hits": "5",
                                    "Doubles": "0",
                                    "Triples": "0",
                                    "Homers": "1",
                                    "RBIs": "3"
                                },
                                {
                                    "Num": "135",
                                    "Name": "Andrew Benintendi",
                                    "Team": "BOS",
                                    "Games": "138",
                                    "AtBats": "541",
                                    "Runs": "72",
                                    "Hits": "144",
                                    "Doubles": "40",
                                    "Triples": "5",
                                    "Homers": "13",
                                    "RBIs": "68"
                                },
                                {
                                    "Num": "138",
                                    "Name": "Jon Berti",
                                    "Team": "MIA",
                                    "Games": "73",
                                    "AtBats": "256",
                                    "Runs": "52",
                                    "Hits": "70",
                                    "Doubles": "14",
                                    "Triples": "1",
                                    "Homers": "6",
                                    "RBIs": "24"
                                },
                                {
                                    "Num": "140",
                                    "Name": "Mookie Betts",
                                    "Team": "BOS",
                                    "Games": "150",
                                    "AtBats": "597",
                                    "Runs": "135",
                                    "Hits": "176",
                                    "Doubles": "40",
                                    "Triples": "5",
                                    "Homers": "29",
                                    "RBIs": "80"
                                },
                                {
                                    "Num": "144",
                                    "Name": "Bo Bichette",
                                    "Team": "TOR",
                                    "Games": "46",
                                    "AtBats": "196",
                                    "Runs": "32",
                                    "Hits": "61",
                                    "Doubles": "18",
                                    "Triples": "0",
                                    "Homers": "11",
                                    "RBIs": "21"
                                },
                                {
                                    "Num": "148",
                                    "Name": "Cavan Biggio",
                                    "Team": "TOR",
                                    "Games": "100",
                                    "AtBats": "354",
                                    "Runs": "66",
                                    "Hits": "83",
                                    "Doubles": "17",
                                    "Triples": "2",
                                    "Homers": "16",
                                    "RBIs": "48"
                                },
                                {
                                    "Num": "149",
                                    "Name": "Greg Bird",
                                    "Team": "NYY",
                                    "Games": "10",
                                    "AtBats": "35",
                                    "Runs": "6",
                                    "Hits": "6",
                                    "Doubles": "0",
                                    "Triples": "0",
                                    "Homers": "1",
                                    "RBIs": "1"
                                },
                                {
                                    "Num": "151",
                                    "Name": "Braden Bishop",
                                    "Team": "SEA",
                                    "Games": "27",
                                    "AtBats": "56",
                                    "Runs": "3",
                                    "Hits": "6",
                                    "Doubles": "0",
                                    "Triples": "0",
                                    "Homers": "0",
                                    "RBIs": "4"
                                },
                                {
                                    "Num": "157",
                                    "Name": "Charlie Blackmon",
                                    "Team": "COL",
                                    "Games": "140",
                                    "AtBats": "580",
                                    "Runs": "112",
                                    "Hits": "182",
                                    "Doubles": "42",
                                    "Triples": "7",
                                    "Homers": "32",
                                    "RBIs": "86"
                                },
                                {
                                    "Num": "158",
                                    "Name": "Alex Blandino",
                                    "Team": "CIN",
                                    "Games": "23",
                                    "AtBats": "36",
                                    "Runs": "6",
                                    "Hits": "9",
                                    "Doubles": "1",
                                    "Triples": "0",
                                    "Homers": "1",
                                    "RBIs": "3"
                                },
                                {
                                    "Num": "162",
                                    "Name": "Xander Bogaerts",
                                    "Team": "BOS",
                                    "Games": "155",
                                    "AtBats": "614",
                                    "Runs": "110",
                                    "Hits": "190",
                                    "Doubles": "52",
                                    "Triples": "0",
                                    "Homers": "33",
                                    "RBIs": "117"
                                },
                                {
                                    "Num": "164",
                                    "Name": "Skye Bolt",
                                    "Team": "OAK",
                                    "Games": "5",
                                    "AtBats": "10",
                                    "Runs": "1",
                                    "Hits": "1",
                                    "Doubles": "1",
                                    "Triples": "0",
                                    "Homers": "0",
                                    "RBIs": "0"
                                },
                                {
                                    "Num": "165",
                                    "Name": "Jorge Bonifacio",
                                    "Team": "KCR",
                                    "Games": "5",
                                    "AtBats": "20",
                                    "Runs": "3",
                                    "Hits": "7",
                                    "Doubles": "3",
                                    "Triples": "0",
                                    "Homers": "0",
                                    "RBIs": "3"
                                },
                                {
                                    "Num": "167",
                                    "Name": "David Bote",
                                    "Team": "CHC",
                                    "Games": "127",
                                    "AtBats": "303",
                                    "Runs": "47",
                                    "Hits": "78",
                                    "Doubles": "17",
                                    "Triples": "0",
                                    "Homers": "11",
                                    "RBIs": "41"
                                },
                                {
                                    "Num": "168",
                                    "Name": "Justin Bour",
                                    "Team": "LAA",
                                    "Games": "52",
                                    "AtBats": "151",
                                    "Runs": "18",
                                    "Hits": "26",
                                    "Doubles": "5",
                                    "Triples": "0",
                                    "Homers": "8",
                                    "RBIs": "26"
                                },
                                {
                                    "Num": "169",
                                    "Name": "Peter Bourjos",
                                    "Team": "LAA",
                                    "Games": "26",
                                    "AtBats": "44",
                                    "Runs": "4",
                                    "Hits": "4",
                                    "Doubles": "1",
                                    "Triples": "0",
                                    "Homers": "0",
                                    "RBIs": "2"
                                },
                                {
                                    "Num": "173",
                                    "Name": "Matthew Boyd",
                                    "Team": "DET",
                                    "Games": "1",
                                    "AtBats": "2",
                                    "Runs": "0",
                                    "Hits": "1",
                                    "Doubles": "0",
                                    "Triples": "0",
                                    "Homers": "0",
                                    "RBIs": "0"
                                },
                                {
                                    "Num": "175",
                                    "Name": "Brad Brach",
                                    "Team": "CHC",
                                    "Games": "39",
                                    "AtBats": "4",
                                    "Runs": "0",
                                    "Hits": "1",
                                    "Doubles": "0",
                                    "Triples": "0",
                                    "Homers": "0",
                                    "RBIs": "1"
                                },
                                {
                                    "Num": "179",
                                    "Name": "Bobby Bradley",
                                    "Team": "CLE",
                                    "Games": "15",
                                    "AtBats": "45",
                                    "Runs": "4",
                                    "Hits": "8",
                                    "Doubles": "5",
                                    "Triples": "0",
                                    "Homers": "1",
                                    "RBIs": "4"
                                },
                                {
                                    "Num": "180",
                                    "Name": "Jackie Bradley Jr.",
                                    "Team": "BOS",
                                    "Games": "147",
                                    "AtBats": "494",
                                    "Runs": "69",
                                    "Hits": "111",
                                    "Doubles": "28",
                                    "Triples": "3",
                                    "Homers": "21",
                                    "RBIs": "62"
                                },
                                {
                                    "Num": "181",
                                    "Name": "Michael Brantley",
                                    "Team": "HOU",
                                    "Games": "148",
                                    "AtBats": "575",
                                    "Runs": "88",
                                    "Hits": "179",
                                    "Doubles": "40",
                                    "Triples": "2",
                                    "Homers": "22",
                                    "RBIs": "90"
                                },
                                {
                                    "Num": "184",
                                    "Name": "Steven Brault",
                                    "Team": "PIT",
                                    "Games": "33",
                                    "AtBats": "42",
                                    "Runs": "8",
                                    "Hits": "14",
                                    "Doubles": "1",
                                    "Triples": "0",
                                    "Homers": "1",
                                    "RBIs": "2"
                                },
                                {
                                    "Num": "185",
                                    "Name": "Ryan Braun",
                                    "Team": "MIL",
                                    "Games": "144",
                                    "AtBats": "459",
                                    "Runs": "70",
                                    "Hits": "131",
                                    "Doubles": "31",
                                    "Triples": "2",
                                    "Homers": "22",
                                    "RBIs": "75"
                                },
                                {
                                    "Num": "186",
                                    "Name": "John Brebbia",
                                    "Team": "STL",
                                    "Games": "63",
                                    "AtBats": "1",
                                    "Runs": "1",
                                    "Hits": "1",
                                    "Doubles": "0",
                                    "Triples": "0",
                                    "Homers": "0",
                                    "RBIs": "0"
                                },
                                {
                                    "Num": "187",
                                    "Name": "Alex Bregman",
                                    "Team": "HOU",
                                    "Games": "156",
                                    "AtBats": "554",
                                    "Runs": "122",
                                    "Hits": "164",
                                    "Doubles": "37",
                                    "Triples": "2",
                                    "Homers": "41",
                                    "RBIs": "112"
                                },
                                {
                                    "Num": "192",
                                    "Name": "Lewis Brinson",
                                    "Team": "MIA",
                                    "Games": "75",
                                    "AtBats": "226",
                                    "Runs": "15",
                                    "Hits": "39",
                                    "Doubles": "9",
                                    "Triples": "1",
                                    "Homers": "0",
                                    "RBIs": "15"
                                },
                                {
                                    "Num": "193",
                                    "Name": "Socrates Brito",
                                    "Team": "TOR",
                                    "Games": "17",
                                    "AtBats": "39",
                                    "Runs": "5",
                                    "Hits": "3",
                                    "Doubles": "0",
                                    "Triples": "1",
                                    "Homers": "0",
                                    "RBIs": "2"
                                },
                                {
                                    "Num": "197",
                                    "Name": "Mike Brosseau",
                                    "Team": "TBR",
                                    "Games": "50",
                                    "AtBats": "132",
                                    "Runs": "17",
                                    "Hits": "36",
                                    "Doubles": "7",
                                    "Triples": "0",
                                    "Homers": "6",
                                    "RBIs": "16"
                                },
                                {
                                    "Num": "198",
                                    "Name": "Seth Brown",
                                    "Team": "OAK",
                                    "Games": "26",
                                    "AtBats": "75",
                                    "Runs": "11",
                                    "Hits": "22",
                                    "Doubles": "8",
                                    "Triples": "2",
                                    "Homers": "0",
                                    "RBIs": "13"
                                },
                                {
                                    "Num": "201",
                                    "Name": "Keon Broxton",
                                    "Team": "BAL",
                                    "Games": "37",
                                    "AtBats": "103",
                                    "Runs": "14",
                                    "Hits": "21",
                                    "Doubles": "3",
                                    "Triples": "0",
                                    "Homers": "4",
                                    "RBIs": "9"
                                },
                                {
                                    "Num": "202",
                                    "Name": "Keon Broxton",
                                    "Team": "SEA",
                                    "Games": "29",
                                    "AtBats": "52",
                                    "Runs": "5",
                                    "Hits": "6",
                                    "Doubles": "0",
                                    "Triples": "0",
                                    "Homers": "2",
                                    "RBIs": "5"
                                },
                                {
                                    "Num": "203",
                                    "Name": "Keon Broxton",
                                    "Team": "NYM",
                                    "Games": "34",
                                    "AtBats": "49",
                                    "Runs": "5",
                                    "Hits": "7",
                                    "Doubles": "1",
                                    "Triples": "0",
                                    "Homers": "0",
                                    "RBIs": "2"
                                },
                                {
                                    "Num": "205",
                                    "Name": "Jay Bruce",
                                    "Team": "SEA",
                                    "Games": "47",
                                    "AtBats": "165",
                                    "Runs": "27",
                                    "Hits": "35",
                                    "Doubles": "11",
                                    "Triples": "0",
                                    "Homers": "14",
                                    "RBIs": "28"
                                },
                                {
                                    "Num": "206",
                                    "Name": "Jay Bruce",
                                    "Team": "PHI",
                                    "Games": "51",
                                    "AtBats": "145",
                                    "Runs": "16",
                                    "Hits": "32",
                                    "Doubles": "6",
                                    "Triples": "0",
                                    "Homers": "12",
                                    "RBIs": "31"
                                },
                                {
                                    "Num": "207",
                                    "Name": "Kris Bryant",
                                    "Team": "CHC",
                                    "Games": "147",
                                    "AtBats": "543",
                                    "Runs": "108",
                                    "Hits": "153",
                                    "Doubles": "35",
                                    "Triples": "1",
                                    "Homers": "31",
                                    "RBIs": "77"
                                },
                                {
                                    "Num": "209",
                                    "Name": "Walker Buehler",
                                    "Team": "LAD",
                                    "Games": "29",
                                    "AtBats": "59",
                                    "Runs": "5",
                                    "Hits": "5",
                                    "Doubles": "0",
                                    "Triples": "0",
                                    "Homers": "1",
                                    "RBIs": "2"
                                },
                                {
                                    "Num": "210",
                                    "Name": "Madison Bumgarner",
                                    "Team": "SFG",
                                    "Games": "35",
                                    "AtBats": "63",
                                    "Runs": "4",
                                    "Hits": "8",
                                    "Doubles": "0",
                                    "Triples": "0",
                                    "Homers": "2",
                                    "RBIs": "4"
                                },
                                {
                                    "Num": "214",
                                    "Name": "Corbin Burnes",
                                    "Team": "MIL",
                                    "Games": "30",
                                    "AtBats": "7",
                                    "Runs": "0",
                                    "Hits": "2",
                                    "Doubles": "0",
                                    "Triples": "0",
                                    "Homers": "0",
                                    "RBIs": "0"
                                },
                                {
                                    "Num": "215",
                                    "Name": "Drew Butera",
                                    "Team": "COL",
                                    "Games": "16",
                                    "AtBats": "43",
                                    "Runs": "6",
                                    "Hits": "7",
                                    "Doubles": "3",
                                    "Triples": "0",
                                    "Homers": "0",
                                    "RBIs": "3"
                                },
                                {
                                    "Num": "217",
                                    "Name": "Byron Buxton",
                                    "Team": "MIN",
                                    "Games": "87",
                                    "AtBats": "271",
                                    "Runs": "48",
                                    "Hits": "71",
                                    "Doubles": "30",
                                    "Triples": "4",
                                    "Homers": "10",
                                    "RBIs": "46"
                                },
                                {
                                    "Num": "219",
                                    "Name": "Asdrubal Cabrera",
                                    "Team": "TEX",
                                    "Games": "93",
                                    "AtBats": "323",
                                    "Runs": "45",
                                    "Hits": "76",
                                    "Doubles": "15",
                                    "Triples": "0",
                                    "Homers": "12",
                                    "RBIs": "51"
                                },
                                {
                                    "Num": "220",
                                    "Name": "Asdrubal Cabrera",
                                    "Team": "WSN",
                                    "Games": "38",
                                    "AtBats": "124",
                                    "Runs": "24",
                                    "Hits": "40",
                                    "Doubles": "10",
                                    "Triples": "1",
                                    "Homers": "6",
                                    "RBIs": "40"
                                },
                                {
                                    "Num": "222",
                                    "Name": "Melky Cabrera",
                                    "Team": "PIT",
                                    "Games": "133",
                                    "AtBats": "378",
                                    "Runs": "43",
                                    "Hits": "106",
                                    "Doubles": "22",
                                    "Triples": "1",
                                    "Homers": "7",
                                    "RBIs": "47"
                                },
                                {
                                    "Num": "223",
                                    "Name": "Miguel Cabrera",
                                    "Team": "DET",
                                    "Games": "136",
                                    "AtBats": "493",
                                    "Runs": "41",
                                    "Hits": "139",
                                    "Doubles": "21",
                                    "Triples": "0",
                                    "Homers": "12",
                                    "RBIs": "59"
                                },
                                {
                                    "Num": "224",
                                    "Name": "Trevor Cahill",
                                    "Team": "LAA",
                                    "Games": "2",
                                    "AtBats": "3",
                                    "Runs": "0",
                                    "Hits": "1",
                                    "Doubles": "0",
                                    "Triples": "0",
                                    "Homers": "0",
                                    "RBIs": "0"
                                },
                                {
                                    "Num": "225",
                                    "Name": "Lorenzo Cain",
                                    "Team": "MIL",
                                    "Games": "148",
                                    "AtBats": "562",
                                    "Runs": "75",
                                    "Hits": "146",
                                    "Doubles": "30",
                                    "Triples": "0",
                                    "Homers": "11",
                                    "RBIs": "48"
                                },
                                {
                                    "Num": "226",
                                    "Name": "Kole Calhoun",
                                    "Team": "LAA",
                                    "Games": "152",
                                    "AtBats": "552",
                                    "Runs": "92",
                                    "Hits": "128",
                                    "Doubles": "29",
                                    "Triples": "1",
                                    "Homers": "33",
                                    "RBIs": "74"
                                },
                                {
                                    "Num": "227",
                                    "Name": "Willie Calhoun",
                                    "Team": "TEX",
                                    "Games": "83",
                                    "AtBats": "309",
                                    "Runs": "51",
                                    "Hits": "83",
                                    "Doubles": "14",
                                    "Triples": "1",
                                    "Homers": "21",
                                    "RBIs": "48"
                                },
                                {
                                    "Num": "228",
                                    "Name": "Johan Camargo",
                                    "Team": "ATL",
                                    "Games": "98",
                                    "AtBats": "232",
                                    "Runs": "31",
                                    "Hits": "54",
                                    "Doubles": "12",
                                    "Triples": "1",
                                    "Homers": "7",
                                    "RBIs": "32"
                                },
                                {
                                    "Num": "229",
                                    "Name": "Jeimer Candelario",
                                    "Team": "DET",
                                    "Games": "94",
                                    "AtBats": "335",
                                    "Runs": "33",
                                    "Hits": "68",
                                    "Doubles": "17",
                                    "Triples": "2",
                                    "Homers": "8",
                                    "RBIs": "32"
                                },
                                {
                                    "Num": "230",
                                    "Name": "Mark Canha",
                                    "Team": "OAK",
                                    "Games": "126",
                                    "AtBats": "410",
                                    "Runs": "80",
                                    "Hits": "112",
                                    "Doubles": "16",
                                    "Triples": "3",
                                    "Homers": "26",
                                    "RBIs": "58"
                                },
                                {
                                    "Num": "232",
                                    "Name": "Robinson Cano",
                                    "Team": "NYM",
                                    "Games": "107",
                                    "AtBats": "390",
                                    "Runs": "46",
                                    "Hits": "100",
                                    "Doubles": "28",
                                    "Triples": "0",
                                    "Homers": "13",
                                    "RBIs": "39"
                                },
                                {
                                    "Num": "234",
                                    "Name": "Victor Caratini",
                                    "Team": "CHC",
                                    "Games": "95",
                                    "AtBats": "244",
                                    "Runs": "31",
                                    "Hits": "65",
                                    "Doubles": "11",
                                    "Triples": "0",
                                    "Homers": "11",
                                    "RBIs": "34"
                                },
                                {
                                    "Num": "236",
                                    "Name": "Matt Carpenter",
                                    "Team": "STL",
                                    "Games": "129",
                                    "AtBats": "416",
                                    "Runs": "59",
                                    "Hits": "94",
                                    "Doubles": "20",
                                    "Triples": "2",
                                    "Homers": "15",
                                    "RBIs": "46"
                                },
                                {
                                    "Num": "239",
                                    "Name": "Curt Casali",
                                    "Team": "CIN",
                                    "Games": "84",
                                    "AtBats": "207",
                                    "Runs": "24",
                                    "Hits": "52",
                                    "Doubles": "9",
                                    "Triples": "0",
                                    "Homers": "8",
                                    "RBIs": "32"
                                },
                                {
                                    "Num": "244",
                                    "Name": "Nicholas Castellanos",
                                    "Team": "DET",
                                    "Games": "100",
                                    "AtBats": "403",
                                    "Runs": "57",
                                    "Hits": "110",
                                    "Doubles": "37",
                                    "Triples": "3",
                                    "Homers": "11",
                                    "RBIs": "37"
                                },
                                {
                                    "Num": "245",
                                    "Name": "Nicholas Castellanos",
                                    "Team": "CHC",
                                    "Games": "51",
                                    "AtBats": "212",
                                    "Runs": "43",
                                    "Hits": "68",
                                    "Doubles": "21",
                                    "Triples": "0",
                                    "Homers": "16",
                                    "RBIs": "36"
                                },
                                {
                                    "Num": "248",
                                    "Name": "Luis Castillo",
                                    "Team": "CIN",
                                    "Games": "31",
                                    "AtBats": "62",
                                    "Runs": "3",
                                    "Hits": "6",
                                    "Doubles": "1",
                                    "Triples": "0",
                                    "Homers": "0",
                                    "RBIs": "0"
                                },
                                {
                                    "Num": "249",
                                    "Name": "Welington Castillo",
                                    "Team": "CHW",
                                    "Games": "72",
                                    "AtBats": "230",
                                    "Runs": "19",
                                    "Hits": "48",
                                    "Doubles": "12",
                                    "Triples": "0",
                                    "Homers": "12",
                                    "RBIs": "41"
                                },
                                {
                                    "Num": "250",
                                    "Name": "Wilkin Castillo",
                                    "Team": "MIA",
                                    "Games": "2",
                                    "AtBats": "7",
                                    "Runs": "0",
                                    "Hits": "1",
                                    "Doubles": "1",
                                    "Triples": "0",
                                    "Homers": "0",
                                    "RBIs": "2"
                                },
                                {
                                    "Num": "251",
                                    "Name": "Harold Castro",
                                    "Team": "DET",
                                    "Games": "97",
                                    "AtBats": "354",
                                    "Runs": "30",
                                    "Hits": "103",
                                    "Doubles": "10",
                                    "Triples": "4",
                                    "Homers": "5",
                                    "RBIs": "38"
                                },
                                {
                                    "Num": "252",
                                    "Name": "Jason Castro",
                                    "Team": "MIN",
                                    "Games": "79",
                                    "AtBats": "237",
                                    "Runs": "39",
                                    "Hits": "55",
                                    "Doubles": "9",
                                    "Triples": "0",
                                    "Homers": "13",
                                    "RBIs": "30"
                                },
                                {
                                    "Num": "254",
                                    "Name": "Starlin Castro",
                                    "Team": "MIA",
                                    "Games": "162",
                                    "AtBats": "636",
                                    "Runs": "68",
                                    "Hits": "172",
                                    "Doubles": "31",
                                    "Triples": "4",
                                    "Homers": "22",
                                    "RBIs": "86"
                                },
                                {
                                    "Num": "255",
                                    "Name": "Willi Castro",
                                    "Team": "DET",
                                    "Games": "30",
                                    "AtBats": "100",
                                    "Runs": "10",
                                    "Hits": "23",
                                    "Doubles": "6",
                                    "Triples": "1",
                                    "Homers": "1",
                                    "RBIs": "8"
                                },
                                {
                                    "Num": "256",
                                    "Name": "Jake Cave",
                                    "Team": "MIN",
                                    "Games": "72",
                                    "AtBats": "198",
                                    "Runs": "28",
                                    "Hits": "51",
                                    "Doubles": "11",
                                    "Triples": "2",
                                    "Homers": "8",
                                    "RBIs": "25"
                                },
                                {
                                    "Num": "258",
                                    "Name": "Juan Centeno",
                                    "Team": "BOS",
                                    "Games": "7",
                                    "AtBats": "15",
                                    "Runs": "0",
                                    "Hits": "2",
                                    "Doubles": "0",
                                    "Triples": "0",
                                    "Homers": "0",
                                    "RBIs": "2"
                                },
                                {
                                    "Num": "260",
                                    "Name": "Francisco Cervelli",
                                    "Team": "PIT",
                                    "Games": "34",
                                    "AtBats": "109",
                                    "Runs": "11",
                                    "Hits": "21",
                                    "Doubles": "3",
                                    "Triples": "0",
                                    "Homers": "1",
                                    "RBIs": "5"
                                },
                                {
                                    "Num": "261",
                                    "Name": "Francisco Cervelli",
                                    "Team": "ATL",
                                    "Games": "14",
                                    "AtBats": "32",
                                    "Runs": "4",
                                    "Hits": "9",
                                    "Doubles": "5",
                                    "Triples": "1",
                                    "Homers": "2",
                                    "RBIs": "7"
                                },
                                {
                                    "Num": "264",
                                    "Name": "Jhoulys Chacin",
                                    "Team": "MIL",
                                    "Games": "18",
                                    "AtBats": "24",
                                    "Runs": "2",
                                    "Hits": "3",
                                    "Doubles": "0",
                                    "Triples": "0",
                                    "Homers": "1",
                                    "RBIs": "1"
                                },
                                {
                                    "Num": "266",
                                    "Name": "Yu Chang",
                                    "Team": "CLE",
                                    "Games": "28",
                                    "AtBats": "73",
                                    "Runs": "8",
                                    "Hits": "13",
                                    "Doubles": "2",
                                    "Triples": "1",
                                    "Homers": "1",
                                    "RBIs": "6"
                                },
                                {
                                    "Num": "268",
                                    "Name": "Matt Chapman",
                                    "Team": "OAK",
                                    "Games": "156",
                                    "AtBats": "583",
                                    "Runs": "102",
                                    "Hits": "145",
                                    "Doubles": "36",
                                    "Triples": "3",
                                    "Homers": "36",
                                    "RBIs": "91"
                                },
                                {
                                    "Num": "270",
                                    "Name": "Tyler Chatwood",
                                    "Team": "CHC",
                                    "Games": "40",
                                    "AtBats": "18",
                                    "Runs": "1",
                                    "Hits": "3",
                                    "Doubles": "2",
                                    "Triples": "0",
                                    "Homers": "0",
                                    "RBIs": "1"
                                },
                                {
                                    "Num": "271",
                                    "Name": "Jesse Chavez",
                                    "Team": "TEX",
                                    "Games": "4",
                                    "AtBats": "2",
                                    "Runs": "0",
                                    "Hits": "1",
                                    "Doubles": "0",
                                    "Triples": "0",
                                    "Homers": "0",
                                    "RBIs": "0"
                                },
                                {
                                    "Num": "272",
                                    "Name": "Michael Chavis",
                                    "Team": "BOS",
                                    "Games": "95",
                                    "AtBats": "347",
                                    "Runs": "46",
                                    "Hits": "88",
                                    "Doubles": "10",
                                    "Triples": "1",
                                    "Homers": "18",
                                    "RBIs": "58"
                                },
                                {
                                    "Num": "274",
                                    "Name": "Robinson Chirinos",
                                    "Team": "HOU",
                                    "Games": "114",
                                    "AtBats": "366",
                                    "Runs": "57",
                                    "Hits": "87",
                                    "Doubles": "22",
                                    "Triples": "1",
                                    "Homers": "17",
                                    "RBIs": "58"
                                },
                                {
                                    "Num": "276",
                                    "Name": "Ji-Man Choi",
                                    "Team": "TBR",
                                    "Games": "127",
                                    "AtBats": "410",
                                    "Runs": "54",
                                    "Hits": "107",
                                    "Doubles": "20",
                                    "Triples": "2",
                                    "Homers": "19",
                                    "RBIs": "63"
                                },
                                {
                                    "Num": "277",
                                    "Name": "Shin-Soo Choo",
                                    "Team": "TEX",
                                    "Games": "151",
                                    "AtBats": "563",
                                    "Runs": "93",
                                    "Hits": "149",
                                    "Doubles": "31",
                                    "Triples": "2",
                                    "Homers": "24",
                                    "RBIs": "61"
                                },
                                {
                                    "Num": "280",
                                    "Name": "Nick Ciuffo",
                                    "Team": "TBR",
                                    "Games": "3",
                                    "AtBats": "6",
                                    "Runs": "0",
                                    "Hits": "1",
                                    "Doubles": "0",
                                    "Triples": "0",
                                    "Homers": "0",
                                    "RBIs": "0"
                                },
                                {
                                    "Num": "282",
                                    "Name": "Taylor Clarke",
                                    "Team": "ARI",
                                    "Games": "21",
                                    "AtBats": "24",
                                    "Runs": "2",
                                    "Hits": "6",
                                    "Doubles": "0",
                                    "Triples": "0",
                                    "Homers": "1",
                                    "RBIs": "2"
                                },
                                {
                                    "Num": "290",
                                    "Name": "Zack Collins",
                                    "Team": "CHW",
                                    "Games": "27",
                                    "AtBats": "86",
                                    "Runs": "10",
                                    "Hits": "16",
                                    "Doubles": "3",
                                    "Triples": "1",
                                    "Homers": "3",
                                    "RBIs": "12"
                                },
                                {
                                    "Num": "292",
                                    "Name": "Christian Colon",
                                    "Team": "CIN",
                                    "Games": "8",
                                    "AtBats": "6",
                                    "Runs": "1",
                                    "Hits": "3",
                                    "Doubles": "0",
                                    "Triples": "0",
                                    "Homers": "0",
                                    "RBIs": "1"
                                },
                                {
                                    "Num": "293",
                                    "Name": "Michael Conforto",
                                    "Team": "NYM",
                                    "Games": "151",
                                    "AtBats": "549",
                                    "Runs": "90",
                                    "Hits": "141",
                                    "Doubles": "29",
                                    "Triples": "1",
                                    "Homers": "33",
                                    "RBIs": "92"
                                },
                                {
                                    "Num": "295",
                                    "Name": "Willson Contreras",
                                    "Team": "CHC",
                                    "Games": "105",
                                    "AtBats": "360",
                                    "Runs": "57",
                                    "Hits": "98",
                                    "Doubles": "18",
                                    "Triples": "2",
                                    "Homers": "24",
                                    "RBIs": "64"
                                },
                                {
                                    "Num": "297",
                                    "Name": "Garrett Cooper",
                                    "Team": "MIA",
                                    "Games": "107",
                                    "AtBats": "381",
                                    "Runs": "52",
                                    "Hits": "107",
                                    "Doubles": "16",
                                    "Triples": "1",
                                    "Homers": "15",
                                    "RBIs": "50"
                                },
                                {
                                    "Num": "298",
                                    "Name": "Patrick Corbin",
                                    "Team": "WSN",
                                    "Games": "31",
                                    "AtBats": "65",
                                    "Runs": "3",
                                    "Hits": "6",
                                    "Doubles": "1",
                                    "Triples": "0",
                                    "Homers": "0",
                                    "RBIs": "4"
                                },
                                {
                                    "Num": "299",
                                    "Name": "Ryan Cordell",
                                    "Team": "CHW",
                                    "Games": "97",
                                    "AtBats": "217",
                                    "Runs": "22",
                                    "Hits": "48",
                                    "Doubles": "8",
                                    "Triples": "0",
                                    "Homers": "7",
                                    "RBIs": "24"
                                },
                                {
                                    "Num": "300",
                                    "Name": "Franchy Cordero",
                                    "Team": "SDP",
                                    "Games": "9",
                                    "AtBats": "15",
                                    "Runs": "2",
                                    "Hits": "5",
                                    "Doubles": "1",
                                    "Triples": "0",
                                    "Homers": "0",
                                    "RBIs": "1"
                                },
                                {
                                    "Num": "303",
                                    "Name": "Carlos Correa",
                                    "Team": "HOU",
                                    "Games": "75",
                                    "AtBats": "280",
                                    "Runs": "42",
                                    "Hits": "78",
                                    "Doubles": "16",
                                    "Triples": "1",
                                    "Homers": "21",
                                    "RBIs": "59"
                                },
                                {
                                    "Num": "305",
                                    "Name": "Ryan Court",
                                    "Team": "SEA",
                                    "Games": "12",
                                    "AtBats": "24",
                                    "Runs": "1",
                                    "Hits": "5",
                                    "Doubles": "1",
                                    "Triples": "0",
                                    "Homers": "1",
                                    "RBIs": "5"
                                },
                                {
                                    "Num": "307",
                                    "Name": "Kaleb Cowart",
                                    "Team": "LAA",
                                    "Games": "9",
                                    "AtBats": "25",
                                    "Runs": "1",
                                    "Hits": "4",
                                    "Doubles": "3",
                                    "Triples": "0",
                                    "Homers": "0",
                                    "RBIs": "1"
                                },
                                {
                                    "Num": "308",
                                    "Name": "Zack Cozart",
                                    "Team": "LAA",
                                    "Games": "38",
                                    "AtBats": "97",
                                    "Runs": "4",
                                    "Hits": "12",
                                    "Doubles": "2",
                                    "Triples": "0",
                                    "Homers": "0",
                                    "RBIs": "7"
                                },
                                {
                                    "Num": "310",
                                    "Name": "Brandon Crawford",
                                    "Team": "SFG",
                                    "Games": "147",
                                    "AtBats": "500",
                                    "Runs": "58",
                                    "Hits": "114",
                                    "Doubles": "24",
                                    "Triples": "2",
                                    "Homers": "11",
                                    "RBIs": "59"
                                },
                                {
                                    "Num": "311",
                                    "Name": "J.P. Crawford",
                                    "Team": "SEA",
                                    "Games": "93",
                                    "AtBats": "345",
                                    "Runs": "43",
                                    "Hits": "78",
                                    "Doubles": "21",
                                    "Triples": "4",
                                    "Homers": "7",
                                    "RBIs": "46"
                                },
                                {
                                    "Num": "314",
                                    "Name": "C.J. Cron",
                                    "Team": "MIN",
                                    "Games": "125",
                                    "AtBats": "458",
                                    "Runs": "51",
                                    "Hits": "116",
                                    "Doubles": "24",
                                    "Triples": "0",
                                    "Homers": "25",
                                    "RBIs": "78"
                                },
                                {
                                    "Num": "315",
                                    "Name": "Kevin Cron",
                                    "Team": "ARI",
                                    "Games": "39",
                                    "AtBats": "71",
                                    "Runs": "12",
                                    "Hits": "15",
                                    "Doubles": "4",
                                    "Triples": "0",
                                    "Homers": "6",
                                    "RBIs": "16"
                                },
                                {
                                    "Num": "316",
                                    "Name": "Nelson Cruz",
                                    "Team": "MIN",
                                    "Games": "120",
                                    "AtBats": "454",
                                    "Runs": "81",
                                    "Hits": "141",
                                    "Doubles": "26",
                                    "Triples": "0",
                                    "Homers": "41",
                                    "RBIs": "108"
                                },
                                {
                                    "Num": "319",
                                    "Name": "Charlie Culberson",
                                    "Team": "ATL",
                                    "Games": "108",
                                    "AtBats": "135",
                                    "Runs": "14",
                                    "Hits": "35",
                                    "Doubles": "5",
                                    "Triples": "2",
                                    "Homers": "5",
                                    "RBIs": "20"
                                },
                                {
                                    "Num": "320",
                                    "Name": "Cheslor Cuthbert",
                                    "Team": "KCR",
                                    "Games": "87",
                                    "AtBats": "309",
                                    "Runs": "24",
                                    "Hits": "76",
                                    "Doubles": "14",
                                    "Triples": "0",
                                    "Homers": "9",
                                    "RBIs": "40"
                                },
                                {
                                    "Num": "323",
                                    "Name": "Travis d'Arnaud",
                                    "Team": "NYM",
                                    "Games": "10",
                                    "AtBats": "23",
                                    "Runs": "2",
                                    "Hits": "2",
                                    "Doubles": "0",
                                    "Triples": "0",
                                    "Homers": "0",
                                    "RBIs": "2"
                                },
                                {
                                    "Num": "325",
                                    "Name": "Travis d'Arnaud",
                                    "Team": "TBR",
                                    "Games": "92",
                                    "AtBats": "327",
                                    "Runs": "50",
                                    "Hits": "86",
                                    "Doubles": "16",
                                    "Triples": "0",
                                    "Homers": "16",
                                    "RBIs": "67"
                                },
                                {
                                    "Num": "326",
                                    "Name": "David Dahl",
                                    "Team": "COL",
                                    "Games": "100",
                                    "AtBats": "374",
                                    "Runs": "67",
                                    "Hits": "113",
                                    "Doubles": "28",
                                    "Triples": "5",
                                    "Homers": "15",
                                    "RBIs": "61"
                                },
                                {
                                    "Num": "327",
                                    "Name": "Yu Darvish",
                                    "Team": "CHC",
                                    "Games": "30",
                                    "AtBats": "56",
                                    "Runs": "1",
                                    "Hits": "5",
                                    "Doubles": "0",
                                    "Triples": "0",
                                    "Homers": "0",
                                    "RBIs": "3"
                                },
                                {
                                    "Num": "328",
                                    "Name": "Zach Davies",
                                    "Team": "MIL",
                                    "Games": "34",
                                    "AtBats": "52",
                                    "Runs": "3",
                                    "Hits": "8",
                                    "Doubles": "2",
                                    "Triples": "0",
                                    "Homers": "0",
                                    "RBIs": "3"
                                },
                                {
                                    "Num": "330",
                                    "Name": "Chris Davis",
                                    "Team": "BAL",
                                    "Games": "105",
                                    "AtBats": "307",
                                    "Runs": "26",
                                    "Hits": "55",
                                    "Doubles": "9",
                                    "Triples": "0",
                                    "Homers": "12",
                                    "RBIs": "36"
                                },
                                {
                                    "Num": "331",
                                    "Name": "J.D. Davis",
                                    "Team": "NYM",
                                    "Games": "140",
                                    "AtBats": "410",
                                    "Runs": "65",
                                    "Hits": "126",
                                    "Doubles": "22",
                                    "Triples": "1",
                                    "Homers": "22",
                                    "RBIs": "57"
                                },
                                {
                                    "Num": "332",
                                    "Name": "Jaylin Davis",
                                    "Team": "SFG",
                                    "Games": "17",
                                    "AtBats": "42",
                                    "Runs": "2",
                                    "Hits": "7",
                                    "Doubles": "0",
                                    "Triples": "0",
                                    "Homers": "1",
                                    "RBIs": "3"
                                },
                                {
                                    "Num": "333",
                                    "Name": "Johnny Davis",
                                    "Team": "TBR",
                                    "Games": "8",
                                    "AtBats": "4",
                                    "Runs": "5",
                                    "Hits": "1",
                                    "Doubles": "0",
                                    "Triples": "1",
                                    "Homers": "0",
                                    "RBIs": "0"
                                },
                                {
                                    "Num": "334",
                                    "Name": "Jonathan Davis",
                                    "Team": "TOR",
                                    "Games": "37",
                                    "AtBats": "83",
                                    "Runs": "8",
                                    "Hits": "15",
                                    "Doubles": "1",
                                    "Triples": "0",
                                    "Homers": "2",
                                    "RBIs": "6"
                                },
                                {
                                    "Num": "335",
                                    "Name": "Khris Davis",
                                    "Team": "OAK",
                                    "Games": "133",
                                    "AtBats": "481",
                                    "Runs": "61",
                                    "Hits": "106",
                                    "Doubles": "11",
                                    "Triples": "0",
                                    "Homers": "23",
                                    "RBIs": "73"
                                },
                                {
                                    "Num": "336",
                                    "Name": "Rajai Davis",
                                    "Team": "NYM",
                                    "Games": "29",
                                    "AtBats": "25",
                                    "Runs": "4",
                                    "Hits": "5",
                                    "Doubles": "2",
                                    "Triples": "0",
                                    "Homers": "1",
                                    "RBIs": "8"
                                },
                                {
                                    "Num": "338",
                                    "Name": "Taylor Davis",
                                    "Team": "CHC",
                                    "Games": "7",
                                    "AtBats": "18",
                                    "Runs": "2",
                                    "Hits": "3",
                                    "Doubles": "0",
                                    "Triples": "0",
                                    "Homers": "1",
                                    "RBIs": "4"
                                },
                                {
                                    "Num": "341",
                                    "Name": "Yonathan Daza",
                                    "Team": "COL",
                                    "Games": "44",
                                    "AtBats": "97",
                                    "Runs": "7",
                                    "Hits": "20",
                                    "Doubles": "1",
                                    "Triples": "1",
                                    "Homers": "0",
                                    "RBIs": "3"
                                },
                                {
                                    "Num": "345",
                                    "Name": "Austin Dean",
                                    "Team": "MIA",
                                    "Games": "64",
                                    "AtBats": "178",
                                    "Runs": "17",
                                    "Hits": "40",
                                    "Doubles": "14",
                                    "Triples": "0",
                                    "Homers": "6",
                                    "RBIs": "21"
                                },
                                {
                                    "Num": "346",
                                    "Name": "Jacob deGrom",
                                    "Team": "NYM",
                                    "Games": "31",
                                    "AtBats": "65",
                                    "Runs": "4",
                                    "Hits": "13",
                                    "Doubles": "2",
                                    "Triples": "0",
                                    "Homers": "2",
                                    "RBIs": "6"
                                },
                                {
                                    "Num": "347",
                                    "Name": "Paul DeJong",
                                    "Team": "STL",
                                    "Games": "159",
                                    "AtBats": "583",
                                    "Runs": "97",
                                    "Hits": "136",
                                    "Doubles": "31",
                                    "Triples": "1",
                                    "Homers": "30",
                                    "RBIs": "78"
                                },
                                {
                                    "Num": "348",
                                    "Name": "Nicky Delmonico",
                                    "Team": "CHW",
                                    "Games": "21",
                                    "AtBats": "63",
                                    "Runs": "6",
                                    "Hits": "13",
                                    "Doubles": "2",
                                    "Triples": "0",
                                    "Homers": "1",
                                    "RBIs": "6"
                                },
                                {
                                    "Num": "349",
                                    "Name": "Travis Demeritte",
                                    "Team": "DET",
                                    "Games": "48",
                                    "AtBats": "169",
                                    "Runs": "24",
                                    "Hits": "38",
                                    "Doubles": "7",
                                    "Triples": "2",
                                    "Homers": "3",
                                    "RBIs": "10"
                                },
                                {
                                    "Num": "350",
                                    "Name": "Daniel Descalso",
                                    "Team": "CHC",
                                    "Games": "82",
                                    "AtBats": "168",
                                    "Runs": "20",
                                    "Hits": "29",
                                    "Doubles": "5",
                                    "Triples": "1",
                                    "Homers": "2",
                                    "RBIs": "15"
                                },
                                {
                                    "Num": "351",
                                    "Name": "Anthony DeSclafani",
                                    "Team": "CIN",
                                    "Games": "30",
                                    "AtBats": "55",
                                    "Runs": "0",
                                    "Hits": "6",
                                    "Doubles": "0",
                                    "Triples": "0",
                                    "Homers": "0",
                                    "RBIs": "1"
                                },
                                {
                                    "Num": "352",
                                    "Name": "Delino DeShields",
                                    "Team": "TEX",
                                    "Games": "118",
                                    "AtBats": "357",
                                    "Runs": "42",
                                    "Hits": "89",
                                    "Doubles": "15",
                                    "Triples": "4",
                                    "Homers": "4",
                                    "RBIs": "32"
                                },
                                {
                                    "Num": "353",
                                    "Name": "Ian Desmond",
                                    "Team": "COL",
                                    "Games": "140",
                                    "AtBats": "443",
                                    "Runs": "64",
                                    "Hits": "113",
                                    "Doubles": "31",
                                    "Triples": "4",
                                    "Homers": "20",
                                    "RBIs": "65"
                                },
                                {
                                    "Num": "356",
                                    "Name": "Rafael Devers",
                                    "Team": "BOS",
                                    "Games": "156",
                                    "AtBats": "647",
                                    "Runs": "129",
                                    "Hits": "201",
                                    "Doubles": "54",
                                    "Triples": "4",
                                    "Homers": "32",
                                    "RBIs": "115"
                                },
                                {
                                    "Num": "357",
                                    "Name": "Aledmys Díaz",
                                    "Team": "HOU",
                                    "Games": "69",
                                    "AtBats": "210",
                                    "Runs": "36",
                                    "Hits": "57",
                                    "Doubles": "12",
                                    "Triples": "1",
                                    "Homers": "9",
                                    "RBIs": "40"
                                },
                                {
                                    "Num": "359",
                                    "Name": "Elias Diaz",
                                    "Team": "PIT",
                                    "Games": "101",
                                    "AtBats": "303",
                                    "Runs": "31",
                                    "Hits": "73",
                                    "Doubles": "14",
                                    "Triples": "0",
                                    "Homers": "2",
                                    "RBIs": "28"
                                },
                                {
                                    "Num": "360",
                                    "Name": "Isan Diaz",
                                    "Team": "MIA",
                                    "Games": "49",
                                    "AtBats": "179",
                                    "Runs": "17",
                                    "Hits": "31",
                                    "Doubles": "5",
                                    "Triples": "2",
                                    "Homers": "5",
                                    "RBIs": "23"
                                },
                                {
                                    "Num": "363",
                                    "Name": "Yandy Díaz",
                                    "Team": "TBR",
                                    "Games": "79",
                                    "AtBats": "307",
                                    "Runs": "53",
                                    "Hits": "82",
                                    "Doubles": "20",
                                    "Triples": "1",
                                    "Homers": "14",
                                    "RBIs": "38"
                                },
                                {
                                    "Num": "365",
                                    "Name": "Alex Dickerson",
                                    "Team": "SDP",
                                    "Games": "12",
                                    "AtBats": "19",
                                    "Runs": "1",
                                    "Hits": "3",
                                    "Doubles": "0",
                                    "Triples": "0",
                                    "Homers": "0",
                                    "RBIs": "2"
                                },
                                {
                                    "Num": "366",
                                    "Name": "Alex Dickerson",
                                    "Team": "SFG",
                                    "Games": "56",
                                    "AtBats": "155",
                                    "Runs": "28",
                                    "Hits": "45",
                                    "Doubles": "13",
                                    "Triples": "3",
                                    "Homers": "6",
                                    "RBIs": "26"
                                },
                                {
                                    "Num": "368",
                                    "Name": "Corey Dickerson",
                                    "Team": "PIT",
                                    "Games": "44",
                                    "AtBats": "127",
                                    "Runs": "20",
                                    "Hits": "40",
                                    "Doubles": "18",
                                    "Triples": "0",
                                    "Homers": "4",
                                    "RBIs": "25"
                                },
                                {
                                    "Num": "369",
                                    "Name": "Corey Dickerson",
                                    "Team": "PHI",
                                    "Games": "34",
                                    "AtBats": "133",
                                    "Runs": "13",
                                    "Hits": "39",
                                    "Doubles": "10",
                                    "Triples": "2",
                                    "Homers": "8",
                                    "RBIs": "34"
                                },
                                {
                                    "Num": "374",
                                    "Name": "Derek Dietrich",
                                    "Team": "CIN",
                                    "Games": "113",
                                    "AtBats": "251",
                                    "Runs": "41",
                                    "Hits": "47",
                                    "Doubles": "8",
                                    "Triples": "2",
                                    "Homers": "19",
                                    "RBIs": "43"
                                },
                                {
                                    "Num": "375",
                                    "Name": "Wilmer Difo",
                                    "Team": "WSN",
                                    "Games": "43",
                                    "AtBats": "131",
                                    "Runs": "15",
                                    "Hits": "33",
                                    "Doubles": "2",
                                    "Triples": "0",
                                    "Homers": "2",
                                    "RBIs": "8"
                                },
                                {
                                    "Num": "376",
                                    "Name": "Nick Dini",
                                    "Team": "KCR",
                                    "Games": "20",
                                    "AtBats": "56",
                                    "Runs": "11",
                                    "Hits": "11",
                                    "Doubles": "3",
                                    "Triples": "0",
                                    "Homers": "2",
                                    "RBIs": "6"
                                },
                                {
                                    "Num": "377",
                                    "Name": "Brandon Dixon",
                                    "Team": "DET",
                                    "Games": "117",
                                    "AtBats": "391",
                                    "Runs": "41",
                                    "Hits": "97",
                                    "Doubles": "20",
                                    "Triples": "4",
                                    "Homers": "15",
                                    "RBIs": "52"
                                },
                                {
                                    "Num": "379",
                                    "Name": "Josh Donaldson",
                                    "Team": "ATL",
                                    "Games": "155",
                                    "AtBats": "549",
                                    "Runs": "96",
                                    "Hits": "142",
                                    "Doubles": "33",
                                    "Triples": "0",
                                    "Homers": "37",
                                    "RBIs": "94"
                                },
                                {
                                    "Num": "382",
                                    "Name": "Brian Dozier",
                                    "Team": "WSN",
                                    "Games": "135",
                                    "AtBats": "416",
                                    "Runs": "54",
                                    "Hits": "99",
                                    "Doubles": "20",
                                    "Triples": "0",
                                    "Homers": "20",
                                    "RBIs": "50"
                                },
                                {
                                    "Num": "383",
                                    "Name": "Hunter Dozier",
                                    "Team": "KCR",
                                    "Games": "139",
                                    "AtBats": "523",
                                    "Runs": "75",
                                    "Hits": "146",
                                    "Doubles": "29",
                                    "Triples": "10",
                                    "Homers": "26",
                                    "RBIs": "84"
                                },
                                {
                                    "Num": "384",
                                    "Name": "Oliver Drake",
                                    "Team": "TBR",
                                    "Games": "3",
                                    "AtBats": "1",
                                    "Runs": "0",
                                    "Hits": "1",
                                    "Doubles": "0",
                                    "Triples": "0",
                                    "Homers": "0",
                                    "RBIs": "1"
                                },
                                {
                                    "Num": "385",
                                    "Name": "Brandon Drury",
                                    "Team": "TOR",
                                    "Games": "120",
                                    "AtBats": "418",
                                    "Runs": "43",
                                    "Hits": "91",
                                    "Doubles": "21",
                                    "Triples": "1",
                                    "Homers": "15",
                                    "RBIs": "41"
                                },
                                {
                                    "Num": "388",
                                    "Name": "Mauricio Dubon",
                                    "Team": "SFG",
                                    "Games": "28",
                                    "AtBats": "104",
                                    "Runs": "12",
                                    "Hits": "29",
                                    "Doubles": "5",
                                    "Triples": "0",
                                    "Homers": "4",
                                    "RBIs": "9"
                                },
                                {
                                    "Num": "389",
                                    "Name": "Lucas Duda",
                                    "Team": "KCR",
                                    "Games": "39",
                                    "AtBats": "105",
                                    "Runs": "7",
                                    "Hits": "18",
                                    "Doubles": "4",
                                    "Triples": "0",
                                    "Homers": "4",
                                    "RBIs": "15"
                                },
                                {
                                    "Num": "391",
                                    "Name": "Danny Duffy",
                                    "Team": "KCR",
                                    "Games": "2",
                                    "AtBats": "4",
                                    "Runs": "0",
                                    "Hits": "1",
                                    "Doubles": "0",
                                    "Triples": "0",
                                    "Homers": "0",
                                    "RBIs": "0"
                                },
                                {
                                    "Num": "392",
                                    "Name": "Matt Duffy",
                                    "Team": "TBR",
                                    "Games": "46",
                                    "AtBats": "147",
                                    "Runs": "12",
                                    "Hits": "37",
                                    "Doubles": "8",
                                    "Triples": "0",
                                    "Homers": "1",
                                    "RBIs": "12"
                                },
                                {
                                    "Num": "393",
                                    "Name": "Steven Duggar",
                                    "Team": "SFG",
                                    "Games": "73",
                                    "AtBats": "261",
                                    "Runs": "26",
                                    "Hits": "61",
                                    "Doubles": "12",
                                    "Triples": "2",
                                    "Homers": "4",
                                    "RBIs": "28"
                                },
                                {
                                    "Num": "398",
                                    "Name": "Jon Duplantier",
                                    "Team": "ARI",
                                    "Games": "15",
                                    "AtBats": "8",
                                    "Runs": "1",
                                    "Hits": "1",
                                    "Doubles": "0",
                                    "Triples": "0",
                                    "Homers": "0",
                                    "RBIs": "0"
                                },
                                {
                                    "Num": "399",
                                    "Name": "Montana DuRapau",
                                    "Team": "PIT",
                                    "Games": "14",
                                    "AtBats": "4",
                                    "Runs": "0",
                                    "Hits": "1",
                                    "Doubles": "0",
                                    "Triples": "0",
                                    "Homers": "0",
                                    "RBIs": "0"
                                },
                                {
                                    "Num": "400",
                                    "Name": "Adam Duvall",
                                    "Team": "ATL",
                                    "Games": "41",
                                    "AtBats": "120",
                                    "Runs": "17",
                                    "Hits": "32",
                                    "Doubles": "4",
                                    "Triples": "1",
                                    "Homers": "10",
                                    "RBIs": "19"
                                },
                                {
                                    "Num": "401",
                                    "Name": "Jarrod Dyson",
                                    "Team": "ARI",
                                    "Games": "130",
                                    "AtBats": "400",
                                    "Runs": "65",
                                    "Hits": "92",
                                    "Doubles": "11",
                                    "Triples": "2",
                                    "Homers": "7",
                                    "RBIs": "27"
                                },
                                {
                                    "Num": "405",
                                    "Name": "Adam Eaton",
                                    "Team": "WSN",
                                    "Games": "151",
                                    "AtBats": "566",
                                    "Runs": "103",
                                    "Hits": "158",
                                    "Doubles": "25",
                                    "Triples": "7",
                                    "Homers": "15",
                                    "RBIs": "49"
                                },
                                {
                                    "Num": "406",
                                    "Name": "Tommy Edman",
                                    "Team": "STL",
                                    "Games": "92",
                                    "AtBats": "326",
                                    "Runs": "59",
                                    "Hits": "99",
                                    "Doubles": "17",
                                    "Triples": "7",
                                    "Homers": "11",
                                    "RBIs": "36"
                                },
                                {
                                    "Num": "410",
                                    "Name": "Zach Eflin",
                                    "Team": "PHI",
                                    "Games": "31",
                                    "AtBats": "50",
                                    "Runs": "3",
                                    "Hits": "8",
                                    "Doubles": "1",
                                    "Triples": "0",
                                    "Homers": "0",
                                    "RBIs": "2"
                                },
                                {
                                    "Num": "415",
                                    "Name": "Jake Elmore",
                                    "Team": "PIT",
                                    "Games": "20",
                                    "AtBats": "47",
                                    "Runs": "3",
                                    "Hits": "10",
                                    "Doubles": "1",
                                    "Triples": "0",
                                    "Homers": "0",
                                    "RBIs": "4"
                                },
                                {
                                    "Num": "417",
                                    "Name": "Edwin Encarnacion",
                                    "Team": "SEA",
                                    "Games": "65",
                                    "AtBats": "241",
                                    "Runs": "48",
                                    "Hits": "58",
                                    "Doubles": "7",
                                    "Triples": "0",
                                    "Homers": "21",
                                    "RBIs": "49"
                                },
                                {
                                    "Num": "418",
                                    "Name": "Edwin Encarnacion",
                                    "Team": "NYY",
                                    "Games": "44",
                                    "AtBats": "177",
                                    "Runs": "33",
                                    "Hits": "44",
                                    "Doubles": "11",
                                    "Triples": "0",
                                    "Homers": "13",
                                    "RBIs": "37"
                                },
                                {
                                    "Num": "419",
                                    "Name": "Adam Engel",
                                    "Team": "CHW",
                                    "Games": "89",
                                    "AtBats": "227",
                                    "Runs": "26",
                                    "Hits": "55",
                                    "Doubles": "10",
                                    "Triples": "2",
                                    "Homers": "6",
                                    "RBIs": "26"
                                },
                                {
                                    "Num": "422",
                                    "Name": "Phil Ervin",
                                    "Team": "CIN",
                                    "Games": "94",
                                    "AtBats": "236",
                                    "Runs": "30",
                                    "Hits": "64",
                                    "Doubles": "11",
                                    "Triples": "7",
                                    "Homers": "7",
                                    "RBIs": "23"
                                },
                                {
                                    "Num": "423",
                                    "Name": "Eduardo Escobar",
                                    "Team": "ARI",
                                    "Games": "158",
                                    "AtBats": "636",
                                    "Runs": "94",
                                    "Hits": "171",
                                    "Doubles": "29",
                                    "Triples": "10",
                                    "Homers": "35",
                                    "RBIs": "118"
                                },
                                {
                                    "Num": "427",
                                    "Name": "Thairo Estrada",
                                    "Team": "NYY",
                                    "Games": "35",
                                    "AtBats": "64",
                                    "Runs": "12",
                                    "Hits": "16",
                                    "Doubles": "3",
                                    "Triples": "0",
                                    "Homers": "3",
                                    "RBIs": "12"
                                },
                                {
                                    "Num": "435",
                                    "Name": "Kyle Farmer",
                                    "Team": "CIN",
                                    "Games": "97",
                                    "AtBats": "183",
                                    "Runs": "22",
                                    "Hits": "42",
                                    "Doubles": "6",
                                    "Triples": "0",
                                    "Homers": "9",
                                    "RBIs": "27"
                                },
                                {
                                    "Num": "436",
                                    "Name": "Erick Fedde",
                                    "Team": "WSN",
                                    "Games": "20",
                                    "AtBats": "15",
                                    "Runs": "1",
                                    "Hits": "2",
                                    "Doubles": "0",
                                    "Triples": "0",
                                    "Homers": "0",
                                    "RBIs": "0"
                                },
                                {
                                    "Num": "437",
                                    "Name": "Tim Federowicz",
                                    "Team": "TEX",
                                    "Games": "29",
                                    "AtBats": "75",
                                    "Runs": "6",
                                    "Hits": "12",
                                    "Doubles": "2",
                                    "Triples": "0",
                                    "Homers": "4",
                                    "RBIs": "7"
                                },
                                {
                                    "Num": "439",
                                    "Name": "Caleb Ferguson",
                                    "Team": "LAD",
                                    "Games": "42",
                                    "AtBats": "2",
                                    "Runs": "1",
                                    "Hits": "1",
                                    "Doubles": "1",
                                    "Triples": "0",
                                    "Homers": "0",
                                    "RBIs": "0"
                                },
                                {
                                    "Num": "444",
                                    "Name": "Derek Fisher",
                                    "Team": "HOU",
                                    "Games": "17",
                                    "AtBats": "53",
                                    "Runs": "9",
                                    "Hits": "12",
                                    "Doubles": "2",
                                    "Triples": "1",
                                    "Homers": "1",
                                    "RBIs": "5"
                                },
                                {
                                    "Num": "445",
                                    "Name": "Derek Fisher",
                                    "Team": "TOR",
                                    "Games": "40",
                                    "AtBats": "93",
                                    "Runs": "14",
                                    "Hits": "15",
                                    "Doubles": "2",
                                    "Triples": "0",
                                    "Homers": "6",
                                    "RBIs": "12"
                                },
                                {
                                    "Num": "446",
                                    "Name": "Jack Flaherty",
                                    "Team": "STL",
                                    "Games": "35",
                                    "AtBats": "54",
                                    "Runs": "4",
                                    "Hits": "10",
                                    "Doubles": "3",
                                    "Triples": "0",
                                    "Homers": "0",
                                    "RBIs": "4"
                                },
                                {
                                    "Num": "447",
                                    "Name": "Ryan Flaherty",
                                    "Team": "CLE",
                                    "Games": "14",
                                    "AtBats": "21",
                                    "Runs": "4",
                                    "Hits": "3",
                                    "Doubles": "2",
                                    "Triples": "0",
                                    "Homers": "0",
                                    "RBIs": "1"
                                },
                                {
                                    "Num": "448",
                                    "Name": "David Fletcher",
                                    "Team": "LAA",
                                    "Games": "154",
                                    "AtBats": "596",
                                    "Runs": "83",
                                    "Hits": "173",
                                    "Doubles": "30",
                                    "Triples": "4",
                                    "Homers": "6",
                                    "RBIs": "49"
                                },
                                {
                                    "Num": "449",
                                    "Name": "Chris Flexen",
                                    "Team": "NYM",
                                    "Games": "9",
                                    "AtBats": "2",
                                    "Runs": "0",
                                    "Hits": "1",
                                    "Doubles": "0",
                                    "Triples": "0",
                                    "Homers": "0",
                                    "RBIs": "0"
                                },
                                {
                                    "Num": "450",
                                    "Name": "Wilmer Flores",
                                    "Team": "ARI",
                                    "Games": "89",
                                    "AtBats": "265",
                                    "Runs": "31",
                                    "Hits": "84",
                                    "Doubles": "18",
                                    "Triples": "0",
                                    "Homers": "9",
                                    "RBIs": "37"
                                },
                                {
                                    "Num": "452",
                                    "Name": "Tyler Flowers",
                                    "Team": "ATL",
                                    "Games": "85",
                                    "AtBats": "271",
                                    "Runs": "36",
                                    "Hits": "62",
                                    "Doubles": "11",
                                    "Triples": "3",
                                    "Homers": "11",
                                    "RBIs": "34"
                                },
                                {
                                    "Num": "454",
                                    "Name": "Mike Foltynewicz",
                                    "Team": "ATL",
                                    "Games": "19",
                                    "AtBats": "35",
                                    "Runs": "1",
                                    "Hits": "2",
                                    "Doubles": "0",
                                    "Triples": "0",
                                    "Homers": "0",
                                    "RBIs": "1"
                                },
                                {
                                    "Num": "459",
                                    "Name": "Wilmer Font",
                                    "Team": "NYM",
                                    "Games": "14",
                                    "AtBats": "3",
                                    "Runs": "0",
                                    "Hits": "1",
                                    "Doubles": "0",
                                    "Triples": "0",
                                    "Homers": "0",
                                    "RBIs": "0"
                                },
                                {
                                    "Num": "460",
                                    "Name": "Mike Ford",
                                    "Team": "NYY",
                                    "Games": "50",
                                    "AtBats": "143",
                                    "Runs": "30",
                                    "Hits": "37",
                                    "Doubles": "7",
                                    "Triples": "0",
                                    "Homers": "12",
                                    "RBIs": "25"
                                },
                                {
                                    "Num": "461",
                                    "Name": "Logan Forsythe",
                                    "Team": "TEX",
                                    "Games": "101",
                                    "AtBats": "317",
                                    "Runs": "38",
                                    "Hits": "72",
                                    "Doubles": "17",
                                    "Triples": "1",
                                    "Homers": "7",
                                    "RBIs": "39"
                                },
                                {
                                    "Num": "462",
                                    "Name": "Dexter Fowler",
                                    "Team": "STL",
                                    "Games": "150",
                                    "AtBats": "487",
                                    "Runs": "69",
                                    "Hits": "116",
                                    "Doubles": "24",
                                    "Triples": "1",
                                    "Homers": "19",
                                    "RBIs": "67"
                                },
                                {
                                    "Num": "463",
                                    "Name": "Jake Fraley",
                                    "Team": "SEA",
                                    "Games": "12",
                                    "AtBats": "40",
                                    "Runs": "3",
                                    "Hits": "6",
                                    "Doubles": "2",
                                    "Triples": "0",
                                    "Homers": "0",
                                    "RBIs": "1"
                                },
                                {
                                    "Num": "464",
                                    "Name": "Ty France",
                                    "Team": "SDP",
                                    "Games": "69",
                                    "AtBats": "184",
                                    "Runs": "20",
                                    "Hits": "43",
                                    "Doubles": "8",
                                    "Triples": "1",
                                    "Homers": "7",
                                    "RBIs": "24"
                                },
                                {
                                    "Num": "466",
                                    "Name": "Maikel Franco",
                                    "Team": "PHI",
                                    "Games": "123",
                                    "AtBats": "389",
                                    "Runs": "48",
                                    "Hits": "91",
                                    "Doubles": "17",
                                    "Triples": "0",
                                    "Homers": "17",
                                    "RBIs": "56"
                                },
                                {
                                    "Num": "467",
                                    "Name": "Adam Frazier",
                                    "Team": "PIT",
                                    "Games": "152",
                                    "AtBats": "554",
                                    "Runs": "80",
                                    "Hits": "154",
                                    "Doubles": "33",
                                    "Triples": "7",
                                    "Homers": "10",
                                    "RBIs": "50"
                                },
                                {
                                    "Num": "468",
                                    "Name": "Clint Frazier",
                                    "Team": "NYY",
                                    "Games": "69",
                                    "AtBats": "225",
                                    "Runs": "31",
                                    "Hits": "60",
                                    "Doubles": "14",
                                    "Triples": "0",
                                    "Homers": "12",
                                    "RBIs": "38"
                                },
                                {
                                    "Num": "469",
                                    "Name": "Todd Frazier",
                                    "Team": "NYM",
                                    "Games": "133",
                                    "AtBats": "447",
                                    "Runs": "63",
                                    "Hits": "112",
                                    "Doubles": "19",
                                    "Triples": "2",
                                    "Homers": "21",
                                    "RBIs": "67"
                                },
                                {
                                    "Num": "470",
                                    "Name": "Kyle Freeland",
                                    "Team": "COL",
                                    "Games": "19",
                                    "AtBats": "23",
                                    "Runs": "1",
                                    "Hits": "2",
                                    "Doubles": "0",
                                    "Triples": "0",
                                    "Homers": "0",
                                    "RBIs": "0"
                                },
                                {
                                    "Num": "471",
                                    "Name": "Freddie Freeman",
                                    "Team": "ATL",
                                    "Games": "158",
                                    "AtBats": "597",
                                    "Runs": "113",
                                    "Hits": "176",
                                    "Doubles": "34",
                                    "Triples": "2",
                                    "Homers": "38",
                                    "RBIs": "121"
                                },
                                {
                                    "Num": "472",
                                    "Name": "Mike Freeman",
                                    "Team": "CLE",
                                    "Games": "75",
                                    "AtBats": "177",
                                    "Runs": "27",
                                    "Hits": "49",
                                    "Doubles": "8",
                                    "Triples": "0",
                                    "Homers": "4",
                                    "RBIs": "24"
                                },
                                {
                                    "Num": "473",
                                    "Name": "David Freese",
                                    "Team": "LAD",
                                    "Games": "79",
                                    "AtBats": "162",
                                    "Runs": "35",
                                    "Hits": "51",
                                    "Doubles": "13",
                                    "Triples": "0",
                                    "Homers": "11",
                                    "RBIs": "29"
                                },
                                {
                                    "Num": "476",
                                    "Name": "David Freitas",
                                    "Team": "MIL",
                                    "Games": "16",
                                    "AtBats": "13",
                                    "Runs": "1",
                                    "Hits": "1",
                                    "Doubles": "0",
                                    "Triples": "0",
                                    "Homers": "0",
                                    "RBIs": "0"
                                },
                                {
                                    "Num": "477",
                                    "Name": "Max Fried",
                                    "Team": "ATL",
                                    "Games": "38",
                                    "AtBats": "56",
                                    "Runs": "11",
                                    "Hits": "11",
                                    "Doubles": "4",
                                    "Triples": "0",
                                    "Homers": "0",
                                    "RBIs": "4"
                                },
                                {
                                    "Num": "480",
                                    "Name": "Josh Fuentes",
                                    "Team": "COL",
                                    "Games": "24",
                                    "AtBats": "55",
                                    "Runs": "8",
                                    "Hits": "12",
                                    "Doubles": "1",
                                    "Triples": "0",
                                    "Homers": "3",
                                    "RBIs": "7"
                                },
                                {
                                    "Num": "482",
                                    "Name": "Drew Gagnon",
                                    "Team": "NYM",
                                    "Games": "17",
                                    "AtBats": "3",
                                    "Runs": "0",
                                    "Hits": "1",
                                    "Doubles": "0",
                                    "Triples": "0",
                                    "Homers": "0",
                                    "RBIs": "0"
                                },
                                {
                                    "Num": "483",
                                    "Name": "Rocky Gale",
                                    "Team": "LAD",
                                    "Games": "5",
                                    "AtBats": "15",
                                    "Runs": "1",
                                    "Hits": "2",
                                    "Doubles": "0",
                                    "Triples": "0",
                                    "Homers": "0",
                                    "RBIs": "0"
                                },
                                {
                                    "Num": "484",
                                    "Name": "Cam Gallagher",
                                    "Team": "KCR",
                                    "Games": "45",
                                    "AtBats": "126",
                                    "Runs": "14",
                                    "Hits": "30",
                                    "Doubles": "7",
                                    "Triples": "0",
                                    "Homers": "3",
                                    "RBIs": "12"
                                },
                                {
                                    "Num": "487",
                                    "Name": "Zac Gallen",
                                    "Team": "MIA",
                                    "Games": "6",
                                    "AtBats": "10",
                                    "Runs": "1",
                                    "Hits": "1",
                                    "Doubles": "0",
                                    "Triples": "0",
                                    "Homers": "0",
                                    "RBIs": "0"
                                },
                                {
                                    "Num": "488",
                                    "Name": "Zac Gallen",
                                    "Team": "ARI",
                                    "Games": "8",
                                    "AtBats": "9",
                                    "Runs": "1",
                                    "Hits": "1",
                                    "Doubles": "0",
                                    "Triples": "0",
                                    "Homers": "0",
                                    "RBIs": "1"
                                },
                                {
                                    "Num": "489",
                                    "Name": "Joey Gallo",
                                    "Team": "TEX",
                                    "Games": "70",
                                    "AtBats": "241",
                                    "Runs": "54",
                                    "Hits": "61",
                                    "Doubles": "15",
                                    "Triples": "1",
                                    "Homers": "22",
                                    "RBIs": "49"
                                },
                                {
                                    "Num": "490",
                                    "Name": "Isaac Galloway",
                                    "Team": "MIA",
                                    "Games": "19",
                                    "AtBats": "54",
                                    "Runs": "6",
                                    "Hits": "9",
                                    "Doubles": "1",
                                    "Triples": "0",
                                    "Homers": "0",
                                    "RBIs": "1"
                                },
                                {
                                    "Num": "492",
                                    "Name": "Freddy Galvis",
                                    "Team": "TOR",
                                    "Games": "115",
                                    "AtBats": "450",
                                    "Runs": "55",
                                    "Hits": "120",
                                    "Doubles": "24",
                                    "Triples": "1",
                                    "Homers": "18",
                                    "RBIs": "54"
                                },
                                {
                                    "Num": "493",
                                    "Name": "Freddy Galvis",
                                    "Team": "CIN",
                                    "Games": "32",
                                    "AtBats": "107",
                                    "Runs": "12",
                                    "Hits": "25",
                                    "Doubles": "4",
                                    "Triples": "0",
                                    "Homers": "5",
                                    "RBIs": "16"
                                },
                                {
                                    "Num": "494",
                                    "Name": "Ben Gamel",
                                    "Team": "MIL",
                                    "Games": "134",
                                    "AtBats": "311",
                                    "Runs": "47",
                                    "Hits": "77",
                                    "Doubles": "18",
                                    "Triples": "0",
                                    "Homers": "7",
                                    "RBIs": "33"
                                },
                                {
                                    "Num": "496",
                                    "Name": "Aramis Garcia",
                                    "Team": "SFG",
                                    "Games": "18",
                                    "AtBats": "42",
                                    "Runs": "5",
                                    "Hits": "6",
                                    "Doubles": "1",
                                    "Triples": "0",
                                    "Homers": "2",
                                    "RBIs": "5"
                                },
                                {
                                    "Num": "497",
                                    "Name": "Avisail Garcia",
                                    "Team": "TBR",
                                    "Games": "125",
                                    "AtBats": "489",
                                    "Runs": "61",
                                    "Hits": "138",
                                    "Doubles": "25",
                                    "Triples": "2",
                                    "Homers": "20",
                                    "RBIs": "72"
                                },
                                {
                                    "Num": "499",
                                    "Name": "Greg Garcia",
                                    "Team": "SDP",
                                    "Games": "134",
                                    "AtBats": "311",
                                    "Runs": "52",
                                    "Hits": "77",
                                    "Doubles": "13",
                                    "Triples": "4",
                                    "Homers": "4",
                                    "RBIs": "31"
                                },
                                {
                                    "Num": "501",
                                    "Name": "Leury Garcia",
                                    "Team": "CHW",
                                    "Games": "140",
                                    "AtBats": "577",
                                    "Runs": "93",
                                    "Hits": "161",
                                    "Doubles": "27",
                                    "Triples": "3",
                                    "Homers": "8",
                                    "RBIs": "40"
                                },
                                {
                                    "Num": "504",
                                    "Name": "Robel Garcia",
                                    "Team": "CHC",
                                    "Games": "31",
                                    "AtBats": "72",
                                    "Runs": "8",
                                    "Hits": "15",
                                    "Doubles": "2",
                                    "Triples": "2",
                                    "Homers": "5",
                                    "RBIs": "11"
                                },
                                {
                                    "Num": "506",
                                    "Name": "Brett Gardner",
                                    "Team": "NYY",
                                    "Games": "141",
                                    "AtBats": "491",
                                    "Runs": "86",
                                    "Hits": "123",
                                    "Doubles": "26",
                                    "Triples": "7",
                                    "Homers": "28",
                                    "RBIs": "74"
                                },
                                {
                                    "Num": "507",
                                    "Name": "Kyle Garlick",
                                    "Team": "LAD",
                                    "Games": "30",
                                    "AtBats": "48",
                                    "Runs": "8",
                                    "Hits": "12",
                                    "Doubles": "4",
                                    "Triples": "0",
                                    "Homers": "3",
                                    "RBIs": "6"
                                },
                                {
                                    "Num": "509",
                                    "Name": "Dustin Garneau",
                                    "Team": "LAA",
                                    "Games": "28",
                                    "AtBats": "69",
                                    "Runs": "11",
                                    "Hits": "16",
                                    "Doubles": "3",
                                    "Triples": "0",
                                    "Homers": "2",
                                    "RBIs": "7"
                                },
                                {
                                    "Num": "510",
                                    "Name": "Dustin Garneau",
                                    "Team": "OAK",
                                    "Games": "7",
                                    "AtBats": "17",
                                    "Runs": "3",
                                    "Hits": "5",
                                    "Doubles": "2",
                                    "Triples": "0",
                                    "Homers": "1",
                                    "RBIs": "7"
                                },
                                {
                                    "Num": "512",
                                    "Name": "Mitch Garver",
                                    "Team": "MIN",
                                    "Games": "93",
                                    "AtBats": "311",
                                    "Runs": "70",
                                    "Hits": "85",
                                    "Doubles": "16",
                                    "Triples": "1",
                                    "Homers": "31",
                                    "RBIs": "67"
                                },
                                {
                                    "Num": "514",
                                    "Name": "Kevin Gausman",
                                    "Team": "ATL",
                                    "Games": "16",
                                    "AtBats": "27",
                                    "Runs": "1",
                                    "Hits": "1",
                                    "Doubles": "0",
                                    "Triples": "0",
                                    "Homers": "0",
                                    "RBIs": "0"
                                },
                                {
                                    "Num": "521",
                                    "Name": "Scooter Gennett",
                                    "Team": "CIN",
                                    "Games": "21",
                                    "AtBats": "69",
                                    "Runs": "4",
                                    "Hits": "15",
                                    "Doubles": "3",
                                    "Triples": "0",
                                    "Homers": "0",
                                    "RBIs": "5"
                                },
                                {
                                    "Num": "522",
                                    "Name": "Scooter Gennett",
                                    "Team": "SFG",
                                    "Games": "21",
                                    "AtBats": "64",
                                    "Runs": "11",
                                    "Hits": "15",
                                    "Doubles": "4",
                                    "Triples": "0",
                                    "Homers": "2",
                                    "RBIs": "6"
                                },
                                {
                                    "Num": "523",
                                    "Name": "Mike Gerber",
                                    "Team": "SFG",
                                    "Games": "12",
                                    "AtBats": "24",
                                    "Runs": "0",
                                    "Hits": "1",
                                    "Doubles": "1",
                                    "Triples": "0",
                                    "Homers": "0",
                                    "RBIs": "0"
                                },
                                {
                                    "Num": "528",
                                    "Name": "Lucas Giolito",
                                    "Team": "CHW",
                                    "Games": "2",
                                    "AtBats": "4",
                                    "Runs": "0",
                                    "Hits": "1",
                                    "Doubles": "0",
                                    "Triples": "0",
                                    "Homers": "0",
                                    "RBIs": "2"
                                },
                                {
                                    "Num": "532",
                                    "Name": "Zack Godley",
                                    "Team": "ARI",
                                    "Games": "23",
                                    "AtBats": "18",
                                    "Runs": "3",
                                    "Hits": "3",
                                    "Doubles": "0",
                                    "Triples": "0",
                                    "Homers": "0",
                                    "RBIs": "2"
                                },
                                {
                                    "Num": "534",
                                    "Name": "Ryan Goins",
                                    "Team": "CHW",
                                    "Games": "52",
                                    "AtBats": "144",
                                    "Runs": "13",
                                    "Hits": "36",
                                    "Doubles": "6",
                                    "Triples": "1",
                                    "Homers": "2",
                                    "RBIs": "10"
                                },
                                {
                                    "Num": "535",
                                    "Name": "Paul Goldschmidt",
                                    "Team": "STL",
                                    "Games": "161",
                                    "AtBats": "597",
                                    "Runs": "97",
                                    "Hits": "155",
                                    "Doubles": "25",
                                    "Triples": "1",
                                    "Homers": "34",
                                    "RBIs": "97"
                                },
                                {
                                    "Num": "536",
                                    "Name": "Yan Gomes",
                                    "Team": "WSN",
                                    "Games": "97",
                                    "AtBats": "314",
                                    "Runs": "36",
                                    "Hits": "70",
                                    "Doubles": "16",
                                    "Triples": "0",
                                    "Homers": "12",
                                    "RBIs": "43"
                                },
                                {
                                    "Num": "537",
                                    "Name": "Carlos Gomez",
                                    "Team": "NYM",
                                    "Games": "34",
                                    "AtBats": "86",
                                    "Runs": "10",
                                    "Hits": "17",
                                    "Doubles": "3",
                                    "Triples": "0",
                                    "Homers": "3",
                                    "RBIs": "10"
                                },
                                {
                                    "Num": "538",
                                    "Name": "Tony Gonsolin",
                                    "Team": "LAD",
                                    "Games": "10",
                                    "AtBats": "13",
                                    "Runs": "2",
                                    "Hits": "4",
                                    "Doubles": "0",
                                    "Triples": "0",
                                    "Homers": "0",
                                    "RBIs": "1"
                                },
                                {
                                    "Num": "539",
                                    "Name": "Marco Gonzales",
                                    "Team": "SEA",
                                    "Games": "2",
                                    "AtBats": "5",
                                    "Runs": "1",
                                    "Hits": "1",
                                    "Doubles": "1",
                                    "Triples": "0",
                                    "Homers": "0",
                                    "RBIs": "0"
                                },
                                {
                                    "Num": "541",
                                    "Name": "Carlos Gonzalez",
                                    "Team": "CLE",
                                    "Games": "30",
                                    "AtBats": "105",
                                    "Runs": "13",
                                    "Hits": "22",
                                    "Doubles": "1",
                                    "Triples": "0",
                                    "Homers": "2",
                                    "RBIs": "7"
                                },
                                {
                                    "Num": "542",
                                    "Name": "Carlos Gonzalez",
                                    "Team": "CHC",
                                    "Games": "15",
                                    "AtBats": "40",
                                    "Runs": "8",
                                    "Hits": "7",
                                    "Doubles": "2",
                                    "Triples": "0",
                                    "Homers": "1",
                                    "RBIs": "3"
                                },
                                {
                                    "Num": "543",
                                    "Name": "Chi Chi Gonzalez",
                                    "Team": "COL",
                                    "Games": "13",
                                    "AtBats": "24",
                                    "Runs": "0",
                                    "Hits": "1",
                                    "Doubles": "0",
                                    "Triples": "0",
                                    "Homers": "0",
                                    "RBIs": "2"
                                },
                                {
                                    "Num": "544",
                                    "Name": "Erik Gonzalez",
                                    "Team": "PIT",
                                    "Games": "53",
                                    "AtBats": "142",
                                    "Runs": "15",
                                    "Hits": "36",
                                    "Doubles": "4",
                                    "Triples": "1",
                                    "Homers": "1",
                                    "RBIs": "6"
                                },
                                {
                                    "Num": "545",
                                    "Name": "Gio Gonzalez",
                                    "Team": "MIL",
                                    "Games": "18",
                                    "AtBats": "25",
                                    "Runs": "1",
                                    "Hits": "1",
                                    "Doubles": "0",
                                    "Triples": "0",
                                    "Homers": "0",
                                    "RBIs": "0"
                                },
                                {
                                    "Num": "546",
                                    "Name": "Marwin Gonzalez",
                                    "Team": "MIN",
                                    "Games": "114",
                                    "AtBats": "425",
                                    "Runs": "52",
                                    "Hits": "112",
                                    "Doubles": "19",
                                    "Triples": "0",
                                    "Homers": "15",
                                    "RBIs": "55"
                                },
                                {
                                    "Num": "547",
                                    "Name": "Niko Goodrum",
                                    "Team": "DET",
                                    "Games": "112",
                                    "AtBats": "423",
                                    "Runs": "61",
                                    "Hits": "105",
                                    "Doubles": "27",
                                    "Triples": "5",
                                    "Homers": "12",
                                    "RBIs": "45"
                                },
                                {
                                    "Num": "548",
                                    "Name": "Brian Goodwin",
                                    "Team": "LAA",
                                    "Games": "136",
                                    "AtBats": "413",
                                    "Runs": "65",
                                    "Hits": "108",
                                    "Doubles": "29",
                                    "Triples": "3",
                                    "Homers": "17",
                                    "RBIs": "47"
                                },
                                {
                                    "Num": "550",
                                    "Name": "Alex Gordon",
                                    "Team": "KCR",
                                    "Games": "150",
                                    "AtBats": "556",
                                    "Runs": "77",
                                    "Hits": "148",
                                    "Doubles": "31",
                                    "Triples": "1",
                                    "Homers": "13",
                                    "RBIs": "76"
                                },
                                {
                                    "Num": "551",
                                    "Name": "Dee Gordon",
                                    "Team": "SEA",
                                    "Games": "117",
                                    "AtBats": "393",
                                    "Runs": "36",
                                    "Hits": "108",
                                    "Doubles": "12",
                                    "Triples": "6",
                                    "Homers": "3",
                                    "RBIs": "34"
                                },
                                {
                                    "Num": "552",
                                    "Name": "Terrance Gore",
                                    "Team": "KCR",
                                    "Games": "37",
                                    "AtBats": "51",
                                    "Runs": "13",
                                    "Hits": "14",
                                    "Doubles": "2",
                                    "Triples": "1",
                                    "Homers": "0",
                                    "RBIs": "1"
                                },
                                {
                                    "Num": "553",
                                    "Name": "Phil Gosselin",
                                    "Team": "PHI",
                                    "Games": "44",
                                    "AtBats": "65",
                                    "Runs": "5",
                                    "Hits": "17",
                                    "Doubles": "3",
                                    "Triples": "0",
                                    "Homers": "0",
                                    "RBIs": "7"
                                },
                                {
                                    "Num": "556",
                                    "Name": "Yasmani Grandal",
                                    "Team": "MIL",
                                    "Games": "153",
                                    "AtBats": "513",
                                    "Runs": "79",
                                    "Hits": "126",
                                    "Doubles": "26",
                                    "Triples": "2",
                                    "Homers": "28",
                                    "RBIs": "77"
                                },
                                {
                                    "Num": "557",
                                    "Name": "Curtis Granderson",
                                    "Team": "MIA",
                                    "Games": "138",
                                    "AtBats": "317",
                                    "Runs": "44",
                                    "Hits": "58",
                                    "Doubles": "17",
                                    "Triples": "1",
                                    "Homers": "12",
                                    "RBIs": "34"
                                },
                                {
                                    "Num": "558",
                                    "Name": "Juan Graterol",
                                    "Team": "CIN",
                                    "Games": "6",
                                    "AtBats": "18",
                                    "Runs": "1",
                                    "Hits": "4",
                                    "Doubles": "0",
                                    "Triples": "0",
                                    "Homers": "0",
                                    "RBIs": "1"
                                },
                                {
                                    "Num": "559",
                                    "Name": "Jon Gray",
                                    "Team": "COL",
                                    "Games": "27",
                                    "AtBats": "47",
                                    "Runs": "1",
                                    "Hits": "3",
                                    "Doubles": "0",
                                    "Triples": "0",
                                    "Homers": "0",
                                    "RBIs": "1"
                                },
                                {
                                    "Num": "560",
                                    "Name": "Sonny Gray",
                                    "Team": "CIN",
                                    "Games": "32",
                                    "AtBats": "46",
                                    "Runs": "3",
                                    "Hits": "7",
                                    "Doubles": "0",
                                    "Triples": "1",
                                    "Homers": "0",
                                    "RBIs": "3"
                                },
                                {
                                    "Num": "562",
                                    "Name": "Zach Green",
                                    "Team": "SFG",
                                    "Games": "8",
                                    "AtBats": "14",
                                    "Runs": "1",
                                    "Hits": "2",
                                    "Doubles": "1",
                                    "Triples": "0",
                                    "Homers": "0",
                                    "RBIs": "1"
                                },
                                {
                                    "Num": "567",
                                    "Name": "Didi Gregorius",
                                    "Team": "NYY",
                                    "Games": "82",
                                    "AtBats": "324",
                                    "Runs": "47",
                                    "Hits": "77",
                                    "Doubles": "14",
                                    "Triples": "2",
                                    "Homers": "16",
                                    "RBIs": "61"
                                },
                                {
                                    "Num": "568",
                                    "Name": "Grayson Greiner",
                                    "Team": "DET",
                                    "Games": "58",
                                    "AtBats": "208",
                                    "Runs": "18",
                                    "Hits": "42",
                                    "Doubles": "5",
                                    "Triples": "1",
                                    "Homers": "5",
                                    "RBIs": "19"
                                },
                                {
                                    "Num": "570",
                                    "Name": "Zack Greinke",
                                    "Team": "ARI",
                                    "Games": "24",
                                    "AtBats": "48",
                                    "Runs": "7",
                                    "Hits": "13",
                                    "Doubles": "4",
                                    "Triples": "1",
                                    "Homers": "3",
                                    "RBIs": "8"
                                },
                                {
                                    "Num": "571",
                                    "Name": "Zack Greinke",
                                    "Team": "HOU",
                                    "Games": "1",
                                    "AtBats": "2",
                                    "Runs": "0",
                                    "Hits": "1",
                                    "Doubles": "0",
                                    "Triples": "0",
                                    "Homers": "0",
                                    "RBIs": "0"
                                },
                                {
                                    "Num": "572",
                                    "Name": "Randal Grichuk",
                                    "Team": "TOR",
                                    "Games": "151",
                                    "AtBats": "586",
                                    "Runs": "75",
                                    "Hits": "136",
                                    "Doubles": "29",
                                    "Triples": "5",
                                    "Homers": "31",
                                    "RBIs": "80"
                                },
                                {
                                    "Num": "573",
                                    "Name": "Trent Grisham",
                                    "Team": "MIL",
                                    "Games": "51",
                                    "AtBats": "156",
                                    "Runs": "24",
                                    "Hits": "36",
                                    "Doubles": "6",
                                    "Triples": "2",
                                    "Homers": "6",
                                    "RBIs": "24"
                                },
                                {
                                    "Num": "574",
                                    "Name": "Robbie Grossman",
                                    "Team": "OAK",
                                    "Games": "138",
                                    "AtBats": "420",
                                    "Runs": "57",
                                    "Hits": "101",
                                    "Doubles": "21",
                                    "Triples": "3",
                                    "Homers": "6",
                                    "RBIs": "38"
                                },
                                {
                                    "Num": "576",
                                    "Name": "Deivy Grullon",
                                    "Team": "PHI",
                                    "Games": "4",
                                    "AtBats": "9",
                                    "Runs": "0",
                                    "Hits": "1",
                                    "Doubles": "1",
                                    "Triples": "0",
                                    "Homers": "0",
                                    "RBIs": "1"
                                },
                                {
                                    "Num": "582",
                                    "Name": "Junior Guerra",
                                    "Team": "MIL",
                                    "Games": "65",
                                    "AtBats": "3",
                                    "Runs": "0",
                                    "Hits": "1",
                                    "Doubles": "0",
                                    "Triples": "0",
                                    "Homers": "0",
                                    "RBIs": "0"
                                },
                                {
                                    "Num": "584",
                                    "Name": "Vladimir Guerrero Jr.",
                                    "Team": "TOR",
                                    "Games": "123",
                                    "AtBats": "464",
                                    "Runs": "52",
                                    "Hits": "126",
                                    "Doubles": "26",
                                    "Triples": "2",
                                    "Homers": "15",
                                    "RBIs": "69"
                                },
                                {
                                    "Num": "587",
                                    "Name": "Luis Guillorme",
                                    "Team": "NYM",
                                    "Games": "45",
                                    "AtBats": "61",
                                    "Runs": "8",
                                    "Hits": "15",
                                    "Doubles": "4",
                                    "Triples": "0",
                                    "Homers": "1",
                                    "RBIs": "3"
                                },
                                {
                                    "Num": "588",
                                    "Name": "Lourdes Gurriel Jr.",
                                    "Team": "TOR",
                                    "Games": "84",
                                    "AtBats": "314",
                                    "Runs": "52",
                                    "Hits": "87",
                                    "Doubles": "19",
                                    "Triples": "2",
                                    "Homers": "20",
                                    "RBIs": "50"
                                },
                                {
                                    "Num": "589",
                                    "Name": "Yuli Gurriel",
                                    "Team": "HOU",
                                    "Games": "144",
                                    "AtBats": "564",
                                    "Runs": "85",
                                    "Hits": "168",
                                    "Doubles": "40",
                                    "Triples": "2",
                                    "Homers": "31",
                                    "RBIs": "104"
                                },
                                {
                                    "Num": "591",
                                    "Name": "Kelvin Gutierrez",
                                    "Team": "KCR",
                                    "Games": "20",
                                    "AtBats": "73",
                                    "Runs": "4",
                                    "Hits": "19",
                                    "Doubles": "2",
                                    "Triples": "1",
                                    "Homers": "1",
                                    "RBIs": "11"
                                },
                                {
                                    "Num": "592",
                                    "Name": "Ronald Guzman",
                                    "Team": "TEX",
                                    "Games": "87",
                                    "AtBats": "256",
                                    "Runs": "34",
                                    "Hits": "56",
                                    "Doubles": "20",
                                    "Triples": "0",
                                    "Homers": "10",
                                    "RBIs": "36"
                                },
                                {
                                    "Num": "594",
                                    "Name": "Jedd Gyorko",
                                    "Team": "STL",
                                    "Games": "38",
                                    "AtBats": "56",
                                    "Runs": "5",
                                    "Hits": "11",
                                    "Doubles": "0",
                                    "Triples": "0",
                                    "Homers": "2",
                                    "RBIs": "7"
                                },
                                {
                                    "Num": "595",
                                    "Name": "Jedd Gyorko",
                                    "Team": "LAD",
                                    "Games": "24",
                                    "AtBats": "36",
                                    "Runs": "1",
                                    "Hits": "5",
                                    "Doubles": "1",
                                    "Triples": "0",
                                    "Homers": "0",
                                    "RBIs": "2"
                                },
                                {
                                    "Num": "596",
                                    "Name": "Eric Haase",
                                    "Team": "CLE",
                                    "Games": "10",
                                    "AtBats": "16",
                                    "Runs": "1",
                                    "Hits": "1",
                                    "Doubles": "0",
                                    "Triples": "0",
                                    "Homers": "1",
                                    "RBIs": "3"
                                },
                                {
                                    "Num": "600",
                                    "Name": "Cole Hamels",
                                    "Team": "CHC",
                                    "Games": "24",
                                    "AtBats": "42",
                                    "Runs": "1",
                                    "Hits": "6",
                                    "Doubles": "1",
                                    "Triples": "0",
                                    "Homers": "0",
                                    "RBIs": "4"
                                },
                                {
                                    "Num": "602",
                                    "Name": "Billy Hamilton",
                                    "Team": "KCR",
                                    "Games": "93",
                                    "AtBats": "275",
                                    "Runs": "32",
                                    "Hits": "58",
                                    "Doubles": "12",
                                    "Triples": "2",
                                    "Homers": "0",
                                    "RBIs": "12"
                                },
                                {
                                    "Num": "603",
                                    "Name": "Billy Hamilton",
                                    "Team": "ATL",
                                    "Games": "26",
                                    "AtBats": "41",
                                    "Runs": "9",
                                    "Hits": "11",
                                    "Doubles": "2",
                                    "Triples": "0",
                                    "Homers": "0",
                                    "RBIs": "3"
                                },
                                {
                                    "Num": "605",
                                    "Name": "Garrett Hampson",
                                    "Team": "COL",
                                    "Games": "105",
                                    "AtBats": "299",
                                    "Runs": "40",
                                    "Hits": "74",
                                    "Doubles": "9",
                                    "Triples": "4",
                                    "Homers": "8",
                                    "RBIs": "27"
                                },
                                {
                                    "Num": "607",
                                    "Name": "Mitch Haniger",
                                    "Team": "SEA",
                                    "Games": "63",
                                    "AtBats": "246",
                                    "Runs": "46",
                                    "Hits": "54",
                                    "Doubles": "13",
                                    "Triples": "1",
                                    "Homers": "15",
                                    "RBIs": "32"
                                },
                                {
                                    "Num": "608",
                                    "Name": "Alen Hanson",
                                    "Team": "TOR",
                                    "Games": "18",
                                    "AtBats": "43",
                                    "Runs": "5",
                                    "Hits": "7",
                                    "Doubles": "0",
                                    "Triples": "0",
                                    "Homers": "0",
                                    "RBIs": "4"
                                },
                                {
                                    "Num": "609",
                                    "Name": "Ian Happ",
                                    "Team": "CHC",
                                    "Games": "58",
                                    "AtBats": "140",
                                    "Runs": "25",
                                    "Hits": "37",
                                    "Doubles": "7",
                                    "Triples": "1",
                                    "Homers": "11",
                                    "RBIs": "30"
                                },
                                {
                                    "Num": "612",
                                    "Name": "Bryce Harper",
                                    "Team": "PHI",
                                    "Games": "157",
                                    "AtBats": "573",
                                    "Runs": "98",
                                    "Hits": "149",
                                    "Doubles": "36",
                                    "Triples": "1",
                                    "Homers": "35",
                                    "RBIs": "114"
                                },
                                {
                                    "Num": "615",
                                    "Name": "Josh Harrison",
                                    "Team": "DET",
                                    "Games": "36",
                                    "AtBats": "137",
                                    "Runs": "10",
                                    "Hits": "24",
                                    "Doubles": "7",
                                    "Triples": "1",
                                    "Homers": "1",
                                    "RBIs": "8"
                                },
                                {
                                    "Num": "624",
                                    "Name": "Adam Haseley",
                                    "Team": "PHI",
                                    "Games": "67",
                                    "AtBats": "222",
                                    "Runs": "30",
                                    "Hits": "59",
                                    "Doubles": "14",
                                    "Triples": "0",
                                    "Homers": "5",
                                    "RBIs": "26"
                                },
                                {
                                    "Num": "625",
                                    "Name": "Austin Hays",
                                    "Team": "BAL",
                                    "Games": "21",
                                    "AtBats": "68",
                                    "Runs": "12",
                                    "Hits": "21",
                                    "Doubles": "6",
                                    "Triples": "0",
                                    "Homers": "4",
                                    "RBIs": "13"
                                },
                                {
                                    "Num": "626",
                                    "Name": "Ryon Healy",
                                    "Team": "SEA",
                                    "Games": "47",
                                    "AtBats": "169",
                                    "Runs": "24",
                                    "Hits": "40",
                                    "Doubles": "16",
                                    "Triples": "0",
                                    "Homers": "7",
                                    "RBIs": "26"
                                },
                                {
                                    "Num": "628",
                                    "Name": "Adeiny Hechavarria",
                                    "Team": "NYM",
                                    "Games": "60",
                                    "AtBats": "142",
                                    "Runs": "20",
                                    "Hits": "29",
                                    "Doubles": "7",
                                    "Triples": "0",
                                    "Homers": "5",
                                    "RBIs": "18"
                                },
                                {
                                    "Num": "629",
                                    "Name": "Adeiny Hechavarria",
                                    "Team": "ATL",
                                    "Games": "24",
                                    "AtBats": "61",
                                    "Runs": "14",
                                    "Hits": "20",
                                    "Doubles": "5",
                                    "Triples": "1",
                                    "Homers": "4",
                                    "RBIs": "15"
                                },
                                {
                                    "Num": "630",
                                    "Name": "Austin Hedges",
                                    "Team": "SDP",
                                    "Games": "102",
                                    "AtBats": "312",
                                    "Runs": "28",
                                    "Hits": "55",
                                    "Doubles": "9",
                                    "Triples": "0",
                                    "Homers": "11",
                                    "RBIs": "36"
                                },
                                {
                                    "Num": "631",
                                    "Name": "Scott Heineman",
                                    "Team": "TEX",
                                    "Games": "25",
                                    "AtBats": "75",
                                    "Runs": "8",
                                    "Hits": "16",
                                    "Doubles": "6",
                                    "Triples": "0",
                                    "Homers": "2",
                                    "RBIs": "7"
                                },
                                {
                                    "Num": "632",
                                    "Name": "Tyler Heineman",
                                    "Team": "MIA",
                                    "Games": "5",
                                    "AtBats": "11",
                                    "Runs": "1",
                                    "Hits": "3",
                                    "Doubles": "1",
                                    "Triples": "0",
                                    "Homers": "1",
                                    "RBIs": "2"
                                },
                                {
                                    "Num": "633",
                                    "Name": "Jeremy Hellickson",
                                    "Team": "WSN",
                                    "Games": "9",
                                    "AtBats": "9",
                                    "Runs": "3",
                                    "Hits": "1",
                                    "Doubles": "0",
                                    "Triples": "0",
                                    "Homers": "0",
                                    "RBIs": "0"
                                },
                                {
                                    "Num": "634",
                                    "Name": "Ryan Helsley",
                                    "Team": "STL",
                                    "Games": "24",
                                    "AtBats": "3",
                                    "Runs": "0",
                                    "Hits": "1",
                                    "Doubles": "0",
                                    "Triples": "0",
                                    "Homers": "0",
                                    "RBIs": "0"
                                },
                                {
                                    "Num": "635",
                                    "Name": "Kyle Hendricks",
                                    "Team": "CHC",
                                    "Games": "29",
                                    "AtBats": "54",
                                    "Runs": "1",
                                    "Hits": "8",
                                    "Doubles": "1",
                                    "Triples": "0",
                                    "Homers": "0",
                                    "RBIs": "5"
                                },
                                {
                                    "Num": "637",
                                    "Name": "Guillermo Heredia",
                                    "Team": "TBR",
                                    "Games": "89",
                                    "AtBats": "204",
                                    "Runs": "31",
                                    "Hits": "46",
                                    "Doubles": "13",
                                    "Triples": "0",
                                    "Homers": "5",
                                    "RBIs": "20"
                                },
                                {
                                    "Num": "639",
                                    "Name": "Michael Hermosillo",
                                    "Team": "LAA",
                                    "Games": "18",
                                    "AtBats": "36",
                                    "Runs": "7",
                                    "Hits": "5",
                                    "Doubles": "1",
                                    "Triples": "1",
                                    "Homers": "0",
                                    "RBIs": "3"
                                },
                                {
                                    "Num": "640",
                                    "Name": "Cesar Hernandez",
                                    "Team": "PHI",
                                    "Games": "161",
                                    "AtBats": "612",
                                    "Runs": "77",
                                    "Hits": "171",
                                    "Doubles": "31",
                                    "Triples": "3",
                                    "Homers": "14",
                                    "RBIs": "71"
                                },
                                {
                                    "Num": "643",
                                    "Name": "Elieser Hernandez",
                                    "Team": "MIA",
                                    "Games": "20",
                                    "AtBats": "19",
                                    "Runs": "0",
                                    "Hits": "1",
                                    "Doubles": "0",
                                    "Triples": "0",
                                    "Homers": "0",
                                    "RBIs": "0"
                                },
                                {
                                    "Num": "644",
                                    "Name": "Enrique Hernandez",
                                    "Team": "LAD",
                                    "Games": "130",
                                    "AtBats": "414",
                                    "Runs": "57",
                                    "Hits": "98",
                                    "Doubles": "19",
                                    "Triples": "1",
                                    "Homers": "17",
                                    "RBIs": "64"
                                },
                                {
                                    "Num": "646",
                                    "Name": "Gorkys Hernandez",
                                    "Team": "BOS",
                                    "Games": "20",
                                    "AtBats": "49",
                                    "Runs": "5",
                                    "Hits": "7",
                                    "Doubles": "1",
                                    "Triples": "2",
                                    "Homers": "0",
                                    "RBIs": "2"
                                },
                                {
                                    "Num": "647",
                                    "Name": "Marco Hernandez",
                                    "Team": "BOS",
                                    "Games": "61",
                                    "AtBats": "148",
                                    "Runs": "18",
                                    "Hits": "37",
                                    "Doubles": "7",
                                    "Triples": "0",
                                    "Homers": "2",
                                    "RBIs": "11"
                                },
                                {
                                    "Num": "648",
                                    "Name": "Teoscar Hernandez",
                                    "Team": "TOR",
                                    "Games": "125",
                                    "AtBats": "417",
                                    "Runs": "58",
                                    "Hits": "96",
                                    "Doubles": "19",
                                    "Triples": "2",
                                    "Homers": "26",
                                    "RBIs": "65"
                                },
                                {
                                    "Num": "650",
                                    "Name": "Odubel Herrera",
                                    "Team": "PHI",
                                    "Games": "39",
                                    "AtBats": "126",
                                    "Runs": "12",
                                    "Hits": "28",
                                    "Doubles": "10",
                                    "Triples": "1",
                                    "Homers": "1",
                                    "RBIs": "16"
                                },
                                {
                                    "Num": "651",
                                    "Name": "Rosell Herrera",
                                    "Team": "MIA",
                                    "Games": "63",
                                    "AtBats": "105",
                                    "Runs": "10",
                                    "Hits": "21",
                                    "Doubles": "6",
                                    "Triples": "0",
                                    "Homers": "2",
                                    "RBIs": "11"
                                },
                                {
                                    "Num": "652",
                                    "Name": "Chris Herrmann",
                                    "Team": "OAK",
                                    "Games": "30",
                                    "AtBats": "84",
                                    "Runs": "9",
                                    "Hits": "17",
                                    "Doubles": "3",
                                    "Triples": "0",
                                    "Homers": "1",
                                    "RBIs": "8"
                                },
                                {
                                    "Num": "654",
                                    "Name": "Jason Heyward",
                                    "Team": "CHC",
                                    "Games": "147",
                                    "AtBats": "513",
                                    "Runs": "78",
                                    "Hits": "129",
                                    "Doubles": "20",
                                    "Triples": "4",
                                    "Homers": "21",
                                    "RBIs": "62"
                                },
                                {
                                    "Num": "655",
                                    "Name": "Aaron Hicks",
                                    "Team": "NYY",
                                    "Games": "59",
                                    "AtBats": "221",
                                    "Runs": "41",
                                    "Hits": "52",
                                    "Doubles": "10",
                                    "Triples": "0",
                                    "Homers": "12",
                                    "RBIs": "36"
                                },
                                {
                                    "Num": "656",
                                    "Name": "John Hicks",
                                    "Team": "DET",
                                    "Games": "95",
                                    "AtBats": "319",
                                    "Runs": "29",
                                    "Hits": "67",
                                    "Doubles": "15",
                                    "Triples": "0",
                                    "Homers": "13",
                                    "RBIs": "35"
                                },
                                {
                                    "Num": "658",
                                    "Name": "Kyle Higashioka",
                                    "Team": "NYY",
                                    "Games": "18",
                                    "AtBats": "56",
                                    "Runs": "8",
                                    "Hits": "12",
                                    "Doubles": "5",
                                    "Triples": "0",
                                    "Homers": "3",
                                    "RBIs": "11"
                                },
                                {
                                    "Num": "660",
                                    "Name": "Rich Hill",
                                    "Team": "LAD",
                                    "Games": "11",
                                    "AtBats": "18",
                                    "Runs": "0",
                                    "Hits": "3",
                                    "Doubles": "1",
                                    "Triples": "0",
                                    "Homers": "0",
                                    "RBIs": "1"
                                },
                                {
                                    "Num": "662",
                                    "Name": "Sam Hilliard",
                                    "Team": "COL",
                                    "Games": "27",
                                    "AtBats": "77",
                                    "Runs": "13",
                                    "Hits": "21",
                                    "Doubles": "4",
                                    "Triples": "2",
                                    "Homers": "7",
                                    "RBIs": "13"
                                },
                                {
                                    "Num": "664",
                                    "Name": "Keston Hiura",
                                    "Team": "MIL",
                                    "Games": "84",
                                    "AtBats": "314",
                                    "Runs": "51",
                                    "Hits": "95",
                                    "Doubles": "23",
                                    "Triples": "2",
                                    "Homers": "19",
                                    "RBIs": "49"
                                },
                                {
                                    "Num": "665",
                                    "Name": "Nico Hoerner",
                                    "Team": "CHC",
                                    "Games": "20",
                                    "AtBats": "78",
                                    "Runs": "13",
                                    "Hits": "22",
                                    "Doubles": "1",
                                    "Triples": "1",
                                    "Homers": "3",
                                    "RBIs": "17"
                                },
                                {
                                    "Num": "666",
                                    "Name": "Jeff Hoffman",
                                    "Team": "COL",
                                    "Games": "18",
                                    "AtBats": "21",
                                    "Runs": "2",
                                    "Hits": "5",
                                    "Doubles": "0",
                                    "Triples": "0",
                                    "Homers": "0",
                                    "RBIs": "1"
                                },
                                {
                                    "Num": "667",
                                    "Name": "Bryan Holaday",
                                    "Team": "MIA",
                                    "Games": "43",
                                    "AtBats": "115",
                                    "Runs": "12",
                                    "Hits": "32",
                                    "Doubles": "6",
                                    "Triples": "0",
                                    "Homers": "4",
                                    "RBIs": "12"
                                },
                                {
                                    "Num": "670",
                                    "Name": "Derek Holland",
                                    "Team": "SFG",
                                    "Games": "32",
                                    "AtBats": "12",
                                    "Runs": "0",
                                    "Hits": "1",
                                    "Doubles": "0",
                                    "Triples": "0",
                                    "Homers": "0",
                                    "RBIs": "0"
                                },
                                {
                                    "Num": "674",
                                    "Name": "Brock Holt",
                                    "Team": "BOS",
                                    "Games": "87",
                                    "AtBats": "259",
                                    "Runs": "38",
                                    "Hits": "77",
                                    "Doubles": "14",
                                    "Triples": "2",
                                    "Homers": "3",
                                    "RBIs": "31"
                                },
                                {
                                    "Num": "675",
                                    "Name": "Rhys Hoskins",
                                    "Team": "PHI",
                                    "Games": "160",
                                    "AtBats": "570",
                                    "Runs": "86",
                                    "Hits": "129",
                                    "Doubles": "33",
                                    "Triples": "5",
                                    "Homers": "29",
                                    "RBIs": "85"
                                },
                                {
                                    "Num": "676",
                                    "Name": "Eric Hosmer",
                                    "Team": "SDP",
                                    "Games": "160",
                                    "AtBats": "619",
                                    "Runs": "72",
                                    "Hits": "164",
                                    "Doubles": "29",
                                    "Triples": "2",
                                    "Homers": "22",
                                    "RBIs": "99"
                                },
                                {
                                    "Num": "677",
                                    "Name": "Adrian Houser",
                                    "Team": "MIL",
                                    "Games": "32",
                                    "AtBats": "22",
                                    "Runs": "0",
                                    "Hits": "1",
                                    "Doubles": "1",
                                    "Triples": "0",
                                    "Homers": "0",
                                    "RBIs": "0"
                                },
                                {
                                    "Num": "680",
                                    "Name": "Dakota Hudson",
                                    "Team": "STL",
                                    "Games": "30",
                                    "AtBats": "51",
                                    "Runs": "1",
                                    "Hits": "4",
                                    "Doubles": "0",
                                    "Triples": "0",
                                    "Homers": "0",
                                    "RBIs": "2"
                                },
                                {
                                    "Num": "689",
                                    "Name": "Nick Hundley",
                                    "Team": "OAK",
                                    "Games": "31",
                                    "AtBats": "70",
                                    "Runs": "5",
                                    "Hits": "14",
                                    "Doubles": "3",
                                    "Triples": "1",
                                    "Homers": "2",
                                    "RBIs": "5"
                                },
                                {
                                    "Num": "691",
                                    "Name": "Chris Iannetta",
                                    "Team": "COL",
                                    "Games": "52",
                                    "AtBats": "144",
                                    "Runs": "20",
                                    "Hits": "32",
                                    "Doubles": "10",
                                    "Triples": "0",
                                    "Homers": "6",
                                    "RBIs": "21"
                                },
                                {
                                    "Num": "692",
                                    "Name": "José Iglesias",
                                    "Team": "CIN",
                                    "Games": "146",
                                    "AtBats": "504",
                                    "Runs": "62",
                                    "Hits": "145",
                                    "Doubles": "21",
                                    "Triples": "3",
                                    "Homers": "11",
                                    "RBIs": "59"
                                },
                                {
                                    "Num": "694",
                                    "Name": "Ender Inciarte",
                                    "Team": "ATL",
                                    "Games": "65",
                                    "AtBats": "199",
                                    "Runs": "30",
                                    "Hits": "49",
                                    "Doubles": "11",
                                    "Triples": "2",
                                    "Homers": "5",
                                    "RBIs": "24"
                                },
                                {
                                    "Num": "695",
                                    "Name": "Cole Irvin",
                                    "Team": "PHI",
                                    "Games": "14",
                                    "AtBats": "6",
                                    "Runs": "1",
                                    "Hits": "1",
                                    "Doubles": "0",
                                    "Triples": "0",
                                    "Homers": "0",
                                    "RBIs": "0"
                                },
                                {
                                    "Num": "703",
                                    "Name": "Travis Jankowski",
                                    "Team": "SDP",
                                    "Games": "25",
                                    "AtBats": "22",
                                    "Runs": "4",
                                    "Hits": "4",
                                    "Doubles": "0",
                                    "Triples": "0",
                                    "Homers": "0",
                                    "RBIs": "0"
                                },
                                {
                                    "Num": "704",
                                    "Name": "Danny Jansen",
                                    "Team": "TOR",
                                    "Games": "107",
                                    "AtBats": "347",
                                    "Runs": "41",
                                    "Hits": "72",
                                    "Doubles": "12",
                                    "Triples": "1",
                                    "Homers": "13",
                                    "RBIs": "43"
                                },
                                {
                                    "Num": "706",
                                    "Name": "Jon Jay",
                                    "Team": "CHW",
                                    "Games": "47",
                                    "AtBats": "165",
                                    "Runs": "12",
                                    "Hits": "44",
                                    "Doubles": "8",
                                    "Triples": "0",
                                    "Homers": "0",
                                    "RBIs": "9"
                                },
                                {
                                    "Num": "713",
                                    "Name": "Eloy Jimenez",
                                    "Team": "CHW",
                                    "Games": "122",
                                    "AtBats": "468",
                                    "Runs": "69",
                                    "Hits": "125",
                                    "Doubles": "18",
                                    "Triples": "2",
                                    "Homers": "31",
                                    "RBIs": "79"
                                },
                                {
                                    "Num": "715",
                                    "Name": "Connor Joe",
                                    "Team": "SFG",
                                    "Games": "8",
                                    "AtBats": "15",
                                    "Runs": "1",
                                    "Hits": "1",
                                    "Doubles": "0",
                                    "Triples": "0",
                                    "Homers": "0",
                                    "RBIs": "0"
                                },
                                {
                                    "Num": "718",
                                    "Name": "Adam Jones",
                                    "Team": "ARI",
                                    "Games": "137",
                                    "AtBats": "485",
                                    "Runs": "66",
                                    "Hits": "126",
                                    "Doubles": "25",
                                    "Triples": "1",
                                    "Homers": "16",
                                    "RBIs": "67"
                                },
                                {
                                    "Num": "719",
                                    "Name": "JaCoby Jones",
                                    "Team": "DET",
                                    "Games": "88",
                                    "AtBats": "298",
                                    "Runs": "39",
                                    "Hits": "70",
                                    "Doubles": "19",
                                    "Triples": "3",
                                    "Homers": "11",
                                    "RBIs": "26"
                                },
                                {
                                    "Num": "720",
                                    "Name": "Caleb Joseph",
                                    "Team": "ARI",
                                    "Games": "20",
                                    "AtBats": "38",
                                    "Runs": "5",
                                    "Hits": "8",
                                    "Doubles": "2",
                                    "Triples": "0",
                                    "Homers": "0",
                                    "RBIs": "3"
                                },
                                {
                                    "Num": "723",
                                    "Name": "Corban Joseph",
                                    "Team": "OAK",
                                    "Games": "11",
                                    "AtBats": "37",
                                    "Runs": "4",
                                    "Hits": "7",
                                    "Doubles": "2",
                                    "Triples": "0",
                                    "Homers": "1",
                                    "RBIs": "5"
                                },
                                {
                                    "Num": "724",
                                    "Name": "Corban Joseph",
                                    "Team": "SFG",
                                    "Games": "8",
                                    "AtBats": "16",
                                    "Runs": "0",
                                    "Hits": "1",
                                    "Doubles": "0",
                                    "Triples": "0",
                                    "Homers": "0",
                                    "RBIs": "2"
                                },
                                {
                                    "Num": "725",
                                    "Name": "Corban Joseph",
                                    "Team": "PIT",
                                    "Games": "9",
                                    "AtBats": "11",
                                    "Runs": "1",
                                    "Hits": "2",
                                    "Doubles": "1",
                                    "Triples": "0",
                                    "Homers": "0",
                                    "RBIs": "0"
                                },
                                {
                                    "Num": "726",
                                    "Name": "Matthew Joyce",
                                    "Team": "ATL",
                                    "Games": "129",
                                    "AtBats": "200",
                                    "Runs": "32",
                                    "Hits": "59",
                                    "Doubles": "10",
                                    "Triples": "0",
                                    "Homers": "7",
                                    "RBIs": "23"
                                },
                                {
                                    "Num": "727",
                                    "Name": "Aaron Judge",
                                    "Team": "NYY",
                                    "Games": "102",
                                    "AtBats": "378",
                                    "Runs": "75",
                                    "Hits": "103",
                                    "Doubles": "18",
                                    "Triples": "1",
                                    "Homers": "27",
                                    "RBIs": "55"
                                },
                                {
                                    "Num": "731",
                                    "Name": "Jung Ho Kang",
                                    "Team": "PIT",
                                    "Games": "65",
                                    "AtBats": "172",
                                    "Runs": "15",
                                    "Hits": "29",
                                    "Doubles": "7",
                                    "Triples": "1",
                                    "Homers": "10",
                                    "RBIs": "24"
                                },
                                {
                                    "Num": "734",
                                    "Name": "Brad Keller",
                                    "Team": "KCR",
                                    "Games": "3",
                                    "AtBats": "8",
                                    "Runs": "0",
                                    "Hits": "1",
                                    "Doubles": "0",
                                    "Triples": "0",
                                    "Homers": "0",
                                    "RBIs": "1"
                                },
                                {
                                    "Num": "738",
                                    "Name": "Carson Kelly",
                                    "Team": "ARI",
                                    "Games": "111",
                                    "AtBats": "314",
                                    "Runs": "46",
                                    "Hits": "77",
                                    "Doubles": "19",
                                    "Triples": "0",
                                    "Homers": "18",
                                    "RBIs": "47"
                                },
                                {
                                    "Num": "740",
                                    "Name": "Merrill Kelly",
                                    "Team": "ARI",
                                    "Games": "30",
                                    "AtBats": "52",
                                    "Runs": "3",
                                    "Hits": "1",
                                    "Doubles": "0",
                                    "Triples": "0",
                                    "Homers": "0",
                                    "RBIs": "2"
                                },
                                {
                                    "Num": "741",
                                    "Name": "Matt Kemp",
                                    "Team": "CIN",
                                    "Games": "20",
                                    "AtBats": "60",
                                    "Runs": "4",
                                    "Hits": "12",
                                    "Doubles": "2",
                                    "Triples": "0",
                                    "Homers": "1",
                                    "RBIs": "5"
                                },
                                {
                                    "Num": "743",
                                    "Name": "Tony Kemp",
                                    "Team": "HOU",
                                    "Games": "66",
                                    "AtBats": "163",
                                    "Runs": "23",
                                    "Hits": "37",
                                    "Doubles": "6",
                                    "Triples": "2",
                                    "Homers": "7",
                                    "RBIs": "17"
                                },
                                {
                                    "Num": "744",
                                    "Name": "Tony Kemp",
                                    "Team": "CHC",
                                    "Games": "44",
                                    "AtBats": "82",
                                    "Runs": "8",
                                    "Hits": "15",
                                    "Doubles": "3",
                                    "Triples": "2",
                                    "Homers": "1",
                                    "RBIs": "12"
                                },
                                {
                                    "Num": "745",
                                    "Name": "Howie Kendrick",
                                    "Team": "WSN",
                                    "Games": "121",
                                    "AtBats": "334",
                                    "Runs": "61",
                                    "Hits": "115",
                                    "Doubles": "23",
                                    "Triples": "1",
                                    "Homers": "17",
                                    "RBIs": "62"
                                },
                                {
                                    "Num": "747",
                                    "Name": "Max Kepler",
                                    "Team": "MIN",
                                    "Games": "134",
                                    "AtBats": "524",
                                    "Runs": "98",
                                    "Hits": "132",
                                    "Doubles": "32",
                                    "Triples": "0",
                                    "Homers": "36",
                                    "RBIs": "90"
                                },
                                {
                                    "Num": "748",
                                    "Name": "Clayton Kershaw",
                                    "Team": "LAD",
                                    "Games": "28",
                                    "AtBats": "49",
                                    "Runs": "1",
                                    "Hits": "5",
                                    "Doubles": "1",
                                    "Triples": "0",
                                    "Homers": "0",
                                    "RBIs": "1"
                                },
                                {
                                    "Num": "749",
                                    "Name": "Dallas Keuchel",
                                    "Team": "ATL",
                                    "Games": "19",
                                    "AtBats": "38",
                                    "Runs": "0",
                                    "Hits": "5",
                                    "Doubles": "1",
                                    "Triples": "0",
                                    "Homers": "0",
                                    "RBIs": "2"
                                },
                                {
                                    "Num": "750",
                                    "Name": "Carter Kieboom",
                                    "Team": "WSN",
                                    "Games": "11",
                                    "AtBats": "39",
                                    "Runs": "4",
                                    "Hits": "5",
                                    "Doubles": "0",
                                    "Triples": "0",
                                    "Homers": "2",
                                    "RBIs": "2"
                                },
                                {
                                    "Num": "751",
                                    "Name": "Kevin Kiermaier",
                                    "Team": "TBR",
                                    "Games": "129",
                                    "AtBats": "447",
                                    "Runs": "60",
                                    "Hits": "102",
                                    "Doubles": "20",
                                    "Triples": "7",
                                    "Homers": "14",
                                    "RBIs": "55"
                                },
                                {
                                    "Num": "754",
                                    "Name": "Isiah Kiner-Falefa",
                                    "Team": "TEX",
                                    "Games": "65",
                                    "AtBats": "202",
                                    "Runs": "23",
                                    "Hits": "48",
                                    "Doubles": "12",
                                    "Triples": "1",
                                    "Homers": "1",
                                    "RBIs": "21"
                                },
                                {
                                    "Num": "755",
                                    "Name": "Scott Kingery",
                                    "Team": "PHI",
                                    "Games": "126",
                                    "AtBats": "458",
                                    "Runs": "64",
                                    "Hits": "118",
                                    "Doubles": "34",
                                    "Triples": "4",
                                    "Homers": "19",
                                    "RBIs": "55"
                                },
                                {
                                    "Num": "759",
                                    "Name": "Ian Kinsler",
                                    "Team": "SDP",
                                    "Games": "87",
                                    "AtBats": "258",
                                    "Runs": "28",
                                    "Hits": "56",
                                    "Doubles": "12",
                                    "Triples": "0",
                                    "Homers": "9",
                                    "RBIs": "22"
                                },
                                {
                                    "Num": "761",
                                    "Name": "Jason Kipnis",
                                    "Team": "CLE",
                                    "Games": "121",
                                    "AtBats": "458",
                                    "Runs": "52",
                                    "Hits": "112",
                                    "Doubles": "23",
                                    "Triples": "1",
                                    "Homers": "17",
                                    "RBIs": "65"
                                },
                                {
                                    "Num": "765",
                                    "Name": "Andrew Knapp",
                                    "Team": "PHI",
                                    "Games": "74",
                                    "AtBats": "136",
                                    "Runs": "12",
                                    "Hits": "29",
                                    "Doubles": "9",
                                    "Triples": "0",
                                    "Homers": "2",
                                    "RBIs": "8"
                                },
                                {
                                    "Num": "766",
                                    "Name": "Andrew Knizner",
                                    "Team": "STL",
                                    "Games": "18",
                                    "AtBats": "53",
                                    "Runs": "7",
                                    "Hits": "12",
                                    "Doubles": "2",
                                    "Triples": "0",
                                    "Homers": "2",
                                    "RBIs": "7"
                                },
                                {
                                    "Num": "771",
                                    "Name": "Kevin Kramer",
                                    "Team": "PIT",
                                    "Games": "22",
                                    "AtBats": "42",
                                    "Runs": "5",
                                    "Hits": "7",
                                    "Doubles": "1",
                                    "Triples": "0",
                                    "Homers": "0",
                                    "RBIs": "5"
                                },
                                {
                                    "Num": "773",
                                    "Name": "Erik Kratz",
                                    "Team": "SFG",
                                    "Games": "15",
                                    "AtBats": "32",
                                    "Runs": "1",
                                    "Hits": "4",
                                    "Doubles": "2",
                                    "Triples": "0",
                                    "Homers": "1",
                                    "RBIs": "3"
                                },
                                {
                                    "Num": "774",
                                    "Name": "Erik Kratz",
                                    "Team": "TBR",
                                    "Games": "6",
                                    "AtBats": "17",
                                    "Runs": "0",
                                    "Hits": "1",
                                    "Doubles": "0",
                                    "Triples": "0",
                                    "Homers": "0",
                                    "RBIs": "0"
                                },
                                {
                                    "Num": "776",
                                    "Name": "Tommy La Stella",
                                    "Team": "LAA",
                                    "Games": "80",
                                    "AtBats": "292",
                                    "Runs": "49",
                                    "Hits": "86",
                                    "Doubles": "8",
                                    "Triples": "0",
                                    "Homers": "16",
                                    "RBIs": "44"
                                },
                                {
                                    "Num": "777",
                                    "Name": "Juan Lagares",
                                    "Team": "NYM",
                                    "Games": "133",
                                    "AtBats": "258",
                                    "Runs": "38",
                                    "Hits": "55",
                                    "Doubles": "12",
                                    "Triples": "1",
                                    "Homers": "5",
                                    "RBIs": "27"
                                },
                                {
                                    "Num": "778",
                                    "Name": "Ryan LaMarre",
                                    "Team": "MIN",
                                    "Games": "14",
                                    "AtBats": "23",
                                    "Runs": "3",
                                    "Hits": "5",
                                    "Doubles": "0",
                                    "Triples": "0",
                                    "Homers": "2",
                                    "RBIs": "3"
                                },
                                {
                                    "Num": "779",
                                    "Name": "Jake Lamb",
                                    "Team": "ARI",
                                    "Games": "78",
                                    "AtBats": "187",
                                    "Runs": "26",
                                    "Hits": "36",
                                    "Doubles": "8",
                                    "Triples": "2",
                                    "Homers": "6",
                                    "RBIs": "30"
                                },
                                {
                                    "Num": "780",
                                    "Name": "Peter Lambert",
                                    "Team": "COL",
                                    "Games": "21",
                                    "AtBats": "28",
                                    "Runs": "3",
                                    "Hits": "9",
                                    "Doubles": "0",
                                    "Triples": "0",
                                    "Homers": "0",
                                    "RBIs": "2"
                                },
                                {
                                    "Num": "781",
                                    "Name": "Dinelson Lamet",
                                    "Team": "SDP",
                                    "Games": "13",
                                    "AtBats": "21",
                                    "Runs": "1",
                                    "Hits": "3",
                                    "Doubles": "0",
                                    "Triples": "0",
                                    "Homers": "0",
                                    "RBIs": "0"
                                },
                                {
                                    "Num": "782",
                                    "Name": "Eric Lauer",
                                    "Team": "SDP",
                                    "Games": "29",
                                    "AtBats": "40",
                                    "Runs": "1",
                                    "Hits": "4",
                                    "Doubles": "2",
                                    "Triples": "0",
                                    "Homers": "0",
                                    "RBIs": "0"
                                },
                                {
                                    "Num": "783",
                                    "Name": "Ramon Laureano",
                                    "Team": "OAK",
                                    "Games": "123",
                                    "AtBats": "434",
                                    "Runs": "79",
                                    "Hits": "125",
                                    "Doubles": "29",
                                    "Triples": "0",
                                    "Homers": "24",
                                    "RBIs": "67"
                                },
                                {
                                    "Num": "784",
                                    "Name": "Ryan Lavarnway",
                                    "Team": "CIN",
                                    "Games": "5",
                                    "AtBats": "18",
                                    "Runs": "4",
                                    "Hits": "5",
                                    "Doubles": "2",
                                    "Triples": "0",
                                    "Homers": "2",
                                    "RBIs": "7"
                                },
                                {
                                    "Num": "788",
                                    "Name": "Mike Leake",
                                    "Team": "ARI",
                                    "Games": "10",
                                    "AtBats": "20",
                                    "Runs": "0",
                                    "Hits": "1",
                                    "Doubles": "0",
                                    "Triples": "0",
                                    "Homers": "0",
                                    "RBIs": "1"
                                },
                                {
                                    "Num": "791",
                                    "Name": "DJ LeMahieu",
                                    "Team": "NYY",
                                    "Games": "145",
                                    "AtBats": "602",
                                    "Runs": "109",
                                    "Hits": "197",
                                    "Doubles": "33",
                                    "Triples": "2",
                                    "Homers": "26",
                                    "RBIs": "102"
                                },
                                {
                                    "Num": "792",
                                    "Name": "Sandy Leon",
                                    "Team": "BOS",
                                    "Games": "65",
                                    "AtBats": "172",
                                    "Runs": "14",
                                    "Hits": "33",
                                    "Doubles": "3",
                                    "Triples": "0",
                                    "Homers": "5",
                                    "RBIs": "19"
                                },
                                {
                                    "Num": "794",
                                    "Name": "Jon Lester",
                                    "Team": "CHC",
                                    "Games": "28",
                                    "AtBats": "48",
                                    "Runs": "6",
                                    "Hits": "9",
                                    "Doubles": "2",
                                    "Triples": "0",
                                    "Homers": "1",
                                    "RBIs": "6"
                                },
                                {
                                    "Num": "795",
                                    "Name": "Kyle Lewis",
                                    "Team": "SEA",
                                    "Games": "18",
                                    "AtBats": "71",
                                    "Runs": "10",
                                    "Hits": "19",
                                    "Doubles": "5",
                                    "Triples": "0",
                                    "Homers": "6",
                                    "RBIs": "13"
                                },
                                {
                                    "Num": "796",
                                    "Name": "Domingo Leyba",
                                    "Team": "ARI",
                                    "Games": "21",
                                    "AtBats": "25",
                                    "Runs": "6",
                                    "Hits": "7",
                                    "Doubles": "2",
                                    "Triples": "1",
                                    "Homers": "0",
                                    "RBIs": "5"
                                },
                                {
                                    "Num": "797",
                                    "Name": "Tzu-Wei Lin",
                                    "Team": "BOS",
                                    "Games": "13",
                                    "AtBats": "20",
                                    "Runs": "3",
                                    "Hits": "4",
                                    "Doubles": "2",
                                    "Triples": "0",
                                    "Homers": "0",
                                    "RBIs": "1"
                                },
                                {
                                    "Num": "798",
                                    "Name": "Francisco Lindor",
                                    "Team": "CLE",
                                    "Games": "143",
                                    "AtBats": "598",
                                    "Runs": "101",
                                    "Hits": "170",
                                    "Doubles": "40",
                                    "Triples": "2",
                                    "Homers": "32",
                                    "RBIs": "74"
                                },
                                {
                                    "Num": "799",
                                    "Name": "Francisco Liriano",
                                    "Team": "PIT",
                                    "Games": "67",
                                    "AtBats": "1",
                                    "Runs": "0",
                                    "Hits": "1",
                                    "Doubles": "0",
                                    "Triples": "0",
                                    "Homers": "0",
                                    "RBIs": "0"
                                },
                                {
                                    "Num": "801",
                                    "Name": "Tim Locastro",
                                    "Team": "ARI",
                                    "Games": "91",
                                    "AtBats": "212",
                                    "Runs": "38",
                                    "Hits": "53",
                                    "Doubles": "12",
                                    "Triples": "2",
                                    "Homers": "1",
                                    "RBIs": "17"
                                },
                                {
                                    "Num": "802",
                                    "Name": "Walker Lockett",
                                    "Team": "NYM",
                                    "Games": "9",
                                    "AtBats": "6",
                                    "Runs": "0",
                                    "Hits": "1",
                                    "Doubles": "0",
                                    "Triples": "0",
                                    "Homers": "0",
                                    "RBIs": "0"
                                },
                                {
                                    "Num": "803",
                                    "Name": "Shed Long",
                                    "Team": "SEA",
                                    "Games": "42",
                                    "AtBats": "152",
                                    "Runs": "21",
                                    "Hits": "40",
                                    "Doubles": "12",
                                    "Triples": "1",
                                    "Homers": "5",
                                    "RBIs": "15"
                                },
                                {
                                    "Num": "804",
                                    "Name": "Evan Longoria",
                                    "Team": "SFG",
                                    "Games": "129",
                                    "AtBats": "453",
                                    "Runs": "59",
                                    "Hits": "115",
                                    "Doubles": "19",
                                    "Triples": "2",
                                    "Homers": "20",
                                    "RBIs": "69"
                                },
                                {
                                    "Num": "805",
                                    "Name": "Tim Lopes",
                                    "Team": "SEA",
                                    "Games": "41",
                                    "AtBats": "111",
                                    "Runs": "11",
                                    "Hits": "30",
                                    "Doubles": "7",
                                    "Triples": "0",
                                    "Homers": "1",
                                    "RBIs": "12"
                                },
                                {
                                    "Num": "807",
                                    "Name": "Nicky Lopez",
                                    "Team": "KCR",
                                    "Games": "103",
                                    "AtBats": "379",
                                    "Runs": "44",
                                    "Hits": "91",
                                    "Doubles": "22",
                                    "Triples": "2",
                                    "Homers": "2",
                                    "RBIs": "30"
                                },
                                {
                                    "Num": "808",
                                    "Name": "Pablo Lopez",
                                    "Team": "MIA",
                                    "Games": "21",
                                    "AtBats": "35",
                                    "Runs": "1",
                                    "Hits": "6",
                                    "Doubles": "2",
                                    "Triples": "0",
                                    "Homers": "0",
                                    "RBIs": "3"
                                },
                                {
                                    "Num": "811",
                                    "Name": "Michael Lorenzen",
                                    "Team": "CIN",
                                    "Games": "100",
                                    "AtBats": "48",
                                    "Runs": "6",
                                    "Hits": "10",
                                    "Doubles": "2",
                                    "Triples": "0",
                                    "Homers": "1",
                                    "RBIs": "6"
                                },
                                {
                                    "Num": "814",
                                    "Name": "Brandon Lowe",
                                    "Team": "TBR",
                                    "Games": "82",
                                    "AtBats": "296",
                                    "Runs": "42",
                                    "Hits": "80",
                                    "Doubles": "17",
                                    "Triples": "2",
                                    "Homers": "17",
                                    "RBIs": "51"
                                },
                                {
                                    "Num": "815",
                                    "Name": "Nate Lowe",
                                    "Team": "TBR",
                                    "Games": "50",
                                    "AtBats": "152",
                                    "Runs": "24",
                                    "Hits": "40",
                                    "Doubles": "8",
                                    "Triples": "0",
                                    "Homers": "7",
                                    "RBIs": "19"
                                },
                                {
                                    "Num": "818",
                                    "Name": "Joey Lucchesi",
                                    "Team": "SDP",
                                    "Games": "28",
                                    "AtBats": "48",
                                    "Runs": "0",
                                    "Hits": "3",
                                    "Doubles": "0",
                                    "Triples": "0",
                                    "Homers": "0",
                                    "RBIs": "1"
                                },
                                {
                                    "Num": "821",
                                    "Name": "Jonathan Lucroy",
                                    "Team": "LAA",
                                    "Games": "74",
                                    "AtBats": "240",
                                    "Runs": "28",
                                    "Hits": "58",
                                    "Doubles": "8",
                                    "Triples": "1",
                                    "Homers": "7",
                                    "RBIs": "30"
                                },
                                {
                                    "Num": "822",
                                    "Name": "Jonathan Lucroy",
                                    "Team": "CHC",
                                    "Games": "27",
                                    "AtBats": "53",
                                    "Runs": "2",
                                    "Hits": "10",
                                    "Doubles": "2",
                                    "Triples": "0",
                                    "Homers": "1",
                                    "RBIs": "6"
                                },
                                {
                                    "Num": "823",
                                    "Name": "Dawel Lugo",
                                    "Team": "DET",
                                    "Games": "77",
                                    "AtBats": "273",
                                    "Runs": "28",
                                    "Hits": "67",
                                    "Doubles": "11",
                                    "Triples": "4",
                                    "Homers": "6",
                                    "RBIs": "26"
                                },
                                {
                                    "Num": "824",
                                    "Name": "Seth Lugo",
                                    "Team": "NYM",
                                    "Games": "57",
                                    "AtBats": "1",
                                    "Runs": "0",
                                    "Hits": "1",
                                    "Doubles": "0",
                                    "Triples": "0",
                                    "Homers": "0",
                                    "RBIs": "1"
                                },
                                {
                                    "Num": "825",
                                    "Name": "Jordan Luplow",
                                    "Team": "CLE",
                                    "Games": "85",
                                    "AtBats": "225",
                                    "Runs": "42",
                                    "Hits": "62",
                                    "Doubles": "15",
                                    "Triples": "1",
                                    "Homers": "15",
                                    "RBIs": "38"
                                },
                                {
                                    "Num": "826",
                                    "Name": "Gavin Lux",
                                    "Team": "LAD",
                                    "Games": "23",
                                    "AtBats": "75",
                                    "Runs": "12",
                                    "Hits": "18",
                                    "Doubles": "4",
                                    "Triples": "1",
                                    "Homers": "2",
                                    "RBIs": "9"
                                },
                                {
                                    "Num": "828",
                                    "Name": "Jordan Lyles",
                                    "Team": "PIT",
                                    "Games": "16",
                                    "AtBats": "25",
                                    "Runs": "1",
                                    "Hits": "2",
                                    "Doubles": "0",
                                    "Triples": "0",
                                    "Homers": "0",
                                    "RBIs": "2"
                                },
                                {
                                    "Num": "829",
                                    "Name": "Jordan Lyles",
                                    "Team": "MIL",
                                    "Games": "10",
                                    "AtBats": "20",
                                    "Runs": "2",
                                    "Hits": "2",
                                    "Doubles": "0",
                                    "Triples": "0",
                                    "Homers": "0",
                                    "RBIs": "2"
                                },
                                {
                                    "Num": "833",
                                    "Name": "Manny Machado",
                                    "Team": "SDP",
                                    "Games": "156",
                                    "AtBats": "587",
                                    "Runs": "81",
                                    "Hits": "150",
                                    "Doubles": "21",
                                    "Triples": "2",
                                    "Homers": "32",
                                    "RBIs": "85"
                                },
                                {
                                    "Num": "834",
                                    "Name": "Kenta Maeda",
                                    "Team": "LAD",
                                    "Games": "38",
                                    "AtBats": "48",
                                    "Runs": "3",
                                    "Hits": "12",
                                    "Doubles": "2",
                                    "Triples": "0",
                                    "Homers": "0",
                                    "RBIs": "6"
                                },
                                {
                                    "Num": "837",
                                    "Name": "Tyler Mahle",
                                    "Team": "CIN",
                                    "Games": "24",
                                    "AtBats": "34",
                                    "Runs": "4",
                                    "Hits": "3",
                                    "Doubles": "1",
                                    "Triples": "0",
                                    "Homers": "0",
                                    "RBIs": "0"
                                },
                                {
                                    "Num": "839",
                                    "Name": "Luke Maile",
                                    "Team": "TOR",
                                    "Games": "44",
                                    "AtBats": "119",
                                    "Runs": "9",
                                    "Hits": "18",
                                    "Doubles": "2",
                                    "Triples": "1",
                                    "Homers": "2",
                                    "RBIs": "9"
                                },
                                {
                                    "Num": "842",
                                    "Name": "Martin Maldonado",
                                    "Team": "KCR",
                                    "Games": "74",
                                    "AtBats": "238",
                                    "Runs": "26",
                                    "Hits": "54",
                                    "Doubles": "15",
                                    "Triples": "0",
                                    "Homers": "6",
                                    "RBIs": "17"
                                },
                                {
                                    "Num": "844",
                                    "Name": "Martin Maldonado",
                                    "Team": "HOU",
                                    "Games": "27",
                                    "AtBats": "84",
                                    "Runs": "20",
                                    "Hits": "17",
                                    "Doubles": "4",
                                    "Triples": "0",
                                    "Homers": "6",
                                    "RBIs": "10"
                                },
                                {
                                    "Num": "845",
                                    "Name": "Trey Mancini",
                                    "Team": "BAL",
                                    "Games": "154",
                                    "AtBats": "602",
                                    "Runs": "106",
                                    "Hits": "175",
                                    "Doubles": "38",
                                    "Triples": "2",
                                    "Homers": "35",
                                    "RBIs": "97"
                                },
                                {
                                    "Num": "847",
                                    "Name": "Nick Margevicius",
                                    "Team": "SDP",
                                    "Games": "17",
                                    "AtBats": "15",
                                    "Runs": "1",
                                    "Hits": "3",
                                    "Doubles": "0",
                                    "Triples": "0",
                                    "Homers": "0",
                                    "RBIs": "0"
                                },
                                {
                                    "Num": "848",
                                    "Name": "Manuel Margot",
                                    "Team": "SDP",
                                    "Games": "151",
                                    "AtBats": "398",
                                    "Runs": "59",
                                    "Hits": "93",
                                    "Doubles": "19",
                                    "Triples": "3",
                                    "Homers": "12",
                                    "RBIs": "37"
                                },
                                {
                                    "Num": "849",
                                    "Name": "Jake Marisnick",
                                    "Team": "HOU",
                                    "Games": "120",
                                    "AtBats": "292",
                                    "Runs": "46",
                                    "Hits": "68",
                                    "Doubles": "16",
                                    "Triples": "3",
                                    "Homers": "10",
                                    "RBIs": "34"
                                },
                                {
                                    "Num": "850",
                                    "Name": "Nick Markakis",
                                    "Team": "ATL",
                                    "Games": "116",
                                    "AtBats": "414",
                                    "Runs": "61",
                                    "Hits": "118",
                                    "Doubles": "25",
                                    "Triples": "2",
                                    "Homers": "9",
                                    "RBIs": "62"
                                },
                                {
                                    "Num": "853",
                                    "Name": "German Marquez",
                                    "Team": "COL",
                                    "Games": "25",
                                    "AtBats": "48",
                                    "Runs": "5",
                                    "Hits": "11",
                                    "Doubles": "4",
                                    "Triples": "1",
                                    "Homers": "0",
                                    "RBIs": "11"
                                },
                                {
                                    "Num": "856",
                                    "Name": "Ketel Marte",
                                    "Team": "ARI",
                                    "Games": "144",
                                    "AtBats": "569",
                                    "Runs": "97",
                                    "Hits": "187",
                                    "Doubles": "36",
                                    "Triples": "9",
                                    "Homers": "32",
                                    "RBIs": "92"
                                },
                                {
                                    "Num": "857",
                                    "Name": "Starling Marte",
                                    "Team": "PIT",
                                    "Games": "132",
                                    "AtBats": "539",
                                    "Runs": "97",
                                    "Hits": "159",
                                    "Doubles": "31",
                                    "Triples": "6",
                                    "Homers": "23",
                                    "RBIs": "82"
                                },
                                {
                                    "Num": "862",
                                    "Name": "Jason Martin",
                                    "Team": "PIT",
                                    "Games": "20",
                                    "AtBats": "36",
                                    "Runs": "5",
                                    "Hits": "9",
                                    "Doubles": "2",
                                    "Triples": "0",
                                    "Homers": "0",
                                    "RBIs": "2"
                                },
                                {
                                    "Num": "863",
                                    "Name": "Leonys Martín",
                                    "Team": "CLE",
                                    "Games": "65",
                                    "AtBats": "236",
                                    "Runs": "32",
                                    "Hits": "47",
                                    "Doubles": "7",
                                    "Triples": "0",
                                    "Homers": "9",
                                    "RBIs": "19"
                                },
                                {
                                    "Num": "864",
                                    "Name": "Richie Martin",
                                    "Team": "BAL",
                                    "Games": "120",
                                    "AtBats": "283",
                                    "Runs": "29",
                                    "Hits": "59",
                                    "Doubles": "8",
                                    "Triples": "3",
                                    "Homers": "6",
                                    "RBIs": "23"
                                },
                                {
                                    "Num": "865",
                                    "Name": "Russell Martin",
                                    "Team": "LAD",
                                    "Games": "83",
                                    "AtBats": "209",
                                    "Runs": "29",
                                    "Hits": "46",
                                    "Doubles": "5",
                                    "Triples": "0",
                                    "Homers": "6",
                                    "RBIs": "20"
                                },
                                {
                                    "Num": "867",
                                    "Name": "J.D. Martinez",
                                    "Team": "BOS",
                                    "Games": "146",
                                    "AtBats": "575",
                                    "Runs": "98",
                                    "Hits": "175",
                                    "Doubles": "33",
                                    "Triples": "2",
                                    "Homers": "36",
                                    "RBIs": "105"
                                },
                                {
                                    "Num": "868",
                                    "Name": "Jose Martinez",
                                    "Team": "STL",
                                    "Games": "128",
                                    "AtBats": "334",
                                    "Runs": "45",
                                    "Hits": "90",
                                    "Doubles": "13",
                                    "Triples": "2",
                                    "Homers": "10",
                                    "RBIs": "42"
                                },
                                {
                                    "Num": "870",
                                    "Name": "Nick Martini",
                                    "Team": "OAK",
                                    "Games": "6",
                                    "AtBats": "11",
                                    "Runs": "1",
                                    "Hits": "1",
                                    "Doubles": "0",
                                    "Triples": "0",
                                    "Homers": "1",
                                    "RBIs": "2"
                                },
                                {
                                    "Num": "871",
                                    "Name": "Nick Martini",
                                    "Team": "SDP",
                                    "Games": "26",
                                    "AtBats": "82",
                                    "Runs": "7",
                                    "Hits": "20",
                                    "Doubles": "4",
                                    "Triples": "1",
                                    "Homers": "0",
                                    "RBIs": "5"
                                },
                                {
                                    "Num": "873",
                                    "Name": "Jeff Mathis",
                                    "Team": "TEX",
                                    "Games": "86",
                                    "AtBats": "228",
                                    "Runs": "17",
                                    "Hits": "36",
                                    "Doubles": "9",
                                    "Triples": "0",
                                    "Homers": "2",
                                    "RBIs": "12"
                                },
                                {
                                    "Num": "875",
                                    "Name": "Phil Maton",
                                    "Team": "SDP",
                                    "Games": "18",
                                    "AtBats": "4",
                                    "Runs": "0",
                                    "Hits": "1",
                                    "Doubles": "0",
                                    "Triples": "0",
                                    "Homers": "0",
                                    "RBIs": "1"
                                },
                                {
                                    "Num": "877",
                                    "Name": "Steven Matz",
                                    "Team": "NYM",
                                    "Games": "35",
                                    "AtBats": "57",
                                    "Runs": "4",
                                    "Hits": "13",
                                    "Doubles": "0",
                                    "Triples": "0",
                                    "Homers": "1",
                                    "RBIs": "1"
                                },
                                {
                                    "Num": "878",
                                    "Name": "Dustin May",
                                    "Team": "LAD",
                                    "Games": "13",
                                    "AtBats": "11",
                                    "Runs": "0",
                                    "Hits": "1",
                                    "Doubles": "0",
                                    "Triples": "0",
                                    "Homers": "0",
                                    "RBIs": "0"
                                },
                                {
                                    "Num": "880",
                                    "Name": "Cameron Maybin",
                                    "Team": "NYY",
                                    "Games": "82",
                                    "AtBats": "239",
                                    "Runs": "48",
                                    "Hits": "68",
                                    "Doubles": "17",
                                    "Triples": "0",
                                    "Homers": "11",
                                    "RBIs": "32"
                                },
                                {
                                    "Num": "882",
                                    "Name": "Jack Mayfield",
                                    "Team": "HOU",
                                    "Games": "26",
                                    "AtBats": "64",
                                    "Runs": "8",
                                    "Hits": "10",
                                    "Doubles": "5",
                                    "Triples": "0",
                                    "Homers": "2",
                                    "RBIs": "5"
                                },
                                {
                                    "Num": "884",
                                    "Name": "Nomar Mazara",
                                    "Team": "TEX",
                                    "Games": "116",
                                    "AtBats": "429",
                                    "Runs": "69",
                                    "Hits": "115",
                                    "Doubles": "27",
                                    "Triples": "1",
                                    "Homers": "19",
                                    "RBIs": "66"
                                },
                                {
                                    "Num": "886",
                                    "Name": "Ryan McBroom",
                                    "Team": "KCR",
                                    "Games": "23",
                                    "AtBats": "75",
                                    "Runs": "8",
                                    "Hits": "22",
                                    "Doubles": "5",
                                    "Triples": "0",
                                    "Homers": "0",
                                    "RBIs": "6"
                                },
                                {
                                    "Num": "887",
                                    "Name": "Brian McCann",
                                    "Team": "ATL",
                                    "Games": "85",
                                    "AtBats": "277",
                                    "Runs": "28",
                                    "Hits": "69",
                                    "Doubles": "9",
                                    "Triples": "0",
                                    "Homers": "12",
                                    "RBIs": "45"
                                },
                                {
                                    "Num": "888",
                                    "Name": "James McCann",
                                    "Team": "CHW",
                                    "Games": "118",
                                    "AtBats": "439",
                                    "Runs": "62",
                                    "Hits": "120",
                                    "Doubles": "26",
                                    "Triples": "1",
                                    "Homers": "18",
                                    "RBIs": "60"
                                },
                                {
                                    "Num": "891",
                                    "Name": "Andrew McCutchen",
                                    "Team": "PHI",
                                    "Games": "59",
                                    "AtBats": "219",
                                    "Runs": "45",
                                    "Hits": "56",
                                    "Doubles": "12",
                                    "Triples": "1",
                                    "Homers": "10",
                                    "RBIs": "29"
                                },
                                {
                                    "Num": "894",
                                    "Name": "Kyle McGowin",
                                    "Team": "WSN",
                                    "Games": "7",
                                    "AtBats": "3",
                                    "Runs": "1",
                                    "Hits": "1",
                                    "Doubles": "0",
                                    "Triples": "0",
                                    "Homers": "0",
                                    "RBIs": "0"
                                },
                                {
                                    "Num": "895",
                                    "Name": "Reese McGuire",
                                    "Team": "TOR",
                                    "Games": "30",
                                    "AtBats": "97",
                                    "Runs": "14",
                                    "Hits": "29",
                                    "Doubles": "7",
                                    "Triples": "0",
                                    "Homers": "5",
                                    "RBIs": "11"
                                },
                                {
                                    "Num": "897",
                                    "Name": "Brendan McKay",
                                    "Team": "TBR",
                                    "Games": "7",
                                    "AtBats": "10",
                                    "Runs": "2",
                                    "Hits": "2",
                                    "Doubles": "0",
                                    "Triples": "0",
                                    "Homers": "1",
                                    "RBIs": "1"
                                },
                                {
                                    "Num": "898",
                                    "Name": "Billy McKinney",
                                    "Team": "TOR",
                                    "Games": "84",
                                    "AtBats": "251",
                                    "Runs": "37",
                                    "Hits": "54",
                                    "Doubles": "14",
                                    "Triples": "1",
                                    "Homers": "12",
                                    "RBIs": "28"
                                },
                                {
                                    "Num": "899",
                                    "Name": "Ryan McMahon",
                                    "Team": "COL",
                                    "Games": "141",
                                    "AtBats": "480",
                                    "Runs": "70",
                                    "Hits": "120",
                                    "Doubles": "22",
                                    "Triples": "1",
                                    "Homers": "24",
                                    "RBIs": "83"
                                },
                                {
                                    "Num": "900",
                                    "Name": "Jeff McNeil",
                                    "Team": "NYM",
                                    "Games": "133",
                                    "AtBats": "510",
                                    "Runs": "83",
                                    "Hits": "162",
                                    "Doubles": "38",
                                    "Triples": "1",
                                    "Homers": "23",
                                    "RBIs": "75"
                                },
                                {
                                    "Num": "901",
                                    "Name": "Alex McRae",
                                    "Team": "PIT",
                                    "Games": "11",
                                    "AtBats": "6",
                                    "Runs": "0",
                                    "Hits": "2",
                                    "Doubles": "0",
                                    "Triples": "0",
                                    "Homers": "0",
                                    "RBIs": "0"
                                },
                                {
                                    "Num": "902",
                                    "Name": "Austin Meadows",
                                    "Team": "TBR",
                                    "Games": "138",
                                    "AtBats": "530",
                                    "Runs": "83",
                                    "Hits": "154",
                                    "Doubles": "29",
                                    "Triples": "7",
                                    "Homers": "33",
                                    "RBIs": "89"
                                },
                                {
                                    "Num": "903",
                                    "Name": "John Means",
                                    "Team": "BAL",
                                    "Games": "2",
                                    "AtBats": "1",
                                    "Runs": "0",
                                    "Hits": "1",
                                    "Doubles": "0",
                                    "Triples": "0",
                                    "Homers": "0",
                                    "RBIs": "0"
                                },
                                {
                                    "Num": "910",
                                    "Name": "Erick Mejia",
                                    "Team": "KCR",
                                    "Games": "9",
                                    "AtBats": "22",
                                    "Runs": "3",
                                    "Hits": "5",
                                    "Doubles": "1",
                                    "Triples": "0",
                                    "Homers": "0",
                                    "RBIs": "4"
                                },
                                {
                                    "Num": "911",
                                    "Name": "Francisco Mejia",
                                    "Team": "SDP",
                                    "Games": "79",
                                    "AtBats": "226",
                                    "Runs": "27",
                                    "Hits": "60",
                                    "Doubles": "11",
                                    "Triples": "2",
                                    "Homers": "8",
                                    "RBIs": "22"
                                },
                                {
                                    "Num": "912",
                                    "Name": "Seth Mejias-Brean",
                                    "Team": "SDP",
                                    "Games": "14",
                                    "AtBats": "30",
                                    "Runs": "3",
                                    "Hits": "7",
                                    "Doubles": "2",
                                    "Triples": "0",
                                    "Homers": "2",
                                    "RBIs": "5"
                                },
                                {
                                    "Num": "917",
                                    "Name": "Tim Melville",
                                    "Team": "COL",
                                    "Games": "7",
                                    "AtBats": "8",
                                    "Runs": "0",
                                    "Hits": "2",
                                    "Doubles": "0",
                                    "Triples": "0",
                                    "Homers": "0",
                                    "RBIs": "2"
                                },
                                {
                                    "Num": "918",
                                    "Name": "Danny Mendick",
                                    "Team": "CHW",
                                    "Games": "16",
                                    "AtBats": "39",
                                    "Runs": "6",
                                    "Hits": "12",
                                    "Doubles": "0",
                                    "Triples": "0",
                                    "Homers": "2",
                                    "RBIs": "4"
                                },
                                {
                                    "Num": "921",
                                    "Name": "Oscar Mercado",
                                    "Team": "CLE",
                                    "Games": "115",
                                    "AtBats": "438",
                                    "Runs": "70",
                                    "Hits": "118",
                                    "Doubles": "25",
                                    "Triples": "3",
                                    "Homers": "15",
                                    "RBIs": "54"
                                },
                                {
                                    "Num": "922",
                                    "Name": "Jordy Mercer",
                                    "Team": "DET",
                                    "Games": "74",
                                    "AtBats": "256",
                                    "Runs": "24",
                                    "Hits": "69",
                                    "Doubles": "16",
                                    "Triples": "0",
                                    "Homers": "9",
                                    "RBIs": "22"
                                },
                                {
                                    "Num": "923",
                                    "Name": "Whit Merrifield",
                                    "Team": "KCR",
                                    "Games": "162",
                                    "AtBats": "681",
                                    "Runs": "105",
                                    "Hits": "206",
                                    "Doubles": "41",
                                    "Triples": "10",
                                    "Homers": "16",
                                    "RBIs": "74"
                                },
                                {
                                    "Num": "924",
                                    "Name": "Miles Mikolas",
                                    "Team": "STL",
                                    "Games": "31",
                                    "AtBats": "59",
                                    "Runs": "1",
                                    "Hits": "8",
                                    "Doubles": "1",
                                    "Triples": "0",
                                    "Homers": "0",
                                    "RBIs": "2"
                                },
                                {
                                    "Num": "928",
                                    "Name": "Brad Miller",
                                    "Team": "CLE",
                                    "Games": "13",
                                    "AtBats": "36",
                                    "Runs": "4",
                                    "Hits": "9",
                                    "Doubles": "3",
                                    "Triples": "0",
                                    "Homers": "1",
                                    "RBIs": "4"
                                },
                                {
                                    "Num": "929",
                                    "Name": "Brad Miller",
                                    "Team": "PHI",
                                    "Games": "66",
                                    "AtBats": "118",
                                    "Runs": "22",
                                    "Hits": "31",
                                    "Doubles": "3",
                                    "Triples": "1",
                                    "Homers": "12",
                                    "RBIs": "21"
                                },
                                {
                                    "Num": "930",
                                    "Name": "Ian Miller",
                                    "Team": "MIN",
                                    "Games": "12",
                                    "AtBats": "17",
                                    "Runs": "2",
                                    "Hits": "3",
                                    "Doubles": "1",
                                    "Triples": "0",
                                    "Homers": "0",
                                    "RBIs": "1"
                                },
                                {
                                    "Num": "933",
                                    "Name": "Alec Mills",
                                    "Team": "CHC",
                                    "Games": "9",
                                    "AtBats": "12",
                                    "Runs": "0",
                                    "Hits": "1",
                                    "Doubles": "0",
                                    "Triples": "0",
                                    "Homers": "0",
                                    "RBIs": "0"
                                },
                                {
                                    "Num": "938",
                                    "Name": "Yadier Molina",
                                    "Team": "STL",
                                    "Games": "113",
                                    "AtBats": "419",
                                    "Runs": "45",
                                    "Hits": "113",
                                    "Doubles": "24",
                                    "Triples": "0",
                                    "Homers": "10",
                                    "RBIs": "57"
                                },
                                {
                                    "Num": "939",
                                    "Name": "Yoan Moncada",
                                    "Team": "CHW",
                                    "Games": "132",
                                    "AtBats": "511",
                                    "Runs": "83",
                                    "Hits": "161",
                                    "Doubles": "34",
                                    "Triples": "5",
                                    "Homers": "25",
                                    "RBIs": "79"
                                },
                                {
                                    "Num": "940",
                                    "Name": "Adalberto Mondesi",
                                    "Team": "KCR",
                                    "Games": "102",
                                    "AtBats": "415",
                                    "Runs": "58",
                                    "Hits": "109",
                                    "Doubles": "20",
                                    "Triples": "10",
                                    "Homers": "9",
                                    "RBIs": "62"
                                },
                                {
                                    "Num": "944",
                                    "Name": "Mike Montgomery",
                                    "Team": "CHC",
                                    "Games": "18",
                                    "AtBats": "5",
                                    "Runs": "0",
                                    "Hits": "1",
                                    "Doubles": "0",
                                    "Triples": "0",
                                    "Homers": "0",
                                    "RBIs": "0"
                                },
                                {
                                    "Num": "946",
                                    "Name": "Dylan Moore",
                                    "Team": "SEA",
                                    "Games": "113",
                                    "AtBats": "247",
                                    "Runs": "31",
                                    "Hits": "51",
                                    "Doubles": "14",
                                    "Triples": "2",
                                    "Homers": "9",
                                    "RBIs": "28"
                                },
                                {
                                    "Num": "948",
                                    "Name": "Kendrys Morales",
                                    "Team": "OAK",
                                    "Games": "34",
                                    "AtBats": "108",
                                    "Runs": "9",
                                    "Hits": "22",
                                    "Doubles": "1",
                                    "Triples": "1",
                                    "Homers": "1",
                                    "RBIs": "7"
                                },
                                {
                                    "Num": "949",
                                    "Name": "Kendrys Morales",
                                    "Team": "NYY",
                                    "Games": "19",
                                    "AtBats": "62",
                                    "Runs": "7",
                                    "Hits": "11",
                                    "Doubles": "1",
                                    "Triples": "0",
                                    "Homers": "1",
                                    "RBIs": "5"
                                },
                                {
                                    "Num": "951",
                                    "Name": "Colin Moran",
                                    "Team": "PIT",
                                    "Games": "149",
                                    "AtBats": "466",
                                    "Runs": "46",
                                    "Hits": "129",
                                    "Doubles": "30",
                                    "Triples": "1",
                                    "Homers": "13",
                                    "RBIs": "80"
                                },
                                {
                                    "Num": "953",
                                    "Name": "Mitch Moreland",
                                    "Team": "BOS",
                                    "Games": "91",
                                    "AtBats": "298",
                                    "Runs": "48",
                                    "Hits": "75",
                                    "Doubles": "17",
                                    "Triples": "1",
                                    "Homers": "19",
                                    "RBIs": "58"
                                },
                                {
                                    "Num": "957",
                                    "Name": "Max Moroff",
                                    "Team": "CLE",
                                    "Games": "20",
                                    "AtBats": "32",
                                    "Runs": "3",
                                    "Hits": "4",
                                    "Doubles": "1",
                                    "Triples": "0",
                                    "Homers": "1",
                                    "RBIs": "4"
                                },
                                {
                                    "Num": "959",
                                    "Name": "Logan Morrison",
                                    "Team": "PHI",
                                    "Games": "29",
                                    "AtBats": "35",
                                    "Runs": "5",
                                    "Hits": "7",
                                    "Doubles": "1",
                                    "Triples": "0",
                                    "Homers": "2",
                                    "RBIs": "3"
                                },
                                {
                                    "Num": "961",
                                    "Name": "Mike Moustakas",
                                    "Team": "MIL",
                                    "Games": "143",
                                    "AtBats": "523",
                                    "Runs": "80",
                                    "Hits": "133",
                                    "Doubles": "30",
                                    "Triples": "1",
                                    "Homers": "35",
                                    "RBIs": "87"
                                },
                                {
                                    "Num": "962",
                                    "Name": "Cedric Mullins",
                                    "Team": "BAL",
                                    "Games": "22",
                                    "AtBats": "64",
                                    "Runs": "7",
                                    "Hits": "6",
                                    "Doubles": "0",
                                    "Triples": "2",
                                    "Homers": "0",
                                    "RBIs": "4"
                                },
                                {
                                    "Num": "963",
                                    "Name": "Max Muncy",
                                    "Team": "LAD",
                                    "Games": "141",
                                    "AtBats": "487",
                                    "Runs": "101",
                                    "Hits": "122",
                                    "Doubles": "22",
                                    "Triples": "1",
                                    "Homers": "35",
                                    "RBIs": "98"
                                },
                                {
                                    "Num": "965",
                                    "Name": "Yairo Munoz",
                                    "Team": "STL",
                                    "Games": "88",
                                    "AtBats": "172",
                                    "Runs": "20",
                                    "Hits": "46",
                                    "Doubles": "7",
                                    "Triples": "1",
                                    "Homers": "2",
                                    "RBIs": "13"
                                },
                                {
                                    "Num": "966",
                                    "Name": "Daniel Murphy",
                                    "Team": "COL",
                                    "Games": "132",
                                    "AtBats": "438",
                                    "Runs": "56",
                                    "Hits": "122",
                                    "Doubles": "35",
                                    "Triples": "1",
                                    "Homers": "13",
                                    "RBIs": "78"
                                },
                                {
                                    "Num": "968",
                                    "Name": "John Ryan Murphy",
                                    "Team": "ARI",
                                    "Games": "25",
                                    "AtBats": "62",
                                    "Runs": "9",
                                    "Hits": "11",
                                    "Doubles": "3",
                                    "Triples": "0",
                                    "Homers": "4",
                                    "RBIs": "7"
                                },
                                {
                                    "Num": "970",
                                    "Name": "Sean Murphy",
                                    "Team": "OAK",
                                    "Games": "20",
                                    "AtBats": "53",
                                    "Runs": "14",
                                    "Hits": "13",
                                    "Doubles": "5",
                                    "Triples": "0",
                                    "Homers": "4",
                                    "RBIs": "8"
                                },
                                {
                                    "Num": "971",
                                    "Name": "Tom Murphy",
                                    "Team": "SEA",
                                    "Games": "75",
                                    "AtBats": "260",
                                    "Runs": "32",
                                    "Hits": "71",
                                    "Doubles": "12",
                                    "Triples": "1",
                                    "Homers": "18",
                                    "RBIs": "40"
                                },
                                {
                                    "Num": "973",
                                    "Name": "Joe Musgrove",
                                    "Team": "PIT",
                                    "Games": "44",
                                    "AtBats": "51",
                                    "Runs": "8",
                                    "Hits": "8",
                                    "Doubles": "2",
                                    "Triples": "1",
                                    "Homers": "0",
                                    "RBIs": "3"
                                },
                                {
                                    "Num": "974",
                                    "Name": "Wil Myers",
                                    "Team": "SDP",
                                    "Games": "155",
                                    "AtBats": "435",
                                    "Runs": "58",
                                    "Hits": "104",
                                    "Doubles": "22",
                                    "Triples": "1",
                                    "Homers": "18",
                                    "RBIs": "53"
                                },
                                {
                                    "Num": "975",
                                    "Name": "Tyler Naquin",
                                    "Team": "CLE",
                                    "Games": "89",
                                    "AtBats": "274",
                                    "Runs": "34",
                                    "Hits": "79",
                                    "Doubles": "19",
                                    "Triples": "0",
                                    "Homers": "10",
                                    "RBIs": "34"
                                },
                                {
                                    "Num": "976",
                                    "Name": "Omar Narvaez",
                                    "Team": "SEA",
                                    "Games": "132",
                                    "AtBats": "428",
                                    "Runs": "63",
                                    "Hits": "119",
                                    "Doubles": "12",
                                    "Triples": "0",
                                    "Homers": "22",
                                    "RBIs": "55"
                                },
                                {
                                    "Num": "977",
                                    "Name": "Josh Naylor",
                                    "Team": "SDP",
                                    "Games": "94",
                                    "AtBats": "253",
                                    "Runs": "29",
                                    "Hits": "63",
                                    "Doubles": "15",
                                    "Triples": "0",
                                    "Homers": "8",
                                    "RBIs": "32"
                                },
                                {
                                    "Num": "979",
                                    "Name": "Kristopher Negron",
                                    "Team": "SEA",
                                    "Games": "10",
                                    "AtBats": "23",
                                    "Runs": "3",
                                    "Hits": "5",
                                    "Doubles": "0",
                                    "Triples": "0",
                                    "Homers": "0",
                                    "RBIs": "1"
                                },
                                {
                                    "Num": "980",
                                    "Name": "Kristopher Negron",
                                    "Team": "LAD",
                                    "Games": "30",
                                    "AtBats": "54",
                                    "Runs": "9",
                                    "Hits": "14",
                                    "Doubles": "1",
                                    "Triples": "0",
                                    "Homers": "2",
                                    "RBIs": "7"
                                },
                                {
                                    "Num": "984",
                                    "Name": "Sheldon Neuse",
                                    "Team": "OAK",
                                    "Games": "25",
                                    "AtBats": "56",
                                    "Runs": "3",
                                    "Hits": "14",
                                    "Doubles": "3",
                                    "Triples": "0",
                                    "Homers": "0",
                                    "RBIs": "7"
                                },
                                {
                                    "Num": "988",
                                    "Name": "Kevin Newman",
                                    "Team": "PIT",
                                    "Games": "130",
                                    "AtBats": "493",
                                    "Runs": "61",
                                    "Hits": "152",
                                    "Doubles": "20",
                                    "Triples": "6",
                                    "Homers": "12",
                                    "RBIs": "64"
                                },
                                {
                                    "Num": "990",
                                    "Name": "Tomas Nido",
                                    "Team": "NYM",
                                    "Games": "50",
                                    "AtBats": "136",
                                    "Runs": "9",
                                    "Hits": "26",
                                    "Doubles": "5",
                                    "Triples": "0",
                                    "Homers": "4",
                                    "RBIs": "14"
                                },
                                {
                                    "Num": "991",
                                    "Name": "Brandon Nimmo",
                                    "Team": "NYM",
                                    "Games": "69",
                                    "AtBats": "199",
                                    "Runs": "34",
                                    "Hits": "44",
                                    "Doubles": "11",
                                    "Triples": "1",
                                    "Homers": "8",
                                    "RBIs": "29"
                                },
                                {
                                    "Num": "992",
                                    "Name": "Hector Noesi",
                                    "Team": "MIA",
                                    "Games": "12",
                                    "AtBats": "4",
                                    "Runs": "0",
                                    "Hits": "1",
                                    "Doubles": "0",
                                    "Triples": "0",
                                    "Homers": "0",
                                    "RBIs": "0"
                                },
                                {
                                    "Num": "994",
                                    "Name": "Aaron Nola",
                                    "Team": "PHI",
                                    "Games": "32",
                                    "AtBats": "59",
                                    "Runs": "6",
                                    "Hits": "7",
                                    "Doubles": "2",
                                    "Triples": "0",
                                    "Homers": "0",
                                    "RBIs": "2"
                                },
                                {
                                    "Num": "995",
                                    "Name": "Austin Nola",
                                    "Team": "SEA",
                                    "Games": "79",
                                    "AtBats": "238",
                                    "Runs": "37",
                                    "Hits": "64",
                                    "Doubles": "12",
                                    "Triples": "1",
                                    "Homers": "10",
                                    "RBIs": "31"
                                },
                                {
                                    "Num": "996",
                                    "Name": "Jake Noll",
                                    "Team": "WSN",
                                    "Games": "8",
                                    "AtBats": "12",
                                    "Runs": "1",
                                    "Hits": "2",
                                    "Doubles": "1",
                                    "Triples": "0",
                                    "Homers": "0",
                                    "RBIs": "2"
                                },
                                {
                                    "Num": "997",
                                    "Name": "Daniel Norris",
                                    "Team": "DET",
                                    "Games": "4",
                                    "AtBats": "6",
                                    "Runs": "1",
                                    "Hits": "1",
                                    "Doubles": "0",
                                    "Triples": "0",
                                    "Homers": "0",
                                    "RBIs": "0"
                                },
                                {
                                    "Num": "999",
                                    "Name": "Jacob Nottingham",
                                    "Team": "MIL",
                                    "Games": "9",
                                    "AtBats": "6",
                                    "Runs": "1",
                                    "Hits": "2",
                                    "Doubles": "0",
                                    "Triples": "0",
                                    "Homers": "1",
                                    "RBIs": "4"
                                },
                                {
                                    "Num": "1001",
                                    "Name": "Dom Nunez",
                                    "Team": "COL",
                                    "Games": "16",
                                    "AtBats": "39",
                                    "Runs": "4",
                                    "Hits": "7",
                                    "Doubles": "3",
                                    "Triples": "0",
                                    "Homers": "2",
                                    "RBIs": "4"
                                },
                                {
                                    "Num": "1002",
                                    "Name": "Eduardo Nunez",
                                    "Team": "BOS",
                                    "Games": "60",
                                    "AtBats": "167",
                                    "Runs": "13",
                                    "Hits": "38",
                                    "Doubles": "7",
                                    "Triples": "0",
                                    "Homers": "2",
                                    "RBIs": "20"
                                },
                                {
                                    "Num": "1003",
                                    "Name": "Renato Nunez",
                                    "Team": "BAL",
                                    "Games": "151",
                                    "AtBats": "541",
                                    "Runs": "72",
                                    "Hits": "132",
                                    "Doubles": "24",
                                    "Triples": "0",
                                    "Homers": "31",
                                    "RBIs": "90"
                                },
                                {
                                    "Num": "1004",
                                    "Name": "Peter O'Brien",
                                    "Team": "MIA",
                                    "Games": "14",
                                    "AtBats": "42",
                                    "Runs": "2",
                                    "Hits": "7",
                                    "Doubles": "1",
                                    "Triples": "0",
                                    "Homers": "1",
                                    "RBIs": "4"
                                },
                                {
                                    "Num": "1006",
                                    "Name": "Brian O'Grady",
                                    "Team": "CIN",
                                    "Games": "28",
                                    "AtBats": "42",
                                    "Runs": "4",
                                    "Hits": "8",
                                    "Doubles": "2",
                                    "Triples": "1",
                                    "Homers": "2",
                                    "RBIs": "3"
                                },
                                {
                                    "Num": "1007",
                                    "Name": "Ryan O'Hearn",
                                    "Team": "KCR",
                                    "Games": "105",
                                    "AtBats": "328",
                                    "Runs": "32",
                                    "Hits": "64",
                                    "Doubles": "13",
                                    "Triples": "1",
                                    "Homers": "14",
                                    "RBIs": "38"
                                },
                                {
                                    "Num": "1008",
                                    "Name": "Tyler O'Neill",
                                    "Team": "STL",
                                    "Games": "60",
                                    "AtBats": "141",
                                    "Runs": "18",
                                    "Hits": "37",
                                    "Doubles": "6",
                                    "Triples": "0",
                                    "Homers": "5",
                                    "RBIs": "16"
                                },
                                {
                                    "Num": "1011",
                                    "Name": "Rougned Odor",
                                    "Team": "TEX",
                                    "Games": "145",
                                    "AtBats": "522",
                                    "Runs": "77",
                                    "Hits": "107",
                                    "Doubles": "30",
                                    "Triples": "1",
                                    "Homers": "30",
                                    "RBIs": "93"
                                },
                                {
                                    "Num": "1014",
                                    "Name": "Shohei Ohtani",
                                    "Team": "LAA",
                                    "Games": "106",
                                    "AtBats": "384",
                                    "Runs": "51",
                                    "Hits": "110",
                                    "Doubles": "20",
                                    "Triples": "5",
                                    "Homers": "18",
                                    "RBIs": "62"
                                },
                                {
                                    "Num": "1015",
                                    "Name": "Matt Olson",
                                    "Team": "OAK",
                                    "Games": "127",
                                    "AtBats": "483",
                                    "Runs": "73",
                                    "Hits": "129",
                                    "Doubles": "26",
                                    "Triples": "0",
                                    "Homers": "36",
                                    "RBIs": "91"
                                },
                                {
                                    "Num": "1017",
                                    "Name": "Rafael Ortega",
                                    "Team": "ATL",
                                    "Games": "34",
                                    "AtBats": "88",
                                    "Runs": "7",
                                    "Hits": "18",
                                    "Doubles": "3",
                                    "Triples": "0",
                                    "Homers": "2",
                                    "RBIs": "10"
                                },
                                {
                                    "Num": "1019",
                                    "Name": "Jose Osuna",
                                    "Team": "PIT",
                                    "Games": "95",
                                    "AtBats": "261",
                                    "Runs": "41",
                                    "Hits": "69",
                                    "Doubles": "20",
                                    "Triples": "0",
                                    "Homers": "10",
                                    "RBIs": "36"
                                },
                                {
                                    "Num": "1025",
                                    "Name": "Chris Owings",
                                    "Team": "KCR",
                                    "Games": "40",
                                    "AtBats": "135",
                                    "Runs": "9",
                                    "Hits": "18",
                                    "Doubles": "4",
                                    "Triples": "1",
                                    "Homers": "2",
                                    "RBIs": "9"
                                },
                                {
                                    "Num": "1026",
                                    "Name": "Chris Owings",
                                    "Team": "BOS",
                                    "Games": "26",
                                    "AtBats": "45",
                                    "Runs": "4",
                                    "Hits": "7",
                                    "Doubles": "2",
                                    "Triples": "0",
                                    "Homers": "1",
                                    "RBIs": "5"
                                },
                                {
                                    "Num": "1027",
                                    "Name": "Marcell Ozuna",
                                    "Team": "STL",
                                    "Games": "130",
                                    "AtBats": "485",
                                    "Runs": "80",
                                    "Hits": "117",
                                    "Doubles": "23",
                                    "Triples": "1",
                                    "Homers": "29",
                                    "RBIs": "89"
                                },
                                {
                                    "Num": "1028",
                                    "Name": "Chris Paddack",
                                    "Team": "SDP",
                                    "Games": "25",
                                    "AtBats": "42",
                                    "Runs": "3",
                                    "Hits": "5",
                                    "Doubles": "0",
                                    "Triples": "0",
                                    "Homers": "0",
                                    "RBIs": "2"
                                },
                                {
                                    "Num": "1030",
                                    "Name": "Daniel Palka",
                                    "Team": "CHW",
                                    "Games": "30",
                                    "AtBats": "84",
                                    "Runs": "4",
                                    "Hits": "9",
                                    "Doubles": "0",
                                    "Triples": "0",
                                    "Homers": "2",
                                    "RBIs": "4"
                                },
                                {
                                    "Num": "1032",
                                    "Name": "Joe Panik",
                                    "Team": "SFG",
                                    "Games": "103",
                                    "AtBats": "344",
                                    "Runs": "33",
                                    "Hits": "81",
                                    "Doubles": "17",
                                    "Triples": "1",
                                    "Homers": "3",
                                    "RBIs": "27"
                                },
                                {
                                    "Num": "1033",
                                    "Name": "Joe Panik",
                                    "Team": "NYM",
                                    "Games": "39",
                                    "AtBats": "94",
                                    "Runs": "17",
                                    "Hits": "26",
                                    "Doubles": "4",
                                    "Triples": "1",
                                    "Homers": "2",
                                    "RBIs": "12"
                                },
                                {
                                    "Num": "1040",
                                    "Name": "Gerardo Parra",
                                    "Team": "SFG",
                                    "Games": "30",
                                    "AtBats": "86",
                                    "Runs": "8",
                                    "Hits": "17",
                                    "Doubles": "3",
                                    "Triples": "0",
                                    "Homers": "1",
                                    "RBIs": "6"
                                },
                                {
                                    "Num": "1041",
                                    "Name": "Gerardo Parra",
                                    "Team": "WSN",
                                    "Games": "89",
                                    "AtBats": "188",
                                    "Runs": "30",
                                    "Hits": "47",
                                    "Doubles": "11",
                                    "Triples": "1",
                                    "Homers": "8",
                                    "RBIs": "42"
                                },
                                {
                                    "Num": "1049",
                                    "Name": "Steve Pearce",
                                    "Team": "BOS",
                                    "Games": "29",
                                    "AtBats": "89",
                                    "Runs": "9",
                                    "Hits": "16",
                                    "Doubles": "4",
                                    "Triples": "0",
                                    "Homers": "1",
                                    "RBIs": "9"
                                },
                                {
                                    "Num": "1050",
                                    "Name": "Joc Pederson",
                                    "Team": "LAD",
                                    "Games": "149",
                                    "AtBats": "450",
                                    "Runs": "83",
                                    "Hits": "112",
                                    "Doubles": "16",
                                    "Triples": "3",
                                    "Homers": "36",
                                    "RBIs": "74"
                                },
                                {
                                    "Num": "1051",
                                    "Name": "Dustin Pedroia",
                                    "Team": "BOS",
                                    "Games": "6",
                                    "AtBats": "20",
                                    "Runs": "1",
                                    "Hits": "2",
                                    "Doubles": "0",
                                    "Triples": "0",
                                    "Homers": "0",
                                    "RBIs": "1"
                                },
                                {
                                    "Num": "1053",
                                    "Name": "Hunter Pence",
                                    "Team": "TEX",
                                    "Games": "83",
                                    "AtBats": "286",
                                    "Runs": "53",
                                    "Hits": "85",
                                    "Doubles": "17",
                                    "Triples": "1",
                                    "Homers": "18",
                                    "RBIs": "59"
                                },
                                {
                                    "Num": "1054",
                                    "Name": "David Peralta",
                                    "Team": "ARI",
                                    "Games": "99",
                                    "AtBats": "382",
                                    "Runs": "48",
                                    "Hits": "105",
                                    "Doubles": "29",
                                    "Triples": "3",
                                    "Homers": "12",
                                    "RBIs": "57"
                                },
                                {
                                    "Num": "1055",
                                    "Name": "Freddy Peralta",
                                    "Team": "MIL",
                                    "Games": "37",
                                    "AtBats": "15",
                                    "Runs": "1",
                                    "Hits": "2",
                                    "Doubles": "0",
                                    "Triples": "0",
                                    "Homers": "0",
                                    "RBIs": "1"
                                },
                                {
                                    "Num": "1060",
                                    "Name": "Jose Peraza",
                                    "Team": "CIN",
                                    "Games": "141",
                                    "AtBats": "376",
                                    "Runs": "37",
                                    "Hits": "90",
                                    "Doubles": "18",
                                    "Triples": "2",
                                    "Homers": "6",
                                    "RBIs": "33"
                                },
                                {
                                    "Num": "1061",
                                    "Name": "Luis Perdomo",
                                    "Team": "SDP",
                                    "Games": "44",
                                    "AtBats": "7",
                                    "Runs": "0",
                                    "Hits": "1",
                                    "Doubles": "0",
                                    "Triples": "0",
                                    "Homers": "0",
                                    "RBIs": "1"
                                },
                                {
                                    "Num": "1063",
                                    "Name": "Hernan Perez",
                                    "Team": "MIL",
                                    "Games": "91",
                                    "AtBats": "232",
                                    "Runs": "29",
                                    "Hits": "53",
                                    "Doubles": "11",
                                    "Triples": "0",
                                    "Homers": "8",
                                    "RBIs": "18"
                                },
                                {
                                    "Num": "1065",
                                    "Name": "Michael Perez",
                                    "Team": "TBR",
                                    "Games": "22",
                                    "AtBats": "46",
                                    "Runs": "6",
                                    "Hits": "10",
                                    "Doubles": "5",
                                    "Triples": "0",
                                    "Homers": "0",
                                    "RBIs": "2"
                                },
                                {
                                    "Num": "1067",
                                    "Name": "Roberto Perez",
                                    "Team": "CLE",
                                    "Games": "119",
                                    "AtBats": "389",
                                    "Runs": "46",
                                    "Hits": "93",
                                    "Doubles": "9",
                                    "Triples": "1",
                                    "Homers": "24",
                                    "RBIs": "63"
                                },
                                {
                                    "Num": "1068",
                                    "Name": "Dustin Peterson",
                                    "Team": "DET",
                                    "Games": "17",
                                    "AtBats": "44",
                                    "Runs": "3",
                                    "Hits": "10",
                                    "Doubles": "4",
                                    "Triples": "0",
                                    "Homers": "0",
                                    "RBIs": "6"
                                },
                                {
                                    "Num": "1069",
                                    "Name": "Jace Peterson",
                                    "Team": "BAL",
                                    "Games": "29",
                                    "AtBats": "100",
                                    "Runs": "14",
                                    "Hits": "22",
                                    "Doubles": "3",
                                    "Triples": "1",
                                    "Homers": "2",
                                    "RBIs": "11"
                                },
                                {
                                    "Num": "1073",
                                    "Name": "Tommy Pham",
                                    "Team": "TBR",
                                    "Games": "145",
                                    "AtBats": "567",
                                    "Runs": "77",
                                    "Hits": "155",
                                    "Doubles": "33",
                                    "Triples": "2",
                                    "Homers": "21",
                                    "RBIs": "68"
                                },
                                {
                                    "Num": "1074",
                                    "Name": "Josh Phegley",
                                    "Team": "OAK",
                                    "Games": "106",
                                    "AtBats": "314",
                                    "Runs": "44",
                                    "Hits": "75",
                                    "Doubles": "18",
                                    "Triples": "0",
                                    "Homers": "12",
                                    "RBIs": "62"
                                },
                                {
                                    "Num": "1077",
                                    "Name": "Brett Phillips",
                                    "Team": "KCR",
                                    "Games": "30",
                                    "AtBats": "65",
                                    "Runs": "7",
                                    "Hits": "9",
                                    "Doubles": "2",
                                    "Triples": "0",
                                    "Homers": "2",
                                    "RBIs": "6"
                                },
                                {
                                    "Num": "1080",
                                    "Name": "Kevin Pillar",
                                    "Team": "TOR",
                                    "Games": "5",
                                    "AtBats": "16",
                                    "Runs": "1",
                                    "Hits": "1",
                                    "Doubles": "0",
                                    "Triples": "0",
                                    "Homers": "0",
                                    "RBIs": "1"
                                },
                                {
                                    "Num": "1081",
                                    "Name": "Kevin Pillar",
                                    "Team": "SFG",
                                    "Games": "156",
                                    "AtBats": "595",
                                    "Runs": "82",
                                    "Hits": "157",
                                    "Doubles": "37",
                                    "Triples": "3",
                                    "Homers": "21",
                                    "RBIs": "87"
                                },
                                {
                                    "Num": "1082",
                                    "Name": "Manny Pina",
                                    "Team": "MIL",
                                    "Games": "76",
                                    "AtBats": "158",
                                    "Runs": "10",
                                    "Hits": "36",
                                    "Doubles": "8",
                                    "Triples": "0",
                                    "Homers": "7",
                                    "RBIs": "25"
                                },
                                {
                                    "Num": "1083",
                                    "Name": "Chad Pinder",
                                    "Team": "OAK",
                                    "Games": "124",
                                    "AtBats": "341",
                                    "Runs": "45",
                                    "Hits": "82",
                                    "Doubles": "21",
                                    "Triples": "0",
                                    "Homers": "13",
                                    "RBIs": "47"
                                },
                                {
                                    "Num": "1087",
                                    "Name": "Jose Pirela",
                                    "Team": "PHI",
                                    "Games": "12",
                                    "AtBats": "17",
                                    "Runs": "1",
                                    "Hits": "4",
                                    "Doubles": "1",
                                    "Triples": "0",
                                    "Homers": "1",
                                    "RBIs": "2"
                                },
                                {
                                    "Num": "1088",
                                    "Name": "Stephen Piscotty",
                                    "Team": "OAK",
                                    "Games": "93",
                                    "AtBats": "357",
                                    "Runs": "46",
                                    "Hits": "89",
                                    "Doubles": "17",
                                    "Triples": "1",
                                    "Homers": "13",
                                    "RBIs": "44"
                                },
                                {
                                    "Num": "1089",
                                    "Name": "Nick Pivetta",
                                    "Team": "PHI",
                                    "Games": "29",
                                    "AtBats": "25",
                                    "Runs": "1",
                                    "Hits": "2",
                                    "Doubles": "0",
                                    "Triples": "0",
                                    "Homers": "0",
                                    "RBIs": "0"
                                },
                                {
                                    "Num": "1090",
                                    "Name": "Kevin Plawecki",
                                    "Team": "CLE",
                                    "Games": "59",
                                    "AtBats": "158",
                                    "Runs": "13",
                                    "Hits": "35",
                                    "Doubles": "10",
                                    "Triples": "0",
                                    "Homers": "3",
                                    "RBIs": "17"
                                },
                                {
                                    "Num": "1094",
                                    "Name": "Gregory Polanco",
                                    "Team": "PIT",
                                    "Games": "42",
                                    "AtBats": "153",
                                    "Runs": "23",
                                    "Hits": "37",
                                    "Doubles": "8",
                                    "Triples": "1",
                                    "Homers": "6",
                                    "RBIs": "17"
                                },
                                {
                                    "Num": "1095",
                                    "Name": "Jorge Polanco",
                                    "Team": "MIN",
                                    "Games": "153",
                                    "AtBats": "631",
                                    "Runs": "107",
                                    "Hits": "186",
                                    "Doubles": "40",
                                    "Triples": "7",
                                    "Homers": "22",
                                    "RBIs": "79"
                                },
                                {
                                    "Num": "1096",
                                    "Name": "A.J. Pollock",
                                    "Team": "LAD",
                                    "Games": "86",
                                    "AtBats": "308",
                                    "Runs": "49",
                                    "Hits": "82",
                                    "Doubles": "15",
                                    "Triples": "1",
                                    "Homers": "15",
                                    "RBIs": "47"
                                },
                                {
                                    "Num": "1103",
                                    "Name": "Buster Posey",
                                    "Team": "SFG",
                                    "Games": "114",
                                    "AtBats": "405",
                                    "Runs": "43",
                                    "Hits": "104",
                                    "Doubles": "24",
                                    "Triples": "0",
                                    "Homers": "7",
                                    "RBIs": "38"
                                },
                                {
                                    "Num": "1106",
                                    "Name": "Martin Prado",
                                    "Team": "MIA",
                                    "Games": "104",
                                    "AtBats": "245",
                                    "Runs": "26",
                                    "Hits": "57",
                                    "Doubles": "9",
                                    "Triples": "0",
                                    "Homers": "2",
                                    "RBIs": "15"
                                },
                                {
                                    "Num": "1108",
                                    "Name": "David Price",
                                    "Team": "BOS",
                                    "Games": "1",
                                    "AtBats": "2",
                                    "Runs": "0",
                                    "Hits": "1",
                                    "Doubles": "0",
                                    "Triples": "0",
                                    "Homers": "0",
                                    "RBIs": "1"
                                },
                                {
                                    "Num": "1109",
                                    "Name": "Jurickson Profar",
                                    "Team": "OAK",
                                    "Games": "139",
                                    "AtBats": "459",
                                    "Runs": "65",
                                    "Hits": "100",
                                    "Doubles": "24",
                                    "Triples": "2",
                                    "Homers": "20",
                                    "RBIs": "67"
                                },
                                {
                                    "Num": "1112",
                                    "Name": "Cesar Puello",
                                    "Team": "LAA",
                                    "Games": "12",
                                    "AtBats": "41",
                                    "Runs": "6",
                                    "Hits": "16",
                                    "Doubles": "3",
                                    "Triples": "0",
                                    "Homers": "3",
                                    "RBIs": "12"
                                },
                                {
                                    "Num": "1113",
                                    "Name": "Cesar Puello",
                                    "Team": "MIA",
                                    "Games": "32",
                                    "AtBats": "84",
                                    "Runs": "8",
                                    "Hits": "15",
                                    "Doubles": "2",
                                    "Triples": "0",
                                    "Homers": "1",
                                    "RBIs": "6"
                                },
                                {
                                    "Num": "1115",
                                    "Name": "Yasiel Puig",
                                    "Team": "CIN",
                                    "Games": "100",
                                    "AtBats": "373",
                                    "Runs": "51",
                                    "Hits": "94",
                                    "Doubles": "15",
                                    "Triples": "1",
                                    "Homers": "22",
                                    "RBIs": "61"
                                },
                                {
                                    "Num": "1116",
                                    "Name": "Yasiel Puig",
                                    "Team": "CLE",
                                    "Games": "49",
                                    "AtBats": "182",
                                    "Runs": "25",
                                    "Hits": "54",
                                    "Doubles": "15",
                                    "Triples": "1",
                                    "Homers": "2",
                                    "RBIs": "23"
                                },
                                {
                                    "Num": "1117",
                                    "Name": "Albert Pujols",
                                    "Team": "LAA",
                                    "Games": "131",
                                    "AtBats": "491",
                                    "Runs": "55",
                                    "Hits": "120",
                                    "Doubles": "22",
                                    "Triples": "0",
                                    "Homers": "23",
                                    "RBIs": "93"
                                },
                                {
                                    "Num": "1118",
                                    "Name": "Cal Quantrill",
                                    "Team": "SDP",
                                    "Games": "21",
                                    "AtBats": "25",
                                    "Runs": "1",
                                    "Hits": "2",
                                    "Doubles": "0",
                                    "Triples": "0",
                                    "Homers": "0",
                                    "RBIs": "1"
                                },
                                {
                                    "Num": "1120",
                                    "Name": "Roman Quinn",
                                    "Team": "PHI",
                                    "Games": "44",
                                    "AtBats": "108",
                                    "Runs": "18",
                                    "Hits": "23",
                                    "Doubles": "3",
                                    "Triples": "1",
                                    "Homers": "4",
                                    "RBIs": "11"
                                },
                                {
                                    "Num": "1121",
                                    "Name": "Jose Quintana",
                                    "Team": "CHC",
                                    "Games": "31",
                                    "AtBats": "54",
                                    "Runs": "2",
                                    "Hits": "5",
                                    "Doubles": "1",
                                    "Triples": "0",
                                    "Homers": "0",
                                    "RBIs": "3"
                                },
                                {
                                    "Num": "1123",
                                    "Name": "Hanley Ramirez",
                                    "Team": "CLE",
                                    "Games": "16",
                                    "AtBats": "49",
                                    "Runs": "4",
                                    "Hits": "9",
                                    "Doubles": "1",
                                    "Triples": "0",
                                    "Homers": "2",
                                    "RBIs": "8"
                                },
                                {
                                    "Num": "1124",
                                    "Name": "Harold Ramirez",
                                    "Team": "MIA",
                                    "Games": "119",
                                    "AtBats": "421",
                                    "Runs": "54",
                                    "Hits": "116",
                                    "Doubles": "20",
                                    "Triples": "3",
                                    "Homers": "11",
                                    "RBIs": "50"
                                },
                                {
                                    "Num": "1125",
                                    "Name": "Jose Ramirez",
                                    "Team": "CLE",
                                    "Games": "129",
                                    "AtBats": "482",
                                    "Runs": "68",
                                    "Hits": "123",
                                    "Doubles": "33",
                                    "Triples": "3",
                                    "Homers": "23",
                                    "RBIs": "83"
                                },
                                {
                                    "Num": "1134",
                                    "Name": "Wilson Ramos",
                                    "Team": "NYM",
                                    "Games": "141",
                                    "AtBats": "473",
                                    "Runs": "52",
                                    "Hits": "136",
                                    "Doubles": "19",
                                    "Triples": "0",
                                    "Homers": "14",
                                    "RBIs": "73"
                                },
                                {
                                    "Num": "1135",
                                    "Name": "Rangel Ravelo",
                                    "Team": "STL",
                                    "Games": "29",
                                    "AtBats": "39",
                                    "Runs": "4",
                                    "Hits": "8",
                                    "Doubles": "2",
                                    "Triples": "0",
                                    "Homers": "2",
                                    "RBIs": "7"
                                },
                                {
                                    "Num": "1136",
                                    "Name": "Robbie Ray",
                                    "Team": "ARI",
                                    "Games": "31",
                                    "AtBats": "55",
                                    "Runs": "1",
                                    "Hits": "4",
                                    "Doubles": "0",
                                    "Triples": "0",
                                    "Homers": "0",
                                    "RBIs": "3"
                                },
                                {
                                    "Num": "1137",
                                    "Name": "Raudy Read",
                                    "Team": "WSN",
                                    "Games": "6",
                                    "AtBats": "11",
                                    "Runs": "0",
                                    "Hits": "1",
                                    "Doubles": "0",
                                    "Triples": "0",
                                    "Homers": "0",
                                    "RBIs": "0"
                                },
                                {
                                    "Num": "1138",
                                    "Name": "J.T. Realmuto",
                                    "Team": "PHI",
                                    "Games": "145",
                                    "AtBats": "538",
                                    "Runs": "92",
                                    "Hits": "148",
                                    "Doubles": "36",
                                    "Triples": "3",
                                    "Homers": "25",
                                    "RBIs": "83"
                                },
                                {
                                    "Num": "1139",
                                    "Name": "Josh Reddick",
                                    "Team": "HOU",
                                    "Games": "141",
                                    "AtBats": "501",
                                    "Runs": "57",
                                    "Hits": "138",
                                    "Doubles": "19",
                                    "Triples": "3",
                                    "Homers": "14",
                                    "RBIs": "56"
                                },
                                {
                                    "Num": "1140",
                                    "Name": "AJ Reed",
                                    "Team": "CHW",
                                    "Games": "14",
                                    "AtBats": "44",
                                    "Runs": "1",
                                    "Hits": "6",
                                    "Doubles": "0",
                                    "Triples": "0",
                                    "Homers": "1",
                                    "RBIs": "4"
                                },
                                {
                                    "Num": "1145",
                                    "Name": "Anthony Rendon",
                                    "Team": "WSN",
                                    "Games": "146",
                                    "AtBats": "545",
                                    "Runs": "117",
                                    "Hits": "174",
                                    "Doubles": "44",
                                    "Triples": "3",
                                    "Homers": "34",
                                    "RBIs": "126"
                                },
                                {
                                    "Num": "1146",
                                    "Name": "Hunter Renfroe",
                                    "Team": "SDP",
                                    "Games": "140",
                                    "AtBats": "440",
                                    "Runs": "64",
                                    "Hits": "95",
                                    "Doubles": "19",
                                    "Triples": "1",
                                    "Homers": "33",
                                    "RBIs": "64"
                                },
                                {
                                    "Num": "1147",
                                    "Name": "Luis Rengifo",
                                    "Team": "LAA",
                                    "Games": "108",
                                    "AtBats": "357",
                                    "Runs": "44",
                                    "Hits": "85",
                                    "Doubles": "18",
                                    "Triples": "3",
                                    "Homers": "7",
                                    "RBIs": "33"
                                },
                                {
                                    "Num": "1150",
                                    "Name": "Franmil Reyes",
                                    "Team": "SDP",
                                    "Games": "99",
                                    "AtBats": "321",
                                    "Runs": "43",
                                    "Hits": "82",
                                    "Doubles": "9",
                                    "Triples": "0",
                                    "Homers": "27",
                                    "RBIs": "46"
                                },
                                {
                                    "Num": "1151",
                                    "Name": "Franmil Reyes",
                                    "Team": "CLE",
                                    "Games": "51",
                                    "AtBats": "173",
                                    "Runs": "26",
                                    "Hits": "41",
                                    "Doubles": "10",
                                    "Triples": "0",
                                    "Homers": "10",
                                    "RBIs": "35"
                                },
                                {
                                    "Num": "1153",
                                    "Name": "Pablo Reyes",
                                    "Team": "PIT",
                                    "Games": "71",
                                    "AtBats": "143",
                                    "Runs": "18",
                                    "Hits": "29",
                                    "Doubles": "7",
                                    "Triples": "2",
                                    "Homers": "2",
                                    "RBIs": "19"
                                },
                                {
                                    "Num": "1154",
                                    "Name": "Victor Reyes",
                                    "Team": "DET",
                                    "Games": "69",
                                    "AtBats": "276",
                                    "Runs": "29",
                                    "Hits": "84",
                                    "Doubles": "16",
                                    "Triples": "5",
                                    "Homers": "3",
                                    "RBIs": "25"
                                },
                                {
                                    "Num": "1155",
                                    "Name": "Bryan Reynolds",
                                    "Team": "PIT",
                                    "Games": "134",
                                    "AtBats": "491",
                                    "Runs": "83",
                                    "Hits": "154",
                                    "Doubles": "37",
                                    "Triples": "4",
                                    "Homers": "16",
                                    "RBIs": "68"
                                },
                                {
                                    "Num": "1156",
                                    "Name": "Mark Reynolds",
                                    "Team": "COL",
                                    "Games": "78",
                                    "AtBats": "135",
                                    "Runs": "13",
                                    "Hits": "23",
                                    "Doubles": "7",
                                    "Triples": "0",
                                    "Homers": "4",
                                    "RBIs": "20"
                                },
                                {
                                    "Num": "1160",
                                    "Name": "Trevor Richards",
                                    "Team": "MIA",
                                    "Games": "22",
                                    "AtBats": "30",
                                    "Runs": "2",
                                    "Hits": "3",
                                    "Doubles": "0",
                                    "Triples": "0",
                                    "Homers": "0",
                                    "RBIs": "0"
                                },
                                {
                                    "Num": "1162",
                                    "Name": "Joey Rickard",
                                    "Team": "BAL",
                                    "Games": "42",
                                    "AtBats": "118",
                                    "Runs": "10",
                                    "Hits": "24",
                                    "Doubles": "7",
                                    "Triples": "2",
                                    "Homers": "2",
                                    "RBIs": "6"
                                },
                                {
                                    "Num": "1163",
                                    "Name": "Joey Rickard",
                                    "Team": "SFG",
                                    "Games": "26",
                                    "AtBats": "50",
                                    "Runs": "4",
                                    "Hits": "14",
                                    "Doubles": "2",
                                    "Triples": "0",
                                    "Homers": "1",
                                    "RBIs": "4"
                                },
                                {
                                    "Num": "1164",
                                    "Name": "JT Riddle",
                                    "Team": "MIA",
                                    "Games": "51",
                                    "AtBats": "132",
                                    "Runs": "15",
                                    "Hits": "25",
                                    "Doubles": "6",
                                    "Triples": "0",
                                    "Homers": "6",
                                    "RBIs": "12"
                                },
                                {
                                    "Num": "1165",
                                    "Name": "Austin Riley",
                                    "Team": "ATL",
                                    "Games": "80",
                                    "AtBats": "274",
                                    "Runs": "41",
                                    "Hits": "62",
                                    "Doubles": "11",
                                    "Triples": "1",
                                    "Homers": "18",
                                    "RBIs": "49"
                                },
                                {
                                    "Num": "1166",
                                    "Name": "Edwin Rios",
                                    "Team": "LAD",
                                    "Games": "28",
                                    "AtBats": "47",
                                    "Runs": "10",
                                    "Hits": "13",
                                    "Doubles": "2",
                                    "Triples": "1",
                                    "Homers": "4",
                                    "RBIs": "8"
                                },
                                {
                                    "Num": "1170",
                                    "Name": "Rene Rivera",
                                    "Team": "NYM",
                                    "Games": "9",
                                    "AtBats": "17",
                                    "Runs": "2",
                                    "Hits": "4",
                                    "Doubles": "0",
                                    "Triples": "0",
                                    "Homers": "1",
                                    "RBIs": "3"
                                },
                                {
                                    "Num": "1171",
                                    "Name": "Yadiel Rivera",
                                    "Team": "MIA",
                                    "Games": "34",
                                    "AtBats": "60",
                                    "Runs": "8",
                                    "Hits": "11",
                                    "Doubles": "2",
                                    "Triples": "0",
                                    "Homers": "0",
                                    "RBIs": "3"
                                },
                                {
                                    "Num": "1172",
                                    "Name": "Anthony Rizzo",
                                    "Team": "CHC",
                                    "Games": "146",
                                    "AtBats": "512",
                                    "Runs": "89",
                                    "Hits": "150",
                                    "Doubles": "29",
                                    "Triples": "3",
                                    "Homers": "27",
                                    "RBIs": "94"
                                },
                                {
                                    "Num": "1174",
                                    "Name": "Tanner Roark",
                                    "Team": "CIN",
                                    "Games": "19",
                                    "AtBats": "33",
                                    "Runs": "2",
                                    "Hits": "5",
                                    "Doubles": "1",
                                    "Triples": "0",
                                    "Homers": "1",
                                    "RBIs": "2"
                                },
                                {
                                    "Num": "1175",
                                    "Name": "Daniel Robertson",
                                    "Team": "TBR",
                                    "Games": "74",
                                    "AtBats": "207",
                                    "Runs": "23",
                                    "Hits": "44",
                                    "Doubles": "9",
                                    "Triples": "1",
                                    "Homers": "2",
                                    "RBIs": "19"
                                },
                                {
                                    "Num": "1177",
                                    "Name": "Drew Robinson",
                                    "Team": "STL",
                                    "Games": "5",
                                    "AtBats": "7",
                                    "Runs": "1",
                                    "Hits": "1",
                                    "Doubles": "0",
                                    "Triples": "0",
                                    "Homers": "0",
                                    "RBIs": "0"
                                },
                                {
                                    "Num": "1179",
                                    "Name": "Victor Robles",
                                    "Team": "WSN",
                                    "Games": "155",
                                    "AtBats": "546",
                                    "Runs": "86",
                                    "Hits": "139",
                                    "Doubles": "33",
                                    "Triples": "3",
                                    "Homers": "17",
                                    "RBIs": "65"
                                },
                                {
                                    "Num": "1180",
                                    "Name": "Brendan Rodgers",
                                    "Team": "COL",
                                    "Games": "25",
                                    "AtBats": "76",
                                    "Runs": "8",
                                    "Hits": "17",
                                    "Doubles": "2",
                                    "Triples": "0",
                                    "Homers": "0",
                                    "RBIs": "7"
                                },
                                {
                                    "Num": "1184",
                                    "Name": "Dereck Rodriguez",
                                    "Team": "SFG",
                                    "Games": "27",
                                    "AtBats": "29",
                                    "Runs": "1",
                                    "Hits": "5",
                                    "Doubles": "0",
                                    "Triples": "0",
                                    "Homers": "0",
                                    "RBIs": "0"
                                },
                                {
                                    "Num": "1188",
                                    "Name": "Ronny Rodriguez",
                                    "Team": "DET",
                                    "Games": "84",
                                    "AtBats": "276",
                                    "Runs": "29",
                                    "Hits": "61",
                                    "Doubles": "12",
                                    "Triples": "3",
                                    "Homers": "14",
                                    "RBIs": "43"
                                },
                                {
                                    "Num": "1189",
                                    "Name": "Sean Rodriguez",
                                    "Team": "PHI",
                                    "Games": "76",
                                    "AtBats": "112",
                                    "Runs": "24",
                                    "Hits": "25",
                                    "Doubles": "5",
                                    "Triples": "0",
                                    "Homers": "4",
                                    "RBIs": "12"
                                },
                                {
                                    "Num": "1191",
                                    "Name": "Jake Rogers",
                                    "Team": "DET",
                                    "Games": "35",
                                    "AtBats": "112",
                                    "Runs": "11",
                                    "Hits": "14",
                                    "Doubles": "3",
                                    "Triples": "0",
                                    "Homers": "4",
                                    "RBIs": "8"
                                },
                                {
                                    "Num": "1194",
                                    "Name": "Josh Rojas",
                                    "Team": "ARI",
                                    "Games": "41",
                                    "AtBats": "138",
                                    "Runs": "17",
                                    "Hits": "30",
                                    "Doubles": "7",
                                    "Triples": "0",
                                    "Homers": "2",
                                    "RBIs": "16"
                                },
                                {
                                    "Num": "1195",
                                    "Name": "Miguel Rojas",
                                    "Team": "MIA",
                                    "Games": "132",
                                    "AtBats": "483",
                                    "Runs": "52",
                                    "Hits": "137",
                                    "Doubles": "29",
                                    "Triples": "1",
                                    "Homers": "5",
                                    "RBIs": "46"
                                },
                                {
                                    "Num": "1198",
                                    "Name": "Austin Romine",
                                    "Team": "NYY",
                                    "Games": "72",
                                    "AtBats": "228",
                                    "Runs": "29",
                                    "Hits": "64",
                                    "Doubles": "12",
                                    "Triples": "0",
                                    "Homers": "8",
                                    "RBIs": "35"
                                },
                                {
                                    "Num": "1204",
                                    "Name": "Jose Rondon",
                                    "Team": "CHW",
                                    "Games": "55",
                                    "AtBats": "142",
                                    "Runs": "10",
                                    "Hits": "28",
                                    "Doubles": "3",
                                    "Triples": "0",
                                    "Homers": "3",
                                    "RBIs": "9"
                                },
                                {
                                    "Num": "1206",
                                    "Name": "Amed Rosario",
                                    "Team": "NYM",
                                    "Games": "157",
                                    "AtBats": "616",
                                    "Runs": "75",
                                    "Hits": "177",
                                    "Doubles": "30",
                                    "Triples": "7",
                                    "Homers": "15",
                                    "RBIs": "72"
                                },
                                {
                                    "Num": "1207",
                                    "Name": "Eddie Rosario",
                                    "Team": "MIN",
                                    "Games": "137",
                                    "AtBats": "562",
                                    "Runs": "91",
                                    "Hits": "155",
                                    "Doubles": "28",
                                    "Triples": "1",
                                    "Homers": "32",
                                    "RBIs": "109"
                                },
                                {
                                    "Num": "1212",
                                    "Name": "Joe Ross",
                                    "Team": "WSN",
                                    "Games": "28",
                                    "AtBats": "19",
                                    "Runs": "1",
                                    "Hits": "2",
                                    "Doubles": "0",
                                    "Triples": "0",
                                    "Homers": "0",
                                    "RBIs": "0"
                                },
                                {
                                    "Num": "1216",
                                    "Name": "Rio Ruiz",
                                    "Team": "BAL",
                                    "Games": "127",
                                    "AtBats": "370",
                                    "Runs": "35",
                                    "Hits": "86",
                                    "Doubles": "13",
                                    "Triples": "2",
                                    "Homers": "12",
                                    "RBIs": "46"
                                },
                                {
                                    "Num": "1218",
                                    "Name": "Addison Russell",
                                    "Team": "CHC",
                                    "Games": "82",
                                    "AtBats": "215",
                                    "Runs": "25",
                                    "Hits": "51",
                                    "Doubles": "4",
                                    "Triples": "1",
                                    "Homers": "9",
                                    "RBIs": "23"
                                },
                                {
                                    "Num": "1220",
                                    "Name": "Hyun-Jin Ryu",
                                    "Team": "LAD",
                                    "Games": "28",
                                    "AtBats": "51",
                                    "Runs": "3",
                                    "Hits": "8",
                                    "Doubles": "1",
                                    "Triples": "0",
                                    "Homers": "1",
                                    "RBIs": "3"
                                },
                                {
                                    "Num": "1224",
                                    "Name": "Tyler Saladino",
                                    "Team": "MIL",
                                    "Games": "28",
                                    "AtBats": "65",
                                    "Runs": "7",
                                    "Hits": "8",
                                    "Doubles": "0",
                                    "Triples": "0",
                                    "Homers": "2",
                                    "RBIs": "8"
                                },
                                {
                                    "Num": "1226",
                                    "Name": "Jeff Samardzija",
                                    "Team": "SFG",
                                    "Games": "29",
                                    "AtBats": "50",
                                    "Runs": "1",
                                    "Hits": "6",
                                    "Doubles": "2",
                                    "Triples": "0",
                                    "Homers": "0",
                                    "RBIs": "1"
                                },
                                {
                                    "Num": "1230",
                                    "Name": "Adrian Sanchez",
                                    "Team": "WSN",
                                    "Games": "28",
                                    "AtBats": "31",
                                    "Runs": "3",
                                    "Hits": "7",
                                    "Doubles": "0",
                                    "Triples": "0",
                                    "Homers": "0",
                                    "RBIs": "1"
                                },
                                {
                                    "Num": "1231",
                                    "Name": "Anibal Sanchez",
                                    "Team": "WSN",
                                    "Games": "27",
                                    "AtBats": "52",
                                    "Runs": "1",
                                    "Hits": "6",
                                    "Doubles": "0",
                                    "Triples": "0",
                                    "Homers": "0",
                                    "RBIs": "1"
                                },
                                {
                                    "Num": "1232",
                                    "Name": "Gary Sanchez",
                                    "Team": "NYY",
                                    "Games": "106",
                                    "AtBats": "396",
                                    "Runs": "62",
                                    "Hits": "92",
                                    "Doubles": "12",
                                    "Triples": "1",
                                    "Homers": "34",
                                    "RBIs": "77"
                                },
                                {
                                    "Num": "1233",
                                    "Name": "Yolmer Sanchez",
                                    "Team": "CHW",
                                    "Games": "149",
                                    "AtBats": "496",
                                    "Runs": "59",
                                    "Hits": "125",
                                    "Doubles": "20",
                                    "Triples": "4",
                                    "Homers": "2",
                                    "RBIs": "43"
                                },
                                {
                                    "Num": "1234",
                                    "Name": "Pablo Sandoval",
                                    "Team": "SFG",
                                    "Games": "108",
                                    "AtBats": "272",
                                    "Runs": "42",
                                    "Hits": "73",
                                    "Doubles": "23",
                                    "Triples": "0",
                                    "Homers": "14",
                                    "RBIs": "41"
                                },
                                {
                                    "Num": "1236",
                                    "Name": "Miguel Sano",
                                    "Team": "MIN",
                                    "Games": "105",
                                    "AtBats": "380",
                                    "Runs": "76",
                                    "Hits": "94",
                                    "Doubles": "19",
                                    "Triples": "2",
                                    "Homers": "34",
                                    "RBIs": "79"
                                },
                                {
                                    "Num": "1237",
                                    "Name": "Carlos Santana",
                                    "Team": "CLE",
                                    "Games": "158",
                                    "AtBats": "573",
                                    "Runs": "110",
                                    "Hits": "161",
                                    "Doubles": "30",
                                    "Triples": "1",
                                    "Homers": "34",
                                    "RBIs": "93"
                                },
                                {
                                    "Num": "1238",
                                    "Name": "Danny Santana",
                                    "Team": "TEX",
                                    "Games": "130",
                                    "AtBats": "474",
                                    "Runs": "81",
                                    "Hits": "134",
                                    "Doubles": "23",
                                    "Triples": "6",
                                    "Homers": "28",
                                    "RBIs": "81"
                                },
                                {
                                    "Num": "1239",
                                    "Name": "Dennis Santana",
                                    "Team": "LAD",
                                    "Games": "3",
                                    "AtBats": "2",
                                    "Runs": "0",
                                    "Hits": "1",
                                    "Doubles": "0",
                                    "Triples": "0",
                                    "Homers": "0",
                                    "RBIs": "0"
                                },
                                {
                                    "Num": "1240",
                                    "Name": "Domingo Santana",
                                    "Team": "SEA",
                                    "Games": "121",
                                    "AtBats": "451",
                                    "Runs": "63",
                                    "Hits": "114",
                                    "Doubles": "20",
                                    "Triples": "1",
                                    "Homers": "21",
                                    "RBIs": "69"
                                },
                                {
                                    "Num": "1241",
                                    "Name": "Anthony Santander",
                                    "Team": "BAL",
                                    "Games": "93",
                                    "AtBats": "380",
                                    "Runs": "46",
                                    "Hits": "99",
                                    "Doubles": "20",
                                    "Triples": "1",
                                    "Homers": "20",
                                    "RBIs": "59"
                                },
                                {
                                    "Num": "1246",
                                    "Name": "Scott Schebler",
                                    "Team": "CIN",
                                    "Games": "30",
                                    "AtBats": "81",
                                    "Runs": "11",
                                    "Hits": "10",
                                    "Doubles": "2",
                                    "Triples": "0",
                                    "Homers": "2",
                                    "RBIs": "7"
                                },
                                {
                                    "Num": "1247",
                                    "Name": "Max Scherzer",
                                    "Team": "WSN",
                                    "Games": "28",
                                    "AtBats": "55",
                                    "Runs": "6",
                                    "Hits": "10",
                                    "Doubles": "0",
                                    "Triples": "0",
                                    "Homers": "0",
                                    "RBIs": "2"
                                },
                                {
                                    "Num": "1248",
                                    "Name": "Jonathan Schoop",
                                    "Team": "MIN",
                                    "Games": "121",
                                    "AtBats": "433",
                                    "Runs": "61",
                                    "Hits": "111",
                                    "Doubles": "23",
                                    "Triples": "1",
                                    "Homers": "23",
                                    "RBIs": "59"
                                },
                                {
                                    "Num": "1250",
                                    "Name": "Kyle Schwarber",
                                    "Team": "CHC",
                                    "Games": "155",
                                    "AtBats": "529",
                                    "Runs": "82",
                                    "Hits": "132",
                                    "Doubles": "29",
                                    "Triples": "3",
                                    "Homers": "38",
                                    "RBIs": "92"
                                },
                                {
                                    "Num": "1251",
                                    "Name": "Frank Schwindel",
                                    "Team": "KCR",
                                    "Games": "6",
                                    "AtBats": "15",
                                    "Runs": "0",
                                    "Hits": "1",
                                    "Doubles": "0",
                                    "Triples": "0",
                                    "Homers": "0",
                                    "RBIs": "0"
                                },
                                {
                                    "Num": "1256",
                                    "Name": "Corey Seager",
                                    "Team": "LAD",
                                    "Games": "134",
                                    "AtBats": "489",
                                    "Runs": "82",
                                    "Hits": "133",
                                    "Doubles": "44",
                                    "Triples": "1",
                                    "Homers": "19",
                                    "RBIs": "87"
                                },
                                {
                                    "Num": "1257",
                                    "Name": "Kyle Seager",
                                    "Team": "SEA",
                                    "Games": "106",
                                    "AtBats": "393",
                                    "Runs": "55",
                                    "Hits": "94",
                                    "Doubles": "19",
                                    "Triples": "1",
                                    "Homers": "23",
                                    "RBIs": "63"
                                },
                                {
                                    "Num": "1258",
                                    "Name": "Jean Segura",
                                    "Team": "PHI",
                                    "Games": "144",
                                    "AtBats": "576",
                                    "Runs": "79",
                                    "Hits": "161",
                                    "Doubles": "37",
                                    "Triples": "4",
                                    "Homers": "12",
                                    "RBIs": "60"
                                },
                                {
                                    "Num": "1260",
                                    "Name": "Marcus Semien",
                                    "Team": "OAK",
                                    "Games": "162",
                                    "AtBats": "657",
                                    "Runs": "123",
                                    "Hits": "187",
                                    "Doubles": "43",
                                    "Triples": "7",
                                    "Homers": "33",
                                    "RBIs": "92"
                                },
                                {
                                    "Num": "1261",
                                    "Name": "Antonio Senzatela",
                                    "Team": "COL",
                                    "Games": "24",
                                    "AtBats": "40",
                                    "Runs": "2",
                                    "Hits": "1",
                                    "Doubles": "0",
                                    "Triples": "0",
                                    "Homers": "0",
                                    "RBIs": "3"
                                },
                                {
                                    "Num": "1262",
                                    "Name": "Nick Senzel",
                                    "Team": "CIN",
                                    "Games": "104",
                                    "AtBats": "375",
                                    "Runs": "55",
                                    "Hits": "96",
                                    "Doubles": "20",
                                    "Triples": "4",
                                    "Homers": "12",
                                    "RBIs": "42"
                                },
                                {
                                    "Num": "1263",
                                    "Name": "Pedro Severino",
                                    "Team": "BAL",
                                    "Games": "96",
                                    "AtBats": "305",
                                    "Runs": "37",
                                    "Hits": "76",
                                    "Doubles": "13",
                                    "Triples": "0",
                                    "Homers": "13",
                                    "RBIs": "44"
                                },
                                {
                                    "Num": "1267",
                                    "Name": "Chris Shaw",
                                    "Team": "SFG",
                                    "Games": "16",
                                    "AtBats": "18",
                                    "Runs": "0",
                                    "Hits": "1",
                                    "Doubles": "0",
                                    "Triples": "0",
                                    "Homers": "0",
                                    "RBIs": "0"
                                },
                                {
                                    "Num": "1268",
                                    "Name": "Travis Shaw",
                                    "Team": "MIL",
                                    "Games": "86",
                                    "AtBats": "230",
                                    "Runs": "22",
                                    "Hits": "36",
                                    "Doubles": "5",
                                    "Triples": "0",
                                    "Homers": "7",
                                    "RBIs": "16"
                                },
                                {
                                    "Num": "1272",
                                    "Name": "JB Shuck",
                                    "Team": "PIT",
                                    "Games": "27",
                                    "AtBats": "47",
                                    "Runs": "4",
                                    "Hits": "10",
                                    "Doubles": "0",
                                    "Triples": "1",
                                    "Homers": "0",
                                    "RBIs": "2"
                                },
                                {
                                    "Num": "1273",
                                    "Name": "Magneuris Sierra",
                                    "Team": "MIA",
                                    "Games": "15",
                                    "AtBats": "40",
                                    "Runs": "5",
                                    "Hits": "14",
                                    "Doubles": "1",
                                    "Triples": "1",
                                    "Homers": "0",
                                    "RBIs": "1"
                                },
                                {
                                    "Num": "1274",
                                    "Name": "Andrelton Simmons",
                                    "Team": "LAA",
                                    "Games": "103",
                                    "AtBats": "398",
                                    "Runs": "47",
                                    "Hits": "105",
                                    "Doubles": "19",
                                    "Triples": "0",
                                    "Homers": "7",
                                    "RBIs": "40"
                                },
                                {
                                    "Num": "1275",
                                    "Name": "Lucas Sims",
                                    "Team": "CIN",
                                    "Games": "23",
                                    "AtBats": "8",
                                    "Runs": "0",
                                    "Hits": "1",
                                    "Doubles": "0",
                                    "Triples": "0",
                                    "Homers": "0",
                                    "RBIs": "0"
                                },
                                {
                                    "Num": "1277",
                                    "Name": "Chance Sisco",
                                    "Team": "BAL",
                                    "Games": "59",
                                    "AtBats": "167",
                                    "Runs": "29",
                                    "Hits": "35",
                                    "Doubles": "7",
                                    "Triples": "0",
                                    "Homers": "8",
                                    "RBIs": "20"
                                },
                                {
                                    "Num": "1280",
                                    "Name": "Matt Skole",
                                    "Team": "CHW",
                                    "Games": "27",
                                    "AtBats": "72",
                                    "Runs": "7",
                                    "Hits": "15",
                                    "Doubles": "2",
                                    "Triples": "0",
                                    "Homers": "0",
                                    "RBIs": "6"
                                },
                                {
                                    "Num": "1281",
                                    "Name": "Austin Slater",
                                    "Team": "SFG",
                                    "Games": "68",
                                    "AtBats": "168",
                                    "Runs": "20",
                                    "Hits": "40",
                                    "Doubles": "9",
                                    "Triples": "3",
                                    "Homers": "5",
                                    "RBIs": "21"
                                },
                                {
                                    "Num": "1285",
                                    "Name": "Caleb Smith",
                                    "Team": "MIA",
                                    "Games": "27",
                                    "AtBats": "43",
                                    "Runs": "2",
                                    "Hits": "10",
                                    "Doubles": "2",
                                    "Triples": "0",
                                    "Homers": "0",
                                    "RBIs": "3"
                                },
                                {
                                    "Num": "1286",
                                    "Name": "Dominic Smith",
                                    "Team": "NYM",
                                    "Games": "89",
                                    "AtBats": "177",
                                    "Runs": "35",
                                    "Hits": "50",
                                    "Doubles": "10",
                                    "Triples": "0",
                                    "Homers": "11",
                                    "RBIs": "25"
                                },
                                {
                                    "Num": "1287",
                                    "Name": "Dwight Smith Jr.",
                                    "Team": "BAL",
                                    "Games": "101",
                                    "AtBats": "357",
                                    "Runs": "46",
                                    "Hits": "86",
                                    "Doubles": "16",
                                    "Triples": "3",
                                    "Homers": "13",
                                    "RBIs": "53"
                                },
                                {
                                    "Num": "1292",
                                    "Name": "Kevan Smith",
                                    "Team": "LAA",
                                    "Games": "67",
                                    "AtBats": "191",
                                    "Runs": "21",
                                    "Hits": "48",
                                    "Doubles": "12",
                                    "Triples": "0",
                                    "Homers": "5",
                                    "RBIs": "20"
                                },
                                {
                                    "Num": "1293",
                                    "Name": "Mallex Smith",
                                    "Team": "SEA",
                                    "Games": "134",
                                    "AtBats": "510",
                                    "Runs": "70",
                                    "Hits": "116",
                                    "Doubles": "19",
                                    "Triples": "9",
                                    "Homers": "6",
                                    "RBIs": "37"
                                },
                                {
                                    "Num": "1294",
                                    "Name": "Will Smith",
                                    "Team": "SFG",
                                    "Games": "58",
                                    "AtBats": "1",
                                    "Runs": "0",
                                    "Hits": "1",
                                    "Doubles": "0",
                                    "Triples": "0",
                                    "Homers": "0",
                                    "RBIs": "2"
                                },
                                {
                                    "Num": "1295",
                                    "Name": "Will Smith",
                                    "Team": "LAD",
                                    "Games": "54",
                                    "AtBats": "170",
                                    "Runs": "30",
                                    "Hits": "43",
                                    "Doubles": "9",
                                    "Triples": "0",
                                    "Homers": "15",
                                    "RBIs": "42"
                                },
                                {
                                    "Num": "1296",
                                    "Name": "Justin Smoak",
                                    "Team": "TOR",
                                    "Games": "121",
                                    "AtBats": "414",
                                    "Runs": "54",
                                    "Hits": "86",
                                    "Doubles": "16",
                                    "Triples": "0",
                                    "Homers": "22",
                                    "RBIs": "61"
                                },
                                {
                                    "Num": "1303",
                                    "Name": "Eric Sogard",
                                    "Team": "TOR",
                                    "Games": "73",
                                    "AtBats": "287",
                                    "Runs": "45",
                                    "Hits": "86",
                                    "Doubles": "17",
                                    "Triples": "2",
                                    "Homers": "10",
                                    "RBIs": "30"
                                },
                                {
                                    "Num": "1304",
                                    "Name": "Eric Sogard",
                                    "Team": "TBR",
                                    "Games": "37",
                                    "AtBats": "109",
                                    "Runs": "14",
                                    "Hits": "29",
                                    "Doubles": "6",
                                    "Triples": "0",
                                    "Homers": "3",
                                    "RBIs": "10"
                                },
                                {
                                    "Num": "1305",
                                    "Name": "Nick Solak",
                                    "Team": "TEX",
                                    "Games": "33",
                                    "AtBats": "116",
                                    "Runs": "19",
                                    "Hits": "34",
                                    "Doubles": "6",
                                    "Triples": "1",
                                    "Homers": "5",
                                    "RBIs": "17"
                                },
                                {
                                    "Num": "1306",
                                    "Name": "Donovan Solano",
                                    "Team": "SFG",
                                    "Games": "81",
                                    "AtBats": "215",
                                    "Runs": "27",
                                    "Hits": "71",
                                    "Doubles": "13",
                                    "Triples": "1",
                                    "Homers": "4",
                                    "RBIs": "23"
                                },
                                {
                                    "Num": "1307",
                                    "Name": "Yangervis Solarte",
                                    "Team": "SFG",
                                    "Games": "28",
                                    "AtBats": "73",
                                    "Runs": "9",
                                    "Hits": "15",
                                    "Doubles": "5",
                                    "Triples": "0",
                                    "Homers": "1",
                                    "RBIs": "7"
                                },
                                {
                                    "Num": "1308",
                                    "Name": "Jorge Soler",
                                    "Team": "KCR",
                                    "Games": "162",
                                    "AtBats": "589",
                                    "Runs": "95",
                                    "Hits": "156",
                                    "Doubles": "33",
                                    "Triples": "1",
                                    "Homers": "48",
                                    "RBIs": "117"
                                },
                                {
                                    "Num": "1310",
                                    "Name": "Mike Soroka",
                                    "Team": "ATL",
                                    "Games": "27",
                                    "AtBats": "52",
                                    "Runs": "2",
                                    "Hits": "4",
                                    "Doubles": "0",
                                    "Triples": "0",
                                    "Homers": "0",
                                    "RBIs": "3"
                                },
                                {
                                    "Num": "1311",
                                    "Name": "Edmundo Sosa",
                                    "Team": "STL",
                                    "Games": "8",
                                    "AtBats": "8",
                                    "Runs": "2",
                                    "Hits": "2",
                                    "Doubles": "0",
                                    "Triples": "0",
                                    "Homers": "0",
                                    "RBIs": "0"
                                },
                                {
                                    "Num": "1312",
                                    "Name": "Gregory Soto",
                                    "Team": "DET",
                                    "Games": "1",
                                    "AtBats": "2",
                                    "Runs": "0",
                                    "Hits": "2",
                                    "Doubles": "0",
                                    "Triples": "0",
                                    "Homers": "0",
                                    "RBIs": "0"
                                },
                                {
                                    "Num": "1313",
                                    "Name": "Juan Soto",
                                    "Team": "WSN",
                                    "Games": "150",
                                    "AtBats": "542",
                                    "Runs": "110",
                                    "Hits": "153",
                                    "Doubles": "32",
                                    "Triples": "5",
                                    "Homers": "34",
                                    "RBIs": "110"
                                },
                                {
                                    "Num": "1314",
                                    "Name": "Cory Spangenberg",
                                    "Team": "MIL",
                                    "Games": "32",
                                    "AtBats": "95",
                                    "Runs": "11",
                                    "Hits": "22",
                                    "Doubles": "2",
                                    "Triples": "2",
                                    "Homers": "2",
                                    "RBIs": "10"
                                },
                                {
                                    "Num": "1317",
                                    "Name": "George Springer",
                                    "Team": "HOU",
                                    "Games": "122",
                                    "AtBats": "479",
                                    "Runs": "96",
                                    "Hits": "140",
                                    "Doubles": "20",
                                    "Triples": "3",
                                    "Homers": "39",
                                    "RBIs": "96"
                                },
                                {
                                    "Num": "1319",
                                    "Name": "Jacob Stallings",
                                    "Team": "PIT",
                                    "Games": "71",
                                    "AtBats": "191",
                                    "Runs": "26",
                                    "Hits": "50",
                                    "Doubles": "5",
                                    "Triples": "0",
                                    "Homers": "6",
                                    "RBIs": "13"
                                },
                                {
                                    "Num": "1320",
                                    "Name": "Eric Stamets",
                                    "Team": "CLE",
                                    "Games": "15",
                                    "AtBats": "41",
                                    "Runs": "4",
                                    "Hits": "2",
                                    "Doubles": "1",
                                    "Triples": "0",
                                    "Homers": "0",
                                    "RBIs": "2"
                                },
                                {
                                    "Num": "1325",
                                    "Name": "Giancarlo Stanton",
                                    "Team": "NYY",
                                    "Games": "18",
                                    "AtBats": "59",
                                    "Runs": "8",
                                    "Hits": "17",
                                    "Doubles": "3",
                                    "Triples": "0",
                                    "Homers": "3",
                                    "RBIs": "13"
                                },
                                {
                                    "Num": "1326",
                                    "Name": "Bubba Starling",
                                    "Team": "KCR",
                                    "Games": "56",
                                    "AtBats": "186",
                                    "Runs": "26",
                                    "Hits": "40",
                                    "Doubles": "7",
                                    "Triples": "0",
                                    "Homers": "4",
                                    "RBIs": "12"
                                },
                                {
                                    "Num": "1329",
                                    "Name": "Max Stassi",
                                    "Team": "HOU",
                                    "Games": "31",
                                    "AtBats": "90",
                                    "Runs": "4",
                                    "Hits": "15",
                                    "Doubles": "1",
                                    "Triples": "0",
                                    "Homers": "1",
                                    "RBIs": "3"
                                },
                                {
                                    "Num": "1330",
                                    "Name": "Max Stassi",
                                    "Team": "LAA",
                                    "Games": "20",
                                    "AtBats": "42",
                                    "Runs": "3",
                                    "Hits": "3",
                                    "Doubles": "0",
                                    "Triples": "0",
                                    "Homers": "0",
                                    "RBIs": "2"
                                },
                                {
                                    "Num": "1333",
                                    "Name": "Andrew Stevenson",
                                    "Team": "WSN",
                                    "Games": "30",
                                    "AtBats": "30",
                                    "Runs": "4",
                                    "Hits": "11",
                                    "Doubles": "1",
                                    "Triples": "1",
                                    "Homers": "0",
                                    "RBIs": "0"
                                },
                                {
                                    "Num": "1335",
                                    "Name": "Brock Stewart",
                                    "Team": "LAD",
                                    "Games": "3",
                                    "AtBats": "3",
                                    "Runs": "1",
                                    "Hits": "1",
                                    "Doubles": "1",
                                    "Triples": "0",
                                    "Homers": "0",
                                    "RBIs": "0"
                                },
                                {
                                    "Num": "1336",
                                    "Name": "Christin Stewart",
                                    "Team": "DET",
                                    "Games": "104",
                                    "AtBats": "369",
                                    "Runs": "32",
                                    "Hits": "86",
                                    "Doubles": "25",
                                    "Triples": "1",
                                    "Homers": "10",
                                    "RBIs": "40"
                                },
                                {
                                    "Num": "1337",
                                    "Name": "DJ Stewart",
                                    "Team": "BAL",
                                    "Games": "44",
                                    "AtBats": "126",
                                    "Runs": "15",
                                    "Hits": "30",
                                    "Doubles": "6",
                                    "Triples": "0",
                                    "Homers": "4",
                                    "RBIs": "15"
                                },
                                {
                                    "Num": "1339",
                                    "Name": "Trevor Story",
                                    "Team": "COL",
                                    "Games": "145",
                                    "AtBats": "588",
                                    "Runs": "111",
                                    "Hits": "173",
                                    "Doubles": "38",
                                    "Triples": "5",
                                    "Homers": "35",
                                    "RBIs": "85"
                                },
                                {
                                    "Num": "1340",
                                    "Name": "Matt Strahm",
                                    "Team": "SDP",
                                    "Games": "45",
                                    "AtBats": "21",
                                    "Runs": "1",
                                    "Hits": "6",
                                    "Doubles": "2",
                                    "Triples": "0",
                                    "Homers": "0",
                                    "RBIs": "1"
                                },
                                {
                                    "Num": "1341",
                                    "Name": "Stephen Strasburg",
                                    "Team": "WSN",
                                    "Games": "33",
                                    "AtBats": "72",
                                    "Runs": "4",
                                    "Hits": "12",
                                    "Doubles": "1",
                                    "Triples": "0",
                                    "Homers": "1",
                                    "RBIs": "10"
                                },
                                {
                                    "Num": "1345",
                                    "Name": "Myles Straw",
                                    "Team": "HOU",
                                    "Games": "56",
                                    "AtBats": "108",
                                    "Runs": "27",
                                    "Hits": "29",
                                    "Doubles": "4",
                                    "Triples": "2",
                                    "Homers": "0",
                                    "RBIs": "7"
                                },
                                {
                                    "Num": "1348",
                                    "Name": "Ross Stripling",
                                    "Team": "LAD",
                                    "Games": "27",
                                    "AtBats": "20",
                                    "Runs": "1",
                                    "Hits": "3",
                                    "Doubles": "0",
                                    "Triples": "0",
                                    "Homers": "0",
                                    "RBIs": "1"
                                },
                                {
                                    "Num": "1351",
                                    "Name": "Marcus Stroman",
                                    "Team": "NYM",
                                    "Games": "11",
                                    "AtBats": "21",
                                    "Runs": "2",
                                    "Hits": "1",
                                    "Doubles": "0",
                                    "Triples": "0",
                                    "Homers": "0",
                                    "RBIs": "0"
                                },
                                {
                                    "Num": "1353",
                                    "Name": "Garrett Stubbs",
                                    "Team": "HOU",
                                    "Games": "19",
                                    "AtBats": "35",
                                    "Runs": "8",
                                    "Hits": "7",
                                    "Doubles": "3",
                                    "Triples": "0",
                                    "Homers": "0",
                                    "RBIs": "2"
                                },
                                {
                                    "Num": "1356",
                                    "Name": "Eugenio Suarez",
                                    "Team": "CIN",
                                    "Games": "159",
                                    "AtBats": "575",
                                    "Runs": "87",
                                    "Hits": "156",
                                    "Doubles": "22",
                                    "Triples": "2",
                                    "Homers": "49",
                                    "RBIs": "103"
                                },
                                {
                                    "Num": "1358",
                                    "Name": "Ranger Suarez",
                                    "Team": "PHI",
                                    "Games": "34",
                                    "AtBats": "4",
                                    "Runs": "0",
                                    "Hits": "1",
                                    "Doubles": "0",
                                    "Triples": "0",
                                    "Homers": "0",
                                    "RBIs": "0"
                                },
                                {
                                    "Num": "1359",
                                    "Name": "Jesus Sucre",
                                    "Team": "BAL",
                                    "Games": "20",
                                    "AtBats": "62",
                                    "Runs": "3",
                                    "Hits": "13",
                                    "Doubles": "2",
                                    "Triples": "0",
                                    "Homers": "0",
                                    "RBIs": "3"
                                },
                                {
                                    "Num": "1364",
                                    "Name": "Kurt Suzuki",
                                    "Team": "WSN",
                                    "Games": "85",
                                    "AtBats": "280",
                                    "Runs": "37",
                                    "Hits": "74",
                                    "Doubles": "11",
                                    "Triples": "0",
                                    "Homers": "17",
                                    "RBIs": "63"
                                },
                                {
                                    "Num": "1365",
                                    "Name": "Dansby Swanson",
                                    "Team": "ATL",
                                    "Games": "127",
                                    "AtBats": "483",
                                    "Runs": "77",
                                    "Hits": "121",
                                    "Doubles": "26",
                                    "Triples": "3",
                                    "Homers": "17",
                                    "RBIs": "65"
                                },
                                {
                                    "Num": "1370",
                                    "Name": "Blake Swihart",
                                    "Team": "BOS",
                                    "Games": "12",
                                    "AtBats": "26",
                                    "Runs": "4",
                                    "Hits": "6",
                                    "Doubles": "1",
                                    "Triples": "0",
                                    "Homers": "1",
                                    "RBIs": "4"
                                },
                                {
                                    "Num": "1371",
                                    "Name": "Blake Swihart",
                                    "Team": "ARI",
                                    "Games": "31",
                                    "AtBats": "66",
                                    "Runs": "9",
                                    "Hits": "9",
                                    "Doubles": "0",
                                    "Triples": "0",
                                    "Homers": "3",
                                    "RBIs": "9"
                                },
                                {
                                    "Num": "1372",
                                    "Name": "Noah Syndergaard",
                                    "Team": "NYM",
                                    "Games": "30",
                                    "AtBats": "65",
                                    "Runs": "6",
                                    "Hits": "6",
                                    "Doubles": "1",
                                    "Triples": "0",
                                    "Homers": "2",
                                    "RBIs": "2"
                                },
                                {
                                    "Num": "1373",
                                    "Name": "Jameson Taillon",
                                    "Team": "PIT",
                                    "Games": "6",
                                    "AtBats": "8",
                                    "Runs": "0",
                                    "Hits": "2",
                                    "Doubles": "0",
                                    "Triples": "0",
                                    "Homers": "0",
                                    "RBIs": "0"
                                },
                                {
                                    "Num": "1375",
                                    "Name": "Raimel Tapia",
                                    "Team": "COL",
                                    "Games": "138",
                                    "AtBats": "426",
                                    "Runs": "54",
                                    "Hits": "117",
                                    "Doubles": "23",
                                    "Triples": "5",
                                    "Homers": "9",
                                    "RBIs": "44"
                                },
                                {
                                    "Num": "1377",
                                    "Name": "Fernando Tatis Jr.",
                                    "Team": "SDP",
                                    "Games": "84",
                                    "AtBats": "334",
                                    "Runs": "61",
                                    "Hits": "106",
                                    "Doubles": "13",
                                    "Triples": "6",
                                    "Homers": "22",
                                    "RBIs": "53"
                                },
                                {
                                    "Num": "1378",
                                    "Name": "Mike Tauchman",
                                    "Team": "NYY",
                                    "Games": "87",
                                    "AtBats": "260",
                                    "Runs": "46",
                                    "Hits": "72",
                                    "Doubles": "18",
                                    "Triples": "1",
                                    "Homers": "13",
                                    "RBIs": "47"
                                },
                                {
                                    "Num": "1380",
                                    "Name": "Beau Taylor",
                                    "Team": "OAK",
                                    "Games": "9",
                                    "AtBats": "22",
                                    "Runs": "3",
                                    "Hits": "4",
                                    "Doubles": "0",
                                    "Triples": "0",
                                    "Homers": "2",
                                    "RBIs": "2"
                                },
                                {
                                    "Num": "1383",
                                    "Name": "Chris Taylor",
                                    "Team": "LAD",
                                    "Games": "124",
                                    "AtBats": "366",
                                    "Runs": "52",
                                    "Hits": "96",
                                    "Doubles": "29",
                                    "Triples": "4",
                                    "Homers": "12",
                                    "RBIs": "52"
                                },
                                {
                                    "Num": "1385",
                                    "Name": "Michael A. Taylor",
                                    "Team": "WSN",
                                    "Games": "53",
                                    "AtBats": "88",
                                    "Runs": "10",
                                    "Hits": "22",
                                    "Doubles": "7",
                                    "Triples": "0",
                                    "Homers": "1",
                                    "RBIs": "3"
                                },
                                {
                                    "Num": "1386",
                                    "Name": "Tyrone Taylor",
                                    "Team": "MIL",
                                    "Games": "15",
                                    "AtBats": "10",
                                    "Runs": "1",
                                    "Hits": "4",
                                    "Doubles": "2",
                                    "Triples": "0",
                                    "Homers": "0",
                                    "RBIs": "1"
                                },
                                {
                                    "Num": "1387",
                                    "Name": "Julio Teheran",
                                    "Team": "ATL",
                                    "Games": "33",
                                    "AtBats": "55",
                                    "Runs": "1",
                                    "Hits": "6",
                                    "Doubles": "1",
                                    "Triples": "0",
                                    "Homers": "0",
                                    "RBIs": "4"
                                },
                                {
                                    "Num": "1389",
                                    "Name": "Rowdy Tellez",
                                    "Team": "TOR",
                                    "Games": "111",
                                    "AtBats": "370",
                                    "Runs": "49",
                                    "Hits": "84",
                                    "Doubles": "19",
                                    "Triples": "0",
                                    "Homers": "21",
                                    "RBIs": "54"
                                },
                                {
                                    "Num": "1391",
                                    "Name": "Matt Thaiss",
                                    "Team": "LAA",
                                    "Games": "53",
                                    "AtBats": "147",
                                    "Runs": "17",
                                    "Hits": "31",
                                    "Doubles": "7",
                                    "Triples": "0",
                                    "Homers": "8",
                                    "RBIs": "23"
                                },
                                {
                                    "Num": "1392",
                                    "Name": "Eric Thames",
                                    "Team": "MIL",
                                    "Games": "149",
                                    "AtBats": "396",
                                    "Runs": "67",
                                    "Hits": "98",
                                    "Doubles": "23",
                                    "Triples": "2",
                                    "Homers": "25",
                                    "RBIs": "61"
                                },
                                {
                                    "Num": "1393",
                                    "Name": "Lane Thomas",
                                    "Team": "STL",
                                    "Games": "34",
                                    "AtBats": "38",
                                    "Runs": "6",
                                    "Hits": "12",
                                    "Doubles": "0",
                                    "Triples": "1",
                                    "Homers": "4",
                                    "RBIs": "12"
                                },
                                {
                                    "Num": "1395",
                                    "Name": "Trent Thornton",
                                    "Team": "TOR",
                                    "Games": "1",
                                    "AtBats": "3",
                                    "Runs": "2",
                                    "Hits": "2",
                                    "Doubles": "0",
                                    "Triples": "0",
                                    "Homers": "0",
                                    "RBIs": "0"
                                },
                                {
                                    "Num": "1396",
                                    "Name": "Charlie Tilson",
                                    "Team": "CHW",
                                    "Games": "54",
                                    "AtBats": "144",
                                    "Runs": "16",
                                    "Hits": "33",
                                    "Doubles": "5",
                                    "Triples": "0",
                                    "Homers": "1",
                                    "RBIs": "12"
                                },
                                {
                                    "Num": "1397",
                                    "Name": "Jesus Tinoco",
                                    "Team": "COL",
                                    "Games": "23",
                                    "AtBats": "5",
                                    "Runs": "1",
                                    "Hits": "1",
                                    "Doubles": "0",
                                    "Triples": "0",
                                    "Homers": "0",
                                    "RBIs": "0"
                                },
                                {
                                    "Num": "1400",
                                    "Name": "Abraham Toro",
                                    "Team": "HOU",
                                    "Games": "25",
                                    "AtBats": "78",
                                    "Runs": "13",
                                    "Hits": "17",
                                    "Doubles": "3",
                                    "Triples": "2",
                                    "Homers": "2",
                                    "RBIs": "9"
                                },
                                {
                                    "Num": "1401",
                                    "Name": "Luis Torrens",
                                    "Team": "SDP",
                                    "Games": "7",
                                    "AtBats": "14",
                                    "Runs": "2",
                                    "Hits": "3",
                                    "Doubles": "1",
                                    "Triples": "0",
                                    "Homers": "0",
                                    "RBIs": "0"
                                },
                                {
                                    "Num": "1402",
                                    "Name": "Gleyber Torres",
                                    "Team": "NYY",
                                    "Games": "144",
                                    "AtBats": "546",
                                    "Runs": "96",
                                    "Hits": "152",
                                    "Doubles": "26",
                                    "Triples": "0",
                                    "Homers": "38",
                                    "RBIs": "90"
                                },
                                {
                                    "Num": "1403",
                                    "Name": "Ronald Torreyes",
                                    "Team": "MIN",
                                    "Games": "7",
                                    "AtBats": "16",
                                    "Runs": "3",
                                    "Hits": "3",
                                    "Doubles": "0",
                                    "Triples": "0",
                                    "Homers": "0",
                                    "RBIs": "1"
                                },
                                {
                                    "Num": "1405",
                                    "Name": "Wilfredo Tovar",
                                    "Team": "LAA",
                                    "Games": "31",
                                    "AtBats": "83",
                                    "Runs": "5",
                                    "Hits": "16",
                                    "Doubles": "5",
                                    "Triples": "0",
                                    "Homers": "0",
                                    "RBIs": "5"
                                },
                                {
                                    "Num": "1406",
                                    "Name": "Sam Travis",
                                    "Team": "BOS",
                                    "Games": "59",
                                    "AtBats": "144",
                                    "Runs": "17",
                                    "Hits": "31",
                                    "Doubles": "4",
                                    "Triples": "1",
                                    "Homers": "6",
                                    "RBIs": "16"
                                },
                                {
                                    "Num": "1408",
                                    "Name": "Jose Trevino",
                                    "Team": "TEX",
                                    "Games": "40",
                                    "AtBats": "120",
                                    "Runs": "18",
                                    "Hits": "31",
                                    "Doubles": "9",
                                    "Triples": "0",
                                    "Homers": "2",
                                    "RBIs": "13"
                                },
                                {
                                    "Num": "1410",
                                    "Name": "Mike Trout",
                                    "Team": "LAA",
                                    "Games": "134",
                                    "AtBats": "470",
                                    "Runs": "110",
                                    "Hits": "137",
                                    "Doubles": "27",
                                    "Triples": "2",
                                    "Homers": "45",
                                    "RBIs": "104"
                                },
                                {
                                    "Num": "1411",
                                    "Name": "Mark Trumbo",
                                    "Team": "BAL",
                                    "Games": "12",
                                    "AtBats": "29",
                                    "Runs": "1",
                                    "Hits": "5",
                                    "Doubles": "3",
                                    "Triples": "0",
                                    "Homers": "0",
                                    "RBIs": "3"
                                },
                                {
                                    "Num": "1412",
                                    "Name": "Cole Tucker",
                                    "Team": "PIT",
                                    "Games": "56",
                                    "AtBats": "147",
                                    "Runs": "16",
                                    "Hits": "31",
                                    "Doubles": "10",
                                    "Triples": "3",
                                    "Homers": "2",
                                    "RBIs": "13"
                                },
                                {
                                    "Num": "1413",
                                    "Name": "Kyle Tucker",
                                    "Team": "HOU",
                                    "Games": "22",
                                    "AtBats": "67",
                                    "Runs": "15",
                                    "Hits": "18",
                                    "Doubles": "6",
                                    "Triples": "0",
                                    "Homers": "4",
                                    "RBIs": "11"
                                },
                                {
                                    "Num": "1415",
                                    "Name": "Troy Tulowitzki",
                                    "Team": "NYY",
                                    "Games": "5",
                                    "AtBats": "11",
                                    "Runs": "1",
                                    "Hits": "2",
                                    "Doubles": "1",
                                    "Triples": "0",
                                    "Homers": "1",
                                    "RBIs": "1"
                                },
                                {
                                    "Num": "1417",
                                    "Name": "Justin Turner",
                                    "Team": "LAD",
                                    "Games": "135",
                                    "AtBats": "479",
                                    "Runs": "80",
                                    "Hits": "139",
                                    "Doubles": "24",
                                    "Triples": "0",
                                    "Homers": "27",
                                    "RBIs": "67"
                                },
                                {
                                    "Num": "1418",
                                    "Name": "Trea Turner",
                                    "Team": "WSN",
                                    "Games": "122",
                                    "AtBats": "521",
                                    "Runs": "96",
                                    "Hits": "155",
                                    "Doubles": "37",
                                    "Triples": "5",
                                    "Homers": "19",
                                    "RBIs": "57"
                                },
                                {
                                    "Num": "1420",
                                    "Name": "Justin Upton",
                                    "Team": "LAA",
                                    "Games": "63",
                                    "AtBats": "219",
                                    "Runs": "34",
                                    "Hits": "47",
                                    "Doubles": "8",
                                    "Triples": "0",
                                    "Homers": "12",
                                    "RBIs": "40"
                                },
                                {
                                    "Num": "1422",
                                    "Name": "Richard Urena",
                                    "Team": "TOR",
                                    "Games": "30",
                                    "AtBats": "74",
                                    "Runs": "4",
                                    "Hits": "18",
                                    "Doubles": "6",
                                    "Triples": "0",
                                    "Homers": "0",
                                    "RBIs": "4"
                                },
                                {
                                    "Num": "1423",
                                    "Name": "Julio Urias",
                                    "Team": "LAD",
                                    "Games": "35",
                                    "AtBats": "12",
                                    "Runs": "0",
                                    "Hits": "3",
                                    "Doubles": "0",
                                    "Triples": "0",
                                    "Homers": "0",
                                    "RBIs": "2"
                                },
                                {
                                    "Num": "1424",
                                    "Name": "Luis Urias",
                                    "Team": "SDP",
                                    "Games": "71",
                                    "AtBats": "215",
                                    "Runs": "27",
                                    "Hits": "48",
                                    "Doubles": "8",
                                    "Triples": "1",
                                    "Homers": "4",
                                    "RBIs": "24"
                                },
                                {
                                    "Num": "1426",
                                    "Name": "Gio Urshela",
                                    "Team": "NYY",
                                    "Games": "132",
                                    "AtBats": "442",
                                    "Runs": "73",
                                    "Hits": "139",
                                    "Doubles": "34",
                                    "Triples": "0",
                                    "Homers": "21",
                                    "RBIs": "74"
                                },
                                {
                                    "Num": "1427",
                                    "Name": "Pat Valaika",
                                    "Team": "COL",
                                    "Games": "40",
                                    "AtBats": "79",
                                    "Runs": "11",
                                    "Hits": "15",
                                    "Doubles": "5",
                                    "Triples": "1",
                                    "Homers": "1",
                                    "RBIs": "4"
                                },
                                {
                                    "Num": "1429",
                                    "Name": "Breyvic Valera",
                                    "Team": "NYY",
                                    "Games": "12",
                                    "AtBats": "32",
                                    "Runs": "5",
                                    "Hits": "7",
                                    "Doubles": "1",
                                    "Triples": "1",
                                    "Homers": "0",
                                    "RBIs": "3"
                                },
                                {
                                    "Num": "1430",
                                    "Name": "Breyvic Valera",
                                    "Team": "TOR",
                                    "Games": "5",
                                    "AtBats": "15",
                                    "Runs": "2",
                                    "Hits": "4",
                                    "Doubles": "1",
                                    "Triples": "0",
                                    "Homers": "1",
                                    "RBIs": "3"
                                },
                                {
                                    "Num": "1431",
                                    "Name": "Josh VanMeter",
                                    "Team": "CIN",
                                    "Games": "95",
                                    "AtBats": "228",
                                    "Runs": "33",
                                    "Hits": "54",
                                    "Doubles": "13",
                                    "Triples": "1",
                                    "Homers": "8",
                                    "RBIs": "23"
                                },
                                {
                                    "Num": "1432",
                                    "Name": "Ildemaro Vargas",
                                    "Team": "ARI",
                                    "Games": "92",
                                    "AtBats": "201",
                                    "Runs": "25",
                                    "Hits": "54",
                                    "Doubles": "9",
                                    "Triples": "1",
                                    "Homers": "6",
                                    "RBIs": "24"
                                },
                                {
                                    "Num": "1434",
                                    "Name": "Jason Vargas",
                                    "Team": "NYM",
                                    "Games": "17",
                                    "AtBats": "28",
                                    "Runs": "0",
                                    "Hits": "2",
                                    "Doubles": "0",
                                    "Triples": "0",
                                    "Homers": "0",
                                    "RBIs": "0"
                                },
                                {
                                    "Num": "1435",
                                    "Name": "Jason Vargas",
                                    "Team": "PHI",
                                    "Games": "10",
                                    "AtBats": "12",
                                    "Runs": "0",
                                    "Hits": "1",
                                    "Doubles": "0",
                                    "Triples": "0",
                                    "Homers": "0",
                                    "RBIs": "0"
                                },
                                {
                                    "Num": "1437",
                                    "Name": "Christian Vazquez",
                                    "Team": "BOS",
                                    "Games": "138",
                                    "AtBats": "482",
                                    "Runs": "66",
                                    "Hits": "133",
                                    "Doubles": "26",
                                    "Triples": "1",
                                    "Homers": "23",
                                    "RBIs": "72"
                                },
                                {
                                    "Num": "1439",
                                    "Name": "Vince Velasquez",
                                    "Team": "PHI",
                                    "Games": "33",
                                    "AtBats": "30",
                                    "Runs": "2",
                                    "Hits": "7",
                                    "Doubles": "0",
                                    "Triples": "0",
                                    "Homers": "1",
                                    "RBIs": "3"
                                },
                                {
                                    "Num": "1441",
                                    "Name": "Andrew Velazquez",
                                    "Team": "TBR",
                                    "Games": "10",
                                    "AtBats": "12",
                                    "Runs": "2",
                                    "Hits": "1",
                                    "Doubles": "1",
                                    "Triples": "0",
                                    "Homers": "0",
                                    "RBIs": "0"
                                },
                                {
                                    "Num": "1442",
                                    "Name": "Andrew Velazquez",
                                    "Team": "CLE",
                                    "Games": "5",
                                    "AtBats": "11",
                                    "Runs": "1",
                                    "Hits": "1",
                                    "Doubles": "1",
                                    "Triples": "0",
                                    "Homers": "0",
                                    "RBIs": "0"
                                },
                                {
                                    "Num": "1448",
                                    "Name": "Alex Verdugo",
                                    "Team": "LAD",
                                    "Games": "106",
                                    "AtBats": "343",
                                    "Runs": "43",
                                    "Hits": "101",
                                    "Doubles": "22",
                                    "Triples": "2",
                                    "Homers": "12",
                                    "RBIs": "44"
                                },
                                {
                                    "Num": "1452",
                                    "Name": "Jonathan Villar",
                                    "Team": "BAL",
                                    "Games": "162",
                                    "AtBats": "642",
                                    "Runs": "111",
                                    "Hits": "176",
                                    "Doubles": "33",
                                    "Triples": "5",
                                    "Homers": "24",
                                    "RBIs": "73"
                                },
                                {
                                    "Num": "1453",
                                    "Name": "Meibrys Viloria",
                                    "Team": "KCR",
                                    "Games": "42",
                                    "AtBats": "133",
                                    "Runs": "7",
                                    "Hits": "28",
                                    "Doubles": "7",
                                    "Triples": "0",
                                    "Homers": "1",
                                    "RBIs": "15"
                                },
                                {
                                    "Num": "1458",
                                    "Name": "Daniel Vogelbach",
                                    "Team": "SEA",
                                    "Games": "144",
                                    "AtBats": "462",
                                    "Runs": "73",
                                    "Hits": "96",
                                    "Doubles": "17",
                                    "Triples": "0",
                                    "Homers": "30",
                                    "RBIs": "76"
                                },
                                {
                                    "Num": "1459",
                                    "Name": "Stephen Vogt",
                                    "Team": "SFG",
                                    "Games": "99",
                                    "AtBats": "255",
                                    "Runs": "30",
                                    "Hits": "67",
                                    "Doubles": "24",
                                    "Triples": "2",
                                    "Homers": "10",
                                    "RBIs": "40"
                                },
                                {
                                    "Num": "1460",
                                    "Name": "Luke Voit",
                                    "Team": "NYY",
                                    "Games": "118",
                                    "AtBats": "429",
                                    "Runs": "72",
                                    "Hits": "113",
                                    "Doubles": "21",
                                    "Triples": "1",
                                    "Homers": "21",
                                    "RBIs": "62"
                                },
                                {
                                    "Num": "1461",
                                    "Name": "Austin Voth",
                                    "Team": "WSN",
                                    "Games": "7",
                                    "AtBats": "9",
                                    "Runs": "0",
                                    "Hits": "1",
                                    "Doubles": "0",
                                    "Triples": "0",
                                    "Homers": "0",
                                    "RBIs": "1"
                                },
                                {
                                    "Num": "1462",
                                    "Name": "Joey Votto",
                                    "Team": "CIN",
                                    "Games": "142",
                                    "AtBats": "525",
                                    "Runs": "79",
                                    "Hits": "137",
                                    "Doubles": "32",
                                    "Triples": "1",
                                    "Homers": "15",
                                    "RBIs": "47"
                                },
                                {
                                    "Num": "1463",
                                    "Name": "Michael Wacha",
                                    "Team": "STL",
                                    "Games": "28",
                                    "AtBats": "36",
                                    "Runs": "3",
                                    "Hits": "6",
                                    "Doubles": "1",
                                    "Triples": "0",
                                    "Homers": "0",
                                    "RBIs": "3"
                                },
                                {
                                    "Num": "1464",
                                    "Name": "LaMonte Wade Jr",
                                    "Team": "MIN",
                                    "Games": "26",
                                    "AtBats": "56",
                                    "Runs": "10",
                                    "Hits": "11",
                                    "Doubles": "2",
                                    "Triples": "1",
                                    "Homers": "2",
                                    "RBIs": "5"
                                },
                                {
                                    "Num": "1465",
                                    "Name": "Tyler Wade",
                                    "Team": "NYY",
                                    "Games": "43",
                                    "AtBats": "94",
                                    "Runs": "16",
                                    "Hits": "23",
                                    "Doubles": "3",
                                    "Triples": "1",
                                    "Homers": "2",
                                    "RBIs": "11"
                                },
                                {
                                    "Num": "1467",
                                    "Name": "Adam Wainwright",
                                    "Team": "STL",
                                    "Games": "29",
                                    "AtBats": "50",
                                    "Runs": "6",
                                    "Hits": "8",
                                    "Doubles": "3",
                                    "Triples": "0",
                                    "Homers": "0",
                                    "RBIs": "2"
                                },
                                {
                                    "Num": "1470",
                                    "Name": "Christian Walker",
                                    "Team": "ARI",
                                    "Games": "152",
                                    "AtBats": "529",
                                    "Runs": "86",
                                    "Hits": "137",
                                    "Doubles": "26",
                                    "Triples": "1",
                                    "Homers": "29",
                                    "RBIs": "73"
                                },
                                {
                                    "Num": "1472",
                                    "Name": "Neil Walker",
                                    "Team": "MIA",
                                    "Games": "115",
                                    "AtBats": "337",
                                    "Runs": "37",
                                    "Hits": "88",
                                    "Doubles": "19",
                                    "Triples": "1",
                                    "Homers": "8",
                                    "RBIs": "38"
                                },
                                {
                                    "Num": "1474",
                                    "Name": "Chad Wallach",
                                    "Team": "MIA",
                                    "Games": "19",
                                    "AtBats": "48",
                                    "Runs": "4",
                                    "Hits": "12",
                                    "Doubles": "3",
                                    "Triples": "0",
                                    "Homers": "1",
                                    "RBIs": "3"
                                },
                                {
                                    "Num": "1475",
                                    "Name": "Jared Walsh",
                                    "Team": "LAA",
                                    "Games": "31",
                                    "AtBats": "79",
                                    "Runs": "6",
                                    "Hits": "16",
                                    "Doubles": "5",
                                    "Triples": "1",
                                    "Homers": "1",
                                    "RBIs": "5"
                                },
                                {
                                    "Num": "1476",
                                    "Name": "Donovan Walton",
                                    "Team": "SEA",
                                    "Games": "7",
                                    "AtBats": "16",
                                    "Runs": "2",
                                    "Hits": "3",
                                    "Doubles": "0",
                                    "Triples": "0",
                                    "Homers": "0",
                                    "RBIs": "2"
                                },
                                {
                                    "Num": "1480",
                                    "Name": "Taylor Ward",
                                    "Team": "LAA",
                                    "Games": "20",
                                    "AtBats": "42",
                                    "Runs": "4",
                                    "Hits": "8",
                                    "Doubles": "3",
                                    "Triples": "0",
                                    "Homers": "1",
                                    "RBIs": "2"
                                },
                                {
                                    "Num": "1483",
                                    "Name": "Luke Weaver",
                                    "Team": "ARI",
                                    "Games": "13",
                                    "AtBats": "19",
                                    "Runs": "2",
                                    "Hits": "2",
                                    "Doubles": "0",
                                    "Triples": "0",
                                    "Homers": "1",
                                    "RBIs": "4"
                                },
                                {
                                    "Num": "1485",
                                    "Name": "Logan Webb",
                                    "Team": "SFG",
                                    "Games": "7",
                                    "AtBats": "9",
                                    "Runs": "0",
                                    "Hits": "1",
                                    "Doubles": "0",
                                    "Triples": "0",
                                    "Homers": "0",
                                    "RBIs": "0"
                                },
                                {
                                    "Num": "1489",
                                    "Name": "Joey Wendle",
                                    "Team": "TBR",
                                    "Games": "75",
                                    "AtBats": "238",
                                    "Runs": "32",
                                    "Hits": "55",
                                    "Doubles": "13",
                                    "Triples": "2",
                                    "Homers": "3",
                                    "RBIs": "19"
                                },
                                {
                                    "Num": "1490",
                                    "Name": "Zack Wheeler",
                                    "Team": "NYM",
                                    "Games": "28",
                                    "AtBats": "57",
                                    "Runs": "5",
                                    "Hits": "12",
                                    "Doubles": "2",
                                    "Triples": "0",
                                    "Homers": "1",
                                    "RBIs": "6"
                                },
                                {
                                    "Num": "1492",
                                    "Name": "Tyler White",
                                    "Team": "HOU",
                                    "Games": "71",
                                    "AtBats": "218",
                                    "Runs": "16",
                                    "Hits": "49",
                                    "Doubles": "14",
                                    "Triples": "0",
                                    "Homers": "3",
                                    "RBIs": "21"
                                },
                                {
                                    "Num": "1493",
                                    "Name": "Tyler White",
                                    "Team": "LAD",
                                    "Games": "12",
                                    "AtBats": "22",
                                    "Runs": "2",
                                    "Hits": "1",
                                    "Doubles": "0",
                                    "Triples": "0",
                                    "Homers": "0",
                                    "RBIs": "2"
                                },
                                {
                                    "Num": "1498",
                                    "Name": "Matt Wieters",
                                    "Team": "STL",
                                    "Games": "67",
                                    "AtBats": "168",
                                    "Runs": "15",
                                    "Hits": "36",
                                    "Doubles": "4",
                                    "Triples": "0",
                                    "Homers": "11",
                                    "RBIs": "27"
                                },
                                {
                                    "Num": "1499",
                                    "Name": "Aaron Wilkerson",
                                    "Team": "MIL",
                                    "Games": "8",
                                    "AtBats": "3",
                                    "Runs": "1",
                                    "Hits": "1",
                                    "Doubles": "0",
                                    "Triples": "0",
                                    "Homers": "1",
                                    "RBIs": "2"
                                },
                                {
                                    "Num": "1500",
                                    "Name": "Stevie Wilkerson",
                                    "Team": "BAL",
                                    "Games": "117",
                                    "AtBats": "329",
                                    "Runs": "41",
                                    "Hits": "74",
                                    "Doubles": "18",
                                    "Triples": "2",
                                    "Homers": "10",
                                    "RBIs": "35"
                                },
                                {
                                    "Num": "1503",
                                    "Name": "Mason Williams",
                                    "Team": "BAL",
                                    "Games": "11",
                                    "AtBats": "30",
                                    "Runs": "4",
                                    "Hits": "8",
                                    "Doubles": "1",
                                    "Triples": "0",
                                    "Homers": "0",
                                    "RBIs": "2"
                                },
                                {
                                    "Num": "1504",
                                    "Name": "Nick Williams",
                                    "Team": "PHI",
                                    "Games": "67",
                                    "AtBats": "106",
                                    "Runs": "9",
                                    "Hits": "16",
                                    "Doubles": "4",
                                    "Triples": "0",
                                    "Homers": "2",
                                    "RBIs": "5"
                                },
                                {
                                    "Num": "1506",
                                    "Name": "Trevor Williams",
                                    "Team": "PIT",
                                    "Games": "23",
                                    "AtBats": "36",
                                    "Runs": "2",
                                    "Hits": "6",
                                    "Doubles": "0",
                                    "Triples": "0",
                                    "Homers": "0",
                                    "RBIs": "4"
                                },
                                {
                                    "Num": "1508",
                                    "Name": "Mac Williamson",
                                    "Team": "SFG",
                                    "Games": "15",
                                    "AtBats": "51",
                                    "Runs": "3",
                                    "Hits": "6",
                                    "Doubles": "1",
                                    "Triples": "0",
                                    "Homers": "1",
                                    "RBIs": "7"
                                },
                                {
                                    "Num": "1509",
                                    "Name": "Mac Williamson",
                                    "Team": "SEA",
                                    "Games": "25",
                                    "AtBats": "77",
                                    "Runs": "10",
                                    "Hits": "14",
                                    "Doubles": "0",
                                    "Triples": "0",
                                    "Homers": "3",
                                    "RBIs": "10"
                                },
                                {
                                    "Num": "1511",
                                    "Name": "Bobby Wilson",
                                    "Team": "DET",
                                    "Games": "15",
                                    "AtBats": "44",
                                    "Runs": "2",
                                    "Hits": "4",
                                    "Doubles": "1",
                                    "Triples": "0",
                                    "Homers": "0",
                                    "RBIs": "2"
                                },
                                {
                                    "Num": "1512",
                                    "Name": "Bryse Wilson",
                                    "Team": "ATL",
                                    "Games": "6",
                                    "AtBats": "9",
                                    "Runs": "0",
                                    "Hits": "2",
                                    "Doubles": "0",
                                    "Triples": "0",
                                    "Homers": "0",
                                    "RBIs": "0"
                                },
                                {
                                    "Num": "1515",
                                    "Name": "Jesse Winker",
                                    "Team": "CIN",
                                    "Games": "113",
                                    "AtBats": "338",
                                    "Runs": "51",
                                    "Hits": "91",
                                    "Doubles": "17",
                                    "Triples": "2",
                                    "Homers": "16",
                                    "RBIs": "38"
                                },
                                {
                                    "Num": "1517",
                                    "Name": "Patrick Wisdom",
                                    "Team": "TEX",
                                    "Games": "9",
                                    "AtBats": "26",
                                    "Runs": "1",
                                    "Hits": "4",
                                    "Doubles": "1",
                                    "Triples": "0",
                                    "Homers": "0",
                                    "RBIs": "1"
                                },
                                {
                                    "Num": "1523",
                                    "Name": "Tony Wolters",
                                    "Team": "COL",
                                    "Games": "121",
                                    "AtBats": "359",
                                    "Runs": "42",
                                    "Hits": "94",
                                    "Doubles": "17",
                                    "Triples": "2",
                                    "Homers": "1",
                                    "RBIs": "42"
                                },
                                {
                                    "Num": "1525",
                                    "Name": "Kean Wong",
                                    "Team": "TBR",
                                    "Games": "6",
                                    "AtBats": "14",
                                    "Runs": "1",
                                    "Hits": "3",
                                    "Doubles": "0",
                                    "Triples": "0",
                                    "Homers": "0",
                                    "RBIs": "0"
                                },
                                {
                                    "Num": "1527",
                                    "Name": "Kolten Wong",
                                    "Team": "STL",
                                    "Games": "148",
                                    "AtBats": "478",
                                    "Runs": "61",
                                    "Hits": "136",
                                    "Doubles": "25",
                                    "Triples": "4",
                                    "Homers": "11",
                                    "RBIs": "59"
                                },
                                {
                                    "Num": "1528",
                                    "Name": "Alex Wood",
                                    "Team": "CIN",
                                    "Games": "7",
                                    "AtBats": "9",
                                    "Runs": "0",
                                    "Hits": "2",
                                    "Doubles": "0",
                                    "Triples": "0",
                                    "Homers": "0",
                                    "RBIs": "0"
                                },
                                {
                                    "Num": "1531",
                                    "Name": "Brandon Woodruff",
                                    "Team": "MIL",
                                    "Games": "25",
                                    "AtBats": "45",
                                    "Runs": "1",
                                    "Hits": "12",
                                    "Doubles": "4",
                                    "Triples": "0",
                                    "Homers": "0",
                                    "RBIs": "4"
                                },
                                {
                                    "Num": "1534",
                                    "Name": "Austin Wynns",
                                    "Team": "BAL",
                                    "Games": "28",
                                    "AtBats": "70",
                                    "Runs": "8",
                                    "Hits": "15",
                                    "Doubles": "1",
                                    "Triples": "0",
                                    "Homers": "1",
                                    "RBIs": "5"
                                },
                                {
                                    "Num": "1536",
                                    "Name": "Jordan Yamamoto",
                                    "Team": "MIA",
                                    "Games": "16",
                                    "AtBats": "21",
                                    "Runs": "0",
                                    "Hits": "1",
                                    "Doubles": "0",
                                    "Triples": "0",
                                    "Homers": "0",
                                    "RBIs": "1"
                                },
                                {
                                    "Num": "1539",
                                    "Name": "Mike Yastrzemski",
                                    "Team": "SFG",
                                    "Games": "107",
                                    "AtBats": "371",
                                    "Runs": "64",
                                    "Hits": "101",
                                    "Doubles": "22",
                                    "Triples": "3",
                                    "Homers": "21",
                                    "RBIs": "55"
                                },
                                {
                                    "Num": "1541",
                                    "Name": "Christian Yelich",
                                    "Team": "MIL",
                                    "Games": "130",
                                    "AtBats": "489",
                                    "Runs": "100",
                                    "Hits": "161",
                                    "Doubles": "29",
                                    "Triples": "3",
                                    "Homers": "44",
                                    "RBIs": "97"
                                },
                                {
                                    "Num": "1544",
                                    "Name": "Alex Young",
                                    "Team": "ARI",
                                    "Games": "16",
                                    "AtBats": "25",
                                    "Runs": "1",
                                    "Hits": "1",
                                    "Doubles": "0",
                                    "Triples": "0",
                                    "Homers": "0",
                                    "RBIs": "0"
                                },
                                {
                                    "Num": "1545",
                                    "Name": "Mark Zagunis",
                                    "Team": "CHC",
                                    "Games": "30",
                                    "AtBats": "36",
                                    "Runs": "2",
                                    "Hits": "9",
                                    "Doubles": "3",
                                    "Triples": "0",
                                    "Homers": "0",
                                    "RBIs": "5"
                                },
                                {
                                    "Num": "1547",
                                    "Name": "Seby Zavala",
                                    "Team": "CHW",
                                    "Games": "5",
                                    "AtBats": "12",
                                    "Runs": "1",
                                    "Hits": "1",
                                    "Doubles": "0",
                                    "Triples": "0",
                                    "Homers": "0",
                                    "RBIs": "0"
                                },
                                {
                                    "Num": "1551",
                                    "Name": "Ryan Zimmerman",
                                    "Team": "WSN",
                                    "Games": "52",
                                    "AtBats": "171",
                                    "Runs": "20",
                                    "Hits": "44",
                                    "Doubles": "9",
                                    "Triples": "0",
                                    "Homers": "6",
                                    "RBIs": "27"
                                },
                                {
                                    "Num": "1553",
                                    "Name": "Ben Zobrist",
                                    "Team": "CHC",
                                    "Games": "47",
                                    "AtBats": "150",
                                    "Runs": "24",
                                    "Hits": "39",
                                    "Doubles": "5",
                                    "Triples": "0",
                                    "Homers": "1",
                                    "RBIs": "17"
                                },
                                {
                                    "Num": "1554",
                                    "Name": "Mike Zunino",
                                    "Team": "TBR",
                                    "Games": "90",
                                    "AtBats": "266",
                                    "Runs": "30",
                                    "Hits": "44",
                                    "Doubles": "10",
                                    "Triples": "1",
                                    "Homers": "9",
                                    "RBIs": "32"
                                }
                            ]
                        },
                        "text/html": [
                            "<table>",
                            "<tr><th>Num</th><th>Name</th><th>Team</th><th>Games</th><th>AtBats</th><th>Runs</th><th>Hits</th><th>Doubles</th><th>Triples</th><th>Homers</th><th>RBIs</th></tr>",
                            "<tr><td>2</td><td>José Abreu</td><td>CHW</td><td>159</td><td>634</td><td>85</td><td>180</td><td>38</td><td>1</td><td>33</td><td>123</td></tr>",
                            "<tr><td>3</td><td>Ronald Acuna Jr.</td><td>ATL</td><td>156</td><td>626</td><td>127</td><td>175</td><td>22</td><td>2</td><td>41</td><td>101</td></tr>",
                            "<tr><td>5</td><td>Cristhian Adames</td><td>SFG</td><td>10</td><td>22</td><td>1</td><td>7</td><td>1</td><td>0</td><td>0</td><td>2</td></tr>",
                            "<tr><td>6</td><td>Willy Adames</td><td>TBR</td><td>152</td><td>531</td><td>69</td><td>135</td><td>25</td><td>1</td><td>20</td><td>52</td></tr>",
                            "<tr><td>12</td><td>Matt Adams</td><td>WSN</td><td>111</td><td>310</td><td>42</td><td>70</td><td>14</td><td>0</td><td>20</td><td>56</td></tr>",
                            "<tr><td>14</td><td>Ehire Adrianza</td><td>MIN</td><td>83</td><td>202</td><td>34</td><td>55</td><td>8</td><td>3</td><td>5</td><td>22</td></tr>",
                            "<tr><td>15</td><td>Dario Agrazal</td><td>PIT</td><td>14</td><td>22</td><td>0</td><td>2</td><td>0</td><td>0</td><td>0</td><td>2</td></tr>",
                            "<tr><td>17</td><td>Jesus Aguilar</td><td>MIL</td><td>94</td><td>222</td><td>26</td><td>50</td><td>9</td><td>0</td><td>8</td><td>34</td></tr>",
                            "<tr><td>18</td><td>Jesus Aguilar</td><td>TBR</td><td>37</td><td>92</td><td>13</td><td>24</td><td>3</td><td>0</td><td>4</td><td>16</td></tr>",
                            "<tr><td>19</td><td>Nick Ahmed</td><td>ARI</td><td>158</td><td>556</td><td>79</td><td>141</td><td>33</td><td>6</td><td>19</td><td>82</td></tr>",
                            "<tr><td>21</td><td>R.J. Alaniz</td><td>CIN</td><td>8</td><td>1</td><td>0</td><td>1</td><td>0</td><td>0</td><td>0</td><td>1</td></tr>",
                            "<tr><td>23</td><td>Hanser Alberto</td><td>BAL</td><td>139</td><td>524</td><td>62</td><td>160</td><td>21</td><td>2</td><td>12</td><td>51</td></tr>",
                            "<tr><td>24</td><td>Ozzie Albies</td><td>ATL</td><td>160</td><td>640</td><td>102</td><td>189</td><td>43</td><td>8</td><td>24</td><td>86</td></tr>",
                            "<tr><td>25</td><td>Sandy Alcantara</td><td>MIA</td><td>31</td><td>58</td><td>2</td><td>5</td><td>1</td><td>0</td><td>0</td><td>4</td></tr>",
                            "<tr><td>28</td><td>Jorge Alfaro</td><td>MIA</td><td>130</td><td>431</td><td>44</td><td>113</td><td>14</td><td>1</td><td>18</td><td>57</td></tr>",
                            "<tr><td>29</td><td>Anthony Alford</td><td>TOR</td><td>16</td><td>28</td><td>3</td><td>5</td><td>0</td><td>0</td><td>1</td><td>1</td></tr>",
                            "<tr><td>31</td><td>Austin Allen</td><td>SDP</td><td>34</td><td>65</td><td>4</td><td>14</td><td>4</td><td>0</td><td>0</td><td>3</td></tr>",
                            "<tr><td>33</td><td>Greg Allen</td><td>CLE</td><td>89</td><td>231</td><td>30</td><td>53</td><td>9</td><td>3</td><td>4</td><td>27</td></tr>",
                            "<tr><td>35</td><td>Logan Allen</td><td>SDP</td><td>7</td><td>4</td><td>1</td><td>1</td><td>0</td><td>0</td><td>0</td><td>0</td></tr>",
                            "<tr><td>36</td><td>Abraham Almonte</td><td>ARI</td><td>17</td><td>31</td><td>11</td><td>9</td><td>3</td><td>1</td><td>1</td><td>4</td></tr>",
                            "<tr><td>38</td><td>Albert Almora</td><td>CHC</td><td>130</td><td>339</td><td>41</td><td>80</td><td>11</td><td>1</td><td>12</td><td>32</td></tr>",
                            "<tr><td>39</td><td>Pete Alonso</td><td>NYM</td><td>161</td><td>597</td><td>103</td><td>155</td><td>30</td><td>2</td><td>53</td><td>120</td></tr>",
                            "<tr><td>41</td><td>Yonder Alonso</td><td>CHW</td><td>67</td><td>219</td><td>23</td><td>39</td><td>6</td><td>0</td><td>7</td><td>27</td></tr>",
                            "<tr><td>42</td><td>Yonder Alonso</td><td>COL</td><td>54</td><td>73</td><td>11</td><td>19</td><td>7</td><td>0</td><td>3</td><td>10</td></tr>",
                            "<tr><td>45</td><td>Aaron Altherr</td><td>PHI</td><td>22</td><td>29</td><td>2</td><td>1</td><td>1</td><td>0</td><td>0</td><td>1</td></tr>",
                            "<tr><td>47</td><td>Aaron Altherr</td><td>NYM</td><td>26</td><td>31</td><td>6</td><td>4</td><td>1</td><td>0</td><td>1</td><td>2</td></tr>",
                            "<tr><td>48</td><td>Jose Altuve</td><td>HOU</td><td>124</td><td>500</td><td>89</td><td>149</td><td>27</td><td>3</td><td>31</td><td>74</td></tr>",
                            "<tr><td>51</td><td>Yordan Álvarez</td><td>HOU</td><td>87</td><td>313</td><td>58</td><td>98</td><td>26</td><td>0</td><td>27</td><td>78</td></tr>",
                            "<tr><td>53</td><td>Brett Anderson</td><td>OAK</td><td>3</td><td>8</td><td>1</td><td>4</td><td>0</td><td>0</td><td>0</td><td>0</td></tr>",
                            "<tr><td>54</td><td>Brian Anderson</td><td>MIA</td><td>126</td><td>459</td><td>57</td><td>120</td><td>33</td><td>1</td><td>20</td><td>66</td></tr>",
                            "<tr><td>55</td><td>Chase Anderson</td><td>MIL</td><td>31</td><td>40</td><td>1</td><td>4</td><td>1</td><td>0</td><td>0</td><td>1</td></tr>",
                            "<tr><td>61</td><td>Shaun Anderson</td><td>SFG</td><td>25</td><td>25</td><td>0</td><td>2</td><td>1</td><td>0</td><td>0</td><td>0</td></tr>",
                            "<tr><td>63</td><td>Tim Anderson</td><td>CHW</td><td>123</td><td>498</td><td>81</td><td>167</td><td>32</td><td>0</td><td>18</td><td>56</td></tr>",
                            "<tr><td>64</td><td>Tyler Anderson</td><td>COL</td><td>5</td><td>7</td><td>1</td><td>1</td><td>0</td><td>0</td><td>0</td><td>0</td></tr>",
                            "<tr><td>66</td><td>Elvis Andrus</td><td>TEX</td><td>147</td><td>600</td><td>81</td><td>165</td><td>27</td><td>4</td><td>12</td><td>72</td></tr>",
                            "<tr><td>67</td><td>Miguel Andujar</td><td>NYY</td><td>12</td><td>47</td><td>1</td><td>6</td><td>0</td><td>0</td><td>0</td><td>1</td></tr>",
                            "<tr><td>68</td><td>Aristides Aquino</td><td>CIN</td><td>56</td><td>205</td><td>31</td><td>53</td><td>8</td><td>0</td><td>19</td><td>47</td></tr>",
                            "<tr><td>70</td><td>Chris Archer</td><td>PIT</td><td>22</td><td>35</td><td>1</td><td>4</td><td>0</td><td>0</td><td>0</td><td>2</td></tr>",
                            "<tr><td>71</td><td>Orlando Arcia</td><td>MIL</td><td>152</td><td>494</td><td>51</td><td>110</td><td>16</td><td>1</td><td>15</td><td>59</td></tr>",
                            "<tr><td>72</td><td>Nolan Arenado</td><td>COL</td><td>155</td><td>588</td><td>102</td><td>185</td><td>31</td><td>2</td><td>41</td><td>118</td></tr>",
                            "<tr><td>75</td><td>Randy Arozarena</td><td>STL</td><td>19</td><td>20</td><td>4</td><td>6</td><td>1</td><td>0</td><td>1</td><td>2</td></tr>",
                            "<tr><td>76</td><td>Luis Arraez</td><td>MIN</td><td>92</td><td>326</td><td>54</td><td>109</td><td>20</td><td>1</td><td>4</td><td>28</td></tr>",
                            "<tr><td>77</td><td>Jake Arrieta</td><td>PHI</td><td>23</td><td>45</td><td>2</td><td>7</td><td>1</td><td>0</td><td>0</td><td>4</td></tr>",
                            "<tr><td>78</td><td>Christian Arroyo</td><td>TBR</td><td>16</td><td>50</td><td>8</td><td>11</td><td>2</td><td>0</td><td>2</td><td>7</td></tr>",
                            "<tr><td>79</td><td>Humberto Arteaga</td><td>KCR</td><td>41</td><td>122</td><td>11</td><td>24</td><td>4</td><td>0</td><td>0</td><td>4</td></tr>",
                            "<tr><td>80</td><td>Willians Astudillo</td><td>MIN</td><td>58</td><td>190</td><td>28</td><td>51</td><td>9</td><td>0</td><td>4</td><td>21</td></tr>",
                            "<tr><td>83</td><td>Tyler Austin</td><td>MIN</td><td>2</td><td>4</td><td>1</td><td>1</td><td>1</td><td>0</td><td>0</td><td>0</td></tr>",
                            "<tr><td>84</td><td>Tyler Austin</td><td>SFG</td><td>70</td><td>130</td><td>24</td><td>24</td><td>2</td><td>1</td><td>8</td><td>20</td></tr>",
                            "<tr><td>85</td><td>Tyler Austin</td><td>MIL</td><td>17</td><td>20</td><td>5</td><td>4</td><td>2</td><td>0</td><td>1</td><td>4</td></tr>",
                            "<tr><td>86</td><td>Abiatal Avelino</td><td>SFG</td><td>4</td><td>7</td><td>0</td><td>2</td><td>0</td><td>0</td><td>0</td><td>1</td></tr>",
                            "<tr><td>87</td><td>Alex Avila</td><td>ARI</td><td>63</td><td>164</td><td>22</td><td>34</td><td>8</td><td>0</td><td>9</td><td>24</td></tr>",
                            "<tr><td>90</td><td>Harrison Bader</td><td>STL</td><td>128</td><td>347</td><td>54</td><td>71</td><td>14</td><td>3</td><td>12</td><td>39</td></tr>",
                            "<tr><td>91</td><td>Javier Baez</td><td>CHC</td><td>138</td><td>531</td><td>89</td><td>149</td><td>38</td><td>4</td><td>29</td><td>85</td></tr>",
                            "<tr><td>96</td><td>Homer Bailey</td><td>OAK</td><td>2</td><td>4</td><td>0</td><td>2</td><td>0</td><td>0</td><td>0</td><td>1</td></tr>",
                            "<tr><td>100</td><td>Austin Barnes</td><td>LAD</td><td>75</td><td>212</td><td>28</td><td>43</td><td>12</td><td>1</td><td>5</td><td>25</td></tr>",
                            "<tr><td>106</td><td>Tucker Barnhart</td><td>CIN</td><td>114</td><td>316</td><td>32</td><td>73</td><td>14</td><td>0</td><td>11</td><td>40</td></tr>",
                            "<tr><td>107</td><td>Steven Baron</td><td>PIT</td><td>7</td><td>10</td><td>0</td><td>2</td><td>1</td><td>0</td><td>0</td><td>1</td></tr>",
                            "<tr><td>112</td><td>Franklin Barreto</td><td>OAK</td><td>23</td><td>57</td><td>6</td><td>7</td><td>2</td><td>0</td><td>2</td><td>5</td></tr>",
                            "<tr><td>119</td><td>Trevor Bauer</td><td>CLE</td><td>2</td><td>5</td><td>0</td><td>1</td><td>0</td><td>0</td><td>0</td><td>0</td></tr>",
                            "<tr><td>120</td><td>Trevor Bauer</td><td>CIN</td><td>9</td><td>14</td><td>1</td><td>2</td><td>0</td><td>0</td><td>0</td><td>0</td></tr>",
                            "<tr><td>121</td><td>Jake Bauers</td><td>CLE</td><td>117</td><td>372</td><td>46</td><td>84</td><td>16</td><td>1</td><td>12</td><td>43</td></tr>",
                            "<tr><td>122</td><td>Matt Beaty</td><td>LAD</td><td>99</td><td>249</td><td>36</td><td>66</td><td>19</td><td>1</td><td>9</td><td>46</td></tr>",
                            "<tr><td>123</td><td>Gordon Beckham</td><td>DET</td><td>83</td><td>223</td><td>29</td><td>48</td><td>13</td><td>2</td><td>6</td><td>15</td></tr>",
                            "<tr><td>124</td><td>Tim Beckham</td><td>SEA</td><td>88</td><td>304</td><td>39</td><td>72</td><td>21</td><td>1</td><td>15</td><td>47</td></tr>",
                            "<tr><td>127</td><td>Tyler Beede</td><td>SFG</td><td>25</td><td>38</td><td>2</td><td>4</td><td>0</td><td>0</td><td>0</td><td>1</td></tr>",
                            "<tr><td>129</td><td>Josh Bell</td><td>PIT</td><td>143</td><td>527</td><td>94</td><td>146</td><td>37</td><td>3</td><td>37</td><td>116</td></tr>",
                            "<tr><td>130</td><td>Cody Bellinger</td><td>LAD</td><td>156</td><td>558</td><td>121</td><td>170</td><td>34</td><td>3</td><td>47</td><td>115</td></tr>",
                            "<tr><td>131</td><td>Brandon Belt</td><td>SFG</td><td>156</td><td>526</td><td>76</td><td>123</td><td>32</td><td>3</td><td>17</td><td>57</td></tr>",
                            "<tr><td>133</td><td>Anthony Bemboom</td><td>TBR</td><td>3</td><td>5</td><td>0</td><td>2</td><td>1</td><td>0</td><td>0</td><td>1</td></tr>",
                            "<tr><td>134</td><td>Anthony Bemboom</td><td>LAA</td><td>22</td><td>49</td><td>2</td><td>5</td><td>0</td><td>0</td><td>1</td><td>3</td></tr>",
                            "<tr><td>135</td><td>Andrew Benintendi</td><td>BOS</td><td>138</td><td>541</td><td>72</td><td>144</td><td>40</td><td>5</td><td>13</td><td>68</td></tr>",
                            "<tr><td>138</td><td>Jon Berti</td><td>MIA</td><td>73</td><td>256</td><td>52</td><td>70</td><td>14</td><td>1</td><td>6</td><td>24</td></tr>",
                            "<tr><td>140</td><td>Mookie Betts</td><td>BOS</td><td>150</td><td>597</td><td>135</td><td>176</td><td>40</td><td>5</td><td>29</td><td>80</td></tr>",
                            "<tr><td>144</td><td>Bo Bichette</td><td>TOR</td><td>46</td><td>196</td><td>32</td><td>61</td><td>18</td><td>0</td><td>11</td><td>21</td></tr>",
                            "<tr><td>148</td><td>Cavan Biggio</td><td>TOR</td><td>100</td><td>354</td><td>66</td><td>83</td><td>17</td><td>2</td><td>16</td><td>48</td></tr>",
                            "<tr><td>149</td><td>Greg Bird</td><td>NYY</td><td>10</td><td>35</td><td>6</td><td>6</td><td>0</td><td>0</td><td>1</td><td>1</td></tr>",
                            "<tr><td>151</td><td>Braden Bishop</td><td>SEA</td><td>27</td><td>56</td><td>3</td><td>6</td><td>0</td><td>0</td><td>0</td><td>4</td></tr>",
                            "<tr><td>157</td><td>Charlie Blackmon</td><td>COL</td><td>140</td><td>580</td><td>112</td><td>182</td><td>42</td><td>7</td><td>32</td><td>86</td></tr>",
                            "<tr><td>158</td><td>Alex Blandino</td><td>CIN</td><td>23</td><td>36</td><td>6</td><td>9</td><td>1</td><td>0</td><td>1</td><td>3</td></tr>",
                            "<tr><td>162</td><td>Xander Bogaerts</td><td>BOS</td><td>155</td><td>614</td><td>110</td><td>190</td><td>52</td><td>0</td><td>33</td><td>117</td></tr>",
                            "<tr><td>164</td><td>Skye Bolt</td><td>OAK</td><td>5</td><td>10</td><td>1</td><td>1</td><td>1</td><td>0</td><td>0</td><td>0</td></tr>",
                            "<tr><td>165</td><td>Jorge Bonifacio</td><td>KCR</td><td>5</td><td>20</td><td>3</td><td>7</td><td>3</td><td>0</td><td>0</td><td>3</td></tr>",
                            "<tr><td>167</td><td>David Bote</td><td>CHC</td><td>127</td><td>303</td><td>47</td><td>78</td><td>17</td><td>0</td><td>11</td><td>41</td></tr>",
                            "<tr><td>168</td><td>Justin Bour</td><td>LAA</td><td>52</td><td>151</td><td>18</td><td>26</td><td>5</td><td>0</td><td>8</td><td>26</td></tr>",
                            "<tr><td>169</td><td>Peter Bourjos</td><td>LAA</td><td>26</td><td>44</td><td>4</td><td>4</td><td>1</td><td>0</td><td>0</td><td>2</td></tr>",
                            "<tr><td>173</td><td>Matthew Boyd</td><td>DET</td><td>1</td><td>2</td><td>0</td><td>1</td><td>0</td><td>0</td><td>0</td><td>0</td></tr>",
                            "<tr><td>175</td><td>Brad Brach</td><td>CHC</td><td>39</td><td>4</td><td>0</td><td>1</td><td>0</td><td>0</td><td>0</td><td>1</td></tr>",
                            "<tr><td>179</td><td>Bobby Bradley</td><td>CLE</td><td>15</td><td>45</td><td>4</td><td>8</td><td>5</td><td>0</td><td>1</td><td>4</td></tr>",
                            "<tr><td>180</td><td>Jackie Bradley Jr.</td><td>BOS</td><td>147</td><td>494</td><td>69</td><td>111</td><td>28</td><td>3</td><td>21</td><td>62</td></tr>",
                            "<tr><td>181</td><td>Michael Brantley</td><td>HOU</td><td>148</td><td>575</td><td>88</td><td>179</td><td>40</td><td>2</td><td>22</td><td>90</td></tr>",
                            "<tr><td>184</td><td>Steven Brault</td><td>PIT</td><td>33</td><td>42</td><td>8</td><td>14</td><td>1</td><td>0</td><td>1</td><td>2</td></tr>",
                            "<tr><td>185</td><td>Ryan Braun</td><td>MIL</td><td>144</td><td>459</td><td>70</td><td>131</td><td>31</td><td>2</td><td>22</td><td>75</td></tr>",
                            "<tr><td>186</td><td>John Brebbia</td><td>STL</td><td>63</td><td>1</td><td>1</td><td>1</td><td>0</td><td>0</td><td>0</td><td>0</td></tr>",
                            "<tr><td>187</td><td>Alex Bregman</td><td>HOU</td><td>156</td><td>554</td><td>122</td><td>164</td><td>37</td><td>2</td><td>41</td><td>112</td></tr>",
                            "<tr><td>192</td><td>Lewis Brinson</td><td>MIA</td><td>75</td><td>226</td><td>15</td><td>39</td><td>9</td><td>1</td><td>0</td><td>15</td></tr>",
                            "<tr><td>193</td><td>Socrates Brito</td><td>TOR</td><td>17</td><td>39</td><td>5</td><td>3</td><td>0</td><td>1</td><td>0</td><td>2</td></tr>",
                            "<tr><td>197</td><td>Mike Brosseau</td><td>TBR</td><td>50</td><td>132</td><td>17</td><td>36</td><td>7</td><td>0</td><td>6</td><td>16</td></tr>",
                            "<tr><td>198</td><td>Seth Brown</td><td>OAK</td><td>26</td><td>75</td><td>11</td><td>22</td><td>8</td><td>2</td><td>0</td><td>13</td></tr>",
                            "<tr><td>201</td><td>Keon Broxton</td><td>BAL</td><td>37</td><td>103</td><td>14</td><td>21</td><td>3</td><td>0</td><td>4</td><td>9</td></tr>",
                            "<tr><td>202</td><td>Keon Broxton</td><td>SEA</td><td>29</td><td>52</td><td>5</td><td>6</td><td>0</td><td>0</td><td>2</td><td>5</td></tr>",
                            "<tr><td>203</td><td>Keon Broxton</td><td>NYM</td><td>34</td><td>49</td><td>5</td><td>7</td><td>1</td><td>0</td><td>0</td><td>2</td></tr>",
                            "<tr><td>205</td><td>Jay Bruce</td><td>SEA</td><td>47</td><td>165</td><td>27</td><td>35</td><td>11</td><td>0</td><td>14</td><td>28</td></tr>",
                            "<tr><td>206</td><td>Jay Bruce</td><td>PHI</td><td>51</td><td>145</td><td>16</td><td>32</td><td>6</td><td>0</td><td>12</td><td>31</td></tr>",
                            "<tr><td>207</td><td>Kris Bryant</td><td>CHC</td><td>147</td><td>543</td><td>108</td><td>153</td><td>35</td><td>1</td><td>31</td><td>77</td></tr>",
                            "<tr><td>209</td><td>Walker Buehler</td><td>LAD</td><td>29</td><td>59</td><td>5</td><td>5</td><td>0</td><td>0</td><td>1</td><td>2</td></tr>",
                            "<tr><td>210</td><td>Madison Bumgarner</td><td>SFG</td><td>35</td><td>63</td><td>4</td><td>8</td><td>0</td><td>0</td><td>2</td><td>4</td></tr>",
                            "<tr><td>214</td><td>Corbin Burnes</td><td>MIL</td><td>30</td><td>7</td><td>0</td><td>2</td><td>0</td><td>0</td><td>0</td><td>0</td></tr>",
                            "<tr><td>215</td><td>Drew Butera</td><td>COL</td><td>16</td><td>43</td><td>6</td><td>7</td><td>3</td><td>0</td><td>0</td><td>3</td></tr>",
                            "<tr><td>217</td><td>Byron Buxton</td><td>MIN</td><td>87</td><td>271</td><td>48</td><td>71</td><td>30</td><td>4</td><td>10</td><td>46</td></tr>",
                            "<tr><td>219</td><td>Asdrubal Cabrera</td><td>TEX</td><td>93</td><td>323</td><td>45</td><td>76</td><td>15</td><td>0</td><td>12</td><td>51</td></tr>",
                            "<tr><td>220</td><td>Asdrubal Cabrera</td><td>WSN</td><td>38</td><td>124</td><td>24</td><td>40</td><td>10</td><td>1</td><td>6</td><td>40</td></tr>",
                            "<tr><td>222</td><td>Melky Cabrera</td><td>PIT</td><td>133</td><td>378</td><td>43</td><td>106</td><td>22</td><td>1</td><td>7</td><td>47</td></tr>",
                            "<tr><td>223</td><td>Miguel Cabrera</td><td>DET</td><td>136</td><td>493</td><td>41</td><td>139</td><td>21</td><td>0</td><td>12</td><td>59</td></tr>",
                            "<tr><td>224</td><td>Trevor Cahill</td><td>LAA</td><td>2</td><td>3</td><td>0</td><td>1</td><td>0</td><td>0</td><td>0</td><td>0</td></tr>",
                            "<tr><td>225</td><td>Lorenzo Cain</td><td>MIL</td><td>148</td><td>562</td><td>75</td><td>146</td><td>30</td><td>0</td><td>11</td><td>48</td></tr>",
                            "<tr><td>226</td><td>Kole Calhoun</td><td>LAA</td><td>152</td><td>552</td><td>92</td><td>128</td><td>29</td><td>1</td><td>33</td><td>74</td></tr>",
                            "<tr><td>227</td><td>Willie Calhoun</td><td>TEX</td><td>83</td><td>309</td><td>51</td><td>83</td><td>14</td><td>1</td><td>21</td><td>48</td></tr>",
                            "<tr><td>228</td><td>Johan Camargo</td><td>ATL</td><td>98</td><td>232</td><td>31</td><td>54</td><td>12</td><td>1</td><td>7</td><td>32</td></tr>",
                            "<tr><td>229</td><td>Jeimer Candelario</td><td>DET</td><td>94</td><td>335</td><td>33</td><td>68</td><td>17</td><td>2</td><td>8</td><td>32</td></tr>",
                            "<tr><td>230</td><td>Mark Canha</td><td>OAK</td><td>126</td><td>410</td><td>80</td><td>112</td><td>16</td><td>3</td><td>26</td><td>58</td></tr>",
                            "<tr><td>232</td><td>Robinson Cano</td><td>NYM</td><td>107</td><td>390</td><td>46</td><td>100</td><td>28</td><td>0</td><td>13</td><td>39</td></tr>",
                            "<tr><td>234</td><td>Victor Caratini</td><td>CHC</td><td>95</td><td>244</td><td>31</td><td>65</td><td>11</td><td>0</td><td>11</td><td>34</td></tr>",
                            "<tr><td>236</td><td>Matt Carpenter</td><td>STL</td><td>129</td><td>416</td><td>59</td><td>94</td><td>20</td><td>2</td><td>15</td><td>46</td></tr>",
                            "<tr><td>239</td><td>Curt Casali</td><td>CIN</td><td>84</td><td>207</td><td>24</td><td>52</td><td>9</td><td>0</td><td>8</td><td>32</td></tr>",
                            "<tr><td>244</td><td>Nicholas Castellanos</td><td>DET</td><td>100</td><td>403</td><td>57</td><td>110</td><td>37</td><td>3</td><td>11</td><td>37</td></tr>",
                            "<tr><td>245</td><td>Nicholas Castellanos</td><td>CHC</td><td>51</td><td>212</td><td>43</td><td>68</td><td>21</td><td>0</td><td>16</td><td>36</td></tr>",
                            "<tr><td>248</td><td>Luis Castillo</td><td>CIN</td><td>31</td><td>62</td><td>3</td><td>6</td><td>1</td><td>0</td><td>0</td><td>0</td></tr>",
                            "<tr><td>249</td><td>Welington Castillo</td><td>CHW</td><td>72</td><td>230</td><td>19</td><td>48</td><td>12</td><td>0</td><td>12</td><td>41</td></tr>",
                            "<tr><td>250</td><td>Wilkin Castillo</td><td>MIA</td><td>2</td><td>7</td><td>0</td><td>1</td><td>1</td><td>0</td><td>0</td><td>2</td></tr>",
                            "<tr><td>251</td><td>Harold Castro</td><td>DET</td><td>97</td><td>354</td><td>30</td><td>103</td><td>10</td><td>4</td><td>5</td><td>38</td></tr>",
                            "<tr><td>252</td><td>Jason Castro</td><td>MIN</td><td>79</td><td>237</td><td>39</td><td>55</td><td>9</td><td>0</td><td>13</td><td>30</td></tr>",
                            "<tr><td>254</td><td>Starlin Castro</td><td>MIA</td><td>162</td><td>636</td><td>68</td><td>172</td><td>31</td><td>4</td><td>22</td><td>86</td></tr>",
                            "<tr><td>255</td><td>Willi Castro</td><td>DET</td><td>30</td><td>100</td><td>10</td><td>23</td><td>6</td><td>1</td><td>1</td><td>8</td></tr>",
                            "<tr><td>256</td><td>Jake Cave</td><td>MIN</td><td>72</td><td>198</td><td>28</td><td>51</td><td>11</td><td>2</td><td>8</td><td>25</td></tr>",
                            "<tr><td>258</td><td>Juan Centeno</td><td>BOS</td><td>7</td><td>15</td><td>0</td><td>2</td><td>0</td><td>0</td><td>0</td><td>2</td></tr>",
                            "<tr><td>260</td><td>Francisco Cervelli</td><td>PIT</td><td>34</td><td>109</td><td>11</td><td>21</td><td>3</td><td>0</td><td>1</td><td>5</td></tr>",
                            "<tr><td>261</td><td>Francisco Cervelli</td><td>ATL</td><td>14</td><td>32</td><td>4</td><td>9</td><td>5</td><td>1</td><td>2</td><td>7</td></tr>",
                            "<tr><td>264</td><td>Jhoulys Chacin</td><td>MIL</td><td>18</td><td>24</td><td>2</td><td>3</td><td>0</td><td>0</td><td>1</td><td>1</td></tr>",
                            "<tr><td>266</td><td>Yu Chang</td><td>CLE</td><td>28</td><td>73</td><td>8</td><td>13</td><td>2</td><td>1</td><td>1</td><td>6</td></tr>",
                            "<tr><td>268</td><td>Matt Chapman</td><td>OAK</td><td>156</td><td>583</td><td>102</td><td>145</td><td>36</td><td>3</td><td>36</td><td>91</td></tr>",
                            "<tr><td>270</td><td>Tyler Chatwood</td><td>CHC</td><td>40</td><td>18</td><td>1</td><td>3</td><td>2</td><td>0</td><td>0</td><td>1</td></tr>",
                            "<tr><td>271</td><td>Jesse Chavez</td><td>TEX</td><td>4</td><td>2</td><td>0</td><td>1</td><td>0</td><td>0</td><td>0</td><td>0</td></tr>",
                            "<tr><td>272</td><td>Michael Chavis</td><td>BOS</td><td>95</td><td>347</td><td>46</td><td>88</td><td>10</td><td>1</td><td>18</td><td>58</td></tr>",
                            "<tr><td>274</td><td>Robinson Chirinos</td><td>HOU</td><td>114</td><td>366</td><td>57</td><td>87</td><td>22</td><td>1</td><td>17</td><td>58</td></tr>",
                            "<tr><td>276</td><td>Ji-Man Choi</td><td>TBR</td><td>127</td><td>410</td><td>54</td><td>107</td><td>20</td><td>2</td><td>19</td><td>63</td></tr>",
                            "<tr><td>277</td><td>Shin-Soo Choo</td><td>TEX</td><td>151</td><td>563</td><td>93</td><td>149</td><td>31</td><td>2</td><td>24</td><td>61</td></tr>",
                            "<tr><td>280</td><td>Nick Ciuffo</td><td>TBR</td><td>3</td><td>6</td><td>0</td><td>1</td><td>0</td><td>0</td><td>0</td><td>0</td></tr>",
                            "<tr><td>282</td><td>Taylor Clarke</td><td>ARI</td><td>21</td><td>24</td><td>2</td><td>6</td><td>0</td><td>0</td><td>1</td><td>2</td></tr>",
                            "<tr><td>290</td><td>Zack Collins</td><td>CHW</td><td>27</td><td>86</td><td>10</td><td>16</td><td>3</td><td>1</td><td>3</td><td>12</td></tr>",
                            "<tr><td>292</td><td>Christian Colon</td><td>CIN</td><td>8</td><td>6</td><td>1</td><td>3</td><td>0</td><td>0</td><td>0</td><td>1</td></tr>",
                            "<tr><td>293</td><td>Michael Conforto</td><td>NYM</td><td>151</td><td>549</td><td>90</td><td>141</td><td>29</td><td>1</td><td>33</td><td>92</td></tr>",
                            "<tr><td>295</td><td>Willson Contreras</td><td>CHC</td><td>105</td><td>360</td><td>57</td><td>98</td><td>18</td><td>2</td><td>24</td><td>64</td></tr>",
                            "<tr><td>297</td><td>Garrett Cooper</td><td>MIA</td><td>107</td><td>381</td><td>52</td><td>107</td><td>16</td><td>1</td><td>15</td><td>50</td></tr>",
                            "<tr><td>298</td><td>Patrick Corbin</td><td>WSN</td><td>31</td><td>65</td><td>3</td><td>6</td><td>1</td><td>0</td><td>0</td><td>4</td></tr>",
                            "<tr><td>299</td><td>Ryan Cordell</td><td>CHW</td><td>97</td><td>217</td><td>22</td><td>48</td><td>8</td><td>0</td><td>7</td><td>24</td></tr>",
                            "<tr><td>300</td><td>Franchy Cordero</td><td>SDP</td><td>9</td><td>15</td><td>2</td><td>5</td><td>1</td><td>0</td><td>0</td><td>1</td></tr>",
                            "<tr><td>303</td><td>Carlos Correa</td><td>HOU</td><td>75</td><td>280</td><td>42</td><td>78</td><td>16</td><td>1</td><td>21</td><td>59</td></tr>",
                            "<tr><td>305</td><td>Ryan Court</td><td>SEA</td><td>12</td><td>24</td><td>1</td><td>5</td><td>1</td><td>0</td><td>1</td><td>5</td></tr>",
                            "<tr><td>307</td><td>Kaleb Cowart</td><td>LAA</td><td>9</td><td>25</td><td>1</td><td>4</td><td>3</td><td>0</td><td>0</td><td>1</td></tr>",
                            "<tr><td>308</td><td>Zack Cozart</td><td>LAA</td><td>38</td><td>97</td><td>4</td><td>12</td><td>2</td><td>0</td><td>0</td><td>7</td></tr>",
                            "<tr><td>310</td><td>Brandon Crawford</td><td>SFG</td><td>147</td><td>500</td><td>58</td><td>114</td><td>24</td><td>2</td><td>11</td><td>59</td></tr>",
                            "<tr><td>311</td><td>J.P. Crawford</td><td>SEA</td><td>93</td><td>345</td><td>43</td><td>78</td><td>21</td><td>4</td><td>7</td><td>46</td></tr>",
                            "<tr><td>314</td><td>C.J. Cron</td><td>MIN</td><td>125</td><td>458</td><td>51</td><td>116</td><td>24</td><td>0</td><td>25</td><td>78</td></tr>",
                            "<tr><td>315</td><td>Kevin Cron</td><td>ARI</td><td>39</td><td>71</td><td>12</td><td>15</td><td>4</td><td>0</td><td>6</td><td>16</td></tr>",
                            "<tr><td>316</td><td>Nelson Cruz</td><td>MIN</td><td>120</td><td>454</td><td>81</td><td>141</td><td>26</td><td>0</td><td>41</td><td>108</td></tr>",
                            "<tr><td>319</td><td>Charlie Culberson</td><td>ATL</td><td>108</td><td>135</td><td>14</td><td>35</td><td>5</td><td>2</td><td>5</td><td>20</td></tr>",
                            "<tr><td>320</td><td>Cheslor Cuthbert</td><td>KCR</td><td>87</td><td>309</td><td>24</td><td>76</td><td>14</td><td>0</td><td>9</td><td>40</td></tr>",
                            "<tr><td>323</td><td>Travis d&#39;Arnaud</td><td>NYM</td><td>10</td><td>23</td><td>2</td><td>2</td><td>0</td><td>0</td><td>0</td><td>2</td></tr>",
                            "<tr><td>325</td><td>Travis d&#39;Arnaud</td><td>TBR</td><td>92</td><td>327</td><td>50</td><td>86</td><td>16</td><td>0</td><td>16</td><td>67</td></tr>",
                            "<tr><td>326</td><td>David Dahl</td><td>COL</td><td>100</td><td>374</td><td>67</td><td>113</td><td>28</td><td>5</td><td>15</td><td>61</td></tr>",
                            "<tr><td>327</td><td>Yu Darvish</td><td>CHC</td><td>30</td><td>56</td><td>1</td><td>5</td><td>0</td><td>0</td><td>0</td><td>3</td></tr>",
                            "<tr><td>328</td><td>Zach Davies</td><td>MIL</td><td>34</td><td>52</td><td>3</td><td>8</td><td>2</td><td>0</td><td>0</td><td>3</td></tr>",
                            "<tr><td>330</td><td>Chris Davis</td><td>BAL</td><td>105</td><td>307</td><td>26</td><td>55</td><td>9</td><td>0</td><td>12</td><td>36</td></tr>",
                            "<tr><td>331</td><td>J.D. Davis</td><td>NYM</td><td>140</td><td>410</td><td>65</td><td>126</td><td>22</td><td>1</td><td>22</td><td>57</td></tr>",
                            "<tr><td>332</td><td>Jaylin Davis</td><td>SFG</td><td>17</td><td>42</td><td>2</td><td>7</td><td>0</td><td>0</td><td>1</td><td>3</td></tr>",
                            "<tr><td>333</td><td>Johnny Davis</td><td>TBR</td><td>8</td><td>4</td><td>5</td><td>1</td><td>0</td><td>1</td><td>0</td><td>0</td></tr>",
                            "<tr><td>334</td><td>Jonathan Davis</td><td>TOR</td><td>37</td><td>83</td><td>8</td><td>15</td><td>1</td><td>0</td><td>2</td><td>6</td></tr>",
                            "<tr><td>335</td><td>Khris Davis</td><td>OAK</td><td>133</td><td>481</td><td>61</td><td>106</td><td>11</td><td>0</td><td>23</td><td>73</td></tr>",
                            "<tr><td>336</td><td>Rajai Davis</td><td>NYM</td><td>29</td><td>25</td><td>4</td><td>5</td><td>2</td><td>0</td><td>1</td><td>8</td></tr>",
                            "<tr><td>338</td><td>Taylor Davis</td><td>CHC</td><td>7</td><td>18</td><td>2</td><td>3</td><td>0</td><td>0</td><td>1</td><td>4</td></tr>",
                            "<tr><td>341</td><td>Yonathan Daza</td><td>COL</td><td>44</td><td>97</td><td>7</td><td>20</td><td>1</td><td>1</td><td>0</td><td>3</td></tr>",
                            "<tr><td>345</td><td>Austin Dean</td><td>MIA</td><td>64</td><td>178</td><td>17</td><td>40</td><td>14</td><td>0</td><td>6</td><td>21</td></tr>",
                            "<tr><td>346</td><td>Jacob deGrom</td><td>NYM</td><td>31</td><td>65</td><td>4</td><td>13</td><td>2</td><td>0</td><td>2</td><td>6</td></tr>",
                            "<tr><td>347</td><td>Paul DeJong</td><td>STL</td><td>159</td><td>583</td><td>97</td><td>136</td><td>31</td><td>1</td><td>30</td><td>78</td></tr>",
                            "<tr><td>348</td><td>Nicky Delmonico</td><td>CHW</td><td>21</td><td>63</td><td>6</td><td>13</td><td>2</td><td>0</td><td>1</td><td>6</td></tr>",
                            "<tr><td>349</td><td>Travis Demeritte</td><td>DET</td><td>48</td><td>169</td><td>24</td><td>38</td><td>7</td><td>2</td><td>3</td><td>10</td></tr>",
                            "<tr><td>350</td><td>Daniel Descalso</td><td>CHC</td><td>82</td><td>168</td><td>20</td><td>29</td><td>5</td><td>1</td><td>2</td><td>15</td></tr>",
                            "<tr><td>351</td><td>Anthony DeSclafani</td><td>CIN</td><td>30</td><td>55</td><td>0</td><td>6</td><td>0</td><td>0</td><td>0</td><td>1</td></tr>",
                            "<tr><td>352</td><td>Delino DeShields</td><td>TEX</td><td>118</td><td>357</td><td>42</td><td>89</td><td>15</td><td>4</td><td>4</td><td>32</td></tr>",
                            "<tr><td>353</td><td>Ian Desmond</td><td>COL</td><td>140</td><td>443</td><td>64</td><td>113</td><td>31</td><td>4</td><td>20</td><td>65</td></tr>",
                            "<tr><td>356</td><td>Rafael Devers</td><td>BOS</td><td>156</td><td>647</td><td>129</td><td>201</td><td>54</td><td>4</td><td>32</td><td>115</td></tr>",
                            "<tr><td>357</td><td>Aledmys Díaz</td><td>HOU</td><td>69</td><td>210</td><td>36</td><td>57</td><td>12</td><td>1</td><td>9</td><td>40</td></tr>",
                            "<tr><td>359</td><td>Elias Diaz</td><td>PIT</td><td>101</td><td>303</td><td>31</td><td>73</td><td>14</td><td>0</td><td>2</td><td>28</td></tr>",
                            "<tr><td>360</td><td>Isan Diaz</td><td>MIA</td><td>49</td><td>179</td><td>17</td><td>31</td><td>5</td><td>2</td><td>5</td><td>23</td></tr>",
                            "<tr><td>363</td><td>Yandy Díaz</td><td>TBR</td><td>79</td><td>307</td><td>53</td><td>82</td><td>20</td><td>1</td><td>14</td><td>38</td></tr>",
                            "<tr><td>365</td><td>Alex Dickerson</td><td>SDP</td><td>12</td><td>19</td><td>1</td><td>3</td><td>0</td><td>0</td><td>0</td><td>2</td></tr>",
                            "<tr><td>366</td><td>Alex Dickerson</td><td>SFG</td><td>56</td><td>155</td><td>28</td><td>45</td><td>13</td><td>3</td><td>6</td><td>26</td></tr>",
                            "<tr><td>368</td><td>Corey Dickerson</td><td>PIT</td><td>44</td><td>127</td><td>20</td><td>40</td><td>18</td><td>0</td><td>4</td><td>25</td></tr>",
                            "<tr><td>369</td><td>Corey Dickerson</td><td>PHI</td><td>34</td><td>133</td><td>13</td><td>39</td><td>10</td><td>2</td><td>8</td><td>34</td></tr>",
                            "<tr><td>374</td><td>Derek Dietrich</td><td>CIN</td><td>113</td><td>251</td><td>41</td><td>47</td><td>8</td><td>2</td><td>19</td><td>43</td></tr>",
                            "<tr><td>375</td><td>Wilmer Difo</td><td>WSN</td><td>43</td><td>131</td><td>15</td><td>33</td><td>2</td><td>0</td><td>2</td><td>8</td></tr>",
                            "<tr><td>376</td><td>Nick Dini</td><td>KCR</td><td>20</td><td>56</td><td>11</td><td>11</td><td>3</td><td>0</td><td>2</td><td>6</td></tr>",
                            "<tr><td>377</td><td>Brandon Dixon</td><td>DET</td><td>117</td><td>391</td><td>41</td><td>97</td><td>20</td><td>4</td><td>15</td><td>52</td></tr>",
                            "<tr><td>379</td><td>Josh Donaldson</td><td>ATL</td><td>155</td><td>549</td><td>96</td><td>142</td><td>33</td><td>0</td><td>37</td><td>94</td></tr>",
                            "<tr><td>382</td><td>Brian Dozier</td><td>WSN</td><td>135</td><td>416</td><td>54</td><td>99</td><td>20</td><td>0</td><td>20</td><td>50</td></tr>",
                            "<tr><td>383</td><td>Hunter Dozier</td><td>KCR</td><td>139</td><td>523</td><td>75</td><td>146</td><td>29</td><td>10</td><td>26</td><td>84</td></tr>",
                            "<tr><td>384</td><td>Oliver Drake</td><td>TBR</td><td>3</td><td>1</td><td>0</td><td>1</td><td>0</td><td>0</td><td>0</td><td>1</td></tr>",
                            "<tr><td>385</td><td>Brandon Drury</td><td>TOR</td><td>120</td><td>418</td><td>43</td><td>91</td><td>21</td><td>1</td><td>15</td><td>41</td></tr>",
                            "<tr><td>388</td><td>Mauricio Dubon</td><td>SFG</td><td>28</td><td>104</td><td>12</td><td>29</td><td>5</td><td>0</td><td>4</td><td>9</td></tr>",
                            "<tr><td>389</td><td>Lucas Duda</td><td>KCR</td><td>39</td><td>105</td><td>7</td><td>18</td><td>4</td><td>0</td><td>4</td><td>15</td></tr>",
                            "<tr><td>391</td><td>Danny Duffy</td><td>KCR</td><td>2</td><td>4</td><td>0</td><td>1</td><td>0</td><td>0</td><td>0</td><td>0</td></tr>",
                            "<tr><td>392</td><td>Matt Duffy</td><td>TBR</td><td>46</td><td>147</td><td>12</td><td>37</td><td>8</td><td>0</td><td>1</td><td>12</td></tr>",
                            "<tr><td>393</td><td>Steven Duggar</td><td>SFG</td><td>73</td><td>261</td><td>26</td><td>61</td><td>12</td><td>2</td><td>4</td><td>28</td></tr>",
                            "<tr><td>398</td><td>Jon Duplantier</td><td>ARI</td><td>15</td><td>8</td><td>1</td><td>1</td><td>0</td><td>0</td><td>0</td><td>0</td></tr>",
                            "<tr><td>399</td><td>Montana DuRapau</td><td>PIT</td><td>14</td><td>4</td><td>0</td><td>1</td><td>0</td><td>0</td><td>0</td><td>0</td></tr>",
                            "<tr><td>400</td><td>Adam Duvall</td><td>ATL</td><td>41</td><td>120</td><td>17</td><td>32</td><td>4</td><td>1</td><td>10</td><td>19</td></tr>",
                            "<tr><td>401</td><td>Jarrod Dyson</td><td>ARI</td><td>130</td><td>400</td><td>65</td><td>92</td><td>11</td><td>2</td><td>7</td><td>27</td></tr>",
                            "<tr><td>405</td><td>Adam Eaton</td><td>WSN</td><td>151</td><td>566</td><td>103</td><td>158</td><td>25</td><td>7</td><td>15</td><td>49</td></tr>",
                            "<tr><td>406</td><td>Tommy Edman</td><td>STL</td><td>92</td><td>326</td><td>59</td><td>99</td><td>17</td><td>7</td><td>11</td><td>36</td></tr>",
                            "<tr><td>410</td><td>Zach Eflin</td><td>PHI</td><td>31</td><td>50</td><td>3</td><td>8</td><td>1</td><td>0</td><td>0</td><td>2</td></tr>",
                            "<tr><td>415</td><td>Jake Elmore</td><td>PIT</td><td>20</td><td>47</td><td>3</td><td>10</td><td>1</td><td>0</td><td>0</td><td>4</td></tr>",
                            "<tr><td>417</td><td>Edwin Encarnacion</td><td>SEA</td><td>65</td><td>241</td><td>48</td><td>58</td><td>7</td><td>0</td><td>21</td><td>49</td></tr>",
                            "<tr><td>418</td><td>Edwin Encarnacion</td><td>NYY</td><td>44</td><td>177</td><td>33</td><td>44</td><td>11</td><td>0</td><td>13</td><td>37</td></tr>",
                            "<tr><td>419</td><td>Adam Engel</td><td>CHW</td><td>89</td><td>227</td><td>26</td><td>55</td><td>10</td><td>2</td><td>6</td><td>26</td></tr>",
                            "<tr><td>422</td><td>Phil Ervin</td><td>CIN</td><td>94</td><td>236</td><td>30</td><td>64</td><td>11</td><td>7</td><td>7</td><td>23</td></tr>",
                            "<tr><td>423</td><td>Eduardo Escobar</td><td>ARI</td><td>158</td><td>636</td><td>94</td><td>171</td><td>29</td><td>10</td><td>35</td><td>118</td></tr>",
                            "<tr><td>427</td><td>Thairo Estrada</td><td>NYY</td><td>35</td><td>64</td><td>12</td><td>16</td><td>3</td><td>0</td><td>3</td><td>12</td></tr>",
                            "<tr><td>435</td><td>Kyle Farmer</td><td>CIN</td><td>97</td><td>183</td><td>22</td><td>42</td><td>6</td><td>0</td><td>9</td><td>27</td></tr>",
                            "<tr><td>436</td><td>Erick Fedde</td><td>WSN</td><td>20</td><td>15</td><td>1</td><td>2</td><td>0</td><td>0</td><td>0</td><td>0</td></tr>",
                            "<tr><td>437</td><td>Tim Federowicz</td><td>TEX</td><td>29</td><td>75</td><td>6</td><td>12</td><td>2</td><td>0</td><td>4</td><td>7</td></tr>",
                            "<tr><td>439</td><td>Caleb Ferguson</td><td>LAD</td><td>42</td><td>2</td><td>1</td><td>1</td><td>1</td><td>0</td><td>0</td><td>0</td></tr>",
                            "<tr><td>444</td><td>Derek Fisher</td><td>HOU</td><td>17</td><td>53</td><td>9</td><td>12</td><td>2</td><td>1</td><td>1</td><td>5</td></tr>",
                            "<tr><td>445</td><td>Derek Fisher</td><td>TOR</td><td>40</td><td>93</td><td>14</td><td>15</td><td>2</td><td>0</td><td>6</td><td>12</td></tr>",
                            "<tr><td>446</td><td>Jack Flaherty</td><td>STL</td><td>35</td><td>54</td><td>4</td><td>10</td><td>3</td><td>0</td><td>0</td><td>4</td></tr>",
                            "<tr><td>447</td><td>Ryan Flaherty</td><td>CLE</td><td>14</td><td>21</td><td>4</td><td>3</td><td>2</td><td>0</td><td>0</td><td>1</td></tr>",
                            "<tr><td>448</td><td>David Fletcher</td><td>LAA</td><td>154</td><td>596</td><td>83</td><td>173</td><td>30</td><td>4</td><td>6</td><td>49</td></tr>",
                            "<tr><td>449</td><td>Chris Flexen</td><td>NYM</td><td>9</td><td>2</td><td>0</td><td>1</td><td>0</td><td>0</td><td>0</td><td>0</td></tr>",
                            "<tr><td>450</td><td>Wilmer Flores</td><td>ARI</td><td>89</td><td>265</td><td>31</td><td>84</td><td>18</td><td>0</td><td>9</td><td>37</td></tr>",
                            "<tr><td>452</td><td>Tyler Flowers</td><td>ATL</td><td>85</td><td>271</td><td>36</td><td>62</td><td>11</td><td>3</td><td>11</td><td>34</td></tr>",
                            "<tr><td>454</td><td>Mike Foltynewicz</td><td>ATL</td><td>19</td><td>35</td><td>1</td><td>2</td><td>0</td><td>0</td><td>0</td><td>1</td></tr>",
                            "<tr><td>459</td><td>Wilmer Font</td><td>NYM</td><td>14</td><td>3</td><td>0</td><td>1</td><td>0</td><td>0</td><td>0</td><td>0</td></tr>",
                            "<tr><td>460</td><td>Mike Ford</td><td>NYY</td><td>50</td><td>143</td><td>30</td><td>37</td><td>7</td><td>0</td><td>12</td><td>25</td></tr>",
                            "<tr><td>461</td><td>Logan Forsythe</td><td>TEX</td><td>101</td><td>317</td><td>38</td><td>72</td><td>17</td><td>1</td><td>7</td><td>39</td></tr>",
                            "<tr><td>462</td><td>Dexter Fowler</td><td>STL</td><td>150</td><td>487</td><td>69</td><td>116</td><td>24</td><td>1</td><td>19</td><td>67</td></tr>",
                            "<tr><td>463</td><td>Jake Fraley</td><td>SEA</td><td>12</td><td>40</td><td>3</td><td>6</td><td>2</td><td>0</td><td>0</td><td>1</td></tr>",
                            "<tr><td>464</td><td>Ty France</td><td>SDP</td><td>69</td><td>184</td><td>20</td><td>43</td><td>8</td><td>1</td><td>7</td><td>24</td></tr>",
                            "<tr><td>466</td><td>Maikel Franco</td><td>PHI</td><td>123</td><td>389</td><td>48</td><td>91</td><td>17</td><td>0</td><td>17</td><td>56</td></tr>",
                            "<tr><td>467</td><td>Adam Frazier</td><td>PIT</td><td>152</td><td>554</td><td>80</td><td>154</td><td>33</td><td>7</td><td>10</td><td>50</td></tr>",
                            "<tr><td>468</td><td>Clint Frazier</td><td>NYY</td><td>69</td><td>225</td><td>31</td><td>60</td><td>14</td><td>0</td><td>12</td><td>38</td></tr>",
                            "<tr><td>469</td><td>Todd Frazier</td><td>NYM</td><td>133</td><td>447</td><td>63</td><td>112</td><td>19</td><td>2</td><td>21</td><td>67</td></tr>",
                            "<tr><td>470</td><td>Kyle Freeland</td><td>COL</td><td>19</td><td>23</td><td>1</td><td>2</td><td>0</td><td>0</td><td>0</td><td>0</td></tr>",
                            "<tr><td>471</td><td>Freddie Freeman</td><td>ATL</td><td>158</td><td>597</td><td>113</td><td>176</td><td>34</td><td>2</td><td>38</td><td>121</td></tr>",
                            "<tr><td>472</td><td>Mike Freeman</td><td>CLE</td><td>75</td><td>177</td><td>27</td><td>49</td><td>8</td><td>0</td><td>4</td><td>24</td></tr>",
                            "<tr><td>473</td><td>David Freese</td><td>LAD</td><td>79</td><td>162</td><td>35</td><td>51</td><td>13</td><td>0</td><td>11</td><td>29</td></tr>",
                            "<tr><td>476</td><td>David Freitas</td><td>MIL</td><td>16</td><td>13</td><td>1</td><td>1</td><td>0</td><td>0</td><td>0</td><td>0</td></tr>",
                            "<tr><td>477</td><td>Max Fried</td><td>ATL</td><td>38</td><td>56</td><td>11</td><td>11</td><td>4</td><td>0</td><td>0</td><td>4</td></tr>",
                            "<tr><td>480</td><td>Josh Fuentes</td><td>COL</td><td>24</td><td>55</td><td>8</td><td>12</td><td>1</td><td>0</td><td>3</td><td>7</td></tr>",
                            "<tr><td>482</td><td>Drew Gagnon</td><td>NYM</td><td>17</td><td>3</td><td>0</td><td>1</td><td>0</td><td>0</td><td>0</td><td>0</td></tr>",
                            "<tr><td>483</td><td>Rocky Gale</td><td>LAD</td><td>5</td><td>15</td><td>1</td><td>2</td><td>0</td><td>0</td><td>0</td><td>0</td></tr>",
                            "<tr><td>484</td><td>Cam Gallagher</td><td>KCR</td><td>45</td><td>126</td><td>14</td><td>30</td><td>7</td><td>0</td><td>3</td><td>12</td></tr>",
                            "<tr><td>487</td><td>Zac Gallen</td><td>MIA</td><td>6</td><td>10</td><td>1</td><td>1</td><td>0</td><td>0</td><td>0</td><td>0</td></tr>",
                            "<tr><td>488</td><td>Zac Gallen</td><td>ARI</td><td>8</td><td>9</td><td>1</td><td>1</td><td>0</td><td>0</td><td>0</td><td>1</td></tr>",
                            "<tr><td>489</td><td>Joey Gallo</td><td>TEX</td><td>70</td><td>241</td><td>54</td><td>61</td><td>15</td><td>1</td><td>22</td><td>49</td></tr>",
                            "<tr><td>490</td><td>Isaac Galloway</td><td>MIA</td><td>19</td><td>54</td><td>6</td><td>9</td><td>1</td><td>0</td><td>0</td><td>1</td></tr>",
                            "<tr><td>492</td><td>Freddy Galvis</td><td>TOR</td><td>115</td><td>450</td><td>55</td><td>120</td><td>24</td><td>1</td><td>18</td><td>54</td></tr>",
                            "<tr><td>493</td><td>Freddy Galvis</td><td>CIN</td><td>32</td><td>107</td><td>12</td><td>25</td><td>4</td><td>0</td><td>5</td><td>16</td></tr>",
                            "<tr><td>494</td><td>Ben Gamel</td><td>MIL</td><td>134</td><td>311</td><td>47</td><td>77</td><td>18</td><td>0</td><td>7</td><td>33</td></tr>",
                            "<tr><td>496</td><td>Aramis Garcia</td><td>SFG</td><td>18</td><td>42</td><td>5</td><td>6</td><td>1</td><td>0</td><td>2</td><td>5</td></tr>",
                            "<tr><td>497</td><td>Avisail Garcia</td><td>TBR</td><td>125</td><td>489</td><td>61</td><td>138</td><td>25</td><td>2</td><td>20</td><td>72</td></tr>",
                            "<tr><td>499</td><td>Greg Garcia</td><td>SDP</td><td>134</td><td>311</td><td>52</td><td>77</td><td>13</td><td>4</td><td>4</td><td>31</td></tr>",
                            "<tr><td>501</td><td>Leury Garcia</td><td>CHW</td><td>140</td><td>577</td><td>93</td><td>161</td><td>27</td><td>3</td><td>8</td><td>40</td></tr>",
                            "<tr><td>504</td><td>Robel Garcia</td><td>CHC</td><td>31</td><td>72</td><td>8</td><td>15</td><td>2</td><td>2</td><td>5</td><td>11</td></tr>",
                            "<tr><td>506</td><td>Brett Gardner</td><td>NYY</td><td>141</td><td>491</td><td>86</td><td>123</td><td>26</td><td>7</td><td>28</td><td>74</td></tr>",
                            "<tr><td>507</td><td>Kyle Garlick</td><td>LAD</td><td>30</td><td>48</td><td>8</td><td>12</td><td>4</td><td>0</td><td>3</td><td>6</td></tr>",
                            "<tr><td>509</td><td>Dustin Garneau</td><td>LAA</td><td>28</td><td>69</td><td>11</td><td>16</td><td>3</td><td>0</td><td>2</td><td>7</td></tr>",
                            "<tr><td>510</td><td>Dustin Garneau</td><td>OAK</td><td>7</td><td>17</td><td>3</td><td>5</td><td>2</td><td>0</td><td>1</td><td>7</td></tr>",
                            "<tr><td>512</td><td>Mitch Garver</td><td>MIN</td><td>93</td><td>311</td><td>70</td><td>85</td><td>16</td><td>1</td><td>31</td><td>67</td></tr>",
                            "<tr><td>514</td><td>Kevin Gausman</td><td>ATL</td><td>16</td><td>27</td><td>1</td><td>1</td><td>0</td><td>0</td><td>0</td><td>0</td></tr>",
                            "<tr><td>521</td><td>Scooter Gennett</td><td>CIN</td><td>21</td><td>69</td><td>4</td><td>15</td><td>3</td><td>0</td><td>0</td><td>5</td></tr>",
                            "<tr><td>522</td><td>Scooter Gennett</td><td>SFG</td><td>21</td><td>64</td><td>11</td><td>15</td><td>4</td><td>0</td><td>2</td><td>6</td></tr>",
                            "<tr><td>523</td><td>Mike Gerber</td><td>SFG</td><td>12</td><td>24</td><td>0</td><td>1</td><td>1</td><td>0</td><td>0</td><td>0</td></tr>",
                            "<tr><td>528</td><td>Lucas Giolito</td><td>CHW</td><td>2</td><td>4</td><td>0</td><td>1</td><td>0</td><td>0</td><td>0</td><td>2</td></tr>",
                            "<tr><td>532</td><td>Zack Godley</td><td>ARI</td><td>23</td><td>18</td><td>3</td><td>3</td><td>0</td><td>0</td><td>0</td><td>2</td></tr>",
                            "<tr><td>534</td><td>Ryan Goins</td><td>CHW</td><td>52</td><td>144</td><td>13</td><td>36</td><td>6</td><td>1</td><td>2</td><td>10</td></tr>",
                            "<tr><td>535</td><td>Paul Goldschmidt</td><td>STL</td><td>161</td><td>597</td><td>97</td><td>155</td><td>25</td><td>1</td><td>34</td><td>97</td></tr>",
                            "<tr><td>536</td><td>Yan Gomes</td><td>WSN</td><td>97</td><td>314</td><td>36</td><td>70</td><td>16</td><td>0</td><td>12</td><td>43</td></tr>",
                            "<tr><td>537</td><td>Carlos Gomez</td><td>NYM</td><td>34</td><td>86</td><td>10</td><td>17</td><td>3</td><td>0</td><td>3</td><td>10</td></tr>",
                            "<tr><td>538</td><td>Tony Gonsolin</td><td>LAD</td><td>10</td><td>13</td><td>2</td><td>4</td><td>0</td><td>0</td><td>0</td><td>1</td></tr>",
                            "<tr><td>539</td><td>Marco Gonzales</td><td>SEA</td><td>2</td><td>5</td><td>1</td><td>1</td><td>1</td><td>0</td><td>0</td><td>0</td></tr>",
                            "<tr><td>541</td><td>Carlos Gonzalez</td><td>CLE</td><td>30</td><td>105</td><td>13</td><td>22</td><td>1</td><td>0</td><td>2</td><td>7</td></tr>",
                            "<tr><td>542</td><td>Carlos Gonzalez</td><td>CHC</td><td>15</td><td>40</td><td>8</td><td>7</td><td>2</td><td>0</td><td>1</td><td>3</td></tr>",
                            "<tr><td>543</td><td>Chi Chi Gonzalez</td><td>COL</td><td>13</td><td>24</td><td>0</td><td>1</td><td>0</td><td>0</td><td>0</td><td>2</td></tr>",
                            "<tr><td>544</td><td>Erik Gonzalez</td><td>PIT</td><td>53</td><td>142</td><td>15</td><td>36</td><td>4</td><td>1</td><td>1</td><td>6</td></tr>",
                            "<tr><td>545</td><td>Gio Gonzalez</td><td>MIL</td><td>18</td><td>25</td><td>1</td><td>1</td><td>0</td><td>0</td><td>0</td><td>0</td></tr>",
                            "<tr><td>546</td><td>Marwin Gonzalez</td><td>MIN</td><td>114</td><td>425</td><td>52</td><td>112</td><td>19</td><td>0</td><td>15</td><td>55</td></tr>",
                            "<tr><td>547</td><td>Niko Goodrum</td><td>DET</td><td>112</td><td>423</td><td>61</td><td>105</td><td>27</td><td>5</td><td>12</td><td>45</td></tr>",
                            "<tr><td>548</td><td>Brian Goodwin</td><td>LAA</td><td>136</td><td>413</td><td>65</td><td>108</td><td>29</td><td>3</td><td>17</td><td>47</td></tr>",
                            "<tr><td>550</td><td>Alex Gordon</td><td>KCR</td><td>150</td><td>556</td><td>77</td><td>148</td><td>31</td><td>1</td><td>13</td><td>76</td></tr>",
                            "<tr><td>551</td><td>Dee Gordon</td><td>SEA</td><td>117</td><td>393</td><td>36</td><td>108</td><td>12</td><td>6</td><td>3</td><td>34</td></tr>",
                            "<tr><td>552</td><td>Terrance Gore</td><td>KCR</td><td>37</td><td>51</td><td>13</td><td>14</td><td>2</td><td>1</td><td>0</td><td>1</td></tr>",
                            "<tr><td>553</td><td>Phil Gosselin</td><td>PHI</td><td>44</td><td>65</td><td>5</td><td>17</td><td>3</td><td>0</td><td>0</td><td>7</td></tr>",
                            "<tr><td>556</td><td>Yasmani Grandal</td><td>MIL</td><td>153</td><td>513</td><td>79</td><td>126</td><td>26</td><td>2</td><td>28</td><td>77</td></tr>",
                            "<tr><td>557</td><td>Curtis Granderson</td><td>MIA</td><td>138</td><td>317</td><td>44</td><td>58</td><td>17</td><td>1</td><td>12</td><td>34</td></tr>",
                            "<tr><td>558</td><td>Juan Graterol</td><td>CIN</td><td>6</td><td>18</td><td>1</td><td>4</td><td>0</td><td>0</td><td>0</td><td>1</td></tr>",
                            "<tr><td>559</td><td>Jon Gray</td><td>COL</td><td>27</td><td>47</td><td>1</td><td>3</td><td>0</td><td>0</td><td>0</td><td>1</td></tr>",
                            "<tr><td>560</td><td>Sonny Gray</td><td>CIN</td><td>32</td><td>46</td><td>3</td><td>7</td><td>0</td><td>1</td><td>0</td><td>3</td></tr>",
                            "<tr><td>562</td><td>Zach Green</td><td>SFG</td><td>8</td><td>14</td><td>1</td><td>2</td><td>1</td><td>0</td><td>0</td><td>1</td></tr>",
                            "<tr><td>567</td><td>Didi Gregorius</td><td>NYY</td><td>82</td><td>324</td><td>47</td><td>77</td><td>14</td><td>2</td><td>16</td><td>61</td></tr>",
                            "<tr><td>568</td><td>Grayson Greiner</td><td>DET</td><td>58</td><td>208</td><td>18</td><td>42</td><td>5</td><td>1</td><td>5</td><td>19</td></tr>",
                            "<tr><td>570</td><td>Zack Greinke</td><td>ARI</td><td>24</td><td>48</td><td>7</td><td>13</td><td>4</td><td>1</td><td>3</td><td>8</td></tr>",
                            "<tr><td>571</td><td>Zack Greinke</td><td>HOU</td><td>1</td><td>2</td><td>0</td><td>1</td><td>0</td><td>0</td><td>0</td><td>0</td></tr>",
                            "<tr><td>572</td><td>Randal Grichuk</td><td>TOR</td><td>151</td><td>586</td><td>75</td><td>136</td><td>29</td><td>5</td><td>31</td><td>80</td></tr>",
                            "<tr><td>573</td><td>Trent Grisham</td><td>MIL</td><td>51</td><td>156</td><td>24</td><td>36</td><td>6</td><td>2</td><td>6</td><td>24</td></tr>",
                            "<tr><td>574</td><td>Robbie Grossman</td><td>OAK</td><td>138</td><td>420</td><td>57</td><td>101</td><td>21</td><td>3</td><td>6</td><td>38</td></tr>",
                            "<tr><td>576</td><td>Deivy Grullon</td><td>PHI</td><td>4</td><td>9</td><td>0</td><td>1</td><td>1</td><td>0</td><td>0</td><td>1</td></tr>",
                            "<tr><td>582</td><td>Junior Guerra</td><td>MIL</td><td>65</td><td>3</td><td>0</td><td>1</td><td>0</td><td>0</td><td>0</td><td>0</td></tr>",
                            "<tr><td>584</td><td>Vladimir Guerrero Jr.</td><td>TOR</td><td>123</td><td>464</td><td>52</td><td>126</td><td>26</td><td>2</td><td>15</td><td>69</td></tr>",
                            "<tr><td>587</td><td>Luis Guillorme</td><td>NYM</td><td>45</td><td>61</td><td>8</td><td>15</td><td>4</td><td>0</td><td>1</td><td>3</td></tr>",
                            "<tr><td>588</td><td>Lourdes Gurriel Jr.</td><td>TOR</td><td>84</td><td>314</td><td>52</td><td>87</td><td>19</td><td>2</td><td>20</td><td>50</td></tr>",
                            "<tr><td>589</td><td>Yuli Gurriel</td><td>HOU</td><td>144</td><td>564</td><td>85</td><td>168</td><td>40</td><td>2</td><td>31</td><td>104</td></tr>",
                            "<tr><td>591</td><td>Kelvin Gutierrez</td><td>KCR</td><td>20</td><td>73</td><td>4</td><td>19</td><td>2</td><td>1</td><td>1</td><td>11</td></tr>",
                            "<tr><td>592</td><td>Ronald Guzman</td><td>TEX</td><td>87</td><td>256</td><td>34</td><td>56</td><td>20</td><td>0</td><td>10</td><td>36</td></tr>",
                            "<tr><td>594</td><td>Jedd Gyorko</td><td>STL</td><td>38</td><td>56</td><td>5</td><td>11</td><td>0</td><td>0</td><td>2</td><td>7</td></tr>",
                            "<tr><td>595</td><td>Jedd Gyorko</td><td>LAD</td><td>24</td><td>36</td><td>1</td><td>5</td><td>1</td><td>0</td><td>0</td><td>2</td></tr>",
                            "<tr><td>596</td><td>Eric Haase</td><td>CLE</td><td>10</td><td>16</td><td>1</td><td>1</td><td>0</td><td>0</td><td>1</td><td>3</td></tr>",
                            "<tr><td>600</td><td>Cole Hamels</td><td>CHC</td><td>24</td><td>42</td><td>1</td><td>6</td><td>1</td><td>0</td><td>0</td><td>4</td></tr>",
                            "<tr><td>602</td><td>Billy Hamilton</td><td>KCR</td><td>93</td><td>275</td><td>32</td><td>58</td><td>12</td><td>2</td><td>0</td><td>12</td></tr>",
                            "<tr><td>603</td><td>Billy Hamilton</td><td>ATL</td><td>26</td><td>41</td><td>9</td><td>11</td><td>2</td><td>0</td><td>0</td><td>3</td></tr>",
                            "<tr><td>605</td><td>Garrett Hampson</td><td>COL</td><td>105</td><td>299</td><td>40</td><td>74</td><td>9</td><td>4</td><td>8</td><td>27</td></tr>",
                            "<tr><td>607</td><td>Mitch Haniger</td><td>SEA</td><td>63</td><td>246</td><td>46</td><td>54</td><td>13</td><td>1</td><td>15</td><td>32</td></tr>",
                            "<tr><td>608</td><td>Alen Hanson</td><td>TOR</td><td>18</td><td>43</td><td>5</td><td>7</td><td>0</td><td>0</td><td>0</td><td>4</td></tr>",
                            "<tr><td>609</td><td>Ian Happ</td><td>CHC</td><td>58</td><td>140</td><td>25</td><td>37</td><td>7</td><td>1</td><td>11</td><td>30</td></tr>",
                            "<tr><td>612</td><td>Bryce Harper</td><td>PHI</td><td>157</td><td>573</td><td>98</td><td>149</td><td>36</td><td>1</td><td>35</td><td>114</td></tr>",
                            "<tr><td>615</td><td>Josh Harrison</td><td>DET</td><td>36</td><td>137</td><td>10</td><td>24</td><td>7</td><td>1</td><td>1</td><td>8</td></tr>",
                            "<tr><td>624</td><td>Adam Haseley</td><td>PHI</td><td>67</td><td>222</td><td>30</td><td>59</td><td>14</td><td>0</td><td>5</td><td>26</td></tr>",
                            "<tr><td>625</td><td>Austin Hays</td><td>BAL</td><td>21</td><td>68</td><td>12</td><td>21</td><td>6</td><td>0</td><td>4</td><td>13</td></tr>",
                            "<tr><td>626</td><td>Ryon Healy</td><td>SEA</td><td>47</td><td>169</td><td>24</td><td>40</td><td>16</td><td>0</td><td>7</td><td>26</td></tr>",
                            "<tr><td>628</td><td>Adeiny Hechavarria</td><td>NYM</td><td>60</td><td>142</td><td>20</td><td>29</td><td>7</td><td>0</td><td>5</td><td>18</td></tr>",
                            "<tr><td>629</td><td>Adeiny Hechavarria</td><td>ATL</td><td>24</td><td>61</td><td>14</td><td>20</td><td>5</td><td>1</td><td>4</td><td>15</td></tr>",
                            "<tr><td>630</td><td>Austin Hedges</td><td>SDP</td><td>102</td><td>312</td><td>28</td><td>55</td><td>9</td><td>0</td><td>11</td><td>36</td></tr>",
                            "<tr><td>631</td><td>Scott Heineman</td><td>TEX</td><td>25</td><td>75</td><td>8</td><td>16</td><td>6</td><td>0</td><td>2</td><td>7</td></tr>",
                            "<tr><td>632</td><td>Tyler Heineman</td><td>MIA</td><td>5</td><td>11</td><td>1</td><td>3</td><td>1</td><td>0</td><td>1</td><td>2</td></tr>",
                            "<tr><td>633</td><td>Jeremy Hellickson</td><td>WSN</td><td>9</td><td>9</td><td>3</td><td>1</td><td>0</td><td>0</td><td>0</td><td>0</td></tr>",
                            "<tr><td>634</td><td>Ryan Helsley</td><td>STL</td><td>24</td><td>3</td><td>0</td><td>1</td><td>0</td><td>0</td><td>0</td><td>0</td></tr>",
                            "<tr><td>635</td><td>Kyle Hendricks</td><td>CHC</td><td>29</td><td>54</td><td>1</td><td>8</td><td>1</td><td>0</td><td>0</td><td>5</td></tr>",
                            "<tr><td>637</td><td>Guillermo Heredia</td><td>TBR</td><td>89</td><td>204</td><td>31</td><td>46</td><td>13</td><td>0</td><td>5</td><td>20</td></tr>",
                            "<tr><td>639</td><td>Michael Hermosillo</td><td>LAA</td><td>18</td><td>36</td><td>7</td><td>5</td><td>1</td><td>1</td><td>0</td><td>3</td></tr>",
                            "<tr><td>640</td><td>Cesar Hernandez</td><td>PHI</td><td>161</td><td>612</td><td>77</td><td>171</td><td>31</td><td>3</td><td>14</td><td>71</td></tr>",
                            "<tr><td>643</td><td>Elieser Hernandez</td><td>MIA</td><td>20</td><td>19</td><td>0</td><td>1</td><td>0</td><td>0</td><td>0</td><td>0</td></tr>",
                            "<tr><td>644</td><td>Enrique Hernandez</td><td>LAD</td><td>130</td><td>414</td><td>57</td><td>98</td><td>19</td><td>1</td><td>17</td><td>64</td></tr>",
                            "<tr><td>646</td><td>Gorkys Hernandez</td><td>BOS</td><td>20</td><td>49</td><td>5</td><td>7</td><td>1</td><td>2</td><td>0</td><td>2</td></tr>",
                            "<tr><td>647</td><td>Marco Hernandez</td><td>BOS</td><td>61</td><td>148</td><td>18</td><td>37</td><td>7</td><td>0</td><td>2</td><td>11</td></tr>",
                            "<tr><td>648</td><td>Teoscar Hernandez</td><td>TOR</td><td>125</td><td>417</td><td>58</td><td>96</td><td>19</td><td>2</td><td>26</td><td>65</td></tr>",
                            "<tr><td>650</td><td>Odubel Herrera</td><td>PHI</td><td>39</td><td>126</td><td>12</td><td>28</td><td>10</td><td>1</td><td>1</td><td>16</td></tr>",
                            "<tr><td>651</td><td>Rosell Herrera</td><td>MIA</td><td>63</td><td>105</td><td>10</td><td>21</td><td>6</td><td>0</td><td>2</td><td>11</td></tr>",
                            "<tr><td>652</td><td>Chris Herrmann</td><td>OAK</td><td>30</td><td>84</td><td>9</td><td>17</td><td>3</td><td>0</td><td>1</td><td>8</td></tr>",
                            "<tr><td>654</td><td>Jason Heyward</td><td>CHC</td><td>147</td><td>513</td><td>78</td><td>129</td><td>20</td><td>4</td><td>21</td><td>62</td></tr>",
                            "<tr><td>655</td><td>Aaron Hicks</td><td>NYY</td><td>59</td><td>221</td><td>41</td><td>52</td><td>10</td><td>0</td><td>12</td><td>36</td></tr>",
                            "<tr><td>656</td><td>John Hicks</td><td>DET</td><td>95</td><td>319</td><td>29</td><td>67</td><td>15</td><td>0</td><td>13</td><td>35</td></tr>",
                            "<tr><td>658</td><td>Kyle Higashioka</td><td>NYY</td><td>18</td><td>56</td><td>8</td><td>12</td><td>5</td><td>0</td><td>3</td><td>11</td></tr>",
                            "<tr><td>660</td><td>Rich Hill</td><td>LAD</td><td>11</td><td>18</td><td>0</td><td>3</td><td>1</td><td>0</td><td>0</td><td>1</td></tr>",
                            "<tr><td>662</td><td>Sam Hilliard</td><td>COL</td><td>27</td><td>77</td><td>13</td><td>21</td><td>4</td><td>2</td><td>7</td><td>13</td></tr>",
                            "<tr><td>664</td><td>Keston Hiura</td><td>MIL</td><td>84</td><td>314</td><td>51</td><td>95</td><td>23</td><td>2</td><td>19</td><td>49</td></tr>",
                            "<tr><td>665</td><td>Nico Hoerner</td><td>CHC</td><td>20</td><td>78</td><td>13</td><td>22</td><td>1</td><td>1</td><td>3</td><td>17</td></tr>",
                            "<tr><td>666</td><td>Jeff Hoffman</td><td>COL</td><td>18</td><td>21</td><td>2</td><td>5</td><td>0</td><td>0</td><td>0</td><td>1</td></tr>",
                            "<tr><td>667</td><td>Bryan Holaday</td><td>MIA</td><td>43</td><td>115</td><td>12</td><td>32</td><td>6</td><td>0</td><td>4</td><td>12</td></tr>",
                            "<tr><td>670</td><td>Derek Holland</td><td>SFG</td><td>32</td><td>12</td><td>0</td><td>1</td><td>0</td><td>0</td><td>0</td><td>0</td></tr>",
                            "<tr><td>674</td><td>Brock Holt</td><td>BOS</td><td>87</td><td>259</td><td>38</td><td>77</td><td>14</td><td>2</td><td>3</td><td>31</td></tr>",
                            "<tr><td>675</td><td>Rhys Hoskins</td><td>PHI</td><td>160</td><td>570</td><td>86</td><td>129</td><td>33</td><td>5</td><td>29</td><td>85</td></tr>",
                            "<tr><td>676</td><td>Eric Hosmer</td><td>SDP</td><td>160</td><td>619</td><td>72</td><td>164</td><td>29</td><td>2</td><td>22</td><td>99</td></tr>",
                            "<tr><td>677</td><td>Adrian Houser</td><td>MIL</td><td>32</td><td>22</td><td>0</td><td>1</td><td>1</td><td>0</td><td>0</td><td>0</td></tr>",
                            "<tr><td>680</td><td>Dakota Hudson</td><td>STL</td><td>30</td><td>51</td><td>1</td><td>4</td><td>0</td><td>0</td><td>0</td><td>2</td></tr>",
                            "<tr><td>689</td><td>Nick Hundley</td><td>OAK</td><td>31</td><td>70</td><td>5</td><td>14</td><td>3</td><td>1</td><td>2</td><td>5</td></tr>",
                            "<tr><td>691</td><td>Chris Iannetta</td><td>COL</td><td>52</td><td>144</td><td>20</td><td>32</td><td>10</td><td>0</td><td>6</td><td>21</td></tr>",
                            "<tr><td>692</td><td>José Iglesias</td><td>CIN</td><td>146</td><td>504</td><td>62</td><td>145</td><td>21</td><td>3</td><td>11</td><td>59</td></tr>",
                            "<tr><td>694</td><td>Ender Inciarte</td><td>ATL</td><td>65</td><td>199</td><td>30</td><td>49</td><td>11</td><td>2</td><td>5</td><td>24</td></tr>",
                            "<tr><td>695</td><td>Cole Irvin</td><td>PHI</td><td>14</td><td>6</td><td>1</td><td>1</td><td>0</td><td>0</td><td>0</td><td>0</td></tr>",
                            "<tr><td>703</td><td>Travis Jankowski</td><td>SDP</td><td>25</td><td>22</td><td>4</td><td>4</td><td>0</td><td>0</td><td>0</td><td>0</td></tr>",
                            "<tr><td>704</td><td>Danny Jansen</td><td>TOR</td><td>107</td><td>347</td><td>41</td><td>72</td><td>12</td><td>1</td><td>13</td><td>43</td></tr>",
                            "<tr><td>706</td><td>Jon Jay</td><td>CHW</td><td>47</td><td>165</td><td>12</td><td>44</td><td>8</td><td>0</td><td>0</td><td>9</td></tr>",
                            "<tr><td>713</td><td>Eloy Jimenez</td><td>CHW</td><td>122</td><td>468</td><td>69</td><td>125</td><td>18</td><td>2</td><td>31</td><td>79</td></tr>",
                            "<tr><td>715</td><td>Connor Joe</td><td>SFG</td><td>8</td><td>15</td><td>1</td><td>1</td><td>0</td><td>0</td><td>0</td><td>0</td></tr>",
                            "<tr><td>718</td><td>Adam Jones</td><td>ARI</td><td>137</td><td>485</td><td>66</td><td>126</td><td>25</td><td>1</td><td>16</td><td>67</td></tr>",
                            "<tr><td>719</td><td>JaCoby Jones</td><td>DET</td><td>88</td><td>298</td><td>39</td><td>70</td><td>19</td><td>3</td><td>11</td><td>26</td></tr>",
                            "<tr><td>720</td><td>Caleb Joseph</td><td>ARI</td><td>20</td><td>38</td><td>5</td><td>8</td><td>2</td><td>0</td><td>0</td><td>3</td></tr>",
                            "<tr><td>723</td><td>Corban Joseph</td><td>OAK</td><td>11</td><td>37</td><td>4</td><td>7</td><td>2</td><td>0</td><td>1</td><td>5</td></tr>",
                            "<tr><td>724</td><td>Corban Joseph</td><td>SFG</td><td>8</td><td>16</td><td>0</td><td>1</td><td>0</td><td>0</td><td>0</td><td>2</td></tr>",
                            "<tr><td>725</td><td>Corban Joseph</td><td>PIT</td><td>9</td><td>11</td><td>1</td><td>2</td><td>1</td><td>0</td><td>0</td><td>0</td></tr>",
                            "<tr><td>726</td><td>Matthew Joyce</td><td>ATL</td><td>129</td><td>200</td><td>32</td><td>59</td><td>10</td><td>0</td><td>7</td><td>23</td></tr>",
                            "<tr><td>727</td><td>Aaron Judge</td><td>NYY</td><td>102</td><td>378</td><td>75</td><td>103</td><td>18</td><td>1</td><td>27</td><td>55</td></tr>",
                            "<tr><td>731</td><td>Jung Ho Kang</td><td>PIT</td><td>65</td><td>172</td><td>15</td><td>29</td><td>7</td><td>1</td><td>10</td><td>24</td></tr>",
                            "<tr><td>734</td><td>Brad Keller</td><td>KCR</td><td>3</td><td>8</td><td>0</td><td>1</td><td>0</td><td>0</td><td>0</td><td>1</td></tr>",
                            "<tr><td>738</td><td>Carson Kelly</td><td>ARI</td><td>111</td><td>314</td><td>46</td><td>77</td><td>19</td><td>0</td><td>18</td><td>47</td></tr>",
                            "<tr><td>740</td><td>Merrill Kelly</td><td>ARI</td><td>30</td><td>52</td><td>3</td><td>1</td><td>0</td><td>0</td><td>0</td><td>2</td></tr>",
                            "<tr><td>741</td><td>Matt Kemp</td><td>CIN</td><td>20</td><td>60</td><td>4</td><td>12</td><td>2</td><td>0</td><td>1</td><td>5</td></tr>",
                            "<tr><td>743</td><td>Tony Kemp</td><td>HOU</td><td>66</td><td>163</td><td>23</td><td>37</td><td>6</td><td>2</td><td>7</td><td>17</td></tr>",
                            "<tr><td>744</td><td>Tony Kemp</td><td>CHC</td><td>44</td><td>82</td><td>8</td><td>15</td><td>3</td><td>2</td><td>1</td><td>12</td></tr>",
                            "<tr><td>745</td><td>Howie Kendrick</td><td>WSN</td><td>121</td><td>334</td><td>61</td><td>115</td><td>23</td><td>1</td><td>17</td><td>62</td></tr>",
                            "<tr><td>747</td><td>Max Kepler</td><td>MIN</td><td>134</td><td>524</td><td>98</td><td>132</td><td>32</td><td>0</td><td>36</td><td>90</td></tr>",
                            "<tr><td>748</td><td>Clayton Kershaw</td><td>LAD</td><td>28</td><td>49</td><td>1</td><td>5</td><td>1</td><td>0</td><td>0</td><td>1</td></tr>",
                            "<tr><td>749</td><td>Dallas Keuchel</td><td>ATL</td><td>19</td><td>38</td><td>0</td><td>5</td><td>1</td><td>0</td><td>0</td><td>2</td></tr>",
                            "<tr><td>750</td><td>Carter Kieboom</td><td>WSN</td><td>11</td><td>39</td><td>4</td><td>5</td><td>0</td><td>0</td><td>2</td><td>2</td></tr>",
                            "<tr><td>751</td><td>Kevin Kiermaier</td><td>TBR</td><td>129</td><td>447</td><td>60</td><td>102</td><td>20</td><td>7</td><td>14</td><td>55</td></tr>",
                            "<tr><td>754</td><td>Isiah Kiner-Falefa</td><td>TEX</td><td>65</td><td>202</td><td>23</td><td>48</td><td>12</td><td>1</td><td>1</td><td>21</td></tr>",
                            "<tr><td>755</td><td>Scott Kingery</td><td>PHI</td><td>126</td><td>458</td><td>64</td><td>118</td><td>34</td><td>4</td><td>19</td><td>55</td></tr>",
                            "<tr><td>759</td><td>Ian Kinsler</td><td>SDP</td><td>87</td><td>258</td><td>28</td><td>56</td><td>12</td><td>0</td><td>9</td><td>22</td></tr>",
                            "<tr><td>761</td><td>Jason Kipnis</td><td>CLE</td><td>121</td><td>458</td><td>52</td><td>112</td><td>23</td><td>1</td><td>17</td><td>65</td></tr>",
                            "<tr><td>765</td><td>Andrew Knapp</td><td>PHI</td><td>74</td><td>136</td><td>12</td><td>29</td><td>9</td><td>0</td><td>2</td><td>8</td></tr>",
                            "<tr><td>766</td><td>Andrew Knizner</td><td>STL</td><td>18</td><td>53</td><td>7</td><td>12</td><td>2</td><td>0</td><td>2</td><td>7</td></tr>",
                            "<tr><td>771</td><td>Kevin Kramer</td><td>PIT</td><td>22</td><td>42</td><td>5</td><td>7</td><td>1</td><td>0</td><td>0</td><td>5</td></tr>",
                            "<tr><td>773</td><td>Erik Kratz</td><td>SFG</td><td>15</td><td>32</td><td>1</td><td>4</td><td>2</td><td>0</td><td>1</td><td>3</td></tr>",
                            "<tr><td>774</td><td>Erik Kratz</td><td>TBR</td><td>6</td><td>17</td><td>0</td><td>1</td><td>0</td><td>0</td><td>0</td><td>0</td></tr>",
                            "<tr><td>776</td><td>Tommy La Stella</td><td>LAA</td><td>80</td><td>292</td><td>49</td><td>86</td><td>8</td><td>0</td><td>16</td><td>44</td></tr>",
                            "<tr><td>777</td><td>Juan Lagares</td><td>NYM</td><td>133</td><td>258</td><td>38</td><td>55</td><td>12</td><td>1</td><td>5</td><td>27</td></tr>",
                            "<tr><td>778</td><td>Ryan LaMarre</td><td>MIN</td><td>14</td><td>23</td><td>3</td><td>5</td><td>0</td><td>0</td><td>2</td><td>3</td></tr>",
                            "<tr><td>779</td><td>Jake Lamb</td><td>ARI</td><td>78</td><td>187</td><td>26</td><td>36</td><td>8</td><td>2</td><td>6</td><td>30</td></tr>",
                            "<tr><td>780</td><td>Peter Lambert</td><td>COL</td><td>21</td><td>28</td><td>3</td><td>9</td><td>0</td><td>0</td><td>0</td><td>2</td></tr>",
                            "<tr><td>781</td><td>Dinelson Lamet</td><td>SDP</td><td>13</td><td>21</td><td>1</td><td>3</td><td>0</td><td>0</td><td>0</td><td>0</td></tr>",
                            "<tr><td>782</td><td>Eric Lauer</td><td>SDP</td><td>29</td><td>40</td><td>1</td><td>4</td><td>2</td><td>0</td><td>0</td><td>0</td></tr>",
                            "<tr><td>783</td><td>Ramon Laureano</td><td>OAK</td><td>123</td><td>434</td><td>79</td><td>125</td><td>29</td><td>0</td><td>24</td><td>67</td></tr>",
                            "<tr><td>784</td><td>Ryan Lavarnway</td><td>CIN</td><td>5</td><td>18</td><td>4</td><td>5</td><td>2</td><td>0</td><td>2</td><td>7</td></tr>",
                            "<tr><td>788</td><td>Mike Leake</td><td>ARI</td><td>10</td><td>20</td><td>0</td><td>1</td><td>0</td><td>0</td><td>0</td><td>1</td></tr>",
                            "<tr><td>791</td><td>DJ LeMahieu</td><td>NYY</td><td>145</td><td>602</td><td>109</td><td>197</td><td>33</td><td>2</td><td>26</td><td>102</td></tr>",
                            "<tr><td>792</td><td>Sandy Leon</td><td>BOS</td><td>65</td><td>172</td><td>14</td><td>33</td><td>3</td><td>0</td><td>5</td><td>19</td></tr>",
                            "<tr><td>794</td><td>Jon Lester</td><td>CHC</td><td>28</td><td>48</td><td>6</td><td>9</td><td>2</td><td>0</td><td>1</td><td>6</td></tr>",
                            "<tr><td>795</td><td>Kyle Lewis</td><td>SEA</td><td>18</td><td>71</td><td>10</td><td>19</td><td>5</td><td>0</td><td>6</td><td>13</td></tr>",
                            "<tr><td>796</td><td>Domingo Leyba</td><td>ARI</td><td>21</td><td>25</td><td>6</td><td>7</td><td>2</td><td>1</td><td>0</td><td>5</td></tr>",
                            "<tr><td>797</td><td>Tzu-Wei Lin</td><td>BOS</td><td>13</td><td>20</td><td>3</td><td>4</td><td>2</td><td>0</td><td>0</td><td>1</td></tr>",
                            "<tr><td>798</td><td>Francisco Lindor</td><td>CLE</td><td>143</td><td>598</td><td>101</td><td>170</td><td>40</td><td>2</td><td>32</td><td>74</td></tr>",
                            "<tr><td>799</td><td>Francisco Liriano</td><td>PIT</td><td>67</td><td>1</td><td>0</td><td>1</td><td>0</td><td>0</td><td>0</td><td>0</td></tr>",
                            "<tr><td>801</td><td>Tim Locastro</td><td>ARI</td><td>91</td><td>212</td><td>38</td><td>53</td><td>12</td><td>2</td><td>1</td><td>17</td></tr>",
                            "<tr><td>802</td><td>Walker Lockett</td><td>NYM</td><td>9</td><td>6</td><td>0</td><td>1</td><td>0</td><td>0</td><td>0</td><td>0</td></tr>",
                            "<tr><td>803</td><td>Shed Long</td><td>SEA</td><td>42</td><td>152</td><td>21</td><td>40</td><td>12</td><td>1</td><td>5</td><td>15</td></tr>",
                            "<tr><td>804</td><td>Evan Longoria</td><td>SFG</td><td>129</td><td>453</td><td>59</td><td>115</td><td>19</td><td>2</td><td>20</td><td>69</td></tr>",
                            "<tr><td>805</td><td>Tim Lopes</td><td>SEA</td><td>41</td><td>111</td><td>11</td><td>30</td><td>7</td><td>0</td><td>1</td><td>12</td></tr>",
                            "<tr><td>807</td><td>Nicky Lopez</td><td>KCR</td><td>103</td><td>379</td><td>44</td><td>91</td><td>22</td><td>2</td><td>2</td><td>30</td></tr>",
                            "<tr><td>808</td><td>Pablo Lopez</td><td>MIA</td><td>21</td><td>35</td><td>1</td><td>6</td><td>2</td><td>0</td><td>0</td><td>3</td></tr>",
                            "<tr><td>811</td><td>Michael Lorenzen</td><td>CIN</td><td>100</td><td>48</td><td>6</td><td>10</td><td>2</td><td>0</td><td>1</td><td>6</td></tr>",
                            "<tr><td>814</td><td>Brandon Lowe</td><td>TBR</td><td>82</td><td>296</td><td>42</td><td>80</td><td>17</td><td>2</td><td>17</td><td>51</td></tr>",
                            "<tr><td>815</td><td>Nate Lowe</td><td>TBR</td><td>50</td><td>152</td><td>24</td><td>40</td><td>8</td><td>0</td><td>7</td><td>19</td></tr>",
                            "<tr><td>818</td><td>Joey Lucchesi</td><td>SDP</td><td>28</td><td>48</td><td>0</td><td>3</td><td>0</td><td>0</td><td>0</td><td>1</td></tr>",
                            "<tr><td>821</td><td>Jonathan Lucroy</td><td>LAA</td><td>74</td><td>240</td><td>28</td><td>58</td><td>8</td><td>1</td><td>7</td><td>30</td></tr>",
                            "<tr><td>822</td><td>Jonathan Lucroy</td><td>CHC</td><td>27</td><td>53</td><td>2</td><td>10</td><td>2</td><td>0</td><td>1</td><td>6</td></tr>",
                            "<tr><td>823</td><td>Dawel Lugo</td><td>DET</td><td>77</td><td>273</td><td>28</td><td>67</td><td>11</td><td>4</td><td>6</td><td>26</td></tr>",
                            "<tr><td>824</td><td>Seth Lugo</td><td>NYM</td><td>57</td><td>1</td><td>0</td><td>1</td><td>0</td><td>0</td><td>0</td><td>1</td></tr>",
                            "<tr><td>825</td><td>Jordan Luplow</td><td>CLE</td><td>85</td><td>225</td><td>42</td><td>62</td><td>15</td><td>1</td><td>15</td><td>38</td></tr>",
                            "<tr><td>826</td><td>Gavin Lux</td><td>LAD</td><td>23</td><td>75</td><td>12</td><td>18</td><td>4</td><td>1</td><td>2</td><td>9</td></tr>",
                            "<tr><td>828</td><td>Jordan Lyles</td><td>PIT</td><td>16</td><td>25</td><td>1</td><td>2</td><td>0</td><td>0</td><td>0</td><td>2</td></tr>",
                            "<tr><td>829</td><td>Jordan Lyles</td><td>MIL</td><td>10</td><td>20</td><td>2</td><td>2</td><td>0</td><td>0</td><td>0</td><td>2</td></tr>",
                            "<tr><td>833</td><td>Manny Machado</td><td>SDP</td><td>156</td><td>587</td><td>81</td><td>150</td><td>21</td><td>2</td><td>32</td><td>85</td></tr>",
                            "<tr><td>834</td><td>Kenta Maeda</td><td>LAD</td><td>38</td><td>48</td><td>3</td><td>12</td><td>2</td><td>0</td><td>0</td><td>6</td></tr>",
                            "<tr><td>837</td><td>Tyler Mahle</td><td>CIN</td><td>24</td><td>34</td><td>4</td><td>3</td><td>1</td><td>0</td><td>0</td><td>0</td></tr>",
                            "<tr><td>839</td><td>Luke Maile</td><td>TOR</td><td>44</td><td>119</td><td>9</td><td>18</td><td>2</td><td>1</td><td>2</td><td>9</td></tr>",
                            "<tr><td>842</td><td>Martin Maldonado</td><td>KCR</td><td>74</td><td>238</td><td>26</td><td>54</td><td>15</td><td>0</td><td>6</td><td>17</td></tr>",
                            "<tr><td>844</td><td>Martin Maldonado</td><td>HOU</td><td>27</td><td>84</td><td>20</td><td>17</td><td>4</td><td>0</td><td>6</td><td>10</td></tr>",
                            "<tr><td>845</td><td>Trey Mancini</td><td>BAL</td><td>154</td><td>602</td><td>106</td><td>175</td><td>38</td><td>2</td><td>35</td><td>97</td></tr>",
                            "<tr><td>847</td><td>Nick Margevicius</td><td>SDP</td><td>17</td><td>15</td><td>1</td><td>3</td><td>0</td><td>0</td><td>0</td><td>0</td></tr>",
                            "<tr><td>848</td><td>Manuel Margot</td><td>SDP</td><td>151</td><td>398</td><td>59</td><td>93</td><td>19</td><td>3</td><td>12</td><td>37</td></tr>",
                            "<tr><td>849</td><td>Jake Marisnick</td><td>HOU</td><td>120</td><td>292</td><td>46</td><td>68</td><td>16</td><td>3</td><td>10</td><td>34</td></tr>",
                            "<tr><td>850</td><td>Nick Markakis</td><td>ATL</td><td>116</td><td>414</td><td>61</td><td>118</td><td>25</td><td>2</td><td>9</td><td>62</td></tr>",
                            "<tr><td>853</td><td>German Marquez</td><td>COL</td><td>25</td><td>48</td><td>5</td><td>11</td><td>4</td><td>1</td><td>0</td><td>11</td></tr>",
                            "<tr><td>856</td><td>Ketel Marte</td><td>ARI</td><td>144</td><td>569</td><td>97</td><td>187</td><td>36</td><td>9</td><td>32</td><td>92</td></tr>",
                            "<tr><td>857</td><td>Starling Marte</td><td>PIT</td><td>132</td><td>539</td><td>97</td><td>159</td><td>31</td><td>6</td><td>23</td><td>82</td></tr>",
                            "<tr><td>862</td><td>Jason Martin</td><td>PIT</td><td>20</td><td>36</td><td>5</td><td>9</td><td>2</td><td>0</td><td>0</td><td>2</td></tr>",
                            "<tr><td>863</td><td>Leonys Martín</td><td>CLE</td><td>65</td><td>236</td><td>32</td><td>47</td><td>7</td><td>0</td><td>9</td><td>19</td></tr>",
                            "<tr><td>864</td><td>Richie Martin</td><td>BAL</td><td>120</td><td>283</td><td>29</td><td>59</td><td>8</td><td>3</td><td>6</td><td>23</td></tr>",
                            "<tr><td>865</td><td>Russell Martin</td><td>LAD</td><td>83</td><td>209</td><td>29</td><td>46</td><td>5</td><td>0</td><td>6</td><td>20</td></tr>",
                            "<tr><td>867</td><td>J.D. Martinez</td><td>BOS</td><td>146</td><td>575</td><td>98</td><td>175</td><td>33</td><td>2</td><td>36</td><td>105</td></tr>",
                            "<tr><td>868</td><td>Jose Martinez</td><td>STL</td><td>128</td><td>334</td><td>45</td><td>90</td><td>13</td><td>2</td><td>10</td><td>42</td></tr>",
                            "<tr><td>870</td><td>Nick Martini</td><td>OAK</td><td>6</td><td>11</td><td>1</td><td>1</td><td>0</td><td>0</td><td>1</td><td>2</td></tr>",
                            "<tr><td>871</td><td>Nick Martini</td><td>SDP</td><td>26</td><td>82</td><td>7</td><td>20</td><td>4</td><td>1</td><td>0</td><td>5</td></tr>",
                            "<tr><td>873</td><td>Jeff Mathis</td><td>TEX</td><td>86</td><td>228</td><td>17</td><td>36</td><td>9</td><td>0</td><td>2</td><td>12</td></tr>",
                            "<tr><td>875</td><td>Phil Maton</td><td>SDP</td><td>18</td><td>4</td><td>0</td><td>1</td><td>0</td><td>0</td><td>0</td><td>1</td></tr>",
                            "<tr><td>877</td><td>Steven Matz</td><td>NYM</td><td>35</td><td>57</td><td>4</td><td>13</td><td>0</td><td>0</td><td>1</td><td>1</td></tr>",
                            "<tr><td>878</td><td>Dustin May</td><td>LAD</td><td>13</td><td>11</td><td>0</td><td>1</td><td>0</td><td>0</td><td>0</td><td>0</td></tr>",
                            "<tr><td>880</td><td>Cameron Maybin</td><td>NYY</td><td>82</td><td>239</td><td>48</td><td>68</td><td>17</td><td>0</td><td>11</td><td>32</td></tr>",
                            "<tr><td>882</td><td>Jack Mayfield</td><td>HOU</td><td>26</td><td>64</td><td>8</td><td>10</td><td>5</td><td>0</td><td>2</td><td>5</td></tr>",
                            "<tr><td>884</td><td>Nomar Mazara</td><td>TEX</td><td>116</td><td>429</td><td>69</td><td>115</td><td>27</td><td>1</td><td>19</td><td>66</td></tr>",
                            "<tr><td>886</td><td>Ryan McBroom</td><td>KCR</td><td>23</td><td>75</td><td>8</td><td>22</td><td>5</td><td>0</td><td>0</td><td>6</td></tr>",
                            "<tr><td>887</td><td>Brian McCann</td><td>ATL</td><td>85</td><td>277</td><td>28</td><td>69</td><td>9</td><td>0</td><td>12</td><td>45</td></tr>",
                            "<tr><td>888</td><td>James McCann</td><td>CHW</td><td>118</td><td>439</td><td>62</td><td>120</td><td>26</td><td>1</td><td>18</td><td>60</td></tr>",
                            "<tr><td>891</td><td>Andrew McCutchen</td><td>PHI</td><td>59</td><td>219</td><td>45</td><td>56</td><td>12</td><td>1</td><td>10</td><td>29</td></tr>",
                            "<tr><td>894</td><td>Kyle McGowin</td><td>WSN</td><td>7</td><td>3</td><td>1</td><td>1</td><td>0</td><td>0</td><td>0</td><td>0</td></tr>",
                            "<tr><td>895</td><td>Reese McGuire</td><td>TOR</td><td>30</td><td>97</td><td>14</td><td>29</td><td>7</td><td>0</td><td>5</td><td>11</td></tr>",
                            "<tr><td>897</td><td>Brendan McKay</td><td>TBR</td><td>7</td><td>10</td><td>2</td><td>2</td><td>0</td><td>0</td><td>1</td><td>1</td></tr>",
                            "<tr><td>898</td><td>Billy McKinney</td><td>TOR</td><td>84</td><td>251</td><td>37</td><td>54</td><td>14</td><td>1</td><td>12</td><td>28</td></tr>",
                            "<tr><td>899</td><td>Ryan McMahon</td><td>COL</td><td>141</td><td>480</td><td>70</td><td>120</td><td>22</td><td>1</td><td>24</td><td>83</td></tr>",
                            "<tr><td>900</td><td>Jeff McNeil</td><td>NYM</td><td>133</td><td>510</td><td>83</td><td>162</td><td>38</td><td>1</td><td>23</td><td>75</td></tr>",
                            "<tr><td>901</td><td>Alex McRae</td><td>PIT</td><td>11</td><td>6</td><td>0</td><td>2</td><td>0</td><td>0</td><td>0</td><td>0</td></tr>",
                            "<tr><td>902</td><td>Austin Meadows</td><td>TBR</td><td>138</td><td>530</td><td>83</td><td>154</td><td>29</td><td>7</td><td>33</td><td>89</td></tr>",
                            "<tr><td>903</td><td>John Means</td><td>BAL</td><td>2</td><td>1</td><td>0</td><td>1</td><td>0</td><td>0</td><td>0</td><td>0</td></tr>",
                            "<tr><td>910</td><td>Erick Mejia</td><td>KCR</td><td>9</td><td>22</td><td>3</td><td>5</td><td>1</td><td>0</td><td>0</td><td>4</td></tr>",
                            "<tr><td>911</td><td>Francisco Mejia</td><td>SDP</td><td>79</td><td>226</td><td>27</td><td>60</td><td>11</td><td>2</td><td>8</td><td>22</td></tr>",
                            "<tr><td>912</td><td>Seth Mejias-Brean</td><td>SDP</td><td>14</td><td>30</td><td>3</td><td>7</td><td>2</td><td>0</td><td>2</td><td>5</td></tr>",
                            "<tr><td>917</td><td>Tim Melville</td><td>COL</td><td>7</td><td>8</td><td>0</td><td>2</td><td>0</td><td>0</td><td>0</td><td>2</td></tr>",
                            "<tr><td>918</td><td>Danny Mendick</td><td>CHW</td><td>16</td><td>39</td><td>6</td><td>12</td><td>0</td><td>0</td><td>2</td><td>4</td></tr>",
                            "<tr><td>921</td><td>Oscar Mercado</td><td>CLE</td><td>115</td><td>438</td><td>70</td><td>118</td><td>25</td><td>3</td><td>15</td><td>54</td></tr>",
                            "<tr><td>922</td><td>Jordy Mercer</td><td>DET</td><td>74</td><td>256</td><td>24</td><td>69</td><td>16</td><td>0</td><td>9</td><td>22</td></tr>",
                            "<tr><td>923</td><td>Whit Merrifield</td><td>KCR</td><td>162</td><td>681</td><td>105</td><td>206</td><td>41</td><td>10</td><td>16</td><td>74</td></tr>",
                            "<tr><td>924</td><td>Miles Mikolas</td><td>STL</td><td>31</td><td>59</td><td>1</td><td>8</td><td>1</td><td>0</td><td>0</td><td>2</td></tr>",
                            "<tr><td>928</td><td>Brad Miller</td><td>CLE</td><td>13</td><td>36</td><td>4</td><td>9</td><td>3</td><td>0</td><td>1</td><td>4</td></tr>",
                            "<tr><td>929</td><td>Brad Miller</td><td>PHI</td><td>66</td><td>118</td><td>22</td><td>31</td><td>3</td><td>1</td><td>12</td><td>21</td></tr>",
                            "<tr><td>930</td><td>Ian Miller</td><td>MIN</td><td>12</td><td>17</td><td>2</td><td>3</td><td>1</td><td>0</td><td>0</td><td>1</td></tr>",
                            "<tr><td>933</td><td>Alec Mills</td><td>CHC</td><td>9</td><td>12</td><td>0</td><td>1</td><td>0</td><td>0</td><td>0</td><td>0</td></tr>",
                            "<tr><td>938</td><td>Yadier Molina</td><td>STL</td><td>113</td><td>419</td><td>45</td><td>113</td><td>24</td><td>0</td><td>10</td><td>57</td></tr>",
                            "<tr><td>939</td><td>Yoan Moncada</td><td>CHW</td><td>132</td><td>511</td><td>83</td><td>161</td><td>34</td><td>5</td><td>25</td><td>79</td></tr>",
                            "<tr><td>940</td><td>Adalberto Mondesi</td><td>KCR</td><td>102</td><td>415</td><td>58</td><td>109</td><td>20</td><td>10</td><td>9</td><td>62</td></tr>",
                            "<tr><td>944</td><td>Mike Montgomery</td><td>CHC</td><td>18</td><td>5</td><td>0</td><td>1</td><td>0</td><td>0</td><td>0</td><td>0</td></tr>",
                            "<tr><td>946</td><td>Dylan Moore</td><td>SEA</td><td>113</td><td>247</td><td>31</td><td>51</td><td>14</td><td>2</td><td>9</td><td>28</td></tr>",
                            "<tr><td>948</td><td>Kendrys Morales</td><td>OAK</td><td>34</td><td>108</td><td>9</td><td>22</td><td>1</td><td>1</td><td>1</td><td>7</td></tr>",
                            "<tr><td>949</td><td>Kendrys Morales</td><td>NYY</td><td>19</td><td>62</td><td>7</td><td>11</td><td>1</td><td>0</td><td>1</td><td>5</td></tr>",
                            "<tr><td>951</td><td>Colin Moran</td><td>PIT</td><td>149</td><td>466</td><td>46</td><td>129</td><td>30</td><td>1</td><td>13</td><td>80</td></tr>",
                            "<tr><td>953</td><td>Mitch Moreland</td><td>BOS</td><td>91</td><td>298</td><td>48</td><td>75</td><td>17</td><td>1</td><td>19</td><td>58</td></tr>",
                            "<tr><td>957</td><td>Max Moroff</td><td>CLE</td><td>20</td><td>32</td><td>3</td><td>4</td><td>1</td><td>0</td><td>1</td><td>4</td></tr>",
                            "<tr><td>959</td><td>Logan Morrison</td><td>PHI</td><td>29</td><td>35</td><td>5</td><td>7</td><td>1</td><td>0</td><td>2</td><td>3</td></tr>",
                            "<tr><td>961</td><td>Mike Moustakas</td><td>MIL</td><td>143</td><td>523</td><td>80</td><td>133</td><td>30</td><td>1</td><td>35</td><td>87</td></tr>",
                            "<tr><td>962</td><td>Cedric Mullins</td><td>BAL</td><td>22</td><td>64</td><td>7</td><td>6</td><td>0</td><td>2</td><td>0</td><td>4</td></tr>",
                            "<tr><td>963</td><td>Max Muncy</td><td>LAD</td><td>141</td><td>487</td><td>101</td><td>122</td><td>22</td><td>1</td><td>35</td><td>98</td></tr>",
                            "<tr><td>965</td><td>Yairo Munoz</td><td>STL</td><td>88</td><td>172</td><td>20</td><td>46</td><td>7</td><td>1</td><td>2</td><td>13</td></tr>",
                            "<tr><td>966</td><td>Daniel Murphy</td><td>COL</td><td>132</td><td>438</td><td>56</td><td>122</td><td>35</td><td>1</td><td>13</td><td>78</td></tr>",
                            "<tr><td>968</td><td>John Ryan Murphy</td><td>ARI</td><td>25</td><td>62</td><td>9</td><td>11</td><td>3</td><td>0</td><td>4</td><td>7</td></tr>",
                            "<tr><td>970</td><td>Sean Murphy</td><td>OAK</td><td>20</td><td>53</td><td>14</td><td>13</td><td>5</td><td>0</td><td>4</td><td>8</td></tr>",
                            "<tr><td>971</td><td>Tom Murphy</td><td>SEA</td><td>75</td><td>260</td><td>32</td><td>71</td><td>12</td><td>1</td><td>18</td><td>40</td></tr>",
                            "<tr><td>973</td><td>Joe Musgrove</td><td>PIT</td><td>44</td><td>51</td><td>8</td><td>8</td><td>2</td><td>1</td><td>0</td><td>3</td></tr>",
                            "<tr><td>974</td><td>Wil Myers</td><td>SDP</td><td>155</td><td>435</td><td>58</td><td>104</td><td>22</td><td>1</td><td>18</td><td>53</td></tr>",
                            "<tr><td>975</td><td>Tyler Naquin</td><td>CLE</td><td>89</td><td>274</td><td>34</td><td>79</td><td>19</td><td>0</td><td>10</td><td>34</td></tr>",
                            "<tr><td>976</td><td>Omar Narvaez</td><td>SEA</td><td>132</td><td>428</td><td>63</td><td>119</td><td>12</td><td>0</td><td>22</td><td>55</td></tr>",
                            "<tr><td>977</td><td>Josh Naylor</td><td>SDP</td><td>94</td><td>253</td><td>29</td><td>63</td><td>15</td><td>0</td><td>8</td><td>32</td></tr>",
                            "<tr><td>979</td><td>Kristopher Negron</td><td>SEA</td><td>10</td><td>23</td><td>3</td><td>5</td><td>0</td><td>0</td><td>0</td><td>1</td></tr>",
                            "<tr><td>980</td><td>Kristopher Negron</td><td>LAD</td><td>30</td><td>54</td><td>9</td><td>14</td><td>1</td><td>0</td><td>2</td><td>7</td></tr>",
                            "<tr><td>984</td><td>Sheldon Neuse</td><td>OAK</td><td>25</td><td>56</td><td>3</td><td>14</td><td>3</td><td>0</td><td>0</td><td>7</td></tr>",
                            "<tr><td>988</td><td>Kevin Newman</td><td>PIT</td><td>130</td><td>493</td><td>61</td><td>152</td><td>20</td><td>6</td><td>12</td><td>64</td></tr>",
                            "<tr><td>990</td><td>Tomas Nido</td><td>NYM</td><td>50</td><td>136</td><td>9</td><td>26</td><td>5</td><td>0</td><td>4</td><td>14</td></tr>",
                            "<tr><td>991</td><td>Brandon Nimmo</td><td>NYM</td><td>69</td><td>199</td><td>34</td><td>44</td><td>11</td><td>1</td><td>8</td><td>29</td></tr>",
                            "<tr><td>992</td><td>Hector Noesi</td><td>MIA</td><td>12</td><td>4</td><td>0</td><td>1</td><td>0</td><td>0</td><td>0</td><td>0</td></tr>",
                            "<tr><td>994</td><td>Aaron Nola</td><td>PHI</td><td>32</td><td>59</td><td>6</td><td>7</td><td>2</td><td>0</td><td>0</td><td>2</td></tr>",
                            "<tr><td>995</td><td>Austin Nola</td><td>SEA</td><td>79</td><td>238</td><td>37</td><td>64</td><td>12</td><td>1</td><td>10</td><td>31</td></tr>",
                            "<tr><td>996</td><td>Jake Noll</td><td>WSN</td><td>8</td><td>12</td><td>1</td><td>2</td><td>1</td><td>0</td><td>0</td><td>2</td></tr>",
                            "<tr><td>997</td><td>Daniel Norris</td><td>DET</td><td>4</td><td>6</td><td>1</td><td>1</td><td>0</td><td>0</td><td>0</td><td>0</td></tr>",
                            "<tr><td>999</td><td>Jacob Nottingham</td><td>MIL</td><td>9</td><td>6</td><td>1</td><td>2</td><td>0</td><td>0</td><td>1</td><td>4</td></tr>",
                            "<tr><td>1001</td><td>Dom Nunez</td><td>COL</td><td>16</td><td>39</td><td>4</td><td>7</td><td>3</td><td>0</td><td>2</td><td>4</td></tr>",
                            "<tr><td>1002</td><td>Eduardo Nunez</td><td>BOS</td><td>60</td><td>167</td><td>13</td><td>38</td><td>7</td><td>0</td><td>2</td><td>20</td></tr>",
                            "<tr><td>1003</td><td>Renato Nunez</td><td>BAL</td><td>151</td><td>541</td><td>72</td><td>132</td><td>24</td><td>0</td><td>31</td><td>90</td></tr>",
                            "<tr><td>1004</td><td>Peter O&#39;Brien</td><td>MIA</td><td>14</td><td>42</td><td>2</td><td>7</td><td>1</td><td>0</td><td>1</td><td>4</td></tr>",
                            "<tr><td>1006</td><td>Brian O&#39;Grady</td><td>CIN</td><td>28</td><td>42</td><td>4</td><td>8</td><td>2</td><td>1</td><td>2</td><td>3</td></tr>",
                            "<tr><td>1007</td><td>Ryan O&#39;Hearn</td><td>KCR</td><td>105</td><td>328</td><td>32</td><td>64</td><td>13</td><td>1</td><td>14</td><td>38</td></tr>",
                            "<tr><td>1008</td><td>Tyler O&#39;Neill</td><td>STL</td><td>60</td><td>141</td><td>18</td><td>37</td><td>6</td><td>0</td><td>5</td><td>16</td></tr>",
                            "<tr><td>1011</td><td>Rougned Odor</td><td>TEX</td><td>145</td><td>522</td><td>77</td><td>107</td><td>30</td><td>1</td><td>30</td><td>93</td></tr>",
                            "<tr><td>1014</td><td>Shohei Ohtani</td><td>LAA</td><td>106</td><td>384</td><td>51</td><td>110</td><td>20</td><td>5</td><td>18</td><td>62</td></tr>",
                            "<tr><td>1015</td><td>Matt Olson</td><td>OAK</td><td>127</td><td>483</td><td>73</td><td>129</td><td>26</td><td>0</td><td>36</td><td>91</td></tr>",
                            "<tr><td>1017</td><td>Rafael Ortega</td><td>ATL</td><td>34</td><td>88</td><td>7</td><td>18</td><td>3</td><td>0</td><td>2</td><td>10</td></tr>",
                            "<tr><td>1019</td><td>Jose Osuna</td><td>PIT</td><td>95</td><td>261</td><td>41</td><td>69</td><td>20</td><td>0</td><td>10</td><td>36</td></tr>",
                            "<tr><td>1025</td><td>Chris Owings</td><td>KCR</td><td>40</td><td>135</td><td>9</td><td>18</td><td>4</td><td>1</td><td>2</td><td>9</td></tr>",
                            "<tr><td>1026</td><td>Chris Owings</td><td>BOS</td><td>26</td><td>45</td><td>4</td><td>7</td><td>2</td><td>0</td><td>1</td><td>5</td></tr>",
                            "<tr><td>1027</td><td>Marcell Ozuna</td><td>STL</td><td>130</td><td>485</td><td>80</td><td>117</td><td>23</td><td>1</td><td>29</td><td>89</td></tr>",
                            "<tr><td>1028</td><td>Chris Paddack</td><td>SDP</td><td>25</td><td>42</td><td>3</td><td>5</td><td>0</td><td>0</td><td>0</td><td>2</td></tr>",
                            "<tr><td>1030</td><td>Daniel Palka</td><td>CHW</td><td>30</td><td>84</td><td>4</td><td>9</td><td>0</td><td>0</td><td>2</td><td>4</td></tr>",
                            "<tr><td>1032</td><td>Joe Panik</td><td>SFG</td><td>103</td><td>344</td><td>33</td><td>81</td><td>17</td><td>1</td><td>3</td><td>27</td></tr>",
                            "<tr><td>1033</td><td>Joe Panik</td><td>NYM</td><td>39</td><td>94</td><td>17</td><td>26</td><td>4</td><td>1</td><td>2</td><td>12</td></tr>",
                            "<tr><td>1040</td><td>Gerardo Parra</td><td>SFG</td><td>30</td><td>86</td><td>8</td><td>17</td><td>3</td><td>0</td><td>1</td><td>6</td></tr>",
                            "<tr><td>1041</td><td>Gerardo Parra</td><td>WSN</td><td>89</td><td>188</td><td>30</td><td>47</td><td>11</td><td>1</td><td>8</td><td>42</td></tr>",
                            "<tr><td>1049</td><td>Steve Pearce</td><td>BOS</td><td>29</td><td>89</td><td>9</td><td>16</td><td>4</td><td>0</td><td>1</td><td>9</td></tr>",
                            "<tr><td>1050</td><td>Joc Pederson</td><td>LAD</td><td>149</td><td>450</td><td>83</td><td>112</td><td>16</td><td>3</td><td>36</td><td>74</td></tr>",
                            "<tr><td>1051</td><td>Dustin Pedroia</td><td>BOS</td><td>6</td><td>20</td><td>1</td><td>2</td><td>0</td><td>0</td><td>0</td><td>1</td></tr>",
                            "<tr><td>1053</td><td>Hunter Pence</td><td>TEX</td><td>83</td><td>286</td><td>53</td><td>85</td><td>17</td><td>1</td><td>18</td><td>59</td></tr>",
                            "<tr><td>1054</td><td>David Peralta</td><td>ARI</td><td>99</td><td>382</td><td>48</td><td>105</td><td>29</td><td>3</td><td>12</td><td>57</td></tr>",
                            "<tr><td>1055</td><td>Freddy Peralta</td><td>MIL</td><td>37</td><td>15</td><td>1</td><td>2</td><td>0</td><td>0</td><td>0</td><td>1</td></tr>",
                            "<tr><td>1060</td><td>Jose Peraza</td><td>CIN</td><td>141</td><td>376</td><td>37</td><td>90</td><td>18</td><td>2</td><td>6</td><td>33</td></tr>",
                            "<tr><td>1061</td><td>Luis Perdomo</td><td>SDP</td><td>44</td><td>7</td><td>0</td><td>1</td><td>0</td><td>0</td><td>0</td><td>1</td></tr>",
                            "<tr><td>1063</td><td>Hernan Perez</td><td>MIL</td><td>91</td><td>232</td><td>29</td><td>53</td><td>11</td><td>0</td><td>8</td><td>18</td></tr>",
                            "<tr><td>1065</td><td>Michael Perez</td><td>TBR</td><td>22</td><td>46</td><td>6</td><td>10</td><td>5</td><td>0</td><td>0</td><td>2</td></tr>",
                            "<tr><td>1067</td><td>Roberto Perez</td><td>CLE</td><td>119</td><td>389</td><td>46</td><td>93</td><td>9</td><td>1</td><td>24</td><td>63</td></tr>",
                            "<tr><td>1068</td><td>Dustin Peterson</td><td>DET</td><td>17</td><td>44</td><td>3</td><td>10</td><td>4</td><td>0</td><td>0</td><td>6</td></tr>",
                            "<tr><td>1069</td><td>Jace Peterson</td><td>BAL</td><td>29</td><td>100</td><td>14</td><td>22</td><td>3</td><td>1</td><td>2</td><td>11</td></tr>",
                            "<tr><td>1073</td><td>Tommy Pham</td><td>TBR</td><td>145</td><td>567</td><td>77</td><td>155</td><td>33</td><td>2</td><td>21</td><td>68</td></tr>",
                            "<tr><td>1074</td><td>Josh Phegley</td><td>OAK</td><td>106</td><td>314</td><td>44</td><td>75</td><td>18</td><td>0</td><td>12</td><td>62</td></tr>",
                            "<tr><td>1077</td><td>Brett Phillips</td><td>KCR</td><td>30</td><td>65</td><td>7</td><td>9</td><td>2</td><td>0</td><td>2</td><td>6</td></tr>",
                            "<tr><td>1080</td><td>Kevin Pillar</td><td>TOR</td><td>5</td><td>16</td><td>1</td><td>1</td><td>0</td><td>0</td><td>0</td><td>1</td></tr>",
                            "<tr><td>1081</td><td>Kevin Pillar</td><td>SFG</td><td>156</td><td>595</td><td>82</td><td>157</td><td>37</td><td>3</td><td>21</td><td>87</td></tr>",
                            "<tr><td>1082</td><td>Manny Pina</td><td>MIL</td><td>76</td><td>158</td><td>10</td><td>36</td><td>8</td><td>0</td><td>7</td><td>25</td></tr>",
                            "<tr><td>1083</td><td>Chad Pinder</td><td>OAK</td><td>124</td><td>341</td><td>45</td><td>82</td><td>21</td><td>0</td><td>13</td><td>47</td></tr>",
                            "<tr><td>1087</td><td>Jose Pirela</td><td>PHI</td><td>12</td><td>17</td><td>1</td><td>4</td><td>1</td><td>0</td><td>1</td><td>2</td></tr>",
                            "<tr><td>1088</td><td>Stephen Piscotty</td><td>OAK</td><td>93</td><td>357</td><td>46</td><td>89</td><td>17</td><td>1</td><td>13</td><td>44</td></tr>",
                            "<tr><td>1089</td><td>Nick Pivetta</td><td>PHI</td><td>29</td><td>25</td><td>1</td><td>2</td><td>0</td><td>0</td><td>0</td><td>0</td></tr>",
                            "<tr><td>1090</td><td>Kevin Plawecki</td><td>CLE</td><td>59</td><td>158</td><td>13</td><td>35</td><td>10</td><td>0</td><td>3</td><td>17</td></tr>",
                            "<tr><td>1094</td><td>Gregory Polanco</td><td>PIT</td><td>42</td><td>153</td><td>23</td><td>37</td><td>8</td><td>1</td><td>6</td><td>17</td></tr>",
                            "<tr><td>1095</td><td>Jorge Polanco</td><td>MIN</td><td>153</td><td>631</td><td>107</td><td>186</td><td>40</td><td>7</td><td>22</td><td>79</td></tr>",
                            "<tr><td>1096</td><td>A.J. Pollock</td><td>LAD</td><td>86</td><td>308</td><td>49</td><td>82</td><td>15</td><td>1</td><td>15</td><td>47</td></tr>",
                            "<tr><td>1103</td><td>Buster Posey</td><td>SFG</td><td>114</td><td>405</td><td>43</td><td>104</td><td>24</td><td>0</td><td>7</td><td>38</td></tr>",
                            "<tr><td>1106</td><td>Martin Prado</td><td>MIA</td><td>104</td><td>245</td><td>26</td><td>57</td><td>9</td><td>0</td><td>2</td><td>15</td></tr>",
                            "<tr><td>1108</td><td>David Price</td><td>BOS</td><td>1</td><td>2</td><td>0</td><td>1</td><td>0</td><td>0</td><td>0</td><td>1</td></tr>",
                            "<tr><td>1109</td><td>Jurickson Profar</td><td>OAK</td><td>139</td><td>459</td><td>65</td><td>100</td><td>24</td><td>2</td><td>20</td><td>67</td></tr>",
                            "<tr><td>1112</td><td>Cesar Puello</td><td>LAA</td><td>12</td><td>41</td><td>6</td><td>16</td><td>3</td><td>0</td><td>3</td><td>12</td></tr>",
                            "<tr><td>1113</td><td>Cesar Puello</td><td>MIA</td><td>32</td><td>84</td><td>8</td><td>15</td><td>2</td><td>0</td><td>1</td><td>6</td></tr>",
                            "<tr><td>1115</td><td>Yasiel Puig</td><td>CIN</td><td>100</td><td>373</td><td>51</td><td>94</td><td>15</td><td>1</td><td>22</td><td>61</td></tr>",
                            "<tr><td>1116</td><td>Yasiel Puig</td><td>CLE</td><td>49</td><td>182</td><td>25</td><td>54</td><td>15</td><td>1</td><td>2</td><td>23</td></tr>",
                            "<tr><td>1117</td><td>Albert Pujols</td><td>LAA</td><td>131</td><td>491</td><td>55</td><td>120</td><td>22</td><td>0</td><td>23</td><td>93</td></tr>",
                            "<tr><td>1118</td><td>Cal Quantrill</td><td>SDP</td><td>21</td><td>25</td><td>1</td><td>2</td><td>0</td><td>0</td><td>0</td><td>1</td></tr>",
                            "<tr><td>1120</td><td>Roman Quinn</td><td>PHI</td><td>44</td><td>108</td><td>18</td><td>23</td><td>3</td><td>1</td><td>4</td><td>11</td></tr>",
                            "<tr><td>1121</td><td>Jose Quintana</td><td>CHC</td><td>31</td><td>54</td><td>2</td><td>5</td><td>1</td><td>0</td><td>0</td><td>3</td></tr>",
                            "<tr><td>1123</td><td>Hanley Ramirez</td><td>CLE</td><td>16</td><td>49</td><td>4</td><td>9</td><td>1</td><td>0</td><td>2</td><td>8</td></tr>",
                            "<tr><td>1124</td><td>Harold Ramirez</td><td>MIA</td><td>119</td><td>421</td><td>54</td><td>116</td><td>20</td><td>3</td><td>11</td><td>50</td></tr>",
                            "<tr><td>1125</td><td>Jose Ramirez</td><td>CLE</td><td>129</td><td>482</td><td>68</td><td>123</td><td>33</td><td>3</td><td>23</td><td>83</td></tr>",
                            "<tr><td>1134</td><td>Wilson Ramos</td><td>NYM</td><td>141</td><td>473</td><td>52</td><td>136</td><td>19</td><td>0</td><td>14</td><td>73</td></tr>",
                            "<tr><td>1135</td><td>Rangel Ravelo</td><td>STL</td><td>29</td><td>39</td><td>4</td><td>8</td><td>2</td><td>0</td><td>2</td><td>7</td></tr>",
                            "<tr><td>1136</td><td>Robbie Ray</td><td>ARI</td><td>31</td><td>55</td><td>1</td><td>4</td><td>0</td><td>0</td><td>0</td><td>3</td></tr>",
                            "<tr><td>1137</td><td>Raudy Read</td><td>WSN</td><td>6</td><td>11</td><td>0</td><td>1</td><td>0</td><td>0</td><td>0</td><td>0</td></tr>",
                            "<tr><td>1138</td><td>J.T. Realmuto</td><td>PHI</td><td>145</td><td>538</td><td>92</td><td>148</td><td>36</td><td>3</td><td>25</td><td>83</td></tr>",
                            "<tr><td>1139</td><td>Josh Reddick</td><td>HOU</td><td>141</td><td>501</td><td>57</td><td>138</td><td>19</td><td>3</td><td>14</td><td>56</td></tr>",
                            "<tr><td>1140</td><td>AJ Reed</td><td>CHW</td><td>14</td><td>44</td><td>1</td><td>6</td><td>0</td><td>0</td><td>1</td><td>4</td></tr>",
                            "<tr><td>1145</td><td>Anthony Rendon</td><td>WSN</td><td>146</td><td>545</td><td>117</td><td>174</td><td>44</td><td>3</td><td>34</td><td>126</td></tr>",
                            "<tr><td>1146</td><td>Hunter Renfroe</td><td>SDP</td><td>140</td><td>440</td><td>64</td><td>95</td><td>19</td><td>1</td><td>33</td><td>64</td></tr>",
                            "<tr><td>1147</td><td>Luis Rengifo</td><td>LAA</td><td>108</td><td>357</td><td>44</td><td>85</td><td>18</td><td>3</td><td>7</td><td>33</td></tr>",
                            "<tr><td>1150</td><td>Franmil Reyes</td><td>SDP</td><td>99</td><td>321</td><td>43</td><td>82</td><td>9</td><td>0</td><td>27</td><td>46</td></tr>",
                            "<tr><td>1151</td><td>Franmil Reyes</td><td>CLE</td><td>51</td><td>173</td><td>26</td><td>41</td><td>10</td><td>0</td><td>10</td><td>35</td></tr>",
                            "<tr><td>1153</td><td>Pablo Reyes</td><td>PIT</td><td>71</td><td>143</td><td>18</td><td>29</td><td>7</td><td>2</td><td>2</td><td>19</td></tr>",
                            "<tr><td>1154</td><td>Victor Reyes</td><td>DET</td><td>69</td><td>276</td><td>29</td><td>84</td><td>16</td><td>5</td><td>3</td><td>25</td></tr>",
                            "<tr><td>1155</td><td>Bryan Reynolds</td><td>PIT</td><td>134</td><td>491</td><td>83</td><td>154</td><td>37</td><td>4</td><td>16</td><td>68</td></tr>",
                            "<tr><td>1156</td><td>Mark Reynolds</td><td>COL</td><td>78</td><td>135</td><td>13</td><td>23</td><td>7</td><td>0</td><td>4</td><td>20</td></tr>",
                            "<tr><td>1160</td><td>Trevor Richards</td><td>MIA</td><td>22</td><td>30</td><td>2</td><td>3</td><td>0</td><td>0</td><td>0</td><td>0</td></tr>",
                            "<tr><td>1162</td><td>Joey Rickard</td><td>BAL</td><td>42</td><td>118</td><td>10</td><td>24</td><td>7</td><td>2</td><td>2</td><td>6</td></tr>",
                            "<tr><td>1163</td><td>Joey Rickard</td><td>SFG</td><td>26</td><td>50</td><td>4</td><td>14</td><td>2</td><td>0</td><td>1</td><td>4</td></tr>",
                            "<tr><td>1164</td><td>JT Riddle</td><td>MIA</td><td>51</td><td>132</td><td>15</td><td>25</td><td>6</td><td>0</td><td>6</td><td>12</td></tr>",
                            "<tr><td>1165</td><td>Austin Riley</td><td>ATL</td><td>80</td><td>274</td><td>41</td><td>62</td><td>11</td><td>1</td><td>18</td><td>49</td></tr>",
                            "<tr><td>1166</td><td>Edwin Rios</td><td>LAD</td><td>28</td><td>47</td><td>10</td><td>13</td><td>2</td><td>1</td><td>4</td><td>8</td></tr>",
                            "<tr><td>1170</td><td>Rene Rivera</td><td>NYM</td><td>9</td><td>17</td><td>2</td><td>4</td><td>0</td><td>0</td><td>1</td><td>3</td></tr>",
                            "<tr><td>1171</td><td>Yadiel Rivera</td><td>MIA</td><td>34</td><td>60</td><td>8</td><td>11</td><td>2</td><td>0</td><td>0</td><td>3</td></tr>",
                            "<tr><td>1172</td><td>Anthony Rizzo</td><td>CHC</td><td>146</td><td>512</td><td>89</td><td>150</td><td>29</td><td>3</td><td>27</td><td>94</td></tr>",
                            "<tr><td>1174</td><td>Tanner Roark</td><td>CIN</td><td>19</td><td>33</td><td>2</td><td>5</td><td>1</td><td>0</td><td>1</td><td>2</td></tr>",
                            "<tr><td>1175</td><td>Daniel Robertson</td><td>TBR</td><td>74</td><td>207</td><td>23</td><td>44</td><td>9</td><td>1</td><td>2</td><td>19</td></tr>",
                            "<tr><td>1177</td><td>Drew Robinson</td><td>STL</td><td>5</td><td>7</td><td>1</td><td>1</td><td>0</td><td>0</td><td>0</td><td>0</td></tr>",
                            "<tr><td>1179</td><td>Victor Robles</td><td>WSN</td><td>155</td><td>546</td><td>86</td><td>139</td><td>33</td><td>3</td><td>17</td><td>65</td></tr>",
                            "<tr><td>1180</td><td>Brendan Rodgers</td><td>COL</td><td>25</td><td>76</td><td>8</td><td>17</td><td>2</td><td>0</td><td>0</td><td>7</td></tr>",
                            "<tr><td>1184</td><td>Dereck Rodriguez</td><td>SFG</td><td>27</td><td>29</td><td>1</td><td>5</td><td>0</td><td>0</td><td>0</td><td>0</td></tr>",
                            "<tr><td>1188</td><td>Ronny Rodriguez</td><td>DET</td><td>84</td><td>276</td><td>29</td><td>61</td><td>12</td><td>3</td><td>14</td><td>43</td></tr>",
                            "<tr><td>1189</td><td>Sean Rodriguez</td><td>PHI</td><td>76</td><td>112</td><td>24</td><td>25</td><td>5</td><td>0</td><td>4</td><td>12</td></tr>",
                            "<tr><td>1191</td><td>Jake Rogers</td><td>DET</td><td>35</td><td>112</td><td>11</td><td>14</td><td>3</td><td>0</td><td>4</td><td>8</td></tr>",
                            "<tr><td>1194</td><td>Josh Rojas</td><td>ARI</td><td>41</td><td>138</td><td>17</td><td>30</td><td>7</td><td>0</td><td>2</td><td>16</td></tr>",
                            "<tr><td>1195</td><td>Miguel Rojas</td><td>MIA</td><td>132</td><td>483</td><td>52</td><td>137</td><td>29</td><td>1</td><td>5</td><td>46</td></tr>",
                            "<tr><td>1198</td><td>Austin Romine</td><td>NYY</td><td>72</td><td>228</td><td>29</td><td>64</td><td>12</td><td>0</td><td>8</td><td>35</td></tr>",
                            "<tr><td>1204</td><td>Jose Rondon</td><td>CHW</td><td>55</td><td>142</td><td>10</td><td>28</td><td>3</td><td>0</td><td>3</td><td>9</td></tr>",
                            "<tr><td>1206</td><td>Amed Rosario</td><td>NYM</td><td>157</td><td>616</td><td>75</td><td>177</td><td>30</td><td>7</td><td>15</td><td>72</td></tr>",
                            "<tr><td>1207</td><td>Eddie Rosario</td><td>MIN</td><td>137</td><td>562</td><td>91</td><td>155</td><td>28</td><td>1</td><td>32</td><td>109</td></tr>",
                            "<tr><td>1212</td><td>Joe Ross</td><td>WSN</td><td>28</td><td>19</td><td>1</td><td>2</td><td>0</td><td>0</td><td>0</td><td>0</td></tr>",
                            "<tr><td>1216</td><td>Rio Ruiz</td><td>BAL</td><td>127</td><td>370</td><td>35</td><td>86</td><td>13</td><td>2</td><td>12</td><td>46</td></tr>",
                            "<tr><td>1218</td><td>Addison Russell</td><td>CHC</td><td>82</td><td>215</td><td>25</td><td>51</td><td>4</td><td>1</td><td>9</td><td>23</td></tr>",
                            "<tr><td>1220</td><td>Hyun-Jin Ryu</td><td>LAD</td><td>28</td><td>51</td><td>3</td><td>8</td><td>1</td><td>0</td><td>1</td><td>3</td></tr>",
                            "<tr><td>1224</td><td>Tyler Saladino</td><td>MIL</td><td>28</td><td>65</td><td>7</td><td>8</td><td>0</td><td>0</td><td>2</td><td>8</td></tr>",
                            "<tr><td>1226</td><td>Jeff Samardzija</td><td>SFG</td><td>29</td><td>50</td><td>1</td><td>6</td><td>2</td><td>0</td><td>0</td><td>1</td></tr>",
                            "<tr><td>1230</td><td>Adrian Sanchez</td><td>WSN</td><td>28</td><td>31</td><td>3</td><td>7</td><td>0</td><td>0</td><td>0</td><td>1</td></tr>",
                            "<tr><td>1231</td><td>Anibal Sanchez</td><td>WSN</td><td>27</td><td>52</td><td>1</td><td>6</td><td>0</td><td>0</td><td>0</td><td>1</td></tr>",
                            "<tr><td>1232</td><td>Gary Sanchez</td><td>NYY</td><td>106</td><td>396</td><td>62</td><td>92</td><td>12</td><td>1</td><td>34</td><td>77</td></tr>",
                            "<tr><td>1233</td><td>Yolmer Sanchez</td><td>CHW</td><td>149</td><td>496</td><td>59</td><td>125</td><td>20</td><td>4</td><td>2</td><td>43</td></tr>",
                            "<tr><td>1234</td><td>Pablo Sandoval</td><td>SFG</td><td>108</td><td>272</td><td>42</td><td>73</td><td>23</td><td>0</td><td>14</td><td>41</td></tr>",
                            "<tr><td>1236</td><td>Miguel Sano</td><td>MIN</td><td>105</td><td>380</td><td>76</td><td>94</td><td>19</td><td>2</td><td>34</td><td>79</td></tr>",
                            "<tr><td>1237</td><td>Carlos Santana</td><td>CLE</td><td>158</td><td>573</td><td>110</td><td>161</td><td>30</td><td>1</td><td>34</td><td>93</td></tr>",
                            "<tr><td>1238</td><td>Danny Santana</td><td>TEX</td><td>130</td><td>474</td><td>81</td><td>134</td><td>23</td><td>6</td><td>28</td><td>81</td></tr>",
                            "<tr><td>1239</td><td>Dennis Santana</td><td>LAD</td><td>3</td><td>2</td><td>0</td><td>1</td><td>0</td><td>0</td><td>0</td><td>0</td></tr>",
                            "<tr><td>1240</td><td>Domingo Santana</td><td>SEA</td><td>121</td><td>451</td><td>63</td><td>114</td><td>20</td><td>1</td><td>21</td><td>69</td></tr>",
                            "<tr><td>1241</td><td>Anthony Santander</td><td>BAL</td><td>93</td><td>380</td><td>46</td><td>99</td><td>20</td><td>1</td><td>20</td><td>59</td></tr>",
                            "<tr><td>1246</td><td>Scott Schebler</td><td>CIN</td><td>30</td><td>81</td><td>11</td><td>10</td><td>2</td><td>0</td><td>2</td><td>7</td></tr>",
                            "<tr><td>1247</td><td>Max Scherzer</td><td>WSN</td><td>28</td><td>55</td><td>6</td><td>10</td><td>0</td><td>0</td><td>0</td><td>2</td></tr>",
                            "<tr><td>1248</td><td>Jonathan Schoop</td><td>MIN</td><td>121</td><td>433</td><td>61</td><td>111</td><td>23</td><td>1</td><td>23</td><td>59</td></tr>",
                            "<tr><td>1250</td><td>Kyle Schwarber</td><td>CHC</td><td>155</td><td>529</td><td>82</td><td>132</td><td>29</td><td>3</td><td>38</td><td>92</td></tr>",
                            "<tr><td>1251</td><td>Frank Schwindel</td><td>KCR</td><td>6</td><td>15</td><td>0</td><td>1</td><td>0</td><td>0</td><td>0</td><td>0</td></tr>",
                            "<tr><td>1256</td><td>Corey Seager</td><td>LAD</td><td>134</td><td>489</td><td>82</td><td>133</td><td>44</td><td>1</td><td>19</td><td>87</td></tr>",
                            "<tr><td>1257</td><td>Kyle Seager</td><td>SEA</td><td>106</td><td>393</td><td>55</td><td>94</td><td>19</td><td>1</td><td>23</td><td>63</td></tr>",
                            "<tr><td>1258</td><td>Jean Segura</td><td>PHI</td><td>144</td><td>576</td><td>79</td><td>161</td><td>37</td><td>4</td><td>12</td><td>60</td></tr>",
                            "<tr><td>1260</td><td>Marcus Semien</td><td>OAK</td><td>162</td><td>657</td><td>123</td><td>187</td><td>43</td><td>7</td><td>33</td><td>92</td></tr>",
                            "<tr><td>1261</td><td>Antonio Senzatela</td><td>COL</td><td>24</td><td>40</td><td>2</td><td>1</td><td>0</td><td>0</td><td>0</td><td>3</td></tr>",
                            "<tr><td>1262</td><td>Nick Senzel</td><td>CIN</td><td>104</td><td>375</td><td>55</td><td>96</td><td>20</td><td>4</td><td>12</td><td>42</td></tr>",
                            "<tr><td>1263</td><td>Pedro Severino</td><td>BAL</td><td>96</td><td>305</td><td>37</td><td>76</td><td>13</td><td>0</td><td>13</td><td>44</td></tr>",
                            "<tr><td>1267</td><td>Chris Shaw</td><td>SFG</td><td>16</td><td>18</td><td>0</td><td>1</td><td>0</td><td>0</td><td>0</td><td>0</td></tr>",
                            "<tr><td>1268</td><td>Travis Shaw</td><td>MIL</td><td>86</td><td>230</td><td>22</td><td>36</td><td>5</td><td>0</td><td>7</td><td>16</td></tr>",
                            "<tr><td>1272</td><td>JB Shuck</td><td>PIT</td><td>27</td><td>47</td><td>4</td><td>10</td><td>0</td><td>1</td><td>0</td><td>2</td></tr>",
                            "<tr><td>1273</td><td>Magneuris Sierra</td><td>MIA</td><td>15</td><td>40</td><td>5</td><td>14</td><td>1</td><td>1</td><td>0</td><td>1</td></tr>",
                            "<tr><td>1274</td><td>Andrelton Simmons</td><td>LAA</td><td>103</td><td>398</td><td>47</td><td>105</td><td>19</td><td>0</td><td>7</td><td>40</td></tr>",
                            "<tr><td>1275</td><td>Lucas Sims</td><td>CIN</td><td>23</td><td>8</td><td>0</td><td>1</td><td>0</td><td>0</td><td>0</td><td>0</td></tr>",
                            "<tr><td>1277</td><td>Chance Sisco</td><td>BAL</td><td>59</td><td>167</td><td>29</td><td>35</td><td>7</td><td>0</td><td>8</td><td>20</td></tr>",
                            "<tr><td>1280</td><td>Matt Skole</td><td>CHW</td><td>27</td><td>72</td><td>7</td><td>15</td><td>2</td><td>0</td><td>0</td><td>6</td></tr>",
                            "<tr><td>1281</td><td>Austin Slater</td><td>SFG</td><td>68</td><td>168</td><td>20</td><td>40</td><td>9</td><td>3</td><td>5</td><td>21</td></tr>",
                            "<tr><td>1285</td><td>Caleb Smith</td><td>MIA</td><td>27</td><td>43</td><td>2</td><td>10</td><td>2</td><td>0</td><td>0</td><td>3</td></tr>",
                            "<tr><td>1286</td><td>Dominic Smith</td><td>NYM</td><td>89</td><td>177</td><td>35</td><td>50</td><td>10</td><td>0</td><td>11</td><td>25</td></tr>",
                            "<tr><td>1287</td><td>Dwight Smith Jr.</td><td>BAL</td><td>101</td><td>357</td><td>46</td><td>86</td><td>16</td><td>3</td><td>13</td><td>53</td></tr>",
                            "<tr><td>1292</td><td>Kevan Smith</td><td>LAA</td><td>67</td><td>191</td><td>21</td><td>48</td><td>12</td><td>0</td><td>5</td><td>20</td></tr>",
                            "<tr><td>1293</td><td>Mallex Smith</td><td>SEA</td><td>134</td><td>510</td><td>70</td><td>116</td><td>19</td><td>9</td><td>6</td><td>37</td></tr>",
                            "<tr><td>1294</td><td>Will Smith</td><td>SFG</td><td>58</td><td>1</td><td>0</td><td>1</td><td>0</td><td>0</td><td>0</td><td>2</td></tr>",
                            "<tr><td>1295</td><td>Will Smith</td><td>LAD</td><td>54</td><td>170</td><td>30</td><td>43</td><td>9</td><td>0</td><td>15</td><td>42</td></tr>",
                            "<tr><td>1296</td><td>Justin Smoak</td><td>TOR</td><td>121</td><td>414</td><td>54</td><td>86</td><td>16</td><td>0</td><td>22</td><td>61</td></tr>",
                            "<tr><td>1303</td><td>Eric Sogard</td><td>TOR</td><td>73</td><td>287</td><td>45</td><td>86</td><td>17</td><td>2</td><td>10</td><td>30</td></tr>",
                            "<tr><td>1304</td><td>Eric Sogard</td><td>TBR</td><td>37</td><td>109</td><td>14</td><td>29</td><td>6</td><td>0</td><td>3</td><td>10</td></tr>",
                            "<tr><td>1305</td><td>Nick Solak</td><td>TEX</td><td>33</td><td>116</td><td>19</td><td>34</td><td>6</td><td>1</td><td>5</td><td>17</td></tr>",
                            "<tr><td>1306</td><td>Donovan Solano</td><td>SFG</td><td>81</td><td>215</td><td>27</td><td>71</td><td>13</td><td>1</td><td>4</td><td>23</td></tr>",
                            "<tr><td>1307</td><td>Yangervis Solarte</td><td>SFG</td><td>28</td><td>73</td><td>9</td><td>15</td><td>5</td><td>0</td><td>1</td><td>7</td></tr>",
                            "<tr><td>1308</td><td>Jorge Soler</td><td>KCR</td><td>162</td><td>589</td><td>95</td><td>156</td><td>33</td><td>1</td><td>48</td><td>117</td></tr>",
                            "<tr><td>1310</td><td>Mike Soroka</td><td>ATL</td><td>27</td><td>52</td><td>2</td><td>4</td><td>0</td><td>0</td><td>0</td><td>3</td></tr>",
                            "<tr><td>1311</td><td>Edmundo Sosa</td><td>STL</td><td>8</td><td>8</td><td>2</td><td>2</td><td>0</td><td>0</td><td>0</td><td>0</td></tr>",
                            "<tr><td>1312</td><td>Gregory Soto</td><td>DET</td><td>1</td><td>2</td><td>0</td><td>2</td><td>0</td><td>0</td><td>0</td><td>0</td></tr>",
                            "<tr><td>1313</td><td>Juan Soto</td><td>WSN</td><td>150</td><td>542</td><td>110</td><td>153</td><td>32</td><td>5</td><td>34</td><td>110</td></tr>",
                            "<tr><td>1314</td><td>Cory Spangenberg</td><td>MIL</td><td>32</td><td>95</td><td>11</td><td>22</td><td>2</td><td>2</td><td>2</td><td>10</td></tr>",
                            "<tr><td>1317</td><td>George Springer</td><td>HOU</td><td>122</td><td>479</td><td>96</td><td>140</td><td>20</td><td>3</td><td>39</td><td>96</td></tr>",
                            "<tr><td>1319</td><td>Jacob Stallings</td><td>PIT</td><td>71</td><td>191</td><td>26</td><td>50</td><td>5</td><td>0</td><td>6</td><td>13</td></tr>",
                            "<tr><td>1320</td><td>Eric Stamets</td><td>CLE</td><td>15</td><td>41</td><td>4</td><td>2</td><td>1</td><td>0</td><td>0</td><td>2</td></tr>",
                            "<tr><td>1325</td><td>Giancarlo Stanton</td><td>NYY</td><td>18</td><td>59</td><td>8</td><td>17</td><td>3</td><td>0</td><td>3</td><td>13</td></tr>",
                            "<tr><td>1326</td><td>Bubba Starling</td><td>KCR</td><td>56</td><td>186</td><td>26</td><td>40</td><td>7</td><td>0</td><td>4</td><td>12</td></tr>",
                            "<tr><td>1329</td><td>Max Stassi</td><td>HOU</td><td>31</td><td>90</td><td>4</td><td>15</td><td>1</td><td>0</td><td>1</td><td>3</td></tr>",
                            "<tr><td>1330</td><td>Max Stassi</td><td>LAA</td><td>20</td><td>42</td><td>3</td><td>3</td><td>0</td><td>0</td><td>0</td><td>2</td></tr>",
                            "<tr><td>1333</td><td>Andrew Stevenson</td><td>WSN</td><td>30</td><td>30</td><td>4</td><td>11</td><td>1</td><td>1</td><td>0</td><td>0</td></tr>",
                            "<tr><td>1335</td><td>Brock Stewart</td><td>LAD</td><td>3</td><td>3</td><td>1</td><td>1</td><td>1</td><td>0</td><td>0</td><td>0</td></tr>",
                            "<tr><td>1336</td><td>Christin Stewart</td><td>DET</td><td>104</td><td>369</td><td>32</td><td>86</td><td>25</td><td>1</td><td>10</td><td>40</td></tr>",
                            "<tr><td>1337</td><td>DJ Stewart</td><td>BAL</td><td>44</td><td>126</td><td>15</td><td>30</td><td>6</td><td>0</td><td>4</td><td>15</td></tr>",
                            "<tr><td>1339</td><td>Trevor Story</td><td>COL</td><td>145</td><td>588</td><td>111</td><td>173</td><td>38</td><td>5</td><td>35</td><td>85</td></tr>",
                            "<tr><td>1340</td><td>Matt Strahm</td><td>SDP</td><td>45</td><td>21</td><td>1</td><td>6</td><td>2</td><td>0</td><td>0</td><td>1</td></tr>",
                            "<tr><td>1341</td><td>Stephen Strasburg</td><td>WSN</td><td>33</td><td>72</td><td>4</td><td>12</td><td>1</td><td>0</td><td>1</td><td>10</td></tr>",
                            "<tr><td>1345</td><td>Myles Straw</td><td>HOU</td><td>56</td><td>108</td><td>27</td><td>29</td><td>4</td><td>2</td><td>0</td><td>7</td></tr>",
                            "<tr><td>1348</td><td>Ross Stripling</td><td>LAD</td><td>27</td><td>20</td><td>1</td><td>3</td><td>0</td><td>0</td><td>0</td><td>1</td></tr>",
                            "<tr><td>1351</td><td>Marcus Stroman</td><td>NYM</td><td>11</td><td>21</td><td>2</td><td>1</td><td>0</td><td>0</td><td>0</td><td>0</td></tr>",
                            "<tr><td>1353</td><td>Garrett Stubbs</td><td>HOU</td><td>19</td><td>35</td><td>8</td><td>7</td><td>3</td><td>0</td><td>0</td><td>2</td></tr>",
                            "<tr><td>1356</td><td>Eugenio Suarez</td><td>CIN</td><td>159</td><td>575</td><td>87</td><td>156</td><td>22</td><td>2</td><td>49</td><td>103</td></tr>",
                            "<tr><td>1358</td><td>Ranger Suarez</td><td>PHI</td><td>34</td><td>4</td><td>0</td><td>1</td><td>0</td><td>0</td><td>0</td><td>0</td></tr>",
                            "<tr><td>1359</td><td>Jesus Sucre</td><td>BAL</td><td>20</td><td>62</td><td>3</td><td>13</td><td>2</td><td>0</td><td>0</td><td>3</td></tr>",
                            "<tr><td>1364</td><td>Kurt Suzuki</td><td>WSN</td><td>85</td><td>280</td><td>37</td><td>74</td><td>11</td><td>0</td><td>17</td><td>63</td></tr>",
                            "<tr><td>1365</td><td>Dansby Swanson</td><td>ATL</td><td>127</td><td>483</td><td>77</td><td>121</td><td>26</td><td>3</td><td>17</td><td>65</td></tr>",
                            "<tr><td>1370</td><td>Blake Swihart</td><td>BOS</td><td>12</td><td>26</td><td>4</td><td>6</td><td>1</td><td>0</td><td>1</td><td>4</td></tr>",
                            "<tr><td>1371</td><td>Blake Swihart</td><td>ARI</td><td>31</td><td>66</td><td>9</td><td>9</td><td>0</td><td>0</td><td>3</td><td>9</td></tr>",
                            "<tr><td>1372</td><td>Noah Syndergaard</td><td>NYM</td><td>30</td><td>65</td><td>6</td><td>6</td><td>1</td><td>0</td><td>2</td><td>2</td></tr>",
                            "<tr><td>1373</td><td>Jameson Taillon</td><td>PIT</td><td>6</td><td>8</td><td>0</td><td>2</td><td>0</td><td>0</td><td>0</td><td>0</td></tr>",
                            "<tr><td>1375</td><td>Raimel Tapia</td><td>COL</td><td>138</td><td>426</td><td>54</td><td>117</td><td>23</td><td>5</td><td>9</td><td>44</td></tr>",
                            "<tr><td>1377</td><td>Fernando Tatis Jr.</td><td>SDP</td><td>84</td><td>334</td><td>61</td><td>106</td><td>13</td><td>6</td><td>22</td><td>53</td></tr>",
                            "<tr><td>1378</td><td>Mike Tauchman</td><td>NYY</td><td>87</td><td>260</td><td>46</td><td>72</td><td>18</td><td>1</td><td>13</td><td>47</td></tr>",
                            "<tr><td>1380</td><td>Beau Taylor</td><td>OAK</td><td>9</td><td>22</td><td>3</td><td>4</td><td>0</td><td>0</td><td>2</td><td>2</td></tr>",
                            "<tr><td>1383</td><td>Chris Taylor</td><td>LAD</td><td>124</td><td>366</td><td>52</td><td>96</td><td>29</td><td>4</td><td>12</td><td>52</td></tr>",
                            "<tr><td>1385</td><td>Michael A. Taylor</td><td>WSN</td><td>53</td><td>88</td><td>10</td><td>22</td><td>7</td><td>0</td><td>1</td><td>3</td></tr>",
                            "<tr><td>1386</td><td>Tyrone Taylor</td><td>MIL</td><td>15</td><td>10</td><td>1</td><td>4</td><td>2</td><td>0</td><td>0</td><td>1</td></tr>",
                            "<tr><td>1387</td><td>Julio Teheran</td><td>ATL</td><td>33</td><td>55</td><td>1</td><td>6</td><td>1</td><td>0</td><td>0</td><td>4</td></tr>",
                            "<tr><td>1389</td><td>Rowdy Tellez</td><td>TOR</td><td>111</td><td>370</td><td>49</td><td>84</td><td>19</td><td>0</td><td>21</td><td>54</td></tr>",
                            "<tr><td>1391</td><td>Matt Thaiss</td><td>LAA</td><td>53</td><td>147</td><td>17</td><td>31</td><td>7</td><td>0</td><td>8</td><td>23</td></tr>",
                            "<tr><td>1392</td><td>Eric Thames</td><td>MIL</td><td>149</td><td>396</td><td>67</td><td>98</td><td>23</td><td>2</td><td>25</td><td>61</td></tr>",
                            "<tr><td>1393</td><td>Lane Thomas</td><td>STL</td><td>34</td><td>38</td><td>6</td><td>12</td><td>0</td><td>1</td><td>4</td><td>12</td></tr>",
                            "<tr><td>1395</td><td>Trent Thornton</td><td>TOR</td><td>1</td><td>3</td><td>2</td><td>2</td><td>0</td><td>0</td><td>0</td><td>0</td></tr>",
                            "<tr><td>1396</td><td>Charlie Tilson</td><td>CHW</td><td>54</td><td>144</td><td>16</td><td>33</td><td>5</td><td>0</td><td>1</td><td>12</td></tr>",
                            "<tr><td>1397</td><td>Jesus Tinoco</td><td>COL</td><td>23</td><td>5</td><td>1</td><td>1</td><td>0</td><td>0</td><td>0</td><td>0</td></tr>",
                            "<tr><td>1400</td><td>Abraham Toro</td><td>HOU</td><td>25</td><td>78</td><td>13</td><td>17</td><td>3</td><td>2</td><td>2</td><td>9</td></tr>",
                            "<tr><td>1401</td><td>Luis Torrens</td><td>SDP</td><td>7</td><td>14</td><td>2</td><td>3</td><td>1</td><td>0</td><td>0</td><td>0</td></tr>",
                            "<tr><td>1402</td><td>Gleyber Torres</td><td>NYY</td><td>144</td><td>546</td><td>96</td><td>152</td><td>26</td><td>0</td><td>38</td><td>90</td></tr>",
                            "<tr><td>1403</td><td>Ronald Torreyes</td><td>MIN</td><td>7</td><td>16</td><td>3</td><td>3</td><td>0</td><td>0</td><td>0</td><td>1</td></tr>",
                            "<tr><td>1405</td><td>Wilfredo Tovar</td><td>LAA</td><td>31</td><td>83</td><td>5</td><td>16</td><td>5</td><td>0</td><td>0</td><td>5</td></tr>",
                            "<tr><td>1406</td><td>Sam Travis</td><td>BOS</td><td>59</td><td>144</td><td>17</td><td>31</td><td>4</td><td>1</td><td>6</td><td>16</td></tr>",
                            "<tr><td>1408</td><td>Jose Trevino</td><td>TEX</td><td>40</td><td>120</td><td>18</td><td>31</td><td>9</td><td>0</td><td>2</td><td>13</td></tr>",
                            "<tr><td>1410</td><td>Mike Trout</td><td>LAA</td><td>134</td><td>470</td><td>110</td><td>137</td><td>27</td><td>2</td><td>45</td><td>104</td></tr>",
                            "<tr><td>1411</td><td>Mark Trumbo</td><td>BAL</td><td>12</td><td>29</td><td>1</td><td>5</td><td>3</td><td>0</td><td>0</td><td>3</td></tr>",
                            "<tr><td>1412</td><td>Cole Tucker</td><td>PIT</td><td>56</td><td>147</td><td>16</td><td>31</td><td>10</td><td>3</td><td>2</td><td>13</td></tr>",
                            "<tr><td>1413</td><td>Kyle Tucker</td><td>HOU</td><td>22</td><td>67</td><td>15</td><td>18</td><td>6</td><td>0</td><td>4</td><td>11</td></tr>",
                            "<tr><td>1415</td><td>Troy Tulowitzki</td><td>NYY</td><td>5</td><td>11</td><td>1</td><td>2</td><td>1</td><td>0</td><td>1</td><td>1</td></tr>",
                            "<tr><td>1417</td><td>Justin Turner</td><td>LAD</td><td>135</td><td>479</td><td>80</td><td>139</td><td>24</td><td>0</td><td>27</td><td>67</td></tr>",
                            "<tr><td>1418</td><td>Trea Turner</td><td>WSN</td><td>122</td><td>521</td><td>96</td><td>155</td><td>37</td><td>5</td><td>19</td><td>57</td></tr>",
                            "<tr><td>1420</td><td>Justin Upton</td><td>LAA</td><td>63</td><td>219</td><td>34</td><td>47</td><td>8</td><td>0</td><td>12</td><td>40</td></tr>",
                            "<tr><td>1422</td><td>Richard Urena</td><td>TOR</td><td>30</td><td>74</td><td>4</td><td>18</td><td>6</td><td>0</td><td>0</td><td>4</td></tr>",
                            "<tr><td>1423</td><td>Julio Urias</td><td>LAD</td><td>35</td><td>12</td><td>0</td><td>3</td><td>0</td><td>0</td><td>0</td><td>2</td></tr>",
                            "<tr><td>1424</td><td>Luis Urias</td><td>SDP</td><td>71</td><td>215</td><td>27</td><td>48</td><td>8</td><td>1</td><td>4</td><td>24</td></tr>",
                            "<tr><td>1426</td><td>Gio Urshela</td><td>NYY</td><td>132</td><td>442</td><td>73</td><td>139</td><td>34</td><td>0</td><td>21</td><td>74</td></tr>",
                            "<tr><td>1427</td><td>Pat Valaika</td><td>COL</td><td>40</td><td>79</td><td>11</td><td>15</td><td>5</td><td>1</td><td>1</td><td>4</td></tr>",
                            "<tr><td>1429</td><td>Breyvic Valera</td><td>NYY</td><td>12</td><td>32</td><td>5</td><td>7</td><td>1</td><td>1</td><td>0</td><td>3</td></tr>",
                            "<tr><td>1430</td><td>Breyvic Valera</td><td>TOR</td><td>5</td><td>15</td><td>2</td><td>4</td><td>1</td><td>0</td><td>1</td><td>3</td></tr>",
                            "<tr><td>1431</td><td>Josh VanMeter</td><td>CIN</td><td>95</td><td>228</td><td>33</td><td>54</td><td>13</td><td>1</td><td>8</td><td>23</td></tr>",
                            "<tr><td>1432</td><td>Ildemaro Vargas</td><td>ARI</td><td>92</td><td>201</td><td>25</td><td>54</td><td>9</td><td>1</td><td>6</td><td>24</td></tr>",
                            "<tr><td>1434</td><td>Jason Vargas</td><td>NYM</td><td>17</td><td>28</td><td>0</td><td>2</td><td>0</td><td>0</td><td>0</td><td>0</td></tr>",
                            "<tr><td>1435</td><td>Jason Vargas</td><td>PHI</td><td>10</td><td>12</td><td>0</td><td>1</td><td>0</td><td>0</td><td>0</td><td>0</td></tr>",
                            "<tr><td>1437</td><td>Christian Vazquez</td><td>BOS</td><td>138</td><td>482</td><td>66</td><td>133</td><td>26</td><td>1</td><td>23</td><td>72</td></tr>",
                            "<tr><td>1439</td><td>Vince Velasquez</td><td>PHI</td><td>33</td><td>30</td><td>2</td><td>7</td><td>0</td><td>0</td><td>1</td><td>3</td></tr>",
                            "<tr><td>1441</td><td>Andrew Velazquez</td><td>TBR</td><td>10</td><td>12</td><td>2</td><td>1</td><td>1</td><td>0</td><td>0</td><td>0</td></tr>",
                            "<tr><td>1442</td><td>Andrew Velazquez</td><td>CLE</td><td>5</td><td>11</td><td>1</td><td>1</td><td>1</td><td>0</td><td>0</td><td>0</td></tr>",
                            "<tr><td>1448</td><td>Alex Verdugo</td><td>LAD</td><td>106</td><td>343</td><td>43</td><td>101</td><td>22</td><td>2</td><td>12</td><td>44</td></tr>",
                            "<tr><td>1452</td><td>Jonathan Villar</td><td>BAL</td><td>162</td><td>642</td><td>111</td><td>176</td><td>33</td><td>5</td><td>24</td><td>73</td></tr>",
                            "<tr><td>1453</td><td>Meibrys Viloria</td><td>KCR</td><td>42</td><td>133</td><td>7</td><td>28</td><td>7</td><td>0</td><td>1</td><td>15</td></tr>",
                            "<tr><td>1458</td><td>Daniel Vogelbach</td><td>SEA</td><td>144</td><td>462</td><td>73</td><td>96</td><td>17</td><td>0</td><td>30</td><td>76</td></tr>",
                            "<tr><td>1459</td><td>Stephen Vogt</td><td>SFG</td><td>99</td><td>255</td><td>30</td><td>67</td><td>24</td><td>2</td><td>10</td><td>40</td></tr>",
                            "<tr><td>1460</td><td>Luke Voit</td><td>NYY</td><td>118</td><td>429</td><td>72</td><td>113</td><td>21</td><td>1</td><td>21</td><td>62</td></tr>",
                            "<tr><td>1461</td><td>Austin Voth</td><td>WSN</td><td>7</td><td>9</td><td>0</td><td>1</td><td>0</td><td>0</td><td>0</td><td>1</td></tr>",
                            "<tr><td>1462</td><td>Joey Votto</td><td>CIN</td><td>142</td><td>525</td><td>79</td><td>137</td><td>32</td><td>1</td><td>15</td><td>47</td></tr>",
                            "<tr><td>1463</td><td>Michael Wacha</td><td>STL</td><td>28</td><td>36</td><td>3</td><td>6</td><td>1</td><td>0</td><td>0</td><td>3</td></tr>",
                            "<tr><td>1464</td><td>LaMonte Wade Jr</td><td>MIN</td><td>26</td><td>56</td><td>10</td><td>11</td><td>2</td><td>1</td><td>2</td><td>5</td></tr>",
                            "<tr><td>1465</td><td>Tyler Wade</td><td>NYY</td><td>43</td><td>94</td><td>16</td><td>23</td><td>3</td><td>1</td><td>2</td><td>11</td></tr>",
                            "<tr><td>1467</td><td>Adam Wainwright</td><td>STL</td><td>29</td><td>50</td><td>6</td><td>8</td><td>3</td><td>0</td><td>0</td><td>2</td></tr>",
                            "<tr><td>1470</td><td>Christian Walker</td><td>ARI</td><td>152</td><td>529</td><td>86</td><td>137</td><td>26</td><td>1</td><td>29</td><td>73</td></tr>",
                            "<tr><td>1472</td><td>Neil Walker</td><td>MIA</td><td>115</td><td>337</td><td>37</td><td>88</td><td>19</td><td>1</td><td>8</td><td>38</td></tr>",
                            "<tr><td>1474</td><td>Chad Wallach</td><td>MIA</td><td>19</td><td>48</td><td>4</td><td>12</td><td>3</td><td>0</td><td>1</td><td>3</td></tr>",
                            "<tr><td>1475</td><td>Jared Walsh</td><td>LAA</td><td>31</td><td>79</td><td>6</td><td>16</td><td>5</td><td>1</td><td>1</td><td>5</td></tr>",
                            "<tr><td>1476</td><td>Donovan Walton</td><td>SEA</td><td>7</td><td>16</td><td>2</td><td>3</td><td>0</td><td>0</td><td>0</td><td>2</td></tr>",
                            "<tr><td>1480</td><td>Taylor Ward</td><td>LAA</td><td>20</td><td>42</td><td>4</td><td>8</td><td>3</td><td>0</td><td>1</td><td>2</td></tr>",
                            "<tr><td>1483</td><td>Luke Weaver</td><td>ARI</td><td>13</td><td>19</td><td>2</td><td>2</td><td>0</td><td>0</td><td>1</td><td>4</td></tr>",
                            "<tr><td>1485</td><td>Logan Webb</td><td>SFG</td><td>7</td><td>9</td><td>0</td><td>1</td><td>0</td><td>0</td><td>0</td><td>0</td></tr>",
                            "<tr><td>1489</td><td>Joey Wendle</td><td>TBR</td><td>75</td><td>238</td><td>32</td><td>55</td><td>13</td><td>2</td><td>3</td><td>19</td></tr>",
                            "<tr><td>1490</td><td>Zack Wheeler</td><td>NYM</td><td>28</td><td>57</td><td>5</td><td>12</td><td>2</td><td>0</td><td>1</td><td>6</td></tr>",
                            "<tr><td>1492</td><td>Tyler White</td><td>HOU</td><td>71</td><td>218</td><td>16</td><td>49</td><td>14</td><td>0</td><td>3</td><td>21</td></tr>",
                            "<tr><td>1493</td><td>Tyler White</td><td>LAD</td><td>12</td><td>22</td><td>2</td><td>1</td><td>0</td><td>0</td><td>0</td><td>2</td></tr>",
                            "<tr><td>1498</td><td>Matt Wieters</td><td>STL</td><td>67</td><td>168</td><td>15</td><td>36</td><td>4</td><td>0</td><td>11</td><td>27</td></tr>",
                            "<tr><td>1499</td><td>Aaron Wilkerson</td><td>MIL</td><td>8</td><td>3</td><td>1</td><td>1</td><td>0</td><td>0</td><td>1</td><td>2</td></tr>",
                            "<tr><td>1500</td><td>Stevie Wilkerson</td><td>BAL</td><td>117</td><td>329</td><td>41</td><td>74</td><td>18</td><td>2</td><td>10</td><td>35</td></tr>",
                            "<tr><td>1503</td><td>Mason Williams</td><td>BAL</td><td>11</td><td>30</td><td>4</td><td>8</td><td>1</td><td>0</td><td>0</td><td>2</td></tr>",
                            "<tr><td>1504</td><td>Nick Williams</td><td>PHI</td><td>67</td><td>106</td><td>9</td><td>16</td><td>4</td><td>0</td><td>2</td><td>5</td></tr>",
                            "<tr><td>1506</td><td>Trevor Williams</td><td>PIT</td><td>23</td><td>36</td><td>2</td><td>6</td><td>0</td><td>0</td><td>0</td><td>4</td></tr>",
                            "<tr><td>1508</td><td>Mac Williamson</td><td>SFG</td><td>15</td><td>51</td><td>3</td><td>6</td><td>1</td><td>0</td><td>1</td><td>7</td></tr>",
                            "<tr><td>1509</td><td>Mac Williamson</td><td>SEA</td><td>25</td><td>77</td><td>10</td><td>14</td><td>0</td><td>0</td><td>3</td><td>10</td></tr>",
                            "<tr><td>1511</td><td>Bobby Wilson</td><td>DET</td><td>15</td><td>44</td><td>2</td><td>4</td><td>1</td><td>0</td><td>0</td><td>2</td></tr>",
                            "<tr><td>1512</td><td>Bryse Wilson</td><td>ATL</td><td>6</td><td>9</td><td>0</td><td>2</td><td>0</td><td>0</td><td>0</td><td>0</td></tr>",
                            "<tr><td>1515</td><td>Jesse Winker</td><td>CIN</td><td>113</td><td>338</td><td>51</td><td>91</td><td>17</td><td>2</td><td>16</td><td>38</td></tr>",
                            "<tr><td>1517</td><td>Patrick Wisdom</td><td>TEX</td><td>9</td><td>26</td><td>1</td><td>4</td><td>1</td><td>0</td><td>0</td><td>1</td></tr>",
                            "<tr><td>1523</td><td>Tony Wolters</td><td>COL</td><td>121</td><td>359</td><td>42</td><td>94</td><td>17</td><td>2</td><td>1</td><td>42</td></tr>",
                            "<tr><td>1525</td><td>Kean Wong</td><td>TBR</td><td>6</td><td>14</td><td>1</td><td>3</td><td>0</td><td>0</td><td>0</td><td>0</td></tr>",
                            "<tr><td>1527</td><td>Kolten Wong</td><td>STL</td><td>148</td><td>478</td><td>61</td><td>136</td><td>25</td><td>4</td><td>11</td><td>59</td></tr>",
                            "<tr><td>1528</td><td>Alex Wood</td><td>CIN</td><td>7</td><td>9</td><td>0</td><td>2</td><td>0</td><td>0</td><td>0</td><td>0</td></tr>",
                            "<tr><td>1531</td><td>Brandon Woodruff</td><td>MIL</td><td>25</td><td>45</td><td>1</td><td>12</td><td>4</td><td>0</td><td>0</td><td>4</td></tr>",
                            "<tr><td>1534</td><td>Austin Wynns</td><td>BAL</td><td>28</td><td>70</td><td>8</td><td>15</td><td>1</td><td>0</td><td>1</td><td>5</td></tr>",
                            "<tr><td>1536</td><td>Jordan Yamamoto</td><td>MIA</td><td>16</td><td>21</td><td>0</td><td>1</td><td>0</td><td>0</td><td>0</td><td>1</td></tr>",
                            "<tr><td>1539</td><td>Mike Yastrzemski</td><td>SFG</td><td>107</td><td>371</td><td>64</td><td>101</td><td>22</td><td>3</td><td>21</td><td>55</td></tr>",
                            "<tr><td>1541</td><td>Christian Yelich</td><td>MIL</td><td>130</td><td>489</td><td>100</td><td>161</td><td>29</td><td>3</td><td>44</td><td>97</td></tr>",
                            "<tr><td>1544</td><td>Alex Young</td><td>ARI</td><td>16</td><td>25</td><td>1</td><td>1</td><td>0</td><td>0</td><td>0</td><td>0</td></tr>",
                            "<tr><td>1545</td><td>Mark Zagunis</td><td>CHC</td><td>30</td><td>36</td><td>2</td><td>9</td><td>3</td><td>0</td><td>0</td><td>5</td></tr>",
                            "<tr><td>1547</td><td>Seby Zavala</td><td>CHW</td><td>5</td><td>12</td><td>1</td><td>1</td><td>0</td><td>0</td><td>0</td><td>0</td></tr>",
                            "<tr><td>1551</td><td>Ryan Zimmerman</td><td>WSN</td><td>52</td><td>171</td><td>20</td><td>44</td><td>9</td><td>0</td><td>6</td><td>27</td></tr>",
                            "<tr><td>1553</td><td>Ben Zobrist</td><td>CHC</td><td>47</td><td>150</td><td>24</td><td>39</td><td>5</td><td>0</td><td>1</td><td>17</td></tr>",
                            "<tr><td>1554</td><td>Mike Zunino</td><td>TBR</td><td>90</td><td>266</td><td>30</td><td>44</td><td>10</td><td>1</td><td>9</td><td>32</td></tr>",
                            "</table>"
                        ]
                    }
                }
            ],
            "execution_count": 2
        },
        {
            "cell_type": "code",
            "source": [
                "SELECT num, COUNT(*) as total_games_played\r\n",
                "from baseball\r\n",
                "GROUP BY num;"
            ],
            "metadata": {
                "language": "sql",
                "azdata_cell_guid": "b20d4f61-0c5e-4a32-87f6-1d64a045bb0b"
            },
            "outputs": [
                {
                    "output_type": "display_data",
                    "data": {
                        "text/html": "(823 row(s) affected)"
                    },
                    "metadata": {}
                },
                {
                    "output_type": "display_data",
                    "data": {
                        "text/html": "Total execution time: 00:00:01.065"
                    },
                    "metadata": {}
                },
                {
                    "output_type": "execute_result",
                    "metadata": {},
                    "execution_count": 6,
                    "data": {
                        "application/vnd.dataresource+json": {
                            "schema": {
                                "fields": [
                                    {
                                        "name": "num"
                                    },
                                    {
                                        "name": "total_games_played"
                                    }
                                ]
                            },
                            "data": [
                                {
                                    "num": "2",
                                    "total_games_played": "1"
                                },
                                {
                                    "num": "3",
                                    "total_games_played": "1"
                                },
                                {
                                    "num": "5",
                                    "total_games_played": "1"
                                },
                                {
                                    "num": "6",
                                    "total_games_played": "1"
                                },
                                {
                                    "num": "12",
                                    "total_games_played": "1"
                                },
                                {
                                    "num": "14",
                                    "total_games_played": "1"
                                },
                                {
                                    "num": "15",
                                    "total_games_played": "1"
                                },
                                {
                                    "num": "17",
                                    "total_games_played": "1"
                                },
                                {
                                    "num": "18",
                                    "total_games_played": "1"
                                },
                                {
                                    "num": "19",
                                    "total_games_played": "1"
                                },
                                {
                                    "num": "21",
                                    "total_games_played": "1"
                                },
                                {
                                    "num": "23",
                                    "total_games_played": "1"
                                },
                                {
                                    "num": "24",
                                    "total_games_played": "1"
                                },
                                {
                                    "num": "25",
                                    "total_games_played": "1"
                                },
                                {
                                    "num": "28",
                                    "total_games_played": "1"
                                },
                                {
                                    "num": "29",
                                    "total_games_played": "1"
                                },
                                {
                                    "num": "31",
                                    "total_games_played": "1"
                                },
                                {
                                    "num": "33",
                                    "total_games_played": "1"
                                },
                                {
                                    "num": "35",
                                    "total_games_played": "1"
                                },
                                {
                                    "num": "36",
                                    "total_games_played": "1"
                                },
                                {
                                    "num": "38",
                                    "total_games_played": "1"
                                },
                                {
                                    "num": "39",
                                    "total_games_played": "1"
                                },
                                {
                                    "num": "41",
                                    "total_games_played": "1"
                                },
                                {
                                    "num": "42",
                                    "total_games_played": "1"
                                },
                                {
                                    "num": "45",
                                    "total_games_played": "1"
                                },
                                {
                                    "num": "47",
                                    "total_games_played": "1"
                                },
                                {
                                    "num": "48",
                                    "total_games_played": "1"
                                },
                                {
                                    "num": "51",
                                    "total_games_played": "1"
                                },
                                {
                                    "num": "53",
                                    "total_games_played": "1"
                                },
                                {
                                    "num": "54",
                                    "total_games_played": "1"
                                },
                                {
                                    "num": "55",
                                    "total_games_played": "1"
                                },
                                {
                                    "num": "61",
                                    "total_games_played": "1"
                                },
                                {
                                    "num": "63",
                                    "total_games_played": "1"
                                },
                                {
                                    "num": "64",
                                    "total_games_played": "1"
                                },
                                {
                                    "num": "66",
                                    "total_games_played": "1"
                                },
                                {
                                    "num": "67",
                                    "total_games_played": "1"
                                },
                                {
                                    "num": "68",
                                    "total_games_played": "1"
                                },
                                {
                                    "num": "70",
                                    "total_games_played": "1"
                                },
                                {
                                    "num": "71",
                                    "total_games_played": "1"
                                },
                                {
                                    "num": "72",
                                    "total_games_played": "1"
                                },
                                {
                                    "num": "75",
                                    "total_games_played": "1"
                                },
                                {
                                    "num": "76",
                                    "total_games_played": "1"
                                },
                                {
                                    "num": "77",
                                    "total_games_played": "1"
                                },
                                {
                                    "num": "78",
                                    "total_games_played": "1"
                                },
                                {
                                    "num": "79",
                                    "total_games_played": "1"
                                },
                                {
                                    "num": "80",
                                    "total_games_played": "1"
                                },
                                {
                                    "num": "83",
                                    "total_games_played": "1"
                                },
                                {
                                    "num": "84",
                                    "total_games_played": "1"
                                },
                                {
                                    "num": "85",
                                    "total_games_played": "1"
                                },
                                {
                                    "num": "86",
                                    "total_games_played": "1"
                                },
                                {
                                    "num": "87",
                                    "total_games_played": "1"
                                },
                                {
                                    "num": "90",
                                    "total_games_played": "1"
                                },
                                {
                                    "num": "91",
                                    "total_games_played": "1"
                                },
                                {
                                    "num": "96",
                                    "total_games_played": "1"
                                },
                                {
                                    "num": "100",
                                    "total_games_played": "1"
                                },
                                {
                                    "num": "106",
                                    "total_games_played": "1"
                                },
                                {
                                    "num": "107",
                                    "total_games_played": "1"
                                },
                                {
                                    "num": "112",
                                    "total_games_played": "1"
                                },
                                {
                                    "num": "119",
                                    "total_games_played": "1"
                                },
                                {
                                    "num": "120",
                                    "total_games_played": "1"
                                },
                                {
                                    "num": "121",
                                    "total_games_played": "1"
                                },
                                {
                                    "num": "122",
                                    "total_games_played": "1"
                                },
                                {
                                    "num": "123",
                                    "total_games_played": "1"
                                },
                                {
                                    "num": "124",
                                    "total_games_played": "1"
                                },
                                {
                                    "num": "127",
                                    "total_games_played": "1"
                                },
                                {
                                    "num": "129",
                                    "total_games_played": "1"
                                },
                                {
                                    "num": "130",
                                    "total_games_played": "1"
                                },
                                {
                                    "num": "131",
                                    "total_games_played": "1"
                                },
                                {
                                    "num": "133",
                                    "total_games_played": "1"
                                },
                                {
                                    "num": "134",
                                    "total_games_played": "1"
                                },
                                {
                                    "num": "135",
                                    "total_games_played": "1"
                                },
                                {
                                    "num": "138",
                                    "total_games_played": "1"
                                },
                                {
                                    "num": "140",
                                    "total_games_played": "1"
                                },
                                {
                                    "num": "144",
                                    "total_games_played": "1"
                                },
                                {
                                    "num": "148",
                                    "total_games_played": "1"
                                },
                                {
                                    "num": "149",
                                    "total_games_played": "1"
                                },
                                {
                                    "num": "151",
                                    "total_games_played": "1"
                                },
                                {
                                    "num": "157",
                                    "total_games_played": "1"
                                },
                                {
                                    "num": "158",
                                    "total_games_played": "1"
                                },
                                {
                                    "num": "162",
                                    "total_games_played": "1"
                                },
                                {
                                    "num": "164",
                                    "total_games_played": "1"
                                },
                                {
                                    "num": "165",
                                    "total_games_played": "1"
                                },
                                {
                                    "num": "167",
                                    "total_games_played": "1"
                                },
                                {
                                    "num": "168",
                                    "total_games_played": "1"
                                },
                                {
                                    "num": "169",
                                    "total_games_played": "1"
                                },
                                {
                                    "num": "173",
                                    "total_games_played": "1"
                                },
                                {
                                    "num": "175",
                                    "total_games_played": "1"
                                },
                                {
                                    "num": "179",
                                    "total_games_played": "1"
                                },
                                {
                                    "num": "180",
                                    "total_games_played": "1"
                                },
                                {
                                    "num": "181",
                                    "total_games_played": "1"
                                },
                                {
                                    "num": "184",
                                    "total_games_played": "1"
                                },
                                {
                                    "num": "185",
                                    "total_games_played": "1"
                                },
                                {
                                    "num": "186",
                                    "total_games_played": "1"
                                },
                                {
                                    "num": "187",
                                    "total_games_played": "1"
                                },
                                {
                                    "num": "192",
                                    "total_games_played": "1"
                                },
                                {
                                    "num": "193",
                                    "total_games_played": "1"
                                },
                                {
                                    "num": "197",
                                    "total_games_played": "1"
                                },
                                {
                                    "num": "198",
                                    "total_games_played": "1"
                                },
                                {
                                    "num": "201",
                                    "total_games_played": "1"
                                },
                                {
                                    "num": "202",
                                    "total_games_played": "1"
                                },
                                {
                                    "num": "203",
                                    "total_games_played": "1"
                                },
                                {
                                    "num": "205",
                                    "total_games_played": "1"
                                },
                                {
                                    "num": "206",
                                    "total_games_played": "1"
                                },
                                {
                                    "num": "207",
                                    "total_games_played": "1"
                                },
                                {
                                    "num": "209",
                                    "total_games_played": "1"
                                },
                                {
                                    "num": "210",
                                    "total_games_played": "1"
                                },
                                {
                                    "num": "214",
                                    "total_games_played": "1"
                                },
                                {
                                    "num": "215",
                                    "total_games_played": "1"
                                },
                                {
                                    "num": "217",
                                    "total_games_played": "1"
                                },
                                {
                                    "num": "219",
                                    "total_games_played": "1"
                                },
                                {
                                    "num": "220",
                                    "total_games_played": "1"
                                },
                                {
                                    "num": "222",
                                    "total_games_played": "1"
                                },
                                {
                                    "num": "223",
                                    "total_games_played": "1"
                                },
                                {
                                    "num": "224",
                                    "total_games_played": "1"
                                },
                                {
                                    "num": "225",
                                    "total_games_played": "1"
                                },
                                {
                                    "num": "226",
                                    "total_games_played": "1"
                                },
                                {
                                    "num": "227",
                                    "total_games_played": "1"
                                },
                                {
                                    "num": "228",
                                    "total_games_played": "1"
                                },
                                {
                                    "num": "229",
                                    "total_games_played": "1"
                                },
                                {
                                    "num": "230",
                                    "total_games_played": "1"
                                },
                                {
                                    "num": "232",
                                    "total_games_played": "1"
                                },
                                {
                                    "num": "234",
                                    "total_games_played": "1"
                                },
                                {
                                    "num": "236",
                                    "total_games_played": "1"
                                },
                                {
                                    "num": "239",
                                    "total_games_played": "1"
                                },
                                {
                                    "num": "244",
                                    "total_games_played": "1"
                                },
                                {
                                    "num": "245",
                                    "total_games_played": "1"
                                },
                                {
                                    "num": "248",
                                    "total_games_played": "1"
                                },
                                {
                                    "num": "249",
                                    "total_games_played": "1"
                                },
                                {
                                    "num": "250",
                                    "total_games_played": "1"
                                },
                                {
                                    "num": "251",
                                    "total_games_played": "1"
                                },
                                {
                                    "num": "252",
                                    "total_games_played": "1"
                                },
                                {
                                    "num": "254",
                                    "total_games_played": "1"
                                },
                                {
                                    "num": "255",
                                    "total_games_played": "1"
                                },
                                {
                                    "num": "256",
                                    "total_games_played": "1"
                                },
                                {
                                    "num": "258",
                                    "total_games_played": "1"
                                },
                                {
                                    "num": "260",
                                    "total_games_played": "1"
                                },
                                {
                                    "num": "261",
                                    "total_games_played": "1"
                                },
                                {
                                    "num": "264",
                                    "total_games_played": "1"
                                },
                                {
                                    "num": "266",
                                    "total_games_played": "1"
                                },
                                {
                                    "num": "268",
                                    "total_games_played": "1"
                                },
                                {
                                    "num": "270",
                                    "total_games_played": "1"
                                },
                                {
                                    "num": "271",
                                    "total_games_played": "1"
                                },
                                {
                                    "num": "272",
                                    "total_games_played": "1"
                                },
                                {
                                    "num": "274",
                                    "total_games_played": "1"
                                },
                                {
                                    "num": "276",
                                    "total_games_played": "1"
                                },
                                {
                                    "num": "277",
                                    "total_games_played": "1"
                                },
                                {
                                    "num": "280",
                                    "total_games_played": "1"
                                },
                                {
                                    "num": "282",
                                    "total_games_played": "1"
                                },
                                {
                                    "num": "290",
                                    "total_games_played": "1"
                                },
                                {
                                    "num": "292",
                                    "total_games_played": "1"
                                },
                                {
                                    "num": "293",
                                    "total_games_played": "1"
                                },
                                {
                                    "num": "295",
                                    "total_games_played": "1"
                                },
                                {
                                    "num": "297",
                                    "total_games_played": "1"
                                },
                                {
                                    "num": "298",
                                    "total_games_played": "1"
                                },
                                {
                                    "num": "299",
                                    "total_games_played": "1"
                                },
                                {
                                    "num": "300",
                                    "total_games_played": "1"
                                },
                                {
                                    "num": "303",
                                    "total_games_played": "1"
                                },
                                {
                                    "num": "305",
                                    "total_games_played": "1"
                                },
                                {
                                    "num": "307",
                                    "total_games_played": "1"
                                },
                                {
                                    "num": "308",
                                    "total_games_played": "1"
                                },
                                {
                                    "num": "310",
                                    "total_games_played": "1"
                                },
                                {
                                    "num": "311",
                                    "total_games_played": "1"
                                },
                                {
                                    "num": "314",
                                    "total_games_played": "1"
                                },
                                {
                                    "num": "315",
                                    "total_games_played": "1"
                                },
                                {
                                    "num": "316",
                                    "total_games_played": "1"
                                },
                                {
                                    "num": "319",
                                    "total_games_played": "1"
                                },
                                {
                                    "num": "320",
                                    "total_games_played": "1"
                                },
                                {
                                    "num": "323",
                                    "total_games_played": "1"
                                },
                                {
                                    "num": "325",
                                    "total_games_played": "1"
                                },
                                {
                                    "num": "326",
                                    "total_games_played": "1"
                                },
                                {
                                    "num": "327",
                                    "total_games_played": "1"
                                },
                                {
                                    "num": "328",
                                    "total_games_played": "1"
                                },
                                {
                                    "num": "330",
                                    "total_games_played": "1"
                                },
                                {
                                    "num": "331",
                                    "total_games_played": "1"
                                },
                                {
                                    "num": "332",
                                    "total_games_played": "1"
                                },
                                {
                                    "num": "333",
                                    "total_games_played": "1"
                                },
                                {
                                    "num": "334",
                                    "total_games_played": "1"
                                },
                                {
                                    "num": "335",
                                    "total_games_played": "1"
                                },
                                {
                                    "num": "336",
                                    "total_games_played": "1"
                                },
                                {
                                    "num": "338",
                                    "total_games_played": "1"
                                },
                                {
                                    "num": "341",
                                    "total_games_played": "1"
                                },
                                {
                                    "num": "345",
                                    "total_games_played": "1"
                                },
                                {
                                    "num": "346",
                                    "total_games_played": "1"
                                },
                                {
                                    "num": "347",
                                    "total_games_played": "1"
                                },
                                {
                                    "num": "348",
                                    "total_games_played": "1"
                                },
                                {
                                    "num": "349",
                                    "total_games_played": "1"
                                },
                                {
                                    "num": "350",
                                    "total_games_played": "1"
                                },
                                {
                                    "num": "351",
                                    "total_games_played": "1"
                                },
                                {
                                    "num": "352",
                                    "total_games_played": "1"
                                },
                                {
                                    "num": "353",
                                    "total_games_played": "1"
                                },
                                {
                                    "num": "356",
                                    "total_games_played": "1"
                                },
                                {
                                    "num": "357",
                                    "total_games_played": "1"
                                },
                                {
                                    "num": "359",
                                    "total_games_played": "1"
                                },
                                {
                                    "num": "360",
                                    "total_games_played": "1"
                                },
                                {
                                    "num": "363",
                                    "total_games_played": "1"
                                },
                                {
                                    "num": "365",
                                    "total_games_played": "1"
                                },
                                {
                                    "num": "366",
                                    "total_games_played": "1"
                                },
                                {
                                    "num": "368",
                                    "total_games_played": "1"
                                },
                                {
                                    "num": "369",
                                    "total_games_played": "1"
                                },
                                {
                                    "num": "374",
                                    "total_games_played": "1"
                                },
                                {
                                    "num": "375",
                                    "total_games_played": "1"
                                },
                                {
                                    "num": "376",
                                    "total_games_played": "1"
                                },
                                {
                                    "num": "377",
                                    "total_games_played": "1"
                                },
                                {
                                    "num": "379",
                                    "total_games_played": "1"
                                },
                                {
                                    "num": "382",
                                    "total_games_played": "1"
                                },
                                {
                                    "num": "383",
                                    "total_games_played": "1"
                                },
                                {
                                    "num": "384",
                                    "total_games_played": "1"
                                },
                                {
                                    "num": "385",
                                    "total_games_played": "1"
                                },
                                {
                                    "num": "388",
                                    "total_games_played": "1"
                                },
                                {
                                    "num": "389",
                                    "total_games_played": "1"
                                },
                                {
                                    "num": "391",
                                    "total_games_played": "1"
                                },
                                {
                                    "num": "392",
                                    "total_games_played": "1"
                                },
                                {
                                    "num": "393",
                                    "total_games_played": "1"
                                },
                                {
                                    "num": "398",
                                    "total_games_played": "1"
                                },
                                {
                                    "num": "399",
                                    "total_games_played": "1"
                                },
                                {
                                    "num": "400",
                                    "total_games_played": "1"
                                },
                                {
                                    "num": "401",
                                    "total_games_played": "1"
                                },
                                {
                                    "num": "405",
                                    "total_games_played": "1"
                                },
                                {
                                    "num": "406",
                                    "total_games_played": "1"
                                },
                                {
                                    "num": "410",
                                    "total_games_played": "1"
                                },
                                {
                                    "num": "415",
                                    "total_games_played": "1"
                                },
                                {
                                    "num": "417",
                                    "total_games_played": "1"
                                },
                                {
                                    "num": "418",
                                    "total_games_played": "1"
                                },
                                {
                                    "num": "419",
                                    "total_games_played": "1"
                                },
                                {
                                    "num": "422",
                                    "total_games_played": "1"
                                },
                                {
                                    "num": "423",
                                    "total_games_played": "1"
                                },
                                {
                                    "num": "427",
                                    "total_games_played": "1"
                                },
                                {
                                    "num": "435",
                                    "total_games_played": "1"
                                },
                                {
                                    "num": "436",
                                    "total_games_played": "1"
                                },
                                {
                                    "num": "437",
                                    "total_games_played": "1"
                                },
                                {
                                    "num": "439",
                                    "total_games_played": "1"
                                },
                                {
                                    "num": "444",
                                    "total_games_played": "1"
                                },
                                {
                                    "num": "445",
                                    "total_games_played": "1"
                                },
                                {
                                    "num": "446",
                                    "total_games_played": "1"
                                },
                                {
                                    "num": "447",
                                    "total_games_played": "1"
                                },
                                {
                                    "num": "448",
                                    "total_games_played": "1"
                                },
                                {
                                    "num": "449",
                                    "total_games_played": "1"
                                },
                                {
                                    "num": "450",
                                    "total_games_played": "1"
                                },
                                {
                                    "num": "452",
                                    "total_games_played": "1"
                                },
                                {
                                    "num": "454",
                                    "total_games_played": "1"
                                },
                                {
                                    "num": "459",
                                    "total_games_played": "1"
                                },
                                {
                                    "num": "460",
                                    "total_games_played": "1"
                                },
                                {
                                    "num": "461",
                                    "total_games_played": "1"
                                },
                                {
                                    "num": "462",
                                    "total_games_played": "1"
                                },
                                {
                                    "num": "463",
                                    "total_games_played": "1"
                                },
                                {
                                    "num": "464",
                                    "total_games_played": "1"
                                },
                                {
                                    "num": "466",
                                    "total_games_played": "1"
                                },
                                {
                                    "num": "467",
                                    "total_games_played": "1"
                                },
                                {
                                    "num": "468",
                                    "total_games_played": "1"
                                },
                                {
                                    "num": "469",
                                    "total_games_played": "1"
                                },
                                {
                                    "num": "470",
                                    "total_games_played": "1"
                                },
                                {
                                    "num": "471",
                                    "total_games_played": "1"
                                },
                                {
                                    "num": "472",
                                    "total_games_played": "1"
                                },
                                {
                                    "num": "473",
                                    "total_games_played": "1"
                                },
                                {
                                    "num": "476",
                                    "total_games_played": "1"
                                },
                                {
                                    "num": "477",
                                    "total_games_played": "1"
                                },
                                {
                                    "num": "480",
                                    "total_games_played": "1"
                                },
                                {
                                    "num": "482",
                                    "total_games_played": "1"
                                },
                                {
                                    "num": "483",
                                    "total_games_played": "1"
                                },
                                {
                                    "num": "484",
                                    "total_games_played": "1"
                                },
                                {
                                    "num": "487",
                                    "total_games_played": "1"
                                },
                                {
                                    "num": "488",
                                    "total_games_played": "1"
                                },
                                {
                                    "num": "489",
                                    "total_games_played": "1"
                                },
                                {
                                    "num": "490",
                                    "total_games_played": "1"
                                },
                                {
                                    "num": "492",
                                    "total_games_played": "1"
                                },
                                {
                                    "num": "493",
                                    "total_games_played": "1"
                                },
                                {
                                    "num": "494",
                                    "total_games_played": "1"
                                },
                                {
                                    "num": "496",
                                    "total_games_played": "1"
                                },
                                {
                                    "num": "497",
                                    "total_games_played": "1"
                                },
                                {
                                    "num": "499",
                                    "total_games_played": "1"
                                },
                                {
                                    "num": "501",
                                    "total_games_played": "1"
                                },
                                {
                                    "num": "504",
                                    "total_games_played": "1"
                                },
                                {
                                    "num": "506",
                                    "total_games_played": "1"
                                },
                                {
                                    "num": "507",
                                    "total_games_played": "1"
                                },
                                {
                                    "num": "509",
                                    "total_games_played": "1"
                                },
                                {
                                    "num": "510",
                                    "total_games_played": "1"
                                },
                                {
                                    "num": "512",
                                    "total_games_played": "1"
                                },
                                {
                                    "num": "514",
                                    "total_games_played": "1"
                                },
                                {
                                    "num": "521",
                                    "total_games_played": "1"
                                },
                                {
                                    "num": "522",
                                    "total_games_played": "1"
                                },
                                {
                                    "num": "523",
                                    "total_games_played": "1"
                                },
                                {
                                    "num": "528",
                                    "total_games_played": "1"
                                },
                                {
                                    "num": "532",
                                    "total_games_played": "1"
                                },
                                {
                                    "num": "534",
                                    "total_games_played": "1"
                                },
                                {
                                    "num": "535",
                                    "total_games_played": "1"
                                },
                                {
                                    "num": "536",
                                    "total_games_played": "1"
                                },
                                {
                                    "num": "537",
                                    "total_games_played": "1"
                                },
                                {
                                    "num": "538",
                                    "total_games_played": "1"
                                },
                                {
                                    "num": "539",
                                    "total_games_played": "1"
                                },
                                {
                                    "num": "541",
                                    "total_games_played": "1"
                                },
                                {
                                    "num": "542",
                                    "total_games_played": "1"
                                },
                                {
                                    "num": "543",
                                    "total_games_played": "1"
                                },
                                {
                                    "num": "544",
                                    "total_games_played": "1"
                                },
                                {
                                    "num": "545",
                                    "total_games_played": "1"
                                },
                                {
                                    "num": "546",
                                    "total_games_played": "1"
                                },
                                {
                                    "num": "547",
                                    "total_games_played": "1"
                                },
                                {
                                    "num": "548",
                                    "total_games_played": "1"
                                },
                                {
                                    "num": "550",
                                    "total_games_played": "1"
                                },
                                {
                                    "num": "551",
                                    "total_games_played": "1"
                                },
                                {
                                    "num": "552",
                                    "total_games_played": "1"
                                },
                                {
                                    "num": "553",
                                    "total_games_played": "1"
                                },
                                {
                                    "num": "556",
                                    "total_games_played": "1"
                                },
                                {
                                    "num": "557",
                                    "total_games_played": "1"
                                },
                                {
                                    "num": "558",
                                    "total_games_played": "1"
                                },
                                {
                                    "num": "559",
                                    "total_games_played": "1"
                                },
                                {
                                    "num": "560",
                                    "total_games_played": "1"
                                },
                                {
                                    "num": "562",
                                    "total_games_played": "1"
                                },
                                {
                                    "num": "567",
                                    "total_games_played": "1"
                                },
                                {
                                    "num": "568",
                                    "total_games_played": "1"
                                },
                                {
                                    "num": "570",
                                    "total_games_played": "1"
                                },
                                {
                                    "num": "571",
                                    "total_games_played": "1"
                                },
                                {
                                    "num": "572",
                                    "total_games_played": "1"
                                },
                                {
                                    "num": "573",
                                    "total_games_played": "1"
                                },
                                {
                                    "num": "574",
                                    "total_games_played": "1"
                                },
                                {
                                    "num": "576",
                                    "total_games_played": "1"
                                },
                                {
                                    "num": "582",
                                    "total_games_played": "1"
                                },
                                {
                                    "num": "584",
                                    "total_games_played": "1"
                                },
                                {
                                    "num": "587",
                                    "total_games_played": "1"
                                },
                                {
                                    "num": "588",
                                    "total_games_played": "1"
                                },
                                {
                                    "num": "589",
                                    "total_games_played": "1"
                                },
                                {
                                    "num": "591",
                                    "total_games_played": "1"
                                },
                                {
                                    "num": "592",
                                    "total_games_played": "1"
                                },
                                {
                                    "num": "594",
                                    "total_games_played": "1"
                                },
                                {
                                    "num": "595",
                                    "total_games_played": "1"
                                },
                                {
                                    "num": "596",
                                    "total_games_played": "1"
                                },
                                {
                                    "num": "600",
                                    "total_games_played": "1"
                                },
                                {
                                    "num": "602",
                                    "total_games_played": "1"
                                },
                                {
                                    "num": "603",
                                    "total_games_played": "1"
                                },
                                {
                                    "num": "605",
                                    "total_games_played": "1"
                                },
                                {
                                    "num": "607",
                                    "total_games_played": "1"
                                },
                                {
                                    "num": "608",
                                    "total_games_played": "1"
                                },
                                {
                                    "num": "609",
                                    "total_games_played": "1"
                                },
                                {
                                    "num": "612",
                                    "total_games_played": "1"
                                },
                                {
                                    "num": "615",
                                    "total_games_played": "1"
                                },
                                {
                                    "num": "624",
                                    "total_games_played": "1"
                                },
                                {
                                    "num": "625",
                                    "total_games_played": "1"
                                },
                                {
                                    "num": "626",
                                    "total_games_played": "1"
                                },
                                {
                                    "num": "628",
                                    "total_games_played": "1"
                                },
                                {
                                    "num": "629",
                                    "total_games_played": "1"
                                },
                                {
                                    "num": "630",
                                    "total_games_played": "1"
                                },
                                {
                                    "num": "631",
                                    "total_games_played": "1"
                                },
                                {
                                    "num": "632",
                                    "total_games_played": "1"
                                },
                                {
                                    "num": "633",
                                    "total_games_played": "1"
                                },
                                {
                                    "num": "634",
                                    "total_games_played": "1"
                                },
                                {
                                    "num": "635",
                                    "total_games_played": "1"
                                },
                                {
                                    "num": "637",
                                    "total_games_played": "1"
                                },
                                {
                                    "num": "639",
                                    "total_games_played": "1"
                                },
                                {
                                    "num": "640",
                                    "total_games_played": "1"
                                },
                                {
                                    "num": "643",
                                    "total_games_played": "1"
                                },
                                {
                                    "num": "644",
                                    "total_games_played": "1"
                                },
                                {
                                    "num": "646",
                                    "total_games_played": "1"
                                },
                                {
                                    "num": "647",
                                    "total_games_played": "1"
                                },
                                {
                                    "num": "648",
                                    "total_games_played": "1"
                                },
                                {
                                    "num": "650",
                                    "total_games_played": "1"
                                },
                                {
                                    "num": "651",
                                    "total_games_played": "1"
                                },
                                {
                                    "num": "652",
                                    "total_games_played": "1"
                                },
                                {
                                    "num": "654",
                                    "total_games_played": "1"
                                },
                                {
                                    "num": "655",
                                    "total_games_played": "1"
                                },
                                {
                                    "num": "656",
                                    "total_games_played": "1"
                                },
                                {
                                    "num": "658",
                                    "total_games_played": "1"
                                },
                                {
                                    "num": "660",
                                    "total_games_played": "1"
                                },
                                {
                                    "num": "662",
                                    "total_games_played": "1"
                                },
                                {
                                    "num": "664",
                                    "total_games_played": "1"
                                },
                                {
                                    "num": "665",
                                    "total_games_played": "1"
                                },
                                {
                                    "num": "666",
                                    "total_games_played": "1"
                                },
                                {
                                    "num": "667",
                                    "total_games_played": "1"
                                },
                                {
                                    "num": "670",
                                    "total_games_played": "1"
                                },
                                {
                                    "num": "674",
                                    "total_games_played": "1"
                                },
                                {
                                    "num": "675",
                                    "total_games_played": "1"
                                },
                                {
                                    "num": "676",
                                    "total_games_played": "1"
                                },
                                {
                                    "num": "677",
                                    "total_games_played": "1"
                                },
                                {
                                    "num": "680",
                                    "total_games_played": "1"
                                },
                                {
                                    "num": "689",
                                    "total_games_played": "1"
                                },
                                {
                                    "num": "691",
                                    "total_games_played": "1"
                                },
                                {
                                    "num": "692",
                                    "total_games_played": "1"
                                },
                                {
                                    "num": "694",
                                    "total_games_played": "1"
                                },
                                {
                                    "num": "695",
                                    "total_games_played": "1"
                                },
                                {
                                    "num": "703",
                                    "total_games_played": "1"
                                },
                                {
                                    "num": "704",
                                    "total_games_played": "1"
                                },
                                {
                                    "num": "706",
                                    "total_games_played": "1"
                                },
                                {
                                    "num": "713",
                                    "total_games_played": "1"
                                },
                                {
                                    "num": "715",
                                    "total_games_played": "1"
                                },
                                {
                                    "num": "718",
                                    "total_games_played": "1"
                                },
                                {
                                    "num": "719",
                                    "total_games_played": "1"
                                },
                                {
                                    "num": "720",
                                    "total_games_played": "1"
                                },
                                {
                                    "num": "723",
                                    "total_games_played": "1"
                                },
                                {
                                    "num": "724",
                                    "total_games_played": "1"
                                },
                                {
                                    "num": "725",
                                    "total_games_played": "1"
                                },
                                {
                                    "num": "726",
                                    "total_games_played": "1"
                                },
                                {
                                    "num": "727",
                                    "total_games_played": "1"
                                },
                                {
                                    "num": "731",
                                    "total_games_played": "1"
                                },
                                {
                                    "num": "734",
                                    "total_games_played": "1"
                                },
                                {
                                    "num": "738",
                                    "total_games_played": "1"
                                },
                                {
                                    "num": "740",
                                    "total_games_played": "1"
                                },
                                {
                                    "num": "741",
                                    "total_games_played": "1"
                                },
                                {
                                    "num": "743",
                                    "total_games_played": "1"
                                },
                                {
                                    "num": "744",
                                    "total_games_played": "1"
                                },
                                {
                                    "num": "745",
                                    "total_games_played": "1"
                                },
                                {
                                    "num": "747",
                                    "total_games_played": "1"
                                },
                                {
                                    "num": "748",
                                    "total_games_played": "1"
                                },
                                {
                                    "num": "749",
                                    "total_games_played": "1"
                                },
                                {
                                    "num": "750",
                                    "total_games_played": "1"
                                },
                                {
                                    "num": "751",
                                    "total_games_played": "1"
                                },
                                {
                                    "num": "754",
                                    "total_games_played": "1"
                                },
                                {
                                    "num": "755",
                                    "total_games_played": "1"
                                },
                                {
                                    "num": "759",
                                    "total_games_played": "1"
                                },
                                {
                                    "num": "761",
                                    "total_games_played": "1"
                                },
                                {
                                    "num": "765",
                                    "total_games_played": "1"
                                },
                                {
                                    "num": "766",
                                    "total_games_played": "1"
                                },
                                {
                                    "num": "771",
                                    "total_games_played": "1"
                                },
                                {
                                    "num": "773",
                                    "total_games_played": "1"
                                },
                                {
                                    "num": "774",
                                    "total_games_played": "1"
                                },
                                {
                                    "num": "776",
                                    "total_games_played": "1"
                                },
                                {
                                    "num": "777",
                                    "total_games_played": "1"
                                },
                                {
                                    "num": "778",
                                    "total_games_played": "1"
                                },
                                {
                                    "num": "779",
                                    "total_games_played": "1"
                                },
                                {
                                    "num": "780",
                                    "total_games_played": "1"
                                },
                                {
                                    "num": "781",
                                    "total_games_played": "1"
                                },
                                {
                                    "num": "782",
                                    "total_games_played": "1"
                                },
                                {
                                    "num": "783",
                                    "total_games_played": "1"
                                },
                                {
                                    "num": "784",
                                    "total_games_played": "1"
                                },
                                {
                                    "num": "788",
                                    "total_games_played": "1"
                                },
                                {
                                    "num": "791",
                                    "total_games_played": "1"
                                },
                                {
                                    "num": "792",
                                    "total_games_played": "1"
                                },
                                {
                                    "num": "794",
                                    "total_games_played": "1"
                                },
                                {
                                    "num": "795",
                                    "total_games_played": "1"
                                },
                                {
                                    "num": "796",
                                    "total_games_played": "1"
                                },
                                {
                                    "num": "797",
                                    "total_games_played": "1"
                                },
                                {
                                    "num": "798",
                                    "total_games_played": "1"
                                },
                                {
                                    "num": "799",
                                    "total_games_played": "1"
                                },
                                {
                                    "num": "801",
                                    "total_games_played": "1"
                                },
                                {
                                    "num": "802",
                                    "total_games_played": "1"
                                },
                                {
                                    "num": "803",
                                    "total_games_played": "1"
                                },
                                {
                                    "num": "804",
                                    "total_games_played": "1"
                                },
                                {
                                    "num": "805",
                                    "total_games_played": "1"
                                },
                                {
                                    "num": "807",
                                    "total_games_played": "1"
                                },
                                {
                                    "num": "808",
                                    "total_games_played": "1"
                                },
                                {
                                    "num": "811",
                                    "total_games_played": "1"
                                },
                                {
                                    "num": "814",
                                    "total_games_played": "1"
                                },
                                {
                                    "num": "815",
                                    "total_games_played": "1"
                                },
                                {
                                    "num": "818",
                                    "total_games_played": "1"
                                },
                                {
                                    "num": "821",
                                    "total_games_played": "1"
                                },
                                {
                                    "num": "822",
                                    "total_games_played": "1"
                                },
                                {
                                    "num": "823",
                                    "total_games_played": "1"
                                },
                                {
                                    "num": "824",
                                    "total_games_played": "1"
                                },
                                {
                                    "num": "825",
                                    "total_games_played": "1"
                                },
                                {
                                    "num": "826",
                                    "total_games_played": "1"
                                },
                                {
                                    "num": "828",
                                    "total_games_played": "1"
                                },
                                {
                                    "num": "829",
                                    "total_games_played": "1"
                                },
                                {
                                    "num": "833",
                                    "total_games_played": "1"
                                },
                                {
                                    "num": "834",
                                    "total_games_played": "1"
                                },
                                {
                                    "num": "837",
                                    "total_games_played": "1"
                                },
                                {
                                    "num": "839",
                                    "total_games_played": "1"
                                },
                                {
                                    "num": "842",
                                    "total_games_played": "1"
                                },
                                {
                                    "num": "844",
                                    "total_games_played": "1"
                                },
                                {
                                    "num": "845",
                                    "total_games_played": "1"
                                },
                                {
                                    "num": "847",
                                    "total_games_played": "1"
                                },
                                {
                                    "num": "848",
                                    "total_games_played": "1"
                                },
                                {
                                    "num": "849",
                                    "total_games_played": "1"
                                },
                                {
                                    "num": "850",
                                    "total_games_played": "1"
                                },
                                {
                                    "num": "853",
                                    "total_games_played": "1"
                                },
                                {
                                    "num": "856",
                                    "total_games_played": "1"
                                },
                                {
                                    "num": "857",
                                    "total_games_played": "1"
                                },
                                {
                                    "num": "862",
                                    "total_games_played": "1"
                                },
                                {
                                    "num": "863",
                                    "total_games_played": "1"
                                },
                                {
                                    "num": "864",
                                    "total_games_played": "1"
                                },
                                {
                                    "num": "865",
                                    "total_games_played": "1"
                                },
                                {
                                    "num": "867",
                                    "total_games_played": "1"
                                },
                                {
                                    "num": "868",
                                    "total_games_played": "1"
                                },
                                {
                                    "num": "870",
                                    "total_games_played": "1"
                                },
                                {
                                    "num": "871",
                                    "total_games_played": "1"
                                },
                                {
                                    "num": "873",
                                    "total_games_played": "1"
                                },
                                {
                                    "num": "875",
                                    "total_games_played": "1"
                                },
                                {
                                    "num": "877",
                                    "total_games_played": "1"
                                },
                                {
                                    "num": "878",
                                    "total_games_played": "1"
                                },
                                {
                                    "num": "880",
                                    "total_games_played": "1"
                                },
                                {
                                    "num": "882",
                                    "total_games_played": "1"
                                },
                                {
                                    "num": "884",
                                    "total_games_played": "1"
                                },
                                {
                                    "num": "886",
                                    "total_games_played": "1"
                                },
                                {
                                    "num": "887",
                                    "total_games_played": "1"
                                },
                                {
                                    "num": "888",
                                    "total_games_played": "1"
                                },
                                {
                                    "num": "891",
                                    "total_games_played": "1"
                                },
                                {
                                    "num": "894",
                                    "total_games_played": "1"
                                },
                                {
                                    "num": "895",
                                    "total_games_played": "1"
                                },
                                {
                                    "num": "897",
                                    "total_games_played": "1"
                                },
                                {
                                    "num": "898",
                                    "total_games_played": "1"
                                },
                                {
                                    "num": "899",
                                    "total_games_played": "1"
                                },
                                {
                                    "num": "900",
                                    "total_games_played": "1"
                                },
                                {
                                    "num": "901",
                                    "total_games_played": "1"
                                },
                                {
                                    "num": "902",
                                    "total_games_played": "1"
                                },
                                {
                                    "num": "903",
                                    "total_games_played": "1"
                                },
                                {
                                    "num": "910",
                                    "total_games_played": "1"
                                },
                                {
                                    "num": "911",
                                    "total_games_played": "1"
                                },
                                {
                                    "num": "912",
                                    "total_games_played": "1"
                                },
                                {
                                    "num": "917",
                                    "total_games_played": "1"
                                },
                                {
                                    "num": "918",
                                    "total_games_played": "1"
                                },
                                {
                                    "num": "921",
                                    "total_games_played": "1"
                                },
                                {
                                    "num": "922",
                                    "total_games_played": "1"
                                },
                                {
                                    "num": "923",
                                    "total_games_played": "1"
                                },
                                {
                                    "num": "924",
                                    "total_games_played": "1"
                                },
                                {
                                    "num": "928",
                                    "total_games_played": "1"
                                },
                                {
                                    "num": "929",
                                    "total_games_played": "1"
                                },
                                {
                                    "num": "930",
                                    "total_games_played": "1"
                                },
                                {
                                    "num": "933",
                                    "total_games_played": "1"
                                },
                                {
                                    "num": "938",
                                    "total_games_played": "1"
                                },
                                {
                                    "num": "939",
                                    "total_games_played": "1"
                                },
                                {
                                    "num": "940",
                                    "total_games_played": "1"
                                },
                                {
                                    "num": "944",
                                    "total_games_played": "1"
                                },
                                {
                                    "num": "946",
                                    "total_games_played": "1"
                                },
                                {
                                    "num": "948",
                                    "total_games_played": "1"
                                },
                                {
                                    "num": "949",
                                    "total_games_played": "1"
                                },
                                {
                                    "num": "951",
                                    "total_games_played": "1"
                                },
                                {
                                    "num": "953",
                                    "total_games_played": "1"
                                },
                                {
                                    "num": "957",
                                    "total_games_played": "1"
                                },
                                {
                                    "num": "959",
                                    "total_games_played": "1"
                                },
                                {
                                    "num": "961",
                                    "total_games_played": "1"
                                },
                                {
                                    "num": "962",
                                    "total_games_played": "1"
                                },
                                {
                                    "num": "963",
                                    "total_games_played": "1"
                                },
                                {
                                    "num": "965",
                                    "total_games_played": "1"
                                },
                                {
                                    "num": "966",
                                    "total_games_played": "1"
                                },
                                {
                                    "num": "968",
                                    "total_games_played": "1"
                                },
                                {
                                    "num": "970",
                                    "total_games_played": "1"
                                },
                                {
                                    "num": "971",
                                    "total_games_played": "1"
                                },
                                {
                                    "num": "973",
                                    "total_games_played": "1"
                                },
                                {
                                    "num": "974",
                                    "total_games_played": "1"
                                },
                                {
                                    "num": "975",
                                    "total_games_played": "1"
                                },
                                {
                                    "num": "976",
                                    "total_games_played": "1"
                                },
                                {
                                    "num": "977",
                                    "total_games_played": "1"
                                },
                                {
                                    "num": "979",
                                    "total_games_played": "1"
                                },
                                {
                                    "num": "980",
                                    "total_games_played": "1"
                                },
                                {
                                    "num": "984",
                                    "total_games_played": "1"
                                },
                                {
                                    "num": "988",
                                    "total_games_played": "1"
                                },
                                {
                                    "num": "990",
                                    "total_games_played": "1"
                                },
                                {
                                    "num": "991",
                                    "total_games_played": "1"
                                },
                                {
                                    "num": "992",
                                    "total_games_played": "1"
                                },
                                {
                                    "num": "994",
                                    "total_games_played": "1"
                                },
                                {
                                    "num": "995",
                                    "total_games_played": "1"
                                },
                                {
                                    "num": "996",
                                    "total_games_played": "1"
                                },
                                {
                                    "num": "997",
                                    "total_games_played": "1"
                                },
                                {
                                    "num": "999",
                                    "total_games_played": "1"
                                },
                                {
                                    "num": "1001",
                                    "total_games_played": "1"
                                },
                                {
                                    "num": "1002",
                                    "total_games_played": "1"
                                },
                                {
                                    "num": "1003",
                                    "total_games_played": "1"
                                },
                                {
                                    "num": "1004",
                                    "total_games_played": "1"
                                },
                                {
                                    "num": "1006",
                                    "total_games_played": "1"
                                },
                                {
                                    "num": "1007",
                                    "total_games_played": "1"
                                },
                                {
                                    "num": "1008",
                                    "total_games_played": "1"
                                },
                                {
                                    "num": "1011",
                                    "total_games_played": "1"
                                },
                                {
                                    "num": "1014",
                                    "total_games_played": "1"
                                },
                                {
                                    "num": "1015",
                                    "total_games_played": "1"
                                },
                                {
                                    "num": "1017",
                                    "total_games_played": "1"
                                },
                                {
                                    "num": "1019",
                                    "total_games_played": "1"
                                },
                                {
                                    "num": "1025",
                                    "total_games_played": "1"
                                },
                                {
                                    "num": "1026",
                                    "total_games_played": "1"
                                },
                                {
                                    "num": "1027",
                                    "total_games_played": "1"
                                },
                                {
                                    "num": "1028",
                                    "total_games_played": "1"
                                },
                                {
                                    "num": "1030",
                                    "total_games_played": "1"
                                },
                                {
                                    "num": "1032",
                                    "total_games_played": "1"
                                },
                                {
                                    "num": "1033",
                                    "total_games_played": "1"
                                },
                                {
                                    "num": "1040",
                                    "total_games_played": "1"
                                },
                                {
                                    "num": "1041",
                                    "total_games_played": "1"
                                },
                                {
                                    "num": "1049",
                                    "total_games_played": "1"
                                },
                                {
                                    "num": "1050",
                                    "total_games_played": "1"
                                },
                                {
                                    "num": "1051",
                                    "total_games_played": "1"
                                },
                                {
                                    "num": "1053",
                                    "total_games_played": "1"
                                },
                                {
                                    "num": "1054",
                                    "total_games_played": "1"
                                },
                                {
                                    "num": "1055",
                                    "total_games_played": "1"
                                },
                                {
                                    "num": "1060",
                                    "total_games_played": "1"
                                },
                                {
                                    "num": "1061",
                                    "total_games_played": "1"
                                },
                                {
                                    "num": "1063",
                                    "total_games_played": "1"
                                },
                                {
                                    "num": "1065",
                                    "total_games_played": "1"
                                },
                                {
                                    "num": "1067",
                                    "total_games_played": "1"
                                },
                                {
                                    "num": "1068",
                                    "total_games_played": "1"
                                },
                                {
                                    "num": "1069",
                                    "total_games_played": "1"
                                },
                                {
                                    "num": "1073",
                                    "total_games_played": "1"
                                },
                                {
                                    "num": "1074",
                                    "total_games_played": "1"
                                },
                                {
                                    "num": "1077",
                                    "total_games_played": "1"
                                },
                                {
                                    "num": "1080",
                                    "total_games_played": "1"
                                },
                                {
                                    "num": "1081",
                                    "total_games_played": "1"
                                },
                                {
                                    "num": "1082",
                                    "total_games_played": "1"
                                },
                                {
                                    "num": "1083",
                                    "total_games_played": "1"
                                },
                                {
                                    "num": "1087",
                                    "total_games_played": "1"
                                },
                                {
                                    "num": "1088",
                                    "total_games_played": "1"
                                },
                                {
                                    "num": "1089",
                                    "total_games_played": "1"
                                },
                                {
                                    "num": "1090",
                                    "total_games_played": "1"
                                },
                                {
                                    "num": "1094",
                                    "total_games_played": "1"
                                },
                                {
                                    "num": "1095",
                                    "total_games_played": "1"
                                },
                                {
                                    "num": "1096",
                                    "total_games_played": "1"
                                },
                                {
                                    "num": "1103",
                                    "total_games_played": "1"
                                },
                                {
                                    "num": "1106",
                                    "total_games_played": "1"
                                },
                                {
                                    "num": "1108",
                                    "total_games_played": "1"
                                },
                                {
                                    "num": "1109",
                                    "total_games_played": "1"
                                },
                                {
                                    "num": "1112",
                                    "total_games_played": "1"
                                },
                                {
                                    "num": "1113",
                                    "total_games_played": "1"
                                },
                                {
                                    "num": "1115",
                                    "total_games_played": "1"
                                },
                                {
                                    "num": "1116",
                                    "total_games_played": "1"
                                },
                                {
                                    "num": "1117",
                                    "total_games_played": "1"
                                },
                                {
                                    "num": "1118",
                                    "total_games_played": "1"
                                },
                                {
                                    "num": "1120",
                                    "total_games_played": "1"
                                },
                                {
                                    "num": "1121",
                                    "total_games_played": "1"
                                },
                                {
                                    "num": "1123",
                                    "total_games_played": "1"
                                },
                                {
                                    "num": "1124",
                                    "total_games_played": "1"
                                },
                                {
                                    "num": "1125",
                                    "total_games_played": "1"
                                },
                                {
                                    "num": "1134",
                                    "total_games_played": "1"
                                },
                                {
                                    "num": "1135",
                                    "total_games_played": "1"
                                },
                                {
                                    "num": "1136",
                                    "total_games_played": "1"
                                },
                                {
                                    "num": "1137",
                                    "total_games_played": "1"
                                },
                                {
                                    "num": "1138",
                                    "total_games_played": "1"
                                },
                                {
                                    "num": "1139",
                                    "total_games_played": "1"
                                },
                                {
                                    "num": "1140",
                                    "total_games_played": "1"
                                },
                                {
                                    "num": "1145",
                                    "total_games_played": "1"
                                },
                                {
                                    "num": "1146",
                                    "total_games_played": "1"
                                },
                                {
                                    "num": "1147",
                                    "total_games_played": "1"
                                },
                                {
                                    "num": "1150",
                                    "total_games_played": "1"
                                },
                                {
                                    "num": "1151",
                                    "total_games_played": "1"
                                },
                                {
                                    "num": "1153",
                                    "total_games_played": "1"
                                },
                                {
                                    "num": "1154",
                                    "total_games_played": "1"
                                },
                                {
                                    "num": "1155",
                                    "total_games_played": "1"
                                },
                                {
                                    "num": "1156",
                                    "total_games_played": "1"
                                },
                                {
                                    "num": "1160",
                                    "total_games_played": "1"
                                },
                                {
                                    "num": "1162",
                                    "total_games_played": "1"
                                },
                                {
                                    "num": "1163",
                                    "total_games_played": "1"
                                },
                                {
                                    "num": "1164",
                                    "total_games_played": "1"
                                },
                                {
                                    "num": "1165",
                                    "total_games_played": "1"
                                },
                                {
                                    "num": "1166",
                                    "total_games_played": "1"
                                },
                                {
                                    "num": "1170",
                                    "total_games_played": "1"
                                },
                                {
                                    "num": "1171",
                                    "total_games_played": "1"
                                },
                                {
                                    "num": "1172",
                                    "total_games_played": "1"
                                },
                                {
                                    "num": "1174",
                                    "total_games_played": "1"
                                },
                                {
                                    "num": "1175",
                                    "total_games_played": "1"
                                },
                                {
                                    "num": "1177",
                                    "total_games_played": "1"
                                },
                                {
                                    "num": "1179",
                                    "total_games_played": "1"
                                },
                                {
                                    "num": "1180",
                                    "total_games_played": "1"
                                },
                                {
                                    "num": "1184",
                                    "total_games_played": "1"
                                },
                                {
                                    "num": "1188",
                                    "total_games_played": "1"
                                },
                                {
                                    "num": "1189",
                                    "total_games_played": "1"
                                },
                                {
                                    "num": "1191",
                                    "total_games_played": "1"
                                },
                                {
                                    "num": "1194",
                                    "total_games_played": "1"
                                },
                                {
                                    "num": "1195",
                                    "total_games_played": "1"
                                },
                                {
                                    "num": "1198",
                                    "total_games_played": "1"
                                },
                                {
                                    "num": "1204",
                                    "total_games_played": "1"
                                },
                                {
                                    "num": "1206",
                                    "total_games_played": "1"
                                },
                                {
                                    "num": "1207",
                                    "total_games_played": "1"
                                },
                                {
                                    "num": "1212",
                                    "total_games_played": "1"
                                },
                                {
                                    "num": "1216",
                                    "total_games_played": "1"
                                },
                                {
                                    "num": "1218",
                                    "total_games_played": "1"
                                },
                                {
                                    "num": "1220",
                                    "total_games_played": "1"
                                },
                                {
                                    "num": "1224",
                                    "total_games_played": "1"
                                },
                                {
                                    "num": "1226",
                                    "total_games_played": "1"
                                },
                                {
                                    "num": "1230",
                                    "total_games_played": "1"
                                },
                                {
                                    "num": "1231",
                                    "total_games_played": "1"
                                },
                                {
                                    "num": "1232",
                                    "total_games_played": "1"
                                },
                                {
                                    "num": "1233",
                                    "total_games_played": "1"
                                },
                                {
                                    "num": "1234",
                                    "total_games_played": "1"
                                },
                                {
                                    "num": "1236",
                                    "total_games_played": "1"
                                },
                                {
                                    "num": "1237",
                                    "total_games_played": "1"
                                },
                                {
                                    "num": "1238",
                                    "total_games_played": "1"
                                },
                                {
                                    "num": "1239",
                                    "total_games_played": "1"
                                },
                                {
                                    "num": "1240",
                                    "total_games_played": "1"
                                },
                                {
                                    "num": "1241",
                                    "total_games_played": "1"
                                },
                                {
                                    "num": "1246",
                                    "total_games_played": "1"
                                },
                                {
                                    "num": "1247",
                                    "total_games_played": "1"
                                },
                                {
                                    "num": "1248",
                                    "total_games_played": "1"
                                },
                                {
                                    "num": "1250",
                                    "total_games_played": "1"
                                },
                                {
                                    "num": "1251",
                                    "total_games_played": "1"
                                },
                                {
                                    "num": "1256",
                                    "total_games_played": "1"
                                },
                                {
                                    "num": "1257",
                                    "total_games_played": "1"
                                },
                                {
                                    "num": "1258",
                                    "total_games_played": "1"
                                },
                                {
                                    "num": "1260",
                                    "total_games_played": "1"
                                },
                                {
                                    "num": "1261",
                                    "total_games_played": "1"
                                },
                                {
                                    "num": "1262",
                                    "total_games_played": "1"
                                },
                                {
                                    "num": "1263",
                                    "total_games_played": "1"
                                },
                                {
                                    "num": "1267",
                                    "total_games_played": "1"
                                },
                                {
                                    "num": "1268",
                                    "total_games_played": "1"
                                },
                                {
                                    "num": "1272",
                                    "total_games_played": "1"
                                },
                                {
                                    "num": "1273",
                                    "total_games_played": "1"
                                },
                                {
                                    "num": "1274",
                                    "total_games_played": "1"
                                },
                                {
                                    "num": "1275",
                                    "total_games_played": "1"
                                },
                                {
                                    "num": "1277",
                                    "total_games_played": "1"
                                },
                                {
                                    "num": "1280",
                                    "total_games_played": "1"
                                },
                                {
                                    "num": "1281",
                                    "total_games_played": "1"
                                },
                                {
                                    "num": "1285",
                                    "total_games_played": "1"
                                },
                                {
                                    "num": "1286",
                                    "total_games_played": "1"
                                },
                                {
                                    "num": "1287",
                                    "total_games_played": "1"
                                },
                                {
                                    "num": "1292",
                                    "total_games_played": "1"
                                },
                                {
                                    "num": "1293",
                                    "total_games_played": "1"
                                },
                                {
                                    "num": "1294",
                                    "total_games_played": "1"
                                },
                                {
                                    "num": "1295",
                                    "total_games_played": "1"
                                },
                                {
                                    "num": "1296",
                                    "total_games_played": "1"
                                },
                                {
                                    "num": "1303",
                                    "total_games_played": "1"
                                },
                                {
                                    "num": "1304",
                                    "total_games_played": "1"
                                },
                                {
                                    "num": "1305",
                                    "total_games_played": "1"
                                },
                                {
                                    "num": "1306",
                                    "total_games_played": "1"
                                },
                                {
                                    "num": "1307",
                                    "total_games_played": "1"
                                },
                                {
                                    "num": "1308",
                                    "total_games_played": "1"
                                },
                                {
                                    "num": "1310",
                                    "total_games_played": "1"
                                },
                                {
                                    "num": "1311",
                                    "total_games_played": "1"
                                },
                                {
                                    "num": "1312",
                                    "total_games_played": "1"
                                },
                                {
                                    "num": "1313",
                                    "total_games_played": "1"
                                },
                                {
                                    "num": "1314",
                                    "total_games_played": "1"
                                },
                                {
                                    "num": "1317",
                                    "total_games_played": "1"
                                },
                                {
                                    "num": "1319",
                                    "total_games_played": "1"
                                },
                                {
                                    "num": "1320",
                                    "total_games_played": "1"
                                },
                                {
                                    "num": "1325",
                                    "total_games_played": "1"
                                },
                                {
                                    "num": "1326",
                                    "total_games_played": "1"
                                },
                                {
                                    "num": "1329",
                                    "total_games_played": "1"
                                },
                                {
                                    "num": "1330",
                                    "total_games_played": "1"
                                },
                                {
                                    "num": "1333",
                                    "total_games_played": "1"
                                },
                                {
                                    "num": "1335",
                                    "total_games_played": "1"
                                },
                                {
                                    "num": "1336",
                                    "total_games_played": "1"
                                },
                                {
                                    "num": "1337",
                                    "total_games_played": "1"
                                },
                                {
                                    "num": "1339",
                                    "total_games_played": "1"
                                },
                                {
                                    "num": "1340",
                                    "total_games_played": "1"
                                },
                                {
                                    "num": "1341",
                                    "total_games_played": "1"
                                },
                                {
                                    "num": "1345",
                                    "total_games_played": "1"
                                },
                                {
                                    "num": "1348",
                                    "total_games_played": "1"
                                },
                                {
                                    "num": "1351",
                                    "total_games_played": "1"
                                },
                                {
                                    "num": "1353",
                                    "total_games_played": "1"
                                },
                                {
                                    "num": "1356",
                                    "total_games_played": "1"
                                },
                                {
                                    "num": "1358",
                                    "total_games_played": "1"
                                },
                                {
                                    "num": "1359",
                                    "total_games_played": "1"
                                },
                                {
                                    "num": "1364",
                                    "total_games_played": "1"
                                },
                                {
                                    "num": "1365",
                                    "total_games_played": "1"
                                },
                                {
                                    "num": "1370",
                                    "total_games_played": "1"
                                },
                                {
                                    "num": "1371",
                                    "total_games_played": "1"
                                },
                                {
                                    "num": "1372",
                                    "total_games_played": "1"
                                },
                                {
                                    "num": "1373",
                                    "total_games_played": "1"
                                },
                                {
                                    "num": "1375",
                                    "total_games_played": "1"
                                },
                                {
                                    "num": "1377",
                                    "total_games_played": "1"
                                },
                                {
                                    "num": "1378",
                                    "total_games_played": "1"
                                },
                                {
                                    "num": "1380",
                                    "total_games_played": "1"
                                },
                                {
                                    "num": "1383",
                                    "total_games_played": "1"
                                },
                                {
                                    "num": "1385",
                                    "total_games_played": "1"
                                },
                                {
                                    "num": "1386",
                                    "total_games_played": "1"
                                },
                                {
                                    "num": "1387",
                                    "total_games_played": "1"
                                },
                                {
                                    "num": "1389",
                                    "total_games_played": "1"
                                },
                                {
                                    "num": "1391",
                                    "total_games_played": "1"
                                },
                                {
                                    "num": "1392",
                                    "total_games_played": "1"
                                },
                                {
                                    "num": "1393",
                                    "total_games_played": "1"
                                },
                                {
                                    "num": "1395",
                                    "total_games_played": "1"
                                },
                                {
                                    "num": "1396",
                                    "total_games_played": "1"
                                },
                                {
                                    "num": "1397",
                                    "total_games_played": "1"
                                },
                                {
                                    "num": "1400",
                                    "total_games_played": "1"
                                },
                                {
                                    "num": "1401",
                                    "total_games_played": "1"
                                },
                                {
                                    "num": "1402",
                                    "total_games_played": "1"
                                },
                                {
                                    "num": "1403",
                                    "total_games_played": "1"
                                },
                                {
                                    "num": "1405",
                                    "total_games_played": "1"
                                },
                                {
                                    "num": "1406",
                                    "total_games_played": "1"
                                },
                                {
                                    "num": "1408",
                                    "total_games_played": "1"
                                },
                                {
                                    "num": "1410",
                                    "total_games_played": "1"
                                },
                                {
                                    "num": "1411",
                                    "total_games_played": "1"
                                },
                                {
                                    "num": "1412",
                                    "total_games_played": "1"
                                },
                                {
                                    "num": "1413",
                                    "total_games_played": "1"
                                },
                                {
                                    "num": "1415",
                                    "total_games_played": "1"
                                },
                                {
                                    "num": "1417",
                                    "total_games_played": "1"
                                },
                                {
                                    "num": "1418",
                                    "total_games_played": "1"
                                },
                                {
                                    "num": "1420",
                                    "total_games_played": "1"
                                },
                                {
                                    "num": "1422",
                                    "total_games_played": "1"
                                },
                                {
                                    "num": "1423",
                                    "total_games_played": "1"
                                },
                                {
                                    "num": "1424",
                                    "total_games_played": "1"
                                },
                                {
                                    "num": "1426",
                                    "total_games_played": "1"
                                },
                                {
                                    "num": "1427",
                                    "total_games_played": "1"
                                },
                                {
                                    "num": "1429",
                                    "total_games_played": "1"
                                },
                                {
                                    "num": "1430",
                                    "total_games_played": "1"
                                },
                                {
                                    "num": "1431",
                                    "total_games_played": "1"
                                },
                                {
                                    "num": "1432",
                                    "total_games_played": "1"
                                },
                                {
                                    "num": "1434",
                                    "total_games_played": "1"
                                },
                                {
                                    "num": "1435",
                                    "total_games_played": "1"
                                },
                                {
                                    "num": "1437",
                                    "total_games_played": "1"
                                },
                                {
                                    "num": "1439",
                                    "total_games_played": "1"
                                },
                                {
                                    "num": "1441",
                                    "total_games_played": "1"
                                },
                                {
                                    "num": "1442",
                                    "total_games_played": "1"
                                },
                                {
                                    "num": "1448",
                                    "total_games_played": "1"
                                },
                                {
                                    "num": "1452",
                                    "total_games_played": "1"
                                },
                                {
                                    "num": "1453",
                                    "total_games_played": "1"
                                },
                                {
                                    "num": "1458",
                                    "total_games_played": "1"
                                },
                                {
                                    "num": "1459",
                                    "total_games_played": "1"
                                },
                                {
                                    "num": "1460",
                                    "total_games_played": "1"
                                },
                                {
                                    "num": "1461",
                                    "total_games_played": "1"
                                },
                                {
                                    "num": "1462",
                                    "total_games_played": "1"
                                },
                                {
                                    "num": "1463",
                                    "total_games_played": "1"
                                },
                                {
                                    "num": "1464",
                                    "total_games_played": "1"
                                },
                                {
                                    "num": "1465",
                                    "total_games_played": "1"
                                },
                                {
                                    "num": "1467",
                                    "total_games_played": "1"
                                },
                                {
                                    "num": "1470",
                                    "total_games_played": "1"
                                },
                                {
                                    "num": "1472",
                                    "total_games_played": "1"
                                },
                                {
                                    "num": "1474",
                                    "total_games_played": "1"
                                },
                                {
                                    "num": "1475",
                                    "total_games_played": "1"
                                },
                                {
                                    "num": "1476",
                                    "total_games_played": "1"
                                },
                                {
                                    "num": "1480",
                                    "total_games_played": "1"
                                },
                                {
                                    "num": "1483",
                                    "total_games_played": "1"
                                },
                                {
                                    "num": "1485",
                                    "total_games_played": "1"
                                },
                                {
                                    "num": "1489",
                                    "total_games_played": "1"
                                },
                                {
                                    "num": "1490",
                                    "total_games_played": "1"
                                },
                                {
                                    "num": "1492",
                                    "total_games_played": "1"
                                },
                                {
                                    "num": "1493",
                                    "total_games_played": "1"
                                },
                                {
                                    "num": "1498",
                                    "total_games_played": "1"
                                },
                                {
                                    "num": "1499",
                                    "total_games_played": "1"
                                },
                                {
                                    "num": "1500",
                                    "total_games_played": "1"
                                },
                                {
                                    "num": "1503",
                                    "total_games_played": "1"
                                },
                                {
                                    "num": "1504",
                                    "total_games_played": "1"
                                },
                                {
                                    "num": "1506",
                                    "total_games_played": "1"
                                },
                                {
                                    "num": "1508",
                                    "total_games_played": "1"
                                },
                                {
                                    "num": "1509",
                                    "total_games_played": "1"
                                },
                                {
                                    "num": "1511",
                                    "total_games_played": "1"
                                },
                                {
                                    "num": "1512",
                                    "total_games_played": "1"
                                },
                                {
                                    "num": "1515",
                                    "total_games_played": "1"
                                },
                                {
                                    "num": "1517",
                                    "total_games_played": "1"
                                },
                                {
                                    "num": "1523",
                                    "total_games_played": "1"
                                },
                                {
                                    "num": "1525",
                                    "total_games_played": "1"
                                },
                                {
                                    "num": "1527",
                                    "total_games_played": "1"
                                },
                                {
                                    "num": "1528",
                                    "total_games_played": "1"
                                },
                                {
                                    "num": "1531",
                                    "total_games_played": "1"
                                },
                                {
                                    "num": "1534",
                                    "total_games_played": "1"
                                },
                                {
                                    "num": "1536",
                                    "total_games_played": "1"
                                },
                                {
                                    "num": "1539",
                                    "total_games_played": "1"
                                },
                                {
                                    "num": "1541",
                                    "total_games_played": "1"
                                },
                                {
                                    "num": "1544",
                                    "total_games_played": "1"
                                },
                                {
                                    "num": "1545",
                                    "total_games_played": "1"
                                },
                                {
                                    "num": "1547",
                                    "total_games_played": "1"
                                },
                                {
                                    "num": "1551",
                                    "total_games_played": "1"
                                },
                                {
                                    "num": "1553",
                                    "total_games_played": "1"
                                },
                                {
                                    "num": "1554",
                                    "total_games_played": "1"
                                }
                            ]
                        },
                        "text/html": [
                            "<table>",
                            "<tr><th>num</th><th>total_games_played</th></tr>",
                            "<tr><td>2</td><td>1</td></tr>",
                            "<tr><td>3</td><td>1</td></tr>",
                            "<tr><td>5</td><td>1</td></tr>",
                            "<tr><td>6</td><td>1</td></tr>",
                            "<tr><td>12</td><td>1</td></tr>",
                            "<tr><td>14</td><td>1</td></tr>",
                            "<tr><td>15</td><td>1</td></tr>",
                            "<tr><td>17</td><td>1</td></tr>",
                            "<tr><td>18</td><td>1</td></tr>",
                            "<tr><td>19</td><td>1</td></tr>",
                            "<tr><td>21</td><td>1</td></tr>",
                            "<tr><td>23</td><td>1</td></tr>",
                            "<tr><td>24</td><td>1</td></tr>",
                            "<tr><td>25</td><td>1</td></tr>",
                            "<tr><td>28</td><td>1</td></tr>",
                            "<tr><td>29</td><td>1</td></tr>",
                            "<tr><td>31</td><td>1</td></tr>",
                            "<tr><td>33</td><td>1</td></tr>",
                            "<tr><td>35</td><td>1</td></tr>",
                            "<tr><td>36</td><td>1</td></tr>",
                            "<tr><td>38</td><td>1</td></tr>",
                            "<tr><td>39</td><td>1</td></tr>",
                            "<tr><td>41</td><td>1</td></tr>",
                            "<tr><td>42</td><td>1</td></tr>",
                            "<tr><td>45</td><td>1</td></tr>",
                            "<tr><td>47</td><td>1</td></tr>",
                            "<tr><td>48</td><td>1</td></tr>",
                            "<tr><td>51</td><td>1</td></tr>",
                            "<tr><td>53</td><td>1</td></tr>",
                            "<tr><td>54</td><td>1</td></tr>",
                            "<tr><td>55</td><td>1</td></tr>",
                            "<tr><td>61</td><td>1</td></tr>",
                            "<tr><td>63</td><td>1</td></tr>",
                            "<tr><td>64</td><td>1</td></tr>",
                            "<tr><td>66</td><td>1</td></tr>",
                            "<tr><td>67</td><td>1</td></tr>",
                            "<tr><td>68</td><td>1</td></tr>",
                            "<tr><td>70</td><td>1</td></tr>",
                            "<tr><td>71</td><td>1</td></tr>",
                            "<tr><td>72</td><td>1</td></tr>",
                            "<tr><td>75</td><td>1</td></tr>",
                            "<tr><td>76</td><td>1</td></tr>",
                            "<tr><td>77</td><td>1</td></tr>",
                            "<tr><td>78</td><td>1</td></tr>",
                            "<tr><td>79</td><td>1</td></tr>",
                            "<tr><td>80</td><td>1</td></tr>",
                            "<tr><td>83</td><td>1</td></tr>",
                            "<tr><td>84</td><td>1</td></tr>",
                            "<tr><td>85</td><td>1</td></tr>",
                            "<tr><td>86</td><td>1</td></tr>",
                            "<tr><td>87</td><td>1</td></tr>",
                            "<tr><td>90</td><td>1</td></tr>",
                            "<tr><td>91</td><td>1</td></tr>",
                            "<tr><td>96</td><td>1</td></tr>",
                            "<tr><td>100</td><td>1</td></tr>",
                            "<tr><td>106</td><td>1</td></tr>",
                            "<tr><td>107</td><td>1</td></tr>",
                            "<tr><td>112</td><td>1</td></tr>",
                            "<tr><td>119</td><td>1</td></tr>",
                            "<tr><td>120</td><td>1</td></tr>",
                            "<tr><td>121</td><td>1</td></tr>",
                            "<tr><td>122</td><td>1</td></tr>",
                            "<tr><td>123</td><td>1</td></tr>",
                            "<tr><td>124</td><td>1</td></tr>",
                            "<tr><td>127</td><td>1</td></tr>",
                            "<tr><td>129</td><td>1</td></tr>",
                            "<tr><td>130</td><td>1</td></tr>",
                            "<tr><td>131</td><td>1</td></tr>",
                            "<tr><td>133</td><td>1</td></tr>",
                            "<tr><td>134</td><td>1</td></tr>",
                            "<tr><td>135</td><td>1</td></tr>",
                            "<tr><td>138</td><td>1</td></tr>",
                            "<tr><td>140</td><td>1</td></tr>",
                            "<tr><td>144</td><td>1</td></tr>",
                            "<tr><td>148</td><td>1</td></tr>",
                            "<tr><td>149</td><td>1</td></tr>",
                            "<tr><td>151</td><td>1</td></tr>",
                            "<tr><td>157</td><td>1</td></tr>",
                            "<tr><td>158</td><td>1</td></tr>",
                            "<tr><td>162</td><td>1</td></tr>",
                            "<tr><td>164</td><td>1</td></tr>",
                            "<tr><td>165</td><td>1</td></tr>",
                            "<tr><td>167</td><td>1</td></tr>",
                            "<tr><td>168</td><td>1</td></tr>",
                            "<tr><td>169</td><td>1</td></tr>",
                            "<tr><td>173</td><td>1</td></tr>",
                            "<tr><td>175</td><td>1</td></tr>",
                            "<tr><td>179</td><td>1</td></tr>",
                            "<tr><td>180</td><td>1</td></tr>",
                            "<tr><td>181</td><td>1</td></tr>",
                            "<tr><td>184</td><td>1</td></tr>",
                            "<tr><td>185</td><td>1</td></tr>",
                            "<tr><td>186</td><td>1</td></tr>",
                            "<tr><td>187</td><td>1</td></tr>",
                            "<tr><td>192</td><td>1</td></tr>",
                            "<tr><td>193</td><td>1</td></tr>",
                            "<tr><td>197</td><td>1</td></tr>",
                            "<tr><td>198</td><td>1</td></tr>",
                            "<tr><td>201</td><td>1</td></tr>",
                            "<tr><td>202</td><td>1</td></tr>",
                            "<tr><td>203</td><td>1</td></tr>",
                            "<tr><td>205</td><td>1</td></tr>",
                            "<tr><td>206</td><td>1</td></tr>",
                            "<tr><td>207</td><td>1</td></tr>",
                            "<tr><td>209</td><td>1</td></tr>",
                            "<tr><td>210</td><td>1</td></tr>",
                            "<tr><td>214</td><td>1</td></tr>",
                            "<tr><td>215</td><td>1</td></tr>",
                            "<tr><td>217</td><td>1</td></tr>",
                            "<tr><td>219</td><td>1</td></tr>",
                            "<tr><td>220</td><td>1</td></tr>",
                            "<tr><td>222</td><td>1</td></tr>",
                            "<tr><td>223</td><td>1</td></tr>",
                            "<tr><td>224</td><td>1</td></tr>",
                            "<tr><td>225</td><td>1</td></tr>",
                            "<tr><td>226</td><td>1</td></tr>",
                            "<tr><td>227</td><td>1</td></tr>",
                            "<tr><td>228</td><td>1</td></tr>",
                            "<tr><td>229</td><td>1</td></tr>",
                            "<tr><td>230</td><td>1</td></tr>",
                            "<tr><td>232</td><td>1</td></tr>",
                            "<tr><td>234</td><td>1</td></tr>",
                            "<tr><td>236</td><td>1</td></tr>",
                            "<tr><td>239</td><td>1</td></tr>",
                            "<tr><td>244</td><td>1</td></tr>",
                            "<tr><td>245</td><td>1</td></tr>",
                            "<tr><td>248</td><td>1</td></tr>",
                            "<tr><td>249</td><td>1</td></tr>",
                            "<tr><td>250</td><td>1</td></tr>",
                            "<tr><td>251</td><td>1</td></tr>",
                            "<tr><td>252</td><td>1</td></tr>",
                            "<tr><td>254</td><td>1</td></tr>",
                            "<tr><td>255</td><td>1</td></tr>",
                            "<tr><td>256</td><td>1</td></tr>",
                            "<tr><td>258</td><td>1</td></tr>",
                            "<tr><td>260</td><td>1</td></tr>",
                            "<tr><td>261</td><td>1</td></tr>",
                            "<tr><td>264</td><td>1</td></tr>",
                            "<tr><td>266</td><td>1</td></tr>",
                            "<tr><td>268</td><td>1</td></tr>",
                            "<tr><td>270</td><td>1</td></tr>",
                            "<tr><td>271</td><td>1</td></tr>",
                            "<tr><td>272</td><td>1</td></tr>",
                            "<tr><td>274</td><td>1</td></tr>",
                            "<tr><td>276</td><td>1</td></tr>",
                            "<tr><td>277</td><td>1</td></tr>",
                            "<tr><td>280</td><td>1</td></tr>",
                            "<tr><td>282</td><td>1</td></tr>",
                            "<tr><td>290</td><td>1</td></tr>",
                            "<tr><td>292</td><td>1</td></tr>",
                            "<tr><td>293</td><td>1</td></tr>",
                            "<tr><td>295</td><td>1</td></tr>",
                            "<tr><td>297</td><td>1</td></tr>",
                            "<tr><td>298</td><td>1</td></tr>",
                            "<tr><td>299</td><td>1</td></tr>",
                            "<tr><td>300</td><td>1</td></tr>",
                            "<tr><td>303</td><td>1</td></tr>",
                            "<tr><td>305</td><td>1</td></tr>",
                            "<tr><td>307</td><td>1</td></tr>",
                            "<tr><td>308</td><td>1</td></tr>",
                            "<tr><td>310</td><td>1</td></tr>",
                            "<tr><td>311</td><td>1</td></tr>",
                            "<tr><td>314</td><td>1</td></tr>",
                            "<tr><td>315</td><td>1</td></tr>",
                            "<tr><td>316</td><td>1</td></tr>",
                            "<tr><td>319</td><td>1</td></tr>",
                            "<tr><td>320</td><td>1</td></tr>",
                            "<tr><td>323</td><td>1</td></tr>",
                            "<tr><td>325</td><td>1</td></tr>",
                            "<tr><td>326</td><td>1</td></tr>",
                            "<tr><td>327</td><td>1</td></tr>",
                            "<tr><td>328</td><td>1</td></tr>",
                            "<tr><td>330</td><td>1</td></tr>",
                            "<tr><td>331</td><td>1</td></tr>",
                            "<tr><td>332</td><td>1</td></tr>",
                            "<tr><td>333</td><td>1</td></tr>",
                            "<tr><td>334</td><td>1</td></tr>",
                            "<tr><td>335</td><td>1</td></tr>",
                            "<tr><td>336</td><td>1</td></tr>",
                            "<tr><td>338</td><td>1</td></tr>",
                            "<tr><td>341</td><td>1</td></tr>",
                            "<tr><td>345</td><td>1</td></tr>",
                            "<tr><td>346</td><td>1</td></tr>",
                            "<tr><td>347</td><td>1</td></tr>",
                            "<tr><td>348</td><td>1</td></tr>",
                            "<tr><td>349</td><td>1</td></tr>",
                            "<tr><td>350</td><td>1</td></tr>",
                            "<tr><td>351</td><td>1</td></tr>",
                            "<tr><td>352</td><td>1</td></tr>",
                            "<tr><td>353</td><td>1</td></tr>",
                            "<tr><td>356</td><td>1</td></tr>",
                            "<tr><td>357</td><td>1</td></tr>",
                            "<tr><td>359</td><td>1</td></tr>",
                            "<tr><td>360</td><td>1</td></tr>",
                            "<tr><td>363</td><td>1</td></tr>",
                            "<tr><td>365</td><td>1</td></tr>",
                            "<tr><td>366</td><td>1</td></tr>",
                            "<tr><td>368</td><td>1</td></tr>",
                            "<tr><td>369</td><td>1</td></tr>",
                            "<tr><td>374</td><td>1</td></tr>",
                            "<tr><td>375</td><td>1</td></tr>",
                            "<tr><td>376</td><td>1</td></tr>",
                            "<tr><td>377</td><td>1</td></tr>",
                            "<tr><td>379</td><td>1</td></tr>",
                            "<tr><td>382</td><td>1</td></tr>",
                            "<tr><td>383</td><td>1</td></tr>",
                            "<tr><td>384</td><td>1</td></tr>",
                            "<tr><td>385</td><td>1</td></tr>",
                            "<tr><td>388</td><td>1</td></tr>",
                            "<tr><td>389</td><td>1</td></tr>",
                            "<tr><td>391</td><td>1</td></tr>",
                            "<tr><td>392</td><td>1</td></tr>",
                            "<tr><td>393</td><td>1</td></tr>",
                            "<tr><td>398</td><td>1</td></tr>",
                            "<tr><td>399</td><td>1</td></tr>",
                            "<tr><td>400</td><td>1</td></tr>",
                            "<tr><td>401</td><td>1</td></tr>",
                            "<tr><td>405</td><td>1</td></tr>",
                            "<tr><td>406</td><td>1</td></tr>",
                            "<tr><td>410</td><td>1</td></tr>",
                            "<tr><td>415</td><td>1</td></tr>",
                            "<tr><td>417</td><td>1</td></tr>",
                            "<tr><td>418</td><td>1</td></tr>",
                            "<tr><td>419</td><td>1</td></tr>",
                            "<tr><td>422</td><td>1</td></tr>",
                            "<tr><td>423</td><td>1</td></tr>",
                            "<tr><td>427</td><td>1</td></tr>",
                            "<tr><td>435</td><td>1</td></tr>",
                            "<tr><td>436</td><td>1</td></tr>",
                            "<tr><td>437</td><td>1</td></tr>",
                            "<tr><td>439</td><td>1</td></tr>",
                            "<tr><td>444</td><td>1</td></tr>",
                            "<tr><td>445</td><td>1</td></tr>",
                            "<tr><td>446</td><td>1</td></tr>",
                            "<tr><td>447</td><td>1</td></tr>",
                            "<tr><td>448</td><td>1</td></tr>",
                            "<tr><td>449</td><td>1</td></tr>",
                            "<tr><td>450</td><td>1</td></tr>",
                            "<tr><td>452</td><td>1</td></tr>",
                            "<tr><td>454</td><td>1</td></tr>",
                            "<tr><td>459</td><td>1</td></tr>",
                            "<tr><td>460</td><td>1</td></tr>",
                            "<tr><td>461</td><td>1</td></tr>",
                            "<tr><td>462</td><td>1</td></tr>",
                            "<tr><td>463</td><td>1</td></tr>",
                            "<tr><td>464</td><td>1</td></tr>",
                            "<tr><td>466</td><td>1</td></tr>",
                            "<tr><td>467</td><td>1</td></tr>",
                            "<tr><td>468</td><td>1</td></tr>",
                            "<tr><td>469</td><td>1</td></tr>",
                            "<tr><td>470</td><td>1</td></tr>",
                            "<tr><td>471</td><td>1</td></tr>",
                            "<tr><td>472</td><td>1</td></tr>",
                            "<tr><td>473</td><td>1</td></tr>",
                            "<tr><td>476</td><td>1</td></tr>",
                            "<tr><td>477</td><td>1</td></tr>",
                            "<tr><td>480</td><td>1</td></tr>",
                            "<tr><td>482</td><td>1</td></tr>",
                            "<tr><td>483</td><td>1</td></tr>",
                            "<tr><td>484</td><td>1</td></tr>",
                            "<tr><td>487</td><td>1</td></tr>",
                            "<tr><td>488</td><td>1</td></tr>",
                            "<tr><td>489</td><td>1</td></tr>",
                            "<tr><td>490</td><td>1</td></tr>",
                            "<tr><td>492</td><td>1</td></tr>",
                            "<tr><td>493</td><td>1</td></tr>",
                            "<tr><td>494</td><td>1</td></tr>",
                            "<tr><td>496</td><td>1</td></tr>",
                            "<tr><td>497</td><td>1</td></tr>",
                            "<tr><td>499</td><td>1</td></tr>",
                            "<tr><td>501</td><td>1</td></tr>",
                            "<tr><td>504</td><td>1</td></tr>",
                            "<tr><td>506</td><td>1</td></tr>",
                            "<tr><td>507</td><td>1</td></tr>",
                            "<tr><td>509</td><td>1</td></tr>",
                            "<tr><td>510</td><td>1</td></tr>",
                            "<tr><td>512</td><td>1</td></tr>",
                            "<tr><td>514</td><td>1</td></tr>",
                            "<tr><td>521</td><td>1</td></tr>",
                            "<tr><td>522</td><td>1</td></tr>",
                            "<tr><td>523</td><td>1</td></tr>",
                            "<tr><td>528</td><td>1</td></tr>",
                            "<tr><td>532</td><td>1</td></tr>",
                            "<tr><td>534</td><td>1</td></tr>",
                            "<tr><td>535</td><td>1</td></tr>",
                            "<tr><td>536</td><td>1</td></tr>",
                            "<tr><td>537</td><td>1</td></tr>",
                            "<tr><td>538</td><td>1</td></tr>",
                            "<tr><td>539</td><td>1</td></tr>",
                            "<tr><td>541</td><td>1</td></tr>",
                            "<tr><td>542</td><td>1</td></tr>",
                            "<tr><td>543</td><td>1</td></tr>",
                            "<tr><td>544</td><td>1</td></tr>",
                            "<tr><td>545</td><td>1</td></tr>",
                            "<tr><td>546</td><td>1</td></tr>",
                            "<tr><td>547</td><td>1</td></tr>",
                            "<tr><td>548</td><td>1</td></tr>",
                            "<tr><td>550</td><td>1</td></tr>",
                            "<tr><td>551</td><td>1</td></tr>",
                            "<tr><td>552</td><td>1</td></tr>",
                            "<tr><td>553</td><td>1</td></tr>",
                            "<tr><td>556</td><td>1</td></tr>",
                            "<tr><td>557</td><td>1</td></tr>",
                            "<tr><td>558</td><td>1</td></tr>",
                            "<tr><td>559</td><td>1</td></tr>",
                            "<tr><td>560</td><td>1</td></tr>",
                            "<tr><td>562</td><td>1</td></tr>",
                            "<tr><td>567</td><td>1</td></tr>",
                            "<tr><td>568</td><td>1</td></tr>",
                            "<tr><td>570</td><td>1</td></tr>",
                            "<tr><td>571</td><td>1</td></tr>",
                            "<tr><td>572</td><td>1</td></tr>",
                            "<tr><td>573</td><td>1</td></tr>",
                            "<tr><td>574</td><td>1</td></tr>",
                            "<tr><td>576</td><td>1</td></tr>",
                            "<tr><td>582</td><td>1</td></tr>",
                            "<tr><td>584</td><td>1</td></tr>",
                            "<tr><td>587</td><td>1</td></tr>",
                            "<tr><td>588</td><td>1</td></tr>",
                            "<tr><td>589</td><td>1</td></tr>",
                            "<tr><td>591</td><td>1</td></tr>",
                            "<tr><td>592</td><td>1</td></tr>",
                            "<tr><td>594</td><td>1</td></tr>",
                            "<tr><td>595</td><td>1</td></tr>",
                            "<tr><td>596</td><td>1</td></tr>",
                            "<tr><td>600</td><td>1</td></tr>",
                            "<tr><td>602</td><td>1</td></tr>",
                            "<tr><td>603</td><td>1</td></tr>",
                            "<tr><td>605</td><td>1</td></tr>",
                            "<tr><td>607</td><td>1</td></tr>",
                            "<tr><td>608</td><td>1</td></tr>",
                            "<tr><td>609</td><td>1</td></tr>",
                            "<tr><td>612</td><td>1</td></tr>",
                            "<tr><td>615</td><td>1</td></tr>",
                            "<tr><td>624</td><td>1</td></tr>",
                            "<tr><td>625</td><td>1</td></tr>",
                            "<tr><td>626</td><td>1</td></tr>",
                            "<tr><td>628</td><td>1</td></tr>",
                            "<tr><td>629</td><td>1</td></tr>",
                            "<tr><td>630</td><td>1</td></tr>",
                            "<tr><td>631</td><td>1</td></tr>",
                            "<tr><td>632</td><td>1</td></tr>",
                            "<tr><td>633</td><td>1</td></tr>",
                            "<tr><td>634</td><td>1</td></tr>",
                            "<tr><td>635</td><td>1</td></tr>",
                            "<tr><td>637</td><td>1</td></tr>",
                            "<tr><td>639</td><td>1</td></tr>",
                            "<tr><td>640</td><td>1</td></tr>",
                            "<tr><td>643</td><td>1</td></tr>",
                            "<tr><td>644</td><td>1</td></tr>",
                            "<tr><td>646</td><td>1</td></tr>",
                            "<tr><td>647</td><td>1</td></tr>",
                            "<tr><td>648</td><td>1</td></tr>",
                            "<tr><td>650</td><td>1</td></tr>",
                            "<tr><td>651</td><td>1</td></tr>",
                            "<tr><td>652</td><td>1</td></tr>",
                            "<tr><td>654</td><td>1</td></tr>",
                            "<tr><td>655</td><td>1</td></tr>",
                            "<tr><td>656</td><td>1</td></tr>",
                            "<tr><td>658</td><td>1</td></tr>",
                            "<tr><td>660</td><td>1</td></tr>",
                            "<tr><td>662</td><td>1</td></tr>",
                            "<tr><td>664</td><td>1</td></tr>",
                            "<tr><td>665</td><td>1</td></tr>",
                            "<tr><td>666</td><td>1</td></tr>",
                            "<tr><td>667</td><td>1</td></tr>",
                            "<tr><td>670</td><td>1</td></tr>",
                            "<tr><td>674</td><td>1</td></tr>",
                            "<tr><td>675</td><td>1</td></tr>",
                            "<tr><td>676</td><td>1</td></tr>",
                            "<tr><td>677</td><td>1</td></tr>",
                            "<tr><td>680</td><td>1</td></tr>",
                            "<tr><td>689</td><td>1</td></tr>",
                            "<tr><td>691</td><td>1</td></tr>",
                            "<tr><td>692</td><td>1</td></tr>",
                            "<tr><td>694</td><td>1</td></tr>",
                            "<tr><td>695</td><td>1</td></tr>",
                            "<tr><td>703</td><td>1</td></tr>",
                            "<tr><td>704</td><td>1</td></tr>",
                            "<tr><td>706</td><td>1</td></tr>",
                            "<tr><td>713</td><td>1</td></tr>",
                            "<tr><td>715</td><td>1</td></tr>",
                            "<tr><td>718</td><td>1</td></tr>",
                            "<tr><td>719</td><td>1</td></tr>",
                            "<tr><td>720</td><td>1</td></tr>",
                            "<tr><td>723</td><td>1</td></tr>",
                            "<tr><td>724</td><td>1</td></tr>",
                            "<tr><td>725</td><td>1</td></tr>",
                            "<tr><td>726</td><td>1</td></tr>",
                            "<tr><td>727</td><td>1</td></tr>",
                            "<tr><td>731</td><td>1</td></tr>",
                            "<tr><td>734</td><td>1</td></tr>",
                            "<tr><td>738</td><td>1</td></tr>",
                            "<tr><td>740</td><td>1</td></tr>",
                            "<tr><td>741</td><td>1</td></tr>",
                            "<tr><td>743</td><td>1</td></tr>",
                            "<tr><td>744</td><td>1</td></tr>",
                            "<tr><td>745</td><td>1</td></tr>",
                            "<tr><td>747</td><td>1</td></tr>",
                            "<tr><td>748</td><td>1</td></tr>",
                            "<tr><td>749</td><td>1</td></tr>",
                            "<tr><td>750</td><td>1</td></tr>",
                            "<tr><td>751</td><td>1</td></tr>",
                            "<tr><td>754</td><td>1</td></tr>",
                            "<tr><td>755</td><td>1</td></tr>",
                            "<tr><td>759</td><td>1</td></tr>",
                            "<tr><td>761</td><td>1</td></tr>",
                            "<tr><td>765</td><td>1</td></tr>",
                            "<tr><td>766</td><td>1</td></tr>",
                            "<tr><td>771</td><td>1</td></tr>",
                            "<tr><td>773</td><td>1</td></tr>",
                            "<tr><td>774</td><td>1</td></tr>",
                            "<tr><td>776</td><td>1</td></tr>",
                            "<tr><td>777</td><td>1</td></tr>",
                            "<tr><td>778</td><td>1</td></tr>",
                            "<tr><td>779</td><td>1</td></tr>",
                            "<tr><td>780</td><td>1</td></tr>",
                            "<tr><td>781</td><td>1</td></tr>",
                            "<tr><td>782</td><td>1</td></tr>",
                            "<tr><td>783</td><td>1</td></tr>",
                            "<tr><td>784</td><td>1</td></tr>",
                            "<tr><td>788</td><td>1</td></tr>",
                            "<tr><td>791</td><td>1</td></tr>",
                            "<tr><td>792</td><td>1</td></tr>",
                            "<tr><td>794</td><td>1</td></tr>",
                            "<tr><td>795</td><td>1</td></tr>",
                            "<tr><td>796</td><td>1</td></tr>",
                            "<tr><td>797</td><td>1</td></tr>",
                            "<tr><td>798</td><td>1</td></tr>",
                            "<tr><td>799</td><td>1</td></tr>",
                            "<tr><td>801</td><td>1</td></tr>",
                            "<tr><td>802</td><td>1</td></tr>",
                            "<tr><td>803</td><td>1</td></tr>",
                            "<tr><td>804</td><td>1</td></tr>",
                            "<tr><td>805</td><td>1</td></tr>",
                            "<tr><td>807</td><td>1</td></tr>",
                            "<tr><td>808</td><td>1</td></tr>",
                            "<tr><td>811</td><td>1</td></tr>",
                            "<tr><td>814</td><td>1</td></tr>",
                            "<tr><td>815</td><td>1</td></tr>",
                            "<tr><td>818</td><td>1</td></tr>",
                            "<tr><td>821</td><td>1</td></tr>",
                            "<tr><td>822</td><td>1</td></tr>",
                            "<tr><td>823</td><td>1</td></tr>",
                            "<tr><td>824</td><td>1</td></tr>",
                            "<tr><td>825</td><td>1</td></tr>",
                            "<tr><td>826</td><td>1</td></tr>",
                            "<tr><td>828</td><td>1</td></tr>",
                            "<tr><td>829</td><td>1</td></tr>",
                            "<tr><td>833</td><td>1</td></tr>",
                            "<tr><td>834</td><td>1</td></tr>",
                            "<tr><td>837</td><td>1</td></tr>",
                            "<tr><td>839</td><td>1</td></tr>",
                            "<tr><td>842</td><td>1</td></tr>",
                            "<tr><td>844</td><td>1</td></tr>",
                            "<tr><td>845</td><td>1</td></tr>",
                            "<tr><td>847</td><td>1</td></tr>",
                            "<tr><td>848</td><td>1</td></tr>",
                            "<tr><td>849</td><td>1</td></tr>",
                            "<tr><td>850</td><td>1</td></tr>",
                            "<tr><td>853</td><td>1</td></tr>",
                            "<tr><td>856</td><td>1</td></tr>",
                            "<tr><td>857</td><td>1</td></tr>",
                            "<tr><td>862</td><td>1</td></tr>",
                            "<tr><td>863</td><td>1</td></tr>",
                            "<tr><td>864</td><td>1</td></tr>",
                            "<tr><td>865</td><td>1</td></tr>",
                            "<tr><td>867</td><td>1</td></tr>",
                            "<tr><td>868</td><td>1</td></tr>",
                            "<tr><td>870</td><td>1</td></tr>",
                            "<tr><td>871</td><td>1</td></tr>",
                            "<tr><td>873</td><td>1</td></tr>",
                            "<tr><td>875</td><td>1</td></tr>",
                            "<tr><td>877</td><td>1</td></tr>",
                            "<tr><td>878</td><td>1</td></tr>",
                            "<tr><td>880</td><td>1</td></tr>",
                            "<tr><td>882</td><td>1</td></tr>",
                            "<tr><td>884</td><td>1</td></tr>",
                            "<tr><td>886</td><td>1</td></tr>",
                            "<tr><td>887</td><td>1</td></tr>",
                            "<tr><td>888</td><td>1</td></tr>",
                            "<tr><td>891</td><td>1</td></tr>",
                            "<tr><td>894</td><td>1</td></tr>",
                            "<tr><td>895</td><td>1</td></tr>",
                            "<tr><td>897</td><td>1</td></tr>",
                            "<tr><td>898</td><td>1</td></tr>",
                            "<tr><td>899</td><td>1</td></tr>",
                            "<tr><td>900</td><td>1</td></tr>",
                            "<tr><td>901</td><td>1</td></tr>",
                            "<tr><td>902</td><td>1</td></tr>",
                            "<tr><td>903</td><td>1</td></tr>",
                            "<tr><td>910</td><td>1</td></tr>",
                            "<tr><td>911</td><td>1</td></tr>",
                            "<tr><td>912</td><td>1</td></tr>",
                            "<tr><td>917</td><td>1</td></tr>",
                            "<tr><td>918</td><td>1</td></tr>",
                            "<tr><td>921</td><td>1</td></tr>",
                            "<tr><td>922</td><td>1</td></tr>",
                            "<tr><td>923</td><td>1</td></tr>",
                            "<tr><td>924</td><td>1</td></tr>",
                            "<tr><td>928</td><td>1</td></tr>",
                            "<tr><td>929</td><td>1</td></tr>",
                            "<tr><td>930</td><td>1</td></tr>",
                            "<tr><td>933</td><td>1</td></tr>",
                            "<tr><td>938</td><td>1</td></tr>",
                            "<tr><td>939</td><td>1</td></tr>",
                            "<tr><td>940</td><td>1</td></tr>",
                            "<tr><td>944</td><td>1</td></tr>",
                            "<tr><td>946</td><td>1</td></tr>",
                            "<tr><td>948</td><td>1</td></tr>",
                            "<tr><td>949</td><td>1</td></tr>",
                            "<tr><td>951</td><td>1</td></tr>",
                            "<tr><td>953</td><td>1</td></tr>",
                            "<tr><td>957</td><td>1</td></tr>",
                            "<tr><td>959</td><td>1</td></tr>",
                            "<tr><td>961</td><td>1</td></tr>",
                            "<tr><td>962</td><td>1</td></tr>",
                            "<tr><td>963</td><td>1</td></tr>",
                            "<tr><td>965</td><td>1</td></tr>",
                            "<tr><td>966</td><td>1</td></tr>",
                            "<tr><td>968</td><td>1</td></tr>",
                            "<tr><td>970</td><td>1</td></tr>",
                            "<tr><td>971</td><td>1</td></tr>",
                            "<tr><td>973</td><td>1</td></tr>",
                            "<tr><td>974</td><td>1</td></tr>",
                            "<tr><td>975</td><td>1</td></tr>",
                            "<tr><td>976</td><td>1</td></tr>",
                            "<tr><td>977</td><td>1</td></tr>",
                            "<tr><td>979</td><td>1</td></tr>",
                            "<tr><td>980</td><td>1</td></tr>",
                            "<tr><td>984</td><td>1</td></tr>",
                            "<tr><td>988</td><td>1</td></tr>",
                            "<tr><td>990</td><td>1</td></tr>",
                            "<tr><td>991</td><td>1</td></tr>",
                            "<tr><td>992</td><td>1</td></tr>",
                            "<tr><td>994</td><td>1</td></tr>",
                            "<tr><td>995</td><td>1</td></tr>",
                            "<tr><td>996</td><td>1</td></tr>",
                            "<tr><td>997</td><td>1</td></tr>",
                            "<tr><td>999</td><td>1</td></tr>",
                            "<tr><td>1001</td><td>1</td></tr>",
                            "<tr><td>1002</td><td>1</td></tr>",
                            "<tr><td>1003</td><td>1</td></tr>",
                            "<tr><td>1004</td><td>1</td></tr>",
                            "<tr><td>1006</td><td>1</td></tr>",
                            "<tr><td>1007</td><td>1</td></tr>",
                            "<tr><td>1008</td><td>1</td></tr>",
                            "<tr><td>1011</td><td>1</td></tr>",
                            "<tr><td>1014</td><td>1</td></tr>",
                            "<tr><td>1015</td><td>1</td></tr>",
                            "<tr><td>1017</td><td>1</td></tr>",
                            "<tr><td>1019</td><td>1</td></tr>",
                            "<tr><td>1025</td><td>1</td></tr>",
                            "<tr><td>1026</td><td>1</td></tr>",
                            "<tr><td>1027</td><td>1</td></tr>",
                            "<tr><td>1028</td><td>1</td></tr>",
                            "<tr><td>1030</td><td>1</td></tr>",
                            "<tr><td>1032</td><td>1</td></tr>",
                            "<tr><td>1033</td><td>1</td></tr>",
                            "<tr><td>1040</td><td>1</td></tr>",
                            "<tr><td>1041</td><td>1</td></tr>",
                            "<tr><td>1049</td><td>1</td></tr>",
                            "<tr><td>1050</td><td>1</td></tr>",
                            "<tr><td>1051</td><td>1</td></tr>",
                            "<tr><td>1053</td><td>1</td></tr>",
                            "<tr><td>1054</td><td>1</td></tr>",
                            "<tr><td>1055</td><td>1</td></tr>",
                            "<tr><td>1060</td><td>1</td></tr>",
                            "<tr><td>1061</td><td>1</td></tr>",
                            "<tr><td>1063</td><td>1</td></tr>",
                            "<tr><td>1065</td><td>1</td></tr>",
                            "<tr><td>1067</td><td>1</td></tr>",
                            "<tr><td>1068</td><td>1</td></tr>",
                            "<tr><td>1069</td><td>1</td></tr>",
                            "<tr><td>1073</td><td>1</td></tr>",
                            "<tr><td>1074</td><td>1</td></tr>",
                            "<tr><td>1077</td><td>1</td></tr>",
                            "<tr><td>1080</td><td>1</td></tr>",
                            "<tr><td>1081</td><td>1</td></tr>",
                            "<tr><td>1082</td><td>1</td></tr>",
                            "<tr><td>1083</td><td>1</td></tr>",
                            "<tr><td>1087</td><td>1</td></tr>",
                            "<tr><td>1088</td><td>1</td></tr>",
                            "<tr><td>1089</td><td>1</td></tr>",
                            "<tr><td>1090</td><td>1</td></tr>",
                            "<tr><td>1094</td><td>1</td></tr>",
                            "<tr><td>1095</td><td>1</td></tr>",
                            "<tr><td>1096</td><td>1</td></tr>",
                            "<tr><td>1103</td><td>1</td></tr>",
                            "<tr><td>1106</td><td>1</td></tr>",
                            "<tr><td>1108</td><td>1</td></tr>",
                            "<tr><td>1109</td><td>1</td></tr>",
                            "<tr><td>1112</td><td>1</td></tr>",
                            "<tr><td>1113</td><td>1</td></tr>",
                            "<tr><td>1115</td><td>1</td></tr>",
                            "<tr><td>1116</td><td>1</td></tr>",
                            "<tr><td>1117</td><td>1</td></tr>",
                            "<tr><td>1118</td><td>1</td></tr>",
                            "<tr><td>1120</td><td>1</td></tr>",
                            "<tr><td>1121</td><td>1</td></tr>",
                            "<tr><td>1123</td><td>1</td></tr>",
                            "<tr><td>1124</td><td>1</td></tr>",
                            "<tr><td>1125</td><td>1</td></tr>",
                            "<tr><td>1134</td><td>1</td></tr>",
                            "<tr><td>1135</td><td>1</td></tr>",
                            "<tr><td>1136</td><td>1</td></tr>",
                            "<tr><td>1137</td><td>1</td></tr>",
                            "<tr><td>1138</td><td>1</td></tr>",
                            "<tr><td>1139</td><td>1</td></tr>",
                            "<tr><td>1140</td><td>1</td></tr>",
                            "<tr><td>1145</td><td>1</td></tr>",
                            "<tr><td>1146</td><td>1</td></tr>",
                            "<tr><td>1147</td><td>1</td></tr>",
                            "<tr><td>1150</td><td>1</td></tr>",
                            "<tr><td>1151</td><td>1</td></tr>",
                            "<tr><td>1153</td><td>1</td></tr>",
                            "<tr><td>1154</td><td>1</td></tr>",
                            "<tr><td>1155</td><td>1</td></tr>",
                            "<tr><td>1156</td><td>1</td></tr>",
                            "<tr><td>1160</td><td>1</td></tr>",
                            "<tr><td>1162</td><td>1</td></tr>",
                            "<tr><td>1163</td><td>1</td></tr>",
                            "<tr><td>1164</td><td>1</td></tr>",
                            "<tr><td>1165</td><td>1</td></tr>",
                            "<tr><td>1166</td><td>1</td></tr>",
                            "<tr><td>1170</td><td>1</td></tr>",
                            "<tr><td>1171</td><td>1</td></tr>",
                            "<tr><td>1172</td><td>1</td></tr>",
                            "<tr><td>1174</td><td>1</td></tr>",
                            "<tr><td>1175</td><td>1</td></tr>",
                            "<tr><td>1177</td><td>1</td></tr>",
                            "<tr><td>1179</td><td>1</td></tr>",
                            "<tr><td>1180</td><td>1</td></tr>",
                            "<tr><td>1184</td><td>1</td></tr>",
                            "<tr><td>1188</td><td>1</td></tr>",
                            "<tr><td>1189</td><td>1</td></tr>",
                            "<tr><td>1191</td><td>1</td></tr>",
                            "<tr><td>1194</td><td>1</td></tr>",
                            "<tr><td>1195</td><td>1</td></tr>",
                            "<tr><td>1198</td><td>1</td></tr>",
                            "<tr><td>1204</td><td>1</td></tr>",
                            "<tr><td>1206</td><td>1</td></tr>",
                            "<tr><td>1207</td><td>1</td></tr>",
                            "<tr><td>1212</td><td>1</td></tr>",
                            "<tr><td>1216</td><td>1</td></tr>",
                            "<tr><td>1218</td><td>1</td></tr>",
                            "<tr><td>1220</td><td>1</td></tr>",
                            "<tr><td>1224</td><td>1</td></tr>",
                            "<tr><td>1226</td><td>1</td></tr>",
                            "<tr><td>1230</td><td>1</td></tr>",
                            "<tr><td>1231</td><td>1</td></tr>",
                            "<tr><td>1232</td><td>1</td></tr>",
                            "<tr><td>1233</td><td>1</td></tr>",
                            "<tr><td>1234</td><td>1</td></tr>",
                            "<tr><td>1236</td><td>1</td></tr>",
                            "<tr><td>1237</td><td>1</td></tr>",
                            "<tr><td>1238</td><td>1</td></tr>",
                            "<tr><td>1239</td><td>1</td></tr>",
                            "<tr><td>1240</td><td>1</td></tr>",
                            "<tr><td>1241</td><td>1</td></tr>",
                            "<tr><td>1246</td><td>1</td></tr>",
                            "<tr><td>1247</td><td>1</td></tr>",
                            "<tr><td>1248</td><td>1</td></tr>",
                            "<tr><td>1250</td><td>1</td></tr>",
                            "<tr><td>1251</td><td>1</td></tr>",
                            "<tr><td>1256</td><td>1</td></tr>",
                            "<tr><td>1257</td><td>1</td></tr>",
                            "<tr><td>1258</td><td>1</td></tr>",
                            "<tr><td>1260</td><td>1</td></tr>",
                            "<tr><td>1261</td><td>1</td></tr>",
                            "<tr><td>1262</td><td>1</td></tr>",
                            "<tr><td>1263</td><td>1</td></tr>",
                            "<tr><td>1267</td><td>1</td></tr>",
                            "<tr><td>1268</td><td>1</td></tr>",
                            "<tr><td>1272</td><td>1</td></tr>",
                            "<tr><td>1273</td><td>1</td></tr>",
                            "<tr><td>1274</td><td>1</td></tr>",
                            "<tr><td>1275</td><td>1</td></tr>",
                            "<tr><td>1277</td><td>1</td></tr>",
                            "<tr><td>1280</td><td>1</td></tr>",
                            "<tr><td>1281</td><td>1</td></tr>",
                            "<tr><td>1285</td><td>1</td></tr>",
                            "<tr><td>1286</td><td>1</td></tr>",
                            "<tr><td>1287</td><td>1</td></tr>",
                            "<tr><td>1292</td><td>1</td></tr>",
                            "<tr><td>1293</td><td>1</td></tr>",
                            "<tr><td>1294</td><td>1</td></tr>",
                            "<tr><td>1295</td><td>1</td></tr>",
                            "<tr><td>1296</td><td>1</td></tr>",
                            "<tr><td>1303</td><td>1</td></tr>",
                            "<tr><td>1304</td><td>1</td></tr>",
                            "<tr><td>1305</td><td>1</td></tr>",
                            "<tr><td>1306</td><td>1</td></tr>",
                            "<tr><td>1307</td><td>1</td></tr>",
                            "<tr><td>1308</td><td>1</td></tr>",
                            "<tr><td>1310</td><td>1</td></tr>",
                            "<tr><td>1311</td><td>1</td></tr>",
                            "<tr><td>1312</td><td>1</td></tr>",
                            "<tr><td>1313</td><td>1</td></tr>",
                            "<tr><td>1314</td><td>1</td></tr>",
                            "<tr><td>1317</td><td>1</td></tr>",
                            "<tr><td>1319</td><td>1</td></tr>",
                            "<tr><td>1320</td><td>1</td></tr>",
                            "<tr><td>1325</td><td>1</td></tr>",
                            "<tr><td>1326</td><td>1</td></tr>",
                            "<tr><td>1329</td><td>1</td></tr>",
                            "<tr><td>1330</td><td>1</td></tr>",
                            "<tr><td>1333</td><td>1</td></tr>",
                            "<tr><td>1335</td><td>1</td></tr>",
                            "<tr><td>1336</td><td>1</td></tr>",
                            "<tr><td>1337</td><td>1</td></tr>",
                            "<tr><td>1339</td><td>1</td></tr>",
                            "<tr><td>1340</td><td>1</td></tr>",
                            "<tr><td>1341</td><td>1</td></tr>",
                            "<tr><td>1345</td><td>1</td></tr>",
                            "<tr><td>1348</td><td>1</td></tr>",
                            "<tr><td>1351</td><td>1</td></tr>",
                            "<tr><td>1353</td><td>1</td></tr>",
                            "<tr><td>1356</td><td>1</td></tr>",
                            "<tr><td>1358</td><td>1</td></tr>",
                            "<tr><td>1359</td><td>1</td></tr>",
                            "<tr><td>1364</td><td>1</td></tr>",
                            "<tr><td>1365</td><td>1</td></tr>",
                            "<tr><td>1370</td><td>1</td></tr>",
                            "<tr><td>1371</td><td>1</td></tr>",
                            "<tr><td>1372</td><td>1</td></tr>",
                            "<tr><td>1373</td><td>1</td></tr>",
                            "<tr><td>1375</td><td>1</td></tr>",
                            "<tr><td>1377</td><td>1</td></tr>",
                            "<tr><td>1378</td><td>1</td></tr>",
                            "<tr><td>1380</td><td>1</td></tr>",
                            "<tr><td>1383</td><td>1</td></tr>",
                            "<tr><td>1385</td><td>1</td></tr>",
                            "<tr><td>1386</td><td>1</td></tr>",
                            "<tr><td>1387</td><td>1</td></tr>",
                            "<tr><td>1389</td><td>1</td></tr>",
                            "<tr><td>1391</td><td>1</td></tr>",
                            "<tr><td>1392</td><td>1</td></tr>",
                            "<tr><td>1393</td><td>1</td></tr>",
                            "<tr><td>1395</td><td>1</td></tr>",
                            "<tr><td>1396</td><td>1</td></tr>",
                            "<tr><td>1397</td><td>1</td></tr>",
                            "<tr><td>1400</td><td>1</td></tr>",
                            "<tr><td>1401</td><td>1</td></tr>",
                            "<tr><td>1402</td><td>1</td></tr>",
                            "<tr><td>1403</td><td>1</td></tr>",
                            "<tr><td>1405</td><td>1</td></tr>",
                            "<tr><td>1406</td><td>1</td></tr>",
                            "<tr><td>1408</td><td>1</td></tr>",
                            "<tr><td>1410</td><td>1</td></tr>",
                            "<tr><td>1411</td><td>1</td></tr>",
                            "<tr><td>1412</td><td>1</td></tr>",
                            "<tr><td>1413</td><td>1</td></tr>",
                            "<tr><td>1415</td><td>1</td></tr>",
                            "<tr><td>1417</td><td>1</td></tr>",
                            "<tr><td>1418</td><td>1</td></tr>",
                            "<tr><td>1420</td><td>1</td></tr>",
                            "<tr><td>1422</td><td>1</td></tr>",
                            "<tr><td>1423</td><td>1</td></tr>",
                            "<tr><td>1424</td><td>1</td></tr>",
                            "<tr><td>1426</td><td>1</td></tr>",
                            "<tr><td>1427</td><td>1</td></tr>",
                            "<tr><td>1429</td><td>1</td></tr>",
                            "<tr><td>1430</td><td>1</td></tr>",
                            "<tr><td>1431</td><td>1</td></tr>",
                            "<tr><td>1432</td><td>1</td></tr>",
                            "<tr><td>1434</td><td>1</td></tr>",
                            "<tr><td>1435</td><td>1</td></tr>",
                            "<tr><td>1437</td><td>1</td></tr>",
                            "<tr><td>1439</td><td>1</td></tr>",
                            "<tr><td>1441</td><td>1</td></tr>",
                            "<tr><td>1442</td><td>1</td></tr>",
                            "<tr><td>1448</td><td>1</td></tr>",
                            "<tr><td>1452</td><td>1</td></tr>",
                            "<tr><td>1453</td><td>1</td></tr>",
                            "<tr><td>1458</td><td>1</td></tr>",
                            "<tr><td>1459</td><td>1</td></tr>",
                            "<tr><td>1460</td><td>1</td></tr>",
                            "<tr><td>1461</td><td>1</td></tr>",
                            "<tr><td>1462</td><td>1</td></tr>",
                            "<tr><td>1463</td><td>1</td></tr>",
                            "<tr><td>1464</td><td>1</td></tr>",
                            "<tr><td>1465</td><td>1</td></tr>",
                            "<tr><td>1467</td><td>1</td></tr>",
                            "<tr><td>1470</td><td>1</td></tr>",
                            "<tr><td>1472</td><td>1</td></tr>",
                            "<tr><td>1474</td><td>1</td></tr>",
                            "<tr><td>1475</td><td>1</td></tr>",
                            "<tr><td>1476</td><td>1</td></tr>",
                            "<tr><td>1480</td><td>1</td></tr>",
                            "<tr><td>1483</td><td>1</td></tr>",
                            "<tr><td>1485</td><td>1</td></tr>",
                            "<tr><td>1489</td><td>1</td></tr>",
                            "<tr><td>1490</td><td>1</td></tr>",
                            "<tr><td>1492</td><td>1</td></tr>",
                            "<tr><td>1493</td><td>1</td></tr>",
                            "<tr><td>1498</td><td>1</td></tr>",
                            "<tr><td>1499</td><td>1</td></tr>",
                            "<tr><td>1500</td><td>1</td></tr>",
                            "<tr><td>1503</td><td>1</td></tr>",
                            "<tr><td>1504</td><td>1</td></tr>",
                            "<tr><td>1506</td><td>1</td></tr>",
                            "<tr><td>1508</td><td>1</td></tr>",
                            "<tr><td>1509</td><td>1</td></tr>",
                            "<tr><td>1511</td><td>1</td></tr>",
                            "<tr><td>1512</td><td>1</td></tr>",
                            "<tr><td>1515</td><td>1</td></tr>",
                            "<tr><td>1517</td><td>1</td></tr>",
                            "<tr><td>1523</td><td>1</td></tr>",
                            "<tr><td>1525</td><td>1</td></tr>",
                            "<tr><td>1527</td><td>1</td></tr>",
                            "<tr><td>1528</td><td>1</td></tr>",
                            "<tr><td>1531</td><td>1</td></tr>",
                            "<tr><td>1534</td><td>1</td></tr>",
                            "<tr><td>1536</td><td>1</td></tr>",
                            "<tr><td>1539</td><td>1</td></tr>",
                            "<tr><td>1541</td><td>1</td></tr>",
                            "<tr><td>1544</td><td>1</td></tr>",
                            "<tr><td>1545</td><td>1</td></tr>",
                            "<tr><td>1547</td><td>1</td></tr>",
                            "<tr><td>1551</td><td>1</td></tr>",
                            "<tr><td>1553</td><td>1</td></tr>",
                            "<tr><td>1554</td><td>1</td></tr>",
                            "</table>"
                        ]
                    }
                }
            ],
            "execution_count": 6
        },
        {
            "cell_type": "markdown",
            "source": [
                "### List the names and total hits for players who have scored more than 100 runs."
            ],
            "metadata": {
                "language": "sql",
                "azdata_cell_guid": "74765ffb-dee5-4684-9890-0d4b5fbc1351"
            },
            "attachments": {}
        },
        {
            "cell_type": "code",
            "source": [
                "SELECT Name, SUM(Hits) as Total_hits\r\n",
                "from baseball\r\n",
                "WHERE Runs>100\r\n",
                "GROUP BY Name;\r\n",
                ""
            ],
            "metadata": {
                "language": "sql",
                "azdata_cell_guid": "284be99f-708d-484a-bf56-1fe341317d0f"
            },
            "outputs": [
{
    "output_type": "display_data",
    "data": {
        "text/html": "(27 row(s) affected)"
    },
    "metadata": {}
}, {
    "output_type": "display_data",
    "data": {
        "text/html": "Total execution time: 00:00:01.048"
    },
    "metadata": {}
}, {
    "output_type": "execute_result",
    "metadata": {},
    "execution_count": 8,
    "data": {
        "application/vnd.dataresource+json": {
            "schema": {
                "fields": [
                    {
                        "name": "Name"
                    },
                    {
                        "name": "Total_hits"
                    }
                ]
            },
            "data": [
                {
                    "Name": "Ronald Acuna Jr.",
                    "Total_hits": "175"
                },
                {
                    "Name": "Ozzie Albies",
                    "Total_hits": "189"
                },
                {
                    "Name": "Pete Alonso",
                    "Total_hits": "155"
                },
                {
                    "Name": "Nolan Arenado",
                    "Total_hits": "185"
                },
                {
                    "Name": "Cody Bellinger",
                    "Total_hits": "170"
                },
                {
                    "Name": "Mookie Betts",
                    "Total_hits": "176"
                },
                {
                    "Name": "Charlie Blackmon",
                    "Total_hits": "182"
                },
                {
                    "Name": "Xander Bogaerts",
                    "Total_hits": "190"
                },
                {
                    "Name": "Alex Bregman",
                    "Total_hits": "164"
                },
                {
                    "Name": "Kris Bryant",
                    "Total_hits": "153"
                },
                {
                    "Name": "Matt Chapman",
                    "Total_hits": "145"
                },
                {
                    "Name": "Rafael Devers",
                    "Total_hits": "201"
                },
                {
                    "Name": "Adam Eaton",
                    "Total_hits": "158"
                },
                {
                    "Name": "Freddie Freeman",
                    "Total_hits": "176"
                },
                {
                    "Name": "DJ LeMahieu",
                    "Total_hits": "197"
                },
                {
                    "Name": "Francisco Lindor",
                    "Total_hits": "170"
                },
                {
                    "Name": "Trey Mancini",
                    "Total_hits": "175"
                },
                {
                    "Name": "Whit Merrifield",
                    "Total_hits": "206"
                },
                {
                    "Name": "Max Muncy",
                    "Total_hits": "122"
                },
                {
                    "Name": "Jorge Polanco",
                    "Total_hits": "186"
                },
                {
                    "Name": "Anthony Rendon",
                    "Total_hits": "174"
                },
                {
                    "Name": "Carlos Santana",
                    "Total_hits": "161"
                },
                {
                    "Name": "Marcus Semien",
                    "Total_hits": "187"
                },
                {
                    "Name": "Juan Soto",
                    "Total_hits": "153"
                },
                {
                    "Name": "Trevor Story",
                    "Total_hits": "173"
                },
                {
                    "Name": "Mike Trout",
                    "Total_hits": "137"
                },
                {
                    "Name": "Jonathan Villar",
                    "Total_hits": "176"
                }
            ]
        },
        "text/html": [
            "<table>",
            "<tr><th>Name</th><th>Total_hits</th></tr>",
            "<tr><td>Ronald Acuna Jr.</td><td>175</td></tr>",
            "<tr><td>Ozzie Albies</td><td>189</td></tr>",
            "<tr><td>Pete Alonso</td><td>155</td></tr>",
            "<tr><td>Nolan Arenado</td><td>185</td></tr>",
            "<tr><td>Cody Bellinger</td><td>170</td></tr>",
            "<tr><td>Mookie Betts</td><td>176</td></tr>",
            "<tr><td>Charlie Blackmon</td><td>182</td></tr>",
            "<tr><td>Xander Bogaerts</td><td>190</td></tr>",
            "<tr><td>Alex Bregman</td><td>164</td></tr>",
            "<tr><td>Kris Bryant</td><td>153</td></tr>",
            "<tr><td>Matt Chapman</td><td>145</td></tr>",
            "<tr><td>Rafael Devers</td><td>201</td></tr>",
            "<tr><td>Adam Eaton</td><td>158</td></tr>",
            "<tr><td>Freddie Freeman</td><td>176</td></tr>",
            "<tr><td>DJ LeMahieu</td><td>197</td></tr>",
            "<tr><td>Francisco Lindor</td><td>170</td></tr>",
            "<tr><td>Trey Mancini</td><td>175</td></tr>",
            "<tr><td>Whit Merrifield</td><td>206</td></tr>",
            "<tr><td>Max Muncy</td><td>122</td></tr>",
            "<tr><td>Jorge Polanco</td><td>186</td></tr>",
            "<tr><td>Anthony Rendon</td><td>174</td></tr>",
            "<tr><td>Carlos Santana</td><td>161</td></tr>",
            "<tr><td>Marcus Semien</td><td>187</td></tr>",
            "<tr><td>Juan Soto</td><td>153</td></tr>",
            "<tr><td>Trevor Story</td><td>173</td></tr>",
            "<tr><td>Mike Trout</td><td>137</td></tr>",
            "<tr><td>Jonathan Villar</td><td>176</td></tr>",
            "</table>"
        ]
    }
}
],
            "execution_count": 8
        }
    ]
}