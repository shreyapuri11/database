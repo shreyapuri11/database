{
    "metadata": {
        "kernelspec": {
            "name": "SQL",
            "display_name": "SQL",
            "language": "sql"
        },
        "language_info": {
            "name": "sql",
            "version": ""
        }
    },
    "nbformat_minor": 2,
    "nbformat": 4,
    "cells": [
        {
            "cell_type": "code",
            "source": [
                "select database();"
            ],
            "metadata": {
                "azdata_cell_guid": "3295a211-5417-4c50-a6cc-ba777471680c",
                "language": "sql"
            },
            "outputs": [
                {
                    "output_type": "display_data",
                    "data": {
                        "text/html": "(1 row(s) affected)"
                    },
                    "metadata": {}
                },
                {
                    "output_type": "display_data",
                    "data": {
                        "text/html": "Total execution time: 00:00:01.077"
                    },
                    "metadata": {}
                },
                {
                    "output_type": "execute_result",
                    "metadata": {},
                    "execution_count": 3,
                    "data": {
                        "application/vnd.dataresource+json": {
                            "schema": {
                                "fields": [
                                    {
                                        "name": "database()"
                                    }
                                ]
                            },
                            "data": [
                                {
                                    "database()": "NULL"
                                }
                            ]
                        },
                        "text/html": [
                            "<table>",
                            "<tr><th>database()</th></tr>",
                            "<tr><td>NULL</td></tr>",
                            "</table>"
                        ]
                    }
                }
            ],
            "execution_count": 3
        },
        {
            "cell_type": "code",
            "source": [
                "USE sakila; -- Database changed"
            ],
            "metadata": {
                "azdata_cell_guid": "9824f317-740d-4627-a806-a40cc41e4ff0",
                "language": "sql"
            },
            "outputs": [
                {
                    "output_type": "display_data",
                    "data": {
                        "text/html": "Commands completed successfully"
                    },
                    "metadata": {}
                },
                {
                    "output_type": "display_data",
                    "data": {
                        "text/html": "Total execution time: 00:00:00.003"
                    },
                    "metadata": {}
                }
            ],
            "execution_count": 4
        },
        {
            "cell_type": "code",
            "source": [
                "show databases;"
            ],
            "metadata": {
                "azdata_cell_guid": "cf8ba59e-6714-4733-b78b-0b3beb8a75c0",
                "language": "sql"
            },
            "outputs": [
                {
                    "output_type": "display_data",
                    "data": {
                        "text/html": "(6 row(s) affected)"
                    },
                    "metadata": {}
                },
                {
                    "output_type": "display_data",
                    "data": {
                        "text/html": "Total execution time: 00:00:01.052"
                    },
                    "metadata": {}
                },
                {
                    "output_type": "execute_result",
                    "metadata": {},
                    "execution_count": 5,
                    "data": {
                        "application/vnd.dataresource+json": {
                            "schema": {
                                "fields": [
                                    {
                                        "name": "Database"
                                    }
                                ]
                            },
                            "data": [
                                {
                                    "Database": "information_schema"
                                },
                                {
                                    "Database": "mysql"
                                },
                                {
                                    "Database": "performance_schema"
                                },
                                {
                                    "Database": "sakila"
                                },
                                {
                                    "Database": "sys"
                                },
                                {
                                    "Database": "world"
                                }
                            ]
                        },
                        "text/html": [
                            "<table>",
                            "<tr><th>Database</th></tr>",
                            "<tr><td>information_schema</td></tr>",
                            "<tr><td>mysql</td></tr>",
                            "<tr><td>performance_schema</td></tr>",
                            "<tr><td>sakila</td></tr>",
                            "<tr><td>sys</td></tr>",
                            "<tr><td>world</td></tr>",
                            "</table>"
                        ]
                    }
                }
            ],
            "execution_count": 5
        },
        {
            "cell_type": "code",
            "source": [
                "CREATE DATABASE IF NOT EXISTS school;\r\n",
                "show databases;"
            ],
            "metadata": {
                "language": "sql",
                "azdata_cell_guid": "880008ba-407f-44a1-b78e-f08ca805955d"
            },
            "outputs": [
                {
                    "output_type": "display_data",
                    "data": {
                        "text/html": "Commands completed successfully"
                    },
                    "metadata": {}
                },
                {
                    "output_type": "display_data",
                    "data": {
                        "text/html": "(7 row(s) affected)"
                    },
                    "metadata": {}
                },
                {
                    "output_type": "display_data",
                    "data": {
                        "text/html": "Total execution time: 00:00:01.013"
                    },
                    "metadata": {}
                },
                {
                    "output_type": "execute_result",
                    "metadata": {},
                    "execution_count": 7,
                    "data": {
                        "application/vnd.dataresource+json": {
                            "schema": {
                                "fields": [
                                    {
                                        "name": "Database"
                                    }
                                ]
                            },
                            "data": [
                                {
                                    "Database": "information_schema"
                                },
                                {
                                    "Database": "mysql"
                                },
                                {
                                    "Database": "performance_schema"
                                },
                                {
                                    "Database": "sakila"
                                },
                                {
                                    "Database": "school"
                                },
                                {
                                    "Database": "sys"
                                },
                                {
                                    "Database": "world"
                                }
                            ]
                        },
                        "text/html": [
                            "<table>",
                            "<tr><th>Database</th></tr>",
                            "<tr><td>information_schema</td></tr>",
                            "<tr><td>mysql</td></tr>",
                            "<tr><td>performance_schema</td></tr>",
                            "<tr><td>sakila</td></tr>",
                            "<tr><td>school</td></tr>",
                            "<tr><td>sys</td></tr>",
                            "<tr><td>world</td></tr>",
                            "</table>"
                        ]
                    }
                }
            ],
            "execution_count": 7
        },
        {
            "cell_type": "code",
            "source": [
                "use school;"
            ],
            "metadata": {
                "language": "sql",
                "azdata_cell_guid": "1bac2cec-cccb-4a35-b0b0-02baffccef3c"
            },
            "outputs": [
                {
                    "output_type": "display_data",
                    "data": {
                        "text/html": "Commands completed successfully"
                    },
                    "metadata": {}
                },
                {
                    "output_type": "display_data",
                    "data": {
                        "text/html": "Total execution time: 00:00:00.001"
                    },
                    "metadata": {}
                }
            ],
            "execution_count": 8
        },
        {
            "cell_type": "code",
            "source": [
                "CREATE TABLE IF NOT EXISTS tasks(\r\n",
                "    task_id INT auto_increment PRIMARY KEY,\r\n",
                "    task_name text,\r\n",
                ");"
            ],
            "metadata": {
                "language": "sql",
                "azdata_cell_guid": "463f6a3b-bba6-420f-9d40-0edad3f9f30f"
            },
            "outputs": [
                {
                    "output_type": "display_data",
                    "data": {
                        "text/html": "Total execution time: 00:00:00.001"
                    },
                    "metadata": {}
                },
                {
                    "output_type": "error",
                    "evalue": "1064 (42000): You have an error in your SQL syntax; check the manual that corresponds to your MySQL server version for the right syntax to use near ')' at line 4",
                    "ename": "",
                    "traceback": []
                }
            ],
            "execution_count": 13
        },
        {
            "cell_type": "code",
            "source": [
                "CREATE table IF NOT EXISTS checklists(\r\n",
                "    todo_id INT AUTO_increment,\r\n",
                "    task_id INT,\r\n",
                "    todo VARCHAR(255) NOT NULL,\r\n",
                "    is_completed boolean NOT null DEFAULT FALSE,\r\n",
                "    PRIMARY KEY(todo_id,task_id),\r\n",
                "    FOREIGN KEY (task_id)\r\n",
                "         REFERENCES tasks (task_id)\r\n",
                "         ON UPDATE RESTRICT on DELETE CASCADE\r\n",
                ");"
            ],
            "metadata": {
                "language": "sql",
                "azdata_cell_guid": "ff84b752-0908-42fc-913f-7c05f45a3d14",
                "tags": []
            },
            "outputs": [
{
    "output_type": "display_data",
    "data": {
        "text/html": "Total execution time: 00:00:00.003"
    },
    "metadata": {}
}
],
            "execution_count": 14
        }
    ]
}