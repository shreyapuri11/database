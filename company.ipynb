{
    "metadata": {
        "kernelspec": {
            "name": "SQL",
            "display_name": "SQL",
            "language": "sql"
        },
        "language_info": {
            "name": "sql",
            "version": ""
        }
    },
    "nbformat_minor": 2,
    "nbformat": 4,
    "cells": [
        {
            "cell_type": "code",
            "source": [
                "CREATE DATABASE company;"
            ],
            "metadata": {
                "azdata_cell_guid": "67d6053c-7006-493d-be7d-4daf2d931334",
                "language": "sql"
            },
            "outputs": [
                {
                    "output_type": "display_data",
                    "data": {
                        "text/html": "Commands completed successfully"
                    },
                    "metadata": {}
                },
                {
                    "output_type": "display_data",
                    "data": {
                        "text/html": "Total execution time: 00:00:00.057"
                    },
                    "metadata": {}
                }
            ],
            "execution_count": 1
        },
        {
            "cell_type": "code",
            "source": [
                "use company;"
            ],
            "metadata": {
                "language": "sql",
                "azdata_cell_guid": "48f6ecf4-1bed-4f89-b850-5d7d9e6d9825"
            },
            "outputs": [
                {
                    "output_type": "display_data",
                    "data": {
                        "text/html": "Commands completed successfully"
                    },
                    "metadata": {}
                },
                {
                    "output_type": "display_data",
                    "data": {
                        "text/html": "Total execution time: 00:00:00.004"
                    },
                    "metadata": {}
                }
            ],
            "execution_count": 2
        },
        {
            "cell_type": "code",
            "source": [
                "create TABLE IF NOT EXISTS products(\r\n",
                "    prod_id INTEGER PRIMARY KEY AUTO_INCREMENT,\r\n",
                "    title VARCHAR(30),\r\n",
                "    price DECIMAL(10,2),\r\n",
                "    discount DECIMAL(10,2),\r\n",
                "    brand VARCHAR(30),\r\n",
                "    category VARCHAR(30),\r\n",
                "    quantity INTEGER\r\n",
                ");"
            ],
            "metadata": {
                "language": "sql",
                "azdata_cell_guid": "8b579bf1-17c3-4387-9917-ef04e840eb13"
            },
            "outputs": [
                {
                    "output_type": "display_data",
                    "data": {
                        "text/html": "Commands completed successfully"
                    },
                    "metadata": {}
                },
                {
                    "output_type": "display_data",
                    "data": {
                        "text/html": "Total execution time: 00:00:00.150"
                    },
                    "metadata": {}
                }
            ],
            "execution_count": 6
        },
        {
            "cell_type": "code",
            "source": [
                "describe products;"
            ],
            "metadata": {
                "language": "sql",
                "azdata_cell_guid": "70e65b5e-381e-4d68-80cf-4e70a5a50686"
            },
            "outputs": [
{
    "output_type": "display_data",
    "data": {
        "text/html": "(7 row(s) affected)"
    },
    "metadata": {}
}, {
    "output_type": "display_data",
    "data": {
        "text/html": "Total execution time: 00:00:01.061"
    },
    "metadata": {}
}, {
    "output_type": "execute_result",
    "metadata": {},
    "execution_count": 7,
    "data": {
        "application/vnd.dataresource+json": {
            "schema": {
                "fields": [
                    {
                        "name": "Field"
                    },
                    {
                        "name": "Type"
                    },
                    {
                        "name": "Null"
                    },
                    {
                        "name": "Key"
                    },
                    {
                        "name": "Default"
                    },
                    {
                        "name": "Extra"
                    }
                ]
            },
            "data": [
                {
                    "Field": "prod_id",
                    "Type": "b'int'",
                    "Null": "NO",
                    "Key": "PRI",
                    "Default": "NULL",
                    "Extra": "auto_increment"
                },
                {
                    "Field": "title",
                    "Type": "b'varchar(30)'",
                    "Null": "YES",
                    "Key": "",
                    "Default": "NULL",
                    "Extra": ""
                },
                {
                    "Field": "price",
                    "Type": "b'decimal(10,2)'",
                    "Null": "YES",
                    "Key": "",
                    "Default": "NULL",
                    "Extra": ""
                },
                {
                    "Field": "discount",
                    "Type": "b'decimal(10,2)'",
                    "Null": "YES",
                    "Key": "",
                    "Default": "NULL",
                    "Extra": ""
                },
                {
                    "Field": "brand",
                    "Type": "b'varchar(30)'",
                    "Null": "YES",
                    "Key": "",
                    "Default": "NULL",
                    "Extra": ""
                },
                {
                    "Field": "category",
                    "Type": "b'varchar(30)'",
                    "Null": "YES",
                    "Key": "",
                    "Default": "NULL",
                    "Extra": ""
                },
                {
                    "Field": "quantity",
                    "Type": "b'int'",
                    "Null": "YES",
                    "Key": "",
                    "Default": "NULL",
                    "Extra": ""
                }
            ]
        },
        "text/html": [
            "<table>",
            "<tr><th>Field</th><th>Type</th><th>Null</th><th>Key</th><th>Default</th><th>Extra</th></tr>",
            "<tr><td>prod_id</td><td>b&#39;int&#39;</td><td>NO</td><td>PRI</td><td>NULL</td><td>auto_increment</td></tr>",
            "<tr><td>title</td><td>b&#39;varchar(30)&#39;</td><td>YES</td><td></td><td>NULL</td><td></td></tr>",
            "<tr><td>price</td><td>b&#39;decimal(10,2)&#39;</td><td>YES</td><td></td><td>NULL</td><td></td></tr>",
            "<tr><td>discount</td><td>b&#39;decimal(10,2)&#39;</td><td>YES</td><td></td><td>NULL</td><td></td></tr>",
            "<tr><td>brand</td><td>b&#39;varchar(30)&#39;</td><td>YES</td><td></td><td>NULL</td><td></td></tr>",
            "<tr><td>category</td><td>b&#39;varchar(30)&#39;</td><td>YES</td><td></td><td>NULL</td><td></td></tr>",
            "<tr><td>quantity</td><td>b&#39;int&#39;</td><td>YES</td><td></td><td>NULL</td><td></td></tr>",
            "</table>"
        ]
    }
}
],
            "execution_count": 7
        }
    ]
}