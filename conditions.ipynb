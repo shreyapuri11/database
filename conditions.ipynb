{
    "metadata": {
        "kernelspec": {
            "name": "SQL",
            "display_name": "SQL",
            "language": "sql"
        },
        "language_info": {
            "name": "sql",
            "version": ""
        }
    },
    "nbformat_minor": 2,
    "nbformat": 4,
    "cells": [
        {
            "cell_type": "markdown",
            "source": [
                "# IF condition\r\n",
                ""
            ],
            "metadata": {
                "language": "sql",
                "azdata_cell_guid": "0bf6e8e3-78ab-4aed-be85-b99b394797c5"
            },
            "attachments": {}
        },
        {
            "cell_type": "markdown",
            "source": [
                "### if-elif switch case"
            ],
            "metadata": {
                "language": "sql",
                "azdata_cell_guid": "c9c7eca9-1593-44a8-a56c-8faa5052501a"
            },
            "attachments": {}
        },
        {
            "cell_type": "code",
            "source": [
                "use sales;"
            ],
            "metadata": {
                "azdata_cell_guid": "aae4c048-b46c-464e-bbc7-f290ee2ea7a1",
                "language": "sql"
            },
            "outputs": [
                {
                    "output_type": "display_data",
                    "data": {
                        "text/html": "Commands completed successfully"
                    },
                    "metadata": {}
                },
                {
                    "output_type": "display_data",
                    "data": {
                        "text/html": "Total execution time: 00:00:00.001"
                    },
                    "metadata": {}
                }
            ],
            "execution_count": 6
        },
        {
            "cell_type": "code",
            "source": [
                "select * from customers limit 2;"
            ],
            "metadata": {
                "language": "sql",
                "azdata_cell_guid": "96f67e26-f1b5-43a7-b6cd-c8bbc184f9c4"
            },
            "outputs": [
                {
                    "output_type": "display_data",
                    "data": {
                        "text/html": "(2 row(s) affected)"
                    },
                    "metadata": {}
                },
                {
                    "output_type": "display_data",
                    "data": {
                        "text/html": "Total execution time: 00:00:01.008"
                    },
                    "metadata": {}
                },
                {
                    "output_type": "execute_result",
                    "metadata": {},
                    "execution_count": 7,
                    "data": {
                        "application/vnd.dataresource+json": {
                            "schema": {
                                "fields": [
                                    {
                                        "name": "CID"
                                    },
                                    {
                                        "name": "FirstName"
                                    },
                                    {
                                        "name": "LastName"
                                    },
                                    {
                                        "name": "Address"
                                    },
                                    {
                                        "name": "City"
                                    },
                                    {
                                        "name": "State"
                                    },
                                    {
                                        "name": "Zip"
                                    },
                                    {
                                        "name": "email"
                                    },
                                    {
                                        "name": "phone"
                                    }
                                ]
                            },
                            "data": [
                                {
                                    "CID": "AB98",
                                    "FirstName": "Aiden",
                                    "LastName": "Berg",
                                    "Address": "11367 Maple Street",
                                    "City": "Delhi",
                                    "State": "CA",
                                    "Zip": "95315",
                                    "email": "Aiden.Berg@gmail.com",
                                    "phone": "123"
                                },
                                {
                                    "CID": "AC75",
                                    "FirstName": "Arianna",
                                    "LastName": "Cruz",
                                    "Address": "13944 Myrtle Avenue",
                                    "City": "Huntington",
                                    "State": "WV",
                                    "Zip": "25770",
                                    "email": "Arianna.Cruz@excite.com",
                                    "phone": "NULL"
                                }
                            ]
                        },
                        "text/html": [
                            "<table>",
                            "<tr><th>CID</th><th>FirstName</th><th>LastName</th><th>Address</th><th>City</th><th>State</th><th>Zip</th><th>email</th><th>phone</th></tr>",
                            "<tr><td>AB98</td><td>Aiden</td><td>Berg</td><td>11367 Maple Street</td><td>Delhi</td><td>CA</td><td>95315</td><td>Aiden.Berg@gmail.com</td><td>123</td></tr>",
                            "<tr><td>AC75</td><td>Arianna</td><td>Cruz</td><td>13944 Myrtle Avenue</td><td>Huntington</td><td>WV</td><td>25770</td><td>Arianna.Cruz@excite.com</td><td>NULL</td></tr>",
                            "</table>"
                        ]
                    }
                }
            ],
            "execution_count": 7
        },
        {
            "cell_type": "markdown",
            "source": [
                "### count the number of customers per state"
            ],
            "metadata": {
                "language": "sql",
                "azdata_cell_guid": "456b0625-c3a6-4562-a610-1cc535b54a9c"
            },
            "attachments": {}
        },
        {
            "cell_type": "code",
            "source": [
                "select count(CID) as total, State \r\n",
                "from customers\r\n",
                "GROUP BY State;"
            ],
            "metadata": {
                "language": "sql",
                "azdata_cell_guid": "2965aef3-c56f-4af5-b055-27c9243e9cf7"
            },
            "outputs": [
                {
                    "output_type": "display_data",
                    "data": {
                        "text/html": "(47 row(s) affected)"
                    },
                    "metadata": {}
                },
                {
                    "output_type": "display_data",
                    "data": {
                        "text/html": "Total execution time: 00:00:01.016"
                    },
                    "metadata": {}
                },
                {
                    "output_type": "execute_result",
                    "metadata": {},
                    "execution_count": 8,
                    "data": {
                        "application/vnd.dataresource+json": {
                            "schema": {
                                "fields": [
                                    {
                                        "name": "total"
                                    },
                                    {
                                        "name": "State"
                                    }
                                ]
                            },
                            "data": [
                                {
                                    "total": "18",
                                    "State": "CA"
                                },
                                {
                                    "total": "4",
                                    "State": "WV"
                                },
                                {
                                    "total": "11",
                                    "State": "TN"
                                },
                                {
                                    "total": "12",
                                    "State": "TX"
                                },
                                {
                                    "total": "6",
                                    "State": "MN"
                                },
                                {
                                    "total": "8",
                                    "State": "OH"
                                },
                                {
                                    "total": "8",
                                    "State": "WI"
                                },
                                {
                                    "total": "7",
                                    "State": "AL"
                                },
                                {
                                    "total": "5",
                                    "State": "FL"
                                },
                                {
                                    "total": "8",
                                    "State": "NY"
                                },
                                {
                                    "total": "7",
                                    "State": "MO"
                                },
                                {
                                    "total": "7",
                                    "State": "AR"
                                },
                                {
                                    "total": "7",
                                    "State": "PA"
                                },
                                {
                                    "total": "6",
                                    "State": "MI"
                                },
                                {
                                    "total": "4",
                                    "State": "VA"
                                },
                                {
                                    "total": "7",
                                    "State": "MA"
                                },
                                {
                                    "total": "3",
                                    "State": "GA"
                                },
                                {
                                    "total": "5",
                                    "State": "CO"
                                },
                                {
                                    "total": "3",
                                    "State": "NE"
                                },
                                {
                                    "total": "5",
                                    "State": "WA"
                                },
                                {
                                    "total": "4",
                                    "State": "MS"
                                },
                                {
                                    "total": "2",
                                    "State": "ND"
                                },
                                {
                                    "total": "3",
                                    "State": "NM"
                                },
                                {
                                    "total": "4",
                                    "State": "KS"
                                },
                                {
                                    "total": "1",
                                    "State": "NC"
                                },
                                {
                                    "total": "4",
                                    "State": "KY"
                                },
                                {
                                    "total": "2",
                                    "State": "MT"
                                },
                                {
                                    "total": "2",
                                    "State": "IN"
                                },
                                {
                                    "total": "4",
                                    "State": "OK"
                                },
                                {
                                    "total": "1",
                                    "State": "VT"
                                },
                                {
                                    "total": "3",
                                    "State": "IL"
                                },
                                {
                                    "total": "2",
                                    "State": "LA"
                                },
                                {
                                    "total": "3",
                                    "State": "UT"
                                },
                                {
                                    "total": "4",
                                    "State": "NJ"
                                },
                                {
                                    "total": "3",
                                    "State": "DC"
                                },
                                {
                                    "total": "1",
                                    "State": "ID"
                                },
                                {
                                    "total": "3",
                                    "State": "SD"
                                },
                                {
                                    "total": "3",
                                    "State": "OR"
                                },
                                {
                                    "total": "1",
                                    "State": "MD"
                                },
                                {
                                    "total": "1",
                                    "State": "SC"
                                },
                                {
                                    "total": "1",
                                    "State": "HI"
                                },
                                {
                                    "total": "1",
                                    "State": "ME"
                                },
                                {
                                    "total": "1",
                                    "State": "NV"
                                },
                                {
                                    "total": "3",
                                    "State": "AZ"
                                },
                                {
                                    "total": "2",
                                    "State": "IA"
                                },
                                {
                                    "total": "1",
                                    "State": "CT"
                                },
                                {
                                    "total": "1",
                                    "State": "NH"
                                }
                            ]
                        },
                        "text/html": [
                            "<table>",
                            "<tr><th>total</th><th>State</th></tr>",
                            "<tr><td>18</td><td>CA</td></tr>",
                            "<tr><td>4</td><td>WV</td></tr>",
                            "<tr><td>11</td><td>TN</td></tr>",
                            "<tr><td>12</td><td>TX</td></tr>",
                            "<tr><td>6</td><td>MN</td></tr>",
                            "<tr><td>8</td><td>OH</td></tr>",
                            "<tr><td>8</td><td>WI</td></tr>",
                            "<tr><td>7</td><td>AL</td></tr>",
                            "<tr><td>5</td><td>FL</td></tr>",
                            "<tr><td>8</td><td>NY</td></tr>",
                            "<tr><td>7</td><td>MO</td></tr>",
                            "<tr><td>7</td><td>AR</td></tr>",
                            "<tr><td>7</td><td>PA</td></tr>",
                            "<tr><td>6</td><td>MI</td></tr>",
                            "<tr><td>4</td><td>VA</td></tr>",
                            "<tr><td>7</td><td>MA</td></tr>",
                            "<tr><td>3</td><td>GA</td></tr>",
                            "<tr><td>5</td><td>CO</td></tr>",
                            "<tr><td>3</td><td>NE</td></tr>",
                            "<tr><td>5</td><td>WA</td></tr>",
                            "<tr><td>4</td><td>MS</td></tr>",
                            "<tr><td>2</td><td>ND</td></tr>",
                            "<tr><td>3</td><td>NM</td></tr>",
                            "<tr><td>4</td><td>KS</td></tr>",
                            "<tr><td>1</td><td>NC</td></tr>",
                            "<tr><td>4</td><td>KY</td></tr>",
                            "<tr><td>2</td><td>MT</td></tr>",
                            "<tr><td>2</td><td>IN</td></tr>",
                            "<tr><td>4</td><td>OK</td></tr>",
                            "<tr><td>1</td><td>VT</td></tr>",
                            "<tr><td>3</td><td>IL</td></tr>",
                            "<tr><td>2</td><td>LA</td></tr>",
                            "<tr><td>3</td><td>UT</td></tr>",
                            "<tr><td>4</td><td>NJ</td></tr>",
                            "<tr><td>3</td><td>DC</td></tr>",
                            "<tr><td>1</td><td>ID</td></tr>",
                            "<tr><td>3</td><td>SD</td></tr>",
                            "<tr><td>3</td><td>OR</td></tr>",
                            "<tr><td>1</td><td>MD</td></tr>",
                            "<tr><td>1</td><td>SC</td></tr>",
                            "<tr><td>1</td><td>HI</td></tr>",
                            "<tr><td>1</td><td>ME</td></tr>",
                            "<tr><td>1</td><td>NV</td></tr>",
                            "<tr><td>3</td><td>AZ</td></tr>",
                            "<tr><td>2</td><td>IA</td></tr>",
                            "<tr><td>1</td><td>CT</td></tr>",
                            "<tr><td>1</td><td>NH</td></tr>",
                            "</table>"
                        ]
                    }
                }
            ],
            "execution_count": 8
        },
        {
            "cell_type": "code",
            "source": [
                "select count(CID) as total, State, \r\n",
                "if(count(CID) >= 10,\"important\",\"not important\") as importance\r\n",
                "from customers\r\n",
                "GROUP BY State;"
            ],
            "metadata": {
                "language": "sql",
                "azdata_cell_guid": "bf86c2ea-59df-40de-8847-43b9698adc05"
            },
            "outputs": [
                {
                    "output_type": "display_data",
                    "data": {
                        "text/html": "(47 row(s) affected)"
                    },
                    "metadata": {}
                },
                {
                    "output_type": "display_data",
                    "data": {
                        "text/html": "Total execution time: 00:00:01.014"
                    },
                    "metadata": {}
                },
                {
                    "output_type": "execute_result",
                    "metadata": {},
                    "execution_count": 9,
                    "data": {
                        "application/vnd.dataresource+json": {
                            "schema": {
                                "fields": [
                                    {
                                        "name": "total"
                                    },
                                    {
                                        "name": "State"
                                    },
                                    {
                                        "name": "importance"
                                    }
                                ]
                            },
                            "data": [
                                {
                                    "total": "18",
                                    "State": "CA",
                                    "importance": "important"
                                },
                                {
                                    "total": "4",
                                    "State": "WV",
                                    "importance": "not important"
                                },
                                {
                                    "total": "11",
                                    "State": "TN",
                                    "importance": "important"
                                },
                                {
                                    "total": "12",
                                    "State": "TX",
                                    "importance": "important"
                                },
                                {
                                    "total": "6",
                                    "State": "MN",
                                    "importance": "not important"
                                },
                                {
                                    "total": "8",
                                    "State": "OH",
                                    "importance": "not important"
                                },
                                {
                                    "total": "8",
                                    "State": "WI",
                                    "importance": "not important"
                                },
                                {
                                    "total": "7",
                                    "State": "AL",
                                    "importance": "not important"
                                },
                                {
                                    "total": "5",
                                    "State": "FL",
                                    "importance": "not important"
                                },
                                {
                                    "total": "8",
                                    "State": "NY",
                                    "importance": "not important"
                                },
                                {
                                    "total": "7",
                                    "State": "MO",
                                    "importance": "not important"
                                },
                                {
                                    "total": "7",
                                    "State": "AR",
                                    "importance": "not important"
                                },
                                {
                                    "total": "7",
                                    "State": "PA",
                                    "importance": "not important"
                                },
                                {
                                    "total": "6",
                                    "State": "MI",
                                    "importance": "not important"
                                },
                                {
                                    "total": "4",
                                    "State": "VA",
                                    "importance": "not important"
                                },
                                {
                                    "total": "7",
                                    "State": "MA",
                                    "importance": "not important"
                                },
                                {
                                    "total": "3",
                                    "State": "GA",
                                    "importance": "not important"
                                },
                                {
                                    "total": "5",
                                    "State": "CO",
                                    "importance": "not important"
                                },
                                {
                                    "total": "3",
                                    "State": "NE",
                                    "importance": "not important"
                                },
                                {
                                    "total": "5",
                                    "State": "WA",
                                    "importance": "not important"
                                },
                                {
                                    "total": "4",
                                    "State": "MS",
                                    "importance": "not important"
                                },
                                {
                                    "total": "2",
                                    "State": "ND",
                                    "importance": "not important"
                                },
                                {
                                    "total": "3",
                                    "State": "NM",
                                    "importance": "not important"
                                },
                                {
                                    "total": "4",
                                    "State": "KS",
                                    "importance": "not important"
                                },
                                {
                                    "total": "1",
                                    "State": "NC",
                                    "importance": "not important"
                                },
                                {
                                    "total": "4",
                                    "State": "KY",
                                    "importance": "not important"
                                },
                                {
                                    "total": "2",
                                    "State": "MT",
                                    "importance": "not important"
                                },
                                {
                                    "total": "2",
                                    "State": "IN",
                                    "importance": "not important"
                                },
                                {
                                    "total": "4",
                                    "State": "OK",
                                    "importance": "not important"
                                },
                                {
                                    "total": "1",
                                    "State": "VT",
                                    "importance": "not important"
                                },
                                {
                                    "total": "3",
                                    "State": "IL",
                                    "importance": "not important"
                                },
                                {
                                    "total": "2",
                                    "State": "LA",
                                    "importance": "not important"
                                },
                                {
                                    "total": "3",
                                    "State": "UT",
                                    "importance": "not important"
                                },
                                {
                                    "total": "4",
                                    "State": "NJ",
                                    "importance": "not important"
                                },
                                {
                                    "total": "3",
                                    "State": "DC",
                                    "importance": "not important"
                                },
                                {
                                    "total": "1",
                                    "State": "ID",
                                    "importance": "not important"
                                },
                                {
                                    "total": "3",
                                    "State": "SD",
                                    "importance": "not important"
                                },
                                {
                                    "total": "3",
                                    "State": "OR",
                                    "importance": "not important"
                                },
                                {
                                    "total": "1",
                                    "State": "MD",
                                    "importance": "not important"
                                },
                                {
                                    "total": "1",
                                    "State": "SC",
                                    "importance": "not important"
                                },
                                {
                                    "total": "1",
                                    "State": "HI",
                                    "importance": "not important"
                                },
                                {
                                    "total": "1",
                                    "State": "ME",
                                    "importance": "not important"
                                },
                                {
                                    "total": "1",
                                    "State": "NV",
                                    "importance": "not important"
                                },
                                {
                                    "total": "3",
                                    "State": "AZ",
                                    "importance": "not important"
                                },
                                {
                                    "total": "2",
                                    "State": "IA",
                                    "importance": "not important"
                                },
                                {
                                    "total": "1",
                                    "State": "CT",
                                    "importance": "not important"
                                },
                                {
                                    "total": "1",
                                    "State": "NH",
                                    "importance": "not important"
                                }
                            ]
                        },
                        "text/html": [
                            "<table>",
                            "<tr><th>total</th><th>State</th><th>importance</th></tr>",
                            "<tr><td>18</td><td>CA</td><td>important</td></tr>",
                            "<tr><td>4</td><td>WV</td><td>not important</td></tr>",
                            "<tr><td>11</td><td>TN</td><td>important</td></tr>",
                            "<tr><td>12</td><td>TX</td><td>important</td></tr>",
                            "<tr><td>6</td><td>MN</td><td>not important</td></tr>",
                            "<tr><td>8</td><td>OH</td><td>not important</td></tr>",
                            "<tr><td>8</td><td>WI</td><td>not important</td></tr>",
                            "<tr><td>7</td><td>AL</td><td>not important</td></tr>",
                            "<tr><td>5</td><td>FL</td><td>not important</td></tr>",
                            "<tr><td>8</td><td>NY</td><td>not important</td></tr>",
                            "<tr><td>7</td><td>MO</td><td>not important</td></tr>",
                            "<tr><td>7</td><td>AR</td><td>not important</td></tr>",
                            "<tr><td>7</td><td>PA</td><td>not important</td></tr>",
                            "<tr><td>6</td><td>MI</td><td>not important</td></tr>",
                            "<tr><td>4</td><td>VA</td><td>not important</td></tr>",
                            "<tr><td>7</td><td>MA</td><td>not important</td></tr>",
                            "<tr><td>3</td><td>GA</td><td>not important</td></tr>",
                            "<tr><td>5</td><td>CO</td><td>not important</td></tr>",
                            "<tr><td>3</td><td>NE</td><td>not important</td></tr>",
                            "<tr><td>5</td><td>WA</td><td>not important</td></tr>",
                            "<tr><td>4</td><td>MS</td><td>not important</td></tr>",
                            "<tr><td>2</td><td>ND</td><td>not important</td></tr>",
                            "<tr><td>3</td><td>NM</td><td>not important</td></tr>",
                            "<tr><td>4</td><td>KS</td><td>not important</td></tr>",
                            "<tr><td>1</td><td>NC</td><td>not important</td></tr>",
                            "<tr><td>4</td><td>KY</td><td>not important</td></tr>",
                            "<tr><td>2</td><td>MT</td><td>not important</td></tr>",
                            "<tr><td>2</td><td>IN</td><td>not important</td></tr>",
                            "<tr><td>4</td><td>OK</td><td>not important</td></tr>",
                            "<tr><td>1</td><td>VT</td><td>not important</td></tr>",
                            "<tr><td>3</td><td>IL</td><td>not important</td></tr>",
                            "<tr><td>2</td><td>LA</td><td>not important</td></tr>",
                            "<tr><td>3</td><td>UT</td><td>not important</td></tr>",
                            "<tr><td>4</td><td>NJ</td><td>not important</td></tr>",
                            "<tr><td>3</td><td>DC</td><td>not important</td></tr>",
                            "<tr><td>1</td><td>ID</td><td>not important</td></tr>",
                            "<tr><td>3</td><td>SD</td><td>not important</td></tr>",
                            "<tr><td>3</td><td>OR</td><td>not important</td></tr>",
                            "<tr><td>1</td><td>MD</td><td>not important</td></tr>",
                            "<tr><td>1</td><td>SC</td><td>not important</td></tr>",
                            "<tr><td>1</td><td>HI</td><td>not important</td></tr>",
                            "<tr><td>1</td><td>ME</td><td>not important</td></tr>",
                            "<tr><td>1</td><td>NV</td><td>not important</td></tr>",
                            "<tr><td>3</td><td>AZ</td><td>not important</td></tr>",
                            "<tr><td>2</td><td>IA</td><td>not important</td></tr>",
                            "<tr><td>1</td><td>CT</td><td>not important</td></tr>",
                            "<tr><td>1</td><td>NH</td><td>not important</td></tr>",
                            "</table>"
                        ]
                    }
                }
            ],
            "execution_count": 9
        },
        {
            "cell_type": "code",
            "source": [
                "use sakila;"
            ],
            "metadata": {
                "language": "sql",
                "azdata_cell_guid": "a7203f66-f278-4ea1-bc0b-5c95deb51678"
            },
            "outputs": [
                {
                    "output_type": "display_data",
                    "data": {
                        "text/html": "Commands completed successfully"
                    },
                    "metadata": {}
                },
                {
                    "output_type": "display_data",
                    "data": {
                        "text/html": "Total execution time: 00:00:00.001"
                    },
                    "metadata": {}
                }
            ],
            "execution_count": 10
        },
        {
            "cell_type": "code",
            "source": [
                "select * from film limit 5;"
            ],
            "metadata": {
                "language": "sql",
                "azdata_cell_guid": "b80bc9e0-eaac-4bf5-8e8b-b9e6dd5080bc"
            },
            "outputs": [
                {
                    "output_type": "display_data",
                    "data": {
                        "text/html": "(5 row(s) affected)"
                    },
                    "metadata": {}
                },
                {
                    "output_type": "display_data",
                    "data": {
                        "text/html": "Total execution time: 00:00:01.070"
                    },
                    "metadata": {}
                },
                {
                    "output_type": "execute_result",
                    "metadata": {},
                    "execution_count": 11,
                    "data": {
                        "application/vnd.dataresource+json": {
                            "schema": {
                                "fields": [
                                    {
                                        "name": "film_id"
                                    },
                                    {
                                        "name": "title"
                                    },
                                    {
                                        "name": "description"
                                    },
                                    {
                                        "name": "release_year"
                                    },
                                    {
                                        "name": "language_id"
                                    },
                                    {
                                        "name": "original_language_id"
                                    },
                                    {
                                        "name": "rental_duration"
                                    },
                                    {
                                        "name": "rental_rate"
                                    },
                                    {
                                        "name": "length"
                                    },
                                    {
                                        "name": "replacement_cost"
                                    },
                                    {
                                        "name": "rating"
                                    },
                                    {
                                        "name": "special_features"
                                    },
                                    {
                                        "name": "last_update"
                                    }
                                ]
                            },
                            "data": [
                                {
                                    "film_id": "1",
                                    "title": "ACADEMY DINOSAUR",
                                    "description": "A Epic Drama of a Feminist And a Mad Scientist who must Battle a Teacher in The Canadian Rockies",
                                    "release_year": "2006",
                                    "language_id": "1",
                                    "original_language_id": "NULL",
                                    "rental_duration": "6",
                                    "rental_rate": "0.99",
                                    "length": "86",
                                    "replacement_cost": "20.99",
                                    "rating": "PG",
                                    "special_features": "{'Behind the Scenes', 'Deleted Scenes'}",
                                    "last_update": "2006-02-15 05:03:42"
                                },
                                {
                                    "film_id": "2",
                                    "title": "ACE GOLDFINGER",
                                    "description": "A Astounding Epistle of a Database Administrator And a Explorer who must Find a Car in Ancient China",
                                    "release_year": "2006",
                                    "language_id": "1",
                                    "original_language_id": "NULL",
                                    "rental_duration": "3",
                                    "rental_rate": "4.99",
                                    "length": "48",
                                    "replacement_cost": "12.99",
                                    "rating": "G",
                                    "special_features": "{'Trailers', 'Deleted Scenes'}",
                                    "last_update": "2006-02-15 05:03:42"
                                },
                                {
                                    "film_id": "3",
                                    "title": "ADAPTATION HOLES",
                                    "description": "A Astounding Reflection of a Lumberjack And a Car who must Sink a Lumberjack in A Baloon Factory",
                                    "release_year": "2006",
                                    "language_id": "1",
                                    "original_language_id": "NULL",
                                    "rental_duration": "7",
                                    "rental_rate": "2.99",
                                    "length": "50",
                                    "replacement_cost": "18.99",
                                    "rating": "NC-17",
                                    "special_features": "{'Trailers', 'Deleted Scenes'}",
                                    "last_update": "2006-02-15 05:03:42"
                                },
                                {
                                    "film_id": "4",
                                    "title": "AFFAIR PREJUDICE",
                                    "description": "A Fanciful Documentary of a Frisbee And a Lumberjack who must Chase a Monkey in A Shark Tank",
                                    "release_year": "2006",
                                    "language_id": "1",
                                    "original_language_id": "NULL",
                                    "rental_duration": "5",
                                    "rental_rate": "2.99",
                                    "length": "117",
                                    "replacement_cost": "26.99",
                                    "rating": "G",
                                    "special_features": "{'Commentaries', 'Behind the Scenes'}",
                                    "last_update": "2006-02-15 05:03:42"
                                },
                                {
                                    "film_id": "5",
                                    "title": "AFRICAN EGG",
                                    "description": "A Fast-Paced Documentary of a Pastry Chef And a Dentist who must Pursue a Forensic Psychologist in The Gulf of Mexico",
                                    "release_year": "2006",
                                    "language_id": "1",
                                    "original_language_id": "NULL",
                                    "rental_duration": "6",
                                    "rental_rate": "2.99",
                                    "length": "130",
                                    "replacement_cost": "22.99",
                                    "rating": "G",
                                    "special_features": "{'Deleted Scenes'}",
                                    "last_update": "2006-02-15 05:03:42"
                                }
                            ]
                        },
                        "text/html": [
                            "<table>",
                            "<tr><th>film_id</th><th>title</th><th>description</th><th>release_year</th><th>language_id</th><th>original_language_id</th><th>rental_duration</th><th>rental_rate</th><th>length</th><th>replacement_cost</th><th>rating</th><th>special_features</th><th>last_update</th></tr>",
                            "<tr><td>1</td><td>ACADEMY DINOSAUR</td><td>A Epic Drama of a Feminist And a Mad Scientist who must Battle a Teacher in The Canadian Rockies</td><td>2006</td><td>1</td><td>NULL</td><td>6</td><td>0.99</td><td>86</td><td>20.99</td><td>PG</td><td>{&#39;Behind the Scenes&#39;, &#39;Deleted Scenes&#39;}</td><td>2006-02-15 05:03:42</td></tr>",
                            "<tr><td>2</td><td>ACE GOLDFINGER</td><td>A Astounding Epistle of a Database Administrator And a Explorer who must Find a Car in Ancient China</td><td>2006</td><td>1</td><td>NULL</td><td>3</td><td>4.99</td><td>48</td><td>12.99</td><td>G</td><td>{&#39;Trailers&#39;, &#39;Deleted Scenes&#39;}</td><td>2006-02-15 05:03:42</td></tr>",
                            "<tr><td>3</td><td>ADAPTATION HOLES</td><td>A Astounding Reflection of a Lumberjack And a Car who must Sink a Lumberjack in A Baloon Factory</td><td>2006</td><td>1</td><td>NULL</td><td>7</td><td>2.99</td><td>50</td><td>18.99</td><td>NC-17</td><td>{&#39;Trailers&#39;, &#39;Deleted Scenes&#39;}</td><td>2006-02-15 05:03:42</td></tr>",
                            "<tr><td>4</td><td>AFFAIR PREJUDICE</td><td>A Fanciful Documentary of a Frisbee And a Lumberjack who must Chase a Monkey in A Shark Tank</td><td>2006</td><td>1</td><td>NULL</td><td>5</td><td>2.99</td><td>117</td><td>26.99</td><td>G</td><td>{&#39;Commentaries&#39;, &#39;Behind the Scenes&#39;}</td><td>2006-02-15 05:03:42</td></tr>",
                            "<tr><td>5</td><td>AFRICAN EGG</td><td>A Fast-Paced Documentary of a Pastry Chef And a Dentist who must Pursue a Forensic Psychologist in The Gulf of Mexico</td><td>2006</td><td>1</td><td>NULL</td><td>6</td><td>2.99</td><td>130</td><td>22.99</td><td>G</td><td>{&#39;Deleted Scenes&#39;}</td><td>2006-02-15 05:03:42</td></tr>",
                            "</table>"
                        ]
                    }
                }
            ],
            "execution_count": 11
        },
        {
            "cell_type": "markdown",
            "source": [
                "## If condition on sakila databse on film table length of the movies"
            ],
            "metadata": {
                "language": "sql",
                "azdata_cell_guid": "19184ec0-33e1-4082-929b-b47e4de970b4"
            },
            "attachments": {}
        },
        {
            "cell_type": "code",
            "source": [
                "select title,\r\n",
                "if(length>=90,\"long movies\",\"Short movies\") as length_movies\r\n",
                "from film;"
            ],
            "metadata": {
                "language": "sql",
                "azdata_cell_guid": "0b3650b6-214c-4b9e-b61e-956eabb8bf68",
                "tags": []
            },
            "outputs": [
                {
                    "output_type": "display_data",
                    "data": {
                        "text/html": "(1000 row(s) affected)"
                    },
                    "metadata": {}
                },
                {
                    "output_type": "display_data",
                    "data": {
                        "text/html": "Total execution time: 00:00:01.013"
                    },
                    "metadata": {}
                },
                {
                    "output_type": "execute_result",
                    "metadata": {},
                    "execution_count": 12,
                    "data": {
                        "application/vnd.dataresource+json": {
                            "schema": {
                                "fields": [
                                    {
                                        "name": "title"
                                    },
                                    {
                                        "name": "length_movies"
                                    }
                                ]
                            },
                            "data": [
                                {
                                    "title": "ACADEMY DINOSAUR",
                                    "length_movies": "Short movies"
                                },
                                {
                                    "title": "ACE GOLDFINGER",
                                    "length_movies": "Short movies"
                                },
                                {
                                    "title": "ADAPTATION HOLES",
                                    "length_movies": "Short movies"
                                },
                                {
                                    "title": "AFFAIR PREJUDICE",
                                    "length_movies": "long movies"
                                },
                                {
                                    "title": "AFRICAN EGG",
                                    "length_movies": "long movies"
                                },
                                {
                                    "title": "AGENT TRUMAN",
                                    "length_movies": "long movies"
                                },
                                {
                                    "title": "AIRPLANE SIERRA",
                                    "length_movies": "Short movies"
                                },
                                {
                                    "title": "AIRPORT POLLOCK",
                                    "length_movies": "Short movies"
                                },
                                {
                                    "title": "ALABAMA DEVIL",
                                    "length_movies": "long movies"
                                },
                                {
                                    "title": "ALADDIN CALENDAR",
                                    "length_movies": "Short movies"
                                },
                                {
                                    "title": "ALAMO VIDEOTAPE",
                                    "length_movies": "long movies"
                                },
                                {
                                    "title": "ALASKA PHANTOM",
                                    "length_movies": "long movies"
                                },
                                {
                                    "title": "ALI FOREVER",
                                    "length_movies": "long movies"
                                },
                                {
                                    "title": "ALICE FANTASIA",
                                    "length_movies": "long movies"
                                },
                                {
                                    "title": "ALIEN CENTER",
                                    "length_movies": "Short movies"
                                },
                                {
                                    "title": "ALLEY EVOLUTION",
                                    "length_movies": "long movies"
                                },
                                {
                                    "title": "ALONE TRIP",
                                    "length_movies": "Short movies"
                                },
                                {
                                    "title": "ALTER VICTORY",
                                    "length_movies": "Short movies"
                                },
                                {
                                    "title": "AMADEUS HOLY",
                                    "length_movies": "long movies"
                                },
                                {
                                    "title": "AMELIE HELLFIGHTERS",
                                    "length_movies": "Short movies"
                                },
                                {
                                    "title": "AMERICAN CIRCUS",
                                    "length_movies": "long movies"
                                },
                                {
                                    "title": "AMISTAD MIDSUMMER",
                                    "length_movies": "Short movies"
                                },
                                {
                                    "title": "ANACONDA CONFESSIONS",
                                    "length_movies": "long movies"
                                },
                                {
                                    "title": "ANALYZE HOOSIERS",
                                    "length_movies": "long movies"
                                },
                                {
                                    "title": "ANGELS LIFE",
                                    "length_movies": "Short movies"
                                },
                                {
                                    "title": "ANNIE IDENTITY",
                                    "length_movies": "Short movies"
                                },
                                {
                                    "title": "ANONYMOUS HUMAN",
                                    "length_movies": "long movies"
                                },
                                {
                                    "title": "ANTHEM LUKE",
                                    "length_movies": "long movies"
                                },
                                {
                                    "title": "ANTITRUST TOMATOES",
                                    "length_movies": "long movies"
                                },
                                {
                                    "title": "ANYTHING SAVANNAH",
                                    "length_movies": "Short movies"
                                },
                                {
                                    "title": "APACHE DIVINE",
                                    "length_movies": "long movies"
                                },
                                {
                                    "title": "APOCALYPSE FLAMINGOS",
                                    "length_movies": "long movies"
                                },
                                {
                                    "title": "APOLLO TEEN",
                                    "length_movies": "long movies"
                                },
                                {
                                    "title": "ARABIA DOGMA",
                                    "length_movies": "Short movies"
                                },
                                {
                                    "title": "ARACHNOPHOBIA ROLLERCOASTER",
                                    "length_movies": "long movies"
                                },
                                {
                                    "title": "ARGONAUTS TOWN",
                                    "length_movies": "long movies"
                                },
                                {
                                    "title": "ARIZONA BANG",
                                    "length_movies": "long movies"
                                },
                                {
                                    "title": "ARK RIDGEMONT",
                                    "length_movies": "Short movies"
                                },
                                {
                                    "title": "ARMAGEDDON LOST",
                                    "length_movies": "long movies"
                                },
                                {
                                    "title": "ARMY FLINTSTONES",
                                    "length_movies": "long movies"
                                },
                                {
                                    "title": "ARSENIC INDEPENDENCE",
                                    "length_movies": "long movies"
                                },
                                {
                                    "title": "ARTIST COLDBLOODED",
                                    "length_movies": "long movies"
                                },
                                {
                                    "title": "ATLANTIS CAUSE",
                                    "length_movies": "long movies"
                                },
                                {
                                    "title": "ATTACKS HATE",
                                    "length_movies": "long movies"
                                },
                                {
                                    "title": "ATTRACTION NEWTON",
                                    "length_movies": "Short movies"
                                },
                                {
                                    "title": "AUTUMN CROW",
                                    "length_movies": "long movies"
                                },
                                {
                                    "title": "BABY HALL",
                                    "length_movies": "long movies"
                                },
                                {
                                    "title": "BACKLASH UNDEFEATED",
                                    "length_movies": "long movies"
                                },
                                {
                                    "title": "BADMAN DAWN",
                                    "length_movies": "long movies"
                                },
                                {
                                    "title": "BAKED CLEOPATRA",
                                    "length_movies": "long movies"
                                },
                                {
                                    "title": "BALLOON HOMEWARD",
                                    "length_movies": "Short movies"
                                },
                                {
                                    "title": "BALLROOM MOCKINGBIRD",
                                    "length_movies": "long movies"
                                },
                                {
                                    "title": "BANG KWAI",
                                    "length_movies": "Short movies"
                                },
                                {
                                    "title": "BANGER PINOCCHIO",
                                    "length_movies": "long movies"
                                },
                                {
                                    "title": "BARBARELLA STREETCAR",
                                    "length_movies": "Short movies"
                                },
                                {
                                    "title": "BAREFOOT MANCHURIAN",
                                    "length_movies": "long movies"
                                },
                                {
                                    "title": "BASIC EASY",
                                    "length_movies": "long movies"
                                },
                                {
                                    "title": "BEACH HEARTBREAKERS",
                                    "length_movies": "long movies"
                                },
                                {
                                    "title": "BEAR GRACELAND",
                                    "length_movies": "long movies"
                                },
                                {
                                    "title": "BEAST HUNCHBACK",
                                    "length_movies": "Short movies"
                                },
                                {
                                    "title": "BEAUTY GREASE",
                                    "length_movies": "long movies"
                                },
                                {
                                    "title": "BED HIGHBALL",
                                    "length_movies": "long movies"
                                },
                                {
                                    "title": "BEDAZZLED MARRIED",
                                    "length_movies": "Short movies"
                                },
                                {
                                    "title": "BEETHOVEN EXORCIST",
                                    "length_movies": "long movies"
                                },
                                {
                                    "title": "BEHAVIOR RUNAWAY",
                                    "length_movies": "long movies"
                                },
                                {
                                    "title": "BENEATH RUSH",
                                    "length_movies": "Short movies"
                                },
                                {
                                    "title": "BERETS AGENT",
                                    "length_movies": "Short movies"
                                },
                                {
                                    "title": "BETRAYED REAR",
                                    "length_movies": "long movies"
                                },
                                {
                                    "title": "BEVERLY OUTLAW",
                                    "length_movies": "Short movies"
                                },
                                {
                                    "title": "BIKINI BORROWERS",
                                    "length_movies": "long movies"
                                },
                                {
                                    "title": "BILKO ANONYMOUS",
                                    "length_movies": "long movies"
                                },
                                {
                                    "title": "BILL OTHERS",
                                    "length_movies": "long movies"
                                },
                                {
                                    "title": "BINGO TALENTED",
                                    "length_movies": "long movies"
                                },
                                {
                                    "title": "BIRCH ANTITRUST",
                                    "length_movies": "long movies"
                                },
                                {
                                    "title": "BIRD INDEPENDENCE",
                                    "length_movies": "long movies"
                                },
                                {
                                    "title": "BIRDCAGE CASPER",
                                    "length_movies": "long movies"
                                },
                                {
                                    "title": "BIRDS PERDITION",
                                    "length_movies": "Short movies"
                                },
                                {
                                    "title": "BLACKOUT PRIVATE",
                                    "length_movies": "Short movies"
                                },
                                {
                                    "title": "BLADE POLISH",
                                    "length_movies": "long movies"
                                },
                                {
                                    "title": "BLANKET BEVERLY",
                                    "length_movies": "long movies"
                                },
                                {
                                    "title": "BLINDNESS GUN",
                                    "length_movies": "long movies"
                                },
                                {
                                    "title": "BLOOD ARGONAUTS",
                                    "length_movies": "Short movies"
                                },
                                {
                                    "title": "BLUES INSTINCT",
                                    "length_movies": "Short movies"
                                },
                                {
                                    "title": "BOILED DARES",
                                    "length_movies": "long movies"
                                },
                                {
                                    "title": "BONNIE HOLOCAUST",
                                    "length_movies": "Short movies"
                                },
                                {
                                    "title": "BOOGIE AMELIE",
                                    "length_movies": "long movies"
                                },
                                {
                                    "title": "BOONDOCK BALLROOM",
                                    "length_movies": "Short movies"
                                },
                                {
                                    "title": "BORN SPINAL",
                                    "length_movies": "long movies"
                                },
                                {
                                    "title": "BORROWERS BEDAZZLED",
                                    "length_movies": "Short movies"
                                },
                                {
                                    "title": "BOULEVARD MOB",
                                    "length_movies": "Short movies"
                                },
                                {
                                    "title": "BOUND CHEAPER",
                                    "length_movies": "long movies"
                                },
                                {
                                    "title": "BOWFINGER GABLES",
                                    "length_movies": "Short movies"
                                },
                                {
                                    "title": "BRANNIGAN SUNRISE",
                                    "length_movies": "long movies"
                                },
                                {
                                    "title": "BRAVEHEART HUMAN",
                                    "length_movies": "long movies"
                                },
                                {
                                    "title": "BREAKFAST GOLDFINGER",
                                    "length_movies": "long movies"
                                },
                                {
                                    "title": "BREAKING HOME",
                                    "length_movies": "long movies"
                                },
                                {
                                    "title": "BRIDE INTRIGUE",
                                    "length_movies": "Short movies"
                                },
                                {
                                    "title": "BRIGHT ENCOUNTERS",
                                    "length_movies": "Short movies"
                                },
                                {
                                    "title": "BRINGING HYSTERICAL",
                                    "length_movies": "long movies"
                                },
                                {
                                    "title": "BROOKLYN DESERT",
                                    "length_movies": "long movies"
                                },
                                {
                                    "title": "BROTHERHOOD BLANKET",
                                    "length_movies": "Short movies"
                                },
                                {
                                    "title": "BUBBLE GROSSE",
                                    "length_movies": "Short movies"
                                },
                                {
                                    "title": "BUCKET BROTHERHOOD",
                                    "length_movies": "long movies"
                                },
                                {
                                    "title": "BUGSY SONG",
                                    "length_movies": "long movies"
                                },
                                {
                                    "title": "BULL SHAWSHANK",
                                    "length_movies": "long movies"
                                },
                                {
                                    "title": "BULWORTH COMMANDMENTS",
                                    "length_movies": "Short movies"
                                },
                                {
                                    "title": "BUNCH MINDS",
                                    "length_movies": "Short movies"
                                },
                                {
                                    "title": "BUTCH PANTHER",
                                    "length_movies": "Short movies"
                                },
                                {
                                    "title": "BUTTERFLY CHOCOLAT",
                                    "length_movies": "Short movies"
                                },
                                {
                                    "title": "CABIN FLASH",
                                    "length_movies": "Short movies"
                                },
                                {
                                    "title": "CADDYSHACK JEDI",
                                    "length_movies": "Short movies"
                                },
                                {
                                    "title": "CALENDAR GUNFIGHT",
                                    "length_movies": "long movies"
                                },
                                {
                                    "title": "CALIFORNIA BIRDS",
                                    "length_movies": "Short movies"
                                },
                                {
                                    "title": "CAMELOT VACATION",
                                    "length_movies": "Short movies"
                                },
                                {
                                    "title": "CAMPUS REMEMBER",
                                    "length_movies": "long movies"
                                },
                                {
                                    "title": "CANDIDATE PERDITION",
                                    "length_movies": "Short movies"
                                },
                                {
                                    "title": "CANDLES GRAPES",
                                    "length_movies": "long movies"
                                },
                                {
                                    "title": "CANYON STOCK",
                                    "length_movies": "Short movies"
                                },
                                {
                                    "title": "CAPER MOTIONS",
                                    "length_movies": "long movies"
                                },
                                {
                                    "title": "CARIBBEAN LIBERTY",
                                    "length_movies": "long movies"
                                },
                                {
                                    "title": "CAROL TEXAS",
                                    "length_movies": "long movies"
                                },
                                {
                                    "title": "CARRIE BUNCH",
                                    "length_movies": "long movies"
                                },
                                {
                                    "title": "CASABLANCA SUPER",
                                    "length_movies": "Short movies"
                                },
                                {
                                    "title": "CASPER DRAGONFLY",
                                    "length_movies": "long movies"
                                },
                                {
                                    "title": "CASSIDY WYOMING",
                                    "length_movies": "Short movies"
                                },
                                {
                                    "title": "CASUALTIES ENCINO",
                                    "length_movies": "long movies"
                                },
                                {
                                    "title": "CAT CONEHEADS",
                                    "length_movies": "long movies"
                                },
                                {
                                    "title": "CATCH AMISTAD",
                                    "length_movies": "long movies"
                                },
                                {
                                    "title": "CAUSE DATE",
                                    "length_movies": "long movies"
                                },
                                {
                                    "title": "CELEBRITY HORN",
                                    "length_movies": "long movies"
                                },
                                {
                                    "title": "CENTER DINOSAUR",
                                    "length_movies": "long movies"
                                },
                                {
                                    "title": "CHAINSAW UPTOWN",
                                    "length_movies": "long movies"
                                },
                                {
                                    "title": "CHAMBER ITALIAN",
                                    "length_movies": "long movies"
                                },
                                {
                                    "title": "CHAMPION FLATLINERS",
                                    "length_movies": "Short movies"
                                },
                                {
                                    "title": "CHANCE RESURRECTION",
                                    "length_movies": "Short movies"
                                },
                                {
                                    "title": "CHAPLIN LICENSE",
                                    "length_movies": "long movies"
                                },
                                {
                                    "title": "CHARADE DUFFEL",
                                    "length_movies": "Short movies"
                                },
                                {
                                    "title": "CHARIOTS CONSPIRACY",
                                    "length_movies": "Short movies"
                                },
                                {
                                    "title": "CHASING FIGHT",
                                    "length_movies": "long movies"
                                },
                                {
                                    "title": "CHEAPER CLYDE",
                                    "length_movies": "Short movies"
                                },
                                {
                                    "title": "CHICAGO NORTH",
                                    "length_movies": "long movies"
                                },
                                {
                                    "title": "CHICKEN HELLFIGHTERS",
                                    "length_movies": "long movies"
                                },
                                {
                                    "title": "CHILL LUCK",
                                    "length_movies": "long movies"
                                },
                                {
                                    "title": "CHINATOWN GLADIATOR",
                                    "length_movies": "Short movies"
                                },
                                {
                                    "title": "CHISUM BEHAVIOR",
                                    "length_movies": "long movies"
                                },
                                {
                                    "title": "CHITTY LOCK",
                                    "length_movies": "long movies"
                                },
                                {
                                    "title": "CHOCOLAT HARRY",
                                    "length_movies": "long movies"
                                },
                                {
                                    "title": "CHOCOLATE DUCK",
                                    "length_movies": "long movies"
                                },
                                {
                                    "title": "CHRISTMAS MOONSHINE",
                                    "length_movies": "long movies"
                                },
                                {
                                    "title": "CIDER DESIRE",
                                    "length_movies": "long movies"
                                },
                                {
                                    "title": "CINCINATTI WHISPERER",
                                    "length_movies": "long movies"
                                },
                                {
                                    "title": "CIRCUS YOUTH",
                                    "length_movies": "long movies"
                                },
                                {
                                    "title": "CITIZEN SHREK",
                                    "length_movies": "long movies"
                                },
                                {
                                    "title": "CLASH FREDDY",
                                    "length_movies": "Short movies"
                                },
                                {
                                    "title": "CLEOPATRA DEVIL",
                                    "length_movies": "long movies"
                                },
                                {
                                    "title": "CLERKS ANGELS",
                                    "length_movies": "long movies"
                                },
                                {
                                    "title": "CLOCKWORK PARADISE",
                                    "length_movies": "long movies"
                                },
                                {
                                    "title": "CLONES PINOCCHIO",
                                    "length_movies": "long movies"
                                },
                                {
                                    "title": "CLOSER BANG",
                                    "length_movies": "Short movies"
                                },
                                {
                                    "title": "CLUB GRAFFITI",
                                    "length_movies": "Short movies"
                                },
                                {
                                    "title": "CLUE GRAIL",
                                    "length_movies": "Short movies"
                                },
                                {
                                    "title": "CLUELESS BUCKET",
                                    "length_movies": "long movies"
                                },
                                {
                                    "title": "CLYDE THEORY",
                                    "length_movies": "long movies"
                                },
                                {
                                    "title": "COAST RAINBOW",
                                    "length_movies": "Short movies"
                                },
                                {
                                    "title": "COLDBLOODED DARLING",
                                    "length_movies": "Short movies"
                                },
                                {
                                    "title": "COLOR PHILADELPHIA",
                                    "length_movies": "long movies"
                                },
                                {
                                    "title": "COMA HEAD",
                                    "length_movies": "long movies"
                                },
                                {
                                    "title": "COMANCHEROS ENEMY",
                                    "length_movies": "Short movies"
                                },
                                {
                                    "title": "COMFORTS RUSH",
                                    "length_movies": "Short movies"
                                },
                                {
                                    "title": "COMMAND DARLING",
                                    "length_movies": "long movies"
                                },
                                {
                                    "title": "COMMANDMENTS EXPRESS",
                                    "length_movies": "Short movies"
                                },
                                {
                                    "title": "CONEHEADS SMOOCHY",
                                    "length_movies": "long movies"
                                },
                                {
                                    "title": "CONFESSIONS MAGUIRE",
                                    "length_movies": "Short movies"
                                },
                                {
                                    "title": "CONFIDENTIAL INTERVIEW",
                                    "length_movies": "long movies"
                                },
                                {
                                    "title": "CONFUSED CANDLES",
                                    "length_movies": "long movies"
                                },
                                {
                                    "title": "CONGENIALITY QUEST",
                                    "length_movies": "Short movies"
                                },
                                {
                                    "title": "CONNECTICUT TRAMP",
                                    "length_movies": "long movies"
                                },
                                {
                                    "title": "CONNECTION MICROCOSMOS",
                                    "length_movies": "long movies"
                                },
                                {
                                    "title": "CONQUERER NUTS",
                                    "length_movies": "long movies"
                                },
                                {
                                    "title": "CONSPIRACY SPIRIT",
                                    "length_movies": "long movies"
                                },
                                {
                                    "title": "CONTACT ANONYMOUS",
                                    "length_movies": "long movies"
                                },
                                {
                                    "title": "CONTROL ANTHEM",
                                    "length_movies": "long movies"
                                },
                                {
                                    "title": "CONVERSATION DOWNHILL",
                                    "length_movies": "long movies"
                                },
                                {
                                    "title": "CORE SUIT",
                                    "length_movies": "long movies"
                                },
                                {
                                    "title": "COWBOY DOOM",
                                    "length_movies": "long movies"
                                },
                                {
                                    "title": "CRAFT OUTFIELD",
                                    "length_movies": "Short movies"
                                },
                                {
                                    "title": "CRANES RESERVOIR",
                                    "length_movies": "Short movies"
                                },
                                {
                                    "title": "CRAZY HOME",
                                    "length_movies": "long movies"
                                },
                                {
                                    "title": "CREATURES SHAKESPEARE",
                                    "length_movies": "long movies"
                                },
                                {
                                    "title": "CREEPERS KANE",
                                    "length_movies": "long movies"
                                },
                                {
                                    "title": "CROOKED FROGMEN",
                                    "length_movies": "long movies"
                                },
                                {
                                    "title": "CROSSING DIVORCE",
                                    "length_movies": "Short movies"
                                },
                                {
                                    "title": "CROSSROADS CASUALTIES",
                                    "length_movies": "long movies"
                                },
                                {
                                    "title": "CROW GREASE",
                                    "length_movies": "long movies"
                                },
                                {
                                    "title": "CROWDS TELEMARK",
                                    "length_movies": "long movies"
                                },
                                {
                                    "title": "CRUELTY UNFORGIVEN",
                                    "length_movies": "Short movies"
                                },
                                {
                                    "title": "CRUSADE HONEY",
                                    "length_movies": "long movies"
                                },
                                {
                                    "title": "CRYSTAL BREAKING",
                                    "length_movies": "long movies"
                                },
                                {
                                    "title": "CUPBOARD SINNERS",
                                    "length_movies": "Short movies"
                                },
                                {
                                    "title": "CURTAIN VIDEOTAPE",
                                    "length_movies": "long movies"
                                },
                                {
                                    "title": "CYCLONE FAMILY",
                                    "length_movies": "long movies"
                                },
                                {
                                    "title": "DADDY PITTSBURGH",
                                    "length_movies": "long movies"
                                },
                                {
                                    "title": "DAISY MENAGERIE",
                                    "length_movies": "Short movies"
                                },
                                {
                                    "title": "DALMATIONS SWEDEN",
                                    "length_movies": "long movies"
                                },
                                {
                                    "title": "DANCES NONE",
                                    "length_movies": "Short movies"
                                },
                                {
                                    "title": "DANCING FEVER",
                                    "length_movies": "long movies"
                                },
                                {
                                    "title": "DANGEROUS UPTOWN",
                                    "length_movies": "long movies"
                                },
                                {
                                    "title": "DARES PLUTO",
                                    "length_movies": "Short movies"
                                },
                                {
                                    "title": "DARKNESS WAR",
                                    "length_movies": "long movies"
                                },
                                {
                                    "title": "DARKO DORADO",
                                    "length_movies": "long movies"
                                },
                                {
                                    "title": "DARLING BREAKING",
                                    "length_movies": "long movies"
                                },
                                {
                                    "title": "DARN FORRESTER",
                                    "length_movies": "long movies"
                                },
                                {
                                    "title": "DATE SPEED",
                                    "length_movies": "long movies"
                                },
                                {
                                    "title": "DAUGHTER MADIGAN",
                                    "length_movies": "Short movies"
                                },
                                {
                                    "title": "DAWN POND",
                                    "length_movies": "Short movies"
                                },
                                {
                                    "title": "DAY UNFAITHFUL",
                                    "length_movies": "long movies"
                                },
                                {
                                    "title": "DAZED PUNK",
                                    "length_movies": "long movies"
                                },
                                {
                                    "title": "DECEIVER BETRAYED",
                                    "length_movies": "long movies"
                                },
                                {
                                    "title": "DEEP CRUSADE",
                                    "length_movies": "Short movies"
                                },
                                {
                                    "title": "DEER VIRGINIAN",
                                    "length_movies": "long movies"
                                },
                                {
                                    "title": "DELIVERANCE MULHOLLAND",
                                    "length_movies": "long movies"
                                },
                                {
                                    "title": "DESERT POSEIDON",
                                    "length_movies": "Short movies"
                                },
                                {
                                    "title": "DESIRE ALIEN",
                                    "length_movies": "Short movies"
                                },
                                {
                                    "title": "DESPERATE TRAINSPOTTING",
                                    "length_movies": "Short movies"
                                },
                                {
                                    "title": "DESTINATION JERK",
                                    "length_movies": "Short movies"
                                },
                                {
                                    "title": "DESTINY SATURDAY",
                                    "length_movies": "Short movies"
                                },
                                {
                                    "title": "DETAILS PACKER",
                                    "length_movies": "Short movies"
                                },
                                {
                                    "title": "DETECTIVE VISION",
                                    "length_movies": "long movies"
                                },
                                {
                                    "title": "DEVIL DESIRE",
                                    "length_movies": "Short movies"
                                },
                                {
                                    "title": "DIARY PANIC",
                                    "length_movies": "long movies"
                                },
                                {
                                    "title": "DINOSAUR SECRETARY",
                                    "length_movies": "Short movies"
                                },
                                {
                                    "title": "DIRTY ACE",
                                    "length_movies": "long movies"
                                },
                                {
                                    "title": "DISCIPLE MOTHER",
                                    "length_movies": "long movies"
                                },
                                {
                                    "title": "DISTURBING SCARFACE",
                                    "length_movies": "long movies"
                                },
                                {
                                    "title": "DIVIDE MONSTER",
                                    "length_movies": "Short movies"
                                },
                                {
                                    "title": "DIVINE RESURRECTION",
                                    "length_movies": "long movies"
                                },
                                {
                                    "title": "DIVORCE SHINING",
                                    "length_movies": "Short movies"
                                },
                                {
                                    "title": "DOCTOR GRAIL",
                                    "length_movies": "Short movies"
                                },
                                {
                                    "title": "DOGMA FAMILY",
                                    "length_movies": "long movies"
                                },
                                {
                                    "title": "DOLLS RAGE",
                                    "length_movies": "long movies"
                                },
                                {
                                    "title": "DONNIE ALLEY",
                                    "length_movies": "long movies"
                                },
                                {
                                    "title": "DOOM DANCING",
                                    "length_movies": "Short movies"
                                },
                                {
                                    "title": "DOORS PRESIDENT",
                                    "length_movies": "Short movies"
                                },
                                {
                                    "title": "DORADO NOTTING",
                                    "length_movies": "long movies"
                                },
                                {
                                    "title": "DOUBLE WRATH",
                                    "length_movies": "long movies"
                                },
                                {
                                    "title": "DOUBTFIRE LABYRINTH",
                                    "length_movies": "long movies"
                                },
                                {
                                    "title": "DOWNHILL ENOUGH",
                                    "length_movies": "Short movies"
                                },
                                {
                                    "title": "DOZEN LION",
                                    "length_movies": "long movies"
                                },
                                {
                                    "title": "DRACULA CRYSTAL",
                                    "length_movies": "long movies"
                                },
                                {
                                    "title": "DRAGON SQUAD",
                                    "length_movies": "long movies"
                                },
                                {
                                    "title": "DRAGONFLY STRANGERS",
                                    "length_movies": "long movies"
                                },
                                {
                                    "title": "DREAM PICKUP",
                                    "length_movies": "long movies"
                                },
                                {
                                    "title": "DRIFTER COMMANDMENTS",
                                    "length_movies": "Short movies"
                                },
                                {
                                    "title": "DRIVER ANNIE",
                                    "length_movies": "long movies"
                                },
                                {
                                    "title": "DRIVING POLISH",
                                    "length_movies": "long movies"
                                },
                                {
                                    "title": "DROP WATERFRONT",
                                    "length_movies": "long movies"
                                },
                                {
                                    "title": "DRUMLINE CYCLONE",
                                    "length_movies": "long movies"
                                },
                                {
                                    "title": "DRUMS DYNAMITE",
                                    "length_movies": "long movies"
                                },
                                {
                                    "title": "DUCK RACER",
                                    "length_movies": "long movies"
                                },
                                {
                                    "title": "DUDE BLINDNESS",
                                    "length_movies": "long movies"
                                },
                                {
                                    "title": "DUFFEL APOCALYPSE",
                                    "length_movies": "long movies"
                                },
                                {
                                    "title": "DUMBO LUST",
                                    "length_movies": "long movies"
                                },
                                {
                                    "title": "DURHAM PANKY",
                                    "length_movies": "long movies"
                                },
                                {
                                    "title": "DWARFS ALTER",
                                    "length_movies": "long movies"
                                },
                                {
                                    "title": "DYING MAKER",
                                    "length_movies": "long movies"
                                },
                                {
                                    "title": "DYNAMITE TARZAN",
                                    "length_movies": "long movies"
                                },
                                {
                                    "title": "EAGLES PANKY",
                                    "length_movies": "long movies"
                                },
                                {
                                    "title": "EARLY HOME",
                                    "length_movies": "long movies"
                                },
                                {
                                    "title": "EARRING INSTINCT",
                                    "length_movies": "long movies"
                                },
                                {
                                    "title": "EARTH VISION",
                                    "length_movies": "Short movies"
                                },
                                {
                                    "title": "EASY GLADIATOR",
                                    "length_movies": "long movies"
                                },
                                {
                                    "title": "EDGE KISSING",
                                    "length_movies": "long movies"
                                },
                                {
                                    "title": "EFFECT GLADIATOR",
                                    "length_movies": "long movies"
                                },
                                {
                                    "title": "EGG IGBY",
                                    "length_movies": "Short movies"
                                },
                                {
                                    "title": "EGYPT TENENBAUMS",
                                    "length_movies": "Short movies"
                                },
                                {
                                    "title": "ELEMENT FREDDY",
                                    "length_movies": "long movies"
                                },
                                {
                                    "title": "ELEPHANT TROJAN",
                                    "length_movies": "long movies"
                                },
                                {
                                    "title": "ELF MURDER",
                                    "length_movies": "long movies"
                                },
                                {
                                    "title": "ELIZABETH SHANE",
                                    "length_movies": "long movies"
                                },
                                {
                                    "title": "EMPIRE MALKOVICH",
                                    "length_movies": "long movies"
                                },
                                {
                                    "title": "ENCINO ELF",
                                    "length_movies": "long movies"
                                },
                                {
                                    "title": "ENCOUNTERS CURTAIN",
                                    "length_movies": "long movies"
                                },
                                {
                                    "title": "ENDING CROWDS",
                                    "length_movies": "Short movies"
                                },
                                {
                                    "title": "ENEMY ODDS",
                                    "length_movies": "Short movies"
                                },
                                {
                                    "title": "ENGLISH BULWORTH",
                                    "length_movies": "Short movies"
                                },
                                {
                                    "title": "ENOUGH RAGING",
                                    "length_movies": "long movies"
                                },
                                {
                                    "title": "ENTRAPMENT SATISFACTION",
                                    "length_movies": "long movies"
                                },
                                {
                                    "title": "ESCAPE METROPOLIS",
                                    "length_movies": "long movies"
                                },
                                {
                                    "title": "EVE RESURRECTION",
                                    "length_movies": "Short movies"
                                },
                                {
                                    "title": "EVERYONE CRAFT",
                                    "length_movies": "long movies"
                                },
                                {
                                    "title": "EVOLUTION ALTER",
                                    "length_movies": "long movies"
                                },
                                {
                                    "title": "EXCITEMENT EVE",
                                    "length_movies": "Short movies"
                                },
                                {
                                    "title": "EXORCIST STING",
                                    "length_movies": "long movies"
                                },
                                {
                                    "title": "EXPECATIONS NATURAL",
                                    "length_movies": "long movies"
                                },
                                {
                                    "title": "EXPENDABLE STALLION",
                                    "length_movies": "long movies"
                                },
                                {
                                    "title": "EXPRESS LONELY",
                                    "length_movies": "long movies"
                                },
                                {
                                    "title": "EXTRAORDINARY CONQUERER",
                                    "length_movies": "long movies"
                                },
                                {
                                    "title": "EYES DRIVING",
                                    "length_movies": "long movies"
                                },
                                {
                                    "title": "FACTORY DRAGON",
                                    "length_movies": "long movies"
                                },
                                {
                                    "title": "FALCON VOLUME",
                                    "length_movies": "long movies"
                                },
                                {
                                    "title": "FAMILY SWEET",
                                    "length_movies": "long movies"
                                },
                                {
                                    "title": "FANTASIA PARK",
                                    "length_movies": "long movies"
                                },
                                {
                                    "title": "FANTASY TROOPERS",
                                    "length_movies": "Short movies"
                                },
                                {
                                    "title": "FARGO GANDHI",
                                    "length_movies": "long movies"
                                },
                                {
                                    "title": "FATAL HAUNTED",
                                    "length_movies": "long movies"
                                },
                                {
                                    "title": "FEATHERS METAL",
                                    "length_movies": "long movies"
                                },
                                {
                                    "title": "FELLOWSHIP AUTUMN",
                                    "length_movies": "Short movies"
                                },
                                {
                                    "title": "FERRIS MOTHER",
                                    "length_movies": "long movies"
                                },
                                {
                                    "title": "FEUD FROGMEN",
                                    "length_movies": "long movies"
                                },
                                {
                                    "title": "FEVER EMPIRE",
                                    "length_movies": "long movies"
                                },
                                {
                                    "title": "FICTION CHRISTMAS",
                                    "length_movies": "Short movies"
                                },
                                {
                                    "title": "FIDDLER LOST",
                                    "length_movies": "Short movies"
                                },
                                {
                                    "title": "FIDELITY DEVIL",
                                    "length_movies": "long movies"
                                },
                                {
                                    "title": "FIGHT JAWBREAKER",
                                    "length_movies": "long movies"
                                },
                                {
                                    "title": "FINDING ANACONDA",
                                    "length_movies": "long movies"
                                },
                                {
                                    "title": "FIRE WOLVES",
                                    "length_movies": "long movies"
                                },
                                {
                                    "title": "FIREBALL PHILADELPHIA",
                                    "length_movies": "long movies"
                                },
                                {
                                    "title": "FIREHOUSE VIETNAM",
                                    "length_movies": "long movies"
                                },
                                {
                                    "title": "FISH OPUS",
                                    "length_movies": "long movies"
                                },
                                {
                                    "title": "FLAMINGOS CONNECTICUT",
                                    "length_movies": "Short movies"
                                },
                                {
                                    "title": "FLASH WARS",
                                    "length_movies": "long movies"
                                },
                                {
                                    "title": "FLATLINERS KILLER",
                                    "length_movies": "long movies"
                                },
                                {
                                    "title": "FLIGHT LIES",
                                    "length_movies": "long movies"
                                },
                                {
                                    "title": "FLINTSTONES HAPPINESS",
                                    "length_movies": "long movies"
                                },
                                {
                                    "title": "FLOATS GARDEN",
                                    "length_movies": "long movies"
                                },
                                {
                                    "title": "FLYING HOOK",
                                    "length_movies": "Short movies"
                                },
                                {
                                    "title": "FOOL MOCKINGBIRD",
                                    "length_movies": "long movies"
                                },
                                {
                                    "title": "FOREVER CANDIDATE",
                                    "length_movies": "long movies"
                                },
                                {
                                    "title": "FORREST SONS",
                                    "length_movies": "Short movies"
                                },
                                {
                                    "title": "FORRESTER COMANCHEROS",
                                    "length_movies": "long movies"
                                },
                                {
                                    "title": "FORWARD TEMPLE",
                                    "length_movies": "long movies"
                                },
                                {
                                    "title": "FRANKENSTEIN STRANGER",
                                    "length_movies": "long movies"
                                },
                                {
                                    "title": "FREAKY POCUS",
                                    "length_movies": "long movies"
                                },
                                {
                                    "title": "FREDDY STORM",
                                    "length_movies": "Short movies"
                                },
                                {
                                    "title": "FREEDOM CLEOPATRA",
                                    "length_movies": "long movies"
                                },
                                {
                                    "title": "FRENCH HOLIDAY",
                                    "length_movies": "long movies"
                                },
                                {
                                    "title": "FRIDA SLIPPER",
                                    "length_movies": "Short movies"
                                },
                                {
                                    "title": "FRISCO FORREST",
                                    "length_movies": "Short movies"
                                },
                                {
                                    "title": "FROGMEN BREAKING",
                                    "length_movies": "long movies"
                                },
                                {
                                    "title": "FRONTIER CABIN",
                                    "length_movies": "long movies"
                                },
                                {
                                    "title": "FROST HEAD",
                                    "length_movies": "Short movies"
                                },
                                {
                                    "title": "FUGITIVE MAGUIRE",
                                    "length_movies": "Short movies"
                                },
                                {
                                    "title": "FULL FLATLINERS",
                                    "length_movies": "long movies"
                                },
                                {
                                    "title": "FURY MURDER",
                                    "length_movies": "long movies"
                                },
                                {
                                    "title": "GABLES METROPOLIS",
                                    "length_movies": "long movies"
                                },
                                {
                                    "title": "GALAXY SWEETHEARTS",
                                    "length_movies": "long movies"
                                },
                                {
                                    "title": "GAMES BOWFINGER",
                                    "length_movies": "long movies"
                                },
                                {
                                    "title": "GANDHI KWAI",
                                    "length_movies": "Short movies"
                                },
                                {
                                    "title": "GANGS PRIDE",
                                    "length_movies": "long movies"
                                },
                                {
                                    "title": "GARDEN ISLAND",
                                    "length_movies": "Short movies"
                                },
                                {
                                    "title": "GASLIGHT CRUSADE",
                                    "length_movies": "long movies"
                                },
                                {
                                    "title": "GATHERING CALENDAR",
                                    "length_movies": "long movies"
                                },
                                {
                                    "title": "GENTLEMEN STAGE",
                                    "length_movies": "long movies"
                                },
                                {
                                    "title": "GHOST GROUNDHOG",
                                    "length_movies": "Short movies"
                                },
                                {
                                    "title": "GHOSTBUSTERS ELF",
                                    "length_movies": "long movies"
                                },
                                {
                                    "title": "GIANT TROOPERS",
                                    "length_movies": "long movies"
                                },
                                {
                                    "title": "GILBERT PELICAN",
                                    "length_movies": "long movies"
                                },
                                {
                                    "title": "GILMORE BOILED",
                                    "length_movies": "long movies"
                                },
                                {
                                    "title": "GLADIATOR WESTWARD",
                                    "length_movies": "long movies"
                                },
                                {
                                    "title": "GLASS DYING",
                                    "length_movies": "long movies"
                                },
                                {
                                    "title": "GLEAMING JAWBREAKER",
                                    "length_movies": "Short movies"
                                },
                                {
                                    "title": "GLORY TRACY",
                                    "length_movies": "long movies"
                                },
                                {
                                    "title": "GO PURPLE",
                                    "length_movies": "Short movies"
                                },
                                {
                                    "title": "GODFATHER DIARY",
                                    "length_movies": "Short movies"
                                },
                                {
                                    "title": "GOLD RIVER",
                                    "length_movies": "long movies"
                                },
                                {
                                    "title": "GOLDFINGER SENSIBILITY",
                                    "length_movies": "long movies"
                                },
                                {
                                    "title": "GOLDMINE TYCOON",
                                    "length_movies": "long movies"
                                },
                                {
                                    "title": "GONE TROUBLE",
                                    "length_movies": "Short movies"
                                },
                                {
                                    "title": "GOODFELLAS SALUTE",
                                    "length_movies": "Short movies"
                                },
                                {
                                    "title": "GORGEOUS BINGO",
                                    "length_movies": "long movies"
                                },
                                {
                                    "title": "GOSFORD DONNIE",
                                    "length_movies": "long movies"
                                },
                                {
                                    "title": "GRACELAND DYNAMITE",
                                    "length_movies": "long movies"
                                },
                                {
                                    "title": "GRADUATE LORD",
                                    "length_movies": "long movies"
                                },
                                {
                                    "title": "GRAFFITI LOVE",
                                    "length_movies": "long movies"
                                },
                                {
                                    "title": "GRAIL FRANKENSTEIN",
                                    "length_movies": "Short movies"
                                },
                                {
                                    "title": "GRAPES FURY",
                                    "length_movies": "long movies"
                                },
                                {
                                    "title": "GREASE YOUTH",
                                    "length_movies": "long movies"
                                },
                                {
                                    "title": "GREATEST NORTH",
                                    "length_movies": "long movies"
                                },
                                {
                                    "title": "GREEDY ROOTS",
                                    "length_movies": "long movies"
                                },
                                {
                                    "title": "GREEK EVERYONE",
                                    "length_movies": "long movies"
                                },
                                {
                                    "title": "GRINCH MASSAGE",
                                    "length_movies": "long movies"
                                },
                                {
                                    "title": "GRIT CLOCKWORK",
                                    "length_movies": "long movies"
                                },
                                {
                                    "title": "GROOVE FICTION",
                                    "length_movies": "long movies"
                                },
                                {
                                    "title": "GROSSE WONDERFUL",
                                    "length_movies": "Short movies"
                                },
                                {
                                    "title": "GROUNDHOG UNCUT",
                                    "length_movies": "long movies"
                                },
                                {
                                    "title": "GUMP DATE",
                                    "length_movies": "Short movies"
                                },
                                {
                                    "title": "GUN BONNIE",
                                    "length_movies": "long movies"
                                },
                                {
                                    "title": "GUNFIGHT MOON",
                                    "length_movies": "Short movies"
                                },
                                {
                                    "title": "GUNFIGHTER MUSSOLINI",
                                    "length_movies": "long movies"
                                },
                                {
                                    "title": "GUYS FALCON",
                                    "length_movies": "Short movies"
                                },
                                {
                                    "title": "HALF OUTFIELD",
                                    "length_movies": "long movies"
                                },
                                {
                                    "title": "HALL CASSIDY",
                                    "length_movies": "Short movies"
                                },
                                {
                                    "title": "HALLOWEEN NUTS",
                                    "length_movies": "Short movies"
                                },
                                {
                                    "title": "HAMLET WISDOM",
                                    "length_movies": "long movies"
                                },
                                {
                                    "title": "HANDICAP BOONDOCK",
                                    "length_movies": "long movies"
                                },
                                {
                                    "title": "HANGING DEEP",
                                    "length_movies": "Short movies"
                                },
                                {
                                    "title": "HANKY OCTOBER",
                                    "length_movies": "long movies"
                                },
                                {
                                    "title": "HANOVER GALAXY",
                                    "length_movies": "Short movies"
                                },
                                {
                                    "title": "HAPPINESS UNITED",
                                    "length_movies": "long movies"
                                },
                                {
                                    "title": "HARDLY ROBBERS",
                                    "length_movies": "Short movies"
                                },
                                {
                                    "title": "HAROLD FRENCH",
                                    "length_movies": "long movies"
                                },
                                {
                                    "title": "HARPER DYING",
                                    "length_movies": "Short movies"
                                },
                                {
                                    "title": "HARRY IDAHO",
                                    "length_movies": "long movies"
                                },
                                {
                                    "title": "HATE HANDICAP",
                                    "length_movies": "long movies"
                                },
                                {
                                    "title": "HAUNTED ANTITRUST",
                                    "length_movies": "Short movies"
                                },
                                {
                                    "title": "HAUNTING PIANIST",
                                    "length_movies": "long movies"
                                },
                                {
                                    "title": "HAWK CHILL",
                                    "length_movies": "Short movies"
                                },
                                {
                                    "title": "HEAD STRANGER",
                                    "length_movies": "Short movies"
                                },
                                {
                                    "title": "HEARTBREAKERS BRIGHT",
                                    "length_movies": "Short movies"
                                },
                                {
                                    "title": "HEAVEN FREEDOM",
                                    "length_movies": "Short movies"
                                },
                                {
                                    "title": "HEAVENLY GUN",
                                    "length_movies": "Short movies"
                                },
                                {
                                    "title": "HEAVYWEIGHTS BEAST",
                                    "length_movies": "long movies"
                                },
                                {
                                    "title": "HEDWIG ALTER",
                                    "length_movies": "long movies"
                                },
                                {
                                    "title": "HELLFIGHTERS SIERRA",
                                    "length_movies": "Short movies"
                                },
                                {
                                    "title": "HIGH ENCINO",
                                    "length_movies": "Short movies"
                                },
                                {
                                    "title": "HIGHBALL POTTER",
                                    "length_movies": "long movies"
                                },
                                {
                                    "title": "HILLS NEIGHBORS",
                                    "length_movies": "long movies"
                                },
                                {
                                    "title": "HOBBIT ALIEN",
                                    "length_movies": "long movies"
                                },
                                {
                                    "title": "HOCUS FRIDA",
                                    "length_movies": "long movies"
                                },
                                {
                                    "title": "HOLES BRANNIGAN",
                                    "length_movies": "long movies"
                                },
                                {
                                    "title": "HOLIDAY GAMES",
                                    "length_movies": "Short movies"
                                },
                                {
                                    "title": "HOLLOW JEOPARDY",
                                    "length_movies": "long movies"
                                },
                                {
                                    "title": "HOLLYWOOD ANONYMOUS",
                                    "length_movies": "Short movies"
                                },
                                {
                                    "title": "HOLOCAUST HIGHBALL",
                                    "length_movies": "long movies"
                                },
                                {
                                    "title": "HOLY TADPOLE",
                                    "length_movies": "Short movies"
                                },
                                {
                                    "title": "HOME PITY",
                                    "length_movies": "long movies"
                                },
                                {
                                    "title": "HOMEWARD CIDER",
                                    "length_movies": "long movies"
                                },
                                {
                                    "title": "HOMICIDE PEACH",
                                    "length_movies": "long movies"
                                },
                                {
                                    "title": "HONEY TIES",
                                    "length_movies": "Short movies"
                                },
                                {
                                    "title": "HOOK CHARIOTS",
                                    "length_movies": "Short movies"
                                },
                                {
                                    "title": "HOOSIERS BIRDCAGE",
                                    "length_movies": "long movies"
                                },
                                {
                                    "title": "HOPE TOOTSIE",
                                    "length_movies": "long movies"
                                },
                                {
                                    "title": "HORN WORKING",
                                    "length_movies": "long movies"
                                },
                                {
                                    "title": "HORROR REIGN",
                                    "length_movies": "long movies"
                                },
                                {
                                    "title": "HOTEL HAPPINESS",
                                    "length_movies": "long movies"
                                },
                                {
                                    "title": "HOURS RAGE",
                                    "length_movies": "long movies"
                                },
                                {
                                    "title": "HOUSE DYNAMITE",
                                    "length_movies": "long movies"
                                },
                                {
                                    "title": "HUMAN GRAFFITI",
                                    "length_movies": "Short movies"
                                },
                                {
                                    "title": "HUNCHBACK IMPOSSIBLE",
                                    "length_movies": "long movies"
                                },
                                {
                                    "title": "HUNGER ROOF",
                                    "length_movies": "long movies"
                                },
                                {
                                    "title": "HUNTER ALTER",
                                    "length_movies": "long movies"
                                },
                                {
                                    "title": "HUNTING MUSKETEERS",
                                    "length_movies": "Short movies"
                                },
                                {
                                    "title": "HURRICANE AFFAIR",
                                    "length_movies": "Short movies"
                                },
                                {
                                    "title": "HUSTLER PARTY",
                                    "length_movies": "Short movies"
                                },
                                {
                                    "title": "HYDE DOCTOR",
                                    "length_movies": "long movies"
                                },
                                {
                                    "title": "HYSTERICAL GRAIL",
                                    "length_movies": "long movies"
                                },
                                {
                                    "title": "ICE CROSSING",
                                    "length_movies": "long movies"
                                },
                                {
                                    "title": "IDAHO LOVE",
                                    "length_movies": "long movies"
                                },
                                {
                                    "title": "IDENTITY LOVER",
                                    "length_movies": "long movies"
                                },
                                {
                                    "title": "IDOLS SNATCHERS",
                                    "length_movies": "Short movies"
                                },
                                {
                                    "title": "IGBY MAKER",
                                    "length_movies": "long movies"
                                },
                                {
                                    "title": "ILLUSION AMELIE",
                                    "length_movies": "long movies"
                                },
                                {
                                    "title": "IMAGE PRINCESS",
                                    "length_movies": "long movies"
                                },
                                {
                                    "title": "IMPACT ALADDIN",
                                    "length_movies": "long movies"
                                },
                                {
                                    "title": "IMPOSSIBLE PREJUDICE",
                                    "length_movies": "long movies"
                                },
                                {
                                    "title": "INCH JET",
                                    "length_movies": "long movies"
                                },
                                {
                                    "title": "INDEPENDENCE HOTEL",
                                    "length_movies": "long movies"
                                },
                                {
                                    "title": "INDIAN LOVE",
                                    "length_movies": "long movies"
                                },
                                {
                                    "title": "INFORMER DOUBLE",
                                    "length_movies": "Short movies"
                                },
                                {
                                    "title": "INNOCENT USUAL",
                                    "length_movies": "long movies"
                                },
                                {
                                    "title": "INSECTS STONE",
                                    "length_movies": "long movies"
                                },
                                {
                                    "title": "INSIDER ARIZONA",
                                    "length_movies": "Short movies"
                                },
                                {
                                    "title": "INSTINCT AIRPORT",
                                    "length_movies": "long movies"
                                },
                                {
                                    "title": "INTENTIONS EMPIRE",
                                    "length_movies": "long movies"
                                },
                                {
                                    "title": "INTERVIEW LIAISONS",
                                    "length_movies": "Short movies"
                                },
                                {
                                    "title": "INTOLERABLE INTENTIONS",
                                    "length_movies": "Short movies"
                                },
                                {
                                    "title": "INTRIGUE WORST",
                                    "length_movies": "long movies"
                                },
                                {
                                    "title": "INVASION CYCLONE",
                                    "length_movies": "long movies"
                                },
                                {
                                    "title": "IRON MOON",
                                    "length_movies": "Short movies"
                                },
                                {
                                    "title": "ISHTAR ROCKETEER",
                                    "length_movies": "Short movies"
                                },
                                {
                                    "title": "ISLAND EXORCIST",
                                    "length_movies": "Short movies"
                                },
                                {
                                    "title": "ITALIAN AFRICAN",
                                    "length_movies": "long movies"
                                },
                                {
                                    "title": "JACKET FRISCO",
                                    "length_movies": "long movies"
                                },
                                {
                                    "title": "JADE BUNCH",
                                    "length_movies": "long movies"
                                },
                                {
                                    "title": "JAPANESE RUN",
                                    "length_movies": "long movies"
                                },
                                {
                                    "title": "JASON TRAP",
                                    "length_movies": "long movies"
                                },
                                {
                                    "title": "JAWBREAKER BROOKLYN",
                                    "length_movies": "long movies"
                                },
                                {
                                    "title": "JAWS HARRY",
                                    "length_movies": "long movies"
                                },
                                {
                                    "title": "JEDI BENEATH",
                                    "length_movies": "long movies"
                                },
                                {
                                    "title": "JEEPERS WEDDING",
                                    "length_movies": "Short movies"
                                },
                                {
                                    "title": "JEKYLL FROGMEN",
                                    "length_movies": "Short movies"
                                },
                                {
                                    "title": "JEOPARDY ENCINO",
                                    "length_movies": "long movies"
                                },
                                {
                                    "title": "JERICHO MULAN",
                                    "length_movies": "long movies"
                                },
                                {
                                    "title": "JERK PAYCHECK",
                                    "length_movies": "long movies"
                                },
                                {
                                    "title": "JERSEY SASSY",
                                    "length_movies": "Short movies"
                                },
                                {
                                    "title": "JET NEIGHBORS",
                                    "length_movies": "Short movies"
                                },
                                {
                                    "title": "JINGLE SAGEBRUSH",
                                    "length_movies": "long movies"
                                },
                                {
                                    "title": "JOON NORTHWEST",
                                    "length_movies": "long movies"
                                },
                                {
                                    "title": "JUGGLER HARDLY",
                                    "length_movies": "Short movies"
                                },
                                {
                                    "title": "JUMANJI BLADE",
                                    "length_movies": "long movies"
                                },
                                {
                                    "title": "JUMPING WRATH",
                                    "length_movies": "Short movies"
                                },
                                {
                                    "title": "JUNGLE CLOSER",
                                    "length_movies": "long movies"
                                },
                                {
                                    "title": "KANE EXORCIST",
                                    "length_movies": "long movies"
                                },
                                {
                                    "title": "KARATE MOON",
                                    "length_movies": "long movies"
                                },
                                {
                                    "title": "KENTUCKIAN GIANT",
                                    "length_movies": "long movies"
                                },
                                {
                                    "title": "KICK SAVANNAH",
                                    "length_movies": "long movies"
                                },
                                {
                                    "title": "KILL BROTHERHOOD",
                                    "length_movies": "Short movies"
                                },
                                {
                                    "title": "KILLER INNOCENT",
                                    "length_movies": "long movies"
                                },
                                {
                                    "title": "KING EVOLUTION",
                                    "length_movies": "long movies"
                                },
                                {
                                    "title": "KISS GLORY",
                                    "length_movies": "long movies"
                                },
                                {
                                    "title": "KISSING DOLLS",
                                    "length_movies": "long movies"
                                },
                                {
                                    "title": "KNOCK WARLOCK",
                                    "length_movies": "Short movies"
                                },
                                {
                                    "title": "KRAMER CHOCOLATE",
                                    "length_movies": "long movies"
                                },
                                {
                                    "title": "KWAI HOMEWARD",
                                    "length_movies": "Short movies"
                                },
                                {
                                    "title": "LABYRINTH LEAGUE",
                                    "length_movies": "Short movies"
                                },
                                {
                                    "title": "LADY STAGE",
                                    "length_movies": "Short movies"
                                },
                                {
                                    "title": "LADYBUGS ARMAGEDDON",
                                    "length_movies": "long movies"
                                },
                                {
                                    "title": "LAMBS CINCINATTI",
                                    "length_movies": "long movies"
                                },
                                {
                                    "title": "LANGUAGE COWBOY",
                                    "length_movies": "Short movies"
                                },
                                {
                                    "title": "LAWLESS VISION",
                                    "length_movies": "long movies"
                                },
                                {
                                    "title": "LAWRENCE LOVE",
                                    "length_movies": "long movies"
                                },
                                {
                                    "title": "LEAGUE HELLFIGHTERS",
                                    "length_movies": "long movies"
                                },
                                {
                                    "title": "LEATHERNECKS DWARFS",
                                    "length_movies": "long movies"
                                },
                                {
                                    "title": "LEBOWSKI SOLDIERS",
                                    "length_movies": "Short movies"
                                },
                                {
                                    "title": "LEGALLY SECRETARY",
                                    "length_movies": "long movies"
                                },
                                {
                                    "title": "LEGEND JEDI",
                                    "length_movies": "Short movies"
                                },
                                {
                                    "title": "LESSON CLEOPATRA",
                                    "length_movies": "long movies"
                                },
                                {
                                    "title": "LIAISONS SWEET",
                                    "length_movies": "long movies"
                                },
                                {
                                    "title": "LIBERTY MAGNIFICENT",
                                    "length_movies": "long movies"
                                },
                                {
                                    "title": "LICENSE WEEKEND",
                                    "length_movies": "long movies"
                                },
                                {
                                    "title": "LIES TREATMENT",
                                    "length_movies": "long movies"
                                },
                                {
                                    "title": "LIFE TWISTED",
                                    "length_movies": "long movies"
                                },
                                {
                                    "title": "LIGHTS DEER",
                                    "length_movies": "long movies"
                                },
                                {
                                    "title": "LION UNCUT",
                                    "length_movies": "Short movies"
                                },
                                {
                                    "title": "LOATHING LEGALLY",
                                    "length_movies": "long movies"
                                },
                                {
                                    "title": "LOCK REAR",
                                    "length_movies": "long movies"
                                },
                                {
                                    "title": "LOLA AGENT",
                                    "length_movies": "Short movies"
                                },
                                {
                                    "title": "LOLITA WORLD",
                                    "length_movies": "long movies"
                                },
                                {
                                    "title": "LONELY ELEPHANT",
                                    "length_movies": "Short movies"
                                },
                                {
                                    "title": "LORD ARIZONA",
                                    "length_movies": "long movies"
                                },
                                {
                                    "title": "LOSE INCH",
                                    "length_movies": "long movies"
                                },
                                {
                                    "title": "LOSER HUSTLER",
                                    "length_movies": "Short movies"
                                },
                                {
                                    "title": "LOST BIRD",
                                    "length_movies": "long movies"
                                },
                                {
                                    "title": "LOUISIANA HARRY",
                                    "length_movies": "Short movies"
                                },
                                {
                                    "title": "LOVE SUICIDES",
                                    "length_movies": "long movies"
                                },
                                {
                                    "title": "LOVELY JINGLE",
                                    "length_movies": "Short movies"
                                },
                                {
                                    "title": "LOVER TRUMAN",
                                    "length_movies": "Short movies"
                                },
                                {
                                    "title": "LOVERBOY ATTACKS",
                                    "length_movies": "long movies"
                                },
                                {
                                    "title": "LUCK OPUS",
                                    "length_movies": "long movies"
                                },
                                {
                                    "title": "LUCKY FLYING",
                                    "length_movies": "long movies"
                                },
                                {
                                    "title": "LUKE MUMMY",
                                    "length_movies": "Short movies"
                                },
                                {
                                    "title": "LUST LOCK",
                                    "length_movies": "Short movies"
                                },
                                {
                                    "title": "MADIGAN DORADO",
                                    "length_movies": "long movies"
                                },
                                {
                                    "title": "MADISON TRAP",
                                    "length_movies": "long movies"
                                },
                                {
                                    "title": "MADNESS ATTACKS",
                                    "length_movies": "long movies"
                                },
                                {
                                    "title": "MADRE GABLES",
                                    "length_movies": "long movies"
                                },
                                {
                                    "title": "MAGIC MALLRATS",
                                    "length_movies": "long movies"
                                },
                                {
                                    "title": "MAGNIFICENT CHITTY",
                                    "length_movies": "Short movies"
                                },
                                {
                                    "title": "MAGNOLIA FORRESTER",
                                    "length_movies": "long movies"
                                },
                                {
                                    "title": "MAGUIRE APACHE",
                                    "length_movies": "Short movies"
                                },
                                {
                                    "title": "MAIDEN HOME",
                                    "length_movies": "long movies"
                                },
                                {
                                    "title": "MAJESTIC FLOATS",
                                    "length_movies": "long movies"
                                },
                                {
                                    "title": "MAKER GABLES",
                                    "length_movies": "long movies"
                                },
                                {
                                    "title": "MALKOVICH PET",
                                    "length_movies": "long movies"
                                },
                                {
                                    "title": "MALLRATS UNITED",
                                    "length_movies": "long movies"
                                },
                                {
                                    "title": "MALTESE HOPE",
                                    "length_movies": "long movies"
                                },
                                {
                                    "title": "MANCHURIAN CURTAIN",
                                    "length_movies": "long movies"
                                },
                                {
                                    "title": "MANNEQUIN WORST",
                                    "length_movies": "Short movies"
                                },
                                {
                                    "title": "MARRIED GO",
                                    "length_movies": "long movies"
                                },
                                {
                                    "title": "MARS ROMAN",
                                    "length_movies": "Short movies"
                                },
                                {
                                    "title": "MASK PEACH",
                                    "length_movies": "long movies"
                                },
                                {
                                    "title": "MASKED BUBBLE",
                                    "length_movies": "long movies"
                                },
                                {
                                    "title": "MASSACRE USUAL",
                                    "length_movies": "long movies"
                                },
                                {
                                    "title": "MASSAGE IMAGE",
                                    "length_movies": "long movies"
                                },
                                {
                                    "title": "MATRIX SNOWMAN",
                                    "length_movies": "Short movies"
                                },
                                {
                                    "title": "MAUDE MOD",
                                    "length_movies": "Short movies"
                                },
                                {
                                    "title": "MEET CHOCOLATE",
                                    "length_movies": "Short movies"
                                },
                                {
                                    "title": "MEMENTO ZOOLANDER",
                                    "length_movies": "Short movies"
                                },
                                {
                                    "title": "MENAGERIE RUSHMORE",
                                    "length_movies": "long movies"
                                },
                                {
                                    "title": "MERMAID INSECTS",
                                    "length_movies": "long movies"
                                },
                                {
                                    "title": "METAL ARMAGEDDON",
                                    "length_movies": "long movies"
                                },
                                {
                                    "title": "METROPOLIS COMA",
                                    "length_movies": "Short movies"
                                },
                                {
                                    "title": "MICROCOSMOS PARADISE",
                                    "length_movies": "long movies"
                                },
                                {
                                    "title": "MIDNIGHT WESTWARD",
                                    "length_movies": "Short movies"
                                },
                                {
                                    "title": "MIDSUMMER GROUNDHOG",
                                    "length_movies": "Short movies"
                                },
                                {
                                    "title": "MIGHTY LUCK",
                                    "length_movies": "long movies"
                                },
                                {
                                    "title": "MILE MULAN",
                                    "length_movies": "Short movies"
                                },
                                {
                                    "title": "MILLION ACE",
                                    "length_movies": "long movies"
                                },
                                {
                                    "title": "MINDS TRUMAN",
                                    "length_movies": "long movies"
                                },
                                {
                                    "title": "MINE TITANS",
                                    "length_movies": "long movies"
                                },
                                {
                                    "title": "MINORITY KISS",
                                    "length_movies": "Short movies"
                                },
                                {
                                    "title": "MIRACLE VIRTUAL",
                                    "length_movies": "long movies"
                                },
                                {
                                    "title": "MISSION ZOOLANDER",
                                    "length_movies": "long movies"
                                },
                                {
                                    "title": "MIXED DOORS",
                                    "length_movies": "long movies"
                                },
                                {
                                    "title": "MOB DUFFEL",
                                    "length_movies": "long movies"
                                },
                                {
                                    "title": "MOCKINGBIRD HOLLYWOOD",
                                    "length_movies": "Short movies"
                                },
                                {
                                    "title": "MOD SECRETARY",
                                    "length_movies": "Short movies"
                                },
                                {
                                    "title": "MODEL FISH",
                                    "length_movies": "long movies"
                                },
                                {
                                    "title": "MODERN DORADO",
                                    "length_movies": "Short movies"
                                },
                                {
                                    "title": "MONEY HAROLD",
                                    "length_movies": "long movies"
                                },
                                {
                                    "title": "MONSOON CAUSE",
                                    "length_movies": "long movies"
                                },
                                {
                                    "title": "MONSTER SPARTACUS",
                                    "length_movies": "long movies"
                                },
                                {
                                    "title": "MONTEREY LABYRINTH",
                                    "length_movies": "long movies"
                                },
                                {
                                    "title": "MONTEZUMA COMMAND",
                                    "length_movies": "long movies"
                                },
                                {
                                    "title": "MOON BUNCH",
                                    "length_movies": "Short movies"
                                },
                                {
                                    "title": "MOONSHINE CABIN",
                                    "length_movies": "long movies"
                                },
                                {
                                    "title": "MOONWALKER FOOL",
                                    "length_movies": "long movies"
                                },
                                {
                                    "title": "MOSQUITO ARMAGEDDON",
                                    "length_movies": "Short movies"
                                },
                                {
                                    "title": "MOTHER OLEANDER",
                                    "length_movies": "long movies"
                                },
                                {
                                    "title": "MOTIONS DETAILS",
                                    "length_movies": "long movies"
                                },
                                {
                                    "title": "MOULIN WAKE",
                                    "length_movies": "Short movies"
                                },
                                {
                                    "title": "MOURNING PURPLE",
                                    "length_movies": "long movies"
                                },
                                {
                                    "title": "MOVIE SHAKESPEARE",
                                    "length_movies": "Short movies"
                                },
                                {
                                    "title": "MULAN MOON",
                                    "length_movies": "long movies"
                                },
                                {
                                    "title": "MULHOLLAND BEAST",
                                    "length_movies": "long movies"
                                },
                                {
                                    "title": "MUMMY CREATURES",
                                    "length_movies": "long movies"
                                },
                                {
                                    "title": "MUPPET MILE",
                                    "length_movies": "Short movies"
                                },
                                {
                                    "title": "MURDER ANTITRUST",
                                    "length_movies": "long movies"
                                },
                                {
                                    "title": "MUSCLE BRIGHT",
                                    "length_movies": "long movies"
                                },
                                {
                                    "title": "MUSIC BOONDOCK",
                                    "length_movies": "long movies"
                                },
                                {
                                    "title": "MUSKETEERS WAIT",
                                    "length_movies": "Short movies"
                                },
                                {
                                    "title": "MUSSOLINI SPOILERS",
                                    "length_movies": "long movies"
                                },
                                {
                                    "title": "MYSTIC TRUMAN",
                                    "length_movies": "long movies"
                                },
                                {
                                    "title": "NAME DETECTIVE",
                                    "length_movies": "long movies"
                                },
                                {
                                    "title": "NASH CHOCOLAT",
                                    "length_movies": "long movies"
                                },
                                {
                                    "title": "NATIONAL STORY",
                                    "length_movies": "long movies"
                                },
                                {
                                    "title": "NATURAL STOCK",
                                    "length_movies": "Short movies"
                                },
                                {
                                    "title": "NECKLACE OUTBREAK",
                                    "length_movies": "long movies"
                                },
                                {
                                    "title": "NEIGHBORS CHARADE",
                                    "length_movies": "long movies"
                                },
                                {
                                    "title": "NEMO CAMPUS",
                                    "length_movies": "long movies"
                                },
                                {
                                    "title": "NETWORK PEAK",
                                    "length_movies": "Short movies"
                                },
                                {
                                    "title": "NEWSIES STORY",
                                    "length_movies": "long movies"
                                },
                                {
                                    "title": "NEWTON LABYRINTH",
                                    "length_movies": "Short movies"
                                },
                                {
                                    "title": "NIGHTMARE CHILL",
                                    "length_movies": "long movies"
                                },
                                {
                                    "title": "NONE SPIKING",
                                    "length_movies": "Short movies"
                                },
                                {
                                    "title": "NOON PAPI",
                                    "length_movies": "Short movies"
                                },
                                {
                                    "title": "NORTH TEQUILA",
                                    "length_movies": "Short movies"
                                },
                                {
                                    "title": "NORTHWEST POLISH",
                                    "length_movies": "long movies"
                                },
                                {
                                    "title": "NOTORIOUS REUNION",
                                    "length_movies": "long movies"
                                },
                                {
                                    "title": "NOTTING SPEAKEASY",
                                    "length_movies": "Short movies"
                                },
                                {
                                    "title": "NOVOCAINE FLIGHT",
                                    "length_movies": "Short movies"
                                },
                                {
                                    "title": "NUTS TIES",
                                    "length_movies": "long movies"
                                },
                                {
                                    "title": "OCTOBER SUBMARINE",
                                    "length_movies": "Short movies"
                                },
                                {
                                    "title": "ODDS BOOGIE",
                                    "length_movies": "Short movies"
                                },
                                {
                                    "title": "OKLAHOMA JUMANJI",
                                    "length_movies": "Short movies"
                                },
                                {
                                    "title": "OLEANDER CLUE",
                                    "length_movies": "long movies"
                                },
                                {
                                    "title": "OPEN AFRICAN",
                                    "length_movies": "long movies"
                                },
                                {
                                    "title": "OPERATION OPERATION",
                                    "length_movies": "long movies"
                                },
                                {
                                    "title": "OPPOSITE NECKLACE",
                                    "length_movies": "long movies"
                                },
                                {
                                    "title": "OPUS ICE",
                                    "length_movies": "long movies"
                                },
                                {
                                    "title": "ORANGE GRAPES",
                                    "length_movies": "Short movies"
                                },
                                {
                                    "title": "ORDER BETRAYED",
                                    "length_movies": "long movies"
                                },
                                {
                                    "title": "ORIENT CLOSER",
                                    "length_movies": "long movies"
                                },
                                {
                                    "title": "OSCAR GOLD",
                                    "length_movies": "long movies"
                                },
                                {
                                    "title": "OTHERS SOUP",
                                    "length_movies": "long movies"
                                },
                                {
                                    "title": "OUTBREAK DIVINE",
                                    "length_movies": "long movies"
                                },
                                {
                                    "title": "OUTFIELD MASSACRE",
                                    "length_movies": "long movies"
                                },
                                {
                                    "title": "OUTLAW HANKY",
                                    "length_movies": "long movies"
                                },
                                {
                                    "title": "OZ LIAISONS",
                                    "length_movies": "Short movies"
                                },
                                {
                                    "title": "PACIFIC AMISTAD",
                                    "length_movies": "long movies"
                                },
                                {
                                    "title": "PACKER MADIGAN",
                                    "length_movies": "Short movies"
                                },
                                {
                                    "title": "PAJAMA JAWBREAKER",
                                    "length_movies": "long movies"
                                },
                                {
                                    "title": "PANIC CLUB",
                                    "length_movies": "long movies"
                                },
                                {
                                    "title": "PANKY SUBMARINE",
                                    "length_movies": "long movies"
                                },
                                {
                                    "title": "PANTHER REDS",
                                    "length_movies": "long movies"
                                },
                                {
                                    "title": "PAPI NECKLACE",
                                    "length_movies": "long movies"
                                },
                                {
                                    "title": "PARADISE SABRINA",
                                    "length_movies": "Short movies"
                                },
                                {
                                    "title": "PARIS WEEKEND",
                                    "length_movies": "long movies"
                                },
                                {
                                    "title": "PARK CITIZEN",
                                    "length_movies": "long movies"
                                },
                                {
                                    "title": "PARTY KNOCK",
                                    "length_movies": "long movies"
                                },
                                {
                                    "title": "PAST SUICIDES",
                                    "length_movies": "long movies"
                                },
                                {
                                    "title": "PATHS CONTROL",
                                    "length_movies": "long movies"
                                },
                                {
                                    "title": "PATIENT SISTER",
                                    "length_movies": "long movies"
                                },
                                {
                                    "title": "PATRIOT ROMAN",
                                    "length_movies": "Short movies"
                                },
                                {
                                    "title": "PATTON INTERVIEW",
                                    "length_movies": "long movies"
                                },
                                {
                                    "title": "PAYCHECK WAIT",
                                    "length_movies": "long movies"
                                },
                                {
                                    "title": "PEACH INNOCENT",
                                    "length_movies": "long movies"
                                },
                                {
                                    "title": "PEAK FOREVER",
                                    "length_movies": "Short movies"
                                },
                                {
                                    "title": "PEARL DESTINY",
                                    "length_movies": "Short movies"
                                },
                                {
                                    "title": "PELICAN COMFORTS",
                                    "length_movies": "Short movies"
                                },
                                {
                                    "title": "PERDITION FARGO",
                                    "length_movies": "long movies"
                                },
                                {
                                    "title": "PERFECT GROOVE",
                                    "length_movies": "Short movies"
                                },
                                {
                                    "title": "PERSONAL LADYBUGS",
                                    "length_movies": "long movies"
                                },
                                {
                                    "title": "PET HAUNTING",
                                    "length_movies": "long movies"
                                },
                                {
                                    "title": "PHANTOM GLORY",
                                    "length_movies": "Short movies"
                                },
                                {
                                    "title": "PHILADELPHIA WIFE",
                                    "length_movies": "long movies"
                                },
                                {
                                    "title": "PIANIST OUTFIELD",
                                    "length_movies": "long movies"
                                },
                                {
                                    "title": "PICKUP DRIVING",
                                    "length_movies": "Short movies"
                                },
                                {
                                    "title": "PILOT HOOSIERS",
                                    "length_movies": "Short movies"
                                },
                                {
                                    "title": "PINOCCHIO SIMON",
                                    "length_movies": "long movies"
                                },
                                {
                                    "title": "PIRATES ROXANNE",
                                    "length_movies": "long movies"
                                },
                                {
                                    "title": "PITTSBURGH HUNCHBACK",
                                    "length_movies": "long movies"
                                },
                                {
                                    "title": "PITY BOUND",
                                    "length_movies": "Short movies"
                                },
                                {
                                    "title": "PIZZA JUMANJI",
                                    "length_movies": "long movies"
                                },
                                {
                                    "title": "PLATOON INSTINCT",
                                    "length_movies": "long movies"
                                },
                                {
                                    "title": "PLUTO OLEANDER",
                                    "length_movies": "Short movies"
                                },
                                {
                                    "title": "POCUS PULP",
                                    "length_movies": "long movies"
                                },
                                {
                                    "title": "POLISH BROOKLYN",
                                    "length_movies": "Short movies"
                                },
                                {
                                    "title": "POLLOCK DELIVERANCE",
                                    "length_movies": "long movies"
                                },
                                {
                                    "title": "POND SEATTLE",
                                    "length_movies": "long movies"
                                },
                                {
                                    "title": "POSEIDON FOREVER",
                                    "length_movies": "long movies"
                                },
                                {
                                    "title": "POTLUCK MIXED",
                                    "length_movies": "long movies"
                                },
                                {
                                    "title": "POTTER CONNECTICUT",
                                    "length_movies": "long movies"
                                },
                                {
                                    "title": "PREJUDICE OLEANDER",
                                    "length_movies": "long movies"
                                },
                                {
                                    "title": "PRESIDENT BANG",
                                    "length_movies": "long movies"
                                },
                                {
                                    "title": "PRIDE ALAMO",
                                    "length_movies": "long movies"
                                },
                                {
                                    "title": "PRIMARY GLASS",
                                    "length_movies": "Short movies"
                                },
                                {
                                    "title": "PRINCESS GIANT",
                                    "length_movies": "Short movies"
                                },
                                {
                                    "title": "PRIVATE DROP",
                                    "length_movies": "long movies"
                                },
                                {
                                    "title": "PRIX UNDEFEATED",
                                    "length_movies": "long movies"
                                },
                                {
                                    "title": "PSYCHO SHRUNK",
                                    "length_movies": "long movies"
                                },
                                {
                                    "title": "PULP BEVERLY",
                                    "length_movies": "Short movies"
                                },
                                {
                                    "title": "PUNK DIVORCE",
                                    "length_movies": "long movies"
                                },
                                {
                                    "title": "PURE RUNNER",
                                    "length_movies": "long movies"
                                },
                                {
                                    "title": "PURPLE MOVIE",
                                    "length_movies": "Short movies"
                                },
                                {
                                    "title": "QUEEN LUKE",
                                    "length_movies": "long movies"
                                },
                                {
                                    "title": "QUEST MUSSOLINI",
                                    "length_movies": "long movies"
                                },
                                {
                                    "title": "QUILLS BULL",
                                    "length_movies": "long movies"
                                },
                                {
                                    "title": "RACER EGG",
                                    "length_movies": "long movies"
                                },
                                {
                                    "title": "RAGE GAMES",
                                    "length_movies": "long movies"
                                },
                                {
                                    "title": "RAGING AIRPLANE",
                                    "length_movies": "long movies"
                                },
                                {
                                    "title": "RAIDERS ANTITRUST",
                                    "length_movies": "Short movies"
                                },
                                {
                                    "title": "RAINBOW SHOCK",
                                    "length_movies": "Short movies"
                                },
                                {
                                    "title": "RANDOM GO",
                                    "length_movies": "Short movies"
                                },
                                {
                                    "title": "RANGE MOONWALKER",
                                    "length_movies": "long movies"
                                },
                                {
                                    "title": "REAP UNFAITHFUL",
                                    "length_movies": "long movies"
                                },
                                {
                                    "title": "REAR TRADING",
                                    "length_movies": "long movies"
                                },
                                {
                                    "title": "REBEL AIRPORT",
                                    "length_movies": "Short movies"
                                },
                                {
                                    "title": "RECORDS ZORRO",
                                    "length_movies": "long movies"
                                },
                                {
                                    "title": "REDEMPTION COMFORTS",
                                    "length_movies": "long movies"
                                },
                                {
                                    "title": "REDS POCUS",
                                    "length_movies": "long movies"
                                },
                                {
                                    "title": "REEF SALUTE",
                                    "length_movies": "long movies"
                                },
                                {
                                    "title": "REIGN GENTLEMEN",
                                    "length_movies": "Short movies"
                                },
                                {
                                    "title": "REMEMBER DIARY",
                                    "length_movies": "long movies"
                                },
                                {
                                    "title": "REQUIEM TYCOON",
                                    "length_movies": "long movies"
                                },
                                {
                                    "title": "RESERVOIR ADAPTATION",
                                    "length_movies": "Short movies"
                                },
                                {
                                    "title": "RESURRECTION SILVERADO",
                                    "length_movies": "long movies"
                                },
                                {
                                    "title": "REUNION WITCHES",
                                    "length_movies": "Short movies"
                                },
                                {
                                    "title": "RIDER CADDYSHACK",
                                    "length_movies": "long movies"
                                },
                                {
                                    "title": "RIDGEMONT SUBMARINE",
                                    "length_movies": "Short movies"
                                },
                                {
                                    "title": "RIGHT CRANES",
                                    "length_movies": "long movies"
                                },
                                {
                                    "title": "RINGS HEARTBREAKERS",
                                    "length_movies": "Short movies"
                                },
                                {
                                    "title": "RIVER OUTLAW",
                                    "length_movies": "long movies"
                                },
                                {
                                    "title": "ROAD ROXANNE",
                                    "length_movies": "long movies"
                                },
                                {
                                    "title": "ROBBERS JOON",
                                    "length_movies": "long movies"
                                },
                                {
                                    "title": "ROBBERY BRIGHT",
                                    "length_movies": "long movies"
                                },
                                {
                                    "title": "ROCK INSTINCT",
                                    "length_movies": "long movies"
                                },
                                {
                                    "title": "ROCKETEER MOTHER",
                                    "length_movies": "long movies"
                                },
                                {
                                    "title": "ROCKY WAR",
                                    "length_movies": "long movies"
                                },
                                {
                                    "title": "ROLLERCOASTER BRINGING",
                                    "length_movies": "long movies"
                                },
                                {
                                    "title": "ROMAN PUNK",
                                    "length_movies": "Short movies"
                                },
                                {
                                    "title": "ROOF CHAMPION",
                                    "length_movies": "long movies"
                                },
                                {
                                    "title": "ROOM ROMAN",
                                    "length_movies": "Short movies"
                                },
                                {
                                    "title": "ROOTS REMEMBER",
                                    "length_movies": "Short movies"
                                },
                                {
                                    "title": "ROSES TREASURE",
                                    "length_movies": "long movies"
                                },
                                {
                                    "title": "ROUGE SQUAD",
                                    "length_movies": "long movies"
                                },
                                {
                                    "title": "ROXANNE REBEL",
                                    "length_movies": "long movies"
                                },
                                {
                                    "title": "RUGRATS SHAKESPEARE",
                                    "length_movies": "long movies"
                                },
                                {
                                    "title": "RULES HUMAN",
                                    "length_movies": "long movies"
                                },
                                {
                                    "title": "RUN PACIFIC",
                                    "length_movies": "long movies"
                                },
                                {
                                    "title": "RUNAWAY TENENBAUMS",
                                    "length_movies": "long movies"
                                },
                                {
                                    "title": "RUNNER MADIGAN",
                                    "length_movies": "long movies"
                                },
                                {
                                    "title": "RUSH GOODFELLAS",
                                    "length_movies": "Short movies"
                                },
                                {
                                    "title": "RUSHMORE MERMAID",
                                    "length_movies": "long movies"
                                },
                                {
                                    "title": "SABRINA MIDNIGHT",
                                    "length_movies": "long movies"
                                },
                                {
                                    "title": "SADDLE ANTITRUST",
                                    "length_movies": "Short movies"
                                },
                                {
                                    "title": "SAGEBRUSH CLUELESS",
                                    "length_movies": "long movies"
                                },
                                {
                                    "title": "SAINTS BRIDE",
                                    "length_movies": "long movies"
                                },
                                {
                                    "title": "SALUTE APOLLO",
                                    "length_movies": "Short movies"
                                },
                                {
                                    "title": "SAMURAI LION",
                                    "length_movies": "long movies"
                                },
                                {
                                    "title": "SANTA PARIS",
                                    "length_movies": "long movies"
                                },
                                {
                                    "title": "SASSY PACKER",
                                    "length_movies": "long movies"
                                },
                                {
                                    "title": "SATISFACTION CONFIDENTIAL",
                                    "length_movies": "Short movies"
                                },
                                {
                                    "title": "SATURDAY LAMBS",
                                    "length_movies": "long movies"
                                },
                                {
                                    "title": "SATURN NAME",
                                    "length_movies": "long movies"
                                },
                                {
                                    "title": "SAVANNAH TOWN",
                                    "length_movies": "Short movies"
                                },
                                {
                                    "title": "SCALAWAG DUCK",
                                    "length_movies": "long movies"
                                },
                                {
                                    "title": "SCARFACE BANG",
                                    "length_movies": "long movies"
                                },
                                {
                                    "title": "SCHOOL JACKET",
                                    "length_movies": "long movies"
                                },
                                {
                                    "title": "SCISSORHANDS SLUMS",
                                    "length_movies": "long movies"
                                },
                                {
                                    "title": "SCORPION APOLLO",
                                    "length_movies": "long movies"
                                },
                                {
                                    "title": "SEA VIRGIN",
                                    "length_movies": "Short movies"
                                },
                                {
                                    "title": "SEABISCUIT PUNK",
                                    "length_movies": "long movies"
                                },
                                {
                                    "title": "SEARCHERS WAIT",
                                    "length_movies": "long movies"
                                },
                                {
                                    "title": "SEATTLE EXPECATIONS",
                                    "length_movies": "long movies"
                                },
                                {
                                    "title": "SECRET GROUNDHOG",
                                    "length_movies": "long movies"
                                },
                                {
                                    "title": "SECRETARY ROUGE",
                                    "length_movies": "long movies"
                                },
                                {
                                    "title": "SECRETS PARADISE",
                                    "length_movies": "long movies"
                                },
                                {
                                    "title": "SENSE GREEK",
                                    "length_movies": "Short movies"
                                },
                                {
                                    "title": "SENSIBILITY REAR",
                                    "length_movies": "long movies"
                                },
                                {
                                    "title": "SEVEN SWARM",
                                    "length_movies": "long movies"
                                },
                                {
                                    "title": "SHAKESPEARE SADDLE",
                                    "length_movies": "Short movies"
                                },
                                {
                                    "title": "SHANE DARKNESS",
                                    "length_movies": "long movies"
                                },
                                {
                                    "title": "SHANGHAI TYCOON",
                                    "length_movies": "Short movies"
                                },
                                {
                                    "title": "SHAWSHANK BUBBLE",
                                    "length_movies": "Short movies"
                                },
                                {
                                    "title": "SHEPHERD MIDSUMMER",
                                    "length_movies": "long movies"
                                },
                                {
                                    "title": "SHINING ROSES",
                                    "length_movies": "long movies"
                                },
                                {
                                    "title": "SHIP WONDERLAND",
                                    "length_movies": "long movies"
                                },
                                {
                                    "title": "SHOCK CABIN",
                                    "length_movies": "Short movies"
                                },
                                {
                                    "title": "SHOOTIST SUPERFLY",
                                    "length_movies": "Short movies"
                                },
                                {
                                    "title": "SHOW LORD",
                                    "length_movies": "long movies"
                                },
                                {
                                    "title": "SHREK LICENSE",
                                    "length_movies": "long movies"
                                },
                                {
                                    "title": "SHRUNK DIVINE",
                                    "length_movies": "long movies"
                                },
                                {
                                    "title": "SIDE ARK",
                                    "length_movies": "Short movies"
                                },
                                {
                                    "title": "SIEGE MADRE",
                                    "length_movies": "long movies"
                                },
                                {
                                    "title": "SIERRA DIVIDE",
                                    "length_movies": "long movies"
                                },
                                {
                                    "title": "SILENCE KANE",
                                    "length_movies": "Short movies"
                                },
                                {
                                    "title": "SILVERADO GOLDFINGER",
                                    "length_movies": "Short movies"
                                },
                                {
                                    "title": "SIMON NORTH",
                                    "length_movies": "Short movies"
                                },
                                {
                                    "title": "SINNERS ATLANTIS",
                                    "length_movies": "long movies"
                                },
                                {
                                    "title": "SISTER FREDDY",
                                    "length_movies": "long movies"
                                },
                                {
                                    "title": "SKY MIRACLE",
                                    "length_movies": "long movies"
                                },
                                {
                                    "title": "SLACKER LIAISONS",
                                    "length_movies": "long movies"
                                },
                                {
                                    "title": "SLEEPING SUSPECTS",
                                    "length_movies": "long movies"
                                },
                                {
                                    "title": "SLEEPLESS MONSOON",
                                    "length_movies": "Short movies"
                                },
                                {
                                    "title": "SLEEPY JAPANESE",
                                    "length_movies": "long movies"
                                },
                                {
                                    "title": "SLEUTH ORIENT",
                                    "length_movies": "Short movies"
                                },
                                {
                                    "title": "SLING LUKE",
                                    "length_movies": "Short movies"
                                },
                                {
                                    "title": "SLIPPER FIDELITY",
                                    "length_movies": "long movies"
                                },
                                {
                                    "title": "SLUMS DUCK",
                                    "length_movies": "long movies"
                                },
                                {
                                    "title": "SMILE EARRING",
                                    "length_movies": "Short movies"
                                },
                                {
                                    "title": "SMOKING BARBARELLA",
                                    "length_movies": "Short movies"
                                },
                                {
                                    "title": "SMOOCHY CONTROL",
                                    "length_movies": "long movies"
                                },
                                {
                                    "title": "SNATCH SLIPPER",
                                    "length_movies": "long movies"
                                },
                                {
                                    "title": "SNATCHERS MONTEZUMA",
                                    "length_movies": "Short movies"
                                },
                                {
                                    "title": "SNOWMAN ROLLERCOASTER",
                                    "length_movies": "Short movies"
                                },
                                {
                                    "title": "SOLDIERS EVOLUTION",
                                    "length_movies": "long movies"
                                },
                                {
                                    "title": "SOMETHING DUCK",
                                    "length_movies": "long movies"
                                },
                                {
                                    "title": "SONG HEDWIG",
                                    "length_movies": "long movies"
                                },
                                {
                                    "title": "SONS INTERVIEW",
                                    "length_movies": "long movies"
                                },
                                {
                                    "title": "SORORITY QUEEN",
                                    "length_movies": "long movies"
                                },
                                {
                                    "title": "SOUP WISDOM",
                                    "length_movies": "long movies"
                                },
                                {
                                    "title": "SOUTH WAIT",
                                    "length_movies": "long movies"
                                },
                                {
                                    "title": "SPARTACUS CHEAPER",
                                    "length_movies": "Short movies"
                                },
                                {
                                    "title": "SPEAKEASY DATE",
                                    "length_movies": "long movies"
                                },
                                {
                                    "title": "SPEED SUIT",
                                    "length_movies": "long movies"
                                },
                                {
                                    "title": "SPICE SORORITY",
                                    "length_movies": "long movies"
                                },
                                {
                                    "title": "SPIKING ELEMENT",
                                    "length_movies": "Short movies"
                                },
                                {
                                    "title": "SPINAL ROCKY",
                                    "length_movies": "long movies"
                                },
                                {
                                    "title": "SPIRIT FLINTSTONES",
                                    "length_movies": "long movies"
                                },
                                {
                                    "title": "SPIRITED CASUALTIES",
                                    "length_movies": "long movies"
                                },
                                {
                                    "title": "SPLASH GUMP",
                                    "length_movies": "long movies"
                                },
                                {
                                    "title": "SPLENDOR PATTON",
                                    "length_movies": "long movies"
                                },
                                {
                                    "title": "SPOILERS HELLFIGHTERS",
                                    "length_movies": "long movies"
                                },
                                {
                                    "title": "SPY MILE",
                                    "length_movies": "long movies"
                                },
                                {
                                    "title": "SQUAD FISH",
                                    "length_movies": "long movies"
                                },
                                {
                                    "title": "STAGE WORLD",
                                    "length_movies": "Short movies"
                                },
                                {
                                    "title": "STAGECOACH ARMAGEDDON",
                                    "length_movies": "long movies"
                                },
                                {
                                    "title": "STALLION SUNDANCE",
                                    "length_movies": "long movies"
                                },
                                {
                                    "title": "STAMPEDE DISTURBING",
                                    "length_movies": "Short movies"
                                },
                                {
                                    "title": "STAR OPERATION",
                                    "length_movies": "long movies"
                                },
                                {
                                    "title": "STATE WASTELAND",
                                    "length_movies": "long movies"
                                },
                                {
                                    "title": "STEEL SANTA",
                                    "length_movies": "long movies"
                                },
                                {
                                    "title": "STEERS ARMAGEDDON",
                                    "length_movies": "long movies"
                                },
                                {
                                    "title": "STEPMOM DREAM",
                                    "length_movies": "Short movies"
                                },
                                {
                                    "title": "STING PERSONAL",
                                    "length_movies": "long movies"
                                },
                                {
                                    "title": "STOCK GLASS",
                                    "length_movies": "long movies"
                                },
                                {
                                    "title": "STONE FIRE",
                                    "length_movies": "long movies"
                                },
                                {
                                    "title": "STORM HAPPINESS",
                                    "length_movies": "Short movies"
                                },
                                {
                                    "title": "STORY SIDE",
                                    "length_movies": "long movies"
                                },
                                {
                                    "title": "STRAIGHT HOURS",
                                    "length_movies": "long movies"
                                },
                                {
                                    "title": "STRANGELOVE DESIRE",
                                    "length_movies": "long movies"
                                },
                                {
                                    "title": "STRANGER STRANGERS",
                                    "length_movies": "long movies"
                                },
                                {
                                    "title": "STRANGERS GRAFFITI",
                                    "length_movies": "long movies"
                                },
                                {
                                    "title": "STREAK RIDGEMONT",
                                    "length_movies": "long movies"
                                },
                                {
                                    "title": "STREETCAR INTENTIONS",
                                    "length_movies": "Short movies"
                                },
                                {
                                    "title": "STRICTLY SCARFACE",
                                    "length_movies": "long movies"
                                },
                                {
                                    "title": "SUBMARINE BED",
                                    "length_movies": "long movies"
                                },
                                {
                                    "title": "SUGAR WONKA",
                                    "length_movies": "long movies"
                                },
                                {
                                    "title": "SUICIDES SILENCE",
                                    "length_movies": "long movies"
                                },
                                {
                                    "title": "SUIT WALLS",
                                    "length_movies": "long movies"
                                },
                                {
                                    "title": "SUMMER SCARFACE",
                                    "length_movies": "Short movies"
                                },
                                {
                                    "title": "SUN CONFESSIONS",
                                    "length_movies": "long movies"
                                },
                                {
                                    "title": "SUNDANCE INVASION",
                                    "length_movies": "long movies"
                                },
                                {
                                    "title": "SUNRISE LEAGUE",
                                    "length_movies": "long movies"
                                },
                                {
                                    "title": "SUNSET RACER",
                                    "length_movies": "Short movies"
                                },
                                {
                                    "title": "SUPER WYOMING",
                                    "length_movies": "Short movies"
                                },
                                {
                                    "title": "SUPERFLY TRIP",
                                    "length_movies": "long movies"
                                },
                                {
                                    "title": "SUSPECTS QUILLS",
                                    "length_movies": "Short movies"
                                },
                                {
                                    "title": "SWARM GOLD",
                                    "length_movies": "long movies"
                                },
                                {
                                    "title": "SWEDEN SHINING",
                                    "length_movies": "long movies"
                                },
                                {
                                    "title": "SWEET BROTHERHOOD",
                                    "length_movies": "long movies"
                                },
                                {
                                    "title": "SWEETHEARTS SUSPECTS",
                                    "length_movies": "long movies"
                                },
                                {
                                    "title": "TADPOLE PARK",
                                    "length_movies": "long movies"
                                },
                                {
                                    "title": "TALENTED HOMICIDE",
                                    "length_movies": "long movies"
                                },
                                {
                                    "title": "TARZAN VIDEOTAPE",
                                    "length_movies": "long movies"
                                },
                                {
                                    "title": "TAXI KICK",
                                    "length_movies": "Short movies"
                                },
                                {
                                    "title": "TEEN APOLLO",
                                    "length_movies": "Short movies"
                                },
                                {
                                    "title": "TELEGRAPH VOYAGE",
                                    "length_movies": "long movies"
                                },
                                {
                                    "title": "TELEMARK HEARTBREAKERS",
                                    "length_movies": "long movies"
                                },
                                {
                                    "title": "TEMPLE ATTRACTION",
                                    "length_movies": "Short movies"
                                },
                                {
                                    "title": "TENENBAUMS COMMAND",
                                    "length_movies": "long movies"
                                },
                                {
                                    "title": "TEQUILA PAST",
                                    "length_movies": "Short movies"
                                },
                                {
                                    "title": "TERMINATOR CLUB",
                                    "length_movies": "Short movies"
                                },
                                {
                                    "title": "TEXAS WATCH",
                                    "length_movies": "long movies"
                                },
                                {
                                    "title": "THEORY MERMAID",
                                    "length_movies": "long movies"
                                },
                                {
                                    "title": "THIEF PELICAN",
                                    "length_movies": "long movies"
                                },
                                {
                                    "title": "THIN SAGEBRUSH",
                                    "length_movies": "Short movies"
                                },
                                {
                                    "title": "TIES HUNGER",
                                    "length_movies": "long movies"
                                },
                                {
                                    "title": "TIGHTS DAWN",
                                    "length_movies": "long movies"
                                },
                                {
                                    "title": "TIMBERLAND SKY",
                                    "length_movies": "Short movies"
                                },
                                {
                                    "title": "TITANIC BOONDOCK",
                                    "length_movies": "long movies"
                                },
                                {
                                    "title": "TITANS JERK",
                                    "length_movies": "long movies"
                                },
                                {
                                    "title": "TOMATOES HELLFIGHTERS",
                                    "length_movies": "Short movies"
                                },
                                {
                                    "title": "TOMORROW HUSTLER",
                                    "length_movies": "long movies"
                                },
                                {
                                    "title": "TOOTSIE PILOT",
                                    "length_movies": "long movies"
                                },
                                {
                                    "title": "TORQUE BOUND",
                                    "length_movies": "long movies"
                                },
                                {
                                    "title": "TOURIST PELICAN",
                                    "length_movies": "long movies"
                                },
                                {
                                    "title": "TOWERS HURRICANE",
                                    "length_movies": "long movies"
                                },
                                {
                                    "title": "TOWN ARK",
                                    "length_movies": "long movies"
                                },
                                {
                                    "title": "TRACY CIDER",
                                    "length_movies": "long movies"
                                },
                                {
                                    "title": "TRADING PINOCCHIO",
                                    "length_movies": "long movies"
                                },
                                {
                                    "title": "TRAFFIC HOBBIT",
                                    "length_movies": "long movies"
                                },
                                {
                                    "title": "TRAIN BUNCH",
                                    "length_movies": "Short movies"
                                },
                                {
                                    "title": "TRAINSPOTTING STRANGERS",
                                    "length_movies": "long movies"
                                },
                                {
                                    "title": "TRAMP OTHERS",
                                    "length_movies": "long movies"
                                },
                                {
                                    "title": "TRANSLATION SUMMER",
                                    "length_movies": "long movies"
                                },
                                {
                                    "title": "TRAP GUYS",
                                    "length_movies": "long movies"
                                },
                                {
                                    "title": "TREASURE COMMAND",
                                    "length_movies": "long movies"
                                },
                                {
                                    "title": "TREATMENT JEKYLL",
                                    "length_movies": "Short movies"
                                },
                                {
                                    "title": "TRIP NEWTON",
                                    "length_movies": "Short movies"
                                },
                                {
                                    "title": "TROJAN TOMORROW",
                                    "length_movies": "Short movies"
                                },
                                {
                                    "title": "TROOPERS METAL",
                                    "length_movies": "long movies"
                                },
                                {
                                    "title": "TROUBLE DATE",
                                    "length_movies": "Short movies"
                                },
                                {
                                    "title": "TRUMAN CRAZY",
                                    "length_movies": "long movies"
                                },
                                {
                                    "title": "TURN STAR",
                                    "length_movies": "Short movies"
                                },
                                {
                                    "title": "TUXEDO MILE",
                                    "length_movies": "long movies"
                                },
                                {
                                    "title": "TWISTED PIRATES",
                                    "length_movies": "long movies"
                                },
                                {
                                    "title": "TYCOON GATHERING",
                                    "length_movies": "Short movies"
                                },
                                {
                                    "title": "UNBREAKABLE KARATE",
                                    "length_movies": "Short movies"
                                },
                                {
                                    "title": "UNCUT SUICIDES",
                                    "length_movies": "long movies"
                                },
                                {
                                    "title": "UNDEFEATED DALMATIONS",
                                    "length_movies": "long movies"
                                },
                                {
                                    "title": "UNFAITHFUL KILL",
                                    "length_movies": "Short movies"
                                },
                                {
                                    "title": "UNFORGIVEN ZOOLANDER",
                                    "length_movies": "long movies"
                                },
                                {
                                    "title": "UNITED PILOT",
                                    "length_movies": "long movies"
                                },
                                {
                                    "title": "UNTOUCHABLES SUNRISE",
                                    "length_movies": "long movies"
                                },
                                {
                                    "title": "UPRISING UPTOWN",
                                    "length_movies": "long movies"
                                },
                                {
                                    "title": "UPTOWN YOUNG",
                                    "length_movies": "Short movies"
                                },
                                {
                                    "title": "USUAL UNTOUCHABLES",
                                    "length_movies": "long movies"
                                },
                                {
                                    "title": "VACATION BOONDOCK",
                                    "length_movies": "long movies"
                                },
                                {
                                    "title": "VALENTINE VANISHING",
                                    "length_movies": "Short movies"
                                },
                                {
                                    "title": "VALLEY PACKER",
                                    "length_movies": "Short movies"
                                },
                                {
                                    "title": "VAMPIRE WHALE",
                                    "length_movies": "long movies"
                                },
                                {
                                    "title": "VANILLA DAY",
                                    "length_movies": "long movies"
                                },
                                {
                                    "title": "VANISHED GARDEN",
                                    "length_movies": "long movies"
                                },
                                {
                                    "title": "VANISHING ROCKY",
                                    "length_movies": "long movies"
                                },
                                {
                                    "title": "VARSITY TRIP",
                                    "length_movies": "Short movies"
                                },
                                {
                                    "title": "VELVET TERMINATOR",
                                    "length_movies": "long movies"
                                },
                                {
                                    "title": "VERTIGO NORTHWEST",
                                    "length_movies": "long movies"
                                },
                                {
                                    "title": "VICTORY ACADEMY",
                                    "length_movies": "Short movies"
                                },
                                {
                                    "title": "VIDEOTAPE ARSENIC",
                                    "length_movies": "long movies"
                                },
                                {
                                    "title": "VIETNAM SMOOCHY",
                                    "length_movies": "long movies"
                                },
                                {
                                    "title": "VILLAIN DESPERATE",
                                    "length_movies": "Short movies"
                                },
                                {
                                    "title": "VIRGIN DAISY",
                                    "length_movies": "long movies"
                                },
                                {
                                    "title": "VIRGINIAN PLUTO",
                                    "length_movies": "long movies"
                                },
                                {
                                    "title": "VIRTUAL SPOILERS",
                                    "length_movies": "long movies"
                                },
                                {
                                    "title": "VISION TORQUE",
                                    "length_movies": "Short movies"
                                },
                                {
                                    "title": "VOICE PEACH",
                                    "length_movies": "long movies"
                                },
                                {
                                    "title": "VOLCANO TEXAS",
                                    "length_movies": "long movies"
                                },
                                {
                                    "title": "VOLUME HOUSE",
                                    "length_movies": "long movies"
                                },
                                {
                                    "title": "VOYAGE LEGALLY",
                                    "length_movies": "Short movies"
                                },
                                {
                                    "title": "WAGON JAWS",
                                    "length_movies": "long movies"
                                },
                                {
                                    "title": "WAIT CIDER",
                                    "length_movies": "long movies"
                                },
                                {
                                    "title": "WAKE JAWS",
                                    "length_movies": "Short movies"
                                },
                                {
                                    "title": "WALLS ARTIST",
                                    "length_movies": "long movies"
                                },
                                {
                                    "title": "WANDA CHAMBER",
                                    "length_movies": "long movies"
                                },
                                {
                                    "title": "WAR NOTTING",
                                    "length_movies": "Short movies"
                                },
                                {
                                    "title": "WARDROBE PHANTOM",
                                    "length_movies": "long movies"
                                },
                                {
                                    "title": "WARLOCK WEREWOLF",
                                    "length_movies": "Short movies"
                                },
                                {
                                    "title": "WARS PLUTO",
                                    "length_movies": "long movies"
                                },
                                {
                                    "title": "WASH HEAVENLY",
                                    "length_movies": "long movies"
                                },
                                {
                                    "title": "WASTELAND DIVINE",
                                    "length_movies": "Short movies"
                                },
                                {
                                    "title": "WATCH TRACY",
                                    "length_movies": "Short movies"
                                },
                                {
                                    "title": "WATERFRONT DELIVERANCE",
                                    "length_movies": "Short movies"
                                },
                                {
                                    "title": "WATERSHIP FRONTIER",
                                    "length_movies": "long movies"
                                },
                                {
                                    "title": "WEDDING APOLLO",
                                    "length_movies": "Short movies"
                                },
                                {
                                    "title": "WEEKEND PERSONAL",
                                    "length_movies": "long movies"
                                },
                                {
                                    "title": "WEREWOLF LOLA",
                                    "length_movies": "Short movies"
                                },
                                {
                                    "title": "WEST LION",
                                    "length_movies": "long movies"
                                },
                                {
                                    "title": "WESTWARD SEABISCUIT",
                                    "length_movies": "Short movies"
                                },
                                {
                                    "title": "WHALE BIKINI",
                                    "length_movies": "long movies"
                                },
                                {
                                    "title": "WHISPERER GIANT",
                                    "length_movies": "Short movies"
                                },
                                {
                                    "title": "WIFE TURN",
                                    "length_movies": "long movies"
                                },
                                {
                                    "title": "WILD APOLLO",
                                    "length_movies": "long movies"
                                },
                                {
                                    "title": "WILLOW TRACY",
                                    "length_movies": "long movies"
                                },
                                {
                                    "title": "WIND PHANTOM",
                                    "length_movies": "long movies"
                                },
                                {
                                    "title": "WINDOW SIDE",
                                    "length_movies": "Short movies"
                                },
                                {
                                    "title": "WISDOM WORKER",
                                    "length_movies": "long movies"
                                },
                                {
                                    "title": "WITCHES PANIC",
                                    "length_movies": "long movies"
                                },
                                {
                                    "title": "WIZARD COLDBLOODED",
                                    "length_movies": "Short movies"
                                },
                                {
                                    "title": "WOLVES DESIRE",
                                    "length_movies": "Short movies"
                                },
                                {
                                    "title": "WOMEN DORADO",
                                    "length_movies": "long movies"
                                },
                                {
                                    "title": "WON DARES",
                                    "length_movies": "long movies"
                                },
                                {
                                    "title": "WONDERFUL DROP",
                                    "length_movies": "long movies"
                                },
                                {
                                    "title": "WONDERLAND CHRISTMAS",
                                    "length_movies": "long movies"
                                },
                                {
                                    "title": "WONKA SEA",
                                    "length_movies": "Short movies"
                                },
                                {
                                    "title": "WORDS HUNTER",
                                    "length_movies": "long movies"
                                },
                                {
                                    "title": "WORKER TARZAN",
                                    "length_movies": "long movies"
                                },
                                {
                                    "title": "WORKING MICROCOSMOS",
                                    "length_movies": "Short movies"
                                },
                                {
                                    "title": "WORLD LEATHERNECKS",
                                    "length_movies": "long movies"
                                },
                                {
                                    "title": "WORST BANGER",
                                    "length_movies": "long movies"
                                },
                                {
                                    "title": "WRATH MILE",
                                    "length_movies": "long movies"
                                },
                                {
                                    "title": "WRONG BEHAVIOR",
                                    "length_movies": "long movies"
                                },
                                {
                                    "title": "WYOMING STORM",
                                    "length_movies": "long movies"
                                },
                                {
                                    "title": "YENTL IDAHO",
                                    "length_movies": "Short movies"
                                },
                                {
                                    "title": "YOUNG LANGUAGE",
                                    "length_movies": "long movies"
                                },
                                {
                                    "title": "YOUTH KICK",
                                    "length_movies": "long movies"
                                },
                                {
                                    "title": "ZHIVAGO CORE",
                                    "length_movies": "long movies"
                                },
                                {
                                    "title": "ZOOLANDER FICTION",
                                    "length_movies": "long movies"
                                },
                                {
                                    "title": "ZORRO ARK",
                                    "length_movies": "Short movies"
                                }
                            ]
                        },
                        "text/html": [
                            "<table>",
                            "<tr><th>title</th><th>length_movies</th></tr>",
                            "<tr><td>ACADEMY DINOSAUR</td><td>Short movies</td></tr>",
                            "<tr><td>ACE GOLDFINGER</td><td>Short movies</td></tr>",
                            "<tr><td>ADAPTATION HOLES</td><td>Short movies</td></tr>",
                            "<tr><td>AFFAIR PREJUDICE</td><td>long movies</td></tr>",
                            "<tr><td>AFRICAN EGG</td><td>long movies</td></tr>",
                            "<tr><td>AGENT TRUMAN</td><td>long movies</td></tr>",
                            "<tr><td>AIRPLANE SIERRA</td><td>Short movies</td></tr>",
                            "<tr><td>AIRPORT POLLOCK</td><td>Short movies</td></tr>",
                            "<tr><td>ALABAMA DEVIL</td><td>long movies</td></tr>",
                            "<tr><td>ALADDIN CALENDAR</td><td>Short movies</td></tr>",
                            "<tr><td>ALAMO VIDEOTAPE</td><td>long movies</td></tr>",
                            "<tr><td>ALASKA PHANTOM</td><td>long movies</td></tr>",
                            "<tr><td>ALI FOREVER</td><td>long movies</td></tr>",
                            "<tr><td>ALICE FANTASIA</td><td>long movies</td></tr>",
                            "<tr><td>ALIEN CENTER</td><td>Short movies</td></tr>",
                            "<tr><td>ALLEY EVOLUTION</td><td>long movies</td></tr>",
                            "<tr><td>ALONE TRIP</td><td>Short movies</td></tr>",
                            "<tr><td>ALTER VICTORY</td><td>Short movies</td></tr>",
                            "<tr><td>AMADEUS HOLY</td><td>long movies</td></tr>",
                            "<tr><td>AMELIE HELLFIGHTERS</td><td>Short movies</td></tr>",
                            "<tr><td>AMERICAN CIRCUS</td><td>long movies</td></tr>",
                            "<tr><td>AMISTAD MIDSUMMER</td><td>Short movies</td></tr>",
                            "<tr><td>ANACONDA CONFESSIONS</td><td>long movies</td></tr>",
                            "<tr><td>ANALYZE HOOSIERS</td><td>long movies</td></tr>",
                            "<tr><td>ANGELS LIFE</td><td>Short movies</td></tr>",
                            "<tr><td>ANNIE IDENTITY</td><td>Short movies</td></tr>",
                            "<tr><td>ANONYMOUS HUMAN</td><td>long movies</td></tr>",
                            "<tr><td>ANTHEM LUKE</td><td>long movies</td></tr>",
                            "<tr><td>ANTITRUST TOMATOES</td><td>long movies</td></tr>",
                            "<tr><td>ANYTHING SAVANNAH</td><td>Short movies</td></tr>",
                            "<tr><td>APACHE DIVINE</td><td>long movies</td></tr>",
                            "<tr><td>APOCALYPSE FLAMINGOS</td><td>long movies</td></tr>",
                            "<tr><td>APOLLO TEEN</td><td>long movies</td></tr>",
                            "<tr><td>ARABIA DOGMA</td><td>Short movies</td></tr>",
                            "<tr><td>ARACHNOPHOBIA ROLLERCOASTER</td><td>long movies</td></tr>",
                            "<tr><td>ARGONAUTS TOWN</td><td>long movies</td></tr>",
                            "<tr><td>ARIZONA BANG</td><td>long movies</td></tr>",
                            "<tr><td>ARK RIDGEMONT</td><td>Short movies</td></tr>",
                            "<tr><td>ARMAGEDDON LOST</td><td>long movies</td></tr>",
                            "<tr><td>ARMY FLINTSTONES</td><td>long movies</td></tr>",
                            "<tr><td>ARSENIC INDEPENDENCE</td><td>long movies</td></tr>",
                            "<tr><td>ARTIST COLDBLOODED</td><td>long movies</td></tr>",
                            "<tr><td>ATLANTIS CAUSE</td><td>long movies</td></tr>",
                            "<tr><td>ATTACKS HATE</td><td>long movies</td></tr>",
                            "<tr><td>ATTRACTION NEWTON</td><td>Short movies</td></tr>",
                            "<tr><td>AUTUMN CROW</td><td>long movies</td></tr>",
                            "<tr><td>BABY HALL</td><td>long movies</td></tr>",
                            "<tr><td>BACKLASH UNDEFEATED</td><td>long movies</td></tr>",
                            "<tr><td>BADMAN DAWN</td><td>long movies</td></tr>",
                            "<tr><td>BAKED CLEOPATRA</td><td>long movies</td></tr>",
                            "<tr><td>BALLOON HOMEWARD</td><td>Short movies</td></tr>",
                            "<tr><td>BALLROOM MOCKINGBIRD</td><td>long movies</td></tr>",
                            "<tr><td>BANG KWAI</td><td>Short movies</td></tr>",
                            "<tr><td>BANGER PINOCCHIO</td><td>long movies</td></tr>",
                            "<tr><td>BARBARELLA STREETCAR</td><td>Short movies</td></tr>",
                            "<tr><td>BAREFOOT MANCHURIAN</td><td>long movies</td></tr>",
                            "<tr><td>BASIC EASY</td><td>long movies</td></tr>",
                            "<tr><td>BEACH HEARTBREAKERS</td><td>long movies</td></tr>",
                            "<tr><td>BEAR GRACELAND</td><td>long movies</td></tr>",
                            "<tr><td>BEAST HUNCHBACK</td><td>Short movies</td></tr>",
                            "<tr><td>BEAUTY GREASE</td><td>long movies</td></tr>",
                            "<tr><td>BED HIGHBALL</td><td>long movies</td></tr>",
                            "<tr><td>BEDAZZLED MARRIED</td><td>Short movies</td></tr>",
                            "<tr><td>BEETHOVEN EXORCIST</td><td>long movies</td></tr>",
                            "<tr><td>BEHAVIOR RUNAWAY</td><td>long movies</td></tr>",
                            "<tr><td>BENEATH RUSH</td><td>Short movies</td></tr>",
                            "<tr><td>BERETS AGENT</td><td>Short movies</td></tr>",
                            "<tr><td>BETRAYED REAR</td><td>long movies</td></tr>",
                            "<tr><td>BEVERLY OUTLAW</td><td>Short movies</td></tr>",
                            "<tr><td>BIKINI BORROWERS</td><td>long movies</td></tr>",
                            "<tr><td>BILKO ANONYMOUS</td><td>long movies</td></tr>",
                            "<tr><td>BILL OTHERS</td><td>long movies</td></tr>",
                            "<tr><td>BINGO TALENTED</td><td>long movies</td></tr>",
                            "<tr><td>BIRCH ANTITRUST</td><td>long movies</td></tr>",
                            "<tr><td>BIRD INDEPENDENCE</td><td>long movies</td></tr>",
                            "<tr><td>BIRDCAGE CASPER</td><td>long movies</td></tr>",
                            "<tr><td>BIRDS PERDITION</td><td>Short movies</td></tr>",
                            "<tr><td>BLACKOUT PRIVATE</td><td>Short movies</td></tr>",
                            "<tr><td>BLADE POLISH</td><td>long movies</td></tr>",
                            "<tr><td>BLANKET BEVERLY</td><td>long movies</td></tr>",
                            "<tr><td>BLINDNESS GUN</td><td>long movies</td></tr>",
                            "<tr><td>BLOOD ARGONAUTS</td><td>Short movies</td></tr>",
                            "<tr><td>BLUES INSTINCT</td><td>Short movies</td></tr>",
                            "<tr><td>BOILED DARES</td><td>long movies</td></tr>",
                            "<tr><td>BONNIE HOLOCAUST</td><td>Short movies</td></tr>",
                            "<tr><td>BOOGIE AMELIE</td><td>long movies</td></tr>",
                            "<tr><td>BOONDOCK BALLROOM</td><td>Short movies</td></tr>",
                            "<tr><td>BORN SPINAL</td><td>long movies</td></tr>",
                            "<tr><td>BORROWERS BEDAZZLED</td><td>Short movies</td></tr>",
                            "<tr><td>BOULEVARD MOB</td><td>Short movies</td></tr>",
                            "<tr><td>BOUND CHEAPER</td><td>long movies</td></tr>",
                            "<tr><td>BOWFINGER GABLES</td><td>Short movies</td></tr>",
                            "<tr><td>BRANNIGAN SUNRISE</td><td>long movies</td></tr>",
                            "<tr><td>BRAVEHEART HUMAN</td><td>long movies</td></tr>",
                            "<tr><td>BREAKFAST GOLDFINGER</td><td>long movies</td></tr>",
                            "<tr><td>BREAKING HOME</td><td>long movies</td></tr>",
                            "<tr><td>BRIDE INTRIGUE</td><td>Short movies</td></tr>",
                            "<tr><td>BRIGHT ENCOUNTERS</td><td>Short movies</td></tr>",
                            "<tr><td>BRINGING HYSTERICAL</td><td>long movies</td></tr>",
                            "<tr><td>BROOKLYN DESERT</td><td>long movies</td></tr>",
                            "<tr><td>BROTHERHOOD BLANKET</td><td>Short movies</td></tr>",
                            "<tr><td>BUBBLE GROSSE</td><td>Short movies</td></tr>",
                            "<tr><td>BUCKET BROTHERHOOD</td><td>long movies</td></tr>",
                            "<tr><td>BUGSY SONG</td><td>long movies</td></tr>",
                            "<tr><td>BULL SHAWSHANK</td><td>long movies</td></tr>",
                            "<tr><td>BULWORTH COMMANDMENTS</td><td>Short movies</td></tr>",
                            "<tr><td>BUNCH MINDS</td><td>Short movies</td></tr>",
                            "<tr><td>BUTCH PANTHER</td><td>Short movies</td></tr>",
                            "<tr><td>BUTTERFLY CHOCOLAT</td><td>Short movies</td></tr>",
                            "<tr><td>CABIN FLASH</td><td>Short movies</td></tr>",
                            "<tr><td>CADDYSHACK JEDI</td><td>Short movies</td></tr>",
                            "<tr><td>CALENDAR GUNFIGHT</td><td>long movies</td></tr>",
                            "<tr><td>CALIFORNIA BIRDS</td><td>Short movies</td></tr>",
                            "<tr><td>CAMELOT VACATION</td><td>Short movies</td></tr>",
                            "<tr><td>CAMPUS REMEMBER</td><td>long movies</td></tr>",
                            "<tr><td>CANDIDATE PERDITION</td><td>Short movies</td></tr>",
                            "<tr><td>CANDLES GRAPES</td><td>long movies</td></tr>",
                            "<tr><td>CANYON STOCK</td><td>Short movies</td></tr>",
                            "<tr><td>CAPER MOTIONS</td><td>long movies</td></tr>",
                            "<tr><td>CARIBBEAN LIBERTY</td><td>long movies</td></tr>",
                            "<tr><td>CAROL TEXAS</td><td>long movies</td></tr>",
                            "<tr><td>CARRIE BUNCH</td><td>long movies</td></tr>",
                            "<tr><td>CASABLANCA SUPER</td><td>Short movies</td></tr>",
                            "<tr><td>CASPER DRAGONFLY</td><td>long movies</td></tr>",
                            "<tr><td>CASSIDY WYOMING</td><td>Short movies</td></tr>",
                            "<tr><td>CASUALTIES ENCINO</td><td>long movies</td></tr>",
                            "<tr><td>CAT CONEHEADS</td><td>long movies</td></tr>",
                            "<tr><td>CATCH AMISTAD</td><td>long movies</td></tr>",
                            "<tr><td>CAUSE DATE</td><td>long movies</td></tr>",
                            "<tr><td>CELEBRITY HORN</td><td>long movies</td></tr>",
                            "<tr><td>CENTER DINOSAUR</td><td>long movies</td></tr>",
                            "<tr><td>CHAINSAW UPTOWN</td><td>long movies</td></tr>",
                            "<tr><td>CHAMBER ITALIAN</td><td>long movies</td></tr>",
                            "<tr><td>CHAMPION FLATLINERS</td><td>Short movies</td></tr>",
                            "<tr><td>CHANCE RESURRECTION</td><td>Short movies</td></tr>",
                            "<tr><td>CHAPLIN LICENSE</td><td>long movies</td></tr>",
                            "<tr><td>CHARADE DUFFEL</td><td>Short movies</td></tr>",
                            "<tr><td>CHARIOTS CONSPIRACY</td><td>Short movies</td></tr>",
                            "<tr><td>CHASING FIGHT</td><td>long movies</td></tr>",
                            "<tr><td>CHEAPER CLYDE</td><td>Short movies</td></tr>",
                            "<tr><td>CHICAGO NORTH</td><td>long movies</td></tr>",
                            "<tr><td>CHICKEN HELLFIGHTERS</td><td>long movies</td></tr>",
                            "<tr><td>CHILL LUCK</td><td>long movies</td></tr>",
                            "<tr><td>CHINATOWN GLADIATOR</td><td>Short movies</td></tr>",
                            "<tr><td>CHISUM BEHAVIOR</td><td>long movies</td></tr>",
                            "<tr><td>CHITTY LOCK</td><td>long movies</td></tr>",
                            "<tr><td>CHOCOLAT HARRY</td><td>long movies</td></tr>",
                            "<tr><td>CHOCOLATE DUCK</td><td>long movies</td></tr>",
                            "<tr><td>CHRISTMAS MOONSHINE</td><td>long movies</td></tr>",
                            "<tr><td>CIDER DESIRE</td><td>long movies</td></tr>",
                            "<tr><td>CINCINATTI WHISPERER</td><td>long movies</td></tr>",
                            "<tr><td>CIRCUS YOUTH</td><td>long movies</td></tr>",
                            "<tr><td>CITIZEN SHREK</td><td>long movies</td></tr>",
                            "<tr><td>CLASH FREDDY</td><td>Short movies</td></tr>",
                            "<tr><td>CLEOPATRA DEVIL</td><td>long movies</td></tr>",
                            "<tr><td>CLERKS ANGELS</td><td>long movies</td></tr>",
                            "<tr><td>CLOCKWORK PARADISE</td><td>long movies</td></tr>",
                            "<tr><td>CLONES PINOCCHIO</td><td>long movies</td></tr>",
                            "<tr><td>CLOSER BANG</td><td>Short movies</td></tr>",
                            "<tr><td>CLUB GRAFFITI</td><td>Short movies</td></tr>",
                            "<tr><td>CLUE GRAIL</td><td>Short movies</td></tr>",
                            "<tr><td>CLUELESS BUCKET</td><td>long movies</td></tr>",
                            "<tr><td>CLYDE THEORY</td><td>long movies</td></tr>",
                            "<tr><td>COAST RAINBOW</td><td>Short movies</td></tr>",
                            "<tr><td>COLDBLOODED DARLING</td><td>Short movies</td></tr>",
                            "<tr><td>COLOR PHILADELPHIA</td><td>long movies</td></tr>",
                            "<tr><td>COMA HEAD</td><td>long movies</td></tr>",
                            "<tr><td>COMANCHEROS ENEMY</td><td>Short movies</td></tr>",
                            "<tr><td>COMFORTS RUSH</td><td>Short movies</td></tr>",
                            "<tr><td>COMMAND DARLING</td><td>long movies</td></tr>",
                            "<tr><td>COMMANDMENTS EXPRESS</td><td>Short movies</td></tr>",
                            "<tr><td>CONEHEADS SMOOCHY</td><td>long movies</td></tr>",
                            "<tr><td>CONFESSIONS MAGUIRE</td><td>Short movies</td></tr>",
                            "<tr><td>CONFIDENTIAL INTERVIEW</td><td>long movies</td></tr>",
                            "<tr><td>CONFUSED CANDLES</td><td>long movies</td></tr>",
                            "<tr><td>CONGENIALITY QUEST</td><td>Short movies</td></tr>",
                            "<tr><td>CONNECTICUT TRAMP</td><td>long movies</td></tr>",
                            "<tr><td>CONNECTION MICROCOSMOS</td><td>long movies</td></tr>",
                            "<tr><td>CONQUERER NUTS</td><td>long movies</td></tr>",
                            "<tr><td>CONSPIRACY SPIRIT</td><td>long movies</td></tr>",
                            "<tr><td>CONTACT ANONYMOUS</td><td>long movies</td></tr>",
                            "<tr><td>CONTROL ANTHEM</td><td>long movies</td></tr>",
                            "<tr><td>CONVERSATION DOWNHILL</td><td>long movies</td></tr>",
                            "<tr><td>CORE SUIT</td><td>long movies</td></tr>",
                            "<tr><td>COWBOY DOOM</td><td>long movies</td></tr>",
                            "<tr><td>CRAFT OUTFIELD</td><td>Short movies</td></tr>",
                            "<tr><td>CRANES RESERVOIR</td><td>Short movies</td></tr>",
                            "<tr><td>CRAZY HOME</td><td>long movies</td></tr>",
                            "<tr><td>CREATURES SHAKESPEARE</td><td>long movies</td></tr>",
                            "<tr><td>CREEPERS KANE</td><td>long movies</td></tr>",
                            "<tr><td>CROOKED FROGMEN</td><td>long movies</td></tr>",
                            "<tr><td>CROSSING DIVORCE</td><td>Short movies</td></tr>",
                            "<tr><td>CROSSROADS CASUALTIES</td><td>long movies</td></tr>",
                            "<tr><td>CROW GREASE</td><td>long movies</td></tr>",
                            "<tr><td>CROWDS TELEMARK</td><td>long movies</td></tr>",
                            "<tr><td>CRUELTY UNFORGIVEN</td><td>Short movies</td></tr>",
                            "<tr><td>CRUSADE HONEY</td><td>long movies</td></tr>",
                            "<tr><td>CRYSTAL BREAKING</td><td>long movies</td></tr>",
                            "<tr><td>CUPBOARD SINNERS</td><td>Short movies</td></tr>",
                            "<tr><td>CURTAIN VIDEOTAPE</td><td>long movies</td></tr>",
                            "<tr><td>CYCLONE FAMILY</td><td>long movies</td></tr>",
                            "<tr><td>DADDY PITTSBURGH</td><td>long movies</td></tr>",
                            "<tr><td>DAISY MENAGERIE</td><td>Short movies</td></tr>",
                            "<tr><td>DALMATIONS SWEDEN</td><td>long movies</td></tr>",
                            "<tr><td>DANCES NONE</td><td>Short movies</td></tr>",
                            "<tr><td>DANCING FEVER</td><td>long movies</td></tr>",
                            "<tr><td>DANGEROUS UPTOWN</td><td>long movies</td></tr>",
                            "<tr><td>DARES PLUTO</td><td>Short movies</td></tr>",
                            "<tr><td>DARKNESS WAR</td><td>long movies</td></tr>",
                            "<tr><td>DARKO DORADO</td><td>long movies</td></tr>",
                            "<tr><td>DARLING BREAKING</td><td>long movies</td></tr>",
                            "<tr><td>DARN FORRESTER</td><td>long movies</td></tr>",
                            "<tr><td>DATE SPEED</td><td>long movies</td></tr>",
                            "<tr><td>DAUGHTER MADIGAN</td><td>Short movies</td></tr>",
                            "<tr><td>DAWN POND</td><td>Short movies</td></tr>",
                            "<tr><td>DAY UNFAITHFUL</td><td>long movies</td></tr>",
                            "<tr><td>DAZED PUNK</td><td>long movies</td></tr>",
                            "<tr><td>DECEIVER BETRAYED</td><td>long movies</td></tr>",
                            "<tr><td>DEEP CRUSADE</td><td>Short movies</td></tr>",
                            "<tr><td>DEER VIRGINIAN</td><td>long movies</td></tr>",
                            "<tr><td>DELIVERANCE MULHOLLAND</td><td>long movies</td></tr>",
                            "<tr><td>DESERT POSEIDON</td><td>Short movies</td></tr>",
                            "<tr><td>DESIRE ALIEN</td><td>Short movies</td></tr>",
                            "<tr><td>DESPERATE TRAINSPOTTING</td><td>Short movies</td></tr>",
                            "<tr><td>DESTINATION JERK</td><td>Short movies</td></tr>",
                            "<tr><td>DESTINY SATURDAY</td><td>Short movies</td></tr>",
                            "<tr><td>DETAILS PACKER</td><td>Short movies</td></tr>",
                            "<tr><td>DETECTIVE VISION</td><td>long movies</td></tr>",
                            "<tr><td>DEVIL DESIRE</td><td>Short movies</td></tr>",
                            "<tr><td>DIARY PANIC</td><td>long movies</td></tr>",
                            "<tr><td>DINOSAUR SECRETARY</td><td>Short movies</td></tr>",
                            "<tr><td>DIRTY ACE</td><td>long movies</td></tr>",
                            "<tr><td>DISCIPLE MOTHER</td><td>long movies</td></tr>",
                            "<tr><td>DISTURBING SCARFACE</td><td>long movies</td></tr>",
                            "<tr><td>DIVIDE MONSTER</td><td>Short movies</td></tr>",
                            "<tr><td>DIVINE RESURRECTION</td><td>long movies</td></tr>",
                            "<tr><td>DIVORCE SHINING</td><td>Short movies</td></tr>",
                            "<tr><td>DOCTOR GRAIL</td><td>Short movies</td></tr>",
                            "<tr><td>DOGMA FAMILY</td><td>long movies</td></tr>",
                            "<tr><td>DOLLS RAGE</td><td>long movies</td></tr>",
                            "<tr><td>DONNIE ALLEY</td><td>long movies</td></tr>",
                            "<tr><td>DOOM DANCING</td><td>Short movies</td></tr>",
                            "<tr><td>DOORS PRESIDENT</td><td>Short movies</td></tr>",
                            "<tr><td>DORADO NOTTING</td><td>long movies</td></tr>",
                            "<tr><td>DOUBLE WRATH</td><td>long movies</td></tr>",
                            "<tr><td>DOUBTFIRE LABYRINTH</td><td>long movies</td></tr>",
                            "<tr><td>DOWNHILL ENOUGH</td><td>Short movies</td></tr>",
                            "<tr><td>DOZEN LION</td><td>long movies</td></tr>",
                            "<tr><td>DRACULA CRYSTAL</td><td>long movies</td></tr>",
                            "<tr><td>DRAGON SQUAD</td><td>long movies</td></tr>",
                            "<tr><td>DRAGONFLY STRANGERS</td><td>long movies</td></tr>",
                            "<tr><td>DREAM PICKUP</td><td>long movies</td></tr>",
                            "<tr><td>DRIFTER COMMANDMENTS</td><td>Short movies</td></tr>",
                            "<tr><td>DRIVER ANNIE</td><td>long movies</td></tr>",
                            "<tr><td>DRIVING POLISH</td><td>long movies</td></tr>",
                            "<tr><td>DROP WATERFRONT</td><td>long movies</td></tr>",
                            "<tr><td>DRUMLINE CYCLONE</td><td>long movies</td></tr>",
                            "<tr><td>DRUMS DYNAMITE</td><td>long movies</td></tr>",
                            "<tr><td>DUCK RACER</td><td>long movies</td></tr>",
                            "<tr><td>DUDE BLINDNESS</td><td>long movies</td></tr>",
                            "<tr><td>DUFFEL APOCALYPSE</td><td>long movies</td></tr>",
                            "<tr><td>DUMBO LUST</td><td>long movies</td></tr>",
                            "<tr><td>DURHAM PANKY</td><td>long movies</td></tr>",
                            "<tr><td>DWARFS ALTER</td><td>long movies</td></tr>",
                            "<tr><td>DYING MAKER</td><td>long movies</td></tr>",
                            "<tr><td>DYNAMITE TARZAN</td><td>long movies</td></tr>",
                            "<tr><td>EAGLES PANKY</td><td>long movies</td></tr>",
                            "<tr><td>EARLY HOME</td><td>long movies</td></tr>",
                            "<tr><td>EARRING INSTINCT</td><td>long movies</td></tr>",
                            "<tr><td>EARTH VISION</td><td>Short movies</td></tr>",
                            "<tr><td>EASY GLADIATOR</td><td>long movies</td></tr>",
                            "<tr><td>EDGE KISSING</td><td>long movies</td></tr>",
                            "<tr><td>EFFECT GLADIATOR</td><td>long movies</td></tr>",
                            "<tr><td>EGG IGBY</td><td>Short movies</td></tr>",
                            "<tr><td>EGYPT TENENBAUMS</td><td>Short movies</td></tr>",
                            "<tr><td>ELEMENT FREDDY</td><td>long movies</td></tr>",
                            "<tr><td>ELEPHANT TROJAN</td><td>long movies</td></tr>",
                            "<tr><td>ELF MURDER</td><td>long movies</td></tr>",
                            "<tr><td>ELIZABETH SHANE</td><td>long movies</td></tr>",
                            "<tr><td>EMPIRE MALKOVICH</td><td>long movies</td></tr>",
                            "<tr><td>ENCINO ELF</td><td>long movies</td></tr>",
                            "<tr><td>ENCOUNTERS CURTAIN</td><td>long movies</td></tr>",
                            "<tr><td>ENDING CROWDS</td><td>Short movies</td></tr>",
                            "<tr><td>ENEMY ODDS</td><td>Short movies</td></tr>",
                            "<tr><td>ENGLISH BULWORTH</td><td>Short movies</td></tr>",
                            "<tr><td>ENOUGH RAGING</td><td>long movies</td></tr>",
                            "<tr><td>ENTRAPMENT SATISFACTION</td><td>long movies</td></tr>",
                            "<tr><td>ESCAPE METROPOLIS</td><td>long movies</td></tr>",
                            "<tr><td>EVE RESURRECTION</td><td>Short movies</td></tr>",
                            "<tr><td>EVERYONE CRAFT</td><td>long movies</td></tr>",
                            "<tr><td>EVOLUTION ALTER</td><td>long movies</td></tr>",
                            "<tr><td>EXCITEMENT EVE</td><td>Short movies</td></tr>",
                            "<tr><td>EXORCIST STING</td><td>long movies</td></tr>",
                            "<tr><td>EXPECATIONS NATURAL</td><td>long movies</td></tr>",
                            "<tr><td>EXPENDABLE STALLION</td><td>long movies</td></tr>",
                            "<tr><td>EXPRESS LONELY</td><td>long movies</td></tr>",
                            "<tr><td>EXTRAORDINARY CONQUERER</td><td>long movies</td></tr>",
                            "<tr><td>EYES DRIVING</td><td>long movies</td></tr>",
                            "<tr><td>FACTORY DRAGON</td><td>long movies</td></tr>",
                            "<tr><td>FALCON VOLUME</td><td>long movies</td></tr>",
                            "<tr><td>FAMILY SWEET</td><td>long movies</td></tr>",
                            "<tr><td>FANTASIA PARK</td><td>long movies</td></tr>",
                            "<tr><td>FANTASY TROOPERS</td><td>Short movies</td></tr>",
                            "<tr><td>FARGO GANDHI</td><td>long movies</td></tr>",
                            "<tr><td>FATAL HAUNTED</td><td>long movies</td></tr>",
                            "<tr><td>FEATHERS METAL</td><td>long movies</td></tr>",
                            "<tr><td>FELLOWSHIP AUTUMN</td><td>Short movies</td></tr>",
                            "<tr><td>FERRIS MOTHER</td><td>long movies</td></tr>",
                            "<tr><td>FEUD FROGMEN</td><td>long movies</td></tr>",
                            "<tr><td>FEVER EMPIRE</td><td>long movies</td></tr>",
                            "<tr><td>FICTION CHRISTMAS</td><td>Short movies</td></tr>",
                            "<tr><td>FIDDLER LOST</td><td>Short movies</td></tr>",
                            "<tr><td>FIDELITY DEVIL</td><td>long movies</td></tr>",
                            "<tr><td>FIGHT JAWBREAKER</td><td>long movies</td></tr>",
                            "<tr><td>FINDING ANACONDA</td><td>long movies</td></tr>",
                            "<tr><td>FIRE WOLVES</td><td>long movies</td></tr>",
                            "<tr><td>FIREBALL PHILADELPHIA</td><td>long movies</td></tr>",
                            "<tr><td>FIREHOUSE VIETNAM</td><td>long movies</td></tr>",
                            "<tr><td>FISH OPUS</td><td>long movies</td></tr>",
                            "<tr><td>FLAMINGOS CONNECTICUT</td><td>Short movies</td></tr>",
                            "<tr><td>FLASH WARS</td><td>long movies</td></tr>",
                            "<tr><td>FLATLINERS KILLER</td><td>long movies</td></tr>",
                            "<tr><td>FLIGHT LIES</td><td>long movies</td></tr>",
                            "<tr><td>FLINTSTONES HAPPINESS</td><td>long movies</td></tr>",
                            "<tr><td>FLOATS GARDEN</td><td>long movies</td></tr>",
                            "<tr><td>FLYING HOOK</td><td>Short movies</td></tr>",
                            "<tr><td>FOOL MOCKINGBIRD</td><td>long movies</td></tr>",
                            "<tr><td>FOREVER CANDIDATE</td><td>long movies</td></tr>",
                            "<tr><td>FORREST SONS</td><td>Short movies</td></tr>",
                            "<tr><td>FORRESTER COMANCHEROS</td><td>long movies</td></tr>",
                            "<tr><td>FORWARD TEMPLE</td><td>long movies</td></tr>",
                            "<tr><td>FRANKENSTEIN STRANGER</td><td>long movies</td></tr>",
                            "<tr><td>FREAKY POCUS</td><td>long movies</td></tr>",
                            "<tr><td>FREDDY STORM</td><td>Short movies</td></tr>",
                            "<tr><td>FREEDOM CLEOPATRA</td><td>long movies</td></tr>",
                            "<tr><td>FRENCH HOLIDAY</td><td>long movies</td></tr>",
                            "<tr><td>FRIDA SLIPPER</td><td>Short movies</td></tr>",
                            "<tr><td>FRISCO FORREST</td><td>Short movies</td></tr>",
                            "<tr><td>FROGMEN BREAKING</td><td>long movies</td></tr>",
                            "<tr><td>FRONTIER CABIN</td><td>long movies</td></tr>",
                            "<tr><td>FROST HEAD</td><td>Short movies</td></tr>",
                            "<tr><td>FUGITIVE MAGUIRE</td><td>Short movies</td></tr>",
                            "<tr><td>FULL FLATLINERS</td><td>long movies</td></tr>",
                            "<tr><td>FURY MURDER</td><td>long movies</td></tr>",
                            "<tr><td>GABLES METROPOLIS</td><td>long movies</td></tr>",
                            "<tr><td>GALAXY SWEETHEARTS</td><td>long movies</td></tr>",
                            "<tr><td>GAMES BOWFINGER</td><td>long movies</td></tr>",
                            "<tr><td>GANDHI KWAI</td><td>Short movies</td></tr>",
                            "<tr><td>GANGS PRIDE</td><td>long movies</td></tr>",
                            "<tr><td>GARDEN ISLAND</td><td>Short movies</td></tr>",
                            "<tr><td>GASLIGHT CRUSADE</td><td>long movies</td></tr>",
                            "<tr><td>GATHERING CALENDAR</td><td>long movies</td></tr>",
                            "<tr><td>GENTLEMEN STAGE</td><td>long movies</td></tr>",
                            "<tr><td>GHOST GROUNDHOG</td><td>Short movies</td></tr>",
                            "<tr><td>GHOSTBUSTERS ELF</td><td>long movies</td></tr>",
                            "<tr><td>GIANT TROOPERS</td><td>long movies</td></tr>",
                            "<tr><td>GILBERT PELICAN</td><td>long movies</td></tr>",
                            "<tr><td>GILMORE BOILED</td><td>long movies</td></tr>",
                            "<tr><td>GLADIATOR WESTWARD</td><td>long movies</td></tr>",
                            "<tr><td>GLASS DYING</td><td>long movies</td></tr>",
                            "<tr><td>GLEAMING JAWBREAKER</td><td>Short movies</td></tr>",
                            "<tr><td>GLORY TRACY</td><td>long movies</td></tr>",
                            "<tr><td>GO PURPLE</td><td>Short movies</td></tr>",
                            "<tr><td>GODFATHER DIARY</td><td>Short movies</td></tr>",
                            "<tr><td>GOLD RIVER</td><td>long movies</td></tr>",
                            "<tr><td>GOLDFINGER SENSIBILITY</td><td>long movies</td></tr>",
                            "<tr><td>GOLDMINE TYCOON</td><td>long movies</td></tr>",
                            "<tr><td>GONE TROUBLE</td><td>Short movies</td></tr>",
                            "<tr><td>GOODFELLAS SALUTE</td><td>Short movies</td></tr>",
                            "<tr><td>GORGEOUS BINGO</td><td>long movies</td></tr>",
                            "<tr><td>GOSFORD DONNIE</td><td>long movies</td></tr>",
                            "<tr><td>GRACELAND DYNAMITE</td><td>long movies</td></tr>",
                            "<tr><td>GRADUATE LORD</td><td>long movies</td></tr>",
                            "<tr><td>GRAFFITI LOVE</td><td>long movies</td></tr>",
                            "<tr><td>GRAIL FRANKENSTEIN</td><td>Short movies</td></tr>",
                            "<tr><td>GRAPES FURY</td><td>long movies</td></tr>",
                            "<tr><td>GREASE YOUTH</td><td>long movies</td></tr>",
                            "<tr><td>GREATEST NORTH</td><td>long movies</td></tr>",
                            "<tr><td>GREEDY ROOTS</td><td>long movies</td></tr>",
                            "<tr><td>GREEK EVERYONE</td><td>long movies</td></tr>",
                            "<tr><td>GRINCH MASSAGE</td><td>long movies</td></tr>",
                            "<tr><td>GRIT CLOCKWORK</td><td>long movies</td></tr>",
                            "<tr><td>GROOVE FICTION</td><td>long movies</td></tr>",
                            "<tr><td>GROSSE WONDERFUL</td><td>Short movies</td></tr>",
                            "<tr><td>GROUNDHOG UNCUT</td><td>long movies</td></tr>",
                            "<tr><td>GUMP DATE</td><td>Short movies</td></tr>",
                            "<tr><td>GUN BONNIE</td><td>long movies</td></tr>",
                            "<tr><td>GUNFIGHT MOON</td><td>Short movies</td></tr>",
                            "<tr><td>GUNFIGHTER MUSSOLINI</td><td>long movies</td></tr>",
                            "<tr><td>GUYS FALCON</td><td>Short movies</td></tr>",
                            "<tr><td>HALF OUTFIELD</td><td>long movies</td></tr>",
                            "<tr><td>HALL CASSIDY</td><td>Short movies</td></tr>",
                            "<tr><td>HALLOWEEN NUTS</td><td>Short movies</td></tr>",
                            "<tr><td>HAMLET WISDOM</td><td>long movies</td></tr>",
                            "<tr><td>HANDICAP BOONDOCK</td><td>long movies</td></tr>",
                            "<tr><td>HANGING DEEP</td><td>Short movies</td></tr>",
                            "<tr><td>HANKY OCTOBER</td><td>long movies</td></tr>",
                            "<tr><td>HANOVER GALAXY</td><td>Short movies</td></tr>",
                            "<tr><td>HAPPINESS UNITED</td><td>long movies</td></tr>",
                            "<tr><td>HARDLY ROBBERS</td><td>Short movies</td></tr>",
                            "<tr><td>HAROLD FRENCH</td><td>long movies</td></tr>",
                            "<tr><td>HARPER DYING</td><td>Short movies</td></tr>",
                            "<tr><td>HARRY IDAHO</td><td>long movies</td></tr>",
                            "<tr><td>HATE HANDICAP</td><td>long movies</td></tr>",
                            "<tr><td>HAUNTED ANTITRUST</td><td>Short movies</td></tr>",
                            "<tr><td>HAUNTING PIANIST</td><td>long movies</td></tr>",
                            "<tr><td>HAWK CHILL</td><td>Short movies</td></tr>",
                            "<tr><td>HEAD STRANGER</td><td>Short movies</td></tr>",
                            "<tr><td>HEARTBREAKERS BRIGHT</td><td>Short movies</td></tr>",
                            "<tr><td>HEAVEN FREEDOM</td><td>Short movies</td></tr>",
                            "<tr><td>HEAVENLY GUN</td><td>Short movies</td></tr>",
                            "<tr><td>HEAVYWEIGHTS BEAST</td><td>long movies</td></tr>",
                            "<tr><td>HEDWIG ALTER</td><td>long movies</td></tr>",
                            "<tr><td>HELLFIGHTERS SIERRA</td><td>Short movies</td></tr>",
                            "<tr><td>HIGH ENCINO</td><td>Short movies</td></tr>",
                            "<tr><td>HIGHBALL POTTER</td><td>long movies</td></tr>",
                            "<tr><td>HILLS NEIGHBORS</td><td>long movies</td></tr>",
                            "<tr><td>HOBBIT ALIEN</td><td>long movies</td></tr>",
                            "<tr><td>HOCUS FRIDA</td><td>long movies</td></tr>",
                            "<tr><td>HOLES BRANNIGAN</td><td>long movies</td></tr>",
                            "<tr><td>HOLIDAY GAMES</td><td>Short movies</td></tr>",
                            "<tr><td>HOLLOW JEOPARDY</td><td>long movies</td></tr>",
                            "<tr><td>HOLLYWOOD ANONYMOUS</td><td>Short movies</td></tr>",
                            "<tr><td>HOLOCAUST HIGHBALL</td><td>long movies</td></tr>",
                            "<tr><td>HOLY TADPOLE</td><td>Short movies</td></tr>",
                            "<tr><td>HOME PITY</td><td>long movies</td></tr>",
                            "<tr><td>HOMEWARD CIDER</td><td>long movies</td></tr>",
                            "<tr><td>HOMICIDE PEACH</td><td>long movies</td></tr>",
                            "<tr><td>HONEY TIES</td><td>Short movies</td></tr>",
                            "<tr><td>HOOK CHARIOTS</td><td>Short movies</td></tr>",
                            "<tr><td>HOOSIERS BIRDCAGE</td><td>long movies</td></tr>",
                            "<tr><td>HOPE TOOTSIE</td><td>long movies</td></tr>",
                            "<tr><td>HORN WORKING</td><td>long movies</td></tr>",
                            "<tr><td>HORROR REIGN</td><td>long movies</td></tr>",
                            "<tr><td>HOTEL HAPPINESS</td><td>long movies</td></tr>",
                            "<tr><td>HOURS RAGE</td><td>long movies</td></tr>",
                            "<tr><td>HOUSE DYNAMITE</td><td>long movies</td></tr>",
                            "<tr><td>HUMAN GRAFFITI</td><td>Short movies</td></tr>",
                            "<tr><td>HUNCHBACK IMPOSSIBLE</td><td>long movies</td></tr>",
                            "<tr><td>HUNGER ROOF</td><td>long movies</td></tr>",
                            "<tr><td>HUNTER ALTER</td><td>long movies</td></tr>",
                            "<tr><td>HUNTING MUSKETEERS</td><td>Short movies</td></tr>",
                            "<tr><td>HURRICANE AFFAIR</td><td>Short movies</td></tr>",
                            "<tr><td>HUSTLER PARTY</td><td>Short movies</td></tr>",
                            "<tr><td>HYDE DOCTOR</td><td>long movies</td></tr>",
                            "<tr><td>HYSTERICAL GRAIL</td><td>long movies</td></tr>",
                            "<tr><td>ICE CROSSING</td><td>long movies</td></tr>",
                            "<tr><td>IDAHO LOVE</td><td>long movies</td></tr>",
                            "<tr><td>IDENTITY LOVER</td><td>long movies</td></tr>",
                            "<tr><td>IDOLS SNATCHERS</td><td>Short movies</td></tr>",
                            "<tr><td>IGBY MAKER</td><td>long movies</td></tr>",
                            "<tr><td>ILLUSION AMELIE</td><td>long movies</td></tr>",
                            "<tr><td>IMAGE PRINCESS</td><td>long movies</td></tr>",
                            "<tr><td>IMPACT ALADDIN</td><td>long movies</td></tr>",
                            "<tr><td>IMPOSSIBLE PREJUDICE</td><td>long movies</td></tr>",
                            "<tr><td>INCH JET</td><td>long movies</td></tr>",
                            "<tr><td>INDEPENDENCE HOTEL</td><td>long movies</td></tr>",
                            "<tr><td>INDIAN LOVE</td><td>long movies</td></tr>",
                            "<tr><td>INFORMER DOUBLE</td><td>Short movies</td></tr>",
                            "<tr><td>INNOCENT USUAL</td><td>long movies</td></tr>",
                            "<tr><td>INSECTS STONE</td><td>long movies</td></tr>",
                            "<tr><td>INSIDER ARIZONA</td><td>Short movies</td></tr>",
                            "<tr><td>INSTINCT AIRPORT</td><td>long movies</td></tr>",
                            "<tr><td>INTENTIONS EMPIRE</td><td>long movies</td></tr>",
                            "<tr><td>INTERVIEW LIAISONS</td><td>Short movies</td></tr>",
                            "<tr><td>INTOLERABLE INTENTIONS</td><td>Short movies</td></tr>",
                            "<tr><td>INTRIGUE WORST</td><td>long movies</td></tr>",
                            "<tr><td>INVASION CYCLONE</td><td>long movies</td></tr>",
                            "<tr><td>IRON MOON</td><td>Short movies</td></tr>",
                            "<tr><td>ISHTAR ROCKETEER</td><td>Short movies</td></tr>",
                            "<tr><td>ISLAND EXORCIST</td><td>Short movies</td></tr>",
                            "<tr><td>ITALIAN AFRICAN</td><td>long movies</td></tr>",
                            "<tr><td>JACKET FRISCO</td><td>long movies</td></tr>",
                            "<tr><td>JADE BUNCH</td><td>long movies</td></tr>",
                            "<tr><td>JAPANESE RUN</td><td>long movies</td></tr>",
                            "<tr><td>JASON TRAP</td><td>long movies</td></tr>",
                            "<tr><td>JAWBREAKER BROOKLYN</td><td>long movies</td></tr>",
                            "<tr><td>JAWS HARRY</td><td>long movies</td></tr>",
                            "<tr><td>JEDI BENEATH</td><td>long movies</td></tr>",
                            "<tr><td>JEEPERS WEDDING</td><td>Short movies</td></tr>",
                            "<tr><td>JEKYLL FROGMEN</td><td>Short movies</td></tr>",
                            "<tr><td>JEOPARDY ENCINO</td><td>long movies</td></tr>",
                            "<tr><td>JERICHO MULAN</td><td>long movies</td></tr>",
                            "<tr><td>JERK PAYCHECK</td><td>long movies</td></tr>",
                            "<tr><td>JERSEY SASSY</td><td>Short movies</td></tr>",
                            "<tr><td>JET NEIGHBORS</td><td>Short movies</td></tr>",
                            "<tr><td>JINGLE SAGEBRUSH</td><td>long movies</td></tr>",
                            "<tr><td>JOON NORTHWEST</td><td>long movies</td></tr>",
                            "<tr><td>JUGGLER HARDLY</td><td>Short movies</td></tr>",
                            "<tr><td>JUMANJI BLADE</td><td>long movies</td></tr>",
                            "<tr><td>JUMPING WRATH</td><td>Short movies</td></tr>",
                            "<tr><td>JUNGLE CLOSER</td><td>long movies</td></tr>",
                            "<tr><td>KANE EXORCIST</td><td>long movies</td></tr>",
                            "<tr><td>KARATE MOON</td><td>long movies</td></tr>",
                            "<tr><td>KENTUCKIAN GIANT</td><td>long movies</td></tr>",
                            "<tr><td>KICK SAVANNAH</td><td>long movies</td></tr>",
                            "<tr><td>KILL BROTHERHOOD</td><td>Short movies</td></tr>",
                            "<tr><td>KILLER INNOCENT</td><td>long movies</td></tr>",
                            "<tr><td>KING EVOLUTION</td><td>long movies</td></tr>",
                            "<tr><td>KISS GLORY</td><td>long movies</td></tr>",
                            "<tr><td>KISSING DOLLS</td><td>long movies</td></tr>",
                            "<tr><td>KNOCK WARLOCK</td><td>Short movies</td></tr>",
                            "<tr><td>KRAMER CHOCOLATE</td><td>long movies</td></tr>",
                            "<tr><td>KWAI HOMEWARD</td><td>Short movies</td></tr>",
                            "<tr><td>LABYRINTH LEAGUE</td><td>Short movies</td></tr>",
                            "<tr><td>LADY STAGE</td><td>Short movies</td></tr>",
                            "<tr><td>LADYBUGS ARMAGEDDON</td><td>long movies</td></tr>",
                            "<tr><td>LAMBS CINCINATTI</td><td>long movies</td></tr>",
                            "<tr><td>LANGUAGE COWBOY</td><td>Short movies</td></tr>",
                            "<tr><td>LAWLESS VISION</td><td>long movies</td></tr>",
                            "<tr><td>LAWRENCE LOVE</td><td>long movies</td></tr>",
                            "<tr><td>LEAGUE HELLFIGHTERS</td><td>long movies</td></tr>",
                            "<tr><td>LEATHERNECKS DWARFS</td><td>long movies</td></tr>",
                            "<tr><td>LEBOWSKI SOLDIERS</td><td>Short movies</td></tr>",
                            "<tr><td>LEGALLY SECRETARY</td><td>long movies</td></tr>",
                            "<tr><td>LEGEND JEDI</td><td>Short movies</td></tr>",
                            "<tr><td>LESSON CLEOPATRA</td><td>long movies</td></tr>",
                            "<tr><td>LIAISONS SWEET</td><td>long movies</td></tr>",
                            "<tr><td>LIBERTY MAGNIFICENT</td><td>long movies</td></tr>",
                            "<tr><td>LICENSE WEEKEND</td><td>long movies</td></tr>",
                            "<tr><td>LIES TREATMENT</td><td>long movies</td></tr>",
                            "<tr><td>LIFE TWISTED</td><td>long movies</td></tr>",
                            "<tr><td>LIGHTS DEER</td><td>long movies</td></tr>",
                            "<tr><td>LION UNCUT</td><td>Short movies</td></tr>",
                            "<tr><td>LOATHING LEGALLY</td><td>long movies</td></tr>",
                            "<tr><td>LOCK REAR</td><td>long movies</td></tr>",
                            "<tr><td>LOLA AGENT</td><td>Short movies</td></tr>",
                            "<tr><td>LOLITA WORLD</td><td>long movies</td></tr>",
                            "<tr><td>LONELY ELEPHANT</td><td>Short movies</td></tr>",
                            "<tr><td>LORD ARIZONA</td><td>long movies</td></tr>",
                            "<tr><td>LOSE INCH</td><td>long movies</td></tr>",
                            "<tr><td>LOSER HUSTLER</td><td>Short movies</td></tr>",
                            "<tr><td>LOST BIRD</td><td>long movies</td></tr>",
                            "<tr><td>LOUISIANA HARRY</td><td>Short movies</td></tr>",
                            "<tr><td>LOVE SUICIDES</td><td>long movies</td></tr>",
                            "<tr><td>LOVELY JINGLE</td><td>Short movies</td></tr>",
                            "<tr><td>LOVER TRUMAN</td><td>Short movies</td></tr>",
                            "<tr><td>LOVERBOY ATTACKS</td><td>long movies</td></tr>",
                            "<tr><td>LUCK OPUS</td><td>long movies</td></tr>",
                            "<tr><td>LUCKY FLYING</td><td>long movies</td></tr>",
                            "<tr><td>LUKE MUMMY</td><td>Short movies</td></tr>",
                            "<tr><td>LUST LOCK</td><td>Short movies</td></tr>",
                            "<tr><td>MADIGAN DORADO</td><td>long movies</td></tr>",
                            "<tr><td>MADISON TRAP</td><td>long movies</td></tr>",
                            "<tr><td>MADNESS ATTACKS</td><td>long movies</td></tr>",
                            "<tr><td>MADRE GABLES</td><td>long movies</td></tr>",
                            "<tr><td>MAGIC MALLRATS</td><td>long movies</td></tr>",
                            "<tr><td>MAGNIFICENT CHITTY</td><td>Short movies</td></tr>",
                            "<tr><td>MAGNOLIA FORRESTER</td><td>long movies</td></tr>",
                            "<tr><td>MAGUIRE APACHE</td><td>Short movies</td></tr>",
                            "<tr><td>MAIDEN HOME</td><td>long movies</td></tr>",
                            "<tr><td>MAJESTIC FLOATS</td><td>long movies</td></tr>",
                            "<tr><td>MAKER GABLES</td><td>long movies</td></tr>",
                            "<tr><td>MALKOVICH PET</td><td>long movies</td></tr>",
                            "<tr><td>MALLRATS UNITED</td><td>long movies</td></tr>",
                            "<tr><td>MALTESE HOPE</td><td>long movies</td></tr>",
                            "<tr><td>MANCHURIAN CURTAIN</td><td>long movies</td></tr>",
                            "<tr><td>MANNEQUIN WORST</td><td>Short movies</td></tr>",
                            "<tr><td>MARRIED GO</td><td>long movies</td></tr>",
                            "<tr><td>MARS ROMAN</td><td>Short movies</td></tr>",
                            "<tr><td>MASK PEACH</td><td>long movies</td></tr>",
                            "<tr><td>MASKED BUBBLE</td><td>long movies</td></tr>",
                            "<tr><td>MASSACRE USUAL</td><td>long movies</td></tr>",
                            "<tr><td>MASSAGE IMAGE</td><td>long movies</td></tr>",
                            "<tr><td>MATRIX SNOWMAN</td><td>Short movies</td></tr>",
                            "<tr><td>MAUDE MOD</td><td>Short movies</td></tr>",
                            "<tr><td>MEET CHOCOLATE</td><td>Short movies</td></tr>",
                            "<tr><td>MEMENTO ZOOLANDER</td><td>Short movies</td></tr>",
                            "<tr><td>MENAGERIE RUSHMORE</td><td>long movies</td></tr>",
                            "<tr><td>MERMAID INSECTS</td><td>long movies</td></tr>",
                            "<tr><td>METAL ARMAGEDDON</td><td>long movies</td></tr>",
                            "<tr><td>METROPOLIS COMA</td><td>Short movies</td></tr>",
                            "<tr><td>MICROCOSMOS PARADISE</td><td>long movies</td></tr>",
                            "<tr><td>MIDNIGHT WESTWARD</td><td>Short movies</td></tr>",
                            "<tr><td>MIDSUMMER GROUNDHOG</td><td>Short movies</td></tr>",
                            "<tr><td>MIGHTY LUCK</td><td>long movies</td></tr>",
                            "<tr><td>MILE MULAN</td><td>Short movies</td></tr>",
                            "<tr><td>MILLION ACE</td><td>long movies</td></tr>",
                            "<tr><td>MINDS TRUMAN</td><td>long movies</td></tr>",
                            "<tr><td>MINE TITANS</td><td>long movies</td></tr>",
                            "<tr><td>MINORITY KISS</td><td>Short movies</td></tr>",
                            "<tr><td>MIRACLE VIRTUAL</td><td>long movies</td></tr>",
                            "<tr><td>MISSION ZOOLANDER</td><td>long movies</td></tr>",
                            "<tr><td>MIXED DOORS</td><td>long movies</td></tr>",
                            "<tr><td>MOB DUFFEL</td><td>long movies</td></tr>",
                            "<tr><td>MOCKINGBIRD HOLLYWOOD</td><td>Short movies</td></tr>",
                            "<tr><td>MOD SECRETARY</td><td>Short movies</td></tr>",
                            "<tr><td>MODEL FISH</td><td>long movies</td></tr>",
                            "<tr><td>MODERN DORADO</td><td>Short movies</td></tr>",
                            "<tr><td>MONEY HAROLD</td><td>long movies</td></tr>",
                            "<tr><td>MONSOON CAUSE</td><td>long movies</td></tr>",
                            "<tr><td>MONSTER SPARTACUS</td><td>long movies</td></tr>",
                            "<tr><td>MONTEREY LABYRINTH</td><td>long movies</td></tr>",
                            "<tr><td>MONTEZUMA COMMAND</td><td>long movies</td></tr>",
                            "<tr><td>MOON BUNCH</td><td>Short movies</td></tr>",
                            "<tr><td>MOONSHINE CABIN</td><td>long movies</td></tr>",
                            "<tr><td>MOONWALKER FOOL</td><td>long movies</td></tr>",
                            "<tr><td>MOSQUITO ARMAGEDDON</td><td>Short movies</td></tr>",
                            "<tr><td>MOTHER OLEANDER</td><td>long movies</td></tr>",
                            "<tr><td>MOTIONS DETAILS</td><td>long movies</td></tr>",
                            "<tr><td>MOULIN WAKE</td><td>Short movies</td></tr>",
                            "<tr><td>MOURNING PURPLE</td><td>long movies</td></tr>",
                            "<tr><td>MOVIE SHAKESPEARE</td><td>Short movies</td></tr>",
                            "<tr><td>MULAN MOON</td><td>long movies</td></tr>",
                            "<tr><td>MULHOLLAND BEAST</td><td>long movies</td></tr>",
                            "<tr><td>MUMMY CREATURES</td><td>long movies</td></tr>",
                            "<tr><td>MUPPET MILE</td><td>Short movies</td></tr>",
                            "<tr><td>MURDER ANTITRUST</td><td>long movies</td></tr>",
                            "<tr><td>MUSCLE BRIGHT</td><td>long movies</td></tr>",
                            "<tr><td>MUSIC BOONDOCK</td><td>long movies</td></tr>",
                            "<tr><td>MUSKETEERS WAIT</td><td>Short movies</td></tr>",
                            "<tr><td>MUSSOLINI SPOILERS</td><td>long movies</td></tr>",
                            "<tr><td>MYSTIC TRUMAN</td><td>long movies</td></tr>",
                            "<tr><td>NAME DETECTIVE</td><td>long movies</td></tr>",
                            "<tr><td>NASH CHOCOLAT</td><td>long movies</td></tr>",
                            "<tr><td>NATIONAL STORY</td><td>long movies</td></tr>",
                            "<tr><td>NATURAL STOCK</td><td>Short movies</td></tr>",
                            "<tr><td>NECKLACE OUTBREAK</td><td>long movies</td></tr>",
                            "<tr><td>NEIGHBORS CHARADE</td><td>long movies</td></tr>",
                            "<tr><td>NEMO CAMPUS</td><td>long movies</td></tr>",
                            "<tr><td>NETWORK PEAK</td><td>Short movies</td></tr>",
                            "<tr><td>NEWSIES STORY</td><td>long movies</td></tr>",
                            "<tr><td>NEWTON LABYRINTH</td><td>Short movies</td></tr>",
                            "<tr><td>NIGHTMARE CHILL</td><td>long movies</td></tr>",
                            "<tr><td>NONE SPIKING</td><td>Short movies</td></tr>",
                            "<tr><td>NOON PAPI</td><td>Short movies</td></tr>",
                            "<tr><td>NORTH TEQUILA</td><td>Short movies</td></tr>",
                            "<tr><td>NORTHWEST POLISH</td><td>long movies</td></tr>",
                            "<tr><td>NOTORIOUS REUNION</td><td>long movies</td></tr>",
                            "<tr><td>NOTTING SPEAKEASY</td><td>Short movies</td></tr>",
                            "<tr><td>NOVOCAINE FLIGHT</td><td>Short movies</td></tr>",
                            "<tr><td>NUTS TIES</td><td>long movies</td></tr>",
                            "<tr><td>OCTOBER SUBMARINE</td><td>Short movies</td></tr>",
                            "<tr><td>ODDS BOOGIE</td><td>Short movies</td></tr>",
                            "<tr><td>OKLAHOMA JUMANJI</td><td>Short movies</td></tr>",
                            "<tr><td>OLEANDER CLUE</td><td>long movies</td></tr>",
                            "<tr><td>OPEN AFRICAN</td><td>long movies</td></tr>",
                            "<tr><td>OPERATION OPERATION</td><td>long movies</td></tr>",
                            "<tr><td>OPPOSITE NECKLACE</td><td>long movies</td></tr>",
                            "<tr><td>OPUS ICE</td><td>long movies</td></tr>",
                            "<tr><td>ORANGE GRAPES</td><td>Short movies</td></tr>",
                            "<tr><td>ORDER BETRAYED</td><td>long movies</td></tr>",
                            "<tr><td>ORIENT CLOSER</td><td>long movies</td></tr>",
                            "<tr><td>OSCAR GOLD</td><td>long movies</td></tr>",
                            "<tr><td>OTHERS SOUP</td><td>long movies</td></tr>",
                            "<tr><td>OUTBREAK DIVINE</td><td>long movies</td></tr>",
                            "<tr><td>OUTFIELD MASSACRE</td><td>long movies</td></tr>",
                            "<tr><td>OUTLAW HANKY</td><td>long movies</td></tr>",
                            "<tr><td>OZ LIAISONS</td><td>Short movies</td></tr>",
                            "<tr><td>PACIFIC AMISTAD</td><td>long movies</td></tr>",
                            "<tr><td>PACKER MADIGAN</td><td>Short movies</td></tr>",
                            "<tr><td>PAJAMA JAWBREAKER</td><td>long movies</td></tr>",
                            "<tr><td>PANIC CLUB</td><td>long movies</td></tr>",
                            "<tr><td>PANKY SUBMARINE</td><td>long movies</td></tr>",
                            "<tr><td>PANTHER REDS</td><td>long movies</td></tr>",
                            "<tr><td>PAPI NECKLACE</td><td>long movies</td></tr>",
                            "<tr><td>PARADISE SABRINA</td><td>Short movies</td></tr>",
                            "<tr><td>PARIS WEEKEND</td><td>long movies</td></tr>",
                            "<tr><td>PARK CITIZEN</td><td>long movies</td></tr>",
                            "<tr><td>PARTY KNOCK</td><td>long movies</td></tr>",
                            "<tr><td>PAST SUICIDES</td><td>long movies</td></tr>",
                            "<tr><td>PATHS CONTROL</td><td>long movies</td></tr>",
                            "<tr><td>PATIENT SISTER</td><td>long movies</td></tr>",
                            "<tr><td>PATRIOT ROMAN</td><td>Short movies</td></tr>",
                            "<tr><td>PATTON INTERVIEW</td><td>long movies</td></tr>",
                            "<tr><td>PAYCHECK WAIT</td><td>long movies</td></tr>",
                            "<tr><td>PEACH INNOCENT</td><td>long movies</td></tr>",
                            "<tr><td>PEAK FOREVER</td><td>Short movies</td></tr>",
                            "<tr><td>PEARL DESTINY</td><td>Short movies</td></tr>",
                            "<tr><td>PELICAN COMFORTS</td><td>Short movies</td></tr>",
                            "<tr><td>PERDITION FARGO</td><td>long movies</td></tr>",
                            "<tr><td>PERFECT GROOVE</td><td>Short movies</td></tr>",
                            "<tr><td>PERSONAL LADYBUGS</td><td>long movies</td></tr>",
                            "<tr><td>PET HAUNTING</td><td>long movies</td></tr>",
                            "<tr><td>PHANTOM GLORY</td><td>Short movies</td></tr>",
                            "<tr><td>PHILADELPHIA WIFE</td><td>long movies</td></tr>",
                            "<tr><td>PIANIST OUTFIELD</td><td>long movies</td></tr>",
                            "<tr><td>PICKUP DRIVING</td><td>Short movies</td></tr>",
                            "<tr><td>PILOT HOOSIERS</td><td>Short movies</td></tr>",
                            "<tr><td>PINOCCHIO SIMON</td><td>long movies</td></tr>",
                            "<tr><td>PIRATES ROXANNE</td><td>long movies</td></tr>",
                            "<tr><td>PITTSBURGH HUNCHBACK</td><td>long movies</td></tr>",
                            "<tr><td>PITY BOUND</td><td>Short movies</td></tr>",
                            "<tr><td>PIZZA JUMANJI</td><td>long movies</td></tr>",
                            "<tr><td>PLATOON INSTINCT</td><td>long movies</td></tr>",
                            "<tr><td>PLUTO OLEANDER</td><td>Short movies</td></tr>",
                            "<tr><td>POCUS PULP</td><td>long movies</td></tr>",
                            "<tr><td>POLISH BROOKLYN</td><td>Short movies</td></tr>",
                            "<tr><td>POLLOCK DELIVERANCE</td><td>long movies</td></tr>",
                            "<tr><td>POND SEATTLE</td><td>long movies</td></tr>",
                            "<tr><td>POSEIDON FOREVER</td><td>long movies</td></tr>",
                            "<tr><td>POTLUCK MIXED</td><td>long movies</td></tr>",
                            "<tr><td>POTTER CONNECTICUT</td><td>long movies</td></tr>",
                            "<tr><td>PREJUDICE OLEANDER</td><td>long movies</td></tr>",
                            "<tr><td>PRESIDENT BANG</td><td>long movies</td></tr>",
                            "<tr><td>PRIDE ALAMO</td><td>long movies</td></tr>",
                            "<tr><td>PRIMARY GLASS</td><td>Short movies</td></tr>",
                            "<tr><td>PRINCESS GIANT</td><td>Short movies</td></tr>",
                            "<tr><td>PRIVATE DROP</td><td>long movies</td></tr>",
                            "<tr><td>PRIX UNDEFEATED</td><td>long movies</td></tr>",
                            "<tr><td>PSYCHO SHRUNK</td><td>long movies</td></tr>",
                            "<tr><td>PULP BEVERLY</td><td>Short movies</td></tr>",
                            "<tr><td>PUNK DIVORCE</td><td>long movies</td></tr>",
                            "<tr><td>PURE RUNNER</td><td>long movies</td></tr>",
                            "<tr><td>PURPLE MOVIE</td><td>Short movies</td></tr>",
                            "<tr><td>QUEEN LUKE</td><td>long movies</td></tr>",
                            "<tr><td>QUEST MUSSOLINI</td><td>long movies</td></tr>",
                            "<tr><td>QUILLS BULL</td><td>long movies</td></tr>",
                            "<tr><td>RACER EGG</td><td>long movies</td></tr>",
                            "<tr><td>RAGE GAMES</td><td>long movies</td></tr>",
                            "<tr><td>RAGING AIRPLANE</td><td>long movies</td></tr>",
                            "<tr><td>RAIDERS ANTITRUST</td><td>Short movies</td></tr>",
                            "<tr><td>RAINBOW SHOCK</td><td>Short movies</td></tr>",
                            "<tr><td>RANDOM GO</td><td>Short movies</td></tr>",
                            "<tr><td>RANGE MOONWALKER</td><td>long movies</td></tr>",
                            "<tr><td>REAP UNFAITHFUL</td><td>long movies</td></tr>",
                            "<tr><td>REAR TRADING</td><td>long movies</td></tr>",
                            "<tr><td>REBEL AIRPORT</td><td>Short movies</td></tr>",
                            "<tr><td>RECORDS ZORRO</td><td>long movies</td></tr>",
                            "<tr><td>REDEMPTION COMFORTS</td><td>long movies</td></tr>",
                            "<tr><td>REDS POCUS</td><td>long movies</td></tr>",
                            "<tr><td>REEF SALUTE</td><td>long movies</td></tr>",
                            "<tr><td>REIGN GENTLEMEN</td><td>Short movies</td></tr>",
                            "<tr><td>REMEMBER DIARY</td><td>long movies</td></tr>",
                            "<tr><td>REQUIEM TYCOON</td><td>long movies</td></tr>",
                            "<tr><td>RESERVOIR ADAPTATION</td><td>Short movies</td></tr>",
                            "<tr><td>RESURRECTION SILVERADO</td><td>long movies</td></tr>",
                            "<tr><td>REUNION WITCHES</td><td>Short movies</td></tr>",
                            "<tr><td>RIDER CADDYSHACK</td><td>long movies</td></tr>",
                            "<tr><td>RIDGEMONT SUBMARINE</td><td>Short movies</td></tr>",
                            "<tr><td>RIGHT CRANES</td><td>long movies</td></tr>",
                            "<tr><td>RINGS HEARTBREAKERS</td><td>Short movies</td></tr>",
                            "<tr><td>RIVER OUTLAW</td><td>long movies</td></tr>",
                            "<tr><td>ROAD ROXANNE</td><td>long movies</td></tr>",
                            "<tr><td>ROBBERS JOON</td><td>long movies</td></tr>",
                            "<tr><td>ROBBERY BRIGHT</td><td>long movies</td></tr>",
                            "<tr><td>ROCK INSTINCT</td><td>long movies</td></tr>",
                            "<tr><td>ROCKETEER MOTHER</td><td>long movies</td></tr>",
                            "<tr><td>ROCKY WAR</td><td>long movies</td></tr>",
                            "<tr><td>ROLLERCOASTER BRINGING</td><td>long movies</td></tr>",
                            "<tr><td>ROMAN PUNK</td><td>Short movies</td></tr>",
                            "<tr><td>ROOF CHAMPION</td><td>long movies</td></tr>",
                            "<tr><td>ROOM ROMAN</td><td>Short movies</td></tr>",
                            "<tr><td>ROOTS REMEMBER</td><td>Short movies</td></tr>",
                            "<tr><td>ROSES TREASURE</td><td>long movies</td></tr>",
                            "<tr><td>ROUGE SQUAD</td><td>long movies</td></tr>",
                            "<tr><td>ROXANNE REBEL</td><td>long movies</td></tr>",
                            "<tr><td>RUGRATS SHAKESPEARE</td><td>long movies</td></tr>",
                            "<tr><td>RULES HUMAN</td><td>long movies</td></tr>",
                            "<tr><td>RUN PACIFIC</td><td>long movies</td></tr>",
                            "<tr><td>RUNAWAY TENENBAUMS</td><td>long movies</td></tr>",
                            "<tr><td>RUNNER MADIGAN</td><td>long movies</td></tr>",
                            "<tr><td>RUSH GOODFELLAS</td><td>Short movies</td></tr>",
                            "<tr><td>RUSHMORE MERMAID</td><td>long movies</td></tr>",
                            "<tr><td>SABRINA MIDNIGHT</td><td>long movies</td></tr>",
                            "<tr><td>SADDLE ANTITRUST</td><td>Short movies</td></tr>",
                            "<tr><td>SAGEBRUSH CLUELESS</td><td>long movies</td></tr>",
                            "<tr><td>SAINTS BRIDE</td><td>long movies</td></tr>",
                            "<tr><td>SALUTE APOLLO</td><td>Short movies</td></tr>",
                            "<tr><td>SAMURAI LION</td><td>long movies</td></tr>",
                            "<tr><td>SANTA PARIS</td><td>long movies</td></tr>",
                            "<tr><td>SASSY PACKER</td><td>long movies</td></tr>",
                            "<tr><td>SATISFACTION CONFIDENTIAL</td><td>Short movies</td></tr>",
                            "<tr><td>SATURDAY LAMBS</td><td>long movies</td></tr>",
                            "<tr><td>SATURN NAME</td><td>long movies</td></tr>",
                            "<tr><td>SAVANNAH TOWN</td><td>Short movies</td></tr>",
                            "<tr><td>SCALAWAG DUCK</td><td>long movies</td></tr>",
                            "<tr><td>SCARFACE BANG</td><td>long movies</td></tr>",
                            "<tr><td>SCHOOL JACKET</td><td>long movies</td></tr>",
                            "<tr><td>SCISSORHANDS SLUMS</td><td>long movies</td></tr>",
                            "<tr><td>SCORPION APOLLO</td><td>long movies</td></tr>",
                            "<tr><td>SEA VIRGIN</td><td>Short movies</td></tr>",
                            "<tr><td>SEABISCUIT PUNK</td><td>long movies</td></tr>",
                            "<tr><td>SEARCHERS WAIT</td><td>long movies</td></tr>",
                            "<tr><td>SEATTLE EXPECATIONS</td><td>long movies</td></tr>",
                            "<tr><td>SECRET GROUNDHOG</td><td>long movies</td></tr>",
                            "<tr><td>SECRETARY ROUGE</td><td>long movies</td></tr>",
                            "<tr><td>SECRETS PARADISE</td><td>long movies</td></tr>",
                            "<tr><td>SENSE GREEK</td><td>Short movies</td></tr>",
                            "<tr><td>SENSIBILITY REAR</td><td>long movies</td></tr>",
                            "<tr><td>SEVEN SWARM</td><td>long movies</td></tr>",
                            "<tr><td>SHAKESPEARE SADDLE</td><td>Short movies</td></tr>",
                            "<tr><td>SHANE DARKNESS</td><td>long movies</td></tr>",
                            "<tr><td>SHANGHAI TYCOON</td><td>Short movies</td></tr>",
                            "<tr><td>SHAWSHANK BUBBLE</td><td>Short movies</td></tr>",
                            "<tr><td>SHEPHERD MIDSUMMER</td><td>long movies</td></tr>",
                            "<tr><td>SHINING ROSES</td><td>long movies</td></tr>",
                            "<tr><td>SHIP WONDERLAND</td><td>long movies</td></tr>",
                            "<tr><td>SHOCK CABIN</td><td>Short movies</td></tr>",
                            "<tr><td>SHOOTIST SUPERFLY</td><td>Short movies</td></tr>",
                            "<tr><td>SHOW LORD</td><td>long movies</td></tr>",
                            "<tr><td>SHREK LICENSE</td><td>long movies</td></tr>",
                            "<tr><td>SHRUNK DIVINE</td><td>long movies</td></tr>",
                            "<tr><td>SIDE ARK</td><td>Short movies</td></tr>",
                            "<tr><td>SIEGE MADRE</td><td>long movies</td></tr>",
                            "<tr><td>SIERRA DIVIDE</td><td>long movies</td></tr>",
                            "<tr><td>SILENCE KANE</td><td>Short movies</td></tr>",
                            "<tr><td>SILVERADO GOLDFINGER</td><td>Short movies</td></tr>",
                            "<tr><td>SIMON NORTH</td><td>Short movies</td></tr>",
                            "<tr><td>SINNERS ATLANTIS</td><td>long movies</td></tr>",
                            "<tr><td>SISTER FREDDY</td><td>long movies</td></tr>",
                            "<tr><td>SKY MIRACLE</td><td>long movies</td></tr>",
                            "<tr><td>SLACKER LIAISONS</td><td>long movies</td></tr>",
                            "<tr><td>SLEEPING SUSPECTS</td><td>long movies</td></tr>",
                            "<tr><td>SLEEPLESS MONSOON</td><td>Short movies</td></tr>",
                            "<tr><td>SLEEPY JAPANESE</td><td>long movies</td></tr>",
                            "<tr><td>SLEUTH ORIENT</td><td>Short movies</td></tr>",
                            "<tr><td>SLING LUKE</td><td>Short movies</td></tr>",
                            "<tr><td>SLIPPER FIDELITY</td><td>long movies</td></tr>",
                            "<tr><td>SLUMS DUCK</td><td>long movies</td></tr>",
                            "<tr><td>SMILE EARRING</td><td>Short movies</td></tr>",
                            "<tr><td>SMOKING BARBARELLA</td><td>Short movies</td></tr>",
                            "<tr><td>SMOOCHY CONTROL</td><td>long movies</td></tr>",
                            "<tr><td>SNATCH SLIPPER</td><td>long movies</td></tr>",
                            "<tr><td>SNATCHERS MONTEZUMA</td><td>Short movies</td></tr>",
                            "<tr><td>SNOWMAN ROLLERCOASTER</td><td>Short movies</td></tr>",
                            "<tr><td>SOLDIERS EVOLUTION</td><td>long movies</td></tr>",
                            "<tr><td>SOMETHING DUCK</td><td>long movies</td></tr>",
                            "<tr><td>SONG HEDWIG</td><td>long movies</td></tr>",
                            "<tr><td>SONS INTERVIEW</td><td>long movies</td></tr>",
                            "<tr><td>SORORITY QUEEN</td><td>long movies</td></tr>",
                            "<tr><td>SOUP WISDOM</td><td>long movies</td></tr>",
                            "<tr><td>SOUTH WAIT</td><td>long movies</td></tr>",
                            "<tr><td>SPARTACUS CHEAPER</td><td>Short movies</td></tr>",
                            "<tr><td>SPEAKEASY DATE</td><td>long movies</td></tr>",
                            "<tr><td>SPEED SUIT</td><td>long movies</td></tr>",
                            "<tr><td>SPICE SORORITY</td><td>long movies</td></tr>",
                            "<tr><td>SPIKING ELEMENT</td><td>Short movies</td></tr>",
                            "<tr><td>SPINAL ROCKY</td><td>long movies</td></tr>",
                            "<tr><td>SPIRIT FLINTSTONES</td><td>long movies</td></tr>",
                            "<tr><td>SPIRITED CASUALTIES</td><td>long movies</td></tr>",
                            "<tr><td>SPLASH GUMP</td><td>long movies</td></tr>",
                            "<tr><td>SPLENDOR PATTON</td><td>long movies</td></tr>",
                            "<tr><td>SPOILERS HELLFIGHTERS</td><td>long movies</td></tr>",
                            "<tr><td>SPY MILE</td><td>long movies</td></tr>",
                            "<tr><td>SQUAD FISH</td><td>long movies</td></tr>",
                            "<tr><td>STAGE WORLD</td><td>Short movies</td></tr>",
                            "<tr><td>STAGECOACH ARMAGEDDON</td><td>long movies</td></tr>",
                            "<tr><td>STALLION SUNDANCE</td><td>long movies</td></tr>",
                            "<tr><td>STAMPEDE DISTURBING</td><td>Short movies</td></tr>",
                            "<tr><td>STAR OPERATION</td><td>long movies</td></tr>",
                            "<tr><td>STATE WASTELAND</td><td>long movies</td></tr>",
                            "<tr><td>STEEL SANTA</td><td>long movies</td></tr>",
                            "<tr><td>STEERS ARMAGEDDON</td><td>long movies</td></tr>",
                            "<tr><td>STEPMOM DREAM</td><td>Short movies</td></tr>",
                            "<tr><td>STING PERSONAL</td><td>long movies</td></tr>",
                            "<tr><td>STOCK GLASS</td><td>long movies</td></tr>",
                            "<tr><td>STONE FIRE</td><td>long movies</td></tr>",
                            "<tr><td>STORM HAPPINESS</td><td>Short movies</td></tr>",
                            "<tr><td>STORY SIDE</td><td>long movies</td></tr>",
                            "<tr><td>STRAIGHT HOURS</td><td>long movies</td></tr>",
                            "<tr><td>STRANGELOVE DESIRE</td><td>long movies</td></tr>",
                            "<tr><td>STRANGER STRANGERS</td><td>long movies</td></tr>",
                            "<tr><td>STRANGERS GRAFFITI</td><td>long movies</td></tr>",
                            "<tr><td>STREAK RIDGEMONT</td><td>long movies</td></tr>",
                            "<tr><td>STREETCAR INTENTIONS</td><td>Short movies</td></tr>",
                            "<tr><td>STRICTLY SCARFACE</td><td>long movies</td></tr>",
                            "<tr><td>SUBMARINE BED</td><td>long movies</td></tr>",
                            "<tr><td>SUGAR WONKA</td><td>long movies</td></tr>",
                            "<tr><td>SUICIDES SILENCE</td><td>long movies</td></tr>",
                            "<tr><td>SUIT WALLS</td><td>long movies</td></tr>",
                            "<tr><td>SUMMER SCARFACE</td><td>Short movies</td></tr>",
                            "<tr><td>SUN CONFESSIONS</td><td>long movies</td></tr>",
                            "<tr><td>SUNDANCE INVASION</td><td>long movies</td></tr>",
                            "<tr><td>SUNRISE LEAGUE</td><td>long movies</td></tr>",
                            "<tr><td>SUNSET RACER</td><td>Short movies</td></tr>",
                            "<tr><td>SUPER WYOMING</td><td>Short movies</td></tr>",
                            "<tr><td>SUPERFLY TRIP</td><td>long movies</td></tr>",
                            "<tr><td>SUSPECTS QUILLS</td><td>Short movies</td></tr>",
                            "<tr><td>SWARM GOLD</td><td>long movies</td></tr>",
                            "<tr><td>SWEDEN SHINING</td><td>long movies</td></tr>",
                            "<tr><td>SWEET BROTHERHOOD</td><td>long movies</td></tr>",
                            "<tr><td>SWEETHEARTS SUSPECTS</td><td>long movies</td></tr>",
                            "<tr><td>TADPOLE PARK</td><td>long movies</td></tr>",
                            "<tr><td>TALENTED HOMICIDE</td><td>long movies</td></tr>",
                            "<tr><td>TARZAN VIDEOTAPE</td><td>long movies</td></tr>",
                            "<tr><td>TAXI KICK</td><td>Short movies</td></tr>",
                            "<tr><td>TEEN APOLLO</td><td>Short movies</td></tr>",
                            "<tr><td>TELEGRAPH VOYAGE</td><td>long movies</td></tr>",
                            "<tr><td>TELEMARK HEARTBREAKERS</td><td>long movies</td></tr>",
                            "<tr><td>TEMPLE ATTRACTION</td><td>Short movies</td></tr>",
                            "<tr><td>TENENBAUMS COMMAND</td><td>long movies</td></tr>",
                            "<tr><td>TEQUILA PAST</td><td>Short movies</td></tr>",
                            "<tr><td>TERMINATOR CLUB</td><td>Short movies</td></tr>",
                            "<tr><td>TEXAS WATCH</td><td>long movies</td></tr>",
                            "<tr><td>THEORY MERMAID</td><td>long movies</td></tr>",
                            "<tr><td>THIEF PELICAN</td><td>long movies</td></tr>",
                            "<tr><td>THIN SAGEBRUSH</td><td>Short movies</td></tr>",
                            "<tr><td>TIES HUNGER</td><td>long movies</td></tr>",
                            "<tr><td>TIGHTS DAWN</td><td>long movies</td></tr>",
                            "<tr><td>TIMBERLAND SKY</td><td>Short movies</td></tr>",
                            "<tr><td>TITANIC BOONDOCK</td><td>long movies</td></tr>",
                            "<tr><td>TITANS JERK</td><td>long movies</td></tr>",
                            "<tr><td>TOMATOES HELLFIGHTERS</td><td>Short movies</td></tr>",
                            "<tr><td>TOMORROW HUSTLER</td><td>long movies</td></tr>",
                            "<tr><td>TOOTSIE PILOT</td><td>long movies</td></tr>",
                            "<tr><td>TORQUE BOUND</td><td>long movies</td></tr>",
                            "<tr><td>TOURIST PELICAN</td><td>long movies</td></tr>",
                            "<tr><td>TOWERS HURRICANE</td><td>long movies</td></tr>",
                            "<tr><td>TOWN ARK</td><td>long movies</td></tr>",
                            "<tr><td>TRACY CIDER</td><td>long movies</td></tr>",
                            "<tr><td>TRADING PINOCCHIO</td><td>long movies</td></tr>",
                            "<tr><td>TRAFFIC HOBBIT</td><td>long movies</td></tr>",
                            "<tr><td>TRAIN BUNCH</td><td>Short movies</td></tr>",
                            "<tr><td>TRAINSPOTTING STRANGERS</td><td>long movies</td></tr>",
                            "<tr><td>TRAMP OTHERS</td><td>long movies</td></tr>",
                            "<tr><td>TRANSLATION SUMMER</td><td>long movies</td></tr>",
                            "<tr><td>TRAP GUYS</td><td>long movies</td></tr>",
                            "<tr><td>TREASURE COMMAND</td><td>long movies</td></tr>",
                            "<tr><td>TREATMENT JEKYLL</td><td>Short movies</td></tr>",
                            "<tr><td>TRIP NEWTON</td><td>Short movies</td></tr>",
                            "<tr><td>TROJAN TOMORROW</td><td>Short movies</td></tr>",
                            "<tr><td>TROOPERS METAL</td><td>long movies</td></tr>",
                            "<tr><td>TROUBLE DATE</td><td>Short movies</td></tr>",
                            "<tr><td>TRUMAN CRAZY</td><td>long movies</td></tr>",
                            "<tr><td>TURN STAR</td><td>Short movies</td></tr>",
                            "<tr><td>TUXEDO MILE</td><td>long movies</td></tr>",
                            "<tr><td>TWISTED PIRATES</td><td>long movies</td></tr>",
                            "<tr><td>TYCOON GATHERING</td><td>Short movies</td></tr>",
                            "<tr><td>UNBREAKABLE KARATE</td><td>Short movies</td></tr>",
                            "<tr><td>UNCUT SUICIDES</td><td>long movies</td></tr>",
                            "<tr><td>UNDEFEATED DALMATIONS</td><td>long movies</td></tr>",
                            "<tr><td>UNFAITHFUL KILL</td><td>Short movies</td></tr>",
                            "<tr><td>UNFORGIVEN ZOOLANDER</td><td>long movies</td></tr>",
                            "<tr><td>UNITED PILOT</td><td>long movies</td></tr>",
                            "<tr><td>UNTOUCHABLES SUNRISE</td><td>long movies</td></tr>",
                            "<tr><td>UPRISING UPTOWN</td><td>long movies</td></tr>",
                            "<tr><td>UPTOWN YOUNG</td><td>Short movies</td></tr>",
                            "<tr><td>USUAL UNTOUCHABLES</td><td>long movies</td></tr>",
                            "<tr><td>VACATION BOONDOCK</td><td>long movies</td></tr>",
                            "<tr><td>VALENTINE VANISHING</td><td>Short movies</td></tr>",
                            "<tr><td>VALLEY PACKER</td><td>Short movies</td></tr>",
                            "<tr><td>VAMPIRE WHALE</td><td>long movies</td></tr>",
                            "<tr><td>VANILLA DAY</td><td>long movies</td></tr>",
                            "<tr><td>VANISHED GARDEN</td><td>long movies</td></tr>",
                            "<tr><td>VANISHING ROCKY</td><td>long movies</td></tr>",
                            "<tr><td>VARSITY TRIP</td><td>Short movies</td></tr>",
                            "<tr><td>VELVET TERMINATOR</td><td>long movies</td></tr>",
                            "<tr><td>VERTIGO NORTHWEST</td><td>long movies</td></tr>",
                            "<tr><td>VICTORY ACADEMY</td><td>Short movies</td></tr>",
                            "<tr><td>VIDEOTAPE ARSENIC</td><td>long movies</td></tr>",
                            "<tr><td>VIETNAM SMOOCHY</td><td>long movies</td></tr>",
                            "<tr><td>VILLAIN DESPERATE</td><td>Short movies</td></tr>",
                            "<tr><td>VIRGIN DAISY</td><td>long movies</td></tr>",
                            "<tr><td>VIRGINIAN PLUTO</td><td>long movies</td></tr>",
                            "<tr><td>VIRTUAL SPOILERS</td><td>long movies</td></tr>",
                            "<tr><td>VISION TORQUE</td><td>Short movies</td></tr>",
                            "<tr><td>VOICE PEACH</td><td>long movies</td></tr>",
                            "<tr><td>VOLCANO TEXAS</td><td>long movies</td></tr>",
                            "<tr><td>VOLUME HOUSE</td><td>long movies</td></tr>",
                            "<tr><td>VOYAGE LEGALLY</td><td>Short movies</td></tr>",
                            "<tr><td>WAGON JAWS</td><td>long movies</td></tr>",
                            "<tr><td>WAIT CIDER</td><td>long movies</td></tr>",
                            "<tr><td>WAKE JAWS</td><td>Short movies</td></tr>",
                            "<tr><td>WALLS ARTIST</td><td>long movies</td></tr>",
                            "<tr><td>WANDA CHAMBER</td><td>long movies</td></tr>",
                            "<tr><td>WAR NOTTING</td><td>Short movies</td></tr>",
                            "<tr><td>WARDROBE PHANTOM</td><td>long movies</td></tr>",
                            "<tr><td>WARLOCK WEREWOLF</td><td>Short movies</td></tr>",
                            "<tr><td>WARS PLUTO</td><td>long movies</td></tr>",
                            "<tr><td>WASH HEAVENLY</td><td>long movies</td></tr>",
                            "<tr><td>WASTELAND DIVINE</td><td>Short movies</td></tr>",
                            "<tr><td>WATCH TRACY</td><td>Short movies</td></tr>",
                            "<tr><td>WATERFRONT DELIVERANCE</td><td>Short movies</td></tr>",
                            "<tr><td>WATERSHIP FRONTIER</td><td>long movies</td></tr>",
                            "<tr><td>WEDDING APOLLO</td><td>Short movies</td></tr>",
                            "<tr><td>WEEKEND PERSONAL</td><td>long movies</td></tr>",
                            "<tr><td>WEREWOLF LOLA</td><td>Short movies</td></tr>",
                            "<tr><td>WEST LION</td><td>long movies</td></tr>",
                            "<tr><td>WESTWARD SEABISCUIT</td><td>Short movies</td></tr>",
                            "<tr><td>WHALE BIKINI</td><td>long movies</td></tr>",
                            "<tr><td>WHISPERER GIANT</td><td>Short movies</td></tr>",
                            "<tr><td>WIFE TURN</td><td>long movies</td></tr>",
                            "<tr><td>WILD APOLLO</td><td>long movies</td></tr>",
                            "<tr><td>WILLOW TRACY</td><td>long movies</td></tr>",
                            "<tr><td>WIND PHANTOM</td><td>long movies</td></tr>",
                            "<tr><td>WINDOW SIDE</td><td>Short movies</td></tr>",
                            "<tr><td>WISDOM WORKER</td><td>long movies</td></tr>",
                            "<tr><td>WITCHES PANIC</td><td>long movies</td></tr>",
                            "<tr><td>WIZARD COLDBLOODED</td><td>Short movies</td></tr>",
                            "<tr><td>WOLVES DESIRE</td><td>Short movies</td></tr>",
                            "<tr><td>WOMEN DORADO</td><td>long movies</td></tr>",
                            "<tr><td>WON DARES</td><td>long movies</td></tr>",
                            "<tr><td>WONDERFUL DROP</td><td>long movies</td></tr>",
                            "<tr><td>WONDERLAND CHRISTMAS</td><td>long movies</td></tr>",
                            "<tr><td>WONKA SEA</td><td>Short movies</td></tr>",
                            "<tr><td>WORDS HUNTER</td><td>long movies</td></tr>",
                            "<tr><td>WORKER TARZAN</td><td>long movies</td></tr>",
                            "<tr><td>WORKING MICROCOSMOS</td><td>Short movies</td></tr>",
                            "<tr><td>WORLD LEATHERNECKS</td><td>long movies</td></tr>",
                            "<tr><td>WORST BANGER</td><td>long movies</td></tr>",
                            "<tr><td>WRATH MILE</td><td>long movies</td></tr>",
                            "<tr><td>WRONG BEHAVIOR</td><td>long movies</td></tr>",
                            "<tr><td>WYOMING STORM</td><td>long movies</td></tr>",
                            "<tr><td>YENTL IDAHO</td><td>Short movies</td></tr>",
                            "<tr><td>YOUNG LANGUAGE</td><td>long movies</td></tr>",
                            "<tr><td>YOUTH KICK</td><td>long movies</td></tr>",
                            "<tr><td>ZHIVAGO CORE</td><td>long movies</td></tr>",
                            "<tr><td>ZOOLANDER FICTION</td><td>long movies</td></tr>",
                            "<tr><td>ZORRO ARK</td><td>Short movies</td></tr>",
                            "</table>"
                        ]
                    }
                }
            ],
            "execution_count": 12
        },
        {
            "cell_type": "markdown",
            "source": [
                "# Switch case"
            ],
            "metadata": {
                "language": "sql",
                "azdata_cell_guid": "0c0c05d4-1206-4b02-9f03-a2dbcf04740e"
            },
            "attachments": {}
        },
        {
            "cell_type": "code",
            "source": [
                "select title, length,\r\n",
                "CASE\r\n",
                "   WHEN length<=60 THEN 'short movie'\r\n",
                "   WHEN length<=90 THEN 'normal movie'\r\n",
                "   WHEN length<=120 THEN 'long movie'\r\n",
                "   ELSE 'extra long movie'\r\n",
                "END AS movie_length -- Alias\r\n",
                "from film;"
            ],
            "metadata": {
                "language": "sql",
                "azdata_cell_guid": "afcc9f28-a5ec-48a3-b153-746e17a01800",
                "tags": []
            },
            "outputs": [
                {
                    "output_type": "display_data",
                    "data": {
                        "text/html": "(1000 row(s) affected)"
                    },
                    "metadata": {}
                },
                {
                    "output_type": "display_data",
                    "data": {
                        "text/html": "Total execution time: 00:00:01.007"
                    },
                    "metadata": {}
                },
                {
                    "output_type": "execute_result",
                    "metadata": {},
                    "execution_count": 13,
                    "data": {
                        "application/vnd.dataresource+json": {
                            "schema": {
                                "fields": [
                                    {
                                        "name": "title"
                                    },
                                    {
                                        "name": "length"
                                    },
                                    {
                                        "name": "movie_length"
                                    }
                                ]
                            },
                            "data": [
                                {
                                    "title": "ACADEMY DINOSAUR",
                                    "length": "86",
                                    "movie_length": "normal movie"
                                },
                                {
                                    "title": "ACE GOLDFINGER",
                                    "length": "48",
                                    "movie_length": "short movie"
                                },
                                {
                                    "title": "ADAPTATION HOLES",
                                    "length": "50",
                                    "movie_length": "short movie"
                                },
                                {
                                    "title": "AFFAIR PREJUDICE",
                                    "length": "117",
                                    "movie_length": "long movie"
                                },
                                {
                                    "title": "AFRICAN EGG",
                                    "length": "130",
                                    "movie_length": "extra long movie"
                                },
                                {
                                    "title": "AGENT TRUMAN",
                                    "length": "169",
                                    "movie_length": "extra long movie"
                                },
                                {
                                    "title": "AIRPLANE SIERRA",
                                    "length": "62",
                                    "movie_length": "normal movie"
                                },
                                {
                                    "title": "AIRPORT POLLOCK",
                                    "length": "54",
                                    "movie_length": "short movie"
                                },
                                {
                                    "title": "ALABAMA DEVIL",
                                    "length": "114",
                                    "movie_length": "long movie"
                                },
                                {
                                    "title": "ALADDIN CALENDAR",
                                    "length": "63",
                                    "movie_length": "normal movie"
                                },
                                {
                                    "title": "ALAMO VIDEOTAPE",
                                    "length": "126",
                                    "movie_length": "extra long movie"
                                },
                                {
                                    "title": "ALASKA PHANTOM",
                                    "length": "136",
                                    "movie_length": "extra long movie"
                                },
                                {
                                    "title": "ALI FOREVER",
                                    "length": "150",
                                    "movie_length": "extra long movie"
                                },
                                {
                                    "title": "ALICE FANTASIA",
                                    "length": "94",
                                    "movie_length": "long movie"
                                },
                                {
                                    "title": "ALIEN CENTER",
                                    "length": "46",
                                    "movie_length": "short movie"
                                },
                                {
                                    "title": "ALLEY EVOLUTION",
                                    "length": "180",
                                    "movie_length": "extra long movie"
                                },
                                {
                                    "title": "ALONE TRIP",
                                    "length": "82",
                                    "movie_length": "normal movie"
                                },
                                {
                                    "title": "ALTER VICTORY",
                                    "length": "57",
                                    "movie_length": "short movie"
                                },
                                {
                                    "title": "AMADEUS HOLY",
                                    "length": "113",
                                    "movie_length": "long movie"
                                },
                                {
                                    "title": "AMELIE HELLFIGHTERS",
                                    "length": "79",
                                    "movie_length": "normal movie"
                                },
                                {
                                    "title": "AMERICAN CIRCUS",
                                    "length": "129",
                                    "movie_length": "extra long movie"
                                },
                                {
                                    "title": "AMISTAD MIDSUMMER",
                                    "length": "85",
                                    "movie_length": "normal movie"
                                },
                                {
                                    "title": "ANACONDA CONFESSIONS",
                                    "length": "92",
                                    "movie_length": "long movie"
                                },
                                {
                                    "title": "ANALYZE HOOSIERS",
                                    "length": "181",
                                    "movie_length": "extra long movie"
                                },
                                {
                                    "title": "ANGELS LIFE",
                                    "length": "74",
                                    "movie_length": "normal movie"
                                },
                                {
                                    "title": "ANNIE IDENTITY",
                                    "length": "86",
                                    "movie_length": "normal movie"
                                },
                                {
                                    "title": "ANONYMOUS HUMAN",
                                    "length": "179",
                                    "movie_length": "extra long movie"
                                },
                                {
                                    "title": "ANTHEM LUKE",
                                    "length": "91",
                                    "movie_length": "long movie"
                                },
                                {
                                    "title": "ANTITRUST TOMATOES",
                                    "length": "168",
                                    "movie_length": "extra long movie"
                                },
                                {
                                    "title": "ANYTHING SAVANNAH",
                                    "length": "82",
                                    "movie_length": "normal movie"
                                },
                                {
                                    "title": "APACHE DIVINE",
                                    "length": "92",
                                    "movie_length": "long movie"
                                },
                                {
                                    "title": "APOCALYPSE FLAMINGOS",
                                    "length": "119",
                                    "movie_length": "long movie"
                                },
                                {
                                    "title": "APOLLO TEEN",
                                    "length": "153",
                                    "movie_length": "extra long movie"
                                },
                                {
                                    "title": "ARABIA DOGMA",
                                    "length": "62",
                                    "movie_length": "normal movie"
                                },
                                {
                                    "title": "ARACHNOPHOBIA ROLLERCOASTER",
                                    "length": "147",
                                    "movie_length": "extra long movie"
                                },
                                {
                                    "title": "ARGONAUTS TOWN",
                                    "length": "127",
                                    "movie_length": "extra long movie"
                                },
                                {
                                    "title": "ARIZONA BANG",
                                    "length": "121",
                                    "movie_length": "extra long movie"
                                },
                                {
                                    "title": "ARK RIDGEMONT",
                                    "length": "68",
                                    "movie_length": "normal movie"
                                },
                                {
                                    "title": "ARMAGEDDON LOST",
                                    "length": "99",
                                    "movie_length": "long movie"
                                },
                                {
                                    "title": "ARMY FLINTSTONES",
                                    "length": "148",
                                    "movie_length": "extra long movie"
                                },
                                {
                                    "title": "ARSENIC INDEPENDENCE",
                                    "length": "137",
                                    "movie_length": "extra long movie"
                                },
                                {
                                    "title": "ARTIST COLDBLOODED",
                                    "length": "170",
                                    "movie_length": "extra long movie"
                                },
                                {
                                    "title": "ATLANTIS CAUSE",
                                    "length": "170",
                                    "movie_length": "extra long movie"
                                },
                                {
                                    "title": "ATTACKS HATE",
                                    "length": "113",
                                    "movie_length": "long movie"
                                },
                                {
                                    "title": "ATTRACTION NEWTON",
                                    "length": "83",
                                    "movie_length": "normal movie"
                                },
                                {
                                    "title": "AUTUMN CROW",
                                    "length": "108",
                                    "movie_length": "long movie"
                                },
                                {
                                    "title": "BABY HALL",
                                    "length": "153",
                                    "movie_length": "extra long movie"
                                },
                                {
                                    "title": "BACKLASH UNDEFEATED",
                                    "length": "118",
                                    "movie_length": "long movie"
                                },
                                {
                                    "title": "BADMAN DAWN",
                                    "length": "162",
                                    "movie_length": "extra long movie"
                                },
                                {
                                    "title": "BAKED CLEOPATRA",
                                    "length": "182",
                                    "movie_length": "extra long movie"
                                },
                                {
                                    "title": "BALLOON HOMEWARD",
                                    "length": "75",
                                    "movie_length": "normal movie"
                                },
                                {
                                    "title": "BALLROOM MOCKINGBIRD",
                                    "length": "173",
                                    "movie_length": "extra long movie"
                                },
                                {
                                    "title": "BANG KWAI",
                                    "length": "87",
                                    "movie_length": "normal movie"
                                },
                                {
                                    "title": "BANGER PINOCCHIO",
                                    "length": "113",
                                    "movie_length": "long movie"
                                },
                                {
                                    "title": "BARBARELLA STREETCAR",
                                    "length": "65",
                                    "movie_length": "normal movie"
                                },
                                {
                                    "title": "BAREFOOT MANCHURIAN",
                                    "length": "129",
                                    "movie_length": "extra long movie"
                                },
                                {
                                    "title": "BASIC EASY",
                                    "length": "90",
                                    "movie_length": "normal movie"
                                },
                                {
                                    "title": "BEACH HEARTBREAKERS",
                                    "length": "122",
                                    "movie_length": "extra long movie"
                                },
                                {
                                    "title": "BEAR GRACELAND",
                                    "length": "160",
                                    "movie_length": "extra long movie"
                                },
                                {
                                    "title": "BEAST HUNCHBACK",
                                    "length": "89",
                                    "movie_length": "normal movie"
                                },
                                {
                                    "title": "BEAUTY GREASE",
                                    "length": "175",
                                    "movie_length": "extra long movie"
                                },
                                {
                                    "title": "BED HIGHBALL",
                                    "length": "106",
                                    "movie_length": "long movie"
                                },
                                {
                                    "title": "BEDAZZLED MARRIED",
                                    "length": "73",
                                    "movie_length": "normal movie"
                                },
                                {
                                    "title": "BEETHOVEN EXORCIST",
                                    "length": "151",
                                    "movie_length": "extra long movie"
                                },
                                {
                                    "title": "BEHAVIOR RUNAWAY",
                                    "length": "100",
                                    "movie_length": "long movie"
                                },
                                {
                                    "title": "BENEATH RUSH",
                                    "length": "53",
                                    "movie_length": "short movie"
                                },
                                {
                                    "title": "BERETS AGENT",
                                    "length": "77",
                                    "movie_length": "normal movie"
                                },
                                {
                                    "title": "BETRAYED REAR",
                                    "length": "122",
                                    "movie_length": "extra long movie"
                                },
                                {
                                    "title": "BEVERLY OUTLAW",
                                    "length": "85",
                                    "movie_length": "normal movie"
                                },
                                {
                                    "title": "BIKINI BORROWERS",
                                    "length": "142",
                                    "movie_length": "extra long movie"
                                },
                                {
                                    "title": "BILKO ANONYMOUS",
                                    "length": "100",
                                    "movie_length": "long movie"
                                },
                                {
                                    "title": "BILL OTHERS",
                                    "length": "93",
                                    "movie_length": "long movie"
                                },
                                {
                                    "title": "BINGO TALENTED",
                                    "length": "150",
                                    "movie_length": "extra long movie"
                                },
                                {
                                    "title": "BIRCH ANTITRUST",
                                    "length": "162",
                                    "movie_length": "extra long movie"
                                },
                                {
                                    "title": "BIRD INDEPENDENCE",
                                    "length": "163",
                                    "movie_length": "extra long movie"
                                },
                                {
                                    "title": "BIRDCAGE CASPER",
                                    "length": "103",
                                    "movie_length": "long movie"
                                },
                                {
                                    "title": "BIRDS PERDITION",
                                    "length": "61",
                                    "movie_length": "normal movie"
                                },
                                {
                                    "title": "BLACKOUT PRIVATE",
                                    "length": "85",
                                    "movie_length": "normal movie"
                                },
                                {
                                    "title": "BLADE POLISH",
                                    "length": "114",
                                    "movie_length": "long movie"
                                },
                                {
                                    "title": "BLANKET BEVERLY",
                                    "length": "148",
                                    "movie_length": "extra long movie"
                                },
                                {
                                    "title": "BLINDNESS GUN",
                                    "length": "103",
                                    "movie_length": "long movie"
                                },
                                {
                                    "title": "BLOOD ARGONAUTS",
                                    "length": "71",
                                    "movie_length": "normal movie"
                                },
                                {
                                    "title": "BLUES INSTINCT",
                                    "length": "50",
                                    "movie_length": "short movie"
                                },
                                {
                                    "title": "BOILED DARES",
                                    "length": "102",
                                    "movie_length": "long movie"
                                },
                                {
                                    "title": "BONNIE HOLOCAUST",
                                    "length": "63",
                                    "movie_length": "normal movie"
                                },
                                {
                                    "title": "BOOGIE AMELIE",
                                    "length": "121",
                                    "movie_length": "extra long movie"
                                },
                                {
                                    "title": "BOONDOCK BALLROOM",
                                    "length": "76",
                                    "movie_length": "normal movie"
                                },
                                {
                                    "title": "BORN SPINAL",
                                    "length": "179",
                                    "movie_length": "extra long movie"
                                },
                                {
                                    "title": "BORROWERS BEDAZZLED",
                                    "length": "63",
                                    "movie_length": "normal movie"
                                },
                                {
                                    "title": "BOULEVARD MOB",
                                    "length": "63",
                                    "movie_length": "normal movie"
                                },
                                {
                                    "title": "BOUND CHEAPER",
                                    "length": "98",
                                    "movie_length": "long movie"
                                },
                                {
                                    "title": "BOWFINGER GABLES",
                                    "length": "72",
                                    "movie_length": "normal movie"
                                },
                                {
                                    "title": "BRANNIGAN SUNRISE",
                                    "length": "121",
                                    "movie_length": "extra long movie"
                                },
                                {
                                    "title": "BRAVEHEART HUMAN",
                                    "length": "176",
                                    "movie_length": "extra long movie"
                                },
                                {
                                    "title": "BREAKFAST GOLDFINGER",
                                    "length": "123",
                                    "movie_length": "extra long movie"
                                },
                                {
                                    "title": "BREAKING HOME",
                                    "length": "169",
                                    "movie_length": "extra long movie"
                                },
                                {
                                    "title": "BRIDE INTRIGUE",
                                    "length": "56",
                                    "movie_length": "short movie"
                                },
                                {
                                    "title": "BRIGHT ENCOUNTERS",
                                    "length": "73",
                                    "movie_length": "normal movie"
                                },
                                {
                                    "title": "BRINGING HYSTERICAL",
                                    "length": "136",
                                    "movie_length": "extra long movie"
                                },
                                {
                                    "title": "BROOKLYN DESERT",
                                    "length": "161",
                                    "movie_length": "extra long movie"
                                },
                                {
                                    "title": "BROTHERHOOD BLANKET",
                                    "length": "73",
                                    "movie_length": "normal movie"
                                },
                                {
                                    "title": "BUBBLE GROSSE",
                                    "length": "60",
                                    "movie_length": "short movie"
                                },
                                {
                                    "title": "BUCKET BROTHERHOOD",
                                    "length": "133",
                                    "movie_length": "extra long movie"
                                },
                                {
                                    "title": "BUGSY SONG",
                                    "length": "119",
                                    "movie_length": "long movie"
                                },
                                {
                                    "title": "BULL SHAWSHANK",
                                    "length": "125",
                                    "movie_length": "extra long movie"
                                },
                                {
                                    "title": "BULWORTH COMMANDMENTS",
                                    "length": "61",
                                    "movie_length": "normal movie"
                                },
                                {
                                    "title": "BUNCH MINDS",
                                    "length": "63",
                                    "movie_length": "normal movie"
                                },
                                {
                                    "title": "BUTCH PANTHER",
                                    "length": "67",
                                    "movie_length": "normal movie"
                                },
                                {
                                    "title": "BUTTERFLY CHOCOLAT",
                                    "length": "89",
                                    "movie_length": "normal movie"
                                },
                                {
                                    "title": "CABIN FLASH",
                                    "length": "53",
                                    "movie_length": "short movie"
                                },
                                {
                                    "title": "CADDYSHACK JEDI",
                                    "length": "52",
                                    "movie_length": "short movie"
                                },
                                {
                                    "title": "CALENDAR GUNFIGHT",
                                    "length": "120",
                                    "movie_length": "long movie"
                                },
                                {
                                    "title": "CALIFORNIA BIRDS",
                                    "length": "75",
                                    "movie_length": "normal movie"
                                },
                                {
                                    "title": "CAMELOT VACATION",
                                    "length": "61",
                                    "movie_length": "normal movie"
                                },
                                {
                                    "title": "CAMPUS REMEMBER",
                                    "length": "167",
                                    "movie_length": "extra long movie"
                                },
                                {
                                    "title": "CANDIDATE PERDITION",
                                    "length": "70",
                                    "movie_length": "normal movie"
                                },
                                {
                                    "title": "CANDLES GRAPES",
                                    "length": "135",
                                    "movie_length": "extra long movie"
                                },
                                {
                                    "title": "CANYON STOCK",
                                    "length": "85",
                                    "movie_length": "normal movie"
                                },
                                {
                                    "title": "CAPER MOTIONS",
                                    "length": "176",
                                    "movie_length": "extra long movie"
                                },
                                {
                                    "title": "CARIBBEAN LIBERTY",
                                    "length": "92",
                                    "movie_length": "long movie"
                                },
                                {
                                    "title": "CAROL TEXAS",
                                    "length": "151",
                                    "movie_length": "extra long movie"
                                },
                                {
                                    "title": "CARRIE BUNCH",
                                    "length": "114",
                                    "movie_length": "long movie"
                                },
                                {
                                    "title": "CASABLANCA SUPER",
                                    "length": "85",
                                    "movie_length": "normal movie"
                                },
                                {
                                    "title": "CASPER DRAGONFLY",
                                    "length": "163",
                                    "movie_length": "extra long movie"
                                },
                                {
                                    "title": "CASSIDY WYOMING",
                                    "length": "61",
                                    "movie_length": "normal movie"
                                },
                                {
                                    "title": "CASUALTIES ENCINO",
                                    "length": "179",
                                    "movie_length": "extra long movie"
                                },
                                {
                                    "title": "CAT CONEHEADS",
                                    "length": "112",
                                    "movie_length": "long movie"
                                },
                                {
                                    "title": "CATCH AMISTAD",
                                    "length": "183",
                                    "movie_length": "extra long movie"
                                },
                                {
                                    "title": "CAUSE DATE",
                                    "length": "179",
                                    "movie_length": "extra long movie"
                                },
                                {
                                    "title": "CELEBRITY HORN",
                                    "length": "110",
                                    "movie_length": "long movie"
                                },
                                {
                                    "title": "CENTER DINOSAUR",
                                    "length": "152",
                                    "movie_length": "extra long movie"
                                },
                                {
                                    "title": "CHAINSAW UPTOWN",
                                    "length": "114",
                                    "movie_length": "long movie"
                                },
                                {
                                    "title": "CHAMBER ITALIAN",
                                    "length": "117",
                                    "movie_length": "long movie"
                                },
                                {
                                    "title": "CHAMPION FLATLINERS",
                                    "length": "51",
                                    "movie_length": "short movie"
                                },
                                {
                                    "title": "CHANCE RESURRECTION",
                                    "length": "70",
                                    "movie_length": "normal movie"
                                },
                                {
                                    "title": "CHAPLIN LICENSE",
                                    "length": "146",
                                    "movie_length": "extra long movie"
                                },
                                {
                                    "title": "CHARADE DUFFEL",
                                    "length": "66",
                                    "movie_length": "normal movie"
                                },
                                {
                                    "title": "CHARIOTS CONSPIRACY",
                                    "length": "71",
                                    "movie_length": "normal movie"
                                },
                                {
                                    "title": "CHASING FIGHT",
                                    "length": "114",
                                    "movie_length": "long movie"
                                },
                                {
                                    "title": "CHEAPER CLYDE",
                                    "length": "87",
                                    "movie_length": "normal movie"
                                },
                                {
                                    "title": "CHICAGO NORTH",
                                    "length": "185",
                                    "movie_length": "extra long movie"
                                },
                                {
                                    "title": "CHICKEN HELLFIGHTERS",
                                    "length": "122",
                                    "movie_length": "extra long movie"
                                },
                                {
                                    "title": "CHILL LUCK",
                                    "length": "142",
                                    "movie_length": "extra long movie"
                                },
                                {
                                    "title": "CHINATOWN GLADIATOR",
                                    "length": "61",
                                    "movie_length": "normal movie"
                                },
                                {
                                    "title": "CHISUM BEHAVIOR",
                                    "length": "124",
                                    "movie_length": "extra long movie"
                                },
                                {
                                    "title": "CHITTY LOCK",
                                    "length": "107",
                                    "movie_length": "long movie"
                                },
                                {
                                    "title": "CHOCOLAT HARRY",
                                    "length": "101",
                                    "movie_length": "long movie"
                                },
                                {
                                    "title": "CHOCOLATE DUCK",
                                    "length": "132",
                                    "movie_length": "extra long movie"
                                },
                                {
                                    "title": "CHRISTMAS MOONSHINE",
                                    "length": "150",
                                    "movie_length": "extra long movie"
                                },
                                {
                                    "title": "CIDER DESIRE",
                                    "length": "101",
                                    "movie_length": "long movie"
                                },
                                {
                                    "title": "CINCINATTI WHISPERER",
                                    "length": "143",
                                    "movie_length": "extra long movie"
                                },
                                {
                                    "title": "CIRCUS YOUTH",
                                    "length": "90",
                                    "movie_length": "normal movie"
                                },
                                {
                                    "title": "CITIZEN SHREK",
                                    "length": "165",
                                    "movie_length": "extra long movie"
                                },
                                {
                                    "title": "CLASH FREDDY",
                                    "length": "81",
                                    "movie_length": "normal movie"
                                },
                                {
                                    "title": "CLEOPATRA DEVIL",
                                    "length": "150",
                                    "movie_length": "extra long movie"
                                },
                                {
                                    "title": "CLERKS ANGELS",
                                    "length": "164",
                                    "movie_length": "extra long movie"
                                },
                                {
                                    "title": "CLOCKWORK PARADISE",
                                    "length": "143",
                                    "movie_length": "extra long movie"
                                },
                                {
                                    "title": "CLONES PINOCCHIO",
                                    "length": "124",
                                    "movie_length": "extra long movie"
                                },
                                {
                                    "title": "CLOSER BANG",
                                    "length": "58",
                                    "movie_length": "short movie"
                                },
                                {
                                    "title": "CLUB GRAFFITI",
                                    "length": "65",
                                    "movie_length": "normal movie"
                                },
                                {
                                    "title": "CLUE GRAIL",
                                    "length": "70",
                                    "movie_length": "normal movie"
                                },
                                {
                                    "title": "CLUELESS BUCKET",
                                    "length": "95",
                                    "movie_length": "long movie"
                                },
                                {
                                    "title": "CLYDE THEORY",
                                    "length": "139",
                                    "movie_length": "extra long movie"
                                },
                                {
                                    "title": "COAST RAINBOW",
                                    "length": "55",
                                    "movie_length": "short movie"
                                },
                                {
                                    "title": "COLDBLOODED DARLING",
                                    "length": "70",
                                    "movie_length": "normal movie"
                                },
                                {
                                    "title": "COLOR PHILADELPHIA",
                                    "length": "149",
                                    "movie_length": "extra long movie"
                                },
                                {
                                    "title": "COMA HEAD",
                                    "length": "109",
                                    "movie_length": "long movie"
                                },
                                {
                                    "title": "COMANCHEROS ENEMY",
                                    "length": "67",
                                    "movie_length": "normal movie"
                                },
                                {
                                    "title": "COMFORTS RUSH",
                                    "length": "76",
                                    "movie_length": "normal movie"
                                },
                                {
                                    "title": "COMMAND DARLING",
                                    "length": "120",
                                    "movie_length": "long movie"
                                },
                                {
                                    "title": "COMMANDMENTS EXPRESS",
                                    "length": "59",
                                    "movie_length": "short movie"
                                },
                                {
                                    "title": "CONEHEADS SMOOCHY",
                                    "length": "112",
                                    "movie_length": "long movie"
                                },
                                {
                                    "title": "CONFESSIONS MAGUIRE",
                                    "length": "65",
                                    "movie_length": "normal movie"
                                },
                                {
                                    "title": "CONFIDENTIAL INTERVIEW",
                                    "length": "180",
                                    "movie_length": "extra long movie"
                                },
                                {
                                    "title": "CONFUSED CANDLES",
                                    "length": "122",
                                    "movie_length": "extra long movie"
                                },
                                {
                                    "title": "CONGENIALITY QUEST",
                                    "length": "87",
                                    "movie_length": "normal movie"
                                },
                                {
                                    "title": "CONNECTICUT TRAMP",
                                    "length": "172",
                                    "movie_length": "extra long movie"
                                },
                                {
                                    "title": "CONNECTION MICROCOSMOS",
                                    "length": "115",
                                    "movie_length": "long movie"
                                },
                                {
                                    "title": "CONQUERER NUTS",
                                    "length": "173",
                                    "movie_length": "extra long movie"
                                },
                                {
                                    "title": "CONSPIRACY SPIRIT",
                                    "length": "184",
                                    "movie_length": "extra long movie"
                                },
                                {
                                    "title": "CONTACT ANONYMOUS",
                                    "length": "166",
                                    "movie_length": "extra long movie"
                                },
                                {
                                    "title": "CONTROL ANTHEM",
                                    "length": "185",
                                    "movie_length": "extra long movie"
                                },
                                {
                                    "title": "CONVERSATION DOWNHILL",
                                    "length": "112",
                                    "movie_length": "long movie"
                                },
                                {
                                    "title": "CORE SUIT",
                                    "length": "92",
                                    "movie_length": "long movie"
                                },
                                {
                                    "title": "COWBOY DOOM",
                                    "length": "146",
                                    "movie_length": "extra long movie"
                                },
                                {
                                    "title": "CRAFT OUTFIELD",
                                    "length": "64",
                                    "movie_length": "normal movie"
                                },
                                {
                                    "title": "CRANES RESERVOIR",
                                    "length": "57",
                                    "movie_length": "short movie"
                                },
                                {
                                    "title": "CRAZY HOME",
                                    "length": "136",
                                    "movie_length": "extra long movie"
                                },
                                {
                                    "title": "CREATURES SHAKESPEARE",
                                    "length": "139",
                                    "movie_length": "extra long movie"
                                },
                                {
                                    "title": "CREEPERS KANE",
                                    "length": "172",
                                    "movie_length": "extra long movie"
                                },
                                {
                                    "title": "CROOKED FROGMEN",
                                    "length": "143",
                                    "movie_length": "extra long movie"
                                },
                                {
                                    "title": "CROSSING DIVORCE",
                                    "length": "50",
                                    "movie_length": "short movie"
                                },
                                {
                                    "title": "CROSSROADS CASUALTIES",
                                    "length": "153",
                                    "movie_length": "extra long movie"
                                },
                                {
                                    "title": "CROW GREASE",
                                    "length": "104",
                                    "movie_length": "long movie"
                                },
                                {
                                    "title": "CROWDS TELEMARK",
                                    "length": "112",
                                    "movie_length": "long movie"
                                },
                                {
                                    "title": "CRUELTY UNFORGIVEN",
                                    "length": "69",
                                    "movie_length": "normal movie"
                                },
                                {
                                    "title": "CRUSADE HONEY",
                                    "length": "112",
                                    "movie_length": "long movie"
                                },
                                {
                                    "title": "CRYSTAL BREAKING",
                                    "length": "184",
                                    "movie_length": "extra long movie"
                                },
                                {
                                    "title": "CUPBOARD SINNERS",
                                    "length": "56",
                                    "movie_length": "short movie"
                                },
                                {
                                    "title": "CURTAIN VIDEOTAPE",
                                    "length": "133",
                                    "movie_length": "extra long movie"
                                },
                                {
                                    "title": "CYCLONE FAMILY",
                                    "length": "176",
                                    "movie_length": "extra long movie"
                                },
                                {
                                    "title": "DADDY PITTSBURGH",
                                    "length": "161",
                                    "movie_length": "extra long movie"
                                },
                                {
                                    "title": "DAISY MENAGERIE",
                                    "length": "84",
                                    "movie_length": "normal movie"
                                },
                                {
                                    "title": "DALMATIONS SWEDEN",
                                    "length": "106",
                                    "movie_length": "long movie"
                                },
                                {
                                    "title": "DANCES NONE",
                                    "length": "58",
                                    "movie_length": "short movie"
                                },
                                {
                                    "title": "DANCING FEVER",
                                    "length": "144",
                                    "movie_length": "extra long movie"
                                },
                                {
                                    "title": "DANGEROUS UPTOWN",
                                    "length": "121",
                                    "movie_length": "extra long movie"
                                },
                                {
                                    "title": "DARES PLUTO",
                                    "length": "89",
                                    "movie_length": "normal movie"
                                },
                                {
                                    "title": "DARKNESS WAR",
                                    "length": "99",
                                    "movie_length": "long movie"
                                },
                                {
                                    "title": "DARKO DORADO",
                                    "length": "130",
                                    "movie_length": "extra long movie"
                                },
                                {
                                    "title": "DARLING BREAKING",
                                    "length": "165",
                                    "movie_length": "extra long movie"
                                },
                                {
                                    "title": "DARN FORRESTER",
                                    "length": "185",
                                    "movie_length": "extra long movie"
                                },
                                {
                                    "title": "DATE SPEED",
                                    "length": "104",
                                    "movie_length": "long movie"
                                },
                                {
                                    "title": "DAUGHTER MADIGAN",
                                    "length": "59",
                                    "movie_length": "short movie"
                                },
                                {
                                    "title": "DAWN POND",
                                    "length": "57",
                                    "movie_length": "short movie"
                                },
                                {
                                    "title": "DAY UNFAITHFUL",
                                    "length": "113",
                                    "movie_length": "long movie"
                                },
                                {
                                    "title": "DAZED PUNK",
                                    "length": "120",
                                    "movie_length": "long movie"
                                },
                                {
                                    "title": "DECEIVER BETRAYED",
                                    "length": "122",
                                    "movie_length": "extra long movie"
                                },
                                {
                                    "title": "DEEP CRUSADE",
                                    "length": "51",
                                    "movie_length": "short movie"
                                },
                                {
                                    "title": "DEER VIRGINIAN",
                                    "length": "106",
                                    "movie_length": "long movie"
                                },
                                {
                                    "title": "DELIVERANCE MULHOLLAND",
                                    "length": "100",
                                    "movie_length": "long movie"
                                },
                                {
                                    "title": "DESERT POSEIDON",
                                    "length": "64",
                                    "movie_length": "normal movie"
                                },
                                {
                                    "title": "DESIRE ALIEN",
                                    "length": "76",
                                    "movie_length": "normal movie"
                                },
                                {
                                    "title": "DESPERATE TRAINSPOTTING",
                                    "length": "81",
                                    "movie_length": "normal movie"
                                },
                                {
                                    "title": "DESTINATION JERK",
                                    "length": "76",
                                    "movie_length": "normal movie"
                                },
                                {
                                    "title": "DESTINY SATURDAY",
                                    "length": "56",
                                    "movie_length": "short movie"
                                },
                                {
                                    "title": "DETAILS PACKER",
                                    "length": "88",
                                    "movie_length": "normal movie"
                                },
                                {
                                    "title": "DETECTIVE VISION",
                                    "length": "143",
                                    "movie_length": "extra long movie"
                                },
                                {
                                    "title": "DEVIL DESIRE",
                                    "length": "87",
                                    "movie_length": "normal movie"
                                },
                                {
                                    "title": "DIARY PANIC",
                                    "length": "107",
                                    "movie_length": "long movie"
                                },
                                {
                                    "title": "DINOSAUR SECRETARY",
                                    "length": "63",
                                    "movie_length": "normal movie"
                                },
                                {
                                    "title": "DIRTY ACE",
                                    "length": "147",
                                    "movie_length": "extra long movie"
                                },
                                {
                                    "title": "DISCIPLE MOTHER",
                                    "length": "141",
                                    "movie_length": "extra long movie"
                                },
                                {
                                    "title": "DISTURBING SCARFACE",
                                    "length": "94",
                                    "movie_length": "long movie"
                                },
                                {
                                    "title": "DIVIDE MONSTER",
                                    "length": "68",
                                    "movie_length": "normal movie"
                                },
                                {
                                    "title": "DIVINE RESURRECTION",
                                    "length": "100",
                                    "movie_length": "long movie"
                                },
                                {
                                    "title": "DIVORCE SHINING",
                                    "length": "47",
                                    "movie_length": "short movie"
                                },
                                {
                                    "title": "DOCTOR GRAIL",
                                    "length": "57",
                                    "movie_length": "short movie"
                                },
                                {
                                    "title": "DOGMA FAMILY",
                                    "length": "122",
                                    "movie_length": "extra long movie"
                                },
                                {
                                    "title": "DOLLS RAGE",
                                    "length": "120",
                                    "movie_length": "long movie"
                                },
                                {
                                    "title": "DONNIE ALLEY",
                                    "length": "125",
                                    "movie_length": "extra long movie"
                                },
                                {
                                    "title": "DOOM DANCING",
                                    "length": "68",
                                    "movie_length": "normal movie"
                                },
                                {
                                    "title": "DOORS PRESIDENT",
                                    "length": "49",
                                    "movie_length": "short movie"
                                },
                                {
                                    "title": "DORADO NOTTING",
                                    "length": "139",
                                    "movie_length": "extra long movie"
                                },
                                {
                                    "title": "DOUBLE WRATH",
                                    "length": "177",
                                    "movie_length": "extra long movie"
                                },
                                {
                                    "title": "DOUBTFIRE LABYRINTH",
                                    "length": "154",
                                    "movie_length": "extra long movie"
                                },
                                {
                                    "title": "DOWNHILL ENOUGH",
                                    "length": "47",
                                    "movie_length": "short movie"
                                },
                                {
                                    "title": "DOZEN LION",
                                    "length": "177",
                                    "movie_length": "extra long movie"
                                },
                                {
                                    "title": "DRACULA CRYSTAL",
                                    "length": "176",
                                    "movie_length": "extra long movie"
                                },
                                {
                                    "title": "DRAGON SQUAD",
                                    "length": "170",
                                    "movie_length": "extra long movie"
                                },
                                {
                                    "title": "DRAGONFLY STRANGERS",
                                    "length": "133",
                                    "movie_length": "extra long movie"
                                },
                                {
                                    "title": "DREAM PICKUP",
                                    "length": "135",
                                    "movie_length": "extra long movie"
                                },
                                {
                                    "title": "DRIFTER COMMANDMENTS",
                                    "length": "61",
                                    "movie_length": "normal movie"
                                },
                                {
                                    "title": "DRIVER ANNIE",
                                    "length": "159",
                                    "movie_length": "extra long movie"
                                },
                                {
                                    "title": "DRIVING POLISH",
                                    "length": "175",
                                    "movie_length": "extra long movie"
                                },
                                {
                                    "title": "DROP WATERFRONT",
                                    "length": "178",
                                    "movie_length": "extra long movie"
                                },
                                {
                                    "title": "DRUMLINE CYCLONE",
                                    "length": "110",
                                    "movie_length": "long movie"
                                },
                                {
                                    "title": "DRUMS DYNAMITE",
                                    "length": "96",
                                    "movie_length": "long movie"
                                },
                                {
                                    "title": "DUCK RACER",
                                    "length": "116",
                                    "movie_length": "long movie"
                                },
                                {
                                    "title": "DUDE BLINDNESS",
                                    "length": "132",
                                    "movie_length": "extra long movie"
                                },
                                {
                                    "title": "DUFFEL APOCALYPSE",
                                    "length": "171",
                                    "movie_length": "extra long movie"
                                },
                                {
                                    "title": "DUMBO LUST",
                                    "length": "119",
                                    "movie_length": "long movie"
                                },
                                {
                                    "title": "DURHAM PANKY",
                                    "length": "154",
                                    "movie_length": "extra long movie"
                                },
                                {
                                    "title": "DWARFS ALTER",
                                    "length": "101",
                                    "movie_length": "long movie"
                                },
                                {
                                    "title": "DYING MAKER",
                                    "length": "168",
                                    "movie_length": "extra long movie"
                                },
                                {
                                    "title": "DYNAMITE TARZAN",
                                    "length": "141",
                                    "movie_length": "extra long movie"
                                },
                                {
                                    "title": "EAGLES PANKY",
                                    "length": "140",
                                    "movie_length": "extra long movie"
                                },
                                {
                                    "title": "EARLY HOME",
                                    "length": "96",
                                    "movie_length": "long movie"
                                },
                                {
                                    "title": "EARRING INSTINCT",
                                    "length": "98",
                                    "movie_length": "long movie"
                                },
                                {
                                    "title": "EARTH VISION",
                                    "length": "85",
                                    "movie_length": "normal movie"
                                },
                                {
                                    "title": "EASY GLADIATOR",
                                    "length": "148",
                                    "movie_length": "extra long movie"
                                },
                                {
                                    "title": "EDGE KISSING",
                                    "length": "153",
                                    "movie_length": "extra long movie"
                                },
                                {
                                    "title": "EFFECT GLADIATOR",
                                    "length": "107",
                                    "movie_length": "long movie"
                                },
                                {
                                    "title": "EGG IGBY",
                                    "length": "67",
                                    "movie_length": "normal movie"
                                },
                                {
                                    "title": "EGYPT TENENBAUMS",
                                    "length": "85",
                                    "movie_length": "normal movie"
                                },
                                {
                                    "title": "ELEMENT FREDDY",
                                    "length": "115",
                                    "movie_length": "long movie"
                                },
                                {
                                    "title": "ELEPHANT TROJAN",
                                    "length": "126",
                                    "movie_length": "extra long movie"
                                },
                                {
                                    "title": "ELF MURDER",
                                    "length": "155",
                                    "movie_length": "extra long movie"
                                },
                                {
                                    "title": "ELIZABETH SHANE",
                                    "length": "152",
                                    "movie_length": "extra long movie"
                                },
                                {
                                    "title": "EMPIRE MALKOVICH",
                                    "length": "177",
                                    "movie_length": "extra long movie"
                                },
                                {
                                    "title": "ENCINO ELF",
                                    "length": "143",
                                    "movie_length": "extra long movie"
                                },
                                {
                                    "title": "ENCOUNTERS CURTAIN",
                                    "length": "92",
                                    "movie_length": "long movie"
                                },
                                {
                                    "title": "ENDING CROWDS",
                                    "length": "85",
                                    "movie_length": "normal movie"
                                },
                                {
                                    "title": "ENEMY ODDS",
                                    "length": "77",
                                    "movie_length": "normal movie"
                                },
                                {
                                    "title": "ENGLISH BULWORTH",
                                    "length": "51",
                                    "movie_length": "short movie"
                                },
                                {
                                    "title": "ENOUGH RAGING",
                                    "length": "158",
                                    "movie_length": "extra long movie"
                                },
                                {
                                    "title": "ENTRAPMENT SATISFACTION",
                                    "length": "176",
                                    "movie_length": "extra long movie"
                                },
                                {
                                    "title": "ESCAPE METROPOLIS",
                                    "length": "167",
                                    "movie_length": "extra long movie"
                                },
                                {
                                    "title": "EVE RESURRECTION",
                                    "length": "66",
                                    "movie_length": "normal movie"
                                },
                                {
                                    "title": "EVERYONE CRAFT",
                                    "length": "163",
                                    "movie_length": "extra long movie"
                                },
                                {
                                    "title": "EVOLUTION ALTER",
                                    "length": "174",
                                    "movie_length": "extra long movie"
                                },
                                {
                                    "title": "EXCITEMENT EVE",
                                    "length": "51",
                                    "movie_length": "short movie"
                                },
                                {
                                    "title": "EXORCIST STING",
                                    "length": "167",
                                    "movie_length": "extra long movie"
                                },
                                {
                                    "title": "EXPECATIONS NATURAL",
                                    "length": "138",
                                    "movie_length": "extra long movie"
                                },
                                {
                                    "title": "EXPENDABLE STALLION",
                                    "length": "97",
                                    "movie_length": "long movie"
                                },
                                {
                                    "title": "EXPRESS LONELY",
                                    "length": "178",
                                    "movie_length": "extra long movie"
                                },
                                {
                                    "title": "EXTRAORDINARY CONQUERER",
                                    "length": "122",
                                    "movie_length": "extra long movie"
                                },
                                {
                                    "title": "EYES DRIVING",
                                    "length": "172",
                                    "movie_length": "extra long movie"
                                },
                                {
                                    "title": "FACTORY DRAGON",
                                    "length": "144",
                                    "movie_length": "extra long movie"
                                },
                                {
                                    "title": "FALCON VOLUME",
                                    "length": "102",
                                    "movie_length": "long movie"
                                },
                                {
                                    "title": "FAMILY SWEET",
                                    "length": "155",
                                    "movie_length": "extra long movie"
                                },
                                {
                                    "title": "FANTASIA PARK",
                                    "length": "131",
                                    "movie_length": "extra long movie"
                                },
                                {
                                    "title": "FANTASY TROOPERS",
                                    "length": "58",
                                    "movie_length": "short movie"
                                },
                                {
                                    "title": "FARGO GANDHI",
                                    "length": "130",
                                    "movie_length": "extra long movie"
                                },
                                {
                                    "title": "FATAL HAUNTED",
                                    "length": "91",
                                    "movie_length": "long movie"
                                },
                                {
                                    "title": "FEATHERS METAL",
                                    "length": "104",
                                    "movie_length": "long movie"
                                },
                                {
                                    "title": "FELLOWSHIP AUTUMN",
                                    "length": "77",
                                    "movie_length": "normal movie"
                                },
                                {
                                    "title": "FERRIS MOTHER",
                                    "length": "142",
                                    "movie_length": "extra long movie"
                                },
                                {
                                    "title": "FEUD FROGMEN",
                                    "length": "98",
                                    "movie_length": "long movie"
                                },
                                {
                                    "title": "FEVER EMPIRE",
                                    "length": "158",
                                    "movie_length": "extra long movie"
                                },
                                {
                                    "title": "FICTION CHRISTMAS",
                                    "length": "72",
                                    "movie_length": "normal movie"
                                },
                                {
                                    "title": "FIDDLER LOST",
                                    "length": "75",
                                    "movie_length": "normal movie"
                                },
                                {
                                    "title": "FIDELITY DEVIL",
                                    "length": "118",
                                    "movie_length": "long movie"
                                },
                                {
                                    "title": "FIGHT JAWBREAKER",
                                    "length": "91",
                                    "movie_length": "long movie"
                                },
                                {
                                    "title": "FINDING ANACONDA",
                                    "length": "156",
                                    "movie_length": "extra long movie"
                                },
                                {
                                    "title": "FIRE WOLVES",
                                    "length": "173",
                                    "movie_length": "extra long movie"
                                },
                                {
                                    "title": "FIREBALL PHILADELPHIA",
                                    "length": "148",
                                    "movie_length": "extra long movie"
                                },
                                {
                                    "title": "FIREHOUSE VIETNAM",
                                    "length": "103",
                                    "movie_length": "long movie"
                                },
                                {
                                    "title": "FISH OPUS",
                                    "length": "125",
                                    "movie_length": "extra long movie"
                                },
                                {
                                    "title": "FLAMINGOS CONNECTICUT",
                                    "length": "80",
                                    "movie_length": "normal movie"
                                },
                                {
                                    "title": "FLASH WARS",
                                    "length": "123",
                                    "movie_length": "extra long movie"
                                },
                                {
                                    "title": "FLATLINERS KILLER",
                                    "length": "100",
                                    "movie_length": "long movie"
                                },
                                {
                                    "title": "FLIGHT LIES",
                                    "length": "179",
                                    "movie_length": "extra long movie"
                                },
                                {
                                    "title": "FLINTSTONES HAPPINESS",
                                    "length": "148",
                                    "movie_length": "extra long movie"
                                },
                                {
                                    "title": "FLOATS GARDEN",
                                    "length": "145",
                                    "movie_length": "extra long movie"
                                },
                                {
                                    "title": "FLYING HOOK",
                                    "length": "69",
                                    "movie_length": "normal movie"
                                },
                                {
                                    "title": "FOOL MOCKINGBIRD",
                                    "length": "158",
                                    "movie_length": "extra long movie"
                                },
                                {
                                    "title": "FOREVER CANDIDATE",
                                    "length": "131",
                                    "movie_length": "extra long movie"
                                },
                                {
                                    "title": "FORREST SONS",
                                    "length": "63",
                                    "movie_length": "normal movie"
                                },
                                {
                                    "title": "FORRESTER COMANCHEROS",
                                    "length": "112",
                                    "movie_length": "long movie"
                                },
                                {
                                    "title": "FORWARD TEMPLE",
                                    "length": "90",
                                    "movie_length": "normal movie"
                                },
                                {
                                    "title": "FRANKENSTEIN STRANGER",
                                    "length": "159",
                                    "movie_length": "extra long movie"
                                },
                                {
                                    "title": "FREAKY POCUS",
                                    "length": "126",
                                    "movie_length": "extra long movie"
                                },
                                {
                                    "title": "FREDDY STORM",
                                    "length": "65",
                                    "movie_length": "normal movie"
                                },
                                {
                                    "title": "FREEDOM CLEOPATRA",
                                    "length": "133",
                                    "movie_length": "extra long movie"
                                },
                                {
                                    "title": "FRENCH HOLIDAY",
                                    "length": "99",
                                    "movie_length": "long movie"
                                },
                                {
                                    "title": "FRIDA SLIPPER",
                                    "length": "73",
                                    "movie_length": "normal movie"
                                },
                                {
                                    "title": "FRISCO FORREST",
                                    "length": "51",
                                    "movie_length": "short movie"
                                },
                                {
                                    "title": "FROGMEN BREAKING",
                                    "length": "111",
                                    "movie_length": "long movie"
                                },
                                {
                                    "title": "FRONTIER CABIN",
                                    "length": "183",
                                    "movie_length": "extra long movie"
                                },
                                {
                                    "title": "FROST HEAD",
                                    "length": "82",
                                    "movie_length": "normal movie"
                                },
                                {
                                    "title": "FUGITIVE MAGUIRE",
                                    "length": "83",
                                    "movie_length": "normal movie"
                                },
                                {
                                    "title": "FULL FLATLINERS",
                                    "length": "94",
                                    "movie_length": "long movie"
                                },
                                {
                                    "title": "FURY MURDER",
                                    "length": "178",
                                    "movie_length": "extra long movie"
                                },
                                {
                                    "title": "GABLES METROPOLIS",
                                    "length": "161",
                                    "movie_length": "extra long movie"
                                },
                                {
                                    "title": "GALAXY SWEETHEARTS",
                                    "length": "128",
                                    "movie_length": "extra long movie"
                                },
                                {
                                    "title": "GAMES BOWFINGER",
                                    "length": "119",
                                    "movie_length": "long movie"
                                },
                                {
                                    "title": "GANDHI KWAI",
                                    "length": "86",
                                    "movie_length": "normal movie"
                                },
                                {
                                    "title": "GANGS PRIDE",
                                    "length": "185",
                                    "movie_length": "extra long movie"
                                },
                                {
                                    "title": "GARDEN ISLAND",
                                    "length": "80",
                                    "movie_length": "normal movie"
                                },
                                {
                                    "title": "GASLIGHT CRUSADE",
                                    "length": "106",
                                    "movie_length": "long movie"
                                },
                                {
                                    "title": "GATHERING CALENDAR",
                                    "length": "176",
                                    "movie_length": "extra long movie"
                                },
                                {
                                    "title": "GENTLEMEN STAGE",
                                    "length": "125",
                                    "movie_length": "extra long movie"
                                },
                                {
                                    "title": "GHOST GROUNDHOG",
                                    "length": "85",
                                    "movie_length": "normal movie"
                                },
                                {
                                    "title": "GHOSTBUSTERS ELF",
                                    "length": "101",
                                    "movie_length": "long movie"
                                },
                                {
                                    "title": "GIANT TROOPERS",
                                    "length": "102",
                                    "movie_length": "long movie"
                                },
                                {
                                    "title": "GILBERT PELICAN",
                                    "length": "114",
                                    "movie_length": "long movie"
                                },
                                {
                                    "title": "GILMORE BOILED",
                                    "length": "163",
                                    "movie_length": "extra long movie"
                                },
                                {
                                    "title": "GLADIATOR WESTWARD",
                                    "length": "173",
                                    "movie_length": "extra long movie"
                                },
                                {
                                    "title": "GLASS DYING",
                                    "length": "103",
                                    "movie_length": "long movie"
                                },
                                {
                                    "title": "GLEAMING JAWBREAKER",
                                    "length": "89",
                                    "movie_length": "normal movie"
                                },
                                {
                                    "title": "GLORY TRACY",
                                    "length": "115",
                                    "movie_length": "long movie"
                                },
                                {
                                    "title": "GO PURPLE",
                                    "length": "54",
                                    "movie_length": "short movie"
                                },
                                {
                                    "title": "GODFATHER DIARY",
                                    "length": "73",
                                    "movie_length": "normal movie"
                                },
                                {
                                    "title": "GOLD RIVER",
                                    "length": "154",
                                    "movie_length": "extra long movie"
                                },
                                {
                                    "title": "GOLDFINGER SENSIBILITY",
                                    "length": "93",
                                    "movie_length": "long movie"
                                },
                                {
                                    "title": "GOLDMINE TYCOON",
                                    "length": "153",
                                    "movie_length": "extra long movie"
                                },
                                {
                                    "title": "GONE TROUBLE",
                                    "length": "84",
                                    "movie_length": "normal movie"
                                },
                                {
                                    "title": "GOODFELLAS SALUTE",
                                    "length": "56",
                                    "movie_length": "short movie"
                                },
                                {
                                    "title": "GORGEOUS BINGO",
                                    "length": "108",
                                    "movie_length": "long movie"
                                },
                                {
                                    "title": "GOSFORD DONNIE",
                                    "length": "129",
                                    "movie_length": "extra long movie"
                                },
                                {
                                    "title": "GRACELAND DYNAMITE",
                                    "length": "140",
                                    "movie_length": "extra long movie"
                                },
                                {
                                    "title": "GRADUATE LORD",
                                    "length": "156",
                                    "movie_length": "extra long movie"
                                },
                                {
                                    "title": "GRAFFITI LOVE",
                                    "length": "117",
                                    "movie_length": "long movie"
                                },
                                {
                                    "title": "GRAIL FRANKENSTEIN",
                                    "length": "85",
                                    "movie_length": "normal movie"
                                },
                                {
                                    "title": "GRAPES FURY",
                                    "length": "155",
                                    "movie_length": "extra long movie"
                                },
                                {
                                    "title": "GREASE YOUTH",
                                    "length": "135",
                                    "movie_length": "extra long movie"
                                },
                                {
                                    "title": "GREATEST NORTH",
                                    "length": "93",
                                    "movie_length": "long movie"
                                },
                                {
                                    "title": "GREEDY ROOTS",
                                    "length": "166",
                                    "movie_length": "extra long movie"
                                },
                                {
                                    "title": "GREEK EVERYONE",
                                    "length": "176",
                                    "movie_length": "extra long movie"
                                },
                                {
                                    "title": "GRINCH MASSAGE",
                                    "length": "150",
                                    "movie_length": "extra long movie"
                                },
                                {
                                    "title": "GRIT CLOCKWORK",
                                    "length": "137",
                                    "movie_length": "extra long movie"
                                },
                                {
                                    "title": "GROOVE FICTION",
                                    "length": "111",
                                    "movie_length": "long movie"
                                },
                                {
                                    "title": "GROSSE WONDERFUL",
                                    "length": "49",
                                    "movie_length": "short movie"
                                },
                                {
                                    "title": "GROUNDHOG UNCUT",
                                    "length": "139",
                                    "movie_length": "extra long movie"
                                },
                                {
                                    "title": "GUMP DATE",
                                    "length": "53",
                                    "movie_length": "short movie"
                                },
                                {
                                    "title": "GUN BONNIE",
                                    "length": "100",
                                    "movie_length": "long movie"
                                },
                                {
                                    "title": "GUNFIGHT MOON",
                                    "length": "70",
                                    "movie_length": "normal movie"
                                },
                                {
                                    "title": "GUNFIGHTER MUSSOLINI",
                                    "length": "127",
                                    "movie_length": "extra long movie"
                                },
                                {
                                    "title": "GUYS FALCON",
                                    "length": "84",
                                    "movie_length": "normal movie"
                                },
                                {
                                    "title": "HALF OUTFIELD",
                                    "length": "146",
                                    "movie_length": "extra long movie"
                                },
                                {
                                    "title": "HALL CASSIDY",
                                    "length": "51",
                                    "movie_length": "short movie"
                                },
                                {
                                    "title": "HALLOWEEN NUTS",
                                    "length": "47",
                                    "movie_length": "short movie"
                                },
                                {
                                    "title": "HAMLET WISDOM",
                                    "length": "146",
                                    "movie_length": "extra long movie"
                                },
                                {
                                    "title": "HANDICAP BOONDOCK",
                                    "length": "108",
                                    "movie_length": "long movie"
                                },
                                {
                                    "title": "HANGING DEEP",
                                    "length": "62",
                                    "movie_length": "normal movie"
                                },
                                {
                                    "title": "HANKY OCTOBER",
                                    "length": "107",
                                    "movie_length": "long movie"
                                },
                                {
                                    "title": "HANOVER GALAXY",
                                    "length": "47",
                                    "movie_length": "short movie"
                                },
                                {
                                    "title": "HAPPINESS UNITED",
                                    "length": "100",
                                    "movie_length": "long movie"
                                },
                                {
                                    "title": "HARDLY ROBBERS",
                                    "length": "72",
                                    "movie_length": "normal movie"
                                },
                                {
                                    "title": "HAROLD FRENCH",
                                    "length": "168",
                                    "movie_length": "extra long movie"
                                },
                                {
                                    "title": "HARPER DYING",
                                    "length": "52",
                                    "movie_length": "short movie"
                                },
                                {
                                    "title": "HARRY IDAHO",
                                    "length": "121",
                                    "movie_length": "extra long movie"
                                },
                                {
                                    "title": "HATE HANDICAP",
                                    "length": "107",
                                    "movie_length": "long movie"
                                },
                                {
                                    "title": "HAUNTED ANTITRUST",
                                    "length": "76",
                                    "movie_length": "normal movie"
                                },
                                {
                                    "title": "HAUNTING PIANIST",
                                    "length": "181",
                                    "movie_length": "extra long movie"
                                },
                                {
                                    "title": "HAWK CHILL",
                                    "length": "47",
                                    "movie_length": "short movie"
                                },
                                {
                                    "title": "HEAD STRANGER",
                                    "length": "69",
                                    "movie_length": "normal movie"
                                },
                                {
                                    "title": "HEARTBREAKERS BRIGHT",
                                    "length": "59",
                                    "movie_length": "short movie"
                                },
                                {
                                    "title": "HEAVEN FREEDOM",
                                    "length": "48",
                                    "movie_length": "short movie"
                                },
                                {
                                    "title": "HEAVENLY GUN",
                                    "length": "49",
                                    "movie_length": "short movie"
                                },
                                {
                                    "title": "HEAVYWEIGHTS BEAST",
                                    "length": "102",
                                    "movie_length": "long movie"
                                },
                                {
                                    "title": "HEDWIG ALTER",
                                    "length": "169",
                                    "movie_length": "extra long movie"
                                },
                                {
                                    "title": "HELLFIGHTERS SIERRA",
                                    "length": "75",
                                    "movie_length": "normal movie"
                                },
                                {
                                    "title": "HIGH ENCINO",
                                    "length": "84",
                                    "movie_length": "normal movie"
                                },
                                {
                                    "title": "HIGHBALL POTTER",
                                    "length": "110",
                                    "movie_length": "long movie"
                                },
                                {
                                    "title": "HILLS NEIGHBORS",
                                    "length": "93",
                                    "movie_length": "long movie"
                                },
                                {
                                    "title": "HOBBIT ALIEN",
                                    "length": "157",
                                    "movie_length": "extra long movie"
                                },
                                {
                                    "title": "HOCUS FRIDA",
                                    "length": "141",
                                    "movie_length": "extra long movie"
                                },
                                {
                                    "title": "HOLES BRANNIGAN",
                                    "length": "128",
                                    "movie_length": "extra long movie"
                                },
                                {
                                    "title": "HOLIDAY GAMES",
                                    "length": "78",
                                    "movie_length": "normal movie"
                                },
                                {
                                    "title": "HOLLOW JEOPARDY",
                                    "length": "136",
                                    "movie_length": "extra long movie"
                                },
                                {
                                    "title": "HOLLYWOOD ANONYMOUS",
                                    "length": "69",
                                    "movie_length": "normal movie"
                                },
                                {
                                    "title": "HOLOCAUST HIGHBALL",
                                    "length": "149",
                                    "movie_length": "extra long movie"
                                },
                                {
                                    "title": "HOLY TADPOLE",
                                    "length": "88",
                                    "movie_length": "normal movie"
                                },
                                {
                                    "title": "HOME PITY",
                                    "length": "185",
                                    "movie_length": "extra long movie"
                                },
                                {
                                    "title": "HOMEWARD CIDER",
                                    "length": "103",
                                    "movie_length": "long movie"
                                },
                                {
                                    "title": "HOMICIDE PEACH",
                                    "length": "141",
                                    "movie_length": "extra long movie"
                                },
                                {
                                    "title": "HONEY TIES",
                                    "length": "84",
                                    "movie_length": "normal movie"
                                },
                                {
                                    "title": "HOOK CHARIOTS",
                                    "length": "49",
                                    "movie_length": "short movie"
                                },
                                {
                                    "title": "HOOSIERS BIRDCAGE",
                                    "length": "176",
                                    "movie_length": "extra long movie"
                                },
                                {
                                    "title": "HOPE TOOTSIE",
                                    "length": "139",
                                    "movie_length": "extra long movie"
                                },
                                {
                                    "title": "HORN WORKING",
                                    "length": "95",
                                    "movie_length": "long movie"
                                },
                                {
                                    "title": "HORROR REIGN",
                                    "length": "139",
                                    "movie_length": "extra long movie"
                                },
                                {
                                    "title": "HOTEL HAPPINESS",
                                    "length": "181",
                                    "movie_length": "extra long movie"
                                },
                                {
                                    "title": "HOURS RAGE",
                                    "length": "122",
                                    "movie_length": "extra long movie"
                                },
                                {
                                    "title": "HOUSE DYNAMITE",
                                    "length": "109",
                                    "movie_length": "long movie"
                                },
                                {
                                    "title": "HUMAN GRAFFITI",
                                    "length": "68",
                                    "movie_length": "normal movie"
                                },
                                {
                                    "title": "HUNCHBACK IMPOSSIBLE",
                                    "length": "151",
                                    "movie_length": "extra long movie"
                                },
                                {
                                    "title": "HUNGER ROOF",
                                    "length": "105",
                                    "movie_length": "long movie"
                                },
                                {
                                    "title": "HUNTER ALTER",
                                    "length": "125",
                                    "movie_length": "extra long movie"
                                },
                                {
                                    "title": "HUNTING MUSKETEERS",
                                    "length": "65",
                                    "movie_length": "normal movie"
                                },
                                {
                                    "title": "HURRICANE AFFAIR",
                                    "length": "49",
                                    "movie_length": "short movie"
                                },
                                {
                                    "title": "HUSTLER PARTY",
                                    "length": "83",
                                    "movie_length": "normal movie"
                                },
                                {
                                    "title": "HYDE DOCTOR",
                                    "length": "100",
                                    "movie_length": "long movie"
                                },
                                {
                                    "title": "HYSTERICAL GRAIL",
                                    "length": "150",
                                    "movie_length": "extra long movie"
                                },
                                {
                                    "title": "ICE CROSSING",
                                    "length": "131",
                                    "movie_length": "extra long movie"
                                },
                                {
                                    "title": "IDAHO LOVE",
                                    "length": "172",
                                    "movie_length": "extra long movie"
                                },
                                {
                                    "title": "IDENTITY LOVER",
                                    "length": "119",
                                    "movie_length": "long movie"
                                },
                                {
                                    "title": "IDOLS SNATCHERS",
                                    "length": "84",
                                    "movie_length": "normal movie"
                                },
                                {
                                    "title": "IGBY MAKER",
                                    "length": "160",
                                    "movie_length": "extra long movie"
                                },
                                {
                                    "title": "ILLUSION AMELIE",
                                    "length": "122",
                                    "movie_length": "extra long movie"
                                },
                                {
                                    "title": "IMAGE PRINCESS",
                                    "length": "178",
                                    "movie_length": "extra long movie"
                                },
                                {
                                    "title": "IMPACT ALADDIN",
                                    "length": "180",
                                    "movie_length": "extra long movie"
                                },
                                {
                                    "title": "IMPOSSIBLE PREJUDICE",
                                    "length": "103",
                                    "movie_length": "long movie"
                                },
                                {
                                    "title": "INCH JET",
                                    "length": "167",
                                    "movie_length": "extra long movie"
                                },
                                {
                                    "title": "INDEPENDENCE HOTEL",
                                    "length": "157",
                                    "movie_length": "extra long movie"
                                },
                                {
                                    "title": "INDIAN LOVE",
                                    "length": "135",
                                    "movie_length": "extra long movie"
                                },
                                {
                                    "title": "INFORMER DOUBLE",
                                    "length": "74",
                                    "movie_length": "normal movie"
                                },
                                {
                                    "title": "INNOCENT USUAL",
                                    "length": "178",
                                    "movie_length": "extra long movie"
                                },
                                {
                                    "title": "INSECTS STONE",
                                    "length": "123",
                                    "movie_length": "extra long movie"
                                },
                                {
                                    "title": "INSIDER ARIZONA",
                                    "length": "78",
                                    "movie_length": "normal movie"
                                },
                                {
                                    "title": "INSTINCT AIRPORT",
                                    "length": "116",
                                    "movie_length": "long movie"
                                },
                                {
                                    "title": "INTENTIONS EMPIRE",
                                    "length": "107",
                                    "movie_length": "long movie"
                                },
                                {
                                    "title": "INTERVIEW LIAISONS",
                                    "length": "59",
                                    "movie_length": "short movie"
                                },
                                {
                                    "title": "INTOLERABLE INTENTIONS",
                                    "length": "63",
                                    "movie_length": "normal movie"
                                },
                                {
                                    "title": "INTRIGUE WORST",
                                    "length": "181",
                                    "movie_length": "extra long movie"
                                },
                                {
                                    "title": "INVASION CYCLONE",
                                    "length": "97",
                                    "movie_length": "long movie"
                                },
                                {
                                    "title": "IRON MOON",
                                    "length": "46",
                                    "movie_length": "short movie"
                                },
                                {
                                    "title": "ISHTAR ROCKETEER",
                                    "length": "79",
                                    "movie_length": "normal movie"
                                },
                                {
                                    "title": "ISLAND EXORCIST",
                                    "length": "84",
                                    "movie_length": "normal movie"
                                },
                                {
                                    "title": "ITALIAN AFRICAN",
                                    "length": "174",
                                    "movie_length": "extra long movie"
                                },
                                {
                                    "title": "JACKET FRISCO",
                                    "length": "181",
                                    "movie_length": "extra long movie"
                                },
                                {
                                    "title": "JADE BUNCH",
                                    "length": "174",
                                    "movie_length": "extra long movie"
                                },
                                {
                                    "title": "JAPANESE RUN",
                                    "length": "135",
                                    "movie_length": "extra long movie"
                                },
                                {
                                    "title": "JASON TRAP",
                                    "length": "130",
                                    "movie_length": "extra long movie"
                                },
                                {
                                    "title": "JAWBREAKER BROOKLYN",
                                    "length": "118",
                                    "movie_length": "long movie"
                                },
                                {
                                    "title": "JAWS HARRY",
                                    "length": "112",
                                    "movie_length": "long movie"
                                },
                                {
                                    "title": "JEDI BENEATH",
                                    "length": "128",
                                    "movie_length": "extra long movie"
                                },
                                {
                                    "title": "JEEPERS WEDDING",
                                    "length": "84",
                                    "movie_length": "normal movie"
                                },
                                {
                                    "title": "JEKYLL FROGMEN",
                                    "length": "58",
                                    "movie_length": "short movie"
                                },
                                {
                                    "title": "JEOPARDY ENCINO",
                                    "length": "102",
                                    "movie_length": "long movie"
                                },
                                {
                                    "title": "JERICHO MULAN",
                                    "length": "171",
                                    "movie_length": "extra long movie"
                                },
                                {
                                    "title": "JERK PAYCHECK",
                                    "length": "172",
                                    "movie_length": "extra long movie"
                                },
                                {
                                    "title": "JERSEY SASSY",
                                    "length": "60",
                                    "movie_length": "short movie"
                                },
                                {
                                    "title": "JET NEIGHBORS",
                                    "length": "59",
                                    "movie_length": "short movie"
                                },
                                {
                                    "title": "JINGLE SAGEBRUSH",
                                    "length": "124",
                                    "movie_length": "extra long movie"
                                },
                                {
                                    "title": "JOON NORTHWEST",
                                    "length": "105",
                                    "movie_length": "long movie"
                                },
                                {
                                    "title": "JUGGLER HARDLY",
                                    "length": "54",
                                    "movie_length": "short movie"
                                },
                                {
                                    "title": "JUMANJI BLADE",
                                    "length": "121",
                                    "movie_length": "extra long movie"
                                },
                                {
                                    "title": "JUMPING WRATH",
                                    "length": "74",
                                    "movie_length": "normal movie"
                                },
                                {
                                    "title": "JUNGLE CLOSER",
                                    "length": "134",
                                    "movie_length": "extra long movie"
                                },
                                {
                                    "title": "KANE EXORCIST",
                                    "length": "92",
                                    "movie_length": "long movie"
                                },
                                {
                                    "title": "KARATE MOON",
                                    "length": "120",
                                    "movie_length": "long movie"
                                },
                                {
                                    "title": "KENTUCKIAN GIANT",
                                    "length": "169",
                                    "movie_length": "extra long movie"
                                },
                                {
                                    "title": "KICK SAVANNAH",
                                    "length": "179",
                                    "movie_length": "extra long movie"
                                },
                                {
                                    "title": "KILL BROTHERHOOD",
                                    "length": "54",
                                    "movie_length": "short movie"
                                },
                                {
                                    "title": "KILLER INNOCENT",
                                    "length": "161",
                                    "movie_length": "extra long movie"
                                },
                                {
                                    "title": "KING EVOLUTION",
                                    "length": "184",
                                    "movie_length": "extra long movie"
                                },
                                {
                                    "title": "KISS GLORY",
                                    "length": "163",
                                    "movie_length": "extra long movie"
                                },
                                {
                                    "title": "KISSING DOLLS",
                                    "length": "141",
                                    "movie_length": "extra long movie"
                                },
                                {
                                    "title": "KNOCK WARLOCK",
                                    "length": "71",
                                    "movie_length": "normal movie"
                                },
                                {
                                    "title": "KRAMER CHOCOLATE",
                                    "length": "171",
                                    "movie_length": "extra long movie"
                                },
                                {
                                    "title": "KWAI HOMEWARD",
                                    "length": "46",
                                    "movie_length": "short movie"
                                },
                                {
                                    "title": "LABYRINTH LEAGUE",
                                    "length": "46",
                                    "movie_length": "short movie"
                                },
                                {
                                    "title": "LADY STAGE",
                                    "length": "67",
                                    "movie_length": "normal movie"
                                },
                                {
                                    "title": "LADYBUGS ARMAGEDDON",
                                    "length": "113",
                                    "movie_length": "long movie"
                                },
                                {
                                    "title": "LAMBS CINCINATTI",
                                    "length": "144",
                                    "movie_length": "extra long movie"
                                },
                                {
                                    "title": "LANGUAGE COWBOY",
                                    "length": "78",
                                    "movie_length": "normal movie"
                                },
                                {
                                    "title": "LAWLESS VISION",
                                    "length": "181",
                                    "movie_length": "extra long movie"
                                },
                                {
                                    "title": "LAWRENCE LOVE",
                                    "length": "175",
                                    "movie_length": "extra long movie"
                                },
                                {
                                    "title": "LEAGUE HELLFIGHTERS",
                                    "length": "110",
                                    "movie_length": "long movie"
                                },
                                {
                                    "title": "LEATHERNECKS DWARFS",
                                    "length": "153",
                                    "movie_length": "extra long movie"
                                },
                                {
                                    "title": "LEBOWSKI SOLDIERS",
                                    "length": "69",
                                    "movie_length": "normal movie"
                                },
                                {
                                    "title": "LEGALLY SECRETARY",
                                    "length": "113",
                                    "movie_length": "long movie"
                                },
                                {
                                    "title": "LEGEND JEDI",
                                    "length": "59",
                                    "movie_length": "short movie"
                                },
                                {
                                    "title": "LESSON CLEOPATRA",
                                    "length": "167",
                                    "movie_length": "extra long movie"
                                },
                                {
                                    "title": "LIAISONS SWEET",
                                    "length": "140",
                                    "movie_length": "extra long movie"
                                },
                                {
                                    "title": "LIBERTY MAGNIFICENT",
                                    "length": "138",
                                    "movie_length": "extra long movie"
                                },
                                {
                                    "title": "LICENSE WEEKEND",
                                    "length": "91",
                                    "movie_length": "long movie"
                                },
                                {
                                    "title": "LIES TREATMENT",
                                    "length": "147",
                                    "movie_length": "extra long movie"
                                },
                                {
                                    "title": "LIFE TWISTED",
                                    "length": "137",
                                    "movie_length": "extra long movie"
                                },
                                {
                                    "title": "LIGHTS DEER",
                                    "length": "174",
                                    "movie_length": "extra long movie"
                                },
                                {
                                    "title": "LION UNCUT",
                                    "length": "50",
                                    "movie_length": "short movie"
                                },
                                {
                                    "title": "LOATHING LEGALLY",
                                    "length": "140",
                                    "movie_length": "extra long movie"
                                },
                                {
                                    "title": "LOCK REAR",
                                    "length": "120",
                                    "movie_length": "long movie"
                                },
                                {
                                    "title": "LOLA AGENT",
                                    "length": "85",
                                    "movie_length": "normal movie"
                                },
                                {
                                    "title": "LOLITA WORLD",
                                    "length": "155",
                                    "movie_length": "extra long movie"
                                },
                                {
                                    "title": "LONELY ELEPHANT",
                                    "length": "67",
                                    "movie_length": "normal movie"
                                },
                                {
                                    "title": "LORD ARIZONA",
                                    "length": "108",
                                    "movie_length": "long movie"
                                },
                                {
                                    "title": "LOSE INCH",
                                    "length": "137",
                                    "movie_length": "extra long movie"
                                },
                                {
                                    "title": "LOSER HUSTLER",
                                    "length": "80",
                                    "movie_length": "normal movie"
                                },
                                {
                                    "title": "LOST BIRD",
                                    "length": "98",
                                    "movie_length": "long movie"
                                },
                                {
                                    "title": "LOUISIANA HARRY",
                                    "length": "70",
                                    "movie_length": "normal movie"
                                },
                                {
                                    "title": "LOVE SUICIDES",
                                    "length": "181",
                                    "movie_length": "extra long movie"
                                },
                                {
                                    "title": "LOVELY JINGLE",
                                    "length": "65",
                                    "movie_length": "normal movie"
                                },
                                {
                                    "title": "LOVER TRUMAN",
                                    "length": "75",
                                    "movie_length": "normal movie"
                                },
                                {
                                    "title": "LOVERBOY ATTACKS",
                                    "length": "162",
                                    "movie_length": "extra long movie"
                                },
                                {
                                    "title": "LUCK OPUS",
                                    "length": "152",
                                    "movie_length": "extra long movie"
                                },
                                {
                                    "title": "LUCKY FLYING",
                                    "length": "97",
                                    "movie_length": "long movie"
                                },
                                {
                                    "title": "LUKE MUMMY",
                                    "length": "74",
                                    "movie_length": "normal movie"
                                },
                                {
                                    "title": "LUST LOCK",
                                    "length": "52",
                                    "movie_length": "short movie"
                                },
                                {
                                    "title": "MADIGAN DORADO",
                                    "length": "116",
                                    "movie_length": "long movie"
                                },
                                {
                                    "title": "MADISON TRAP",
                                    "length": "147",
                                    "movie_length": "extra long movie"
                                },
                                {
                                    "title": "MADNESS ATTACKS",
                                    "length": "178",
                                    "movie_length": "extra long movie"
                                },
                                {
                                    "title": "MADRE GABLES",
                                    "length": "98",
                                    "movie_length": "long movie"
                                },
                                {
                                    "title": "MAGIC MALLRATS",
                                    "length": "117",
                                    "movie_length": "long movie"
                                },
                                {
                                    "title": "MAGNIFICENT CHITTY",
                                    "length": "53",
                                    "movie_length": "short movie"
                                },
                                {
                                    "title": "MAGNOLIA FORRESTER",
                                    "length": "171",
                                    "movie_length": "extra long movie"
                                },
                                {
                                    "title": "MAGUIRE APACHE",
                                    "length": "74",
                                    "movie_length": "normal movie"
                                },
                                {
                                    "title": "MAIDEN HOME",
                                    "length": "138",
                                    "movie_length": "extra long movie"
                                },
                                {
                                    "title": "MAJESTIC FLOATS",
                                    "length": "130",
                                    "movie_length": "extra long movie"
                                },
                                {
                                    "title": "MAKER GABLES",
                                    "length": "136",
                                    "movie_length": "extra long movie"
                                },
                                {
                                    "title": "MALKOVICH PET",
                                    "length": "159",
                                    "movie_length": "extra long movie"
                                },
                                {
                                    "title": "MALLRATS UNITED",
                                    "length": "133",
                                    "movie_length": "extra long movie"
                                },
                                {
                                    "title": "MALTESE HOPE",
                                    "length": "127",
                                    "movie_length": "extra long movie"
                                },
                                {
                                    "title": "MANCHURIAN CURTAIN",
                                    "length": "177",
                                    "movie_length": "extra long movie"
                                },
                                {
                                    "title": "MANNEQUIN WORST",
                                    "length": "71",
                                    "movie_length": "normal movie"
                                },
                                {
                                    "title": "MARRIED GO",
                                    "length": "114",
                                    "movie_length": "long movie"
                                },
                                {
                                    "title": "MARS ROMAN",
                                    "length": "62",
                                    "movie_length": "normal movie"
                                },
                                {
                                    "title": "MASK PEACH",
                                    "length": "123",
                                    "movie_length": "extra long movie"
                                },
                                {
                                    "title": "MASKED BUBBLE",
                                    "length": "151",
                                    "movie_length": "extra long movie"
                                },
                                {
                                    "title": "MASSACRE USUAL",
                                    "length": "165",
                                    "movie_length": "extra long movie"
                                },
                                {
                                    "title": "MASSAGE IMAGE",
                                    "length": "161",
                                    "movie_length": "extra long movie"
                                },
                                {
                                    "title": "MATRIX SNOWMAN",
                                    "length": "56",
                                    "movie_length": "short movie"
                                },
                                {
                                    "title": "MAUDE MOD",
                                    "length": "72",
                                    "movie_length": "normal movie"
                                },
                                {
                                    "title": "MEET CHOCOLATE",
                                    "length": "80",
                                    "movie_length": "normal movie"
                                },
                                {
                                    "title": "MEMENTO ZOOLANDER",
                                    "length": "77",
                                    "movie_length": "normal movie"
                                },
                                {
                                    "title": "MENAGERIE RUSHMORE",
                                    "length": "147",
                                    "movie_length": "extra long movie"
                                },
                                {
                                    "title": "MERMAID INSECTS",
                                    "length": "104",
                                    "movie_length": "long movie"
                                },
                                {
                                    "title": "METAL ARMAGEDDON",
                                    "length": "161",
                                    "movie_length": "extra long movie"
                                },
                                {
                                    "title": "METROPOLIS COMA",
                                    "length": "64",
                                    "movie_length": "normal movie"
                                },
                                {
                                    "title": "MICROCOSMOS PARADISE",
                                    "length": "105",
                                    "movie_length": "long movie"
                                },
                                {
                                    "title": "MIDNIGHT WESTWARD",
                                    "length": "86",
                                    "movie_length": "normal movie"
                                },
                                {
                                    "title": "MIDSUMMER GROUNDHOG",
                                    "length": "48",
                                    "movie_length": "short movie"
                                },
                                {
                                    "title": "MIGHTY LUCK",
                                    "length": "122",
                                    "movie_length": "extra long movie"
                                },
                                {
                                    "title": "MILE MULAN",
                                    "length": "64",
                                    "movie_length": "normal movie"
                                },
                                {
                                    "title": "MILLION ACE",
                                    "length": "142",
                                    "movie_length": "extra long movie"
                                },
                                {
                                    "title": "MINDS TRUMAN",
                                    "length": "149",
                                    "movie_length": "extra long movie"
                                },
                                {
                                    "title": "MINE TITANS",
                                    "length": "166",
                                    "movie_length": "extra long movie"
                                },
                                {
                                    "title": "MINORITY KISS",
                                    "length": "59",
                                    "movie_length": "short movie"
                                },
                                {
                                    "title": "MIRACLE VIRTUAL",
                                    "length": "162",
                                    "movie_length": "extra long movie"
                                },
                                {
                                    "title": "MISSION ZOOLANDER",
                                    "length": "164",
                                    "movie_length": "extra long movie"
                                },
                                {
                                    "title": "MIXED DOORS",
                                    "length": "180",
                                    "movie_length": "extra long movie"
                                },
                                {
                                    "title": "MOB DUFFEL",
                                    "length": "105",
                                    "movie_length": "long movie"
                                },
                                {
                                    "title": "MOCKINGBIRD HOLLYWOOD",
                                    "length": "60",
                                    "movie_length": "short movie"
                                },
                                {
                                    "title": "MOD SECRETARY",
                                    "length": "77",
                                    "movie_length": "normal movie"
                                },
                                {
                                    "title": "MODEL FISH",
                                    "length": "175",
                                    "movie_length": "extra long movie"
                                },
                                {
                                    "title": "MODERN DORADO",
                                    "length": "74",
                                    "movie_length": "normal movie"
                                },
                                {
                                    "title": "MONEY HAROLD",
                                    "length": "135",
                                    "movie_length": "extra long movie"
                                },
                                {
                                    "title": "MONSOON CAUSE",
                                    "length": "182",
                                    "movie_length": "extra long movie"
                                },
                                {
                                    "title": "MONSTER SPARTACUS",
                                    "length": "107",
                                    "movie_length": "long movie"
                                },
                                {
                                    "title": "MONTEREY LABYRINTH",
                                    "length": "158",
                                    "movie_length": "extra long movie"
                                },
                                {
                                    "title": "MONTEZUMA COMMAND",
                                    "length": "126",
                                    "movie_length": "extra long movie"
                                },
                                {
                                    "title": "MOON BUNCH",
                                    "length": "83",
                                    "movie_length": "normal movie"
                                },
                                {
                                    "title": "MOONSHINE CABIN",
                                    "length": "171",
                                    "movie_length": "extra long movie"
                                },
                                {
                                    "title": "MOONWALKER FOOL",
                                    "length": "184",
                                    "movie_length": "extra long movie"
                                },
                                {
                                    "title": "MOSQUITO ARMAGEDDON",
                                    "length": "57",
                                    "movie_length": "short movie"
                                },
                                {
                                    "title": "MOTHER OLEANDER",
                                    "length": "103",
                                    "movie_length": "long movie"
                                },
                                {
                                    "title": "MOTIONS DETAILS",
                                    "length": "166",
                                    "movie_length": "extra long movie"
                                },
                                {
                                    "title": "MOULIN WAKE",
                                    "length": "79",
                                    "movie_length": "normal movie"
                                },
                                {
                                    "title": "MOURNING PURPLE",
                                    "length": "146",
                                    "movie_length": "extra long movie"
                                },
                                {
                                    "title": "MOVIE SHAKESPEARE",
                                    "length": "53",
                                    "movie_length": "short movie"
                                },
                                {
                                    "title": "MULAN MOON",
                                    "length": "160",
                                    "movie_length": "extra long movie"
                                },
                                {
                                    "title": "MULHOLLAND BEAST",
                                    "length": "157",
                                    "movie_length": "extra long movie"
                                },
                                {
                                    "title": "MUMMY CREATURES",
                                    "length": "160",
                                    "movie_length": "extra long movie"
                                },
                                {
                                    "title": "MUPPET MILE",
                                    "length": "50",
                                    "movie_length": "short movie"
                                },
                                {
                                    "title": "MURDER ANTITRUST",
                                    "length": "166",
                                    "movie_length": "extra long movie"
                                },
                                {
                                    "title": "MUSCLE BRIGHT",
                                    "length": "185",
                                    "movie_length": "extra long movie"
                                },
                                {
                                    "title": "MUSIC BOONDOCK",
                                    "length": "129",
                                    "movie_length": "extra long movie"
                                },
                                {
                                    "title": "MUSKETEERS WAIT",
                                    "length": "73",
                                    "movie_length": "normal movie"
                                },
                                {
                                    "title": "MUSSOLINI SPOILERS",
                                    "length": "180",
                                    "movie_length": "extra long movie"
                                },
                                {
                                    "title": "MYSTIC TRUMAN",
                                    "length": "92",
                                    "movie_length": "long movie"
                                },
                                {
                                    "title": "NAME DETECTIVE",
                                    "length": "178",
                                    "movie_length": "extra long movie"
                                },
                                {
                                    "title": "NASH CHOCOLAT",
                                    "length": "180",
                                    "movie_length": "extra long movie"
                                },
                                {
                                    "title": "NATIONAL STORY",
                                    "length": "92",
                                    "movie_length": "long movie"
                                },
                                {
                                    "title": "NATURAL STOCK",
                                    "length": "50",
                                    "movie_length": "short movie"
                                },
                                {
                                    "title": "NECKLACE OUTBREAK",
                                    "length": "132",
                                    "movie_length": "extra long movie"
                                },
                                {
                                    "title": "NEIGHBORS CHARADE",
                                    "length": "161",
                                    "movie_length": "extra long movie"
                                },
                                {
                                    "title": "NEMO CAMPUS",
                                    "length": "131",
                                    "movie_length": "extra long movie"
                                },
                                {
                                    "title": "NETWORK PEAK",
                                    "length": "75",
                                    "movie_length": "normal movie"
                                },
                                {
                                    "title": "NEWSIES STORY",
                                    "length": "159",
                                    "movie_length": "extra long movie"
                                },
                                {
                                    "title": "NEWTON LABYRINTH",
                                    "length": "75",
                                    "movie_length": "normal movie"
                                },
                                {
                                    "title": "NIGHTMARE CHILL",
                                    "length": "149",
                                    "movie_length": "extra long movie"
                                },
                                {
                                    "title": "NONE SPIKING",
                                    "length": "83",
                                    "movie_length": "normal movie"
                                },
                                {
                                    "title": "NOON PAPI",
                                    "length": "57",
                                    "movie_length": "short movie"
                                },
                                {
                                    "title": "NORTH TEQUILA",
                                    "length": "67",
                                    "movie_length": "normal movie"
                                },
                                {
                                    "title": "NORTHWEST POLISH",
                                    "length": "172",
                                    "movie_length": "extra long movie"
                                },
                                {
                                    "title": "NOTORIOUS REUNION",
                                    "length": "128",
                                    "movie_length": "extra long movie"
                                },
                                {
                                    "title": "NOTTING SPEAKEASY",
                                    "length": "48",
                                    "movie_length": "short movie"
                                },
                                {
                                    "title": "NOVOCAINE FLIGHT",
                                    "length": "64",
                                    "movie_length": "normal movie"
                                },
                                {
                                    "title": "NUTS TIES",
                                    "length": "145",
                                    "movie_length": "extra long movie"
                                },
                                {
                                    "title": "OCTOBER SUBMARINE",
                                    "length": "54",
                                    "movie_length": "short movie"
                                },
                                {
                                    "title": "ODDS BOOGIE",
                                    "length": "48",
                                    "movie_length": "short movie"
                                },
                                {
                                    "title": "OKLAHOMA JUMANJI",
                                    "length": "58",
                                    "movie_length": "short movie"
                                },
                                {
                                    "title": "OLEANDER CLUE",
                                    "length": "161",
                                    "movie_length": "extra long movie"
                                },
                                {
                                    "title": "OPEN AFRICAN",
                                    "length": "131",
                                    "movie_length": "extra long movie"
                                },
                                {
                                    "title": "OPERATION OPERATION",
                                    "length": "156",
                                    "movie_length": "extra long movie"
                                },
                                {
                                    "title": "OPPOSITE NECKLACE",
                                    "length": "92",
                                    "movie_length": "long movie"
                                },
                                {
                                    "title": "OPUS ICE",
                                    "length": "102",
                                    "movie_length": "long movie"
                                },
                                {
                                    "title": "ORANGE GRAPES",
                                    "length": "76",
                                    "movie_length": "normal movie"
                                },
                                {
                                    "title": "ORDER BETRAYED",
                                    "length": "120",
                                    "movie_length": "long movie"
                                },
                                {
                                    "title": "ORIENT CLOSER",
                                    "length": "118",
                                    "movie_length": "long movie"
                                },
                                {
                                    "title": "OSCAR GOLD",
                                    "length": "115",
                                    "movie_length": "long movie"
                                },
                                {
                                    "title": "OTHERS SOUP",
                                    "length": "118",
                                    "movie_length": "long movie"
                                },
                                {
                                    "title": "OUTBREAK DIVINE",
                                    "length": "169",
                                    "movie_length": "extra long movie"
                                },
                                {
                                    "title": "OUTFIELD MASSACRE",
                                    "length": "129",
                                    "movie_length": "extra long movie"
                                },
                                {
                                    "title": "OUTLAW HANKY",
                                    "length": "148",
                                    "movie_length": "extra long movie"
                                },
                                {
                                    "title": "OZ LIAISONS",
                                    "length": "85",
                                    "movie_length": "normal movie"
                                },
                                {
                                    "title": "PACIFIC AMISTAD",
                                    "length": "144",
                                    "movie_length": "extra long movie"
                                },
                                {
                                    "title": "PACKER MADIGAN",
                                    "length": "84",
                                    "movie_length": "normal movie"
                                },
                                {
                                    "title": "PAJAMA JAWBREAKER",
                                    "length": "126",
                                    "movie_length": "extra long movie"
                                },
                                {
                                    "title": "PANIC CLUB",
                                    "length": "102",
                                    "movie_length": "long movie"
                                },
                                {
                                    "title": "PANKY SUBMARINE",
                                    "length": "93",
                                    "movie_length": "long movie"
                                },
                                {
                                    "title": "PANTHER REDS",
                                    "length": "109",
                                    "movie_length": "long movie"
                                },
                                {
                                    "title": "PAPI NECKLACE",
                                    "length": "128",
                                    "movie_length": "extra long movie"
                                },
                                {
                                    "title": "PARADISE SABRINA",
                                    "length": "48",
                                    "movie_length": "short movie"
                                },
                                {
                                    "title": "PARIS WEEKEND",
                                    "length": "121",
                                    "movie_length": "extra long movie"
                                },
                                {
                                    "title": "PARK CITIZEN",
                                    "length": "109",
                                    "movie_length": "long movie"
                                },
                                {
                                    "title": "PARTY KNOCK",
                                    "length": "107",
                                    "movie_length": "long movie"
                                },
                                {
                                    "title": "PAST SUICIDES",
                                    "length": "157",
                                    "movie_length": "extra long movie"
                                },
                                {
                                    "title": "PATHS CONTROL",
                                    "length": "118",
                                    "movie_length": "long movie"
                                },
                                {
                                    "title": "PATIENT SISTER",
                                    "length": "99",
                                    "movie_length": "long movie"
                                },
                                {
                                    "title": "PATRIOT ROMAN",
                                    "length": "65",
                                    "movie_length": "normal movie"
                                },
                                {
                                    "title": "PATTON INTERVIEW",
                                    "length": "175",
                                    "movie_length": "extra long movie"
                                },
                                {
                                    "title": "PAYCHECK WAIT",
                                    "length": "145",
                                    "movie_length": "extra long movie"
                                },
                                {
                                    "title": "PEACH INNOCENT",
                                    "length": "160",
                                    "movie_length": "extra long movie"
                                },
                                {
                                    "title": "PEAK FOREVER",
                                    "length": "80",
                                    "movie_length": "normal movie"
                                },
                                {
                                    "title": "PEARL DESTINY",
                                    "length": "74",
                                    "movie_length": "normal movie"
                                },
                                {
                                    "title": "PELICAN COMFORTS",
                                    "length": "48",
                                    "movie_length": "short movie"
                                },
                                {
                                    "title": "PERDITION FARGO",
                                    "length": "99",
                                    "movie_length": "long movie"
                                },
                                {
                                    "title": "PERFECT GROOVE",
                                    "length": "82",
                                    "movie_length": "normal movie"
                                },
                                {
                                    "title": "PERSONAL LADYBUGS",
                                    "length": "118",
                                    "movie_length": "long movie"
                                },
                                {
                                    "title": "PET HAUNTING",
                                    "length": "99",
                                    "movie_length": "long movie"
                                },
                                {
                                    "title": "PHANTOM GLORY",
                                    "length": "60",
                                    "movie_length": "short movie"
                                },
                                {
                                    "title": "PHILADELPHIA WIFE",
                                    "length": "137",
                                    "movie_length": "extra long movie"
                                },
                                {
                                    "title": "PIANIST OUTFIELD",
                                    "length": "136",
                                    "movie_length": "extra long movie"
                                },
                                {
                                    "title": "PICKUP DRIVING",
                                    "length": "77",
                                    "movie_length": "normal movie"
                                },
                                {
                                    "title": "PILOT HOOSIERS",
                                    "length": "50",
                                    "movie_length": "short movie"
                                },
                                {
                                    "title": "PINOCCHIO SIMON",
                                    "length": "103",
                                    "movie_length": "long movie"
                                },
                                {
                                    "title": "PIRATES ROXANNE",
                                    "length": "100",
                                    "movie_length": "long movie"
                                },
                                {
                                    "title": "PITTSBURGH HUNCHBACK",
                                    "length": "134",
                                    "movie_length": "extra long movie"
                                },
                                {
                                    "title": "PITY BOUND",
                                    "length": "60",
                                    "movie_length": "short movie"
                                },
                                {
                                    "title": "PIZZA JUMANJI",
                                    "length": "173",
                                    "movie_length": "extra long movie"
                                },
                                {
                                    "title": "PLATOON INSTINCT",
                                    "length": "132",
                                    "movie_length": "extra long movie"
                                },
                                {
                                    "title": "PLUTO OLEANDER",
                                    "length": "84",
                                    "movie_length": "normal movie"
                                },
                                {
                                    "title": "POCUS PULP",
                                    "length": "138",
                                    "movie_length": "extra long movie"
                                },
                                {
                                    "title": "POLISH BROOKLYN",
                                    "length": "61",
                                    "movie_length": "normal movie"
                                },
                                {
                                    "title": "POLLOCK DELIVERANCE",
                                    "length": "137",
                                    "movie_length": "extra long movie"
                                },
                                {
                                    "title": "POND SEATTLE",
                                    "length": "185",
                                    "movie_length": "extra long movie"
                                },
                                {
                                    "title": "POSEIDON FOREVER",
                                    "length": "159",
                                    "movie_length": "extra long movie"
                                },
                                {
                                    "title": "POTLUCK MIXED",
                                    "length": "179",
                                    "movie_length": "extra long movie"
                                },
                                {
                                    "title": "POTTER CONNECTICUT",
                                    "length": "115",
                                    "movie_length": "long movie"
                                },
                                {
                                    "title": "PREJUDICE OLEANDER",
                                    "length": "98",
                                    "movie_length": "long movie"
                                },
                                {
                                    "title": "PRESIDENT BANG",
                                    "length": "144",
                                    "movie_length": "extra long movie"
                                },
                                {
                                    "title": "PRIDE ALAMO",
                                    "length": "114",
                                    "movie_length": "long movie"
                                },
                                {
                                    "title": "PRIMARY GLASS",
                                    "length": "53",
                                    "movie_length": "short movie"
                                },
                                {
                                    "title": "PRINCESS GIANT",
                                    "length": "71",
                                    "movie_length": "normal movie"
                                },
                                {
                                    "title": "PRIVATE DROP",
                                    "length": "106",
                                    "movie_length": "long movie"
                                },
                                {
                                    "title": "PRIX UNDEFEATED",
                                    "length": "115",
                                    "movie_length": "long movie"
                                },
                                {
                                    "title": "PSYCHO SHRUNK",
                                    "length": "155",
                                    "movie_length": "extra long movie"
                                },
                                {
                                    "title": "PULP BEVERLY",
                                    "length": "89",
                                    "movie_length": "normal movie"
                                },
                                {
                                    "title": "PUNK DIVORCE",
                                    "length": "100",
                                    "movie_length": "long movie"
                                },
                                {
                                    "title": "PURE RUNNER",
                                    "length": "121",
                                    "movie_length": "extra long movie"
                                },
                                {
                                    "title": "PURPLE MOVIE",
                                    "length": "88",
                                    "movie_length": "normal movie"
                                },
                                {
                                    "title": "QUEEN LUKE",
                                    "length": "163",
                                    "movie_length": "extra long movie"
                                },
                                {
                                    "title": "QUEST MUSSOLINI",
                                    "length": "177",
                                    "movie_length": "extra long movie"
                                },
                                {
                                    "title": "QUILLS BULL",
                                    "length": "112",
                                    "movie_length": "long movie"
                                },
                                {
                                    "title": "RACER EGG",
                                    "length": "147",
                                    "movie_length": "extra long movie"
                                },
                                {
                                    "title": "RAGE GAMES",
                                    "length": "120",
                                    "movie_length": "long movie"
                                },
                                {
                                    "title": "RAGING AIRPLANE",
                                    "length": "154",
                                    "movie_length": "extra long movie"
                                },
                                {
                                    "title": "RAIDERS ANTITRUST",
                                    "length": "82",
                                    "movie_length": "normal movie"
                                },
                                {
                                    "title": "RAINBOW SHOCK",
                                    "length": "74",
                                    "movie_length": "normal movie"
                                },
                                {
                                    "title": "RANDOM GO",
                                    "length": "73",
                                    "movie_length": "normal movie"
                                },
                                {
                                    "title": "RANGE MOONWALKER",
                                    "length": "147",
                                    "movie_length": "extra long movie"
                                },
                                {
                                    "title": "REAP UNFAITHFUL",
                                    "length": "136",
                                    "movie_length": "extra long movie"
                                },
                                {
                                    "title": "REAR TRADING",
                                    "length": "97",
                                    "movie_length": "long movie"
                                },
                                {
                                    "title": "REBEL AIRPORT",
                                    "length": "73",
                                    "movie_length": "normal movie"
                                },
                                {
                                    "title": "RECORDS ZORRO",
                                    "length": "182",
                                    "movie_length": "extra long movie"
                                },
                                {
                                    "title": "REDEMPTION COMFORTS",
                                    "length": "179",
                                    "movie_length": "extra long movie"
                                },
                                {
                                    "title": "REDS POCUS",
                                    "length": "182",
                                    "movie_length": "extra long movie"
                                },
                                {
                                    "title": "REEF SALUTE",
                                    "length": "123",
                                    "movie_length": "extra long movie"
                                },
                                {
                                    "title": "REIGN GENTLEMEN",
                                    "length": "82",
                                    "movie_length": "normal movie"
                                },
                                {
                                    "title": "REMEMBER DIARY",
                                    "length": "110",
                                    "movie_length": "long movie"
                                },
                                {
                                    "title": "REQUIEM TYCOON",
                                    "length": "167",
                                    "movie_length": "extra long movie"
                                },
                                {
                                    "title": "RESERVOIR ADAPTATION",
                                    "length": "61",
                                    "movie_length": "normal movie"
                                },
                                {
                                    "title": "RESURRECTION SILVERADO",
                                    "length": "117",
                                    "movie_length": "long movie"
                                },
                                {
                                    "title": "REUNION WITCHES",
                                    "length": "63",
                                    "movie_length": "normal movie"
                                },
                                {
                                    "title": "RIDER CADDYSHACK",
                                    "length": "177",
                                    "movie_length": "extra long movie"
                                },
                                {
                                    "title": "RIDGEMONT SUBMARINE",
                                    "length": "46",
                                    "movie_length": "short movie"
                                },
                                {
                                    "title": "RIGHT CRANES",
                                    "length": "153",
                                    "movie_length": "extra long movie"
                                },
                                {
                                    "title": "RINGS HEARTBREAKERS",
                                    "length": "58",
                                    "movie_length": "short movie"
                                },
                                {
                                    "title": "RIVER OUTLAW",
                                    "length": "149",
                                    "movie_length": "extra long movie"
                                },
                                {
                                    "title": "ROAD ROXANNE",
                                    "length": "158",
                                    "movie_length": "extra long movie"
                                },
                                {
                                    "title": "ROBBERS JOON",
                                    "length": "102",
                                    "movie_length": "long movie"
                                },
                                {
                                    "title": "ROBBERY BRIGHT",
                                    "length": "134",
                                    "movie_length": "extra long movie"
                                },
                                {
                                    "title": "ROCK INSTINCT",
                                    "length": "102",
                                    "movie_length": "long movie"
                                },
                                {
                                    "title": "ROCKETEER MOTHER",
                                    "length": "178",
                                    "movie_length": "extra long movie"
                                },
                                {
                                    "title": "ROCKY WAR",
                                    "length": "145",
                                    "movie_length": "extra long movie"
                                },
                                {
                                    "title": "ROLLERCOASTER BRINGING",
                                    "length": "153",
                                    "movie_length": "extra long movie"
                                },
                                {
                                    "title": "ROMAN PUNK",
                                    "length": "81",
                                    "movie_length": "normal movie"
                                },
                                {
                                    "title": "ROOF CHAMPION",
                                    "length": "101",
                                    "movie_length": "long movie"
                                },
                                {
                                    "title": "ROOM ROMAN",
                                    "length": "60",
                                    "movie_length": "short movie"
                                },
                                {
                                    "title": "ROOTS REMEMBER",
                                    "length": "89",
                                    "movie_length": "normal movie"
                                },
                                {
                                    "title": "ROSES TREASURE",
                                    "length": "162",
                                    "movie_length": "extra long movie"
                                },
                                {
                                    "title": "ROUGE SQUAD",
                                    "length": "118",
                                    "movie_length": "long movie"
                                },
                                {
                                    "title": "ROXANNE REBEL",
                                    "length": "171",
                                    "movie_length": "extra long movie"
                                },
                                {
                                    "title": "RUGRATS SHAKESPEARE",
                                    "length": "109",
                                    "movie_length": "long movie"
                                },
                                {
                                    "title": "RULES HUMAN",
                                    "length": "153",
                                    "movie_length": "extra long movie"
                                },
                                {
                                    "title": "RUN PACIFIC",
                                    "length": "145",
                                    "movie_length": "extra long movie"
                                },
                                {
                                    "title": "RUNAWAY TENENBAUMS",
                                    "length": "181",
                                    "movie_length": "extra long movie"
                                },
                                {
                                    "title": "RUNNER MADIGAN",
                                    "length": "101",
                                    "movie_length": "long movie"
                                },
                                {
                                    "title": "RUSH GOODFELLAS",
                                    "length": "48",
                                    "movie_length": "short movie"
                                },
                                {
                                    "title": "RUSHMORE MERMAID",
                                    "length": "150",
                                    "movie_length": "extra long movie"
                                },
                                {
                                    "title": "SABRINA MIDNIGHT",
                                    "length": "99",
                                    "movie_length": "long movie"
                                },
                                {
                                    "title": "SADDLE ANTITRUST",
                                    "length": "80",
                                    "movie_length": "normal movie"
                                },
                                {
                                    "title": "SAGEBRUSH CLUELESS",
                                    "length": "106",
                                    "movie_length": "long movie"
                                },
                                {
                                    "title": "SAINTS BRIDE",
                                    "length": "125",
                                    "movie_length": "extra long movie"
                                },
                                {
                                    "title": "SALUTE APOLLO",
                                    "length": "73",
                                    "movie_length": "normal movie"
                                },
                                {
                                    "title": "SAMURAI LION",
                                    "length": "110",
                                    "movie_length": "long movie"
                                },
                                {
                                    "title": "SANTA PARIS",
                                    "length": "154",
                                    "movie_length": "extra long movie"
                                },
                                {
                                    "title": "SASSY PACKER",
                                    "length": "154",
                                    "movie_length": "extra long movie"
                                },
                                {
                                    "title": "SATISFACTION CONFIDENTIAL",
                                    "length": "75",
                                    "movie_length": "normal movie"
                                },
                                {
                                    "title": "SATURDAY LAMBS",
                                    "length": "150",
                                    "movie_length": "extra long movie"
                                },
                                {
                                    "title": "SATURN NAME",
                                    "length": "182",
                                    "movie_length": "extra long movie"
                                },
                                {
                                    "title": "SAVANNAH TOWN",
                                    "length": "84",
                                    "movie_length": "normal movie"
                                },
                                {
                                    "title": "SCALAWAG DUCK",
                                    "length": "183",
                                    "movie_length": "extra long movie"
                                },
                                {
                                    "title": "SCARFACE BANG",
                                    "length": "102",
                                    "movie_length": "long movie"
                                },
                                {
                                    "title": "SCHOOL JACKET",
                                    "length": "151",
                                    "movie_length": "extra long movie"
                                },
                                {
                                    "title": "SCISSORHANDS SLUMS",
                                    "length": "147",
                                    "movie_length": "extra long movie"
                                },
                                {
                                    "title": "SCORPION APOLLO",
                                    "length": "137",
                                    "movie_length": "extra long movie"
                                },
                                {
                                    "title": "SEA VIRGIN",
                                    "length": "80",
                                    "movie_length": "normal movie"
                                },
                                {
                                    "title": "SEABISCUIT PUNK",
                                    "length": "112",
                                    "movie_length": "long movie"
                                },
                                {
                                    "title": "SEARCHERS WAIT",
                                    "length": "182",
                                    "movie_length": "extra long movie"
                                },
                                {
                                    "title": "SEATTLE EXPECATIONS",
                                    "length": "110",
                                    "movie_length": "long movie"
                                },
                                {
                                    "title": "SECRET GROUNDHOG",
                                    "length": "90",
                                    "movie_length": "normal movie"
                                },
                                {
                                    "title": "SECRETARY ROUGE",
                                    "length": "158",
                                    "movie_length": "extra long movie"
                                },
                                {
                                    "title": "SECRETS PARADISE",
                                    "length": "109",
                                    "movie_length": "long movie"
                                },
                                {
                                    "title": "SENSE GREEK",
                                    "length": "54",
                                    "movie_length": "short movie"
                                },
                                {
                                    "title": "SENSIBILITY REAR",
                                    "length": "98",
                                    "movie_length": "long movie"
                                },
                                {
                                    "title": "SEVEN SWARM",
                                    "length": "127",
                                    "movie_length": "extra long movie"
                                },
                                {
                                    "title": "SHAKESPEARE SADDLE",
                                    "length": "60",
                                    "movie_length": "short movie"
                                },
                                {
                                    "title": "SHANE DARKNESS",
                                    "length": "93",
                                    "movie_length": "long movie"
                                },
                                {
                                    "title": "SHANGHAI TYCOON",
                                    "length": "47",
                                    "movie_length": "short movie"
                                },
                                {
                                    "title": "SHAWSHANK BUBBLE",
                                    "length": "80",
                                    "movie_length": "normal movie"
                                },
                                {
                                    "title": "SHEPHERD MIDSUMMER",
                                    "length": "113",
                                    "movie_length": "long movie"
                                },
                                {
                                    "title": "SHINING ROSES",
                                    "length": "125",
                                    "movie_length": "extra long movie"
                                },
                                {
                                    "title": "SHIP WONDERLAND",
                                    "length": "104",
                                    "movie_length": "long movie"
                                },
                                {
                                    "title": "SHOCK CABIN",
                                    "length": "79",
                                    "movie_length": "normal movie"
                                },
                                {
                                    "title": "SHOOTIST SUPERFLY",
                                    "length": "67",
                                    "movie_length": "normal movie"
                                },
                                {
                                    "title": "SHOW LORD",
                                    "length": "167",
                                    "movie_length": "extra long movie"
                                },
                                {
                                    "title": "SHREK LICENSE",
                                    "length": "154",
                                    "movie_length": "extra long movie"
                                },
                                {
                                    "title": "SHRUNK DIVINE",
                                    "length": "139",
                                    "movie_length": "extra long movie"
                                },
                                {
                                    "title": "SIDE ARK",
                                    "length": "52",
                                    "movie_length": "short movie"
                                },
                                {
                                    "title": "SIEGE MADRE",
                                    "length": "111",
                                    "movie_length": "long movie"
                                },
                                {
                                    "title": "SIERRA DIVIDE",
                                    "length": "135",
                                    "movie_length": "extra long movie"
                                },
                                {
                                    "title": "SILENCE KANE",
                                    "length": "67",
                                    "movie_length": "normal movie"
                                },
                                {
                                    "title": "SILVERADO GOLDFINGER",
                                    "length": "74",
                                    "movie_length": "normal movie"
                                },
                                {
                                    "title": "SIMON NORTH",
                                    "length": "51",
                                    "movie_length": "short movie"
                                },
                                {
                                    "title": "SINNERS ATLANTIS",
                                    "length": "126",
                                    "movie_length": "extra long movie"
                                },
                                {
                                    "title": "SISTER FREDDY",
                                    "length": "152",
                                    "movie_length": "extra long movie"
                                },
                                {
                                    "title": "SKY MIRACLE",
                                    "length": "132",
                                    "movie_length": "extra long movie"
                                },
                                {
                                    "title": "SLACKER LIAISONS",
                                    "length": "179",
                                    "movie_length": "extra long movie"
                                },
                                {
                                    "title": "SLEEPING SUSPECTS",
                                    "length": "129",
                                    "movie_length": "extra long movie"
                                },
                                {
                                    "title": "SLEEPLESS MONSOON",
                                    "length": "64",
                                    "movie_length": "normal movie"
                                },
                                {
                                    "title": "SLEEPY JAPANESE",
                                    "length": "137",
                                    "movie_length": "extra long movie"
                                },
                                {
                                    "title": "SLEUTH ORIENT",
                                    "length": "87",
                                    "movie_length": "normal movie"
                                },
                                {
                                    "title": "SLING LUKE",
                                    "length": "84",
                                    "movie_length": "normal movie"
                                },
                                {
                                    "title": "SLIPPER FIDELITY",
                                    "length": "156",
                                    "movie_length": "extra long movie"
                                },
                                {
                                    "title": "SLUMS DUCK",
                                    "length": "147",
                                    "movie_length": "extra long movie"
                                },
                                {
                                    "title": "SMILE EARRING",
                                    "length": "60",
                                    "movie_length": "short movie"
                                },
                                {
                                    "title": "SMOKING BARBARELLA",
                                    "length": "50",
                                    "movie_length": "short movie"
                                },
                                {
                                    "title": "SMOOCHY CONTROL",
                                    "length": "184",
                                    "movie_length": "extra long movie"
                                },
                                {
                                    "title": "SNATCH SLIPPER",
                                    "length": "110",
                                    "movie_length": "long movie"
                                },
                                {
                                    "title": "SNATCHERS MONTEZUMA",
                                    "length": "74",
                                    "movie_length": "normal movie"
                                },
                                {
                                    "title": "SNOWMAN ROLLERCOASTER",
                                    "length": "62",
                                    "movie_length": "normal movie"
                                },
                                {
                                    "title": "SOLDIERS EVOLUTION",
                                    "length": "185",
                                    "movie_length": "extra long movie"
                                },
                                {
                                    "title": "SOMETHING DUCK",
                                    "length": "180",
                                    "movie_length": "extra long movie"
                                },
                                {
                                    "title": "SONG HEDWIG",
                                    "length": "165",
                                    "movie_length": "extra long movie"
                                },
                                {
                                    "title": "SONS INTERVIEW",
                                    "length": "184",
                                    "movie_length": "extra long movie"
                                },
                                {
                                    "title": "SORORITY QUEEN",
                                    "length": "184",
                                    "movie_length": "extra long movie"
                                },
                                {
                                    "title": "SOUP WISDOM",
                                    "length": "169",
                                    "movie_length": "extra long movie"
                                },
                                {
                                    "title": "SOUTH WAIT",
                                    "length": "143",
                                    "movie_length": "extra long movie"
                                },
                                {
                                    "title": "SPARTACUS CHEAPER",
                                    "length": "52",
                                    "movie_length": "short movie"
                                },
                                {
                                    "title": "SPEAKEASY DATE",
                                    "length": "165",
                                    "movie_length": "extra long movie"
                                },
                                {
                                    "title": "SPEED SUIT",
                                    "length": "124",
                                    "movie_length": "extra long movie"
                                },
                                {
                                    "title": "SPICE SORORITY",
                                    "length": "141",
                                    "movie_length": "extra long movie"
                                },
                                {
                                    "title": "SPIKING ELEMENT",
                                    "length": "79",
                                    "movie_length": "normal movie"
                                },
                                {
                                    "title": "SPINAL ROCKY",
                                    "length": "138",
                                    "movie_length": "extra long movie"
                                },
                                {
                                    "title": "SPIRIT FLINTSTONES",
                                    "length": "149",
                                    "movie_length": "extra long movie"
                                },
                                {
                                    "title": "SPIRITED CASUALTIES",
                                    "length": "138",
                                    "movie_length": "extra long movie"
                                },
                                {
                                    "title": "SPLASH GUMP",
                                    "length": "175",
                                    "movie_length": "extra long movie"
                                },
                                {
                                    "title": "SPLENDOR PATTON",
                                    "length": "134",
                                    "movie_length": "extra long movie"
                                },
                                {
                                    "title": "SPOILERS HELLFIGHTERS",
                                    "length": "151",
                                    "movie_length": "extra long movie"
                                },
                                {
                                    "title": "SPY MILE",
                                    "length": "112",
                                    "movie_length": "long movie"
                                },
                                {
                                    "title": "SQUAD FISH",
                                    "length": "136",
                                    "movie_length": "extra long movie"
                                },
                                {
                                    "title": "STAGE WORLD",
                                    "length": "85",
                                    "movie_length": "normal movie"
                                },
                                {
                                    "title": "STAGECOACH ARMAGEDDON",
                                    "length": "112",
                                    "movie_length": "long movie"
                                },
                                {
                                    "title": "STALLION SUNDANCE",
                                    "length": "130",
                                    "movie_length": "extra long movie"
                                },
                                {
                                    "title": "STAMPEDE DISTURBING",
                                    "length": "75",
                                    "movie_length": "normal movie"
                                },
                                {
                                    "title": "STAR OPERATION",
                                    "length": "181",
                                    "movie_length": "extra long movie"
                                },
                                {
                                    "title": "STATE WASTELAND",
                                    "length": "113",
                                    "movie_length": "long movie"
                                },
                                {
                                    "title": "STEEL SANTA",
                                    "length": "143",
                                    "movie_length": "extra long movie"
                                },
                                {
                                    "title": "STEERS ARMAGEDDON",
                                    "length": "140",
                                    "movie_length": "extra long movie"
                                },
                                {
                                    "title": "STEPMOM DREAM",
                                    "length": "48",
                                    "movie_length": "short movie"
                                },
                                {
                                    "title": "STING PERSONAL",
                                    "length": "93",
                                    "movie_length": "long movie"
                                },
                                {
                                    "title": "STOCK GLASS",
                                    "length": "160",
                                    "movie_length": "extra long movie"
                                },
                                {
                                    "title": "STONE FIRE",
                                    "length": "94",
                                    "movie_length": "long movie"
                                },
                                {
                                    "title": "STORM HAPPINESS",
                                    "length": "57",
                                    "movie_length": "short movie"
                                },
                                {
                                    "title": "STORY SIDE",
                                    "length": "163",
                                    "movie_length": "extra long movie"
                                },
                                {
                                    "title": "STRAIGHT HOURS",
                                    "length": "151",
                                    "movie_length": "extra long movie"
                                },
                                {
                                    "title": "STRANGELOVE DESIRE",
                                    "length": "103",
                                    "movie_length": "long movie"
                                },
                                {
                                    "title": "STRANGER STRANGERS",
                                    "length": "139",
                                    "movie_length": "extra long movie"
                                },
                                {
                                    "title": "STRANGERS GRAFFITI",
                                    "length": "119",
                                    "movie_length": "long movie"
                                },
                                {
                                    "title": "STREAK RIDGEMONT",
                                    "length": "132",
                                    "movie_length": "extra long movie"
                                },
                                {
                                    "title": "STREETCAR INTENTIONS",
                                    "length": "73",
                                    "movie_length": "normal movie"
                                },
                                {
                                    "title": "STRICTLY SCARFACE",
                                    "length": "144",
                                    "movie_length": "extra long movie"
                                },
                                {
                                    "title": "SUBMARINE BED",
                                    "length": "127",
                                    "movie_length": "extra long movie"
                                },
                                {
                                    "title": "SUGAR WONKA",
                                    "length": "114",
                                    "movie_length": "long movie"
                                },
                                {
                                    "title": "SUICIDES SILENCE",
                                    "length": "93",
                                    "movie_length": "long movie"
                                },
                                {
                                    "title": "SUIT WALLS",
                                    "length": "111",
                                    "movie_length": "long movie"
                                },
                                {
                                    "title": "SUMMER SCARFACE",
                                    "length": "53",
                                    "movie_length": "short movie"
                                },
                                {
                                    "title": "SUN CONFESSIONS",
                                    "length": "141",
                                    "movie_length": "extra long movie"
                                },
                                {
                                    "title": "SUNDANCE INVASION",
                                    "length": "92",
                                    "movie_length": "long movie"
                                },
                                {
                                    "title": "SUNRISE LEAGUE",
                                    "length": "135",
                                    "movie_length": "extra long movie"
                                },
                                {
                                    "title": "SUNSET RACER",
                                    "length": "48",
                                    "movie_length": "short movie"
                                },
                                {
                                    "title": "SUPER WYOMING",
                                    "length": "58",
                                    "movie_length": "short movie"
                                },
                                {
                                    "title": "SUPERFLY TRIP",
                                    "length": "114",
                                    "movie_length": "long movie"
                                },
                                {
                                    "title": "SUSPECTS QUILLS",
                                    "length": "47",
                                    "movie_length": "short movie"
                                },
                                {
                                    "title": "SWARM GOLD",
                                    "length": "123",
                                    "movie_length": "extra long movie"
                                },
                                {
                                    "title": "SWEDEN SHINING",
                                    "length": "176",
                                    "movie_length": "extra long movie"
                                },
                                {
                                    "title": "SWEET BROTHERHOOD",
                                    "length": "185",
                                    "movie_length": "extra long movie"
                                },
                                {
                                    "title": "SWEETHEARTS SUSPECTS",
                                    "length": "108",
                                    "movie_length": "long movie"
                                },
                                {
                                    "title": "TADPOLE PARK",
                                    "length": "155",
                                    "movie_length": "extra long movie"
                                },
                                {
                                    "title": "TALENTED HOMICIDE",
                                    "length": "173",
                                    "movie_length": "extra long movie"
                                },
                                {
                                    "title": "TARZAN VIDEOTAPE",
                                    "length": "91",
                                    "movie_length": "long movie"
                                },
                                {
                                    "title": "TAXI KICK",
                                    "length": "64",
                                    "movie_length": "normal movie"
                                },
                                {
                                    "title": "TEEN APOLLO",
                                    "length": "74",
                                    "movie_length": "normal movie"
                                },
                                {
                                    "title": "TELEGRAPH VOYAGE",
                                    "length": "148",
                                    "movie_length": "extra long movie"
                                },
                                {
                                    "title": "TELEMARK HEARTBREAKERS",
                                    "length": "152",
                                    "movie_length": "extra long movie"
                                },
                                {
                                    "title": "TEMPLE ATTRACTION",
                                    "length": "71",
                                    "movie_length": "normal movie"
                                },
                                {
                                    "title": "TENENBAUMS COMMAND",
                                    "length": "99",
                                    "movie_length": "long movie"
                                },
                                {
                                    "title": "TEQUILA PAST",
                                    "length": "53",
                                    "movie_length": "short movie"
                                },
                                {
                                    "title": "TERMINATOR CLUB",
                                    "length": "88",
                                    "movie_length": "normal movie"
                                },
                                {
                                    "title": "TEXAS WATCH",
                                    "length": "179",
                                    "movie_length": "extra long movie"
                                },
                                {
                                    "title": "THEORY MERMAID",
                                    "length": "184",
                                    "movie_length": "extra long movie"
                                },
                                {
                                    "title": "THIEF PELICAN",
                                    "length": "135",
                                    "movie_length": "extra long movie"
                                },
                                {
                                    "title": "THIN SAGEBRUSH",
                                    "length": "53",
                                    "movie_length": "short movie"
                                },
                                {
                                    "title": "TIES HUNGER",
                                    "length": "111",
                                    "movie_length": "long movie"
                                },
                                {
                                    "title": "TIGHTS DAWN",
                                    "length": "172",
                                    "movie_length": "extra long movie"
                                },
                                {
                                    "title": "TIMBERLAND SKY",
                                    "length": "69",
                                    "movie_length": "normal movie"
                                },
                                {
                                    "title": "TITANIC BOONDOCK",
                                    "length": "104",
                                    "movie_length": "long movie"
                                },
                                {
                                    "title": "TITANS JERK",
                                    "length": "91",
                                    "movie_length": "long movie"
                                },
                                {
                                    "title": "TOMATOES HELLFIGHTERS",
                                    "length": "68",
                                    "movie_length": "normal movie"
                                },
                                {
                                    "title": "TOMORROW HUSTLER",
                                    "length": "142",
                                    "movie_length": "extra long movie"
                                },
                                {
                                    "title": "TOOTSIE PILOT",
                                    "length": "157",
                                    "movie_length": "extra long movie"
                                },
                                {
                                    "title": "TORQUE BOUND",
                                    "length": "179",
                                    "movie_length": "extra long movie"
                                },
                                {
                                    "title": "TOURIST PELICAN",
                                    "length": "152",
                                    "movie_length": "extra long movie"
                                },
                                {
                                    "title": "TOWERS HURRICANE",
                                    "length": "144",
                                    "movie_length": "extra long movie"
                                },
                                {
                                    "title": "TOWN ARK",
                                    "length": "136",
                                    "movie_length": "extra long movie"
                                },
                                {
                                    "title": "TRACY CIDER",
                                    "length": "142",
                                    "movie_length": "extra long movie"
                                },
                                {
                                    "title": "TRADING PINOCCHIO",
                                    "length": "170",
                                    "movie_length": "extra long movie"
                                },
                                {
                                    "title": "TRAFFIC HOBBIT",
                                    "length": "139",
                                    "movie_length": "extra long movie"
                                },
                                {
                                    "title": "TRAIN BUNCH",
                                    "length": "71",
                                    "movie_length": "normal movie"
                                },
                                {
                                    "title": "TRAINSPOTTING STRANGERS",
                                    "length": "132",
                                    "movie_length": "extra long movie"
                                },
                                {
                                    "title": "TRAMP OTHERS",
                                    "length": "171",
                                    "movie_length": "extra long movie"
                                },
                                {
                                    "title": "TRANSLATION SUMMER",
                                    "length": "168",
                                    "movie_length": "extra long movie"
                                },
                                {
                                    "title": "TRAP GUYS",
                                    "length": "110",
                                    "movie_length": "long movie"
                                },
                                {
                                    "title": "TREASURE COMMAND",
                                    "length": "102",
                                    "movie_length": "long movie"
                                },
                                {
                                    "title": "TREATMENT JEKYLL",
                                    "length": "87",
                                    "movie_length": "normal movie"
                                },
                                {
                                    "title": "TRIP NEWTON",
                                    "length": "64",
                                    "movie_length": "normal movie"
                                },
                                {
                                    "title": "TROJAN TOMORROW",
                                    "length": "52",
                                    "movie_length": "short movie"
                                },
                                {
                                    "title": "TROOPERS METAL",
                                    "length": "115",
                                    "movie_length": "long movie"
                                },
                                {
                                    "title": "TROUBLE DATE",
                                    "length": "61",
                                    "movie_length": "normal movie"
                                },
                                {
                                    "title": "TRUMAN CRAZY",
                                    "length": "92",
                                    "movie_length": "long movie"
                                },
                                {
                                    "title": "TURN STAR",
                                    "length": "80",
                                    "movie_length": "normal movie"
                                },
                                {
                                    "title": "TUXEDO MILE",
                                    "length": "152",
                                    "movie_length": "extra long movie"
                                },
                                {
                                    "title": "TWISTED PIRATES",
                                    "length": "152",
                                    "movie_length": "extra long movie"
                                },
                                {
                                    "title": "TYCOON GATHERING",
                                    "length": "82",
                                    "movie_length": "normal movie"
                                },
                                {
                                    "title": "UNBREAKABLE KARATE",
                                    "length": "62",
                                    "movie_length": "normal movie"
                                },
                                {
                                    "title": "UNCUT SUICIDES",
                                    "length": "172",
                                    "movie_length": "extra long movie"
                                },
                                {
                                    "title": "UNDEFEATED DALMATIONS",
                                    "length": "107",
                                    "movie_length": "long movie"
                                },
                                {
                                    "title": "UNFAITHFUL KILL",
                                    "length": "78",
                                    "movie_length": "normal movie"
                                },
                                {
                                    "title": "UNFORGIVEN ZOOLANDER",
                                    "length": "129",
                                    "movie_length": "extra long movie"
                                },
                                {
                                    "title": "UNITED PILOT",
                                    "length": "164",
                                    "movie_length": "extra long movie"
                                },
                                {
                                    "title": "UNTOUCHABLES SUNRISE",
                                    "length": "120",
                                    "movie_length": "long movie"
                                },
                                {
                                    "title": "UPRISING UPTOWN",
                                    "length": "174",
                                    "movie_length": "extra long movie"
                                },
                                {
                                    "title": "UPTOWN YOUNG",
                                    "length": "84",
                                    "movie_length": "normal movie"
                                },
                                {
                                    "title": "USUAL UNTOUCHABLES",
                                    "length": "128",
                                    "movie_length": "extra long movie"
                                },
                                {
                                    "title": "VACATION BOONDOCK",
                                    "length": "145",
                                    "movie_length": "extra long movie"
                                },
                                {
                                    "title": "VALENTINE VANISHING",
                                    "length": "48",
                                    "movie_length": "short movie"
                                },
                                {
                                    "title": "VALLEY PACKER",
                                    "length": "73",
                                    "movie_length": "normal movie"
                                },
                                {
                                    "title": "VAMPIRE WHALE",
                                    "length": "126",
                                    "movie_length": "extra long movie"
                                },
                                {
                                    "title": "VANILLA DAY",
                                    "length": "122",
                                    "movie_length": "extra long movie"
                                },
                                {
                                    "title": "VANISHED GARDEN",
                                    "length": "142",
                                    "movie_length": "extra long movie"
                                },
                                {
                                    "title": "VANISHING ROCKY",
                                    "length": "123",
                                    "movie_length": "extra long movie"
                                },
                                {
                                    "title": "VARSITY TRIP",
                                    "length": "85",
                                    "movie_length": "normal movie"
                                },
                                {
                                    "title": "VELVET TERMINATOR",
                                    "length": "173",
                                    "movie_length": "extra long movie"
                                },
                                {
                                    "title": "VERTIGO NORTHWEST",
                                    "length": "90",
                                    "movie_length": "normal movie"
                                },
                                {
                                    "title": "VICTORY ACADEMY",
                                    "length": "64",
                                    "movie_length": "normal movie"
                                },
                                {
                                    "title": "VIDEOTAPE ARSENIC",
                                    "length": "145",
                                    "movie_length": "extra long movie"
                                },
                                {
                                    "title": "VIETNAM SMOOCHY",
                                    "length": "174",
                                    "movie_length": "extra long movie"
                                },
                                {
                                    "title": "VILLAIN DESPERATE",
                                    "length": "76",
                                    "movie_length": "normal movie"
                                },
                                {
                                    "title": "VIRGIN DAISY",
                                    "length": "179",
                                    "movie_length": "extra long movie"
                                },
                                {
                                    "title": "VIRGINIAN PLUTO",
                                    "length": "164",
                                    "movie_length": "extra long movie"
                                },
                                {
                                    "title": "VIRTUAL SPOILERS",
                                    "length": "144",
                                    "movie_length": "extra long movie"
                                },
                                {
                                    "title": "VISION TORQUE",
                                    "length": "59",
                                    "movie_length": "short movie"
                                },
                                {
                                    "title": "VOICE PEACH",
                                    "length": "139",
                                    "movie_length": "extra long movie"
                                },
                                {
                                    "title": "VOLCANO TEXAS",
                                    "length": "157",
                                    "movie_length": "extra long movie"
                                },
                                {
                                    "title": "VOLUME HOUSE",
                                    "length": "132",
                                    "movie_length": "extra long movie"
                                },
                                {
                                    "title": "VOYAGE LEGALLY",
                                    "length": "78",
                                    "movie_length": "normal movie"
                                },
                                {
                                    "title": "WAGON JAWS",
                                    "length": "152",
                                    "movie_length": "extra long movie"
                                },
                                {
                                    "title": "WAIT CIDER",
                                    "length": "112",
                                    "movie_length": "long movie"
                                },
                                {
                                    "title": "WAKE JAWS",
                                    "length": "73",
                                    "movie_length": "normal movie"
                                },
                                {
                                    "title": "WALLS ARTIST",
                                    "length": "135",
                                    "movie_length": "extra long movie"
                                },
                                {
                                    "title": "WANDA CHAMBER",
                                    "length": "107",
                                    "movie_length": "long movie"
                                },
                                {
                                    "title": "WAR NOTTING",
                                    "length": "80",
                                    "movie_length": "normal movie"
                                },
                                {
                                    "title": "WARDROBE PHANTOM",
                                    "length": "178",
                                    "movie_length": "extra long movie"
                                },
                                {
                                    "title": "WARLOCK WEREWOLF",
                                    "length": "83",
                                    "movie_length": "normal movie"
                                },
                                {
                                    "title": "WARS PLUTO",
                                    "length": "128",
                                    "movie_length": "extra long movie"
                                },
                                {
                                    "title": "WASH HEAVENLY",
                                    "length": "161",
                                    "movie_length": "extra long movie"
                                },
                                {
                                    "title": "WASTELAND DIVINE",
                                    "length": "85",
                                    "movie_length": "normal movie"
                                },
                                {
                                    "title": "WATCH TRACY",
                                    "length": "78",
                                    "movie_length": "normal movie"
                                },
                                {
                                    "title": "WATERFRONT DELIVERANCE",
                                    "length": "61",
                                    "movie_length": "normal movie"
                                },
                                {
                                    "title": "WATERSHIP FRONTIER",
                                    "length": "112",
                                    "movie_length": "long movie"
                                },
                                {
                                    "title": "WEDDING APOLLO",
                                    "length": "70",
                                    "movie_length": "normal movie"
                                },
                                {
                                    "title": "WEEKEND PERSONAL",
                                    "length": "134",
                                    "movie_length": "extra long movie"
                                },
                                {
                                    "title": "WEREWOLF LOLA",
                                    "length": "79",
                                    "movie_length": "normal movie"
                                },
                                {
                                    "title": "WEST LION",
                                    "length": "159",
                                    "movie_length": "extra long movie"
                                },
                                {
                                    "title": "WESTWARD SEABISCUIT",
                                    "length": "52",
                                    "movie_length": "short movie"
                                },
                                {
                                    "title": "WHALE BIKINI",
                                    "length": "109",
                                    "movie_length": "long movie"
                                },
                                {
                                    "title": "WHISPERER GIANT",
                                    "length": "59",
                                    "movie_length": "short movie"
                                },
                                {
                                    "title": "WIFE TURN",
                                    "length": "183",
                                    "movie_length": "extra long movie"
                                },
                                {
                                    "title": "WILD APOLLO",
                                    "length": "181",
                                    "movie_length": "extra long movie"
                                },
                                {
                                    "title": "WILLOW TRACY",
                                    "length": "137",
                                    "movie_length": "extra long movie"
                                },
                                {
                                    "title": "WIND PHANTOM",
                                    "length": "111",
                                    "movie_length": "long movie"
                                },
                                {
                                    "title": "WINDOW SIDE",
                                    "length": "85",
                                    "movie_length": "normal movie"
                                },
                                {
                                    "title": "WISDOM WORKER",
                                    "length": "98",
                                    "movie_length": "long movie"
                                },
                                {
                                    "title": "WITCHES PANIC",
                                    "length": "100",
                                    "movie_length": "long movie"
                                },
                                {
                                    "title": "WIZARD COLDBLOODED",
                                    "length": "75",
                                    "movie_length": "normal movie"
                                },
                                {
                                    "title": "WOLVES DESIRE",
                                    "length": "55",
                                    "movie_length": "short movie"
                                },
                                {
                                    "title": "WOMEN DORADO",
                                    "length": "126",
                                    "movie_length": "extra long movie"
                                },
                                {
                                    "title": "WON DARES",
                                    "length": "105",
                                    "movie_length": "long movie"
                                },
                                {
                                    "title": "WONDERFUL DROP",
                                    "length": "126",
                                    "movie_length": "extra long movie"
                                },
                                {
                                    "title": "WONDERLAND CHRISTMAS",
                                    "length": "111",
                                    "movie_length": "long movie"
                                },
                                {
                                    "title": "WONKA SEA",
                                    "length": "85",
                                    "movie_length": "normal movie"
                                },
                                {
                                    "title": "WORDS HUNTER",
                                    "length": "116",
                                    "movie_length": "long movie"
                                },
                                {
                                    "title": "WORKER TARZAN",
                                    "length": "139",
                                    "movie_length": "extra long movie"
                                },
                                {
                                    "title": "WORKING MICROCOSMOS",
                                    "length": "74",
                                    "movie_length": "normal movie"
                                },
                                {
                                    "title": "WORLD LEATHERNECKS",
                                    "length": "171",
                                    "movie_length": "extra long movie"
                                },
                                {
                                    "title": "WORST BANGER",
                                    "length": "185",
                                    "movie_length": "extra long movie"
                                },
                                {
                                    "title": "WRATH MILE",
                                    "length": "176",
                                    "movie_length": "extra long movie"
                                },
                                {
                                    "title": "WRONG BEHAVIOR",
                                    "length": "178",
                                    "movie_length": "extra long movie"
                                },
                                {
                                    "title": "WYOMING STORM",
                                    "length": "100",
                                    "movie_length": "long movie"
                                },
                                {
                                    "title": "YENTL IDAHO",
                                    "length": "86",
                                    "movie_length": "normal movie"
                                },
                                {
                                    "title": "YOUNG LANGUAGE",
                                    "length": "183",
                                    "movie_length": "extra long movie"
                                },
                                {
                                    "title": "YOUTH KICK",
                                    "length": "179",
                                    "movie_length": "extra long movie"
                                },
                                {
                                    "title": "ZHIVAGO CORE",
                                    "length": "105",
                                    "movie_length": "long movie"
                                },
                                {
                                    "title": "ZOOLANDER FICTION",
                                    "length": "101",
                                    "movie_length": "long movie"
                                },
                                {
                                    "title": "ZORRO ARK",
                                    "length": "50",
                                    "movie_length": "short movie"
                                }
                            ]
                        },
                        "text/html": [
                            "<table>",
                            "<tr><th>title</th><th>length</th><th>movie_length</th></tr>",
                            "<tr><td>ACADEMY DINOSAUR</td><td>86</td><td>normal movie</td></tr>",
                            "<tr><td>ACE GOLDFINGER</td><td>48</td><td>short movie</td></tr>",
                            "<tr><td>ADAPTATION HOLES</td><td>50</td><td>short movie</td></tr>",
                            "<tr><td>AFFAIR PREJUDICE</td><td>117</td><td>long movie</td></tr>",
                            "<tr><td>AFRICAN EGG</td><td>130</td><td>extra long movie</td></tr>",
                            "<tr><td>AGENT TRUMAN</td><td>169</td><td>extra long movie</td></tr>",
                            "<tr><td>AIRPLANE SIERRA</td><td>62</td><td>normal movie</td></tr>",
                            "<tr><td>AIRPORT POLLOCK</td><td>54</td><td>short movie</td></tr>",
                            "<tr><td>ALABAMA DEVIL</td><td>114</td><td>long movie</td></tr>",
                            "<tr><td>ALADDIN CALENDAR</td><td>63</td><td>normal movie</td></tr>",
                            "<tr><td>ALAMO VIDEOTAPE</td><td>126</td><td>extra long movie</td></tr>",
                            "<tr><td>ALASKA PHANTOM</td><td>136</td><td>extra long movie</td></tr>",
                            "<tr><td>ALI FOREVER</td><td>150</td><td>extra long movie</td></tr>",
                            "<tr><td>ALICE FANTASIA</td><td>94</td><td>long movie</td></tr>",
                            "<tr><td>ALIEN CENTER</td><td>46</td><td>short movie</td></tr>",
                            "<tr><td>ALLEY EVOLUTION</td><td>180</td><td>extra long movie</td></tr>",
                            "<tr><td>ALONE TRIP</td><td>82</td><td>normal movie</td></tr>",
                            "<tr><td>ALTER VICTORY</td><td>57</td><td>short movie</td></tr>",
                            "<tr><td>AMADEUS HOLY</td><td>113</td><td>long movie</td></tr>",
                            "<tr><td>AMELIE HELLFIGHTERS</td><td>79</td><td>normal movie</td></tr>",
                            "<tr><td>AMERICAN CIRCUS</td><td>129</td><td>extra long movie</td></tr>",
                            "<tr><td>AMISTAD MIDSUMMER</td><td>85</td><td>normal movie</td></tr>",
                            "<tr><td>ANACONDA CONFESSIONS</td><td>92</td><td>long movie</td></tr>",
                            "<tr><td>ANALYZE HOOSIERS</td><td>181</td><td>extra long movie</td></tr>",
                            "<tr><td>ANGELS LIFE</td><td>74</td><td>normal movie</td></tr>",
                            "<tr><td>ANNIE IDENTITY</td><td>86</td><td>normal movie</td></tr>",
                            "<tr><td>ANONYMOUS HUMAN</td><td>179</td><td>extra long movie</td></tr>",
                            "<tr><td>ANTHEM LUKE</td><td>91</td><td>long movie</td></tr>",
                            "<tr><td>ANTITRUST TOMATOES</td><td>168</td><td>extra long movie</td></tr>",
                            "<tr><td>ANYTHING SAVANNAH</td><td>82</td><td>normal movie</td></tr>",
                            "<tr><td>APACHE DIVINE</td><td>92</td><td>long movie</td></tr>",
                            "<tr><td>APOCALYPSE FLAMINGOS</td><td>119</td><td>long movie</td></tr>",
                            "<tr><td>APOLLO TEEN</td><td>153</td><td>extra long movie</td></tr>",
                            "<tr><td>ARABIA DOGMA</td><td>62</td><td>normal movie</td></tr>",
                            "<tr><td>ARACHNOPHOBIA ROLLERCOASTER</td><td>147</td><td>extra long movie</td></tr>",
                            "<tr><td>ARGONAUTS TOWN</td><td>127</td><td>extra long movie</td></tr>",
                            "<tr><td>ARIZONA BANG</td><td>121</td><td>extra long movie</td></tr>",
                            "<tr><td>ARK RIDGEMONT</td><td>68</td><td>normal movie</td></tr>",
                            "<tr><td>ARMAGEDDON LOST</td><td>99</td><td>long movie</td></tr>",
                            "<tr><td>ARMY FLINTSTONES</td><td>148</td><td>extra long movie</td></tr>",
                            "<tr><td>ARSENIC INDEPENDENCE</td><td>137</td><td>extra long movie</td></tr>",
                            "<tr><td>ARTIST COLDBLOODED</td><td>170</td><td>extra long movie</td></tr>",
                            "<tr><td>ATLANTIS CAUSE</td><td>170</td><td>extra long movie</td></tr>",
                            "<tr><td>ATTACKS HATE</td><td>113</td><td>long movie</td></tr>",
                            "<tr><td>ATTRACTION NEWTON</td><td>83</td><td>normal movie</td></tr>",
                            "<tr><td>AUTUMN CROW</td><td>108</td><td>long movie</td></tr>",
                            "<tr><td>BABY HALL</td><td>153</td><td>extra long movie</td></tr>",
                            "<tr><td>BACKLASH UNDEFEATED</td><td>118</td><td>long movie</td></tr>",
                            "<tr><td>BADMAN DAWN</td><td>162</td><td>extra long movie</td></tr>",
                            "<tr><td>BAKED CLEOPATRA</td><td>182</td><td>extra long movie</td></tr>",
                            "<tr><td>BALLOON HOMEWARD</td><td>75</td><td>normal movie</td></tr>",
                            "<tr><td>BALLROOM MOCKINGBIRD</td><td>173</td><td>extra long movie</td></tr>",
                            "<tr><td>BANG KWAI</td><td>87</td><td>normal movie</td></tr>",
                            "<tr><td>BANGER PINOCCHIO</td><td>113</td><td>long movie</td></tr>",
                            "<tr><td>BARBARELLA STREETCAR</td><td>65</td><td>normal movie</td></tr>",
                            "<tr><td>BAREFOOT MANCHURIAN</td><td>129</td><td>extra long movie</td></tr>",
                            "<tr><td>BASIC EASY</td><td>90</td><td>normal movie</td></tr>",
                            "<tr><td>BEACH HEARTBREAKERS</td><td>122</td><td>extra long movie</td></tr>",
                            "<tr><td>BEAR GRACELAND</td><td>160</td><td>extra long movie</td></tr>",
                            "<tr><td>BEAST HUNCHBACK</td><td>89</td><td>normal movie</td></tr>",
                            "<tr><td>BEAUTY GREASE</td><td>175</td><td>extra long movie</td></tr>",
                            "<tr><td>BED HIGHBALL</td><td>106</td><td>long movie</td></tr>",
                            "<tr><td>BEDAZZLED MARRIED</td><td>73</td><td>normal movie</td></tr>",
                            "<tr><td>BEETHOVEN EXORCIST</td><td>151</td><td>extra long movie</td></tr>",
                            "<tr><td>BEHAVIOR RUNAWAY</td><td>100</td><td>long movie</td></tr>",
                            "<tr><td>BENEATH RUSH</td><td>53</td><td>short movie</td></tr>",
                            "<tr><td>BERETS AGENT</td><td>77</td><td>normal movie</td></tr>",
                            "<tr><td>BETRAYED REAR</td><td>122</td><td>extra long movie</td></tr>",
                            "<tr><td>BEVERLY OUTLAW</td><td>85</td><td>normal movie</td></tr>",
                            "<tr><td>BIKINI BORROWERS</td><td>142</td><td>extra long movie</td></tr>",
                            "<tr><td>BILKO ANONYMOUS</td><td>100</td><td>long movie</td></tr>",
                            "<tr><td>BILL OTHERS</td><td>93</td><td>long movie</td></tr>",
                            "<tr><td>BINGO TALENTED</td><td>150</td><td>extra long movie</td></tr>",
                            "<tr><td>BIRCH ANTITRUST</td><td>162</td><td>extra long movie</td></tr>",
                            "<tr><td>BIRD INDEPENDENCE</td><td>163</td><td>extra long movie</td></tr>",
                            "<tr><td>BIRDCAGE CASPER</td><td>103</td><td>long movie</td></tr>",
                            "<tr><td>BIRDS PERDITION</td><td>61</td><td>normal movie</td></tr>",
                            "<tr><td>BLACKOUT PRIVATE</td><td>85</td><td>normal movie</td></tr>",
                            "<tr><td>BLADE POLISH</td><td>114</td><td>long movie</td></tr>",
                            "<tr><td>BLANKET BEVERLY</td><td>148</td><td>extra long movie</td></tr>",
                            "<tr><td>BLINDNESS GUN</td><td>103</td><td>long movie</td></tr>",
                            "<tr><td>BLOOD ARGONAUTS</td><td>71</td><td>normal movie</td></tr>",
                            "<tr><td>BLUES INSTINCT</td><td>50</td><td>short movie</td></tr>",
                            "<tr><td>BOILED DARES</td><td>102</td><td>long movie</td></tr>",
                            "<tr><td>BONNIE HOLOCAUST</td><td>63</td><td>normal movie</td></tr>",
                            "<tr><td>BOOGIE AMELIE</td><td>121</td><td>extra long movie</td></tr>",
                            "<tr><td>BOONDOCK BALLROOM</td><td>76</td><td>normal movie</td></tr>",
                            "<tr><td>BORN SPINAL</td><td>179</td><td>extra long movie</td></tr>",
                            "<tr><td>BORROWERS BEDAZZLED</td><td>63</td><td>normal movie</td></tr>",
                            "<tr><td>BOULEVARD MOB</td><td>63</td><td>normal movie</td></tr>",
                            "<tr><td>BOUND CHEAPER</td><td>98</td><td>long movie</td></tr>",
                            "<tr><td>BOWFINGER GABLES</td><td>72</td><td>normal movie</td></tr>",
                            "<tr><td>BRANNIGAN SUNRISE</td><td>121</td><td>extra long movie</td></tr>",
                            "<tr><td>BRAVEHEART HUMAN</td><td>176</td><td>extra long movie</td></tr>",
                            "<tr><td>BREAKFAST GOLDFINGER</td><td>123</td><td>extra long movie</td></tr>",
                            "<tr><td>BREAKING HOME</td><td>169</td><td>extra long movie</td></tr>",
                            "<tr><td>BRIDE INTRIGUE</td><td>56</td><td>short movie</td></tr>",
                            "<tr><td>BRIGHT ENCOUNTERS</td><td>73</td><td>normal movie</td></tr>",
                            "<tr><td>BRINGING HYSTERICAL</td><td>136</td><td>extra long movie</td></tr>",
                            "<tr><td>BROOKLYN DESERT</td><td>161</td><td>extra long movie</td></tr>",
                            "<tr><td>BROTHERHOOD BLANKET</td><td>73</td><td>normal movie</td></tr>",
                            "<tr><td>BUBBLE GROSSE</td><td>60</td><td>short movie</td></tr>",
                            "<tr><td>BUCKET BROTHERHOOD</td><td>133</td><td>extra long movie</td></tr>",
                            "<tr><td>BUGSY SONG</td><td>119</td><td>long movie</td></tr>",
                            "<tr><td>BULL SHAWSHANK</td><td>125</td><td>extra long movie</td></tr>",
                            "<tr><td>BULWORTH COMMANDMENTS</td><td>61</td><td>normal movie</td></tr>",
                            "<tr><td>BUNCH MINDS</td><td>63</td><td>normal movie</td></tr>",
                            "<tr><td>BUTCH PANTHER</td><td>67</td><td>normal movie</td></tr>",
                            "<tr><td>BUTTERFLY CHOCOLAT</td><td>89</td><td>normal movie</td></tr>",
                            "<tr><td>CABIN FLASH</td><td>53</td><td>short movie</td></tr>",
                            "<tr><td>CADDYSHACK JEDI</td><td>52</td><td>short movie</td></tr>",
                            "<tr><td>CALENDAR GUNFIGHT</td><td>120</td><td>long movie</td></tr>",
                            "<tr><td>CALIFORNIA BIRDS</td><td>75</td><td>normal movie</td></tr>",
                            "<tr><td>CAMELOT VACATION</td><td>61</td><td>normal movie</td></tr>",
                            "<tr><td>CAMPUS REMEMBER</td><td>167</td><td>extra long movie</td></tr>",
                            "<tr><td>CANDIDATE PERDITION</td><td>70</td><td>normal movie</td></tr>",
                            "<tr><td>CANDLES GRAPES</td><td>135</td><td>extra long movie</td></tr>",
                            "<tr><td>CANYON STOCK</td><td>85</td><td>normal movie</td></tr>",
                            "<tr><td>CAPER MOTIONS</td><td>176</td><td>extra long movie</td></tr>",
                            "<tr><td>CARIBBEAN LIBERTY</td><td>92</td><td>long movie</td></tr>",
                            "<tr><td>CAROL TEXAS</td><td>151</td><td>extra long movie</td></tr>",
                            "<tr><td>CARRIE BUNCH</td><td>114</td><td>long movie</td></tr>",
                            "<tr><td>CASABLANCA SUPER</td><td>85</td><td>normal movie</td></tr>",
                            "<tr><td>CASPER DRAGONFLY</td><td>163</td><td>extra long movie</td></tr>",
                            "<tr><td>CASSIDY WYOMING</td><td>61</td><td>normal movie</td></tr>",
                            "<tr><td>CASUALTIES ENCINO</td><td>179</td><td>extra long movie</td></tr>",
                            "<tr><td>CAT CONEHEADS</td><td>112</td><td>long movie</td></tr>",
                            "<tr><td>CATCH AMISTAD</td><td>183</td><td>extra long movie</td></tr>",
                            "<tr><td>CAUSE DATE</td><td>179</td><td>extra long movie</td></tr>",
                            "<tr><td>CELEBRITY HORN</td><td>110</td><td>long movie</td></tr>",
                            "<tr><td>CENTER DINOSAUR</td><td>152</td><td>extra long movie</td></tr>",
                            "<tr><td>CHAINSAW UPTOWN</td><td>114</td><td>long movie</td></tr>",
                            "<tr><td>CHAMBER ITALIAN</td><td>117</td><td>long movie</td></tr>",
                            "<tr><td>CHAMPION FLATLINERS</td><td>51</td><td>short movie</td></tr>",
                            "<tr><td>CHANCE RESURRECTION</td><td>70</td><td>normal movie</td></tr>",
                            "<tr><td>CHAPLIN LICENSE</td><td>146</td><td>extra long movie</td></tr>",
                            "<tr><td>CHARADE DUFFEL</td><td>66</td><td>normal movie</td></tr>",
                            "<tr><td>CHARIOTS CONSPIRACY</td><td>71</td><td>normal movie</td></tr>",
                            "<tr><td>CHASING FIGHT</td><td>114</td><td>long movie</td></tr>",
                            "<tr><td>CHEAPER CLYDE</td><td>87</td><td>normal movie</td></tr>",
                            "<tr><td>CHICAGO NORTH</td><td>185</td><td>extra long movie</td></tr>",
                            "<tr><td>CHICKEN HELLFIGHTERS</td><td>122</td><td>extra long movie</td></tr>",
                            "<tr><td>CHILL LUCK</td><td>142</td><td>extra long movie</td></tr>",
                            "<tr><td>CHINATOWN GLADIATOR</td><td>61</td><td>normal movie</td></tr>",
                            "<tr><td>CHISUM BEHAVIOR</td><td>124</td><td>extra long movie</td></tr>",
                            "<tr><td>CHITTY LOCK</td><td>107</td><td>long movie</td></tr>",
                            "<tr><td>CHOCOLAT HARRY</td><td>101</td><td>long movie</td></tr>",
                            "<tr><td>CHOCOLATE DUCK</td><td>132</td><td>extra long movie</td></tr>",
                            "<tr><td>CHRISTMAS MOONSHINE</td><td>150</td><td>extra long movie</td></tr>",
                            "<tr><td>CIDER DESIRE</td><td>101</td><td>long movie</td></tr>",
                            "<tr><td>CINCINATTI WHISPERER</td><td>143</td><td>extra long movie</td></tr>",
                            "<tr><td>CIRCUS YOUTH</td><td>90</td><td>normal movie</td></tr>",
                            "<tr><td>CITIZEN SHREK</td><td>165</td><td>extra long movie</td></tr>",
                            "<tr><td>CLASH FREDDY</td><td>81</td><td>normal movie</td></tr>",
                            "<tr><td>CLEOPATRA DEVIL</td><td>150</td><td>extra long movie</td></tr>",
                            "<tr><td>CLERKS ANGELS</td><td>164</td><td>extra long movie</td></tr>",
                            "<tr><td>CLOCKWORK PARADISE</td><td>143</td><td>extra long movie</td></tr>",
                            "<tr><td>CLONES PINOCCHIO</td><td>124</td><td>extra long movie</td></tr>",
                            "<tr><td>CLOSER BANG</td><td>58</td><td>short movie</td></tr>",
                            "<tr><td>CLUB GRAFFITI</td><td>65</td><td>normal movie</td></tr>",
                            "<tr><td>CLUE GRAIL</td><td>70</td><td>normal movie</td></tr>",
                            "<tr><td>CLUELESS BUCKET</td><td>95</td><td>long movie</td></tr>",
                            "<tr><td>CLYDE THEORY</td><td>139</td><td>extra long movie</td></tr>",
                            "<tr><td>COAST RAINBOW</td><td>55</td><td>short movie</td></tr>",
                            "<tr><td>COLDBLOODED DARLING</td><td>70</td><td>normal movie</td></tr>",
                            "<tr><td>COLOR PHILADELPHIA</td><td>149</td><td>extra long movie</td></tr>",
                            "<tr><td>COMA HEAD</td><td>109</td><td>long movie</td></tr>",
                            "<tr><td>COMANCHEROS ENEMY</td><td>67</td><td>normal movie</td></tr>",
                            "<tr><td>COMFORTS RUSH</td><td>76</td><td>normal movie</td></tr>",
                            "<tr><td>COMMAND DARLING</td><td>120</td><td>long movie</td></tr>",
                            "<tr><td>COMMANDMENTS EXPRESS</td><td>59</td><td>short movie</td></tr>",
                            "<tr><td>CONEHEADS SMOOCHY</td><td>112</td><td>long movie</td></tr>",
                            "<tr><td>CONFESSIONS MAGUIRE</td><td>65</td><td>normal movie</td></tr>",
                            "<tr><td>CONFIDENTIAL INTERVIEW</td><td>180</td><td>extra long movie</td></tr>",
                            "<tr><td>CONFUSED CANDLES</td><td>122</td><td>extra long movie</td></tr>",
                            "<tr><td>CONGENIALITY QUEST</td><td>87</td><td>normal movie</td></tr>",
                            "<tr><td>CONNECTICUT TRAMP</td><td>172</td><td>extra long movie</td></tr>",
                            "<tr><td>CONNECTION MICROCOSMOS</td><td>115</td><td>long movie</td></tr>",
                            "<tr><td>CONQUERER NUTS</td><td>173</td><td>extra long movie</td></tr>",
                            "<tr><td>CONSPIRACY SPIRIT</td><td>184</td><td>extra long movie</td></tr>",
                            "<tr><td>CONTACT ANONYMOUS</td><td>166</td><td>extra long movie</td></tr>",
                            "<tr><td>CONTROL ANTHEM</td><td>185</td><td>extra long movie</td></tr>",
                            "<tr><td>CONVERSATION DOWNHILL</td><td>112</td><td>long movie</td></tr>",
                            "<tr><td>CORE SUIT</td><td>92</td><td>long movie</td></tr>",
                            "<tr><td>COWBOY DOOM</td><td>146</td><td>extra long movie</td></tr>",
                            "<tr><td>CRAFT OUTFIELD</td><td>64</td><td>normal movie</td></tr>",
                            "<tr><td>CRANES RESERVOIR</td><td>57</td><td>short movie</td></tr>",
                            "<tr><td>CRAZY HOME</td><td>136</td><td>extra long movie</td></tr>",
                            "<tr><td>CREATURES SHAKESPEARE</td><td>139</td><td>extra long movie</td></tr>",
                            "<tr><td>CREEPERS KANE</td><td>172</td><td>extra long movie</td></tr>",
                            "<tr><td>CROOKED FROGMEN</td><td>143</td><td>extra long movie</td></tr>",
                            "<tr><td>CROSSING DIVORCE</td><td>50</td><td>short movie</td></tr>",
                            "<tr><td>CROSSROADS CASUALTIES</td><td>153</td><td>extra long movie</td></tr>",
                            "<tr><td>CROW GREASE</td><td>104</td><td>long movie</td></tr>",
                            "<tr><td>CROWDS TELEMARK</td><td>112</td><td>long movie</td></tr>",
                            "<tr><td>CRUELTY UNFORGIVEN</td><td>69</td><td>normal movie</td></tr>",
                            "<tr><td>CRUSADE HONEY</td><td>112</td><td>long movie</td></tr>",
                            "<tr><td>CRYSTAL BREAKING</td><td>184</td><td>extra long movie</td></tr>",
                            "<tr><td>CUPBOARD SINNERS</td><td>56</td><td>short movie</td></tr>",
                            "<tr><td>CURTAIN VIDEOTAPE</td><td>133</td><td>extra long movie</td></tr>",
                            "<tr><td>CYCLONE FAMILY</td><td>176</td><td>extra long movie</td></tr>",
                            "<tr><td>DADDY PITTSBURGH</td><td>161</td><td>extra long movie</td></tr>",
                            "<tr><td>DAISY MENAGERIE</td><td>84</td><td>normal movie</td></tr>",
                            "<tr><td>DALMATIONS SWEDEN</td><td>106</td><td>long movie</td></tr>",
                            "<tr><td>DANCES NONE</td><td>58</td><td>short movie</td></tr>",
                            "<tr><td>DANCING FEVER</td><td>144</td><td>extra long movie</td></tr>",
                            "<tr><td>DANGEROUS UPTOWN</td><td>121</td><td>extra long movie</td></tr>",
                            "<tr><td>DARES PLUTO</td><td>89</td><td>normal movie</td></tr>",
                            "<tr><td>DARKNESS WAR</td><td>99</td><td>long movie</td></tr>",
                            "<tr><td>DARKO DORADO</td><td>130</td><td>extra long movie</td></tr>",
                            "<tr><td>DARLING BREAKING</td><td>165</td><td>extra long movie</td></tr>",
                            "<tr><td>DARN FORRESTER</td><td>185</td><td>extra long movie</td></tr>",
                            "<tr><td>DATE SPEED</td><td>104</td><td>long movie</td></tr>",
                            "<tr><td>DAUGHTER MADIGAN</td><td>59</td><td>short movie</td></tr>",
                            "<tr><td>DAWN POND</td><td>57</td><td>short movie</td></tr>",
                            "<tr><td>DAY UNFAITHFUL</td><td>113</td><td>long movie</td></tr>",
                            "<tr><td>DAZED PUNK</td><td>120</td><td>long movie</td></tr>",
                            "<tr><td>DECEIVER BETRAYED</td><td>122</td><td>extra long movie</td></tr>",
                            "<tr><td>DEEP CRUSADE</td><td>51</td><td>short movie</td></tr>",
                            "<tr><td>DEER VIRGINIAN</td><td>106</td><td>long movie</td></tr>",
                            "<tr><td>DELIVERANCE MULHOLLAND</td><td>100</td><td>long movie</td></tr>",
                            "<tr><td>DESERT POSEIDON</td><td>64</td><td>normal movie</td></tr>",
                            "<tr><td>DESIRE ALIEN</td><td>76</td><td>normal movie</td></tr>",
                            "<tr><td>DESPERATE TRAINSPOTTING</td><td>81</td><td>normal movie</td></tr>",
                            "<tr><td>DESTINATION JERK</td><td>76</td><td>normal movie</td></tr>",
                            "<tr><td>DESTINY SATURDAY</td><td>56</td><td>short movie</td></tr>",
                            "<tr><td>DETAILS PACKER</td><td>88</td><td>normal movie</td></tr>",
                            "<tr><td>DETECTIVE VISION</td><td>143</td><td>extra long movie</td></tr>",
                            "<tr><td>DEVIL DESIRE</td><td>87</td><td>normal movie</td></tr>",
                            "<tr><td>DIARY PANIC</td><td>107</td><td>long movie</td></tr>",
                            "<tr><td>DINOSAUR SECRETARY</td><td>63</td><td>normal movie</td></tr>",
                            "<tr><td>DIRTY ACE</td><td>147</td><td>extra long movie</td></tr>",
                            "<tr><td>DISCIPLE MOTHER</td><td>141</td><td>extra long movie</td></tr>",
                            "<tr><td>DISTURBING SCARFACE</td><td>94</td><td>long movie</td></tr>",
                            "<tr><td>DIVIDE MONSTER</td><td>68</td><td>normal movie</td></tr>",
                            "<tr><td>DIVINE RESURRECTION</td><td>100</td><td>long movie</td></tr>",
                            "<tr><td>DIVORCE SHINING</td><td>47</td><td>short movie</td></tr>",
                            "<tr><td>DOCTOR GRAIL</td><td>57</td><td>short movie</td></tr>",
                            "<tr><td>DOGMA FAMILY</td><td>122</td><td>extra long movie</td></tr>",
                            "<tr><td>DOLLS RAGE</td><td>120</td><td>long movie</td></tr>",
                            "<tr><td>DONNIE ALLEY</td><td>125</td><td>extra long movie</td></tr>",
                            "<tr><td>DOOM DANCING</td><td>68</td><td>normal movie</td></tr>",
                            "<tr><td>DOORS PRESIDENT</td><td>49</td><td>short movie</td></tr>",
                            "<tr><td>DORADO NOTTING</td><td>139</td><td>extra long movie</td></tr>",
                            "<tr><td>DOUBLE WRATH</td><td>177</td><td>extra long movie</td></tr>",
                            "<tr><td>DOUBTFIRE LABYRINTH</td><td>154</td><td>extra long movie</td></tr>",
                            "<tr><td>DOWNHILL ENOUGH</td><td>47</td><td>short movie</td></tr>",
                            "<tr><td>DOZEN LION</td><td>177</td><td>extra long movie</td></tr>",
                            "<tr><td>DRACULA CRYSTAL</td><td>176</td><td>extra long movie</td></tr>",
                            "<tr><td>DRAGON SQUAD</td><td>170</td><td>extra long movie</td></tr>",
                            "<tr><td>DRAGONFLY STRANGERS</td><td>133</td><td>extra long movie</td></tr>",
                            "<tr><td>DREAM PICKUP</td><td>135</td><td>extra long movie</td></tr>",
                            "<tr><td>DRIFTER COMMANDMENTS</td><td>61</td><td>normal movie</td></tr>",
                            "<tr><td>DRIVER ANNIE</td><td>159</td><td>extra long movie</td></tr>",
                            "<tr><td>DRIVING POLISH</td><td>175</td><td>extra long movie</td></tr>",
                            "<tr><td>DROP WATERFRONT</td><td>178</td><td>extra long movie</td></tr>",
                            "<tr><td>DRUMLINE CYCLONE</td><td>110</td><td>long movie</td></tr>",
                            "<tr><td>DRUMS DYNAMITE</td><td>96</td><td>long movie</td></tr>",
                            "<tr><td>DUCK RACER</td><td>116</td><td>long movie</td></tr>",
                            "<tr><td>DUDE BLINDNESS</td><td>132</td><td>extra long movie</td></tr>",
                            "<tr><td>DUFFEL APOCALYPSE</td><td>171</td><td>extra long movie</td></tr>",
                            "<tr><td>DUMBO LUST</td><td>119</td><td>long movie</td></tr>",
                            "<tr><td>DURHAM PANKY</td><td>154</td><td>extra long movie</td></tr>",
                            "<tr><td>DWARFS ALTER</td><td>101</td><td>long movie</td></tr>",
                            "<tr><td>DYING MAKER</td><td>168</td><td>extra long movie</td></tr>",
                            "<tr><td>DYNAMITE TARZAN</td><td>141</td><td>extra long movie</td></tr>",
                            "<tr><td>EAGLES PANKY</td><td>140</td><td>extra long movie</td></tr>",
                            "<tr><td>EARLY HOME</td><td>96</td><td>long movie</td></tr>",
                            "<tr><td>EARRING INSTINCT</td><td>98</td><td>long movie</td></tr>",
                            "<tr><td>EARTH VISION</td><td>85</td><td>normal movie</td></tr>",
                            "<tr><td>EASY GLADIATOR</td><td>148</td><td>extra long movie</td></tr>",
                            "<tr><td>EDGE KISSING</td><td>153</td><td>extra long movie</td></tr>",
                            "<tr><td>EFFECT GLADIATOR</td><td>107</td><td>long movie</td></tr>",
                            "<tr><td>EGG IGBY</td><td>67</td><td>normal movie</td></tr>",
                            "<tr><td>EGYPT TENENBAUMS</td><td>85</td><td>normal movie</td></tr>",
                            "<tr><td>ELEMENT FREDDY</td><td>115</td><td>long movie</td></tr>",
                            "<tr><td>ELEPHANT TROJAN</td><td>126</td><td>extra long movie</td></tr>",
                            "<tr><td>ELF MURDER</td><td>155</td><td>extra long movie</td></tr>",
                            "<tr><td>ELIZABETH SHANE</td><td>152</td><td>extra long movie</td></tr>",
                            "<tr><td>EMPIRE MALKOVICH</td><td>177</td><td>extra long movie</td></tr>",
                            "<tr><td>ENCINO ELF</td><td>143</td><td>extra long movie</td></tr>",
                            "<tr><td>ENCOUNTERS CURTAIN</td><td>92</td><td>long movie</td></tr>",
                            "<tr><td>ENDING CROWDS</td><td>85</td><td>normal movie</td></tr>",
                            "<tr><td>ENEMY ODDS</td><td>77</td><td>normal movie</td></tr>",
                            "<tr><td>ENGLISH BULWORTH</td><td>51</td><td>short movie</td></tr>",
                            "<tr><td>ENOUGH RAGING</td><td>158</td><td>extra long movie</td></tr>",
                            "<tr><td>ENTRAPMENT SATISFACTION</td><td>176</td><td>extra long movie</td></tr>",
                            "<tr><td>ESCAPE METROPOLIS</td><td>167</td><td>extra long movie</td></tr>",
                            "<tr><td>EVE RESURRECTION</td><td>66</td><td>normal movie</td></tr>",
                            "<tr><td>EVERYONE CRAFT</td><td>163</td><td>extra long movie</td></tr>",
                            "<tr><td>EVOLUTION ALTER</td><td>174</td><td>extra long movie</td></tr>",
                            "<tr><td>EXCITEMENT EVE</td><td>51</td><td>short movie</td></tr>",
                            "<tr><td>EXORCIST STING</td><td>167</td><td>extra long movie</td></tr>",
                            "<tr><td>EXPECATIONS NATURAL</td><td>138</td><td>extra long movie</td></tr>",
                            "<tr><td>EXPENDABLE STALLION</td><td>97</td><td>long movie</td></tr>",
                            "<tr><td>EXPRESS LONELY</td><td>178</td><td>extra long movie</td></tr>",
                            "<tr><td>EXTRAORDINARY CONQUERER</td><td>122</td><td>extra long movie</td></tr>",
                            "<tr><td>EYES DRIVING</td><td>172</td><td>extra long movie</td></tr>",
                            "<tr><td>FACTORY DRAGON</td><td>144</td><td>extra long movie</td></tr>",
                            "<tr><td>FALCON VOLUME</td><td>102</td><td>long movie</td></tr>",
                            "<tr><td>FAMILY SWEET</td><td>155</td><td>extra long movie</td></tr>",
                            "<tr><td>FANTASIA PARK</td><td>131</td><td>extra long movie</td></tr>",
                            "<tr><td>FANTASY TROOPERS</td><td>58</td><td>short movie</td></tr>",
                            "<tr><td>FARGO GANDHI</td><td>130</td><td>extra long movie</td></tr>",
                            "<tr><td>FATAL HAUNTED</td><td>91</td><td>long movie</td></tr>",
                            "<tr><td>FEATHERS METAL</td><td>104</td><td>long movie</td></tr>",
                            "<tr><td>FELLOWSHIP AUTUMN</td><td>77</td><td>normal movie</td></tr>",
                            "<tr><td>FERRIS MOTHER</td><td>142</td><td>extra long movie</td></tr>",
                            "<tr><td>FEUD FROGMEN</td><td>98</td><td>long movie</td></tr>",
                            "<tr><td>FEVER EMPIRE</td><td>158</td><td>extra long movie</td></tr>",
                            "<tr><td>FICTION CHRISTMAS</td><td>72</td><td>normal movie</td></tr>",
                            "<tr><td>FIDDLER LOST</td><td>75</td><td>normal movie</td></tr>",
                            "<tr><td>FIDELITY DEVIL</td><td>118</td><td>long movie</td></tr>",
                            "<tr><td>FIGHT JAWBREAKER</td><td>91</td><td>long movie</td></tr>",
                            "<tr><td>FINDING ANACONDA</td><td>156</td><td>extra long movie</td></tr>",
                            "<tr><td>FIRE WOLVES</td><td>173</td><td>extra long movie</td></tr>",
                            "<tr><td>FIREBALL PHILADELPHIA</td><td>148</td><td>extra long movie</td></tr>",
                            "<tr><td>FIREHOUSE VIETNAM</td><td>103</td><td>long movie</td></tr>",
                            "<tr><td>FISH OPUS</td><td>125</td><td>extra long movie</td></tr>",
                            "<tr><td>FLAMINGOS CONNECTICUT</td><td>80</td><td>normal movie</td></tr>",
                            "<tr><td>FLASH WARS</td><td>123</td><td>extra long movie</td></tr>",
                            "<tr><td>FLATLINERS KILLER</td><td>100</td><td>long movie</td></tr>",
                            "<tr><td>FLIGHT LIES</td><td>179</td><td>extra long movie</td></tr>",
                            "<tr><td>FLINTSTONES HAPPINESS</td><td>148</td><td>extra long movie</td></tr>",
                            "<tr><td>FLOATS GARDEN</td><td>145</td><td>extra long movie</td></tr>",
                            "<tr><td>FLYING HOOK</td><td>69</td><td>normal movie</td></tr>",
                            "<tr><td>FOOL MOCKINGBIRD</td><td>158</td><td>extra long movie</td></tr>",
                            "<tr><td>FOREVER CANDIDATE</td><td>131</td><td>extra long movie</td></tr>",
                            "<tr><td>FORREST SONS</td><td>63</td><td>normal movie</td></tr>",
                            "<tr><td>FORRESTER COMANCHEROS</td><td>112</td><td>long movie</td></tr>",
                            "<tr><td>FORWARD TEMPLE</td><td>90</td><td>normal movie</td></tr>",
                            "<tr><td>FRANKENSTEIN STRANGER</td><td>159</td><td>extra long movie</td></tr>",
                            "<tr><td>FREAKY POCUS</td><td>126</td><td>extra long movie</td></tr>",
                            "<tr><td>FREDDY STORM</td><td>65</td><td>normal movie</td></tr>",
                            "<tr><td>FREEDOM CLEOPATRA</td><td>133</td><td>extra long movie</td></tr>",
                            "<tr><td>FRENCH HOLIDAY</td><td>99</td><td>long movie</td></tr>",
                            "<tr><td>FRIDA SLIPPER</td><td>73</td><td>normal movie</td></tr>",
                            "<tr><td>FRISCO FORREST</td><td>51</td><td>short movie</td></tr>",
                            "<tr><td>FROGMEN BREAKING</td><td>111</td><td>long movie</td></tr>",
                            "<tr><td>FRONTIER CABIN</td><td>183</td><td>extra long movie</td></tr>",
                            "<tr><td>FROST HEAD</td><td>82</td><td>normal movie</td></tr>",
                            "<tr><td>FUGITIVE MAGUIRE</td><td>83</td><td>normal movie</td></tr>",
                            "<tr><td>FULL FLATLINERS</td><td>94</td><td>long movie</td></tr>",
                            "<tr><td>FURY MURDER</td><td>178</td><td>extra long movie</td></tr>",
                            "<tr><td>GABLES METROPOLIS</td><td>161</td><td>extra long movie</td></tr>",
                            "<tr><td>GALAXY SWEETHEARTS</td><td>128</td><td>extra long movie</td></tr>",
                            "<tr><td>GAMES BOWFINGER</td><td>119</td><td>long movie</td></tr>",
                            "<tr><td>GANDHI KWAI</td><td>86</td><td>normal movie</td></tr>",
                            "<tr><td>GANGS PRIDE</td><td>185</td><td>extra long movie</td></tr>",
                            "<tr><td>GARDEN ISLAND</td><td>80</td><td>normal movie</td></tr>",
                            "<tr><td>GASLIGHT CRUSADE</td><td>106</td><td>long movie</td></tr>",
                            "<tr><td>GATHERING CALENDAR</td><td>176</td><td>extra long movie</td></tr>",
                            "<tr><td>GENTLEMEN STAGE</td><td>125</td><td>extra long movie</td></tr>",
                            "<tr><td>GHOST GROUNDHOG</td><td>85</td><td>normal movie</td></tr>",
                            "<tr><td>GHOSTBUSTERS ELF</td><td>101</td><td>long movie</td></tr>",
                            "<tr><td>GIANT TROOPERS</td><td>102</td><td>long movie</td></tr>",
                            "<tr><td>GILBERT PELICAN</td><td>114</td><td>long movie</td></tr>",
                            "<tr><td>GILMORE BOILED</td><td>163</td><td>extra long movie</td></tr>",
                            "<tr><td>GLADIATOR WESTWARD</td><td>173</td><td>extra long movie</td></tr>",
                            "<tr><td>GLASS DYING</td><td>103</td><td>long movie</td></tr>",
                            "<tr><td>GLEAMING JAWBREAKER</td><td>89</td><td>normal movie</td></tr>",
                            "<tr><td>GLORY TRACY</td><td>115</td><td>long movie</td></tr>",
                            "<tr><td>GO PURPLE</td><td>54</td><td>short movie</td></tr>",
                            "<tr><td>GODFATHER DIARY</td><td>73</td><td>normal movie</td></tr>",
                            "<tr><td>GOLD RIVER</td><td>154</td><td>extra long movie</td></tr>",
                            "<tr><td>GOLDFINGER SENSIBILITY</td><td>93</td><td>long movie</td></tr>",
                            "<tr><td>GOLDMINE TYCOON</td><td>153</td><td>extra long movie</td></tr>",
                            "<tr><td>GONE TROUBLE</td><td>84</td><td>normal movie</td></tr>",
                            "<tr><td>GOODFELLAS SALUTE</td><td>56</td><td>short movie</td></tr>",
                            "<tr><td>GORGEOUS BINGO</td><td>108</td><td>long movie</td></tr>",
                            "<tr><td>GOSFORD DONNIE</td><td>129</td><td>extra long movie</td></tr>",
                            "<tr><td>GRACELAND DYNAMITE</td><td>140</td><td>extra long movie</td></tr>",
                            "<tr><td>GRADUATE LORD</td><td>156</td><td>extra long movie</td></tr>",
                            "<tr><td>GRAFFITI LOVE</td><td>117</td><td>long movie</td></tr>",
                            "<tr><td>GRAIL FRANKENSTEIN</td><td>85</td><td>normal movie</td></tr>",
                            "<tr><td>GRAPES FURY</td><td>155</td><td>extra long movie</td></tr>",
                            "<tr><td>GREASE YOUTH</td><td>135</td><td>extra long movie</td></tr>",
                            "<tr><td>GREATEST NORTH</td><td>93</td><td>long movie</td></tr>",
                            "<tr><td>GREEDY ROOTS</td><td>166</td><td>extra long movie</td></tr>",
                            "<tr><td>GREEK EVERYONE</td><td>176</td><td>extra long movie</td></tr>",
                            "<tr><td>GRINCH MASSAGE</td><td>150</td><td>extra long movie</td></tr>",
                            "<tr><td>GRIT CLOCKWORK</td><td>137</td><td>extra long movie</td></tr>",
                            "<tr><td>GROOVE FICTION</td><td>111</td><td>long movie</td></tr>",
                            "<tr><td>GROSSE WONDERFUL</td><td>49</td><td>short movie</td></tr>",
                            "<tr><td>GROUNDHOG UNCUT</td><td>139</td><td>extra long movie</td></tr>",
                            "<tr><td>GUMP DATE</td><td>53</td><td>short movie</td></tr>",
                            "<tr><td>GUN BONNIE</td><td>100</td><td>long movie</td></tr>",
                            "<tr><td>GUNFIGHT MOON</td><td>70</td><td>normal movie</td></tr>",
                            "<tr><td>GUNFIGHTER MUSSOLINI</td><td>127</td><td>extra long movie</td></tr>",
                            "<tr><td>GUYS FALCON</td><td>84</td><td>normal movie</td></tr>",
                            "<tr><td>HALF OUTFIELD</td><td>146</td><td>extra long movie</td></tr>",
                            "<tr><td>HALL CASSIDY</td><td>51</td><td>short movie</td></tr>",
                            "<tr><td>HALLOWEEN NUTS</td><td>47</td><td>short movie</td></tr>",
                            "<tr><td>HAMLET WISDOM</td><td>146</td><td>extra long movie</td></tr>",
                            "<tr><td>HANDICAP BOONDOCK</td><td>108</td><td>long movie</td></tr>",
                            "<tr><td>HANGING DEEP</td><td>62</td><td>normal movie</td></tr>",
                            "<tr><td>HANKY OCTOBER</td><td>107</td><td>long movie</td></tr>",
                            "<tr><td>HANOVER GALAXY</td><td>47</td><td>short movie</td></tr>",
                            "<tr><td>HAPPINESS UNITED</td><td>100</td><td>long movie</td></tr>",
                            "<tr><td>HARDLY ROBBERS</td><td>72</td><td>normal movie</td></tr>",
                            "<tr><td>HAROLD FRENCH</td><td>168</td><td>extra long movie</td></tr>",
                            "<tr><td>HARPER DYING</td><td>52</td><td>short movie</td></tr>",
                            "<tr><td>HARRY IDAHO</td><td>121</td><td>extra long movie</td></tr>",
                            "<tr><td>HATE HANDICAP</td><td>107</td><td>long movie</td></tr>",
                            "<tr><td>HAUNTED ANTITRUST</td><td>76</td><td>normal movie</td></tr>",
                            "<tr><td>HAUNTING PIANIST</td><td>181</td><td>extra long movie</td></tr>",
                            "<tr><td>HAWK CHILL</td><td>47</td><td>short movie</td></tr>",
                            "<tr><td>HEAD STRANGER</td><td>69</td><td>normal movie</td></tr>",
                            "<tr><td>HEARTBREAKERS BRIGHT</td><td>59</td><td>short movie</td></tr>",
                            "<tr><td>HEAVEN FREEDOM</td><td>48</td><td>short movie</td></tr>",
                            "<tr><td>HEAVENLY GUN</td><td>49</td><td>short movie</td></tr>",
                            "<tr><td>HEAVYWEIGHTS BEAST</td><td>102</td><td>long movie</td></tr>",
                            "<tr><td>HEDWIG ALTER</td><td>169</td><td>extra long movie</td></tr>",
                            "<tr><td>HELLFIGHTERS SIERRA</td><td>75</td><td>normal movie</td></tr>",
                            "<tr><td>HIGH ENCINO</td><td>84</td><td>normal movie</td></tr>",
                            "<tr><td>HIGHBALL POTTER</td><td>110</td><td>long movie</td></tr>",
                            "<tr><td>HILLS NEIGHBORS</td><td>93</td><td>long movie</td></tr>",
                            "<tr><td>HOBBIT ALIEN</td><td>157</td><td>extra long movie</td></tr>",
                            "<tr><td>HOCUS FRIDA</td><td>141</td><td>extra long movie</td></tr>",
                            "<tr><td>HOLES BRANNIGAN</td><td>128</td><td>extra long movie</td></tr>",
                            "<tr><td>HOLIDAY GAMES</td><td>78</td><td>normal movie</td></tr>",
                            "<tr><td>HOLLOW JEOPARDY</td><td>136</td><td>extra long movie</td></tr>",
                            "<tr><td>HOLLYWOOD ANONYMOUS</td><td>69</td><td>normal movie</td></tr>",
                            "<tr><td>HOLOCAUST HIGHBALL</td><td>149</td><td>extra long movie</td></tr>",
                            "<tr><td>HOLY TADPOLE</td><td>88</td><td>normal movie</td></tr>",
                            "<tr><td>HOME PITY</td><td>185</td><td>extra long movie</td></tr>",
                            "<tr><td>HOMEWARD CIDER</td><td>103</td><td>long movie</td></tr>",
                            "<tr><td>HOMICIDE PEACH</td><td>141</td><td>extra long movie</td></tr>",
                            "<tr><td>HONEY TIES</td><td>84</td><td>normal movie</td></tr>",
                            "<tr><td>HOOK CHARIOTS</td><td>49</td><td>short movie</td></tr>",
                            "<tr><td>HOOSIERS BIRDCAGE</td><td>176</td><td>extra long movie</td></tr>",
                            "<tr><td>HOPE TOOTSIE</td><td>139</td><td>extra long movie</td></tr>",
                            "<tr><td>HORN WORKING</td><td>95</td><td>long movie</td></tr>",
                            "<tr><td>HORROR REIGN</td><td>139</td><td>extra long movie</td></tr>",
                            "<tr><td>HOTEL HAPPINESS</td><td>181</td><td>extra long movie</td></tr>",
                            "<tr><td>HOURS RAGE</td><td>122</td><td>extra long movie</td></tr>",
                            "<tr><td>HOUSE DYNAMITE</td><td>109</td><td>long movie</td></tr>",
                            "<tr><td>HUMAN GRAFFITI</td><td>68</td><td>normal movie</td></tr>",
                            "<tr><td>HUNCHBACK IMPOSSIBLE</td><td>151</td><td>extra long movie</td></tr>",
                            "<tr><td>HUNGER ROOF</td><td>105</td><td>long movie</td></tr>",
                            "<tr><td>HUNTER ALTER</td><td>125</td><td>extra long movie</td></tr>",
                            "<tr><td>HUNTING MUSKETEERS</td><td>65</td><td>normal movie</td></tr>",
                            "<tr><td>HURRICANE AFFAIR</td><td>49</td><td>short movie</td></tr>",
                            "<tr><td>HUSTLER PARTY</td><td>83</td><td>normal movie</td></tr>",
                            "<tr><td>HYDE DOCTOR</td><td>100</td><td>long movie</td></tr>",
                            "<tr><td>HYSTERICAL GRAIL</td><td>150</td><td>extra long movie</td></tr>",
                            "<tr><td>ICE CROSSING</td><td>131</td><td>extra long movie</td></tr>",
                            "<tr><td>IDAHO LOVE</td><td>172</td><td>extra long movie</td></tr>",
                            "<tr><td>IDENTITY LOVER</td><td>119</td><td>long movie</td></tr>",
                            "<tr><td>IDOLS SNATCHERS</td><td>84</td><td>normal movie</td></tr>",
                            "<tr><td>IGBY MAKER</td><td>160</td><td>extra long movie</td></tr>",
                            "<tr><td>ILLUSION AMELIE</td><td>122</td><td>extra long movie</td></tr>",
                            "<tr><td>IMAGE PRINCESS</td><td>178</td><td>extra long movie</td></tr>",
                            "<tr><td>IMPACT ALADDIN</td><td>180</td><td>extra long movie</td></tr>",
                            "<tr><td>IMPOSSIBLE PREJUDICE</td><td>103</td><td>long movie</td></tr>",
                            "<tr><td>INCH JET</td><td>167</td><td>extra long movie</td></tr>",
                            "<tr><td>INDEPENDENCE HOTEL</td><td>157</td><td>extra long movie</td></tr>",
                            "<tr><td>INDIAN LOVE</td><td>135</td><td>extra long movie</td></tr>",
                            "<tr><td>INFORMER DOUBLE</td><td>74</td><td>normal movie</td></tr>",
                            "<tr><td>INNOCENT USUAL</td><td>178</td><td>extra long movie</td></tr>",
                            "<tr><td>INSECTS STONE</td><td>123</td><td>extra long movie</td></tr>",
                            "<tr><td>INSIDER ARIZONA</td><td>78</td><td>normal movie</td></tr>",
                            "<tr><td>INSTINCT AIRPORT</td><td>116</td><td>long movie</td></tr>",
                            "<tr><td>INTENTIONS EMPIRE</td><td>107</td><td>long movie</td></tr>",
                            "<tr><td>INTERVIEW LIAISONS</td><td>59</td><td>short movie</td></tr>",
                            "<tr><td>INTOLERABLE INTENTIONS</td><td>63</td><td>normal movie</td></tr>",
                            "<tr><td>INTRIGUE WORST</td><td>181</td><td>extra long movie</td></tr>",
                            "<tr><td>INVASION CYCLONE</td><td>97</td><td>long movie</td></tr>",
                            "<tr><td>IRON MOON</td><td>46</td><td>short movie</td></tr>",
                            "<tr><td>ISHTAR ROCKETEER</td><td>79</td><td>normal movie</td></tr>",
                            "<tr><td>ISLAND EXORCIST</td><td>84</td><td>normal movie</td></tr>",
                            "<tr><td>ITALIAN AFRICAN</td><td>174</td><td>extra long movie</td></tr>",
                            "<tr><td>JACKET FRISCO</td><td>181</td><td>extra long movie</td></tr>",
                            "<tr><td>JADE BUNCH</td><td>174</td><td>extra long movie</td></tr>",
                            "<tr><td>JAPANESE RUN</td><td>135</td><td>extra long movie</td></tr>",
                            "<tr><td>JASON TRAP</td><td>130</td><td>extra long movie</td></tr>",
                            "<tr><td>JAWBREAKER BROOKLYN</td><td>118</td><td>long movie</td></tr>",
                            "<tr><td>JAWS HARRY</td><td>112</td><td>long movie</td></tr>",
                            "<tr><td>JEDI BENEATH</td><td>128</td><td>extra long movie</td></tr>",
                            "<tr><td>JEEPERS WEDDING</td><td>84</td><td>normal movie</td></tr>",
                            "<tr><td>JEKYLL FROGMEN</td><td>58</td><td>short movie</td></tr>",
                            "<tr><td>JEOPARDY ENCINO</td><td>102</td><td>long movie</td></tr>",
                            "<tr><td>JERICHO MULAN</td><td>171</td><td>extra long movie</td></tr>",
                            "<tr><td>JERK PAYCHECK</td><td>172</td><td>extra long movie</td></tr>",
                            "<tr><td>JERSEY SASSY</td><td>60</td><td>short movie</td></tr>",
                            "<tr><td>JET NEIGHBORS</td><td>59</td><td>short movie</td></tr>",
                            "<tr><td>JINGLE SAGEBRUSH</td><td>124</td><td>extra long movie</td></tr>",
                            "<tr><td>JOON NORTHWEST</td><td>105</td><td>long movie</td></tr>",
                            "<tr><td>JUGGLER HARDLY</td><td>54</td><td>short movie</td></tr>",
                            "<tr><td>JUMANJI BLADE</td><td>121</td><td>extra long movie</td></tr>",
                            "<tr><td>JUMPING WRATH</td><td>74</td><td>normal movie</td></tr>",
                            "<tr><td>JUNGLE CLOSER</td><td>134</td><td>extra long movie</td></tr>",
                            "<tr><td>KANE EXORCIST</td><td>92</td><td>long movie</td></tr>",
                            "<tr><td>KARATE MOON</td><td>120</td><td>long movie</td></tr>",
                            "<tr><td>KENTUCKIAN GIANT</td><td>169</td><td>extra long movie</td></tr>",
                            "<tr><td>KICK SAVANNAH</td><td>179</td><td>extra long movie</td></tr>",
                            "<tr><td>KILL BROTHERHOOD</td><td>54</td><td>short movie</td></tr>",
                            "<tr><td>KILLER INNOCENT</td><td>161</td><td>extra long movie</td></tr>",
                            "<tr><td>KING EVOLUTION</td><td>184</td><td>extra long movie</td></tr>",
                            "<tr><td>KISS GLORY</td><td>163</td><td>extra long movie</td></tr>",
                            "<tr><td>KISSING DOLLS</td><td>141</td><td>extra long movie</td></tr>",
                            "<tr><td>KNOCK WARLOCK</td><td>71</td><td>normal movie</td></tr>",
                            "<tr><td>KRAMER CHOCOLATE</td><td>171</td><td>extra long movie</td></tr>",
                            "<tr><td>KWAI HOMEWARD</td><td>46</td><td>short movie</td></tr>",
                            "<tr><td>LABYRINTH LEAGUE</td><td>46</td><td>short movie</td></tr>",
                            "<tr><td>LADY STAGE</td><td>67</td><td>normal movie</td></tr>",
                            "<tr><td>LADYBUGS ARMAGEDDON</td><td>113</td><td>long movie</td></tr>",
                            "<tr><td>LAMBS CINCINATTI</td><td>144</td><td>extra long movie</td></tr>",
                            "<tr><td>LANGUAGE COWBOY</td><td>78</td><td>normal movie</td></tr>",
                            "<tr><td>LAWLESS VISION</td><td>181</td><td>extra long movie</td></tr>",
                            "<tr><td>LAWRENCE LOVE</td><td>175</td><td>extra long movie</td></tr>",
                            "<tr><td>LEAGUE HELLFIGHTERS</td><td>110</td><td>long movie</td></tr>",
                            "<tr><td>LEATHERNECKS DWARFS</td><td>153</td><td>extra long movie</td></tr>",
                            "<tr><td>LEBOWSKI SOLDIERS</td><td>69</td><td>normal movie</td></tr>",
                            "<tr><td>LEGALLY SECRETARY</td><td>113</td><td>long movie</td></tr>",
                            "<tr><td>LEGEND JEDI</td><td>59</td><td>short movie</td></tr>",
                            "<tr><td>LESSON CLEOPATRA</td><td>167</td><td>extra long movie</td></tr>",
                            "<tr><td>LIAISONS SWEET</td><td>140</td><td>extra long movie</td></tr>",
                            "<tr><td>LIBERTY MAGNIFICENT</td><td>138</td><td>extra long movie</td></tr>",
                            "<tr><td>LICENSE WEEKEND</td><td>91</td><td>long movie</td></tr>",
                            "<tr><td>LIES TREATMENT</td><td>147</td><td>extra long movie</td></tr>",
                            "<tr><td>LIFE TWISTED</td><td>137</td><td>extra long movie</td></tr>",
                            "<tr><td>LIGHTS DEER</td><td>174</td><td>extra long movie</td></tr>",
                            "<tr><td>LION UNCUT</td><td>50</td><td>short movie</td></tr>",
                            "<tr><td>LOATHING LEGALLY</td><td>140</td><td>extra long movie</td></tr>",
                            "<tr><td>LOCK REAR</td><td>120</td><td>long movie</td></tr>",
                            "<tr><td>LOLA AGENT</td><td>85</td><td>normal movie</td></tr>",
                            "<tr><td>LOLITA WORLD</td><td>155</td><td>extra long movie</td></tr>",
                            "<tr><td>LONELY ELEPHANT</td><td>67</td><td>normal movie</td></tr>",
                            "<tr><td>LORD ARIZONA</td><td>108</td><td>long movie</td></tr>",
                            "<tr><td>LOSE INCH</td><td>137</td><td>extra long movie</td></tr>",
                            "<tr><td>LOSER HUSTLER</td><td>80</td><td>normal movie</td></tr>",
                            "<tr><td>LOST BIRD</td><td>98</td><td>long movie</td></tr>",
                            "<tr><td>LOUISIANA HARRY</td><td>70</td><td>normal movie</td></tr>",
                            "<tr><td>LOVE SUICIDES</td><td>181</td><td>extra long movie</td></tr>",
                            "<tr><td>LOVELY JINGLE</td><td>65</td><td>normal movie</td></tr>",
                            "<tr><td>LOVER TRUMAN</td><td>75</td><td>normal movie</td></tr>",
                            "<tr><td>LOVERBOY ATTACKS</td><td>162</td><td>extra long movie</td></tr>",
                            "<tr><td>LUCK OPUS</td><td>152</td><td>extra long movie</td></tr>",
                            "<tr><td>LUCKY FLYING</td><td>97</td><td>long movie</td></tr>",
                            "<tr><td>LUKE MUMMY</td><td>74</td><td>normal movie</td></tr>",
                            "<tr><td>LUST LOCK</td><td>52</td><td>short movie</td></tr>",
                            "<tr><td>MADIGAN DORADO</td><td>116</td><td>long movie</td></tr>",
                            "<tr><td>MADISON TRAP</td><td>147</td><td>extra long movie</td></tr>",
                            "<tr><td>MADNESS ATTACKS</td><td>178</td><td>extra long movie</td></tr>",
                            "<tr><td>MADRE GABLES</td><td>98</td><td>long movie</td></tr>",
                            "<tr><td>MAGIC MALLRATS</td><td>117</td><td>long movie</td></tr>",
                            "<tr><td>MAGNIFICENT CHITTY</td><td>53</td><td>short movie</td></tr>",
                            "<tr><td>MAGNOLIA FORRESTER</td><td>171</td><td>extra long movie</td></tr>",
                            "<tr><td>MAGUIRE APACHE</td><td>74</td><td>normal movie</td></tr>",
                            "<tr><td>MAIDEN HOME</td><td>138</td><td>extra long movie</td></tr>",
                            "<tr><td>MAJESTIC FLOATS</td><td>130</td><td>extra long movie</td></tr>",
                            "<tr><td>MAKER GABLES</td><td>136</td><td>extra long movie</td></tr>",
                            "<tr><td>MALKOVICH PET</td><td>159</td><td>extra long movie</td></tr>",
                            "<tr><td>MALLRATS UNITED</td><td>133</td><td>extra long movie</td></tr>",
                            "<tr><td>MALTESE HOPE</td><td>127</td><td>extra long movie</td></tr>",
                            "<tr><td>MANCHURIAN CURTAIN</td><td>177</td><td>extra long movie</td></tr>",
                            "<tr><td>MANNEQUIN WORST</td><td>71</td><td>normal movie</td></tr>",
                            "<tr><td>MARRIED GO</td><td>114</td><td>long movie</td></tr>",
                            "<tr><td>MARS ROMAN</td><td>62</td><td>normal movie</td></tr>",
                            "<tr><td>MASK PEACH</td><td>123</td><td>extra long movie</td></tr>",
                            "<tr><td>MASKED BUBBLE</td><td>151</td><td>extra long movie</td></tr>",
                            "<tr><td>MASSACRE USUAL</td><td>165</td><td>extra long movie</td></tr>",
                            "<tr><td>MASSAGE IMAGE</td><td>161</td><td>extra long movie</td></tr>",
                            "<tr><td>MATRIX SNOWMAN</td><td>56</td><td>short movie</td></tr>",
                            "<tr><td>MAUDE MOD</td><td>72</td><td>normal movie</td></tr>",
                            "<tr><td>MEET CHOCOLATE</td><td>80</td><td>normal movie</td></tr>",
                            "<tr><td>MEMENTO ZOOLANDER</td><td>77</td><td>normal movie</td></tr>",
                            "<tr><td>MENAGERIE RUSHMORE</td><td>147</td><td>extra long movie</td></tr>",
                            "<tr><td>MERMAID INSECTS</td><td>104</td><td>long movie</td></tr>",
                            "<tr><td>METAL ARMAGEDDON</td><td>161</td><td>extra long movie</td></tr>",
                            "<tr><td>METROPOLIS COMA</td><td>64</td><td>normal movie</td></tr>",
                            "<tr><td>MICROCOSMOS PARADISE</td><td>105</td><td>long movie</td></tr>",
                            "<tr><td>MIDNIGHT WESTWARD</td><td>86</td><td>normal movie</td></tr>",
                            "<tr><td>MIDSUMMER GROUNDHOG</td><td>48</td><td>short movie</td></tr>",
                            "<tr><td>MIGHTY LUCK</td><td>122</td><td>extra long movie</td></tr>",
                            "<tr><td>MILE MULAN</td><td>64</td><td>normal movie</td></tr>",
                            "<tr><td>MILLION ACE</td><td>142</td><td>extra long movie</td></tr>",
                            "<tr><td>MINDS TRUMAN</td><td>149</td><td>extra long movie</td></tr>",
                            "<tr><td>MINE TITANS</td><td>166</td><td>extra long movie</td></tr>",
                            "<tr><td>MINORITY KISS</td><td>59</td><td>short movie</td></tr>",
                            "<tr><td>MIRACLE VIRTUAL</td><td>162</td><td>extra long movie</td></tr>",
                            "<tr><td>MISSION ZOOLANDER</td><td>164</td><td>extra long movie</td></tr>",
                            "<tr><td>MIXED DOORS</td><td>180</td><td>extra long movie</td></tr>",
                            "<tr><td>MOB DUFFEL</td><td>105</td><td>long movie</td></tr>",
                            "<tr><td>MOCKINGBIRD HOLLYWOOD</td><td>60</td><td>short movie</td></tr>",
                            "<tr><td>MOD SECRETARY</td><td>77</td><td>normal movie</td></tr>",
                            "<tr><td>MODEL FISH</td><td>175</td><td>extra long movie</td></tr>",
                            "<tr><td>MODERN DORADO</td><td>74</td><td>normal movie</td></tr>",
                            "<tr><td>MONEY HAROLD</td><td>135</td><td>extra long movie</td></tr>",
                            "<tr><td>MONSOON CAUSE</td><td>182</td><td>extra long movie</td></tr>",
                            "<tr><td>MONSTER SPARTACUS</td><td>107</td><td>long movie</td></tr>",
                            "<tr><td>MONTEREY LABYRINTH</td><td>158</td><td>extra long movie</td></tr>",
                            "<tr><td>MONTEZUMA COMMAND</td><td>126</td><td>extra long movie</td></tr>",
                            "<tr><td>MOON BUNCH</td><td>83</td><td>normal movie</td></tr>",
                            "<tr><td>MOONSHINE CABIN</td><td>171</td><td>extra long movie</td></tr>",
                            "<tr><td>MOONWALKER FOOL</td><td>184</td><td>extra long movie</td></tr>",
                            "<tr><td>MOSQUITO ARMAGEDDON</td><td>57</td><td>short movie</td></tr>",
                            "<tr><td>MOTHER OLEANDER</td><td>103</td><td>long movie</td></tr>",
                            "<tr><td>MOTIONS DETAILS</td><td>166</td><td>extra long movie</td></tr>",
                            "<tr><td>MOULIN WAKE</td><td>79</td><td>normal movie</td></tr>",
                            "<tr><td>MOURNING PURPLE</td><td>146</td><td>extra long movie</td></tr>",
                            "<tr><td>MOVIE SHAKESPEARE</td><td>53</td><td>short movie</td></tr>",
                            "<tr><td>MULAN MOON</td><td>160</td><td>extra long movie</td></tr>",
                            "<tr><td>MULHOLLAND BEAST</td><td>157</td><td>extra long movie</td></tr>",
                            "<tr><td>MUMMY CREATURES</td><td>160</td><td>extra long movie</td></tr>",
                            "<tr><td>MUPPET MILE</td><td>50</td><td>short movie</td></tr>",
                            "<tr><td>MURDER ANTITRUST</td><td>166</td><td>extra long movie</td></tr>",
                            "<tr><td>MUSCLE BRIGHT</td><td>185</td><td>extra long movie</td></tr>",
                            "<tr><td>MUSIC BOONDOCK</td><td>129</td><td>extra long movie</td></tr>",
                            "<tr><td>MUSKETEERS WAIT</td><td>73</td><td>normal movie</td></tr>",
                            "<tr><td>MUSSOLINI SPOILERS</td><td>180</td><td>extra long movie</td></tr>",
                            "<tr><td>MYSTIC TRUMAN</td><td>92</td><td>long movie</td></tr>",
                            "<tr><td>NAME DETECTIVE</td><td>178</td><td>extra long movie</td></tr>",
                            "<tr><td>NASH CHOCOLAT</td><td>180</td><td>extra long movie</td></tr>",
                            "<tr><td>NATIONAL STORY</td><td>92</td><td>long movie</td></tr>",
                            "<tr><td>NATURAL STOCK</td><td>50</td><td>short movie</td></tr>",
                            "<tr><td>NECKLACE OUTBREAK</td><td>132</td><td>extra long movie</td></tr>",
                            "<tr><td>NEIGHBORS CHARADE</td><td>161</td><td>extra long movie</td></tr>",
                            "<tr><td>NEMO CAMPUS</td><td>131</td><td>extra long movie</td></tr>",
                            "<tr><td>NETWORK PEAK</td><td>75</td><td>normal movie</td></tr>",
                            "<tr><td>NEWSIES STORY</td><td>159</td><td>extra long movie</td></tr>",
                            "<tr><td>NEWTON LABYRINTH</td><td>75</td><td>normal movie</td></tr>",
                            "<tr><td>NIGHTMARE CHILL</td><td>149</td><td>extra long movie</td></tr>",
                            "<tr><td>NONE SPIKING</td><td>83</td><td>normal movie</td></tr>",
                            "<tr><td>NOON PAPI</td><td>57</td><td>short movie</td></tr>",
                            "<tr><td>NORTH TEQUILA</td><td>67</td><td>normal movie</td></tr>",
                            "<tr><td>NORTHWEST POLISH</td><td>172</td><td>extra long movie</td></tr>",
                            "<tr><td>NOTORIOUS REUNION</td><td>128</td><td>extra long movie</td></tr>",
                            "<tr><td>NOTTING SPEAKEASY</td><td>48</td><td>short movie</td></tr>",
                            "<tr><td>NOVOCAINE FLIGHT</td><td>64</td><td>normal movie</td></tr>",
                            "<tr><td>NUTS TIES</td><td>145</td><td>extra long movie</td></tr>",
                            "<tr><td>OCTOBER SUBMARINE</td><td>54</td><td>short movie</td></tr>",
                            "<tr><td>ODDS BOOGIE</td><td>48</td><td>short movie</td></tr>",
                            "<tr><td>OKLAHOMA JUMANJI</td><td>58</td><td>short movie</td></tr>",
                            "<tr><td>OLEANDER CLUE</td><td>161</td><td>extra long movie</td></tr>",
                            "<tr><td>OPEN AFRICAN</td><td>131</td><td>extra long movie</td></tr>",
                            "<tr><td>OPERATION OPERATION</td><td>156</td><td>extra long movie</td></tr>",
                            "<tr><td>OPPOSITE NECKLACE</td><td>92</td><td>long movie</td></tr>",
                            "<tr><td>OPUS ICE</td><td>102</td><td>long movie</td></tr>",
                            "<tr><td>ORANGE GRAPES</td><td>76</td><td>normal movie</td></tr>",
                            "<tr><td>ORDER BETRAYED</td><td>120</td><td>long movie</td></tr>",
                            "<tr><td>ORIENT CLOSER</td><td>118</td><td>long movie</td></tr>",
                            "<tr><td>OSCAR GOLD</td><td>115</td><td>long movie</td></tr>",
                            "<tr><td>OTHERS SOUP</td><td>118</td><td>long movie</td></tr>",
                            "<tr><td>OUTBREAK DIVINE</td><td>169</td><td>extra long movie</td></tr>",
                            "<tr><td>OUTFIELD MASSACRE</td><td>129</td><td>extra long movie</td></tr>",
                            "<tr><td>OUTLAW HANKY</td><td>148</td><td>extra long movie</td></tr>",
                            "<tr><td>OZ LIAISONS</td><td>85</td><td>normal movie</td></tr>",
                            "<tr><td>PACIFIC AMISTAD</td><td>144</td><td>extra long movie</td></tr>",
                            "<tr><td>PACKER MADIGAN</td><td>84</td><td>normal movie</td></tr>",
                            "<tr><td>PAJAMA JAWBREAKER</td><td>126</td><td>extra long movie</td></tr>",
                            "<tr><td>PANIC CLUB</td><td>102</td><td>long movie</td></tr>",
                            "<tr><td>PANKY SUBMARINE</td><td>93</td><td>long movie</td></tr>",
                            "<tr><td>PANTHER REDS</td><td>109</td><td>long movie</td></tr>",
                            "<tr><td>PAPI NECKLACE</td><td>128</td><td>extra long movie</td></tr>",
                            "<tr><td>PARADISE SABRINA</td><td>48</td><td>short movie</td></tr>",
                            "<tr><td>PARIS WEEKEND</td><td>121</td><td>extra long movie</td></tr>",
                            "<tr><td>PARK CITIZEN</td><td>109</td><td>long movie</td></tr>",
                            "<tr><td>PARTY KNOCK</td><td>107</td><td>long movie</td></tr>",
                            "<tr><td>PAST SUICIDES</td><td>157</td><td>extra long movie</td></tr>",
                            "<tr><td>PATHS CONTROL</td><td>118</td><td>long movie</td></tr>",
                            "<tr><td>PATIENT SISTER</td><td>99</td><td>long movie</td></tr>",
                            "<tr><td>PATRIOT ROMAN</td><td>65</td><td>normal movie</td></tr>",
                            "<tr><td>PATTON INTERVIEW</td><td>175</td><td>extra long movie</td></tr>",
                            "<tr><td>PAYCHECK WAIT</td><td>145</td><td>extra long movie</td></tr>",
                            "<tr><td>PEACH INNOCENT</td><td>160</td><td>extra long movie</td></tr>",
                            "<tr><td>PEAK FOREVER</td><td>80</td><td>normal movie</td></tr>",
                            "<tr><td>PEARL DESTINY</td><td>74</td><td>normal movie</td></tr>",
                            "<tr><td>PELICAN COMFORTS</td><td>48</td><td>short movie</td></tr>",
                            "<tr><td>PERDITION FARGO</td><td>99</td><td>long movie</td></tr>",
                            "<tr><td>PERFECT GROOVE</td><td>82</td><td>normal movie</td></tr>",
                            "<tr><td>PERSONAL LADYBUGS</td><td>118</td><td>long movie</td></tr>",
                            "<tr><td>PET HAUNTING</td><td>99</td><td>long movie</td></tr>",
                            "<tr><td>PHANTOM GLORY</td><td>60</td><td>short movie</td></tr>",
                            "<tr><td>PHILADELPHIA WIFE</td><td>137</td><td>extra long movie</td></tr>",
                            "<tr><td>PIANIST OUTFIELD</td><td>136</td><td>extra long movie</td></tr>",
                            "<tr><td>PICKUP DRIVING</td><td>77</td><td>normal movie</td></tr>",
                            "<tr><td>PILOT HOOSIERS</td><td>50</td><td>short movie</td></tr>",
                            "<tr><td>PINOCCHIO SIMON</td><td>103</td><td>long movie</td></tr>",
                            "<tr><td>PIRATES ROXANNE</td><td>100</td><td>long movie</td></tr>",
                            "<tr><td>PITTSBURGH HUNCHBACK</td><td>134</td><td>extra long movie</td></tr>",
                            "<tr><td>PITY BOUND</td><td>60</td><td>short movie</td></tr>",
                            "<tr><td>PIZZA JUMANJI</td><td>173</td><td>extra long movie</td></tr>",
                            "<tr><td>PLATOON INSTINCT</td><td>132</td><td>extra long movie</td></tr>",
                            "<tr><td>PLUTO OLEANDER</td><td>84</td><td>normal movie</td></tr>",
                            "<tr><td>POCUS PULP</td><td>138</td><td>extra long movie</td></tr>",
                            "<tr><td>POLISH BROOKLYN</td><td>61</td><td>normal movie</td></tr>",
                            "<tr><td>POLLOCK DELIVERANCE</td><td>137</td><td>extra long movie</td></tr>",
                            "<tr><td>POND SEATTLE</td><td>185</td><td>extra long movie</td></tr>",
                            "<tr><td>POSEIDON FOREVER</td><td>159</td><td>extra long movie</td></tr>",
                            "<tr><td>POTLUCK MIXED</td><td>179</td><td>extra long movie</td></tr>",
                            "<tr><td>POTTER CONNECTICUT</td><td>115</td><td>long movie</td></tr>",
                            "<tr><td>PREJUDICE OLEANDER</td><td>98</td><td>long movie</td></tr>",
                            "<tr><td>PRESIDENT BANG</td><td>144</td><td>extra long movie</td></tr>",
                            "<tr><td>PRIDE ALAMO</td><td>114</td><td>long movie</td></tr>",
                            "<tr><td>PRIMARY GLASS</td><td>53</td><td>short movie</td></tr>",
                            "<tr><td>PRINCESS GIANT</td><td>71</td><td>normal movie</td></tr>",
                            "<tr><td>PRIVATE DROP</td><td>106</td><td>long movie</td></tr>",
                            "<tr><td>PRIX UNDEFEATED</td><td>115</td><td>long movie</td></tr>",
                            "<tr><td>PSYCHO SHRUNK</td><td>155</td><td>extra long movie</td></tr>",
                            "<tr><td>PULP BEVERLY</td><td>89</td><td>normal movie</td></tr>",
                            "<tr><td>PUNK DIVORCE</td><td>100</td><td>long movie</td></tr>",
                            "<tr><td>PURE RUNNER</td><td>121</td><td>extra long movie</td></tr>",
                            "<tr><td>PURPLE MOVIE</td><td>88</td><td>normal movie</td></tr>",
                            "<tr><td>QUEEN LUKE</td><td>163</td><td>extra long movie</td></tr>",
                            "<tr><td>QUEST MUSSOLINI</td><td>177</td><td>extra long movie</td></tr>",
                            "<tr><td>QUILLS BULL</td><td>112</td><td>long movie</td></tr>",
                            "<tr><td>RACER EGG</td><td>147</td><td>extra long movie</td></tr>",
                            "<tr><td>RAGE GAMES</td><td>120</td><td>long movie</td></tr>",
                            "<tr><td>RAGING AIRPLANE</td><td>154</td><td>extra long movie</td></tr>",
                            "<tr><td>RAIDERS ANTITRUST</td><td>82</td><td>normal movie</td></tr>",
                            "<tr><td>RAINBOW SHOCK</td><td>74</td><td>normal movie</td></tr>",
                            "<tr><td>RANDOM GO</td><td>73</td><td>normal movie</td></tr>",
                            "<tr><td>RANGE MOONWALKER</td><td>147</td><td>extra long movie</td></tr>",
                            "<tr><td>REAP UNFAITHFUL</td><td>136</td><td>extra long movie</td></tr>",
                            "<tr><td>REAR TRADING</td><td>97</td><td>long movie</td></tr>",
                            "<tr><td>REBEL AIRPORT</td><td>73</td><td>normal movie</td></tr>",
                            "<tr><td>RECORDS ZORRO</td><td>182</td><td>extra long movie</td></tr>",
                            "<tr><td>REDEMPTION COMFORTS</td><td>179</td><td>extra long movie</td></tr>",
                            "<tr><td>REDS POCUS</td><td>182</td><td>extra long movie</td></tr>",
                            "<tr><td>REEF SALUTE</td><td>123</td><td>extra long movie</td></tr>",
                            "<tr><td>REIGN GENTLEMEN</td><td>82</td><td>normal movie</td></tr>",
                            "<tr><td>REMEMBER DIARY</td><td>110</td><td>long movie</td></tr>",
                            "<tr><td>REQUIEM TYCOON</td><td>167</td><td>extra long movie</td></tr>",
                            "<tr><td>RESERVOIR ADAPTATION</td><td>61</td><td>normal movie</td></tr>",
                            "<tr><td>RESURRECTION SILVERADO</td><td>117</td><td>long movie</td></tr>",
                            "<tr><td>REUNION WITCHES</td><td>63</td><td>normal movie</td></tr>",
                            "<tr><td>RIDER CADDYSHACK</td><td>177</td><td>extra long movie</td></tr>",
                            "<tr><td>RIDGEMONT SUBMARINE</td><td>46</td><td>short movie</td></tr>",
                            "<tr><td>RIGHT CRANES</td><td>153</td><td>extra long movie</td></tr>",
                            "<tr><td>RINGS HEARTBREAKERS</td><td>58</td><td>short movie</td></tr>",
                            "<tr><td>RIVER OUTLAW</td><td>149</td><td>extra long movie</td></tr>",
                            "<tr><td>ROAD ROXANNE</td><td>158</td><td>extra long movie</td></tr>",
                            "<tr><td>ROBBERS JOON</td><td>102</td><td>long movie</td></tr>",
                            "<tr><td>ROBBERY BRIGHT</td><td>134</td><td>extra long movie</td></tr>",
                            "<tr><td>ROCK INSTINCT</td><td>102</td><td>long movie</td></tr>",
                            "<tr><td>ROCKETEER MOTHER</td><td>178</td><td>extra long movie</td></tr>",
                            "<tr><td>ROCKY WAR</td><td>145</td><td>extra long movie</td></tr>",
                            "<tr><td>ROLLERCOASTER BRINGING</td><td>153</td><td>extra long movie</td></tr>",
                            "<tr><td>ROMAN PUNK</td><td>81</td><td>normal movie</td></tr>",
                            "<tr><td>ROOF CHAMPION</td><td>101</td><td>long movie</td></tr>",
                            "<tr><td>ROOM ROMAN</td><td>60</td><td>short movie</td></tr>",
                            "<tr><td>ROOTS REMEMBER</td><td>89</td><td>normal movie</td></tr>",
                            "<tr><td>ROSES TREASURE</td><td>162</td><td>extra long movie</td></tr>",
                            "<tr><td>ROUGE SQUAD</td><td>118</td><td>long movie</td></tr>",
                            "<tr><td>ROXANNE REBEL</td><td>171</td><td>extra long movie</td></tr>",
                            "<tr><td>RUGRATS SHAKESPEARE</td><td>109</td><td>long movie</td></tr>",
                            "<tr><td>RULES HUMAN</td><td>153</td><td>extra long movie</td></tr>",
                            "<tr><td>RUN PACIFIC</td><td>145</td><td>extra long movie</td></tr>",
                            "<tr><td>RUNAWAY TENENBAUMS</td><td>181</td><td>extra long movie</td></tr>",
                            "<tr><td>RUNNER MADIGAN</td><td>101</td><td>long movie</td></tr>",
                            "<tr><td>RUSH GOODFELLAS</td><td>48</td><td>short movie</td></tr>",
                            "<tr><td>RUSHMORE MERMAID</td><td>150</td><td>extra long movie</td></tr>",
                            "<tr><td>SABRINA MIDNIGHT</td><td>99</td><td>long movie</td></tr>",
                            "<tr><td>SADDLE ANTITRUST</td><td>80</td><td>normal movie</td></tr>",
                            "<tr><td>SAGEBRUSH CLUELESS</td><td>106</td><td>long movie</td></tr>",
                            "<tr><td>SAINTS BRIDE</td><td>125</td><td>extra long movie</td></tr>",
                            "<tr><td>SALUTE APOLLO</td><td>73</td><td>normal movie</td></tr>",
                            "<tr><td>SAMURAI LION</td><td>110</td><td>long movie</td></tr>",
                            "<tr><td>SANTA PARIS</td><td>154</td><td>extra long movie</td></tr>",
                            "<tr><td>SASSY PACKER</td><td>154</td><td>extra long movie</td></tr>",
                            "<tr><td>SATISFACTION CONFIDENTIAL</td><td>75</td><td>normal movie</td></tr>",
                            "<tr><td>SATURDAY LAMBS</td><td>150</td><td>extra long movie</td></tr>",
                            "<tr><td>SATURN NAME</td><td>182</td><td>extra long movie</td></tr>",
                            "<tr><td>SAVANNAH TOWN</td><td>84</td><td>normal movie</td></tr>",
                            "<tr><td>SCALAWAG DUCK</td><td>183</td><td>extra long movie</td></tr>",
                            "<tr><td>SCARFACE BANG</td><td>102</td><td>long movie</td></tr>",
                            "<tr><td>SCHOOL JACKET</td><td>151</td><td>extra long movie</td></tr>",
                            "<tr><td>SCISSORHANDS SLUMS</td><td>147</td><td>extra long movie</td></tr>",
                            "<tr><td>SCORPION APOLLO</td><td>137</td><td>extra long movie</td></tr>",
                            "<tr><td>SEA VIRGIN</td><td>80</td><td>normal movie</td></tr>",
                            "<tr><td>SEABISCUIT PUNK</td><td>112</td><td>long movie</td></tr>",
                            "<tr><td>SEARCHERS WAIT</td><td>182</td><td>extra long movie</td></tr>",
                            "<tr><td>SEATTLE EXPECATIONS</td><td>110</td><td>long movie</td></tr>",
                            "<tr><td>SECRET GROUNDHOG</td><td>90</td><td>normal movie</td></tr>",
                            "<tr><td>SECRETARY ROUGE</td><td>158</td><td>extra long movie</td></tr>",
                            "<tr><td>SECRETS PARADISE</td><td>109</td><td>long movie</td></tr>",
                            "<tr><td>SENSE GREEK</td><td>54</td><td>short movie</td></tr>",
                            "<tr><td>SENSIBILITY REAR</td><td>98</td><td>long movie</td></tr>",
                            "<tr><td>SEVEN SWARM</td><td>127</td><td>extra long movie</td></tr>",
                            "<tr><td>SHAKESPEARE SADDLE</td><td>60</td><td>short movie</td></tr>",
                            "<tr><td>SHANE DARKNESS</td><td>93</td><td>long movie</td></tr>",
                            "<tr><td>SHANGHAI TYCOON</td><td>47</td><td>short movie</td></tr>",
                            "<tr><td>SHAWSHANK BUBBLE</td><td>80</td><td>normal movie</td></tr>",
                            "<tr><td>SHEPHERD MIDSUMMER</td><td>113</td><td>long movie</td></tr>",
                            "<tr><td>SHINING ROSES</td><td>125</td><td>extra long movie</td></tr>",
                            "<tr><td>SHIP WONDERLAND</td><td>104</td><td>long movie</td></tr>",
                            "<tr><td>SHOCK CABIN</td><td>79</td><td>normal movie</td></tr>",
                            "<tr><td>SHOOTIST SUPERFLY</td><td>67</td><td>normal movie</td></tr>",
                            "<tr><td>SHOW LORD</td><td>167</td><td>extra long movie</td></tr>",
                            "<tr><td>SHREK LICENSE</td><td>154</td><td>extra long movie</td></tr>",
                            "<tr><td>SHRUNK DIVINE</td><td>139</td><td>extra long movie</td></tr>",
                            "<tr><td>SIDE ARK</td><td>52</td><td>short movie</td></tr>",
                            "<tr><td>SIEGE MADRE</td><td>111</td><td>long movie</td></tr>",
                            "<tr><td>SIERRA DIVIDE</td><td>135</td><td>extra long movie</td></tr>",
                            "<tr><td>SILENCE KANE</td><td>67</td><td>normal movie</td></tr>",
                            "<tr><td>SILVERADO GOLDFINGER</td><td>74</td><td>normal movie</td></tr>",
                            "<tr><td>SIMON NORTH</td><td>51</td><td>short movie</td></tr>",
                            "<tr><td>SINNERS ATLANTIS</td><td>126</td><td>extra long movie</td></tr>",
                            "<tr><td>SISTER FREDDY</td><td>152</td><td>extra long movie</td></tr>",
                            "<tr><td>SKY MIRACLE</td><td>132</td><td>extra long movie</td></tr>",
                            "<tr><td>SLACKER LIAISONS</td><td>179</td><td>extra long movie</td></tr>",
                            "<tr><td>SLEEPING SUSPECTS</td><td>129</td><td>extra long movie</td></tr>",
                            "<tr><td>SLEEPLESS MONSOON</td><td>64</td><td>normal movie</td></tr>",
                            "<tr><td>SLEEPY JAPANESE</td><td>137</td><td>extra long movie</td></tr>",
                            "<tr><td>SLEUTH ORIENT</td><td>87</td><td>normal movie</td></tr>",
                            "<tr><td>SLING LUKE</td><td>84</td><td>normal movie</td></tr>",
                            "<tr><td>SLIPPER FIDELITY</td><td>156</td><td>extra long movie</td></tr>",
                            "<tr><td>SLUMS DUCK</td><td>147</td><td>extra long movie</td></tr>",
                            "<tr><td>SMILE EARRING</td><td>60</td><td>short movie</td></tr>",
                            "<tr><td>SMOKING BARBARELLA</td><td>50</td><td>short movie</td></tr>",
                            "<tr><td>SMOOCHY CONTROL</td><td>184</td><td>extra long movie</td></tr>",
                            "<tr><td>SNATCH SLIPPER</td><td>110</td><td>long movie</td></tr>",
                            "<tr><td>SNATCHERS MONTEZUMA</td><td>74</td><td>normal movie</td></tr>",
                            "<tr><td>SNOWMAN ROLLERCOASTER</td><td>62</td><td>normal movie</td></tr>",
                            "<tr><td>SOLDIERS EVOLUTION</td><td>185</td><td>extra long movie</td></tr>",
                            "<tr><td>SOMETHING DUCK</td><td>180</td><td>extra long movie</td></tr>",
                            "<tr><td>SONG HEDWIG</td><td>165</td><td>extra long movie</td></tr>",
                            "<tr><td>SONS INTERVIEW</td><td>184</td><td>extra long movie</td></tr>",
                            "<tr><td>SORORITY QUEEN</td><td>184</td><td>extra long movie</td></tr>",
                            "<tr><td>SOUP WISDOM</td><td>169</td><td>extra long movie</td></tr>",
                            "<tr><td>SOUTH WAIT</td><td>143</td><td>extra long movie</td></tr>",
                            "<tr><td>SPARTACUS CHEAPER</td><td>52</td><td>short movie</td></tr>",
                            "<tr><td>SPEAKEASY DATE</td><td>165</td><td>extra long movie</td></tr>",
                            "<tr><td>SPEED SUIT</td><td>124</td><td>extra long movie</td></tr>",
                            "<tr><td>SPICE SORORITY</td><td>141</td><td>extra long movie</td></tr>",
                            "<tr><td>SPIKING ELEMENT</td><td>79</td><td>normal movie</td></tr>",
                            "<tr><td>SPINAL ROCKY</td><td>138</td><td>extra long movie</td></tr>",
                            "<tr><td>SPIRIT FLINTSTONES</td><td>149</td><td>extra long movie</td></tr>",
                            "<tr><td>SPIRITED CASUALTIES</td><td>138</td><td>extra long movie</td></tr>",
                            "<tr><td>SPLASH GUMP</td><td>175</td><td>extra long movie</td></tr>",
                            "<tr><td>SPLENDOR PATTON</td><td>134</td><td>extra long movie</td></tr>",
                            "<tr><td>SPOILERS HELLFIGHTERS</td><td>151</td><td>extra long movie</td></tr>",
                            "<tr><td>SPY MILE</td><td>112</td><td>long movie</td></tr>",
                            "<tr><td>SQUAD FISH</td><td>136</td><td>extra long movie</td></tr>",
                            "<tr><td>STAGE WORLD</td><td>85</td><td>normal movie</td></tr>",
                            "<tr><td>STAGECOACH ARMAGEDDON</td><td>112</td><td>long movie</td></tr>",
                            "<tr><td>STALLION SUNDANCE</td><td>130</td><td>extra long movie</td></tr>",
                            "<tr><td>STAMPEDE DISTURBING</td><td>75</td><td>normal movie</td></tr>",
                            "<tr><td>STAR OPERATION</td><td>181</td><td>extra long movie</td></tr>",
                            "<tr><td>STATE WASTELAND</td><td>113</td><td>long movie</td></tr>",
                            "<tr><td>STEEL SANTA</td><td>143</td><td>extra long movie</td></tr>",
                            "<tr><td>STEERS ARMAGEDDON</td><td>140</td><td>extra long movie</td></tr>",
                            "<tr><td>STEPMOM DREAM</td><td>48</td><td>short movie</td></tr>",
                            "<tr><td>STING PERSONAL</td><td>93</td><td>long movie</td></tr>",
                            "<tr><td>STOCK GLASS</td><td>160</td><td>extra long movie</td></tr>",
                            "<tr><td>STONE FIRE</td><td>94</td><td>long movie</td></tr>",
                            "<tr><td>STORM HAPPINESS</td><td>57</td><td>short movie</td></tr>",
                            "<tr><td>STORY SIDE</td><td>163</td><td>extra long movie</td></tr>",
                            "<tr><td>STRAIGHT HOURS</td><td>151</td><td>extra long movie</td></tr>",
                            "<tr><td>STRANGELOVE DESIRE</td><td>103</td><td>long movie</td></tr>",
                            "<tr><td>STRANGER STRANGERS</td><td>139</td><td>extra long movie</td></tr>",
                            "<tr><td>STRANGERS GRAFFITI</td><td>119</td><td>long movie</td></tr>",
                            "<tr><td>STREAK RIDGEMONT</td><td>132</td><td>extra long movie</td></tr>",
                            "<tr><td>STREETCAR INTENTIONS</td><td>73</td><td>normal movie</td></tr>",
                            "<tr><td>STRICTLY SCARFACE</td><td>144</td><td>extra long movie</td></tr>",
                            "<tr><td>SUBMARINE BED</td><td>127</td><td>extra long movie</td></tr>",
                            "<tr><td>SUGAR WONKA</td><td>114</td><td>long movie</td></tr>",
                            "<tr><td>SUICIDES SILENCE</td><td>93</td><td>long movie</td></tr>",
                            "<tr><td>SUIT WALLS</td><td>111</td><td>long movie</td></tr>",
                            "<tr><td>SUMMER SCARFACE</td><td>53</td><td>short movie</td></tr>",
                            "<tr><td>SUN CONFESSIONS</td><td>141</td><td>extra long movie</td></tr>",
                            "<tr><td>SUNDANCE INVASION</td><td>92</td><td>long movie</td></tr>",
                            "<tr><td>SUNRISE LEAGUE</td><td>135</td><td>extra long movie</td></tr>",
                            "<tr><td>SUNSET RACER</td><td>48</td><td>short movie</td></tr>",
                            "<tr><td>SUPER WYOMING</td><td>58</td><td>short movie</td></tr>",
                            "<tr><td>SUPERFLY TRIP</td><td>114</td><td>long movie</td></tr>",
                            "<tr><td>SUSPECTS QUILLS</td><td>47</td><td>short movie</td></tr>",
                            "<tr><td>SWARM GOLD</td><td>123</td><td>extra long movie</td></tr>",
                            "<tr><td>SWEDEN SHINING</td><td>176</td><td>extra long movie</td></tr>",
                            "<tr><td>SWEET BROTHERHOOD</td><td>185</td><td>extra long movie</td></tr>",
                            "<tr><td>SWEETHEARTS SUSPECTS</td><td>108</td><td>long movie</td></tr>",
                            "<tr><td>TADPOLE PARK</td><td>155</td><td>extra long movie</td></tr>",
                            "<tr><td>TALENTED HOMICIDE</td><td>173</td><td>extra long movie</td></tr>",
                            "<tr><td>TARZAN VIDEOTAPE</td><td>91</td><td>long movie</td></tr>",
                            "<tr><td>TAXI KICK</td><td>64</td><td>normal movie</td></tr>",
                            "<tr><td>TEEN APOLLO</td><td>74</td><td>normal movie</td></tr>",
                            "<tr><td>TELEGRAPH VOYAGE</td><td>148</td><td>extra long movie</td></tr>",
                            "<tr><td>TELEMARK HEARTBREAKERS</td><td>152</td><td>extra long movie</td></tr>",
                            "<tr><td>TEMPLE ATTRACTION</td><td>71</td><td>normal movie</td></tr>",
                            "<tr><td>TENENBAUMS COMMAND</td><td>99</td><td>long movie</td></tr>",
                            "<tr><td>TEQUILA PAST</td><td>53</td><td>short movie</td></tr>",
                            "<tr><td>TERMINATOR CLUB</td><td>88</td><td>normal movie</td></tr>",
                            "<tr><td>TEXAS WATCH</td><td>179</td><td>extra long movie</td></tr>",
                            "<tr><td>THEORY MERMAID</td><td>184</td><td>extra long movie</td></tr>",
                            "<tr><td>THIEF PELICAN</td><td>135</td><td>extra long movie</td></tr>",
                            "<tr><td>THIN SAGEBRUSH</td><td>53</td><td>short movie</td></tr>",
                            "<tr><td>TIES HUNGER</td><td>111</td><td>long movie</td></tr>",
                            "<tr><td>TIGHTS DAWN</td><td>172</td><td>extra long movie</td></tr>",
                            "<tr><td>TIMBERLAND SKY</td><td>69</td><td>normal movie</td></tr>",
                            "<tr><td>TITANIC BOONDOCK</td><td>104</td><td>long movie</td></tr>",
                            "<tr><td>TITANS JERK</td><td>91</td><td>long movie</td></tr>",
                            "<tr><td>TOMATOES HELLFIGHTERS</td><td>68</td><td>normal movie</td></tr>",
                            "<tr><td>TOMORROW HUSTLER</td><td>142</td><td>extra long movie</td></tr>",
                            "<tr><td>TOOTSIE PILOT</td><td>157</td><td>extra long movie</td></tr>",
                            "<tr><td>TORQUE BOUND</td><td>179</td><td>extra long movie</td></tr>",
                            "<tr><td>TOURIST PELICAN</td><td>152</td><td>extra long movie</td></tr>",
                            "<tr><td>TOWERS HURRICANE</td><td>144</td><td>extra long movie</td></tr>",
                            "<tr><td>TOWN ARK</td><td>136</td><td>extra long movie</td></tr>",
                            "<tr><td>TRACY CIDER</td><td>142</td><td>extra long movie</td></tr>",
                            "<tr><td>TRADING PINOCCHIO</td><td>170</td><td>extra long movie</td></tr>",
                            "<tr><td>TRAFFIC HOBBIT</td><td>139</td><td>extra long movie</td></tr>",
                            "<tr><td>TRAIN BUNCH</td><td>71</td><td>normal movie</td></tr>",
                            "<tr><td>TRAINSPOTTING STRANGERS</td><td>132</td><td>extra long movie</td></tr>",
                            "<tr><td>TRAMP OTHERS</td><td>171</td><td>extra long movie</td></tr>",
                            "<tr><td>TRANSLATION SUMMER</td><td>168</td><td>extra long movie</td></tr>",
                            "<tr><td>TRAP GUYS</td><td>110</td><td>long movie</td></tr>",
                            "<tr><td>TREASURE COMMAND</td><td>102</td><td>long movie</td></tr>",
                            "<tr><td>TREATMENT JEKYLL</td><td>87</td><td>normal movie</td></tr>",
                            "<tr><td>TRIP NEWTON</td><td>64</td><td>normal movie</td></tr>",
                            "<tr><td>TROJAN TOMORROW</td><td>52</td><td>short movie</td></tr>",
                            "<tr><td>TROOPERS METAL</td><td>115</td><td>long movie</td></tr>",
                            "<tr><td>TROUBLE DATE</td><td>61</td><td>normal movie</td></tr>",
                            "<tr><td>TRUMAN CRAZY</td><td>92</td><td>long movie</td></tr>",
                            "<tr><td>TURN STAR</td><td>80</td><td>normal movie</td></tr>",
                            "<tr><td>TUXEDO MILE</td><td>152</td><td>extra long movie</td></tr>",
                            "<tr><td>TWISTED PIRATES</td><td>152</td><td>extra long movie</td></tr>",
                            "<tr><td>TYCOON GATHERING</td><td>82</td><td>normal movie</td></tr>",
                            "<tr><td>UNBREAKABLE KARATE</td><td>62</td><td>normal movie</td></tr>",
                            "<tr><td>UNCUT SUICIDES</td><td>172</td><td>extra long movie</td></tr>",
                            "<tr><td>UNDEFEATED DALMATIONS</td><td>107</td><td>long movie</td></tr>",
                            "<tr><td>UNFAITHFUL KILL</td><td>78</td><td>normal movie</td></tr>",
                            "<tr><td>UNFORGIVEN ZOOLANDER</td><td>129</td><td>extra long movie</td></tr>",
                            "<tr><td>UNITED PILOT</td><td>164</td><td>extra long movie</td></tr>",
                            "<tr><td>UNTOUCHABLES SUNRISE</td><td>120</td><td>long movie</td></tr>",
                            "<tr><td>UPRISING UPTOWN</td><td>174</td><td>extra long movie</td></tr>",
                            "<tr><td>UPTOWN YOUNG</td><td>84</td><td>normal movie</td></tr>",
                            "<tr><td>USUAL UNTOUCHABLES</td><td>128</td><td>extra long movie</td></tr>",
                            "<tr><td>VACATION BOONDOCK</td><td>145</td><td>extra long movie</td></tr>",
                            "<tr><td>VALENTINE VANISHING</td><td>48</td><td>short movie</td></tr>",
                            "<tr><td>VALLEY PACKER</td><td>73</td><td>normal movie</td></tr>",
                            "<tr><td>VAMPIRE WHALE</td><td>126</td><td>extra long movie</td></tr>",
                            "<tr><td>VANILLA DAY</td><td>122</td><td>extra long movie</td></tr>",
                            "<tr><td>VANISHED GARDEN</td><td>142</td><td>extra long movie</td></tr>",
                            "<tr><td>VANISHING ROCKY</td><td>123</td><td>extra long movie</td></tr>",
                            "<tr><td>VARSITY TRIP</td><td>85</td><td>normal movie</td></tr>",
                            "<tr><td>VELVET TERMINATOR</td><td>173</td><td>extra long movie</td></tr>",
                            "<tr><td>VERTIGO NORTHWEST</td><td>90</td><td>normal movie</td></tr>",
                            "<tr><td>VICTORY ACADEMY</td><td>64</td><td>normal movie</td></tr>",
                            "<tr><td>VIDEOTAPE ARSENIC</td><td>145</td><td>extra long movie</td></tr>",
                            "<tr><td>VIETNAM SMOOCHY</td><td>174</td><td>extra long movie</td></tr>",
                            "<tr><td>VILLAIN DESPERATE</td><td>76</td><td>normal movie</td></tr>",
                            "<tr><td>VIRGIN DAISY</td><td>179</td><td>extra long movie</td></tr>",
                            "<tr><td>VIRGINIAN PLUTO</td><td>164</td><td>extra long movie</td></tr>",
                            "<tr><td>VIRTUAL SPOILERS</td><td>144</td><td>extra long movie</td></tr>",
                            "<tr><td>VISION TORQUE</td><td>59</td><td>short movie</td></tr>",
                            "<tr><td>VOICE PEACH</td><td>139</td><td>extra long movie</td></tr>",
                            "<tr><td>VOLCANO TEXAS</td><td>157</td><td>extra long movie</td></tr>",
                            "<tr><td>VOLUME HOUSE</td><td>132</td><td>extra long movie</td></tr>",
                            "<tr><td>VOYAGE LEGALLY</td><td>78</td><td>normal movie</td></tr>",
                            "<tr><td>WAGON JAWS</td><td>152</td><td>extra long movie</td></tr>",
                            "<tr><td>WAIT CIDER</td><td>112</td><td>long movie</td></tr>",
                            "<tr><td>WAKE JAWS</td><td>73</td><td>normal movie</td></tr>",
                            "<tr><td>WALLS ARTIST</td><td>135</td><td>extra long movie</td></tr>",
                            "<tr><td>WANDA CHAMBER</td><td>107</td><td>long movie</td></tr>",
                            "<tr><td>WAR NOTTING</td><td>80</td><td>normal movie</td></tr>",
                            "<tr><td>WARDROBE PHANTOM</td><td>178</td><td>extra long movie</td></tr>",
                            "<tr><td>WARLOCK WEREWOLF</td><td>83</td><td>normal movie</td></tr>",
                            "<tr><td>WARS PLUTO</td><td>128</td><td>extra long movie</td></tr>",
                            "<tr><td>WASH HEAVENLY</td><td>161</td><td>extra long movie</td></tr>",
                            "<tr><td>WASTELAND DIVINE</td><td>85</td><td>normal movie</td></tr>",
                            "<tr><td>WATCH TRACY</td><td>78</td><td>normal movie</td></tr>",
                            "<tr><td>WATERFRONT DELIVERANCE</td><td>61</td><td>normal movie</td></tr>",
                            "<tr><td>WATERSHIP FRONTIER</td><td>112</td><td>long movie</td></tr>",
                            "<tr><td>WEDDING APOLLO</td><td>70</td><td>normal movie</td></tr>",
                            "<tr><td>WEEKEND PERSONAL</td><td>134</td><td>extra long movie</td></tr>",
                            "<tr><td>WEREWOLF LOLA</td><td>79</td><td>normal movie</td></tr>",
                            "<tr><td>WEST LION</td><td>159</td><td>extra long movie</td></tr>",
                            "<tr><td>WESTWARD SEABISCUIT</td><td>52</td><td>short movie</td></tr>",
                            "<tr><td>WHALE BIKINI</td><td>109</td><td>long movie</td></tr>",
                            "<tr><td>WHISPERER GIANT</td><td>59</td><td>short movie</td></tr>",
                            "<tr><td>WIFE TURN</td><td>183</td><td>extra long movie</td></tr>",
                            "<tr><td>WILD APOLLO</td><td>181</td><td>extra long movie</td></tr>",
                            "<tr><td>WILLOW TRACY</td><td>137</td><td>extra long movie</td></tr>",
                            "<tr><td>WIND PHANTOM</td><td>111</td><td>long movie</td></tr>",
                            "<tr><td>WINDOW SIDE</td><td>85</td><td>normal movie</td></tr>",
                            "<tr><td>WISDOM WORKER</td><td>98</td><td>long movie</td></tr>",
                            "<tr><td>WITCHES PANIC</td><td>100</td><td>long movie</td></tr>",
                            "<tr><td>WIZARD COLDBLOODED</td><td>75</td><td>normal movie</td></tr>",
                            "<tr><td>WOLVES DESIRE</td><td>55</td><td>short movie</td></tr>",
                            "<tr><td>WOMEN DORADO</td><td>126</td><td>extra long movie</td></tr>",
                            "<tr><td>WON DARES</td><td>105</td><td>long movie</td></tr>",
                            "<tr><td>WONDERFUL DROP</td><td>126</td><td>extra long movie</td></tr>",
                            "<tr><td>WONDERLAND CHRISTMAS</td><td>111</td><td>long movie</td></tr>",
                            "<tr><td>WONKA SEA</td><td>85</td><td>normal movie</td></tr>",
                            "<tr><td>WORDS HUNTER</td><td>116</td><td>long movie</td></tr>",
                            "<tr><td>WORKER TARZAN</td><td>139</td><td>extra long movie</td></tr>",
                            "<tr><td>WORKING MICROCOSMOS</td><td>74</td><td>normal movie</td></tr>",
                            "<tr><td>WORLD LEATHERNECKS</td><td>171</td><td>extra long movie</td></tr>",
                            "<tr><td>WORST BANGER</td><td>185</td><td>extra long movie</td></tr>",
                            "<tr><td>WRATH MILE</td><td>176</td><td>extra long movie</td></tr>",
                            "<tr><td>WRONG BEHAVIOR</td><td>178</td><td>extra long movie</td></tr>",
                            "<tr><td>WYOMING STORM</td><td>100</td><td>long movie</td></tr>",
                            "<tr><td>YENTL IDAHO</td><td>86</td><td>normal movie</td></tr>",
                            "<tr><td>YOUNG LANGUAGE</td><td>183</td><td>extra long movie</td></tr>",
                            "<tr><td>YOUTH KICK</td><td>179</td><td>extra long movie</td></tr>",
                            "<tr><td>ZHIVAGO CORE</td><td>105</td><td>long movie</td></tr>",
                            "<tr><td>ZOOLANDER FICTION</td><td>101</td><td>long movie</td></tr>",
                            "<tr><td>ZORRO ARK</td><td>50</td><td>short movie</td></tr>",
                            "</table>"
                        ]
                    }
                }
            ],
            "execution_count": 13
        },
        {
            "cell_type": "code",
            "source": [
                "select\r\n",
                "CASE\r\n",
                "   WHEN length<=60 THEN 'short movie'\r\n",
                "   WHEN length<=90 THEN 'normal movie'\r\n",
                "   WHEN length<=120 THEN 'long movie'\r\n",
                "   ELSE 'extra long movie'\r\n",
                "END AS movie_length,\r\n",
                "COUNT(1) as number_of_movies\r\n",
                "FROM film\r\n",
                "GROUP BY movie_length;"
            ],
            "metadata": {
                "language": "sql",
                "azdata_cell_guid": "7d0b77f0-11e8-40a5-882e-0ae283105fdb"
            },
            "outputs": [
{
    "output_type": "display_data",
    "data": {
        "text/html": "(4 row(s) affected)"
    },
    "metadata": {}
}, {
    "output_type": "display_data",
    "data": {
        "text/html": "Total execution time: 00:00:01.020"
    },
    "metadata": {}
}, {
    "output_type": "execute_result",
    "metadata": {},
    "execution_count": 14,
    "data": {
        "application/vnd.dataresource+json": {
            "schema": {
                "fields": [
                    {
                        "name": "movie_length"
                    },
                    {
                        "name": "number_of_movies"
                    }
                ]
            },
            "data": [
                {
                    "movie_length": "normal movie",
                    "number_of_movies": "221"
                },
                {
                    "movie_length": "short movie",
                    "number_of_movies": "104"
                },
                {
                    "movie_length": "long movie",
                    "number_of_movies": "218"
                },
                {
                    "movie_length": "extra long movie",
                    "number_of_movies": "457"
                }
            ]
        },
        "text/html": [
            "<table>",
            "<tr><th>movie_length</th><th>number_of_movies</th></tr>",
            "<tr><td>normal movie</td><td>221</td></tr>",
            "<tr><td>short movie</td><td>104</td></tr>",
            "<tr><td>long movie</td><td>218</td></tr>",
            "<tr><td>extra long movie</td><td>457</td></tr>",
            "</table>"
        ]
    }
}
],
            "execution_count": 14
        }
    ]
}