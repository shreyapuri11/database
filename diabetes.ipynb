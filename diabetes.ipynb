{
    "metadata": {
        "kernelspec": {
            "name": "SQL",
            "display_name": "SQL",
            "language": "sql"
        },
        "language_info": {
            "name": "sql",
            "version": ""
        }
    },
    "nbformat_minor": 2,
    "nbformat": 4,
    "cells": [
        {
            "cell_type": "markdown",
            "source": [
                "# Diabetes.SQL file"
            ],
            "metadata": {
                "azdata_cell_guid": "fdc56dff-0d5e-46f3-b81f-50833a560ed5"
            },
            "attachments": {}
        },
        {
            "cell_type": "code",
            "source": [
                "use practice;"
            ],
            "metadata": {
                "azdata_cell_guid": "94feb5a5-a3fe-4364-bc3a-f0298c633376",
                "language": "sql"
            },
            "outputs": [
                {
                    "output_type": "display_data",
                    "data": {
                        "text/html": "Commands completed successfully"
                    },
                    "metadata": {}
                },
                {
                    "output_type": "display_data",
                    "data": {
                        "text/html": "Total execution time: 00:00:00.002"
                    },
                    "metadata": {}
                }
            ],
            "execution_count": 3
        },
        {
            "cell_type": "code",
            "source": [
                "show tables;"
            ],
            "metadata": {
                "language": "sql",
                "azdata_cell_guid": "02b7f0a7-00ed-404e-b432-cc73d883cece"
            },
            "outputs": [
                {
                    "output_type": "display_data",
                    "data": {
                        "text/html": "(3 row(s) affected)"
                    },
                    "metadata": {}
                },
                {
                    "output_type": "display_data",
                    "data": {
                        "text/html": "Total execution time: 00:00:01.005"
                    },
                    "metadata": {}
                },
                {
                    "output_type": "execute_result",
                    "metadata": {},
                    "execution_count": 5,
                    "data": {
                        "application/vnd.dataresource+json": {
                            "schema": {
                                "fields": [
                                    {
                                        "name": "Tables_in_practice"
                                    }
                                ]
                            },
                            "data": [
                                {
                                    "Tables_in_practice": "baseball"
                                },
                                {
                                    "Tables_in_practice": "diabetes"
                                },
                                {
                                    "Tables_in_practice": "houseprices"
                                }
                            ]
                        },
                        "text/html": [
                            "<table>",
                            "<tr><th>Tables_in_practice</th></tr>",
                            "<tr><td>baseball</td></tr>",
                            "<tr><td>diabetes</td></tr>",
                            "<tr><td>houseprices</td></tr>",
                            "</table>"
                        ]
                    }
                }
            ],
            "execution_count": 5
        },
        {
            "cell_type": "markdown",
            "source": [
                "\r\n",
                "### Retrieve all the columns from the diabetes table"
            ],
            "metadata": {
                "language": "sql",
                "azdata_cell_guid": "8490e85c-5c15-49e3-992c-a7a72eeb8ede"
            },
            "attachments": {}
        },
        {
            "cell_type": "code",
            "source": [
                "describe diabetes;"
            ],
            "metadata": {
                "language": "sql",
                "azdata_cell_guid": "f45e3a24-e93a-48e5-aed2-113304de86cb"
            },
            "outputs": [
                {
                    "output_type": "display_data",
                    "data": {
                        "text/html": "(9 row(s) affected)"
                    },
                    "metadata": {}
                },
                {
                    "output_type": "display_data",
                    "data": {
                        "text/html": "Total execution time: 00:00:01.033"
                    },
                    "metadata": {}
                },
                {
                    "output_type": "execute_result",
                    "metadata": {},
                    "execution_count": 6,
                    "data": {
                        "application/vnd.dataresource+json": {
                            "schema": {
                                "fields": [
                                    {
                                        "name": "Field"
                                    },
                                    {
                                        "name": "Type"
                                    },
                                    {
                                        "name": "Null"
                                    },
                                    {
                                        "name": "Key"
                                    },
                                    {
                                        "name": "Default"
                                    },
                                    {
                                        "name": "Extra"
                                    }
                                ]
                            },
                            "data": [
                                {
                                    "Field": "Pregnancies",
                                    "Type": "b'bigint'",
                                    "Null": "YES",
                                    "Key": "",
                                    "Default": "NULL",
                                    "Extra": ""
                                },
                                {
                                    "Field": "Glucose",
                                    "Type": "b'bigint'",
                                    "Null": "YES",
                                    "Key": "",
                                    "Default": "NULL",
                                    "Extra": ""
                                },
                                {
                                    "Field": "BloodPressure",
                                    "Type": "b'bigint'",
                                    "Null": "YES",
                                    "Key": "",
                                    "Default": "NULL",
                                    "Extra": ""
                                },
                                {
                                    "Field": "SkinThickness",
                                    "Type": "b'bigint'",
                                    "Null": "YES",
                                    "Key": "",
                                    "Default": "NULL",
                                    "Extra": ""
                                },
                                {
                                    "Field": "Insulin",
                                    "Type": "b'bigint'",
                                    "Null": "YES",
                                    "Key": "",
                                    "Default": "NULL",
                                    "Extra": ""
                                },
                                {
                                    "Field": "BMI",
                                    "Type": "b'double'",
                                    "Null": "YES",
                                    "Key": "",
                                    "Default": "NULL",
                                    "Extra": ""
                                },
                                {
                                    "Field": "DiabetesPedigreeFunction",
                                    "Type": "b'double'",
                                    "Null": "YES",
                                    "Key": "",
                                    "Default": "NULL",
                                    "Extra": ""
                                },
                                {
                                    "Field": "Age",
                                    "Type": "b'bigint'",
                                    "Null": "YES",
                                    "Key": "",
                                    "Default": "NULL",
                                    "Extra": ""
                                },
                                {
                                    "Field": "Outcome",
                                    "Type": "b'bigint'",
                                    "Null": "YES",
                                    "Key": "",
                                    "Default": "NULL",
                                    "Extra": ""
                                }
                            ]
                        },
                        "text/html": [
                            "<table>",
                            "<tr><th>Field</th><th>Type</th><th>Null</th><th>Key</th><th>Default</th><th>Extra</th></tr>",
                            "<tr><td>Pregnancies</td><td>b&#39;bigint&#39;</td><td>YES</td><td></td><td>NULL</td><td></td></tr>",
                            "<tr><td>Glucose</td><td>b&#39;bigint&#39;</td><td>YES</td><td></td><td>NULL</td><td></td></tr>",
                            "<tr><td>BloodPressure</td><td>b&#39;bigint&#39;</td><td>YES</td><td></td><td>NULL</td><td></td></tr>",
                            "<tr><td>SkinThickness</td><td>b&#39;bigint&#39;</td><td>YES</td><td></td><td>NULL</td><td></td></tr>",
                            "<tr><td>Insulin</td><td>b&#39;bigint&#39;</td><td>YES</td><td></td><td>NULL</td><td></td></tr>",
                            "<tr><td>BMI</td><td>b&#39;double&#39;</td><td>YES</td><td></td><td>NULL</td><td></td></tr>",
                            "<tr><td>DiabetesPedigreeFunction</td><td>b&#39;double&#39;</td><td>YES</td><td></td><td>NULL</td><td></td></tr>",
                            "<tr><td>Age</td><td>b&#39;bigint&#39;</td><td>YES</td><td></td><td>NULL</td><td></td></tr>",
                            "<tr><td>Outcome</td><td>b&#39;bigint&#39;</td><td>YES</td><td></td><td>NULL</td><td></td></tr>",
                            "</table>"
                        ]
                    }
                }
            ],
            "execution_count": 6
        },
        {
            "cell_type": "markdown",
            "source": [
                "### Get Average Glucose leve; for all the records in the diabetes table"
            ],
            "metadata": {
                "language": "sql",
                "azdata_cell_guid": "89a7bf58-acf7-4ecc-939f-db38f33ede50"
            },
            "attachments": {}
        },
        {
            "cell_type": "code",
            "source": [
                "select AVG(Glucose) as avg_glucose\r\n",
                "from diabetes;"
            ],
            "metadata": {
                "language": "sql",
                "azdata_cell_guid": "2adc33df-0b00-4560-8c91-566eec127d3d"
            },
            "outputs": [
                {
                    "output_type": "display_data",
                    "data": {
                        "text/html": "(1 row(s) affected)"
                    },
                    "metadata": {}
                },
                {
                    "output_type": "display_data",
                    "data": {
                        "text/html": "Total execution time: 00:00:01.024"
                    },
                    "metadata": {}
                },
                {
                    "output_type": "execute_result",
                    "metadata": {},
                    "execution_count": 10,
                    "data": {
                        "application/vnd.dataresource+json": {
                            "schema": {
                                "fields": [
                                    {
                                        "name": "avg_glucose"
                                    }
                                ]
                            },
                            "data": [
                                {
                                    "avg_glucose": "120.8945"
                                }
                            ]
                        },
                        "text/html": [
                            "<table>",
                            "<tr><th>avg_glucose</th></tr>",
                            "<tr><td>120.8945</td></tr>",
                            "</table>"
                        ]
                    }
                }
            ],
            "execution_count": 10
        },
        {
            "cell_type": "markdown",
            "source": [
                "### Count the number of records whrre the BMI value is greater than 30"
            ],
            "metadata": {
                "language": "sql",
                "azdata_cell_guid": "fa0de9c5-fa2a-4d7d-befb-308790b4332f"
            },
            "attachments": {}
        },
        {
            "cell_type": "code",
            "source": [
                "SELECT COUNT(*) as record_count \r\n",
                "from diabetes\r\n",
                "WHERE BMI > 30;"
            ],
            "metadata": {
                "language": "sql",
                "azdata_cell_guid": "666ec11b-390f-4fd0-a293-d4d2fbf5369b"
            },
            "outputs": [
                {
                    "output_type": "display_data",
                    "data": {
                        "text/html": "(1 row(s) affected)"
                    },
                    "metadata": {}
                },
                {
                    "output_type": "display_data",
                    "data": {
                        "text/html": "Total execution time: 00:00:01.006"
                    },
                    "metadata": {}
                },
                {
                    "output_type": "execute_result",
                    "metadata": {},
                    "execution_count": 11,
                    "data": {
                        "application/vnd.dataresource+json": {
                            "schema": {
                                "fields": [
                                    {
                                        "name": "record_count"
                                    }
                                ]
                            },
                            "data": [
                                {
                                    "record_count": "465"
                                }
                            ]
                        },
                        "text/html": [
                            "<table>",
                            "<tr><th>record_count</th></tr>",
                            "<tr><td>465</td></tr>",
                            "</table>"
                        ]
                    }
                }
            ],
            "execution_count": 11
        },
        {
            "cell_type": "markdown",
            "source": [
                "### Find the maximum BloodPressure value in the diabetes table. select the records where the age is between 20 and 30"
            ],
            "metadata": {
                "language": "sql",
                "azdata_cell_guid": "53523207-a6f0-441b-b7ef-9c53af1a98ce"
            },
            "attachments": {}
        },
        {
            "cell_type": "code",
            "source": [
                "SELECT MAX(BloodPressure)\r\n",
                "from diabetes\r\n",
                "where Age>=20 and Age<=30;"
            ],
            "metadata": {
                "language": "sql",
                "azdata_cell_guid": "1e7bfcb7-22d7-49b1-b6bc-c9ee3813ec92"
            },
            "outputs": [
                {
                    "output_type": "display_data",
                    "data": {
                        "text/html": "(1 row(s) affected)"
                    },
                    "metadata": {}
                },
                {
                    "output_type": "display_data",
                    "data": {
                        "text/html": "Total execution time: 00:00:01.013"
                    },
                    "metadata": {}
                },
                {
                    "output_type": "execute_result",
                    "metadata": {},
                    "execution_count": 13,
                    "data": {
                        "application/vnd.dataresource+json": {
                            "schema": {
                                "fields": [
                                    {
                                        "name": "MAX(BloodPressure)"
                                    }
                                ]
                            },
                            "data": [
                                {
                                    "MAX(BloodPressure)": "122"
                                }
                            ]
                        },
                        "text/html": [
                            "<table>",
                            "<tr><th>MAX(BloodPressure)</th></tr>",
                            "<tr><td>122</td></tr>",
                            "</table>"
                        ]
                    }
                }
            ],
            "execution_count": 13
        },
        {
            "cell_type": "code",
            "source": [
                "SELECT * from diabetes\r\n",
                "where Age>=20 and Age<=30;"
            ],
            "metadata": {
                "language": "sql",
                "azdata_cell_guid": "6ec3fcf9-03cb-4f06-adb9-74f5298264ae"
            },
            "outputs": [
                {
                    "output_type": "display_data",
                    "data": {
                        "text/html": "(417 row(s) affected)"
                    },
                    "metadata": {}
                },
                {
                    "output_type": "display_data",
                    "data": {
                        "text/html": "Total execution time: 00:00:01.031"
                    },
                    "metadata": {}
                },
                {
                    "output_type": "execute_result",
                    "metadata": {},
                    "execution_count": 14,
                    "data": {
                        "application/vnd.dataresource+json": {
                            "schema": {
                                "fields": [
                                    {
                                        "name": "Pregnancies"
                                    },
                                    {
                                        "name": "Glucose"
                                    },
                                    {
                                        "name": "BloodPressure"
                                    },
                                    {
                                        "name": "SkinThickness"
                                    },
                                    {
                                        "name": "Insulin"
                                    },
                                    {
                                        "name": "BMI"
                                    },
                                    {
                                        "name": "DiabetesPedigreeFunction"
                                    },
                                    {
                                        "name": "Age"
                                    },
                                    {
                                        "name": "Outcome"
                                    }
                                ]
                            },
                            "data": [
                                {
                                    "Pregnancies": "1",
                                    "Glucose": "89",
                                    "BloodPressure": "66",
                                    "SkinThickness": "23",
                                    "Insulin": "94",
                                    "BMI": "28.1",
                                    "DiabetesPedigreeFunction": "0.167",
                                    "Age": "21",
                                    "Outcome": "0"
                                },
                                {
                                    "Pregnancies": "5",
                                    "Glucose": "116",
                                    "BloodPressure": "74",
                                    "SkinThickness": "0",
                                    "Insulin": "0",
                                    "BMI": "25.6",
                                    "DiabetesPedigreeFunction": "0.201",
                                    "Age": "30",
                                    "Outcome": "0"
                                },
                                {
                                    "Pregnancies": "3",
                                    "Glucose": "78",
                                    "BloodPressure": "50",
                                    "SkinThickness": "32",
                                    "Insulin": "88",
                                    "BMI": "31.0",
                                    "DiabetesPedigreeFunction": "0.248",
                                    "Age": "26",
                                    "Outcome": "1"
                                },
                                {
                                    "Pregnancies": "10",
                                    "Glucose": "115",
                                    "BloodPressure": "0",
                                    "SkinThickness": "0",
                                    "Insulin": "0",
                                    "BMI": "35.3",
                                    "DiabetesPedigreeFunction": "0.134",
                                    "Age": "29",
                                    "Outcome": "0"
                                },
                                {
                                    "Pregnancies": "4",
                                    "Glucose": "110",
                                    "BloodPressure": "92",
                                    "SkinThickness": "0",
                                    "Insulin": "0",
                                    "BMI": "37.6",
                                    "DiabetesPedigreeFunction": "0.191",
                                    "Age": "30",
                                    "Outcome": "0"
                                },
                                {
                                    "Pregnancies": "3",
                                    "Glucose": "126",
                                    "BloodPressure": "88",
                                    "SkinThickness": "41",
                                    "Insulin": "235",
                                    "BMI": "39.3",
                                    "DiabetesPedigreeFunction": "0.704",
                                    "Age": "27",
                                    "Outcome": "0"
                                },
                                {
                                    "Pregnancies": "9",
                                    "Glucose": "119",
                                    "BloodPressure": "80",
                                    "SkinThickness": "35",
                                    "Insulin": "0",
                                    "BMI": "29.0",
                                    "DiabetesPedigreeFunction": "0.263",
                                    "Age": "29",
                                    "Outcome": "1"
                                },
                                {
                                    "Pregnancies": "1",
                                    "Glucose": "97",
                                    "BloodPressure": "66",
                                    "SkinThickness": "15",
                                    "Insulin": "140",
                                    "BMI": "23.2",
                                    "DiabetesPedigreeFunction": "0.487",
                                    "Age": "22",
                                    "Outcome": "0"
                                },
                                {
                                    "Pregnancies": "3",
                                    "Glucose": "158",
                                    "BloodPressure": "76",
                                    "SkinThickness": "36",
                                    "Insulin": "245",
                                    "BMI": "31.6",
                                    "DiabetesPedigreeFunction": "0.851",
                                    "Age": "28",
                                    "Outcome": "1"
                                },
                                {
                                    "Pregnancies": "3",
                                    "Glucose": "88",
                                    "BloodPressure": "58",
                                    "SkinThickness": "11",
                                    "Insulin": "54",
                                    "BMI": "24.8",
                                    "DiabetesPedigreeFunction": "0.267",
                                    "Age": "22",
                                    "Outcome": "0"
                                },
                                {
                                    "Pregnancies": "6",
                                    "Glucose": "92",
                                    "BloodPressure": "92",
                                    "SkinThickness": "0",
                                    "Insulin": "0",
                                    "BMI": "19.9",
                                    "DiabetesPedigreeFunction": "0.188",
                                    "Age": "28",
                                    "Outcome": "0"
                                },
                                {
                                    "Pregnancies": "2",
                                    "Glucose": "90",
                                    "BloodPressure": "68",
                                    "SkinThickness": "42",
                                    "Insulin": "0",
                                    "BMI": "38.2",
                                    "DiabetesPedigreeFunction": "0.503",
                                    "Age": "27",
                                    "Outcome": "1"
                                },
                                {
                                    "Pregnancies": "3",
                                    "Glucose": "180",
                                    "BloodPressure": "64",
                                    "SkinThickness": "25",
                                    "Insulin": "70",
                                    "BMI": "34.0",
                                    "DiabetesPedigreeFunction": "0.271",
                                    "Age": "26",
                                    "Outcome": "0"
                                },
                                {
                                    "Pregnancies": "0",
                                    "Glucose": "180",
                                    "BloodPressure": "66",
                                    "SkinThickness": "39",
                                    "Insulin": "0",
                                    "BMI": "42.0",
                                    "DiabetesPedigreeFunction": "1.893",
                                    "Age": "25",
                                    "Outcome": "1"
                                },
                                {
                                    "Pregnancies": "1",
                                    "Glucose": "146",
                                    "BloodPressure": "56",
                                    "SkinThickness": "0",
                                    "Insulin": "0",
                                    "BMI": "29.7",
                                    "DiabetesPedigreeFunction": "0.564",
                                    "Age": "29",
                                    "Outcome": "0"
                                },
                                {
                                    "Pregnancies": "2",
                                    "Glucose": "71",
                                    "BloodPressure": "70",
                                    "SkinThickness": "27",
                                    "Insulin": "0",
                                    "BMI": "28.0",
                                    "DiabetesPedigreeFunction": "0.586",
                                    "Age": "22",
                                    "Outcome": "0"
                                },
                                {
                                    "Pregnancies": "7",
                                    "Glucose": "105",
                                    "BloodPressure": "0",
                                    "SkinThickness": "0",
                                    "Insulin": "0",
                                    "BMI": "0.0",
                                    "DiabetesPedigreeFunction": "0.305",
                                    "Age": "24",
                                    "Outcome": "0"
                                },
                                {
                                    "Pregnancies": "1",
                                    "Glucose": "103",
                                    "BloodPressure": "80",
                                    "SkinThickness": "11",
                                    "Insulin": "82",
                                    "BMI": "19.4",
                                    "DiabetesPedigreeFunction": "0.491",
                                    "Age": "22",
                                    "Outcome": "0"
                                },
                                {
                                    "Pregnancies": "1",
                                    "Glucose": "101",
                                    "BloodPressure": "50",
                                    "SkinThickness": "15",
                                    "Insulin": "36",
                                    "BMI": "24.2",
                                    "DiabetesPedigreeFunction": "0.526",
                                    "Age": "26",
                                    "Outcome": "0"
                                },
                                {
                                    "Pregnancies": "5",
                                    "Glucose": "88",
                                    "BloodPressure": "66",
                                    "SkinThickness": "21",
                                    "Insulin": "23",
                                    "BMI": "24.4",
                                    "DiabetesPedigreeFunction": "0.342",
                                    "Age": "30",
                                    "Outcome": "0"
                                },
                                {
                                    "Pregnancies": "1",
                                    "Glucose": "73",
                                    "BloodPressure": "50",
                                    "SkinThickness": "10",
                                    "Insulin": "0",
                                    "BMI": "23.0",
                                    "DiabetesPedigreeFunction": "0.248",
                                    "Age": "21",
                                    "Outcome": "0"
                                },
                                {
                                    "Pregnancies": "0",
                                    "Glucose": "105",
                                    "BloodPressure": "64",
                                    "SkinThickness": "41",
                                    "Insulin": "142",
                                    "BMI": "41.5",
                                    "DiabetesPedigreeFunction": "0.173",
                                    "Age": "22",
                                    "Outcome": "0"
                                },
                                {
                                    "Pregnancies": "2",
                                    "Glucose": "84",
                                    "BloodPressure": "0",
                                    "SkinThickness": "0",
                                    "Insulin": "0",
                                    "BMI": "0.0",
                                    "DiabetesPedigreeFunction": "0.304",
                                    "Age": "21",
                                    "Outcome": "0"
                                },
                                {
                                    "Pregnancies": "2",
                                    "Glucose": "141",
                                    "BloodPressure": "58",
                                    "SkinThickness": "34",
                                    "Insulin": "128",
                                    "BMI": "25.4",
                                    "DiabetesPedigreeFunction": "0.699",
                                    "Age": "24",
                                    "Outcome": "0"
                                },
                                {
                                    "Pregnancies": "1",
                                    "Glucose": "95",
                                    "BloodPressure": "66",
                                    "SkinThickness": "13",
                                    "Insulin": "38",
                                    "BMI": "19.6",
                                    "DiabetesPedigreeFunction": "0.334",
                                    "Age": "25",
                                    "Outcome": "0"
                                },
                                {
                                    "Pregnancies": "4",
                                    "Glucose": "146",
                                    "BloodPressure": "85",
                                    "SkinThickness": "27",
                                    "Insulin": "100",
                                    "BMI": "28.9",
                                    "DiabetesPedigreeFunction": "0.189",
                                    "Age": "27",
                                    "Outcome": "0"
                                },
                                {
                                    "Pregnancies": "2",
                                    "Glucose": "100",
                                    "BloodPressure": "66",
                                    "SkinThickness": "20",
                                    "Insulin": "90",
                                    "BMI": "32.9",
                                    "DiabetesPedigreeFunction": "0.867",
                                    "Age": "28",
                                    "Outcome": "1"
                                },
                                {
                                    "Pregnancies": "5",
                                    "Glucose": "139",
                                    "BloodPressure": "64",
                                    "SkinThickness": "35",
                                    "Insulin": "140",
                                    "BMI": "28.6",
                                    "DiabetesPedigreeFunction": "0.411",
                                    "Age": "26",
                                    "Outcome": "0"
                                },
                                {
                                    "Pregnancies": "4",
                                    "Glucose": "129",
                                    "BloodPressure": "86",
                                    "SkinThickness": "20",
                                    "Insulin": "270",
                                    "BMI": "35.1",
                                    "DiabetesPedigreeFunction": "0.231",
                                    "Age": "23",
                                    "Outcome": "0"
                                },
                                {
                                    "Pregnancies": "1",
                                    "Glucose": "79",
                                    "BloodPressure": "75",
                                    "SkinThickness": "30",
                                    "Insulin": "0",
                                    "BMI": "32.0",
                                    "DiabetesPedigreeFunction": "0.396",
                                    "Age": "22",
                                    "Outcome": "0"
                                },
                                {
                                    "Pregnancies": "1",
                                    "Glucose": "0",
                                    "BloodPressure": "48",
                                    "SkinThickness": "20",
                                    "Insulin": "0",
                                    "BMI": "24.7",
                                    "DiabetesPedigreeFunction": "0.14",
                                    "Age": "22",
                                    "Outcome": "0"
                                },
                                {
                                    "Pregnancies": "5",
                                    "Glucose": "95",
                                    "BloodPressure": "72",
                                    "SkinThickness": "33",
                                    "Insulin": "0",
                                    "BMI": "37.7",
                                    "DiabetesPedigreeFunction": "0.37",
                                    "Age": "27",
                                    "Outcome": "0"
                                },
                                {
                                    "Pregnancies": "0",
                                    "Glucose": "131",
                                    "BloodPressure": "0",
                                    "SkinThickness": "0",
                                    "Insulin": "0",
                                    "BMI": "43.2",
                                    "DiabetesPedigreeFunction": "0.27",
                                    "Age": "26",
                                    "Outcome": "1"
                                },
                                {
                                    "Pregnancies": "2",
                                    "Glucose": "112",
                                    "BloodPressure": "66",
                                    "SkinThickness": "22",
                                    "Insulin": "0",
                                    "BMI": "25.0",
                                    "DiabetesPedigreeFunction": "0.307",
                                    "Age": "24",
                                    "Outcome": "0"
                                },
                                {
                                    "Pregnancies": "3",
                                    "Glucose": "113",
                                    "BloodPressure": "44",
                                    "SkinThickness": "13",
                                    "Insulin": "0",
                                    "BMI": "22.4",
                                    "DiabetesPedigreeFunction": "0.14",
                                    "Age": "22",
                                    "Outcome": "0"
                                },
                                {
                                    "Pregnancies": "2",
                                    "Glucose": "74",
                                    "BloodPressure": "0",
                                    "SkinThickness": "0",
                                    "Insulin": "0",
                                    "BMI": "0.0",
                                    "DiabetesPedigreeFunction": "0.102",
                                    "Age": "22",
                                    "Outcome": "0"
                                },
                                {
                                    "Pregnancies": "0",
                                    "Glucose": "101",
                                    "BloodPressure": "65",
                                    "SkinThickness": "28",
                                    "Insulin": "0",
                                    "BMI": "24.6",
                                    "DiabetesPedigreeFunction": "0.237",
                                    "Age": "22",
                                    "Outcome": "0"
                                },
                                {
                                    "Pregnancies": "2",
                                    "Glucose": "110",
                                    "BloodPressure": "74",
                                    "SkinThickness": "29",
                                    "Insulin": "125",
                                    "BMI": "32.4",
                                    "DiabetesPedigreeFunction": "0.698",
                                    "Age": "27",
                                    "Outcome": "0"
                                },
                                {
                                    "Pregnancies": "2",
                                    "Glucose": "100",
                                    "BloodPressure": "68",
                                    "SkinThickness": "25",
                                    "Insulin": "71",
                                    "BMI": "38.5",
                                    "DiabetesPedigreeFunction": "0.324",
                                    "Age": "26",
                                    "Outcome": "0"
                                },
                                {
                                    "Pregnancies": "1",
                                    "Glucose": "107",
                                    "BloodPressure": "68",
                                    "SkinThickness": "19",
                                    "Insulin": "0",
                                    "BMI": "26.5",
                                    "DiabetesPedigreeFunction": "0.165",
                                    "Age": "24",
                                    "Outcome": "0"
                                },
                                {
                                    "Pregnancies": "1",
                                    "Glucose": "80",
                                    "BloodPressure": "55",
                                    "SkinThickness": "0",
                                    "Insulin": "0",
                                    "BMI": "19.1",
                                    "DiabetesPedigreeFunction": "0.258",
                                    "Age": "21",
                                    "Outcome": "0"
                                },
                                {
                                    "Pregnancies": "2",
                                    "Glucose": "142",
                                    "BloodPressure": "82",
                                    "SkinThickness": "18",
                                    "Insulin": "64",
                                    "BMI": "24.7",
                                    "DiabetesPedigreeFunction": "0.761",
                                    "Age": "21",
                                    "Outcome": "0"
                                },
                                {
                                    "Pregnancies": "2",
                                    "Glucose": "92",
                                    "BloodPressure": "62",
                                    "SkinThickness": "28",
                                    "Insulin": "0",
                                    "BMI": "31.6",
                                    "DiabetesPedigreeFunction": "0.13",
                                    "Age": "24",
                                    "Outcome": "0"
                                },
                                {
                                    "Pregnancies": "1",
                                    "Glucose": "71",
                                    "BloodPressure": "48",
                                    "SkinThickness": "18",
                                    "Insulin": "76",
                                    "BMI": "20.4",
                                    "DiabetesPedigreeFunction": "0.323",
                                    "Age": "22",
                                    "Outcome": "0"
                                },
                                {
                                    "Pregnancies": "6",
                                    "Glucose": "93",
                                    "BloodPressure": "50",
                                    "SkinThickness": "30",
                                    "Insulin": "64",
                                    "BMI": "28.7",
                                    "DiabetesPedigreeFunction": "0.356",
                                    "Age": "23",
                                    "Outcome": "0"
                                },
                                {
                                    "Pregnancies": "1",
                                    "Glucose": "151",
                                    "BloodPressure": "60",
                                    "SkinThickness": "0",
                                    "Insulin": "0",
                                    "BMI": "26.1",
                                    "DiabetesPedigreeFunction": "0.179",
                                    "Age": "22",
                                    "Outcome": "0"
                                },
                                {
                                    "Pregnancies": "0",
                                    "Glucose": "125",
                                    "BloodPressure": "96",
                                    "SkinThickness": "0",
                                    "Insulin": "0",
                                    "BMI": "22.5",
                                    "DiabetesPedigreeFunction": "0.262",
                                    "Age": "21",
                                    "Outcome": "0"
                                },
                                {
                                    "Pregnancies": "1",
                                    "Glucose": "81",
                                    "BloodPressure": "72",
                                    "SkinThickness": "18",
                                    "Insulin": "40",
                                    "BMI": "26.6",
                                    "DiabetesPedigreeFunction": "0.283",
                                    "Age": "24",
                                    "Outcome": "0"
                                },
                                {
                                    "Pregnancies": "2",
                                    "Glucose": "85",
                                    "BloodPressure": "65",
                                    "SkinThickness": "0",
                                    "Insulin": "0",
                                    "BMI": "39.6",
                                    "DiabetesPedigreeFunction": "0.93",
                                    "Age": "27",
                                    "Outcome": "0"
                                },
                                {
                                    "Pregnancies": "1",
                                    "Glucose": "126",
                                    "BloodPressure": "56",
                                    "SkinThickness": "29",
                                    "Insulin": "152",
                                    "BMI": "28.7",
                                    "DiabetesPedigreeFunction": "0.801",
                                    "Age": "21",
                                    "Outcome": "0"
                                },
                                {
                                    "Pregnancies": "1",
                                    "Glucose": "96",
                                    "BloodPressure": "122",
                                    "SkinThickness": "0",
                                    "Insulin": "0",
                                    "BMI": "22.4",
                                    "DiabetesPedigreeFunction": "0.207",
                                    "Age": "27",
                                    "Outcome": "0"
                                },
                                {
                                    "Pregnancies": "3",
                                    "Glucose": "83",
                                    "BloodPressure": "58",
                                    "SkinThickness": "31",
                                    "Insulin": "18",
                                    "BMI": "34.3",
                                    "DiabetesPedigreeFunction": "0.336",
                                    "Age": "25",
                                    "Outcome": "0"
                                },
                                {
                                    "Pregnancies": "0",
                                    "Glucose": "95",
                                    "BloodPressure": "85",
                                    "SkinThickness": "25",
                                    "Insulin": "36",
                                    "BMI": "37.4",
                                    "DiabetesPedigreeFunction": "0.247",
                                    "Age": "24",
                                    "Outcome": "1"
                                },
                                {
                                    "Pregnancies": "3",
                                    "Glucose": "171",
                                    "BloodPressure": "72",
                                    "SkinThickness": "33",
                                    "Insulin": "135",
                                    "BMI": "33.3",
                                    "DiabetesPedigreeFunction": "0.199",
                                    "Age": "24",
                                    "Outcome": "1"
                                },
                                {
                                    "Pregnancies": "1",
                                    "Glucose": "89",
                                    "BloodPressure": "76",
                                    "SkinThickness": "34",
                                    "Insulin": "37",
                                    "BMI": "31.2",
                                    "DiabetesPedigreeFunction": "0.192",
                                    "Age": "23",
                                    "Outcome": "0"
                                },
                                {
                                    "Pregnancies": "4",
                                    "Glucose": "76",
                                    "BloodPressure": "62",
                                    "SkinThickness": "0",
                                    "Insulin": "0",
                                    "BMI": "34.0",
                                    "DiabetesPedigreeFunction": "0.391",
                                    "Age": "25",
                                    "Outcome": "0"
                                },
                                {
                                    "Pregnancies": "5",
                                    "Glucose": "78",
                                    "BloodPressure": "48",
                                    "SkinThickness": "0",
                                    "Insulin": "0",
                                    "BMI": "33.7",
                                    "DiabetesPedigreeFunction": "0.654",
                                    "Age": "25",
                                    "Outcome": "0"
                                },
                                {
                                    "Pregnancies": "4",
                                    "Glucose": "97",
                                    "BloodPressure": "60",
                                    "SkinThickness": "23",
                                    "Insulin": "0",
                                    "BMI": "28.2",
                                    "DiabetesPedigreeFunction": "0.443",
                                    "Age": "22",
                                    "Outcome": "0"
                                },
                                {
                                    "Pregnancies": "4",
                                    "Glucose": "99",
                                    "BloodPressure": "76",
                                    "SkinThickness": "15",
                                    "Insulin": "51",
                                    "BMI": "23.2",
                                    "DiabetesPedigreeFunction": "0.223",
                                    "Age": "21",
                                    "Outcome": "0"
                                },
                                {
                                    "Pregnancies": "0",
                                    "Glucose": "162",
                                    "BloodPressure": "76",
                                    "SkinThickness": "56",
                                    "Insulin": "100",
                                    "BMI": "53.2",
                                    "DiabetesPedigreeFunction": "0.759",
                                    "Age": "25",
                                    "Outcome": "1"
                                },
                                {
                                    "Pregnancies": "6",
                                    "Glucose": "111",
                                    "BloodPressure": "64",
                                    "SkinThickness": "39",
                                    "Insulin": "0",
                                    "BMI": "34.2",
                                    "DiabetesPedigreeFunction": "0.26",
                                    "Age": "24",
                                    "Outcome": "0"
                                },
                                {
                                    "Pregnancies": "2",
                                    "Glucose": "107",
                                    "BloodPressure": "74",
                                    "SkinThickness": "30",
                                    "Insulin": "100",
                                    "BMI": "33.6",
                                    "DiabetesPedigreeFunction": "0.404",
                                    "Age": "23",
                                    "Outcome": "0"
                                },
                                {
                                    "Pregnancies": "0",
                                    "Glucose": "113",
                                    "BloodPressure": "76",
                                    "SkinThickness": "0",
                                    "Insulin": "0",
                                    "BMI": "33.3",
                                    "DiabetesPedigreeFunction": "0.278",
                                    "Age": "23",
                                    "Outcome": "1"
                                },
                                {
                                    "Pregnancies": "1",
                                    "Glucose": "88",
                                    "BloodPressure": "30",
                                    "SkinThickness": "42",
                                    "Insulin": "99",
                                    "BMI": "55.0",
                                    "DiabetesPedigreeFunction": "0.496",
                                    "Age": "26",
                                    "Outcome": "1"
                                },
                                {
                                    "Pregnancies": "3",
                                    "Glucose": "120",
                                    "BloodPressure": "70",
                                    "SkinThickness": "30",
                                    "Insulin": "135",
                                    "BMI": "42.9",
                                    "DiabetesPedigreeFunction": "0.452",
                                    "Age": "30",
                                    "Outcome": "0"
                                },
                                {
                                    "Pregnancies": "1",
                                    "Glucose": "118",
                                    "BloodPressure": "58",
                                    "SkinThickness": "36",
                                    "Insulin": "94",
                                    "BMI": "33.3",
                                    "DiabetesPedigreeFunction": "0.261",
                                    "Age": "23",
                                    "Outcome": "0"
                                },
                                {
                                    "Pregnancies": "3",
                                    "Glucose": "170",
                                    "BloodPressure": "64",
                                    "SkinThickness": "37",
                                    "Insulin": "225",
                                    "BMI": "34.5",
                                    "DiabetesPedigreeFunction": "0.356",
                                    "Age": "30",
                                    "Outcome": "1"
                                },
                                {
                                    "Pregnancies": "2",
                                    "Glucose": "96",
                                    "BloodPressure": "68",
                                    "SkinThickness": "13",
                                    "Insulin": "49",
                                    "BMI": "21.1",
                                    "DiabetesPedigreeFunction": "0.647",
                                    "Age": "26",
                                    "Outcome": "0"
                                },
                                {
                                    "Pregnancies": "0",
                                    "Glucose": "100",
                                    "BloodPressure": "70",
                                    "SkinThickness": "26",
                                    "Insulin": "50",
                                    "BMI": "30.8",
                                    "DiabetesPedigreeFunction": "0.597",
                                    "Age": "21",
                                    "Outcome": "0"
                                },
                                {
                                    "Pregnancies": "0",
                                    "Glucose": "93",
                                    "BloodPressure": "60",
                                    "SkinThickness": "25",
                                    "Insulin": "92",
                                    "BMI": "28.7",
                                    "DiabetesPedigreeFunction": "0.532",
                                    "Age": "22",
                                    "Outcome": "0"
                                },
                                {
                                    "Pregnancies": "0",
                                    "Glucose": "129",
                                    "BloodPressure": "80",
                                    "SkinThickness": "0",
                                    "Insulin": "0",
                                    "BMI": "31.2",
                                    "DiabetesPedigreeFunction": "0.703",
                                    "Age": "29",
                                    "Outcome": "0"
                                },
                                {
                                    "Pregnancies": "5",
                                    "Glucose": "105",
                                    "BloodPressure": "72",
                                    "SkinThickness": "29",
                                    "Insulin": "325",
                                    "BMI": "36.9",
                                    "DiabetesPedigreeFunction": "0.159",
                                    "Age": "28",
                                    "Outcome": "0"
                                },
                                {
                                    "Pregnancies": "2",
                                    "Glucose": "108",
                                    "BloodPressure": "52",
                                    "SkinThickness": "26",
                                    "Insulin": "63",
                                    "BMI": "32.5",
                                    "DiabetesPedigreeFunction": "0.318",
                                    "Age": "22",
                                    "Outcome": "0"
                                },
                                {
                                    "Pregnancies": "4",
                                    "Glucose": "154",
                                    "BloodPressure": "62",
                                    "SkinThickness": "31",
                                    "Insulin": "284",
                                    "BMI": "32.8",
                                    "DiabetesPedigreeFunction": "0.237",
                                    "Age": "23",
                                    "Outcome": "0"
                                },
                                {
                                    "Pregnancies": "0",
                                    "Glucose": "102",
                                    "BloodPressure": "75",
                                    "SkinThickness": "23",
                                    "Insulin": "0",
                                    "BMI": "0.0",
                                    "DiabetesPedigreeFunction": "0.572",
                                    "Age": "21",
                                    "Outcome": "0"
                                },
                                {
                                    "Pregnancies": "2",
                                    "Glucose": "90",
                                    "BloodPressure": "70",
                                    "SkinThickness": "17",
                                    "Insulin": "0",
                                    "BMI": "27.3",
                                    "DiabetesPedigreeFunction": "0.085",
                                    "Age": "22",
                                    "Outcome": "0"
                                },
                                {
                                    "Pregnancies": "1",
                                    "Glucose": "136",
                                    "BloodPressure": "74",
                                    "SkinThickness": "50",
                                    "Insulin": "204",
                                    "BMI": "37.4",
                                    "DiabetesPedigreeFunction": "0.399",
                                    "Age": "24",
                                    "Outcome": "0"
                                },
                                {
                                    "Pregnancies": "1",
                                    "Glucose": "153",
                                    "BloodPressure": "82",
                                    "SkinThickness": "42",
                                    "Insulin": "485",
                                    "BMI": "40.6",
                                    "DiabetesPedigreeFunction": "0.687",
                                    "Age": "23",
                                    "Outcome": "0"
                                },
                                {
                                    "Pregnancies": "2",
                                    "Glucose": "99",
                                    "BloodPressure": "52",
                                    "SkinThickness": "15",
                                    "Insulin": "94",
                                    "BMI": "24.6",
                                    "DiabetesPedigreeFunction": "0.637",
                                    "Age": "21",
                                    "Outcome": "0"
                                },
                                {
                                    "Pregnancies": "1",
                                    "Glucose": "109",
                                    "BloodPressure": "56",
                                    "SkinThickness": "21",
                                    "Insulin": "135",
                                    "BMI": "25.2",
                                    "DiabetesPedigreeFunction": "0.833",
                                    "Age": "23",
                                    "Outcome": "0"
                                },
                                {
                                    "Pregnancies": "2",
                                    "Glucose": "88",
                                    "BloodPressure": "74",
                                    "SkinThickness": "19",
                                    "Insulin": "53",
                                    "BMI": "29.0",
                                    "DiabetesPedigreeFunction": "0.229",
                                    "Age": "22",
                                    "Outcome": "0"
                                },
                                {
                                    "Pregnancies": "0",
                                    "Glucose": "114",
                                    "BloodPressure": "80",
                                    "SkinThickness": "34",
                                    "Insulin": "285",
                                    "BMI": "44.2",
                                    "DiabetesPedigreeFunction": "0.167",
                                    "Age": "27",
                                    "Outcome": "0"
                                },
                                {
                                    "Pregnancies": "2",
                                    "Glucose": "100",
                                    "BloodPressure": "64",
                                    "SkinThickness": "23",
                                    "Insulin": "0",
                                    "BMI": "29.7",
                                    "DiabetesPedigreeFunction": "0.368",
                                    "Age": "21",
                                    "Outcome": "0"
                                },
                                {
                                    "Pregnancies": "3",
                                    "Glucose": "148",
                                    "BloodPressure": "66",
                                    "SkinThickness": "25",
                                    "Insulin": "0",
                                    "BMI": "32.5",
                                    "DiabetesPedigreeFunction": "0.256",
                                    "Age": "22",
                                    "Outcome": "0"
                                },
                                {
                                    "Pregnancies": "4",
                                    "Glucose": "110",
                                    "BloodPressure": "66",
                                    "SkinThickness": "0",
                                    "Insulin": "0",
                                    "BMI": "31.9",
                                    "DiabetesPedigreeFunction": "0.471",
                                    "Age": "29",
                                    "Outcome": "0"
                                },
                                {
                                    "Pregnancies": "3",
                                    "Glucose": "111",
                                    "BloodPressure": "90",
                                    "SkinThickness": "12",
                                    "Insulin": "78",
                                    "BMI": "28.4",
                                    "DiabetesPedigreeFunction": "0.495",
                                    "Age": "29",
                                    "Outcome": "0"
                                },
                                {
                                    "Pregnancies": "6",
                                    "Glucose": "134",
                                    "BloodPressure": "70",
                                    "SkinThickness": "23",
                                    "Insulin": "130",
                                    "BMI": "35.4",
                                    "DiabetesPedigreeFunction": "0.542",
                                    "Age": "29",
                                    "Outcome": "1"
                                },
                                {
                                    "Pregnancies": "2",
                                    "Glucose": "87",
                                    "BloodPressure": "0",
                                    "SkinThickness": "23",
                                    "Insulin": "0",
                                    "BMI": "28.9",
                                    "DiabetesPedigreeFunction": "0.773",
                                    "Age": "25",
                                    "Outcome": "0"
                                },
                                {
                                    "Pregnancies": "1",
                                    "Glucose": "79",
                                    "BloodPressure": "60",
                                    "SkinThickness": "42",
                                    "Insulin": "48",
                                    "BMI": "43.5",
                                    "DiabetesPedigreeFunction": "0.678",
                                    "Age": "23",
                                    "Outcome": "0"
                                },
                                {
                                    "Pregnancies": "0",
                                    "Glucose": "129",
                                    "BloodPressure": "110",
                                    "SkinThickness": "46",
                                    "Insulin": "130",
                                    "BMI": "67.1",
                                    "DiabetesPedigreeFunction": "0.319",
                                    "Age": "26",
                                    "Outcome": "1"
                                },
                                {
                                    "Pregnancies": "0",
                                    "Glucose": "119",
                                    "BloodPressure": "64",
                                    "SkinThickness": "18",
                                    "Insulin": "92",
                                    "BMI": "34.9",
                                    "DiabetesPedigreeFunction": "0.725",
                                    "Age": "23",
                                    "Outcome": "0"
                                },
                                {
                                    "Pregnancies": "1",
                                    "Glucose": "0",
                                    "BloodPressure": "74",
                                    "SkinThickness": "20",
                                    "Insulin": "23",
                                    "BMI": "27.7",
                                    "DiabetesPedigreeFunction": "0.299",
                                    "Age": "21",
                                    "Outcome": "0"
                                },
                                {
                                    "Pregnancies": "5",
                                    "Glucose": "73",
                                    "BloodPressure": "60",
                                    "SkinThickness": "0",
                                    "Insulin": "0",
                                    "BMI": "26.8",
                                    "DiabetesPedigreeFunction": "0.268",
                                    "Age": "27",
                                    "Outcome": "0"
                                },
                                {
                                    "Pregnancies": "5",
                                    "Glucose": "139",
                                    "BloodPressure": "80",
                                    "SkinThickness": "35",
                                    "Insulin": "160",
                                    "BMI": "31.6",
                                    "DiabetesPedigreeFunction": "0.361",
                                    "Age": "25",
                                    "Outcome": "1"
                                },
                                {
                                    "Pregnancies": "3",
                                    "Glucose": "111",
                                    "BloodPressure": "62",
                                    "SkinThickness": "0",
                                    "Insulin": "0",
                                    "BMI": "22.6",
                                    "DiabetesPedigreeFunction": "0.142",
                                    "Age": "21",
                                    "Outcome": "0"
                                },
                                {
                                    "Pregnancies": "5",
                                    "Glucose": "158",
                                    "BloodPressure": "84",
                                    "SkinThickness": "41",
                                    "Insulin": "210",
                                    "BMI": "39.4",
                                    "DiabetesPedigreeFunction": "0.395",
                                    "Age": "29",
                                    "Outcome": "1"
                                },
                                {
                                    "Pregnancies": "1",
                                    "Glucose": "105",
                                    "BloodPressure": "58",
                                    "SkinThickness": "0",
                                    "Insulin": "0",
                                    "BMI": "24.3",
                                    "DiabetesPedigreeFunction": "0.187",
                                    "Age": "21",
                                    "Outcome": "0"
                                },
                                {
                                    "Pregnancies": "3",
                                    "Glucose": "107",
                                    "BloodPressure": "62",
                                    "SkinThickness": "13",
                                    "Insulin": "48",
                                    "BMI": "22.9",
                                    "DiabetesPedigreeFunction": "0.678",
                                    "Age": "23",
                                    "Outcome": "1"
                                },
                                {
                                    "Pregnancies": "4",
                                    "Glucose": "109",
                                    "BloodPressure": "64",
                                    "SkinThickness": "44",
                                    "Insulin": "99",
                                    "BMI": "34.8",
                                    "DiabetesPedigreeFunction": "0.905",
                                    "Age": "26",
                                    "Outcome": "1"
                                },
                                {
                                    "Pregnancies": "4",
                                    "Glucose": "148",
                                    "BloodPressure": "60",
                                    "SkinThickness": "27",
                                    "Insulin": "318",
                                    "BMI": "30.9",
                                    "DiabetesPedigreeFunction": "0.15",
                                    "Age": "29",
                                    "Outcome": "1"
                                },
                                {
                                    "Pregnancies": "0",
                                    "Glucose": "113",
                                    "BloodPressure": "80",
                                    "SkinThickness": "16",
                                    "Insulin": "0",
                                    "BMI": "31.0",
                                    "DiabetesPedigreeFunction": "0.874",
                                    "Age": "21",
                                    "Outcome": "0"
                                },
                                {
                                    "Pregnancies": "1",
                                    "Glucose": "138",
                                    "BloodPressure": "82",
                                    "SkinThickness": "0",
                                    "Insulin": "0",
                                    "BMI": "40.1",
                                    "DiabetesPedigreeFunction": "0.236",
                                    "Age": "28",
                                    "Outcome": "0"
                                },
                                {
                                    "Pregnancies": "2",
                                    "Glucose": "99",
                                    "BloodPressure": "70",
                                    "SkinThickness": "16",
                                    "Insulin": "44",
                                    "BMI": "20.4",
                                    "DiabetesPedigreeFunction": "0.235",
                                    "Age": "27",
                                    "Outcome": "0"
                                },
                                {
                                    "Pregnancies": "5",
                                    "Glucose": "111",
                                    "BloodPressure": "72",
                                    "SkinThickness": "28",
                                    "Insulin": "0",
                                    "BMI": "23.9",
                                    "DiabetesPedigreeFunction": "0.407",
                                    "Age": "27",
                                    "Outcome": "0"
                                },
                                {
                                    "Pregnancies": "1",
                                    "Glucose": "96",
                                    "BloodPressure": "64",
                                    "SkinThickness": "27",
                                    "Insulin": "87",
                                    "BMI": "33.2",
                                    "DiabetesPedigreeFunction": "0.289",
                                    "Age": "21",
                                    "Outcome": "0"
                                },
                                {
                                    "Pregnancies": "2",
                                    "Glucose": "81",
                                    "BloodPressure": "60",
                                    "SkinThickness": "22",
                                    "Insulin": "0",
                                    "BMI": "27.7",
                                    "DiabetesPedigreeFunction": "0.29",
                                    "Age": "25",
                                    "Outcome": "0"
                                },
                                {
                                    "Pregnancies": "0",
                                    "Glucose": "147",
                                    "BloodPressure": "85",
                                    "SkinThickness": "54",
                                    "Insulin": "0",
                                    "BMI": "42.8",
                                    "DiabetesPedigreeFunction": "0.375",
                                    "Age": "24",
                                    "Outcome": "0"
                                },
                                {
                                    "Pregnancies": "0",
                                    "Glucose": "140",
                                    "BloodPressure": "65",
                                    "SkinThickness": "26",
                                    "Insulin": "130",
                                    "BMI": "42.6",
                                    "DiabetesPedigreeFunction": "0.431",
                                    "Age": "24",
                                    "Outcome": "1"
                                },
                                {
                                    "Pregnancies": "5",
                                    "Glucose": "109",
                                    "BloodPressure": "62",
                                    "SkinThickness": "41",
                                    "Insulin": "129",
                                    "BMI": "35.8",
                                    "DiabetesPedigreeFunction": "0.514",
                                    "Age": "25",
                                    "Outcome": "1"
                                },
                                {
                                    "Pregnancies": "0",
                                    "Glucose": "177",
                                    "BloodPressure": "60",
                                    "SkinThickness": "29",
                                    "Insulin": "478",
                                    "BMI": "34.6",
                                    "DiabetesPedigreeFunction": "1.072",
                                    "Age": "21",
                                    "Outcome": "1"
                                },
                                {
                                    "Pregnancies": "1",
                                    "Glucose": "100",
                                    "BloodPressure": "66",
                                    "SkinThickness": "15",
                                    "Insulin": "56",
                                    "BMI": "23.6",
                                    "DiabetesPedigreeFunction": "0.666",
                                    "Age": "26",
                                    "Outcome": "0"
                                },
                                {
                                    "Pregnancies": "1",
                                    "Glucose": "87",
                                    "BloodPressure": "78",
                                    "SkinThickness": "27",
                                    "Insulin": "32",
                                    "BMI": "34.6",
                                    "DiabetesPedigreeFunction": "0.101",
                                    "Age": "22",
                                    "Outcome": "0"
                                },
                                {
                                    "Pregnancies": "0",
                                    "Glucose": "101",
                                    "BloodPressure": "76",
                                    "SkinThickness": "0",
                                    "Insulin": "0",
                                    "BMI": "35.7",
                                    "DiabetesPedigreeFunction": "0.198",
                                    "Age": "26",
                                    "Outcome": "0"
                                },
                                {
                                    "Pregnancies": "3",
                                    "Glucose": "162",
                                    "BloodPressure": "52",
                                    "SkinThickness": "38",
                                    "Insulin": "0",
                                    "BMI": "37.2",
                                    "DiabetesPedigreeFunction": "0.652",
                                    "Age": "24",
                                    "Outcome": "1"
                                },
                                {
                                    "Pregnancies": "0",
                                    "Glucose": "117",
                                    "BloodPressure": "80",
                                    "SkinThickness": "31",
                                    "Insulin": "53",
                                    "BMI": "45.2",
                                    "DiabetesPedigreeFunction": "0.089",
                                    "Age": "24",
                                    "Outcome": "0"
                                },
                                {
                                    "Pregnancies": "4",
                                    "Glucose": "142",
                                    "BloodPressure": "86",
                                    "SkinThickness": "0",
                                    "Insulin": "0",
                                    "BMI": "44.0",
                                    "DiabetesPedigreeFunction": "0.645",
                                    "Age": "22",
                                    "Outcome": "1"
                                },
                                {
                                    "Pregnancies": "1",
                                    "Glucose": "79",
                                    "BloodPressure": "80",
                                    "SkinThickness": "25",
                                    "Insulin": "37",
                                    "BMI": "25.4",
                                    "DiabetesPedigreeFunction": "0.583",
                                    "Age": "22",
                                    "Outcome": "0"
                                },
                                {
                                    "Pregnancies": "4",
                                    "Glucose": "122",
                                    "BloodPressure": "68",
                                    "SkinThickness": "0",
                                    "Insulin": "0",
                                    "BMI": "35.0",
                                    "DiabetesPedigreeFunction": "0.394",
                                    "Age": "29",
                                    "Outcome": "0"
                                },
                                {
                                    "Pregnancies": "3",
                                    "Glucose": "74",
                                    "BloodPressure": "68",
                                    "SkinThickness": "28",
                                    "Insulin": "45",
                                    "BMI": "29.7",
                                    "DiabetesPedigreeFunction": "0.293",
                                    "Age": "23",
                                    "Outcome": "0"
                                },
                                {
                                    "Pregnancies": "4",
                                    "Glucose": "171",
                                    "BloodPressure": "72",
                                    "SkinThickness": "0",
                                    "Insulin": "0",
                                    "BMI": "43.6",
                                    "DiabetesPedigreeFunction": "0.479",
                                    "Age": "26",
                                    "Outcome": "1"
                                },
                                {
                                    "Pregnancies": "0",
                                    "Glucose": "179",
                                    "BloodPressure": "90",
                                    "SkinThickness": "27",
                                    "Insulin": "0",
                                    "BMI": "44.1",
                                    "DiabetesPedigreeFunction": "0.686",
                                    "Age": "23",
                                    "Outcome": "1"
                                },
                                {
                                    "Pregnancies": "0",
                                    "Glucose": "104",
                                    "BloodPressure": "76",
                                    "SkinThickness": "0",
                                    "Insulin": "0",
                                    "BMI": "18.4",
                                    "DiabetesPedigreeFunction": "0.582",
                                    "Age": "27",
                                    "Outcome": "0"
                                },
                                {
                                    "Pregnancies": "1",
                                    "Glucose": "91",
                                    "BloodPressure": "64",
                                    "SkinThickness": "24",
                                    "Insulin": "0",
                                    "BMI": "29.2",
                                    "DiabetesPedigreeFunction": "0.192",
                                    "Age": "21",
                                    "Outcome": "0"
                                },
                                {
                                    "Pregnancies": "4",
                                    "Glucose": "91",
                                    "BloodPressure": "70",
                                    "SkinThickness": "32",
                                    "Insulin": "88",
                                    "BMI": "33.1",
                                    "DiabetesPedigreeFunction": "0.446",
                                    "Age": "22",
                                    "Outcome": "0"
                                },
                                {
                                    "Pregnancies": "3",
                                    "Glucose": "139",
                                    "BloodPressure": "54",
                                    "SkinThickness": "0",
                                    "Insulin": "0",
                                    "BMI": "25.6",
                                    "DiabetesPedigreeFunction": "0.402",
                                    "Age": "22",
                                    "Outcome": "1"
                                },
                                {
                                    "Pregnancies": "2",
                                    "Glucose": "146",
                                    "BloodPressure": "76",
                                    "SkinThickness": "35",
                                    "Insulin": "194",
                                    "BMI": "38.2",
                                    "DiabetesPedigreeFunction": "0.329",
                                    "Age": "29",
                                    "Outcome": "0"
                                },
                                {
                                    "Pregnancies": "0",
                                    "Glucose": "165",
                                    "BloodPressure": "90",
                                    "SkinThickness": "33",
                                    "Insulin": "680",
                                    "BMI": "52.3",
                                    "DiabetesPedigreeFunction": "0.427",
                                    "Age": "23",
                                    "Outcome": "0"
                                },
                                {
                                    "Pregnancies": "1",
                                    "Glucose": "111",
                                    "BloodPressure": "86",
                                    "SkinThickness": "19",
                                    "Insulin": "0",
                                    "BMI": "30.1",
                                    "DiabetesPedigreeFunction": "0.143",
                                    "Age": "23",
                                    "Outcome": "0"
                                },
                                {
                                    "Pregnancies": "2",
                                    "Glucose": "129",
                                    "BloodPressure": "84",
                                    "SkinThickness": "0",
                                    "Insulin": "0",
                                    "BMI": "28.0",
                                    "DiabetesPedigreeFunction": "0.284",
                                    "Age": "27",
                                    "Outcome": "0"
                                },
                                {
                                    "Pregnancies": "2",
                                    "Glucose": "90",
                                    "BloodPressure": "80",
                                    "SkinThickness": "14",
                                    "Insulin": "55",
                                    "BMI": "24.4",
                                    "DiabetesPedigreeFunction": "0.249",
                                    "Age": "24",
                                    "Outcome": "0"
                                },
                                {
                                    "Pregnancies": "0",
                                    "Glucose": "86",
                                    "BloodPressure": "68",
                                    "SkinThickness": "32",
                                    "Insulin": "0",
                                    "BMI": "35.8",
                                    "DiabetesPedigreeFunction": "0.238",
                                    "Age": "25",
                                    "Outcome": "0"
                                },
                                {
                                    "Pregnancies": "1",
                                    "Glucose": "113",
                                    "BloodPressure": "64",
                                    "SkinThickness": "35",
                                    "Insulin": "0",
                                    "BMI": "33.6",
                                    "DiabetesPedigreeFunction": "0.543",
                                    "Age": "21",
                                    "Outcome": "1"
                                },
                                {
                                    "Pregnancies": "3",
                                    "Glucose": "111",
                                    "BloodPressure": "56",
                                    "SkinThickness": "39",
                                    "Insulin": "0",
                                    "BMI": "30.1",
                                    "DiabetesPedigreeFunction": "0.557",
                                    "Age": "30",
                                    "Outcome": "0"
                                },
                                {
                                    "Pregnancies": "2",
                                    "Glucose": "114",
                                    "BloodPressure": "68",
                                    "SkinThickness": "22",
                                    "Insulin": "0",
                                    "BMI": "28.7",
                                    "DiabetesPedigreeFunction": "0.092",
                                    "Age": "25",
                                    "Outcome": "0"
                                },
                                {
                                    "Pregnancies": "1",
                                    "Glucose": "193",
                                    "BloodPressure": "50",
                                    "SkinThickness": "16",
                                    "Insulin": "375",
                                    "BMI": "25.9",
                                    "DiabetesPedigreeFunction": "0.655",
                                    "Age": "24",
                                    "Outcome": "0"
                                },
                                {
                                    "Pregnancies": "3",
                                    "Glucose": "141",
                                    "BloodPressure": "0",
                                    "SkinThickness": "0",
                                    "Insulin": "0",
                                    "BMI": "30.0",
                                    "DiabetesPedigreeFunction": "0.761",
                                    "Age": "27",
                                    "Outcome": "1"
                                },
                                {
                                    "Pregnancies": "4",
                                    "Glucose": "95",
                                    "BloodPressure": "70",
                                    "SkinThickness": "32",
                                    "Insulin": "0",
                                    "BMI": "32.1",
                                    "DiabetesPedigreeFunction": "0.612",
                                    "Age": "24",
                                    "Outcome": "0"
                                },
                                {
                                    "Pregnancies": "0",
                                    "Glucose": "138",
                                    "BloodPressure": "0",
                                    "SkinThickness": "0",
                                    "Insulin": "0",
                                    "BMI": "36.3",
                                    "DiabetesPedigreeFunction": "0.933",
                                    "Age": "25",
                                    "Outcome": "1"
                                },
                                {
                                    "Pregnancies": "2",
                                    "Glucose": "128",
                                    "BloodPressure": "64",
                                    "SkinThickness": "42",
                                    "Insulin": "0",
                                    "BMI": "40.0",
                                    "DiabetesPedigreeFunction": "1.101",
                                    "Age": "24",
                                    "Outcome": "0"
                                },
                                {
                                    "Pregnancies": "0",
                                    "Glucose": "102",
                                    "BloodPressure": "52",
                                    "SkinThickness": "0",
                                    "Insulin": "0",
                                    "BMI": "25.1",
                                    "DiabetesPedigreeFunction": "0.078",
                                    "Age": "21",
                                    "Outcome": "0"
                                },
                                {
                                    "Pregnancies": "2",
                                    "Glucose": "146",
                                    "BloodPressure": "0",
                                    "SkinThickness": "0",
                                    "Insulin": "0",
                                    "BMI": "27.5",
                                    "DiabetesPedigreeFunction": "0.24",
                                    "Age": "28",
                                    "Outcome": "1"
                                },
                                {
                                    "Pregnancies": "2",
                                    "Glucose": "108",
                                    "BloodPressure": "62",
                                    "SkinThickness": "32",
                                    "Insulin": "56",
                                    "BMI": "25.2",
                                    "DiabetesPedigreeFunction": "0.128",
                                    "Age": "21",
                                    "Outcome": "0"
                                },
                                {
                                    "Pregnancies": "1",
                                    "Glucose": "71",
                                    "BloodPressure": "78",
                                    "SkinThickness": "50",
                                    "Insulin": "45",
                                    "BMI": "33.2",
                                    "DiabetesPedigreeFunction": "0.422",
                                    "Age": "21",
                                    "Outcome": "0"
                                },
                                {
                                    "Pregnancies": "2",
                                    "Glucose": "100",
                                    "BloodPressure": "70",
                                    "SkinThickness": "52",
                                    "Insulin": "57",
                                    "BMI": "40.5",
                                    "DiabetesPedigreeFunction": "0.677",
                                    "Age": "25",
                                    "Outcome": "0"
                                },
                                {
                                    "Pregnancies": "7",
                                    "Glucose": "106",
                                    "BloodPressure": "60",
                                    "SkinThickness": "24",
                                    "Insulin": "0",
                                    "BMI": "26.5",
                                    "DiabetesPedigreeFunction": "0.296",
                                    "Age": "29",
                                    "Outcome": "1"
                                },
                                {
                                    "Pregnancies": "0",
                                    "Glucose": "104",
                                    "BloodPressure": "64",
                                    "SkinThickness": "23",
                                    "Insulin": "116",
                                    "BMI": "27.8",
                                    "DiabetesPedigreeFunction": "0.454",
                                    "Age": "23",
                                    "Outcome": "0"
                                },
                                {
                                    "Pregnancies": "2",
                                    "Glucose": "108",
                                    "BloodPressure": "62",
                                    "SkinThickness": "10",
                                    "Insulin": "278",
                                    "BMI": "25.3",
                                    "DiabetesPedigreeFunction": "0.881",
                                    "Age": "22",
                                    "Outcome": "0"
                                },
                                {
                                    "Pregnancies": "0",
                                    "Glucose": "146",
                                    "BloodPressure": "70",
                                    "SkinThickness": "0",
                                    "Insulin": "0",
                                    "BMI": "37.9",
                                    "DiabetesPedigreeFunction": "0.334",
                                    "Age": "28",
                                    "Outcome": "1"
                                },
                                {
                                    "Pregnancies": "1",
                                    "Glucose": "119",
                                    "BloodPressure": "86",
                                    "SkinThickness": "39",
                                    "Insulin": "220",
                                    "BMI": "45.6",
                                    "DiabetesPedigreeFunction": "0.808",
                                    "Age": "29",
                                    "Outcome": "1"
                                },
                                {
                                    "Pregnancies": "4",
                                    "Glucose": "96",
                                    "BloodPressure": "56",
                                    "SkinThickness": "17",
                                    "Insulin": "49",
                                    "BMI": "20.8",
                                    "DiabetesPedigreeFunction": "0.34",
                                    "Age": "26",
                                    "Outcome": "0"
                                },
                                {
                                    "Pregnancies": "0",
                                    "Glucose": "78",
                                    "BloodPressure": "88",
                                    "SkinThickness": "29",
                                    "Insulin": "40",
                                    "BMI": "36.9",
                                    "DiabetesPedigreeFunction": "0.434",
                                    "Age": "21",
                                    "Outcome": "0"
                                },
                                {
                                    "Pregnancies": "0",
                                    "Glucose": "107",
                                    "BloodPressure": "62",
                                    "SkinThickness": "30",
                                    "Insulin": "74",
                                    "BMI": "36.6",
                                    "DiabetesPedigreeFunction": "0.757",
                                    "Age": "25",
                                    "Outcome": "1"
                                },
                                {
                                    "Pregnancies": "1",
                                    "Glucose": "128",
                                    "BloodPressure": "48",
                                    "SkinThickness": "45",
                                    "Insulin": "194",
                                    "BMI": "40.5",
                                    "DiabetesPedigreeFunction": "0.613",
                                    "Age": "24",
                                    "Outcome": "1"
                                },
                                {
                                    "Pregnancies": "6",
                                    "Glucose": "151",
                                    "BloodPressure": "62",
                                    "SkinThickness": "31",
                                    "Insulin": "120",
                                    "BMI": "35.5",
                                    "DiabetesPedigreeFunction": "0.692",
                                    "Age": "28",
                                    "Outcome": "0"
                                },
                                {
                                    "Pregnancies": "2",
                                    "Glucose": "146",
                                    "BloodPressure": "70",
                                    "SkinThickness": "38",
                                    "Insulin": "360",
                                    "BMI": "28.0",
                                    "DiabetesPedigreeFunction": "0.337",
                                    "Age": "29",
                                    "Outcome": "1"
                                },
                                {
                                    "Pregnancies": "0",
                                    "Glucose": "126",
                                    "BloodPressure": "84",
                                    "SkinThickness": "29",
                                    "Insulin": "215",
                                    "BMI": "30.7",
                                    "DiabetesPedigreeFunction": "0.52",
                                    "Age": "24",
                                    "Outcome": "0"
                                },
                                {
                                    "Pregnancies": "0",
                                    "Glucose": "167",
                                    "BloodPressure": "0",
                                    "SkinThickness": "0",
                                    "Insulin": "0",
                                    "BMI": "32.3",
                                    "DiabetesPedigreeFunction": "0.839",
                                    "Age": "30",
                                    "Outcome": "1"
                                },
                                {
                                    "Pregnancies": "2",
                                    "Glucose": "144",
                                    "BloodPressure": "58",
                                    "SkinThickness": "33",
                                    "Insulin": "135",
                                    "BMI": "31.6",
                                    "DiabetesPedigreeFunction": "0.422",
                                    "Age": "25",
                                    "Outcome": "1"
                                },
                                {
                                    "Pregnancies": "5",
                                    "Glucose": "115",
                                    "BloodPressure": "98",
                                    "SkinThickness": "0",
                                    "Insulin": "0",
                                    "BMI": "52.9",
                                    "DiabetesPedigreeFunction": "0.209",
                                    "Age": "28",
                                    "Outcome": "1"
                                },
                                {
                                    "Pregnancies": "2",
                                    "Glucose": "120",
                                    "BloodPressure": "76",
                                    "SkinThickness": "37",
                                    "Insulin": "105",
                                    "BMI": "39.7",
                                    "DiabetesPedigreeFunction": "0.215",
                                    "Age": "29",
                                    "Outcome": "0"
                                },
                                {
                                    "Pregnancies": "0",
                                    "Glucose": "137",
                                    "BloodPressure": "68",
                                    "SkinThickness": "14",
                                    "Insulin": "148",
                                    "BMI": "24.8",
                                    "DiabetesPedigreeFunction": "0.143",
                                    "Age": "21",
                                    "Outcome": "0"
                                },
                                {
                                    "Pregnancies": "0",
                                    "Glucose": "128",
                                    "BloodPressure": "68",
                                    "SkinThickness": "19",
                                    "Insulin": "180",
                                    "BMI": "30.5",
                                    "DiabetesPedigreeFunction": "1.391",
                                    "Age": "25",
                                    "Outcome": "1"
                                },
                                {
                                    "Pregnancies": "2",
                                    "Glucose": "124",
                                    "BloodPressure": "68",
                                    "SkinThickness": "28",
                                    "Insulin": "205",
                                    "BMI": "32.9",
                                    "DiabetesPedigreeFunction": "0.875",
                                    "Age": "30",
                                    "Outcome": "1"
                                },
                                {
                                    "Pregnancies": "0",
                                    "Glucose": "106",
                                    "BloodPressure": "70",
                                    "SkinThickness": "37",
                                    "Insulin": "148",
                                    "BMI": "39.4",
                                    "DiabetesPedigreeFunction": "0.605",
                                    "Age": "22",
                                    "Outcome": "0"
                                },
                                {
                                    "Pregnancies": "2",
                                    "Glucose": "155",
                                    "BloodPressure": "74",
                                    "SkinThickness": "17",
                                    "Insulin": "96",
                                    "BMI": "26.6",
                                    "DiabetesPedigreeFunction": "0.433",
                                    "Age": "27",
                                    "Outcome": "1"
                                },
                                {
                                    "Pregnancies": "3",
                                    "Glucose": "113",
                                    "BloodPressure": "50",
                                    "SkinThickness": "10",
                                    "Insulin": "85",
                                    "BMI": "29.5",
                                    "DiabetesPedigreeFunction": "0.626",
                                    "Age": "25",
                                    "Outcome": "0"
                                },
                                {
                                    "Pregnancies": "2",
                                    "Glucose": "112",
                                    "BloodPressure": "68",
                                    "SkinThickness": "22",
                                    "Insulin": "94",
                                    "BMI": "34.1",
                                    "DiabetesPedigreeFunction": "0.315",
                                    "Age": "26",
                                    "Outcome": "0"
                                },
                                {
                                    "Pregnancies": "3",
                                    "Glucose": "99",
                                    "BloodPressure": "80",
                                    "SkinThickness": "11",
                                    "Insulin": "64",
                                    "BMI": "19.3",
                                    "DiabetesPedigreeFunction": "0.284",
                                    "Age": "30",
                                    "Outcome": "0"
                                },
                                {
                                    "Pregnancies": "3",
                                    "Glucose": "182",
                                    "BloodPressure": "74",
                                    "SkinThickness": "0",
                                    "Insulin": "0",
                                    "BMI": "30.5",
                                    "DiabetesPedigreeFunction": "0.345",
                                    "Age": "29",
                                    "Outcome": "1"
                                },
                                {
                                    "Pregnancies": "3",
                                    "Glucose": "115",
                                    "BloodPressure": "66",
                                    "SkinThickness": "39",
                                    "Insulin": "140",
                                    "BMI": "38.1",
                                    "DiabetesPedigreeFunction": "0.15",
                                    "Age": "28",
                                    "Outcome": "0"
                                },
                                {
                                    "Pregnancies": "3",
                                    "Glucose": "112",
                                    "BloodPressure": "74",
                                    "SkinThickness": "30",
                                    "Insulin": "0",
                                    "BMI": "31.6",
                                    "DiabetesPedigreeFunction": "0.197",
                                    "Age": "25",
                                    "Outcome": "1"
                                },
                                {
                                    "Pregnancies": "2",
                                    "Glucose": "112",
                                    "BloodPressure": "75",
                                    "SkinThickness": "32",
                                    "Insulin": "0",
                                    "BMI": "35.7",
                                    "DiabetesPedigreeFunction": "0.148",
                                    "Age": "21",
                                    "Outcome": "0"
                                },
                                {
                                    "Pregnancies": "1",
                                    "Glucose": "157",
                                    "BloodPressure": "72",
                                    "SkinThickness": "21",
                                    "Insulin": "168",
                                    "BMI": "25.6",
                                    "DiabetesPedigreeFunction": "0.123",
                                    "Age": "24",
                                    "Outcome": "0"
                                },
                                {
                                    "Pregnancies": "1",
                                    "Glucose": "122",
                                    "BloodPressure": "64",
                                    "SkinThickness": "32",
                                    "Insulin": "156",
                                    "BMI": "35.1",
                                    "DiabetesPedigreeFunction": "0.692",
                                    "Age": "30",
                                    "Outcome": "1"
                                },
                                {
                                    "Pregnancies": "2",
                                    "Glucose": "102",
                                    "BloodPressure": "86",
                                    "SkinThickness": "36",
                                    "Insulin": "120",
                                    "BMI": "45.5",
                                    "DiabetesPedigreeFunction": "0.127",
                                    "Age": "23",
                                    "Outcome": "1"
                                },
                                {
                                    "Pregnancies": "2",
                                    "Glucose": "87",
                                    "BloodPressure": "58",
                                    "SkinThickness": "16",
                                    "Insulin": "52",
                                    "BMI": "32.7",
                                    "DiabetesPedigreeFunction": "0.166",
                                    "Age": "25",
                                    "Outcome": "0"
                                },
                                {
                                    "Pregnancies": "1",
                                    "Glucose": "95",
                                    "BloodPressure": "60",
                                    "SkinThickness": "18",
                                    "Insulin": "58",
                                    "BMI": "23.9",
                                    "DiabetesPedigreeFunction": "0.26",
                                    "Age": "22",
                                    "Outcome": "0"
                                },
                                {
                                    "Pregnancies": "0",
                                    "Glucose": "165",
                                    "BloodPressure": "76",
                                    "SkinThickness": "43",
                                    "Insulin": "255",
                                    "BMI": "47.9",
                                    "DiabetesPedigreeFunction": "0.259",
                                    "Age": "26",
                                    "Outcome": "0"
                                },
                                {
                                    "Pregnancies": "1",
                                    "Glucose": "130",
                                    "BloodPressure": "70",
                                    "SkinThickness": "13",
                                    "Insulin": "105",
                                    "BMI": "25.9",
                                    "DiabetesPedigreeFunction": "0.472",
                                    "Age": "22",
                                    "Outcome": "0"
                                },
                                {
                                    "Pregnancies": "1",
                                    "Glucose": "0",
                                    "BloodPressure": "68",
                                    "SkinThickness": "35",
                                    "Insulin": "0",
                                    "BMI": "32.0",
                                    "DiabetesPedigreeFunction": "0.389",
                                    "Age": "22",
                                    "Outcome": "0"
                                },
                                {
                                    "Pregnancies": "1",
                                    "Glucose": "139",
                                    "BloodPressure": "46",
                                    "SkinThickness": "19",
                                    "Insulin": "83",
                                    "BMI": "28.7",
                                    "DiabetesPedigreeFunction": "0.654",
                                    "Age": "22",
                                    "Outcome": "0"
                                },
                                {
                                    "Pregnancies": "3",
                                    "Glucose": "116",
                                    "BloodPressure": "0",
                                    "SkinThickness": "0",
                                    "Insulin": "0",
                                    "BMI": "23.5",
                                    "DiabetesPedigreeFunction": "0.187",
                                    "Age": "23",
                                    "Outcome": "0"
                                },
                                {
                                    "Pregnancies": "3",
                                    "Glucose": "99",
                                    "BloodPressure": "62",
                                    "SkinThickness": "19",
                                    "Insulin": "74",
                                    "BMI": "21.8",
                                    "DiabetesPedigreeFunction": "0.279",
                                    "Age": "26",
                                    "Outcome": "0"
                                },
                                {
                                    "Pregnancies": "4",
                                    "Glucose": "92",
                                    "BloodPressure": "80",
                                    "SkinThickness": "0",
                                    "Insulin": "0",
                                    "BMI": "42.2",
                                    "DiabetesPedigreeFunction": "0.237",
                                    "Age": "29",
                                    "Outcome": "0"
                                },
                                {
                                    "Pregnancies": "4",
                                    "Glucose": "137",
                                    "BloodPressure": "84",
                                    "SkinThickness": "0",
                                    "Insulin": "0",
                                    "BMI": "31.2",
                                    "DiabetesPedigreeFunction": "0.252",
                                    "Age": "30",
                                    "Outcome": "0"
                                },
                                {
                                    "Pregnancies": "1",
                                    "Glucose": "90",
                                    "BloodPressure": "62",
                                    "SkinThickness": "12",
                                    "Insulin": "43",
                                    "BMI": "27.2",
                                    "DiabetesPedigreeFunction": "0.58",
                                    "Age": "24",
                                    "Outcome": "0"
                                },
                                {
                                    "Pregnancies": "3",
                                    "Glucose": "90",
                                    "BloodPressure": "78",
                                    "SkinThickness": "0",
                                    "Insulin": "0",
                                    "BMI": "42.7",
                                    "DiabetesPedigreeFunction": "0.559",
                                    "Age": "21",
                                    "Outcome": "0"
                                },
                                {
                                    "Pregnancies": "1",
                                    "Glucose": "125",
                                    "BloodPressure": "50",
                                    "SkinThickness": "40",
                                    "Insulin": "167",
                                    "BMI": "33.3",
                                    "DiabetesPedigreeFunction": "0.962",
                                    "Age": "28",
                                    "Outcome": "1"
                                },
                                {
                                    "Pregnancies": "1",
                                    "Glucose": "196",
                                    "BloodPressure": "76",
                                    "SkinThickness": "36",
                                    "Insulin": "249",
                                    "BMI": "36.5",
                                    "DiabetesPedigreeFunction": "0.875",
                                    "Age": "29",
                                    "Outcome": "1"
                                },
                                {
                                    "Pregnancies": "5",
                                    "Glucose": "189",
                                    "BloodPressure": "64",
                                    "SkinThickness": "33",
                                    "Insulin": "325",
                                    "BMI": "31.2",
                                    "DiabetesPedigreeFunction": "0.583",
                                    "Age": "29",
                                    "Outcome": "1"
                                },
                                {
                                    "Pregnancies": "4",
                                    "Glucose": "147",
                                    "BloodPressure": "74",
                                    "SkinThickness": "25",
                                    "Insulin": "293",
                                    "BMI": "34.9",
                                    "DiabetesPedigreeFunction": "0.385",
                                    "Age": "30",
                                    "Outcome": "0"
                                },
                                {
                                    "Pregnancies": "5",
                                    "Glucose": "99",
                                    "BloodPressure": "54",
                                    "SkinThickness": "28",
                                    "Insulin": "83",
                                    "BMI": "34.0",
                                    "DiabetesPedigreeFunction": "0.499",
                                    "Age": "30",
                                    "Outcome": "0"
                                },
                                {
                                    "Pregnancies": "6",
                                    "Glucose": "124",
                                    "BloodPressure": "72",
                                    "SkinThickness": "0",
                                    "Insulin": "0",
                                    "BMI": "27.6",
                                    "DiabetesPedigreeFunction": "0.368",
                                    "Age": "29",
                                    "Outcome": "1"
                                },
                                {
                                    "Pregnancies": "0",
                                    "Glucose": "101",
                                    "BloodPressure": "64",
                                    "SkinThickness": "17",
                                    "Insulin": "0",
                                    "BMI": "21.0",
                                    "DiabetesPedigreeFunction": "0.252",
                                    "Age": "21",
                                    "Outcome": "0"
                                },
                                {
                                    "Pregnancies": "3",
                                    "Glucose": "81",
                                    "BloodPressure": "86",
                                    "SkinThickness": "16",
                                    "Insulin": "66",
                                    "BMI": "27.5",
                                    "DiabetesPedigreeFunction": "0.306",
                                    "Age": "22",
                                    "Outcome": "0"
                                },
                                {
                                    "Pregnancies": "3",
                                    "Glucose": "173",
                                    "BloodPressure": "82",
                                    "SkinThickness": "48",
                                    "Insulin": "465",
                                    "BMI": "38.4",
                                    "DiabetesPedigreeFunction": "2.137",
                                    "Age": "25",
                                    "Outcome": "1"
                                },
                                {
                                    "Pregnancies": "0",
                                    "Glucose": "118",
                                    "BloodPressure": "64",
                                    "SkinThickness": "23",
                                    "Insulin": "89",
                                    "BMI": "0.0",
                                    "DiabetesPedigreeFunction": "1.731",
                                    "Age": "21",
                                    "Outcome": "0"
                                },
                                {
                                    "Pregnancies": "0",
                                    "Glucose": "84",
                                    "BloodPressure": "64",
                                    "SkinThickness": "22",
                                    "Insulin": "66",
                                    "BMI": "35.8",
                                    "DiabetesPedigreeFunction": "0.545",
                                    "Age": "21",
                                    "Outcome": "0"
                                },
                                {
                                    "Pregnancies": "2",
                                    "Glucose": "105",
                                    "BloodPressure": "58",
                                    "SkinThickness": "40",
                                    "Insulin": "94",
                                    "BMI": "34.9",
                                    "DiabetesPedigreeFunction": "0.225",
                                    "Age": "25",
                                    "Outcome": "0"
                                },
                                {
                                    "Pregnancies": "2",
                                    "Glucose": "122",
                                    "BloodPressure": "52",
                                    "SkinThickness": "43",
                                    "Insulin": "158",
                                    "BMI": "36.2",
                                    "DiabetesPedigreeFunction": "0.816",
                                    "Age": "28",
                                    "Outcome": "0"
                                },
                                {
                                    "Pregnancies": "0",
                                    "Glucose": "98",
                                    "BloodPressure": "82",
                                    "SkinThickness": "15",
                                    "Insulin": "84",
                                    "BMI": "25.2",
                                    "DiabetesPedigreeFunction": "0.299",
                                    "Age": "22",
                                    "Outcome": "0"
                                },
                                {
                                    "Pregnancies": "1",
                                    "Glucose": "87",
                                    "BloodPressure": "60",
                                    "SkinThickness": "37",
                                    "Insulin": "75",
                                    "BMI": "37.2",
                                    "DiabetesPedigreeFunction": "0.509",
                                    "Age": "22",
                                    "Outcome": "0"
                                },
                                {
                                    "Pregnancies": "1",
                                    "Glucose": "107",
                                    "BloodPressure": "72",
                                    "SkinThickness": "30",
                                    "Insulin": "82",
                                    "BMI": "30.8",
                                    "DiabetesPedigreeFunction": "0.821",
                                    "Age": "24",
                                    "Outcome": "0"
                                },
                                {
                                    "Pregnancies": "0",
                                    "Glucose": "105",
                                    "BloodPressure": "68",
                                    "SkinThickness": "22",
                                    "Insulin": "0",
                                    "BMI": "20.0",
                                    "DiabetesPedigreeFunction": "0.236",
                                    "Age": "22",
                                    "Outcome": "0"
                                },
                                {
                                    "Pregnancies": "1",
                                    "Glucose": "109",
                                    "BloodPressure": "60",
                                    "SkinThickness": "8",
                                    "Insulin": "182",
                                    "BMI": "25.4",
                                    "DiabetesPedigreeFunction": "0.947",
                                    "Age": "21",
                                    "Outcome": "0"
                                },
                                {
                                    "Pregnancies": "1",
                                    "Glucose": "90",
                                    "BloodPressure": "62",
                                    "SkinThickness": "18",
                                    "Insulin": "59",
                                    "BMI": "25.1",
                                    "DiabetesPedigreeFunction": "1.268",
                                    "Age": "25",
                                    "Outcome": "0"
                                },
                                {
                                    "Pregnancies": "1",
                                    "Glucose": "125",
                                    "BloodPressure": "70",
                                    "SkinThickness": "24",
                                    "Insulin": "110",
                                    "BMI": "24.3",
                                    "DiabetesPedigreeFunction": "0.221",
                                    "Age": "25",
                                    "Outcome": "0"
                                },
                                {
                                    "Pregnancies": "1",
                                    "Glucose": "119",
                                    "BloodPressure": "54",
                                    "SkinThickness": "13",
                                    "Insulin": "50",
                                    "BMI": "22.3",
                                    "DiabetesPedigreeFunction": "0.205",
                                    "Age": "24",
                                    "Outcome": "0"
                                },
                                {
                                    "Pregnancies": "3",
                                    "Glucose": "100",
                                    "BloodPressure": "68",
                                    "SkinThickness": "23",
                                    "Insulin": "81",
                                    "BMI": "31.6",
                                    "DiabetesPedigreeFunction": "0.949",
                                    "Age": "28",
                                    "Outcome": "0"
                                },
                                {
                                    "Pregnancies": "5",
                                    "Glucose": "166",
                                    "BloodPressure": "76",
                                    "SkinThickness": "0",
                                    "Insulin": "0",
                                    "BMI": "45.7",
                                    "DiabetesPedigreeFunction": "0.34",
                                    "Age": "27",
                                    "Outcome": "1"
                                },
                                {
                                    "Pregnancies": "1",
                                    "Glucose": "131",
                                    "BloodPressure": "64",
                                    "SkinThickness": "14",
                                    "Insulin": "415",
                                    "BMI": "23.7",
                                    "DiabetesPedigreeFunction": "0.389",
                                    "Age": "21",
                                    "Outcome": "0"
                                },
                                {
                                    "Pregnancies": "2",
                                    "Glucose": "127",
                                    "BloodPressure": "58",
                                    "SkinThickness": "24",
                                    "Insulin": "275",
                                    "BMI": "27.7",
                                    "DiabetesPedigreeFunction": "1.6",
                                    "Age": "25",
                                    "Outcome": "0"
                                },
                                {
                                    "Pregnancies": "0",
                                    "Glucose": "131",
                                    "BloodPressure": "66",
                                    "SkinThickness": "40",
                                    "Insulin": "0",
                                    "BMI": "34.3",
                                    "DiabetesPedigreeFunction": "0.196",
                                    "Age": "22",
                                    "Outcome": "1"
                                },
                                {
                                    "Pregnancies": "3",
                                    "Glucose": "82",
                                    "BloodPressure": "70",
                                    "SkinThickness": "0",
                                    "Insulin": "0",
                                    "BMI": "21.1",
                                    "DiabetesPedigreeFunction": "0.389",
                                    "Age": "25",
                                    "Outcome": "0"
                                },
                                {
                                    "Pregnancies": "3",
                                    "Glucose": "193",
                                    "BloodPressure": "70",
                                    "SkinThickness": "31",
                                    "Insulin": "0",
                                    "BMI": "34.9",
                                    "DiabetesPedigreeFunction": "0.241",
                                    "Age": "25",
                                    "Outcome": "1"
                                },
                                {
                                    "Pregnancies": "2",
                                    "Glucose": "123",
                                    "BloodPressure": "48",
                                    "SkinThickness": "32",
                                    "Insulin": "165",
                                    "BMI": "42.1",
                                    "DiabetesPedigreeFunction": "0.52",
                                    "Age": "26",
                                    "Outcome": "0"
                                },
                                {
                                    "Pregnancies": "0",
                                    "Glucose": "101",
                                    "BloodPressure": "62",
                                    "SkinThickness": "0",
                                    "Insulin": "0",
                                    "BMI": "21.9",
                                    "DiabetesPedigreeFunction": "0.336",
                                    "Age": "25",
                                    "Outcome": "0"
                                },
                                {
                                    "Pregnancies": "1",
                                    "Glucose": "172",
                                    "BloodPressure": "68",
                                    "SkinThickness": "49",
                                    "Insulin": "579",
                                    "BMI": "42.4",
                                    "DiabetesPedigreeFunction": "0.702",
                                    "Age": "28",
                                    "Outcome": "1"
                                },
                                {
                                    "Pregnancies": "6",
                                    "Glucose": "102",
                                    "BloodPressure": "90",
                                    "SkinThickness": "39",
                                    "Insulin": "0",
                                    "BMI": "35.7",
                                    "DiabetesPedigreeFunction": "0.674",
                                    "Age": "28",
                                    "Outcome": "0"
                                },
                                {
                                    "Pregnancies": "1",
                                    "Glucose": "112",
                                    "BloodPressure": "72",
                                    "SkinThickness": "30",
                                    "Insulin": "176",
                                    "BMI": "34.4",
                                    "DiabetesPedigreeFunction": "0.528",
                                    "Age": "25",
                                    "Outcome": "0"
                                },
                                {
                                    "Pregnancies": "1",
                                    "Glucose": "143",
                                    "BloodPressure": "84",
                                    "SkinThickness": "23",
                                    "Insulin": "310",
                                    "BMI": "42.4",
                                    "DiabetesPedigreeFunction": "1.076",
                                    "Age": "22",
                                    "Outcome": "0"
                                },
                                {
                                    "Pregnancies": "1",
                                    "Glucose": "143",
                                    "BloodPressure": "74",
                                    "SkinThickness": "22",
                                    "Insulin": "61",
                                    "BMI": "26.2",
                                    "DiabetesPedigreeFunction": "0.256",
                                    "Age": "21",
                                    "Outcome": "0"
                                },
                                {
                                    "Pregnancies": "0",
                                    "Glucose": "138",
                                    "BloodPressure": "60",
                                    "SkinThickness": "35",
                                    "Insulin": "167",
                                    "BMI": "34.6",
                                    "DiabetesPedigreeFunction": "0.534",
                                    "Age": "21",
                                    "Outcome": "1"
                                },
                                {
                                    "Pregnancies": "3",
                                    "Glucose": "173",
                                    "BloodPressure": "84",
                                    "SkinThickness": "33",
                                    "Insulin": "474",
                                    "BMI": "35.7",
                                    "DiabetesPedigreeFunction": "0.258",
                                    "Age": "22",
                                    "Outcome": "1"
                                },
                                {
                                    "Pregnancies": "1",
                                    "Glucose": "97",
                                    "BloodPressure": "68",
                                    "SkinThickness": "21",
                                    "Insulin": "0",
                                    "BMI": "27.2",
                                    "DiabetesPedigreeFunction": "1.095",
                                    "Age": "22",
                                    "Outcome": "0"
                                },
                                {
                                    "Pregnancies": "1",
                                    "Glucose": "83",
                                    "BloodPressure": "68",
                                    "SkinThickness": "0",
                                    "Insulin": "0",
                                    "BMI": "18.2",
                                    "DiabetesPedigreeFunction": "0.624",
                                    "Age": "27",
                                    "Outcome": "0"
                                },
                                {
                                    "Pregnancies": "3",
                                    "Glucose": "129",
                                    "BloodPressure": "64",
                                    "SkinThickness": "29",
                                    "Insulin": "115",
                                    "BMI": "26.4",
                                    "DiabetesPedigreeFunction": "0.219",
                                    "Age": "28",
                                    "Outcome": "1"
                                },
                                {
                                    "Pregnancies": "1",
                                    "Glucose": "119",
                                    "BloodPressure": "88",
                                    "SkinThickness": "41",
                                    "Insulin": "170",
                                    "BMI": "45.3",
                                    "DiabetesPedigreeFunction": "0.507",
                                    "Age": "26",
                                    "Outcome": "0"
                                },
                                {
                                    "Pregnancies": "2",
                                    "Glucose": "94",
                                    "BloodPressure": "68",
                                    "SkinThickness": "18",
                                    "Insulin": "76",
                                    "BMI": "26.0",
                                    "DiabetesPedigreeFunction": "0.561",
                                    "Age": "21",
                                    "Outcome": "0"
                                },
                                {
                                    "Pregnancies": "0",
                                    "Glucose": "102",
                                    "BloodPressure": "64",
                                    "SkinThickness": "46",
                                    "Insulin": "78",
                                    "BMI": "40.6",
                                    "DiabetesPedigreeFunction": "0.496",
                                    "Age": "21",
                                    "Outcome": "0"
                                },
                                {
                                    "Pregnancies": "2",
                                    "Glucose": "115",
                                    "BloodPressure": "64",
                                    "SkinThickness": "22",
                                    "Insulin": "0",
                                    "BMI": "30.8",
                                    "DiabetesPedigreeFunction": "0.421",
                                    "Age": "21",
                                    "Outcome": "0"
                                },
                                {
                                    "Pregnancies": "0",
                                    "Glucose": "94",
                                    "BloodPressure": "0",
                                    "SkinThickness": "0",
                                    "Insulin": "0",
                                    "BMI": "0.0",
                                    "DiabetesPedigreeFunction": "0.256",
                                    "Age": "25",
                                    "Outcome": "0"
                                },
                                {
                                    "Pregnancies": "0",
                                    "Glucose": "135",
                                    "BloodPressure": "94",
                                    "SkinThickness": "46",
                                    "Insulin": "145",
                                    "BMI": "40.6",
                                    "DiabetesPedigreeFunction": "0.284",
                                    "Age": "26",
                                    "Outcome": "0"
                                },
                                {
                                    "Pregnancies": "2",
                                    "Glucose": "99",
                                    "BloodPressure": "0",
                                    "SkinThickness": "0",
                                    "Insulin": "0",
                                    "BMI": "22.2",
                                    "DiabetesPedigreeFunction": "0.108",
                                    "Age": "23",
                                    "Outcome": "0"
                                },
                                {
                                    "Pregnancies": "1",
                                    "Glucose": "80",
                                    "BloodPressure": "74",
                                    "SkinThickness": "11",
                                    "Insulin": "60",
                                    "BMI": "30.0",
                                    "DiabetesPedigreeFunction": "0.527",
                                    "Age": "22",
                                    "Outcome": "0"
                                },
                                {
                                    "Pregnancies": "2",
                                    "Glucose": "139",
                                    "BloodPressure": "75",
                                    "SkinThickness": "0",
                                    "Insulin": "0",
                                    "BMI": "25.6",
                                    "DiabetesPedigreeFunction": "0.167",
                                    "Age": "29",
                                    "Outcome": "0"
                                },
                                {
                                    "Pregnancies": "0",
                                    "Glucose": "141",
                                    "BloodPressure": "0",
                                    "SkinThickness": "0",
                                    "Insulin": "0",
                                    "BMI": "42.4",
                                    "DiabetesPedigreeFunction": "0.205",
                                    "Age": "29",
                                    "Outcome": "1"
                                },
                                {
                                    "Pregnancies": "5",
                                    "Glucose": "147",
                                    "BloodPressure": "75",
                                    "SkinThickness": "0",
                                    "Insulin": "0",
                                    "BMI": "29.9",
                                    "DiabetesPedigreeFunction": "0.434",
                                    "Age": "28",
                                    "Outcome": "0"
                                },
                                {
                                    "Pregnancies": "1",
                                    "Glucose": "97",
                                    "BloodPressure": "70",
                                    "SkinThickness": "15",
                                    "Insulin": "0",
                                    "BMI": "18.2",
                                    "DiabetesPedigreeFunction": "0.147",
                                    "Age": "21",
                                    "Outcome": "0"
                                },
                                {
                                    "Pregnancies": "2",
                                    "Glucose": "83",
                                    "BloodPressure": "66",
                                    "SkinThickness": "23",
                                    "Insulin": "50",
                                    "BMI": "32.2",
                                    "DiabetesPedigreeFunction": "0.497",
                                    "Age": "22",
                                    "Outcome": "0"
                                },
                                {
                                    "Pregnancies": "4",
                                    "Glucose": "117",
                                    "BloodPressure": "64",
                                    "SkinThickness": "27",
                                    "Insulin": "120",
                                    "BMI": "33.2",
                                    "DiabetesPedigreeFunction": "0.23",
                                    "Age": "24",
                                    "Outcome": "0"
                                },
                                {
                                    "Pregnancies": "4",
                                    "Glucose": "117",
                                    "BloodPressure": "62",
                                    "SkinThickness": "12",
                                    "Insulin": "0",
                                    "BMI": "29.7",
                                    "DiabetesPedigreeFunction": "0.38",
                                    "Age": "30",
                                    "Outcome": "1"
                                },
                                {
                                    "Pregnancies": "0",
                                    "Glucose": "180",
                                    "BloodPressure": "78",
                                    "SkinThickness": "63",
                                    "Insulin": "14",
                                    "BMI": "59.4",
                                    "DiabetesPedigreeFunction": "2.42",
                                    "Age": "25",
                                    "Outcome": "1"
                                },
                                {
                                    "Pregnancies": "1",
                                    "Glucose": "100",
                                    "BloodPressure": "72",
                                    "SkinThickness": "12",
                                    "Insulin": "70",
                                    "BMI": "25.3",
                                    "DiabetesPedigreeFunction": "0.658",
                                    "Age": "28",
                                    "Outcome": "0"
                                },
                                {
                                    "Pregnancies": "0",
                                    "Glucose": "95",
                                    "BloodPressure": "80",
                                    "SkinThickness": "45",
                                    "Insulin": "92",
                                    "BMI": "36.5",
                                    "DiabetesPedigreeFunction": "0.33",
                                    "Age": "26",
                                    "Outcome": "0"
                                },
                                {
                                    "Pregnancies": "0",
                                    "Glucose": "104",
                                    "BloodPressure": "64",
                                    "SkinThickness": "37",
                                    "Insulin": "64",
                                    "BMI": "33.6",
                                    "DiabetesPedigreeFunction": "0.51",
                                    "Age": "22",
                                    "Outcome": "1"
                                },
                                {
                                    "Pregnancies": "0",
                                    "Glucose": "120",
                                    "BloodPressure": "74",
                                    "SkinThickness": "18",
                                    "Insulin": "63",
                                    "BMI": "30.5",
                                    "DiabetesPedigreeFunction": "0.285",
                                    "Age": "26",
                                    "Outcome": "0"
                                },
                                {
                                    "Pregnancies": "1",
                                    "Glucose": "82",
                                    "BloodPressure": "64",
                                    "SkinThickness": "13",
                                    "Insulin": "95",
                                    "BMI": "21.2",
                                    "DiabetesPedigreeFunction": "0.415",
                                    "Age": "23",
                                    "Outcome": "0"
                                },
                                {
                                    "Pregnancies": "2",
                                    "Glucose": "134",
                                    "BloodPressure": "70",
                                    "SkinThickness": "0",
                                    "Insulin": "0",
                                    "BMI": "28.9",
                                    "DiabetesPedigreeFunction": "0.542",
                                    "Age": "23",
                                    "Outcome": "1"
                                },
                                {
                                    "Pregnancies": "0",
                                    "Glucose": "91",
                                    "BloodPressure": "68",
                                    "SkinThickness": "32",
                                    "Insulin": "210",
                                    "BMI": "39.9",
                                    "DiabetesPedigreeFunction": "0.381",
                                    "Age": "25",
                                    "Outcome": "0"
                                },
                                {
                                    "Pregnancies": "2",
                                    "Glucose": "100",
                                    "BloodPressure": "54",
                                    "SkinThickness": "28",
                                    "Insulin": "105",
                                    "BMI": "37.8",
                                    "DiabetesPedigreeFunction": "0.498",
                                    "Age": "24",
                                    "Outcome": "0"
                                },
                                {
                                    "Pregnancies": "5",
                                    "Glucose": "86",
                                    "BloodPressure": "68",
                                    "SkinThickness": "28",
                                    "Insulin": "71",
                                    "BMI": "30.2",
                                    "DiabetesPedigreeFunction": "0.364",
                                    "Age": "24",
                                    "Outcome": "0"
                                },
                                {
                                    "Pregnancies": "1",
                                    "Glucose": "71",
                                    "BloodPressure": "62",
                                    "SkinThickness": "0",
                                    "Insulin": "0",
                                    "BMI": "21.8",
                                    "DiabetesPedigreeFunction": "0.416",
                                    "Age": "26",
                                    "Outcome": "0"
                                },
                                {
                                    "Pregnancies": "0",
                                    "Glucose": "124",
                                    "BloodPressure": "56",
                                    "SkinThickness": "13",
                                    "Insulin": "105",
                                    "BMI": "21.8",
                                    "DiabetesPedigreeFunction": "0.452",
                                    "Age": "21",
                                    "Outcome": "0"
                                },
                                {
                                    "Pregnancies": "0",
                                    "Glucose": "74",
                                    "BloodPressure": "52",
                                    "SkinThickness": "10",
                                    "Insulin": "36",
                                    "BMI": "27.8",
                                    "DiabetesPedigreeFunction": "0.269",
                                    "Age": "22",
                                    "Outcome": "0"
                                },
                                {
                                    "Pregnancies": "0",
                                    "Glucose": "97",
                                    "BloodPressure": "64",
                                    "SkinThickness": "36",
                                    "Insulin": "100",
                                    "BMI": "36.8",
                                    "DiabetesPedigreeFunction": "0.6",
                                    "Age": "25",
                                    "Outcome": "0"
                                },
                                {
                                    "Pregnancies": "6",
                                    "Glucose": "154",
                                    "BloodPressure": "78",
                                    "SkinThickness": "41",
                                    "Insulin": "140",
                                    "BMI": "46.1",
                                    "DiabetesPedigreeFunction": "0.571",
                                    "Age": "27",
                                    "Outcome": "0"
                                },
                                {
                                    "Pregnancies": "1",
                                    "Glucose": "144",
                                    "BloodPressure": "82",
                                    "SkinThickness": "40",
                                    "Insulin": "0",
                                    "BMI": "41.3",
                                    "DiabetesPedigreeFunction": "0.607",
                                    "Age": "28",
                                    "Outcome": "0"
                                },
                                {
                                    "Pregnancies": "0",
                                    "Glucose": "137",
                                    "BloodPressure": "70",
                                    "SkinThickness": "38",
                                    "Insulin": "0",
                                    "BMI": "33.2",
                                    "DiabetesPedigreeFunction": "0.17",
                                    "Age": "22",
                                    "Outcome": "0"
                                },
                                {
                                    "Pregnancies": "0",
                                    "Glucose": "119",
                                    "BloodPressure": "66",
                                    "SkinThickness": "27",
                                    "Insulin": "0",
                                    "BMI": "38.8",
                                    "DiabetesPedigreeFunction": "0.259",
                                    "Age": "22",
                                    "Outcome": "0"
                                },
                                {
                                    "Pregnancies": "4",
                                    "Glucose": "114",
                                    "BloodPressure": "64",
                                    "SkinThickness": "0",
                                    "Insulin": "0",
                                    "BMI": "28.9",
                                    "DiabetesPedigreeFunction": "0.126",
                                    "Age": "24",
                                    "Outcome": "0"
                                },
                                {
                                    "Pregnancies": "2",
                                    "Glucose": "105",
                                    "BloodPressure": "80",
                                    "SkinThickness": "45",
                                    "Insulin": "191",
                                    "BMI": "33.7",
                                    "DiabetesPedigreeFunction": "0.711",
                                    "Age": "29",
                                    "Outcome": "1"
                                },
                                {
                                    "Pregnancies": "0",
                                    "Glucose": "123",
                                    "BloodPressure": "88",
                                    "SkinThickness": "37",
                                    "Insulin": "0",
                                    "BMI": "35.2",
                                    "DiabetesPedigreeFunction": "0.197",
                                    "Age": "29",
                                    "Outcome": "0"
                                },
                                {
                                    "Pregnancies": "4",
                                    "Glucose": "85",
                                    "BloodPressure": "58",
                                    "SkinThickness": "22",
                                    "Insulin": "49",
                                    "BMI": "27.8",
                                    "DiabetesPedigreeFunction": "0.306",
                                    "Age": "28",
                                    "Outcome": "0"
                                },
                                {
                                    "Pregnancies": "0",
                                    "Glucose": "84",
                                    "BloodPressure": "82",
                                    "SkinThickness": "31",
                                    "Insulin": "125",
                                    "BMI": "38.2",
                                    "DiabetesPedigreeFunction": "0.233",
                                    "Age": "23",
                                    "Outcome": "0"
                                },
                                {
                                    "Pregnancies": "0",
                                    "Glucose": "135",
                                    "BloodPressure": "68",
                                    "SkinThickness": "42",
                                    "Insulin": "250",
                                    "BMI": "42.3",
                                    "DiabetesPedigreeFunction": "0.365",
                                    "Age": "24",
                                    "Outcome": "1"
                                },
                                {
                                    "Pregnancies": "1",
                                    "Glucose": "139",
                                    "BloodPressure": "62",
                                    "SkinThickness": "41",
                                    "Insulin": "480",
                                    "BMI": "40.7",
                                    "DiabetesPedigreeFunction": "0.536",
                                    "Age": "21",
                                    "Outcome": "0"
                                },
                                {
                                    "Pregnancies": "4",
                                    "Glucose": "99",
                                    "BloodPressure": "72",
                                    "SkinThickness": "17",
                                    "Insulin": "0",
                                    "BMI": "25.6",
                                    "DiabetesPedigreeFunction": "0.294",
                                    "Age": "28",
                                    "Outcome": "0"
                                },
                                {
                                    "Pregnancies": "2",
                                    "Glucose": "83",
                                    "BloodPressure": "65",
                                    "SkinThickness": "28",
                                    "Insulin": "66",
                                    "BMI": "36.8",
                                    "DiabetesPedigreeFunction": "0.629",
                                    "Age": "24",
                                    "Outcome": "0"
                                },
                                {
                                    "Pregnancies": "3",
                                    "Glucose": "80",
                                    "BloodPressure": "0",
                                    "SkinThickness": "0",
                                    "Insulin": "0",
                                    "BMI": "0.0",
                                    "DiabetesPedigreeFunction": "0.174",
                                    "Age": "22",
                                    "Outcome": "0"
                                },
                                {
                                    "Pregnancies": "5",
                                    "Glucose": "110",
                                    "BloodPressure": "68",
                                    "SkinThickness": "0",
                                    "Insulin": "0",
                                    "BMI": "26.0",
                                    "DiabetesPedigreeFunction": "0.292",
                                    "Age": "30",
                                    "Outcome": "0"
                                },
                                {
                                    "Pregnancies": "2",
                                    "Glucose": "81",
                                    "BloodPressure": "72",
                                    "SkinThickness": "15",
                                    "Insulin": "76",
                                    "BMI": "30.1",
                                    "DiabetesPedigreeFunction": "0.547",
                                    "Age": "25",
                                    "Outcome": "0"
                                },
                                {
                                    "Pregnancies": "2",
                                    "Glucose": "117",
                                    "BloodPressure": "90",
                                    "SkinThickness": "19",
                                    "Insulin": "71",
                                    "BMI": "25.2",
                                    "DiabetesPedigreeFunction": "0.313",
                                    "Age": "21",
                                    "Outcome": "0"
                                },
                                {
                                    "Pregnancies": "3",
                                    "Glucose": "84",
                                    "BloodPressure": "72",
                                    "SkinThickness": "32",
                                    "Insulin": "0",
                                    "BMI": "37.2",
                                    "DiabetesPedigreeFunction": "0.267",
                                    "Age": "28",
                                    "Outcome": "0"
                                },
                                {
                                    "Pregnancies": "1",
                                    "Glucose": "130",
                                    "BloodPressure": "60",
                                    "SkinThickness": "23",
                                    "Insulin": "170",
                                    "BMI": "28.6",
                                    "DiabetesPedigreeFunction": "0.692",
                                    "Age": "21",
                                    "Outcome": "0"
                                },
                                {
                                    "Pregnancies": "2",
                                    "Glucose": "84",
                                    "BloodPressure": "50",
                                    "SkinThickness": "23",
                                    "Insulin": "76",
                                    "BMI": "30.4",
                                    "DiabetesPedigreeFunction": "0.968",
                                    "Age": "21",
                                    "Outcome": "0"
                                },
                                {
                                    "Pregnancies": "0",
                                    "Glucose": "139",
                                    "BloodPressure": "62",
                                    "SkinThickness": "17",
                                    "Insulin": "210",
                                    "BMI": "22.1",
                                    "DiabetesPedigreeFunction": "0.207",
                                    "Age": "21",
                                    "Outcome": "0"
                                },
                                {
                                    "Pregnancies": "2",
                                    "Glucose": "91",
                                    "BloodPressure": "62",
                                    "SkinThickness": "0",
                                    "Insulin": "0",
                                    "BMI": "27.3",
                                    "DiabetesPedigreeFunction": "0.525",
                                    "Age": "22",
                                    "Outcome": "0"
                                },
                                {
                                    "Pregnancies": "3",
                                    "Glucose": "99",
                                    "BloodPressure": "54",
                                    "SkinThickness": "19",
                                    "Insulin": "86",
                                    "BMI": "25.6",
                                    "DiabetesPedigreeFunction": "0.154",
                                    "Age": "24",
                                    "Outcome": "0"
                                },
                                {
                                    "Pregnancies": "3",
                                    "Glucose": "163",
                                    "BloodPressure": "70",
                                    "SkinThickness": "18",
                                    "Insulin": "105",
                                    "BMI": "31.6",
                                    "DiabetesPedigreeFunction": "0.268",
                                    "Age": "28",
                                    "Outcome": "1"
                                },
                                {
                                    "Pregnancies": "2",
                                    "Glucose": "68",
                                    "BloodPressure": "70",
                                    "SkinThickness": "32",
                                    "Insulin": "66",
                                    "BMI": "25.0",
                                    "DiabetesPedigreeFunction": "0.187",
                                    "Age": "25",
                                    "Outcome": "0"
                                },
                                {
                                    "Pregnancies": "3",
                                    "Glucose": "124",
                                    "BloodPressure": "80",
                                    "SkinThickness": "33",
                                    "Insulin": "130",
                                    "BMI": "33.2",
                                    "DiabetesPedigreeFunction": "0.305",
                                    "Age": "26",
                                    "Outcome": "0"
                                },
                                {
                                    "Pregnancies": "6",
                                    "Glucose": "114",
                                    "BloodPressure": "0",
                                    "SkinThickness": "0",
                                    "Insulin": "0",
                                    "BMI": "0.0",
                                    "DiabetesPedigreeFunction": "0.189",
                                    "Age": "26",
                                    "Outcome": "0"
                                },
                                {
                                    "Pregnancies": "3",
                                    "Glucose": "125",
                                    "BloodPressure": "58",
                                    "SkinThickness": "0",
                                    "Insulin": "0",
                                    "BMI": "31.6",
                                    "DiabetesPedigreeFunction": "0.151",
                                    "Age": "24",
                                    "Outcome": "0"
                                },
                                {
                                    "Pregnancies": "3",
                                    "Glucose": "87",
                                    "BloodPressure": "60",
                                    "SkinThickness": "18",
                                    "Insulin": "0",
                                    "BMI": "21.8",
                                    "DiabetesPedigreeFunction": "0.444",
                                    "Age": "21",
                                    "Outcome": "0"
                                },
                                {
                                    "Pregnancies": "1",
                                    "Glucose": "97",
                                    "BloodPressure": "64",
                                    "SkinThickness": "19",
                                    "Insulin": "82",
                                    "BMI": "18.2",
                                    "DiabetesPedigreeFunction": "0.299",
                                    "Age": "21",
                                    "Outcome": "0"
                                },
                                {
                                    "Pregnancies": "3",
                                    "Glucose": "116",
                                    "BloodPressure": "74",
                                    "SkinThickness": "15",
                                    "Insulin": "105",
                                    "BMI": "26.3",
                                    "DiabetesPedigreeFunction": "0.107",
                                    "Age": "24",
                                    "Outcome": "0"
                                },
                                {
                                    "Pregnancies": "0",
                                    "Glucose": "117",
                                    "BloodPressure": "66",
                                    "SkinThickness": "31",
                                    "Insulin": "188",
                                    "BMI": "30.8",
                                    "DiabetesPedigreeFunction": "0.493",
                                    "Age": "22",
                                    "Outcome": "0"
                                },
                                {
                                    "Pregnancies": "2",
                                    "Glucose": "122",
                                    "BloodPressure": "60",
                                    "SkinThickness": "18",
                                    "Insulin": "106",
                                    "BMI": "29.8",
                                    "DiabetesPedigreeFunction": "0.717",
                                    "Age": "22",
                                    "Outcome": "0"
                                },
                                {
                                    "Pregnancies": "0",
                                    "Glucose": "107",
                                    "BloodPressure": "76",
                                    "SkinThickness": "0",
                                    "Insulin": "0",
                                    "BMI": "45.3",
                                    "DiabetesPedigreeFunction": "0.686",
                                    "Age": "24",
                                    "Outcome": "0"
                                },
                                {
                                    "Pregnancies": "1",
                                    "Glucose": "86",
                                    "BloodPressure": "66",
                                    "SkinThickness": "52",
                                    "Insulin": "65",
                                    "BMI": "41.3",
                                    "DiabetesPedigreeFunction": "0.917",
                                    "Age": "29",
                                    "Outcome": "0"
                                },
                                {
                                    "Pregnancies": "1",
                                    "Glucose": "77",
                                    "BloodPressure": "56",
                                    "SkinThickness": "30",
                                    "Insulin": "56",
                                    "BMI": "33.3",
                                    "DiabetesPedigreeFunction": "1.251",
                                    "Age": "24",
                                    "Outcome": "0"
                                },
                                {
                                    "Pregnancies": "4",
                                    "Glucose": "132",
                                    "BloodPressure": "0",
                                    "SkinThickness": "0",
                                    "Insulin": "0",
                                    "BMI": "32.9",
                                    "DiabetesPedigreeFunction": "0.302",
                                    "Age": "23",
                                    "Outcome": "1"
                                },
                                {
                                    "Pregnancies": "0",
                                    "Glucose": "127",
                                    "BloodPressure": "80",
                                    "SkinThickness": "37",
                                    "Insulin": "210",
                                    "BMI": "36.3",
                                    "DiabetesPedigreeFunction": "0.804",
                                    "Age": "23",
                                    "Outcome": "0"
                                },
                                {
                                    "Pregnancies": "3",
                                    "Glucose": "128",
                                    "BloodPressure": "72",
                                    "SkinThickness": "25",
                                    "Insulin": "190",
                                    "BMI": "32.4",
                                    "DiabetesPedigreeFunction": "0.549",
                                    "Age": "27",
                                    "Outcome": "1"
                                },
                                {
                                    "Pregnancies": "4",
                                    "Glucose": "84",
                                    "BloodPressure": "90",
                                    "SkinThickness": "23",
                                    "Insulin": "56",
                                    "BMI": "39.5",
                                    "DiabetesPedigreeFunction": "0.159",
                                    "Age": "25",
                                    "Outcome": "0"
                                },
                                {
                                    "Pregnancies": "1",
                                    "Glucose": "88",
                                    "BloodPressure": "78",
                                    "SkinThickness": "29",
                                    "Insulin": "76",
                                    "BMI": "32.0",
                                    "DiabetesPedigreeFunction": "0.365",
                                    "Age": "29",
                                    "Outcome": "0"
                                },
                                {
                                    "Pregnancies": "4",
                                    "Glucose": "131",
                                    "BloodPressure": "68",
                                    "SkinThickness": "21",
                                    "Insulin": "166",
                                    "BMI": "33.1",
                                    "DiabetesPedigreeFunction": "0.16",
                                    "Age": "28",
                                    "Outcome": "0"
                                },
                                {
                                    "Pregnancies": "1",
                                    "Glucose": "116",
                                    "BloodPressure": "70",
                                    "SkinThickness": "28",
                                    "Insulin": "0",
                                    "BMI": "27.4",
                                    "DiabetesPedigreeFunction": "0.204",
                                    "Age": "21",
                                    "Outcome": "0"
                                },
                                {
                                    "Pregnancies": "3",
                                    "Glucose": "84",
                                    "BloodPressure": "68",
                                    "SkinThickness": "30",
                                    "Insulin": "106",
                                    "BMI": "31.9",
                                    "DiabetesPedigreeFunction": "0.591",
                                    "Age": "25",
                                    "Outcome": "0"
                                },
                                {
                                    "Pregnancies": "1",
                                    "Glucose": "88",
                                    "BloodPressure": "62",
                                    "SkinThickness": "24",
                                    "Insulin": "44",
                                    "BMI": "29.9",
                                    "DiabetesPedigreeFunction": "0.422",
                                    "Age": "23",
                                    "Outcome": "0"
                                },
                                {
                                    "Pregnancies": "1",
                                    "Glucose": "84",
                                    "BloodPressure": "64",
                                    "SkinThickness": "23",
                                    "Insulin": "115",
                                    "BMI": "36.9",
                                    "DiabetesPedigreeFunction": "0.471",
                                    "Age": "28",
                                    "Outcome": "0"
                                },
                                {
                                    "Pregnancies": "1",
                                    "Glucose": "97",
                                    "BloodPressure": "70",
                                    "SkinThickness": "40",
                                    "Insulin": "0",
                                    "BMI": "38.1",
                                    "DiabetesPedigreeFunction": "0.218",
                                    "Age": "30",
                                    "Outcome": "0"
                                },
                                {
                                    "Pregnancies": "0",
                                    "Glucose": "198",
                                    "BloodPressure": "66",
                                    "SkinThickness": "32",
                                    "Insulin": "274",
                                    "BMI": "41.3",
                                    "DiabetesPedigreeFunction": "0.502",
                                    "Age": "28",
                                    "Outcome": "1"
                                },
                                {
                                    "Pregnancies": "1",
                                    "Glucose": "87",
                                    "BloodPressure": "68",
                                    "SkinThickness": "34",
                                    "Insulin": "77",
                                    "BMI": "37.6",
                                    "DiabetesPedigreeFunction": "0.401",
                                    "Age": "24",
                                    "Outcome": "0"
                                },
                                {
                                    "Pregnancies": "0",
                                    "Glucose": "91",
                                    "BloodPressure": "80",
                                    "SkinThickness": "0",
                                    "Insulin": "0",
                                    "BMI": "32.4",
                                    "DiabetesPedigreeFunction": "0.601",
                                    "Age": "27",
                                    "Outcome": "0"
                                },
                                {
                                    "Pregnancies": "2",
                                    "Glucose": "95",
                                    "BloodPressure": "54",
                                    "SkinThickness": "14",
                                    "Insulin": "88",
                                    "BMI": "26.1",
                                    "DiabetesPedigreeFunction": "0.748",
                                    "Age": "22",
                                    "Outcome": "0"
                                },
                                {
                                    "Pregnancies": "1",
                                    "Glucose": "99",
                                    "BloodPressure": "72",
                                    "SkinThickness": "30",
                                    "Insulin": "18",
                                    "BMI": "38.6",
                                    "DiabetesPedigreeFunction": "0.412",
                                    "Age": "21",
                                    "Outcome": "0"
                                },
                                {
                                    "Pregnancies": "2",
                                    "Glucose": "130",
                                    "BloodPressure": "96",
                                    "SkinThickness": "0",
                                    "Insulin": "0",
                                    "BMI": "22.6",
                                    "DiabetesPedigreeFunction": "0.268",
                                    "Age": "21",
                                    "Outcome": "0"
                                },
                                {
                                    "Pregnancies": "3",
                                    "Glucose": "111",
                                    "BloodPressure": "58",
                                    "SkinThickness": "31",
                                    "Insulin": "44",
                                    "BMI": "29.5",
                                    "DiabetesPedigreeFunction": "0.43",
                                    "Age": "22",
                                    "Outcome": "0"
                                },
                                {
                                    "Pregnancies": "2",
                                    "Glucose": "98",
                                    "BloodPressure": "60",
                                    "SkinThickness": "17",
                                    "Insulin": "120",
                                    "BMI": "34.7",
                                    "DiabetesPedigreeFunction": "0.198",
                                    "Age": "22",
                                    "Outcome": "0"
                                },
                                {
                                    "Pregnancies": "1",
                                    "Glucose": "143",
                                    "BloodPressure": "86",
                                    "SkinThickness": "30",
                                    "Insulin": "330",
                                    "BMI": "30.1",
                                    "DiabetesPedigreeFunction": "0.892",
                                    "Age": "23",
                                    "Outcome": "0"
                                },
                                {
                                    "Pregnancies": "1",
                                    "Glucose": "119",
                                    "BloodPressure": "44",
                                    "SkinThickness": "47",
                                    "Insulin": "63",
                                    "BMI": "35.5",
                                    "DiabetesPedigreeFunction": "0.28",
                                    "Age": "25",
                                    "Outcome": "0"
                                },
                                {
                                    "Pregnancies": "2",
                                    "Glucose": "118",
                                    "BloodPressure": "80",
                                    "SkinThickness": "0",
                                    "Insulin": "0",
                                    "BMI": "42.9",
                                    "DiabetesPedigreeFunction": "0.693",
                                    "Age": "21",
                                    "Outcome": "1"
                                },
                                {
                                    "Pregnancies": "0",
                                    "Glucose": "151",
                                    "BloodPressure": "90",
                                    "SkinThickness": "46",
                                    "Insulin": "0",
                                    "BMI": "42.1",
                                    "DiabetesPedigreeFunction": "0.371",
                                    "Age": "21",
                                    "Outcome": "1"
                                },
                                {
                                    "Pregnancies": "6",
                                    "Glucose": "109",
                                    "BloodPressure": "60",
                                    "SkinThickness": "27",
                                    "Insulin": "0",
                                    "BMI": "25.0",
                                    "DiabetesPedigreeFunction": "0.206",
                                    "Age": "27",
                                    "Outcome": "0"
                                },
                                {
                                    "Pregnancies": "1",
                                    "Glucose": "93",
                                    "BloodPressure": "56",
                                    "SkinThickness": "11",
                                    "Insulin": "0",
                                    "BMI": "22.5",
                                    "DiabetesPedigreeFunction": "0.417",
                                    "Age": "22",
                                    "Outcome": "0"
                                },
                                {
                                    "Pregnancies": "6",
                                    "Glucose": "103",
                                    "BloodPressure": "66",
                                    "SkinThickness": "0",
                                    "Insulin": "0",
                                    "BMI": "24.3",
                                    "DiabetesPedigreeFunction": "0.249",
                                    "Age": "29",
                                    "Outcome": "0"
                                },
                                {
                                    "Pregnancies": "0",
                                    "Glucose": "73",
                                    "BloodPressure": "0",
                                    "SkinThickness": "0",
                                    "Insulin": "0",
                                    "BMI": "21.1",
                                    "DiabetesPedigreeFunction": "0.342",
                                    "Age": "25",
                                    "Outcome": "0"
                                },
                                {
                                    "Pregnancies": "2",
                                    "Glucose": "112",
                                    "BloodPressure": "78",
                                    "SkinThickness": "50",
                                    "Insulin": "140",
                                    "BMI": "39.4",
                                    "DiabetesPedigreeFunction": "0.175",
                                    "Age": "24",
                                    "Outcome": "0"
                                },
                                {
                                    "Pregnancies": "2",
                                    "Glucose": "82",
                                    "BloodPressure": "52",
                                    "SkinThickness": "22",
                                    "Insulin": "115",
                                    "BMI": "28.5",
                                    "DiabetesPedigreeFunction": "1.699",
                                    "Age": "25",
                                    "Outcome": "0"
                                },
                                {
                                    "Pregnancies": "0",
                                    "Glucose": "188",
                                    "BloodPressure": "82",
                                    "SkinThickness": "14",
                                    "Insulin": "185",
                                    "BMI": "32.0",
                                    "DiabetesPedigreeFunction": "0.682",
                                    "Age": "22",
                                    "Outcome": "1"
                                },
                                {
                                    "Pregnancies": "1",
                                    "Glucose": "89",
                                    "BloodPressure": "24",
                                    "SkinThickness": "19",
                                    "Insulin": "25",
                                    "BMI": "27.8",
                                    "DiabetesPedigreeFunction": "0.559",
                                    "Age": "21",
                                    "Outcome": "0"
                                },
                                {
                                    "Pregnancies": "1",
                                    "Glucose": "109",
                                    "BloodPressure": "38",
                                    "SkinThickness": "18",
                                    "Insulin": "120",
                                    "BMI": "23.1",
                                    "DiabetesPedigreeFunction": "0.407",
                                    "Age": "26",
                                    "Outcome": "0"
                                },
                                {
                                    "Pregnancies": "1",
                                    "Glucose": "108",
                                    "BloodPressure": "88",
                                    "SkinThickness": "19",
                                    "Insulin": "0",
                                    "BMI": "27.1",
                                    "DiabetesPedigreeFunction": "0.4",
                                    "Age": "24",
                                    "Outcome": "0"
                                },
                                {
                                    "Pregnancies": "6",
                                    "Glucose": "96",
                                    "BloodPressure": "0",
                                    "SkinThickness": "0",
                                    "Insulin": "0",
                                    "BMI": "23.7",
                                    "DiabetesPedigreeFunction": "0.19",
                                    "Age": "28",
                                    "Outcome": "0"
                                },
                                {
                                    "Pregnancies": "1",
                                    "Glucose": "124",
                                    "BloodPressure": "74",
                                    "SkinThickness": "36",
                                    "Insulin": "0",
                                    "BMI": "27.8",
                                    "DiabetesPedigreeFunction": "0.1",
                                    "Age": "30",
                                    "Outcome": "0"
                                },
                                {
                                    "Pregnancies": "1",
                                    "Glucose": "124",
                                    "BloodPressure": "60",
                                    "SkinThickness": "32",
                                    "Insulin": "0",
                                    "BMI": "35.8",
                                    "DiabetesPedigreeFunction": "0.514",
                                    "Age": "21",
                                    "Outcome": "0"
                                },
                                {
                                    "Pregnancies": "1",
                                    "Glucose": "181",
                                    "BloodPressure": "78",
                                    "SkinThickness": "42",
                                    "Insulin": "293",
                                    "BMI": "40.0",
                                    "DiabetesPedigreeFunction": "1.258",
                                    "Age": "22",
                                    "Outcome": "1"
                                },
                                {
                                    "Pregnancies": "1",
                                    "Glucose": "92",
                                    "BloodPressure": "62",
                                    "SkinThickness": "25",
                                    "Insulin": "41",
                                    "BMI": "19.5",
                                    "DiabetesPedigreeFunction": "0.482",
                                    "Age": "25",
                                    "Outcome": "0"
                                },
                                {
                                    "Pregnancies": "0",
                                    "Glucose": "152",
                                    "BloodPressure": "82",
                                    "SkinThickness": "39",
                                    "Insulin": "272",
                                    "BMI": "41.5",
                                    "DiabetesPedigreeFunction": "0.27",
                                    "Age": "27",
                                    "Outcome": "0"
                                },
                                {
                                    "Pregnancies": "1",
                                    "Glucose": "111",
                                    "BloodPressure": "62",
                                    "SkinThickness": "13",
                                    "Insulin": "182",
                                    "BMI": "24.0",
                                    "DiabetesPedigreeFunction": "0.138",
                                    "Age": "23",
                                    "Outcome": "0"
                                },
                                {
                                    "Pregnancies": "3",
                                    "Glucose": "106",
                                    "BloodPressure": "54",
                                    "SkinThickness": "21",
                                    "Insulin": "158",
                                    "BMI": "30.9",
                                    "DiabetesPedigreeFunction": "0.292",
                                    "Age": "24",
                                    "Outcome": "0"
                                },
                                {
                                    "Pregnancies": "6",
                                    "Glucose": "105",
                                    "BloodPressure": "80",
                                    "SkinThickness": "28",
                                    "Insulin": "0",
                                    "BMI": "32.5",
                                    "DiabetesPedigreeFunction": "0.878",
                                    "Age": "26",
                                    "Outcome": "0"
                                },
                                {
                                    "Pregnancies": "3",
                                    "Glucose": "106",
                                    "BloodPressure": "72",
                                    "SkinThickness": "0",
                                    "Insulin": "0",
                                    "BMI": "25.8",
                                    "DiabetesPedigreeFunction": "0.207",
                                    "Age": "27",
                                    "Outcome": "0"
                                },
                                {
                                    "Pregnancies": "6",
                                    "Glucose": "117",
                                    "BloodPressure": "96",
                                    "SkinThickness": "0",
                                    "Insulin": "0",
                                    "BMI": "28.7",
                                    "DiabetesPedigreeFunction": "0.157",
                                    "Age": "30",
                                    "Outcome": "0"
                                },
                                {
                                    "Pregnancies": "2",
                                    "Glucose": "68",
                                    "BloodPressure": "62",
                                    "SkinThickness": "13",
                                    "Insulin": "15",
                                    "BMI": "20.1",
                                    "DiabetesPedigreeFunction": "0.257",
                                    "Age": "23",
                                    "Outcome": "0"
                                },
                                {
                                    "Pregnancies": "0",
                                    "Glucose": "119",
                                    "BloodPressure": "0",
                                    "SkinThickness": "0",
                                    "Insulin": "0",
                                    "BMI": "32.4",
                                    "DiabetesPedigreeFunction": "0.141",
                                    "Age": "24",
                                    "Outcome": "1"
                                },
                                {
                                    "Pregnancies": "2",
                                    "Glucose": "112",
                                    "BloodPressure": "86",
                                    "SkinThickness": "42",
                                    "Insulin": "160",
                                    "BMI": "38.4",
                                    "DiabetesPedigreeFunction": "0.246",
                                    "Age": "28",
                                    "Outcome": "0"
                                },
                                {
                                    "Pregnancies": "2",
                                    "Glucose": "92",
                                    "BloodPressure": "76",
                                    "SkinThickness": "20",
                                    "Insulin": "0",
                                    "BMI": "24.2",
                                    "DiabetesPedigreeFunction": "1.698",
                                    "Age": "28",
                                    "Outcome": "0"
                                },
                                {
                                    "Pregnancies": "0",
                                    "Glucose": "94",
                                    "BloodPressure": "70",
                                    "SkinThickness": "27",
                                    "Insulin": "115",
                                    "BMI": "43.5",
                                    "DiabetesPedigreeFunction": "0.347",
                                    "Age": "21",
                                    "Outcome": "0"
                                },
                                {
                                    "Pregnancies": "2",
                                    "Glucose": "108",
                                    "BloodPressure": "64",
                                    "SkinThickness": "0",
                                    "Insulin": "0",
                                    "BMI": "30.8",
                                    "DiabetesPedigreeFunction": "0.158",
                                    "Age": "21",
                                    "Outcome": "0"
                                },
                                {
                                    "Pregnancies": "4",
                                    "Glucose": "90",
                                    "BloodPressure": "88",
                                    "SkinThickness": "47",
                                    "Insulin": "54",
                                    "BMI": "37.7",
                                    "DiabetesPedigreeFunction": "0.362",
                                    "Age": "29",
                                    "Outcome": "0"
                                },
                                {
                                    "Pregnancies": "0",
                                    "Glucose": "125",
                                    "BloodPressure": "68",
                                    "SkinThickness": "0",
                                    "Insulin": "0",
                                    "BMI": "24.7",
                                    "DiabetesPedigreeFunction": "0.206",
                                    "Age": "21",
                                    "Outcome": "0"
                                },
                                {
                                    "Pregnancies": "0",
                                    "Glucose": "132",
                                    "BloodPressure": "78",
                                    "SkinThickness": "0",
                                    "Insulin": "0",
                                    "BMI": "32.4",
                                    "DiabetesPedigreeFunction": "0.393",
                                    "Age": "21",
                                    "Outcome": "0"
                                },
                                {
                                    "Pregnancies": "4",
                                    "Glucose": "94",
                                    "BloodPressure": "65",
                                    "SkinThickness": "22",
                                    "Insulin": "0",
                                    "BMI": "24.7",
                                    "DiabetesPedigreeFunction": "0.148",
                                    "Age": "21",
                                    "Outcome": "0"
                                },
                                {
                                    "Pregnancies": "0",
                                    "Glucose": "102",
                                    "BloodPressure": "78",
                                    "SkinThickness": "40",
                                    "Insulin": "90",
                                    "BMI": "34.5",
                                    "DiabetesPedigreeFunction": "0.238",
                                    "Age": "24",
                                    "Outcome": "0"
                                },
                                {
                                    "Pregnancies": "2",
                                    "Glucose": "111",
                                    "BloodPressure": "60",
                                    "SkinThickness": "0",
                                    "Insulin": "0",
                                    "BMI": "26.2",
                                    "DiabetesPedigreeFunction": "0.343",
                                    "Age": "23",
                                    "Outcome": "0"
                                },
                                {
                                    "Pregnancies": "1",
                                    "Glucose": "128",
                                    "BloodPressure": "82",
                                    "SkinThickness": "17",
                                    "Insulin": "183",
                                    "BMI": "27.5",
                                    "DiabetesPedigreeFunction": "0.115",
                                    "Age": "22",
                                    "Outcome": "0"
                                },
                                {
                                    "Pregnancies": "2",
                                    "Glucose": "94",
                                    "BloodPressure": "76",
                                    "SkinThickness": "18",
                                    "Insulin": "66",
                                    "BMI": "31.6",
                                    "DiabetesPedigreeFunction": "0.649",
                                    "Age": "23",
                                    "Outcome": "0"
                                },
                                {
                                    "Pregnancies": "1",
                                    "Glucose": "100",
                                    "BloodPressure": "74",
                                    "SkinThickness": "12",
                                    "Insulin": "46",
                                    "BMI": "19.5",
                                    "DiabetesPedigreeFunction": "0.149",
                                    "Age": "28",
                                    "Outcome": "0"
                                },
                                {
                                    "Pregnancies": "0",
                                    "Glucose": "102",
                                    "BloodPressure": "86",
                                    "SkinThickness": "17",
                                    "Insulin": "105",
                                    "BMI": "29.3",
                                    "DiabetesPedigreeFunction": "0.695",
                                    "Age": "27",
                                    "Outcome": "0"
                                },
                                {
                                    "Pregnancies": "4",
                                    "Glucose": "128",
                                    "BloodPressure": "70",
                                    "SkinThickness": "0",
                                    "Insulin": "0",
                                    "BMI": "34.3",
                                    "DiabetesPedigreeFunction": "0.303",
                                    "Age": "24",
                                    "Outcome": "0"
                                },
                                {
                                    "Pregnancies": "3",
                                    "Glucose": "103",
                                    "BloodPressure": "72",
                                    "SkinThickness": "30",
                                    "Insulin": "152",
                                    "BMI": "27.6",
                                    "DiabetesPedigreeFunction": "0.73",
                                    "Age": "27",
                                    "Outcome": "0"
                                },
                                {
                                    "Pregnancies": "2",
                                    "Glucose": "157",
                                    "BloodPressure": "74",
                                    "SkinThickness": "35",
                                    "Insulin": "440",
                                    "BMI": "39.4",
                                    "DiabetesPedigreeFunction": "0.134",
                                    "Age": "30",
                                    "Outcome": "0"
                                },
                                {
                                    "Pregnancies": "0",
                                    "Glucose": "179",
                                    "BloodPressure": "50",
                                    "SkinThickness": "36",
                                    "Insulin": "159",
                                    "BMI": "37.8",
                                    "DiabetesPedigreeFunction": "0.455",
                                    "Age": "22",
                                    "Outcome": "1"
                                },
                                {
                                    "Pregnancies": "0",
                                    "Glucose": "107",
                                    "BloodPressure": "60",
                                    "SkinThickness": "25",
                                    "Insulin": "0",
                                    "BMI": "26.4",
                                    "DiabetesPedigreeFunction": "0.133",
                                    "Age": "23",
                                    "Outcome": "0"
                                },
                                {
                                    "Pregnancies": "1",
                                    "Glucose": "91",
                                    "BloodPressure": "54",
                                    "SkinThickness": "25",
                                    "Insulin": "100",
                                    "BMI": "25.2",
                                    "DiabetesPedigreeFunction": "0.234",
                                    "Age": "23",
                                    "Outcome": "0"
                                },
                                {
                                    "Pregnancies": "1",
                                    "Glucose": "117",
                                    "BloodPressure": "60",
                                    "SkinThickness": "23",
                                    "Insulin": "106",
                                    "BMI": "33.8",
                                    "DiabetesPedigreeFunction": "0.466",
                                    "Age": "27",
                                    "Outcome": "0"
                                },
                                {
                                    "Pregnancies": "5",
                                    "Glucose": "123",
                                    "BloodPressure": "74",
                                    "SkinThickness": "40",
                                    "Insulin": "77",
                                    "BMI": "34.1",
                                    "DiabetesPedigreeFunction": "0.269",
                                    "Age": "28",
                                    "Outcome": "0"
                                },
                                {
                                    "Pregnancies": "2",
                                    "Glucose": "120",
                                    "BloodPressure": "54",
                                    "SkinThickness": "0",
                                    "Insulin": "0",
                                    "BMI": "26.8",
                                    "DiabetesPedigreeFunction": "0.455",
                                    "Age": "27",
                                    "Outcome": "0"
                                },
                                {
                                    "Pregnancies": "1",
                                    "Glucose": "106",
                                    "BloodPressure": "70",
                                    "SkinThickness": "28",
                                    "Insulin": "135",
                                    "BMI": "34.2",
                                    "DiabetesPedigreeFunction": "0.142",
                                    "Age": "22",
                                    "Outcome": "0"
                                },
                                {
                                    "Pregnancies": "2",
                                    "Glucose": "155",
                                    "BloodPressure": "52",
                                    "SkinThickness": "27",
                                    "Insulin": "540",
                                    "BMI": "38.7",
                                    "DiabetesPedigreeFunction": "0.24",
                                    "Age": "25",
                                    "Outcome": "1"
                                },
                                {
                                    "Pregnancies": "2",
                                    "Glucose": "101",
                                    "BloodPressure": "58",
                                    "SkinThickness": "35",
                                    "Insulin": "90",
                                    "BMI": "21.8",
                                    "DiabetesPedigreeFunction": "0.155",
                                    "Age": "22",
                                    "Outcome": "0"
                                },
                                {
                                    "Pregnancies": "3",
                                    "Glucose": "80",
                                    "BloodPressure": "82",
                                    "SkinThickness": "31",
                                    "Insulin": "70",
                                    "BMI": "34.2",
                                    "DiabetesPedigreeFunction": "1.292",
                                    "Age": "27",
                                    "Outcome": "1"
                                },
                                {
                                    "Pregnancies": "1",
                                    "Glucose": "199",
                                    "BloodPressure": "76",
                                    "SkinThickness": "43",
                                    "Insulin": "0",
                                    "BMI": "42.9",
                                    "DiabetesPedigreeFunction": "1.394",
                                    "Age": "22",
                                    "Outcome": "1"
                                },
                                {
                                    "Pregnancies": "1",
                                    "Glucose": "112",
                                    "BloodPressure": "80",
                                    "SkinThickness": "45",
                                    "Insulin": "132",
                                    "BMI": "34.8",
                                    "DiabetesPedigreeFunction": "0.217",
                                    "Age": "24",
                                    "Outcome": "0"
                                },
                                {
                                    "Pregnancies": "1",
                                    "Glucose": "99",
                                    "BloodPressure": "58",
                                    "SkinThickness": "10",
                                    "Insulin": "0",
                                    "BMI": "25.4",
                                    "DiabetesPedigreeFunction": "0.551",
                                    "Age": "21",
                                    "Outcome": "0"
                                },
                                {
                                    "Pregnancies": "3",
                                    "Glucose": "123",
                                    "BloodPressure": "100",
                                    "SkinThickness": "35",
                                    "Insulin": "240",
                                    "BMI": "57.3",
                                    "DiabetesPedigreeFunction": "0.88",
                                    "Age": "22",
                                    "Outcome": "0"
                                },
                                {
                                    "Pregnancies": "0",
                                    "Glucose": "93",
                                    "BloodPressure": "60",
                                    "SkinThickness": "0",
                                    "Insulin": "0",
                                    "BMI": "35.3",
                                    "DiabetesPedigreeFunction": "0.263",
                                    "Age": "25",
                                    "Outcome": "0"
                                },
                                {
                                    "Pregnancies": "3",
                                    "Glucose": "121",
                                    "BloodPressure": "52",
                                    "SkinThickness": "0",
                                    "Insulin": "0",
                                    "BMI": "36.0",
                                    "DiabetesPedigreeFunction": "0.127",
                                    "Age": "25",
                                    "Outcome": "1"
                                },
                                {
                                    "Pregnancies": "2",
                                    "Glucose": "101",
                                    "BloodPressure": "58",
                                    "SkinThickness": "17",
                                    "Insulin": "265",
                                    "BMI": "24.2",
                                    "DiabetesPedigreeFunction": "0.614",
                                    "Age": "23",
                                    "Outcome": "0"
                                },
                                {
                                    "Pregnancies": "2",
                                    "Glucose": "56",
                                    "BloodPressure": "56",
                                    "SkinThickness": "28",
                                    "Insulin": "45",
                                    "BMI": "24.2",
                                    "DiabetesPedigreeFunction": "0.332",
                                    "Age": "22",
                                    "Outcome": "0"
                                },
                                {
                                    "Pregnancies": "0",
                                    "Glucose": "162",
                                    "BloodPressure": "76",
                                    "SkinThickness": "36",
                                    "Insulin": "0",
                                    "BMI": "49.6",
                                    "DiabetesPedigreeFunction": "0.364",
                                    "Age": "26",
                                    "Outcome": "1"
                                },
                                {
                                    "Pregnancies": "0",
                                    "Glucose": "95",
                                    "BloodPressure": "64",
                                    "SkinThickness": "39",
                                    "Insulin": "105",
                                    "BMI": "44.6",
                                    "DiabetesPedigreeFunction": "0.366",
                                    "Age": "22",
                                    "Outcome": "0"
                                },
                                {
                                    "Pregnancies": "4",
                                    "Glucose": "125",
                                    "BloodPressure": "80",
                                    "SkinThickness": "0",
                                    "Insulin": "0",
                                    "BMI": "32.3",
                                    "DiabetesPedigreeFunction": "0.536",
                                    "Age": "27",
                                    "Outcome": "1"
                                },
                                {
                                    "Pregnancies": "2",
                                    "Glucose": "129",
                                    "BloodPressure": "74",
                                    "SkinThickness": "26",
                                    "Insulin": "205",
                                    "BMI": "33.2",
                                    "DiabetesPedigreeFunction": "0.591",
                                    "Age": "25",
                                    "Outcome": "0"
                                },
                                {
                                    "Pregnancies": "3",
                                    "Glucose": "130",
                                    "BloodPressure": "64",
                                    "SkinThickness": "0",
                                    "Insulin": "0",
                                    "BMI": "23.1",
                                    "DiabetesPedigreeFunction": "0.314",
                                    "Age": "22",
                                    "Outcome": "0"
                                },
                                {
                                    "Pregnancies": "1",
                                    "Glucose": "107",
                                    "BloodPressure": "50",
                                    "SkinThickness": "19",
                                    "Insulin": "0",
                                    "BMI": "28.3",
                                    "DiabetesPedigreeFunction": "0.181",
                                    "Age": "29",
                                    "Outcome": "0"
                                },
                                {
                                    "Pregnancies": "1",
                                    "Glucose": "140",
                                    "BloodPressure": "74",
                                    "SkinThickness": "26",
                                    "Insulin": "180",
                                    "BMI": "24.1",
                                    "DiabetesPedigreeFunction": "0.828",
                                    "Age": "23",
                                    "Outcome": "0"
                                },
                                {
                                    "Pregnancies": "2",
                                    "Glucose": "121",
                                    "BloodPressure": "70",
                                    "SkinThickness": "32",
                                    "Insulin": "95",
                                    "BMI": "39.1",
                                    "DiabetesPedigreeFunction": "0.886",
                                    "Age": "23",
                                    "Outcome": "0"
                                },
                                {
                                    "Pregnancies": "2",
                                    "Glucose": "90",
                                    "BloodPressure": "60",
                                    "SkinThickness": "0",
                                    "Insulin": "0",
                                    "BMI": "23.5",
                                    "DiabetesPedigreeFunction": "0.191",
                                    "Age": "25",
                                    "Outcome": "0"
                                },
                                {
                                    "Pregnancies": "0",
                                    "Glucose": "99",
                                    "BloodPressure": "0",
                                    "SkinThickness": "0",
                                    "Insulin": "0",
                                    "BMI": "25.0",
                                    "DiabetesPedigreeFunction": "0.253",
                                    "Age": "22",
                                    "Outcome": "0"
                                },
                                {
                                    "Pregnancies": "4",
                                    "Glucose": "127",
                                    "BloodPressure": "88",
                                    "SkinThickness": "11",
                                    "Insulin": "155",
                                    "BMI": "34.5",
                                    "DiabetesPedigreeFunction": "0.598",
                                    "Age": "28",
                                    "Outcome": "0"
                                },
                                {
                                    "Pregnancies": "4",
                                    "Glucose": "118",
                                    "BloodPressure": "70",
                                    "SkinThickness": "0",
                                    "Insulin": "0",
                                    "BMI": "44.5",
                                    "DiabetesPedigreeFunction": "0.904",
                                    "Age": "26",
                                    "Outcome": "0"
                                },
                                {
                                    "Pregnancies": "2",
                                    "Glucose": "122",
                                    "BloodPressure": "76",
                                    "SkinThickness": "27",
                                    "Insulin": "200",
                                    "BMI": "35.9",
                                    "DiabetesPedigreeFunction": "0.483",
                                    "Age": "26",
                                    "Outcome": "0"
                                },
                                {
                                    "Pregnancies": "4",
                                    "Glucose": "110",
                                    "BloodPressure": "76",
                                    "SkinThickness": "20",
                                    "Insulin": "100",
                                    "BMI": "28.4",
                                    "DiabetesPedigreeFunction": "0.118",
                                    "Age": "27",
                                    "Outcome": "0"
                                },
                                {
                                    "Pregnancies": "6",
                                    "Glucose": "80",
                                    "BloodPressure": "80",
                                    "SkinThickness": "36",
                                    "Insulin": "0",
                                    "BMI": "39.8",
                                    "DiabetesPedigreeFunction": "0.177",
                                    "Age": "28",
                                    "Outcome": "0"
                                },
                                {
                                    "Pregnancies": "10",
                                    "Glucose": "115",
                                    "BloodPressure": "0",
                                    "SkinThickness": "0",
                                    "Insulin": "0",
                                    "BMI": "0.0",
                                    "DiabetesPedigreeFunction": "0.261",
                                    "Age": "30",
                                    "Outcome": "1"
                                },
                                {
                                    "Pregnancies": "2",
                                    "Glucose": "127",
                                    "BloodPressure": "46",
                                    "SkinThickness": "21",
                                    "Insulin": "335",
                                    "BMI": "34.4",
                                    "DiabetesPedigreeFunction": "0.176",
                                    "Age": "22",
                                    "Outcome": "0"
                                },
                                {
                                    "Pregnancies": "2",
                                    "Glucose": "93",
                                    "BloodPressure": "64",
                                    "SkinThickness": "32",
                                    "Insulin": "160",
                                    "BMI": "38.0",
                                    "DiabetesPedigreeFunction": "0.674",
                                    "Age": "23",
                                    "Outcome": "1"
                                },
                                {
                                    "Pregnancies": "3",
                                    "Glucose": "158",
                                    "BloodPressure": "64",
                                    "SkinThickness": "13",
                                    "Insulin": "387",
                                    "BMI": "31.2",
                                    "DiabetesPedigreeFunction": "0.295",
                                    "Age": "24",
                                    "Outcome": "0"
                                },
                                {
                                    "Pregnancies": "0",
                                    "Glucose": "134",
                                    "BloodPressure": "58",
                                    "SkinThickness": "20",
                                    "Insulin": "291",
                                    "BMI": "26.4",
                                    "DiabetesPedigreeFunction": "0.352",
                                    "Age": "21",
                                    "Outcome": "0"
                                },
                                {
                                    "Pregnancies": "1",
                                    "Glucose": "108",
                                    "BloodPressure": "60",
                                    "SkinThickness": "46",
                                    "Insulin": "178",
                                    "BMI": "35.5",
                                    "DiabetesPedigreeFunction": "0.415",
                                    "Age": "24",
                                    "Outcome": "0"
                                },
                                {
                                    "Pregnancies": "1",
                                    "Glucose": "114",
                                    "BloodPressure": "66",
                                    "SkinThickness": "36",
                                    "Insulin": "200",
                                    "BMI": "38.1",
                                    "DiabetesPedigreeFunction": "0.289",
                                    "Age": "21",
                                    "Outcome": "0"
                                },
                                {
                                    "Pregnancies": "1",
                                    "Glucose": "116",
                                    "BloodPressure": "78",
                                    "SkinThickness": "29",
                                    "Insulin": "180",
                                    "BMI": "36.1",
                                    "DiabetesPedigreeFunction": "0.496",
                                    "Age": "25",
                                    "Outcome": "0"
                                },
                                {
                                    "Pregnancies": "0",
                                    "Glucose": "141",
                                    "BloodPressure": "84",
                                    "SkinThickness": "26",
                                    "Insulin": "0",
                                    "BMI": "32.4",
                                    "DiabetesPedigreeFunction": "0.433",
                                    "Age": "22",
                                    "Outcome": "0"
                                },
                                {
                                    "Pregnancies": "2",
                                    "Glucose": "175",
                                    "BloodPressure": "88",
                                    "SkinThickness": "0",
                                    "Insulin": "0",
                                    "BMI": "22.9",
                                    "DiabetesPedigreeFunction": "0.326",
                                    "Age": "22",
                                    "Outcome": "0"
                                },
                                {
                                    "Pregnancies": "2",
                                    "Glucose": "92",
                                    "BloodPressure": "52",
                                    "SkinThickness": "0",
                                    "Insulin": "0",
                                    "BMI": "30.1",
                                    "DiabetesPedigreeFunction": "0.141",
                                    "Age": "22",
                                    "Outcome": "0"
                                },
                                {
                                    "Pregnancies": "8",
                                    "Glucose": "120",
                                    "BloodPressure": "86",
                                    "SkinThickness": "0",
                                    "Insulin": "0",
                                    "BMI": "28.4",
                                    "DiabetesPedigreeFunction": "0.259",
                                    "Age": "22",
                                    "Outcome": "1"
                                },
                                {
                                    "Pregnancies": "2",
                                    "Glucose": "174",
                                    "BloodPressure": "88",
                                    "SkinThickness": "37",
                                    "Insulin": "120",
                                    "BMI": "44.5",
                                    "DiabetesPedigreeFunction": "0.646",
                                    "Age": "24",
                                    "Outcome": "1"
                                },
                                {
                                    "Pregnancies": "2",
                                    "Glucose": "106",
                                    "BloodPressure": "56",
                                    "SkinThickness": "27",
                                    "Insulin": "165",
                                    "BMI": "29.0",
                                    "DiabetesPedigreeFunction": "0.426",
                                    "Age": "22",
                                    "Outcome": "0"
                                },
                                {
                                    "Pregnancies": "4",
                                    "Glucose": "95",
                                    "BloodPressure": "60",
                                    "SkinThickness": "32",
                                    "Insulin": "0",
                                    "BMI": "35.4",
                                    "DiabetesPedigreeFunction": "0.284",
                                    "Age": "28",
                                    "Outcome": "0"
                                },
                                {
                                    "Pregnancies": "0",
                                    "Glucose": "126",
                                    "BloodPressure": "86",
                                    "SkinThickness": "27",
                                    "Insulin": "120",
                                    "BMI": "27.4",
                                    "DiabetesPedigreeFunction": "0.515",
                                    "Age": "21",
                                    "Outcome": "0"
                                },
                                {
                                    "Pregnancies": "2",
                                    "Glucose": "99",
                                    "BloodPressure": "60",
                                    "SkinThickness": "17",
                                    "Insulin": "160",
                                    "BMI": "36.6",
                                    "DiabetesPedigreeFunction": "0.453",
                                    "Age": "21",
                                    "Outcome": "0"
                                },
                                {
                                    "Pregnancies": "3",
                                    "Glucose": "102",
                                    "BloodPressure": "44",
                                    "SkinThickness": "20",
                                    "Insulin": "94",
                                    "BMI": "30.8",
                                    "DiabetesPedigreeFunction": "0.4",
                                    "Age": "26",
                                    "Outcome": "0"
                                },
                                {
                                    "Pregnancies": "1",
                                    "Glucose": "109",
                                    "BloodPressure": "58",
                                    "SkinThickness": "18",
                                    "Insulin": "116",
                                    "BMI": "28.5",
                                    "DiabetesPedigreeFunction": "0.219",
                                    "Age": "22",
                                    "Outcome": "0"
                                },
                                {
                                    "Pregnancies": "1",
                                    "Glucose": "147",
                                    "BloodPressure": "94",
                                    "SkinThickness": "41",
                                    "Insulin": "0",
                                    "BMI": "49.3",
                                    "DiabetesPedigreeFunction": "0.358",
                                    "Age": "27",
                                    "Outcome": "1"
                                },
                                {
                                    "Pregnancies": "4",
                                    "Glucose": "136",
                                    "BloodPressure": "70",
                                    "SkinThickness": "0",
                                    "Insulin": "0",
                                    "BMI": "31.2",
                                    "DiabetesPedigreeFunction": "1.182",
                                    "Age": "22",
                                    "Outcome": "1"
                                },
                                {
                                    "Pregnancies": "1",
                                    "Glucose": "121",
                                    "BloodPressure": "78",
                                    "SkinThickness": "39",
                                    "Insulin": "74",
                                    "BMI": "39.0",
                                    "DiabetesPedigreeFunction": "0.261",
                                    "Age": "28",
                                    "Outcome": "0"
                                },
                                {
                                    "Pregnancies": "3",
                                    "Glucose": "108",
                                    "BloodPressure": "62",
                                    "SkinThickness": "24",
                                    "Insulin": "0",
                                    "BMI": "26.0",
                                    "DiabetesPedigreeFunction": "0.223",
                                    "Age": "25",
                                    "Outcome": "0"
                                },
                                {
                                    "Pregnancies": "0",
                                    "Glucose": "181",
                                    "BloodPressure": "88",
                                    "SkinThickness": "44",
                                    "Insulin": "510",
                                    "BMI": "43.3",
                                    "DiabetesPedigreeFunction": "0.222",
                                    "Age": "26",
                                    "Outcome": "1"
                                },
                                {
                                    "Pregnancies": "1",
                                    "Glucose": "106",
                                    "BloodPressure": "76",
                                    "SkinThickness": "0",
                                    "Insulin": "0",
                                    "BMI": "37.5",
                                    "DiabetesPedigreeFunction": "0.197",
                                    "Age": "26",
                                    "Outcome": "0"
                                },
                                {
                                    "Pregnancies": "2",
                                    "Glucose": "88",
                                    "BloodPressure": "58",
                                    "SkinThickness": "26",
                                    "Insulin": "16",
                                    "BMI": "28.4",
                                    "DiabetesPedigreeFunction": "0.766",
                                    "Age": "22",
                                    "Outcome": "0"
                                },
                                {
                                    "Pregnancies": "2",
                                    "Glucose": "122",
                                    "BloodPressure": "70",
                                    "SkinThickness": "27",
                                    "Insulin": "0",
                                    "BMI": "36.8",
                                    "DiabetesPedigreeFunction": "0.34",
                                    "Age": "27",
                                    "Outcome": "0"
                                },
                                {
                                    "Pregnancies": "5",
                                    "Glucose": "121",
                                    "BloodPressure": "72",
                                    "SkinThickness": "23",
                                    "Insulin": "112",
                                    "BMI": "26.2",
                                    "DiabetesPedigreeFunction": "0.245",
                                    "Age": "30",
                                    "Outcome": "0"
                                },
                                {
                                    "Pregnancies": "1",
                                    "Glucose": "93",
                                    "BloodPressure": "70",
                                    "SkinThickness": "31",
                                    "Insulin": "0",
                                    "BMI": "30.4",
                                    "DiabetesPedigreeFunction": "0.315",
                                    "Age": "23",
                                    "Outcome": "0"
                                }
                            ]
                        },
                        "text/html": [
                            "<table>",
                            "<tr><th>Pregnancies</th><th>Glucose</th><th>BloodPressure</th><th>SkinThickness</th><th>Insulin</th><th>BMI</th><th>DiabetesPedigreeFunction</th><th>Age</th><th>Outcome</th></tr>",
                            "<tr><td>1</td><td>89</td><td>66</td><td>23</td><td>94</td><td>28.1</td><td>0.167</td><td>21</td><td>0</td></tr>",
                            "<tr><td>5</td><td>116</td><td>74</td><td>0</td><td>0</td><td>25.6</td><td>0.201</td><td>30</td><td>0</td></tr>",
                            "<tr><td>3</td><td>78</td><td>50</td><td>32</td><td>88</td><td>31.0</td><td>0.248</td><td>26</td><td>1</td></tr>",
                            "<tr><td>10</td><td>115</td><td>0</td><td>0</td><td>0</td><td>35.3</td><td>0.134</td><td>29</td><td>0</td></tr>",
                            "<tr><td>4</td><td>110</td><td>92</td><td>0</td><td>0</td><td>37.6</td><td>0.191</td><td>30</td><td>0</td></tr>",
                            "<tr><td>3</td><td>126</td><td>88</td><td>41</td><td>235</td><td>39.3</td><td>0.704</td><td>27</td><td>0</td></tr>",
                            "<tr><td>9</td><td>119</td><td>80</td><td>35</td><td>0</td><td>29.0</td><td>0.263</td><td>29</td><td>1</td></tr>",
                            "<tr><td>1</td><td>97</td><td>66</td><td>15</td><td>140</td><td>23.2</td><td>0.487</td><td>22</td><td>0</td></tr>",
                            "<tr><td>3</td><td>158</td><td>76</td><td>36</td><td>245</td><td>31.6</td><td>0.851</td><td>28</td><td>1</td></tr>",
                            "<tr><td>3</td><td>88</td><td>58</td><td>11</td><td>54</td><td>24.8</td><td>0.267</td><td>22</td><td>0</td></tr>",
                            "<tr><td>6</td><td>92</td><td>92</td><td>0</td><td>0</td><td>19.9</td><td>0.188</td><td>28</td><td>0</td></tr>",
                            "<tr><td>2</td><td>90</td><td>68</td><td>42</td><td>0</td><td>38.2</td><td>0.503</td><td>27</td><td>1</td></tr>",
                            "<tr><td>3</td><td>180</td><td>64</td><td>25</td><td>70</td><td>34.0</td><td>0.271</td><td>26</td><td>0</td></tr>",
                            "<tr><td>0</td><td>180</td><td>66</td><td>39</td><td>0</td><td>42.0</td><td>1.893</td><td>25</td><td>1</td></tr>",
                            "<tr><td>1</td><td>146</td><td>56</td><td>0</td><td>0</td><td>29.7</td><td>0.564</td><td>29</td><td>0</td></tr>",
                            "<tr><td>2</td><td>71</td><td>70</td><td>27</td><td>0</td><td>28.0</td><td>0.586</td><td>22</td><td>0</td></tr>",
                            "<tr><td>7</td><td>105</td><td>0</td><td>0</td><td>0</td><td>0.0</td><td>0.305</td><td>24</td><td>0</td></tr>",
                            "<tr><td>1</td><td>103</td><td>80</td><td>11</td><td>82</td><td>19.4</td><td>0.491</td><td>22</td><td>0</td></tr>",
                            "<tr><td>1</td><td>101</td><td>50</td><td>15</td><td>36</td><td>24.2</td><td>0.526</td><td>26</td><td>0</td></tr>",
                            "<tr><td>5</td><td>88</td><td>66</td><td>21</td><td>23</td><td>24.4</td><td>0.342</td><td>30</td><td>0</td></tr>",
                            "<tr><td>1</td><td>73</td><td>50</td><td>10</td><td>0</td><td>23.0</td><td>0.248</td><td>21</td><td>0</td></tr>",
                            "<tr><td>0</td><td>105</td><td>64</td><td>41</td><td>142</td><td>41.5</td><td>0.173</td><td>22</td><td>0</td></tr>",
                            "<tr><td>2</td><td>84</td><td>0</td><td>0</td><td>0</td><td>0.0</td><td>0.304</td><td>21</td><td>0</td></tr>",
                            "<tr><td>2</td><td>141</td><td>58</td><td>34</td><td>128</td><td>25.4</td><td>0.699</td><td>24</td><td>0</td></tr>",
                            "<tr><td>1</td><td>95</td><td>66</td><td>13</td><td>38</td><td>19.6</td><td>0.334</td><td>25</td><td>0</td></tr>",
                            "<tr><td>4</td><td>146</td><td>85</td><td>27</td><td>100</td><td>28.9</td><td>0.189</td><td>27</td><td>0</td></tr>",
                            "<tr><td>2</td><td>100</td><td>66</td><td>20</td><td>90</td><td>32.9</td><td>0.867</td><td>28</td><td>1</td></tr>",
                            "<tr><td>5</td><td>139</td><td>64</td><td>35</td><td>140</td><td>28.6</td><td>0.411</td><td>26</td><td>0</td></tr>",
                            "<tr><td>4</td><td>129</td><td>86</td><td>20</td><td>270</td><td>35.1</td><td>0.231</td><td>23</td><td>0</td></tr>",
                            "<tr><td>1</td><td>79</td><td>75</td><td>30</td><td>0</td><td>32.0</td><td>0.396</td><td>22</td><td>0</td></tr>",
                            "<tr><td>1</td><td>0</td><td>48</td><td>20</td><td>0</td><td>24.7</td><td>0.14</td><td>22</td><td>0</td></tr>",
                            "<tr><td>5</td><td>95</td><td>72</td><td>33</td><td>0</td><td>37.7</td><td>0.37</td><td>27</td><td>0</td></tr>",
                            "<tr><td>0</td><td>131</td><td>0</td><td>0</td><td>0</td><td>43.2</td><td>0.27</td><td>26</td><td>1</td></tr>",
                            "<tr><td>2</td><td>112</td><td>66</td><td>22</td><td>0</td><td>25.0</td><td>0.307</td><td>24</td><td>0</td></tr>",
                            "<tr><td>3</td><td>113</td><td>44</td><td>13</td><td>0</td><td>22.4</td><td>0.14</td><td>22</td><td>0</td></tr>",
                            "<tr><td>2</td><td>74</td><td>0</td><td>0</td><td>0</td><td>0.0</td><td>0.102</td><td>22</td><td>0</td></tr>",
                            "<tr><td>0</td><td>101</td><td>65</td><td>28</td><td>0</td><td>24.6</td><td>0.237</td><td>22</td><td>0</td></tr>",
                            "<tr><td>2</td><td>110</td><td>74</td><td>29</td><td>125</td><td>32.4</td><td>0.698</td><td>27</td><td>0</td></tr>",
                            "<tr><td>2</td><td>100</td><td>68</td><td>25</td><td>71</td><td>38.5</td><td>0.324</td><td>26</td><td>0</td></tr>",
                            "<tr><td>1</td><td>107</td><td>68</td><td>19</td><td>0</td><td>26.5</td><td>0.165</td><td>24</td><td>0</td></tr>",
                            "<tr><td>1</td><td>80</td><td>55</td><td>0</td><td>0</td><td>19.1</td><td>0.258</td><td>21</td><td>0</td></tr>",
                            "<tr><td>2</td><td>142</td><td>82</td><td>18</td><td>64</td><td>24.7</td><td>0.761</td><td>21</td><td>0</td></tr>",
                            "<tr><td>2</td><td>92</td><td>62</td><td>28</td><td>0</td><td>31.6</td><td>0.13</td><td>24</td><td>0</td></tr>",
                            "<tr><td>1</td><td>71</td><td>48</td><td>18</td><td>76</td><td>20.4</td><td>0.323</td><td>22</td><td>0</td></tr>",
                            "<tr><td>6</td><td>93</td><td>50</td><td>30</td><td>64</td><td>28.7</td><td>0.356</td><td>23</td><td>0</td></tr>",
                            "<tr><td>1</td><td>151</td><td>60</td><td>0</td><td>0</td><td>26.1</td><td>0.179</td><td>22</td><td>0</td></tr>",
                            "<tr><td>0</td><td>125</td><td>96</td><td>0</td><td>0</td><td>22.5</td><td>0.262</td><td>21</td><td>0</td></tr>",
                            "<tr><td>1</td><td>81</td><td>72</td><td>18</td><td>40</td><td>26.6</td><td>0.283</td><td>24</td><td>0</td></tr>",
                            "<tr><td>2</td><td>85</td><td>65</td><td>0</td><td>0</td><td>39.6</td><td>0.93</td><td>27</td><td>0</td></tr>",
                            "<tr><td>1</td><td>126</td><td>56</td><td>29</td><td>152</td><td>28.7</td><td>0.801</td><td>21</td><td>0</td></tr>",
                            "<tr><td>1</td><td>96</td><td>122</td><td>0</td><td>0</td><td>22.4</td><td>0.207</td><td>27</td><td>0</td></tr>",
                            "<tr><td>3</td><td>83</td><td>58</td><td>31</td><td>18</td><td>34.3</td><td>0.336</td><td>25</td><td>0</td></tr>",
                            "<tr><td>0</td><td>95</td><td>85</td><td>25</td><td>36</td><td>37.4</td><td>0.247</td><td>24</td><td>1</td></tr>",
                            "<tr><td>3</td><td>171</td><td>72</td><td>33</td><td>135</td><td>33.3</td><td>0.199</td><td>24</td><td>1</td></tr>",
                            "<tr><td>1</td><td>89</td><td>76</td><td>34</td><td>37</td><td>31.2</td><td>0.192</td><td>23</td><td>0</td></tr>",
                            "<tr><td>4</td><td>76</td><td>62</td><td>0</td><td>0</td><td>34.0</td><td>0.391</td><td>25</td><td>0</td></tr>",
                            "<tr><td>5</td><td>78</td><td>48</td><td>0</td><td>0</td><td>33.7</td><td>0.654</td><td>25</td><td>0</td></tr>",
                            "<tr><td>4</td><td>97</td><td>60</td><td>23</td><td>0</td><td>28.2</td><td>0.443</td><td>22</td><td>0</td></tr>",
                            "<tr><td>4</td><td>99</td><td>76</td><td>15</td><td>51</td><td>23.2</td><td>0.223</td><td>21</td><td>0</td></tr>",
                            "<tr><td>0</td><td>162</td><td>76</td><td>56</td><td>100</td><td>53.2</td><td>0.759</td><td>25</td><td>1</td></tr>",
                            "<tr><td>6</td><td>111</td><td>64</td><td>39</td><td>0</td><td>34.2</td><td>0.26</td><td>24</td><td>0</td></tr>",
                            "<tr><td>2</td><td>107</td><td>74</td><td>30</td><td>100</td><td>33.6</td><td>0.404</td><td>23</td><td>0</td></tr>",
                            "<tr><td>0</td><td>113</td><td>76</td><td>0</td><td>0</td><td>33.3</td><td>0.278</td><td>23</td><td>1</td></tr>",
                            "<tr><td>1</td><td>88</td><td>30</td><td>42</td><td>99</td><td>55.0</td><td>0.496</td><td>26</td><td>1</td></tr>",
                            "<tr><td>3</td><td>120</td><td>70</td><td>30</td><td>135</td><td>42.9</td><td>0.452</td><td>30</td><td>0</td></tr>",
                            "<tr><td>1</td><td>118</td><td>58</td><td>36</td><td>94</td><td>33.3</td><td>0.261</td><td>23</td><td>0</td></tr>",
                            "<tr><td>3</td><td>170</td><td>64</td><td>37</td><td>225</td><td>34.5</td><td>0.356</td><td>30</td><td>1</td></tr>",
                            "<tr><td>2</td><td>96</td><td>68</td><td>13</td><td>49</td><td>21.1</td><td>0.647</td><td>26</td><td>0</td></tr>",
                            "<tr><td>0</td><td>100</td><td>70</td><td>26</td><td>50</td><td>30.8</td><td>0.597</td><td>21</td><td>0</td></tr>",
                            "<tr><td>0</td><td>93</td><td>60</td><td>25</td><td>92</td><td>28.7</td><td>0.532</td><td>22</td><td>0</td></tr>",
                            "<tr><td>0</td><td>129</td><td>80</td><td>0</td><td>0</td><td>31.2</td><td>0.703</td><td>29</td><td>0</td></tr>",
                            "<tr><td>5</td><td>105</td><td>72</td><td>29</td><td>325</td><td>36.9</td><td>0.159</td><td>28</td><td>0</td></tr>",
                            "<tr><td>2</td><td>108</td><td>52</td><td>26</td><td>63</td><td>32.5</td><td>0.318</td><td>22</td><td>0</td></tr>",
                            "<tr><td>4</td><td>154</td><td>62</td><td>31</td><td>284</td><td>32.8</td><td>0.237</td><td>23</td><td>0</td></tr>",
                            "<tr><td>0</td><td>102</td><td>75</td><td>23</td><td>0</td><td>0.0</td><td>0.572</td><td>21</td><td>0</td></tr>",
                            "<tr><td>2</td><td>90</td><td>70</td><td>17</td><td>0</td><td>27.3</td><td>0.085</td><td>22</td><td>0</td></tr>",
                            "<tr><td>1</td><td>136</td><td>74</td><td>50</td><td>204</td><td>37.4</td><td>0.399</td><td>24</td><td>0</td></tr>",
                            "<tr><td>1</td><td>153</td><td>82</td><td>42</td><td>485</td><td>40.6</td><td>0.687</td><td>23</td><td>0</td></tr>",
                            "<tr><td>2</td><td>99</td><td>52</td><td>15</td><td>94</td><td>24.6</td><td>0.637</td><td>21</td><td>0</td></tr>",
                            "<tr><td>1</td><td>109</td><td>56</td><td>21</td><td>135</td><td>25.2</td><td>0.833</td><td>23</td><td>0</td></tr>",
                            "<tr><td>2</td><td>88</td><td>74</td><td>19</td><td>53</td><td>29.0</td><td>0.229</td><td>22</td><td>0</td></tr>",
                            "<tr><td>0</td><td>114</td><td>80</td><td>34</td><td>285</td><td>44.2</td><td>0.167</td><td>27</td><td>0</td></tr>",
                            "<tr><td>2</td><td>100</td><td>64</td><td>23</td><td>0</td><td>29.7</td><td>0.368</td><td>21</td><td>0</td></tr>",
                            "<tr><td>3</td><td>148</td><td>66</td><td>25</td><td>0</td><td>32.5</td><td>0.256</td><td>22</td><td>0</td></tr>",
                            "<tr><td>4</td><td>110</td><td>66</td><td>0</td><td>0</td><td>31.9</td><td>0.471</td><td>29</td><td>0</td></tr>",
                            "<tr><td>3</td><td>111</td><td>90</td><td>12</td><td>78</td><td>28.4</td><td>0.495</td><td>29</td><td>0</td></tr>",
                            "<tr><td>6</td><td>134</td><td>70</td><td>23</td><td>130</td><td>35.4</td><td>0.542</td><td>29</td><td>1</td></tr>",
                            "<tr><td>2</td><td>87</td><td>0</td><td>23</td><td>0</td><td>28.9</td><td>0.773</td><td>25</td><td>0</td></tr>",
                            "<tr><td>1</td><td>79</td><td>60</td><td>42</td><td>48</td><td>43.5</td><td>0.678</td><td>23</td><td>0</td></tr>",
                            "<tr><td>0</td><td>129</td><td>110</td><td>46</td><td>130</td><td>67.1</td><td>0.319</td><td>26</td><td>1</td></tr>",
                            "<tr><td>0</td><td>119</td><td>64</td><td>18</td><td>92</td><td>34.9</td><td>0.725</td><td>23</td><td>0</td></tr>",
                            "<tr><td>1</td><td>0</td><td>74</td><td>20</td><td>23</td><td>27.7</td><td>0.299</td><td>21</td><td>0</td></tr>",
                            "<tr><td>5</td><td>73</td><td>60</td><td>0</td><td>0</td><td>26.8</td><td>0.268</td><td>27</td><td>0</td></tr>",
                            "<tr><td>5</td><td>139</td><td>80</td><td>35</td><td>160</td><td>31.6</td><td>0.361</td><td>25</td><td>1</td></tr>",
                            "<tr><td>3</td><td>111</td><td>62</td><td>0</td><td>0</td><td>22.6</td><td>0.142</td><td>21</td><td>0</td></tr>",
                            "<tr><td>5</td><td>158</td><td>84</td><td>41</td><td>210</td><td>39.4</td><td>0.395</td><td>29</td><td>1</td></tr>",
                            "<tr><td>1</td><td>105</td><td>58</td><td>0</td><td>0</td><td>24.3</td><td>0.187</td><td>21</td><td>0</td></tr>",
                            "<tr><td>3</td><td>107</td><td>62</td><td>13</td><td>48</td><td>22.9</td><td>0.678</td><td>23</td><td>1</td></tr>",
                            "<tr><td>4</td><td>109</td><td>64</td><td>44</td><td>99</td><td>34.8</td><td>0.905</td><td>26</td><td>1</td></tr>",
                            "<tr><td>4</td><td>148</td><td>60</td><td>27</td><td>318</td><td>30.9</td><td>0.15</td><td>29</td><td>1</td></tr>",
                            "<tr><td>0</td><td>113</td><td>80</td><td>16</td><td>0</td><td>31.0</td><td>0.874</td><td>21</td><td>0</td></tr>",
                            "<tr><td>1</td><td>138</td><td>82</td><td>0</td><td>0</td><td>40.1</td><td>0.236</td><td>28</td><td>0</td></tr>",
                            "<tr><td>2</td><td>99</td><td>70</td><td>16</td><td>44</td><td>20.4</td><td>0.235</td><td>27</td><td>0</td></tr>",
                            "<tr><td>5</td><td>111</td><td>72</td><td>28</td><td>0</td><td>23.9</td><td>0.407</td><td>27</td><td>0</td></tr>",
                            "<tr><td>1</td><td>96</td><td>64</td><td>27</td><td>87</td><td>33.2</td><td>0.289</td><td>21</td><td>0</td></tr>",
                            "<tr><td>2</td><td>81</td><td>60</td><td>22</td><td>0</td><td>27.7</td><td>0.29</td><td>25</td><td>0</td></tr>",
                            "<tr><td>0</td><td>147</td><td>85</td><td>54</td><td>0</td><td>42.8</td><td>0.375</td><td>24</td><td>0</td></tr>",
                            "<tr><td>0</td><td>140</td><td>65</td><td>26</td><td>130</td><td>42.6</td><td>0.431</td><td>24</td><td>1</td></tr>",
                            "<tr><td>5</td><td>109</td><td>62</td><td>41</td><td>129</td><td>35.8</td><td>0.514</td><td>25</td><td>1</td></tr>",
                            "<tr><td>0</td><td>177</td><td>60</td><td>29</td><td>478</td><td>34.6</td><td>1.072</td><td>21</td><td>1</td></tr>",
                            "<tr><td>1</td><td>100</td><td>66</td><td>15</td><td>56</td><td>23.6</td><td>0.666</td><td>26</td><td>0</td></tr>",
                            "<tr><td>1</td><td>87</td><td>78</td><td>27</td><td>32</td><td>34.6</td><td>0.101</td><td>22</td><td>0</td></tr>",
                            "<tr><td>0</td><td>101</td><td>76</td><td>0</td><td>0</td><td>35.7</td><td>0.198</td><td>26</td><td>0</td></tr>",
                            "<tr><td>3</td><td>162</td><td>52</td><td>38</td><td>0</td><td>37.2</td><td>0.652</td><td>24</td><td>1</td></tr>",
                            "<tr><td>0</td><td>117</td><td>80</td><td>31</td><td>53</td><td>45.2</td><td>0.089</td><td>24</td><td>0</td></tr>",
                            "<tr><td>4</td><td>142</td><td>86</td><td>0</td><td>0</td><td>44.0</td><td>0.645</td><td>22</td><td>1</td></tr>",
                            "<tr><td>1</td><td>79</td><td>80</td><td>25</td><td>37</td><td>25.4</td><td>0.583</td><td>22</td><td>0</td></tr>",
                            "<tr><td>4</td><td>122</td><td>68</td><td>0</td><td>0</td><td>35.0</td><td>0.394</td><td>29</td><td>0</td></tr>",
                            "<tr><td>3</td><td>74</td><td>68</td><td>28</td><td>45</td><td>29.7</td><td>0.293</td><td>23</td><td>0</td></tr>",
                            "<tr><td>4</td><td>171</td><td>72</td><td>0</td><td>0</td><td>43.6</td><td>0.479</td><td>26</td><td>1</td></tr>",
                            "<tr><td>0</td><td>179</td><td>90</td><td>27</td><td>0</td><td>44.1</td><td>0.686</td><td>23</td><td>1</td></tr>",
                            "<tr><td>0</td><td>104</td><td>76</td><td>0</td><td>0</td><td>18.4</td><td>0.582</td><td>27</td><td>0</td></tr>",
                            "<tr><td>1</td><td>91</td><td>64</td><td>24</td><td>0</td><td>29.2</td><td>0.192</td><td>21</td><td>0</td></tr>",
                            "<tr><td>4</td><td>91</td><td>70</td><td>32</td><td>88</td><td>33.1</td><td>0.446</td><td>22</td><td>0</td></tr>",
                            "<tr><td>3</td><td>139</td><td>54</td><td>0</td><td>0</td><td>25.6</td><td>0.402</td><td>22</td><td>1</td></tr>",
                            "<tr><td>2</td><td>146</td><td>76</td><td>35</td><td>194</td><td>38.2</td><td>0.329</td><td>29</td><td>0</td></tr>",
                            "<tr><td>0</td><td>165</td><td>90</td><td>33</td><td>680</td><td>52.3</td><td>0.427</td><td>23</td><td>0</td></tr>",
                            "<tr><td>1</td><td>111</td><td>86</td><td>19</td><td>0</td><td>30.1</td><td>0.143</td><td>23</td><td>0</td></tr>",
                            "<tr><td>2</td><td>129</td><td>84</td><td>0</td><td>0</td><td>28.0</td><td>0.284</td><td>27</td><td>0</td></tr>",
                            "<tr><td>2</td><td>90</td><td>80</td><td>14</td><td>55</td><td>24.4</td><td>0.249</td><td>24</td><td>0</td></tr>",
                            "<tr><td>0</td><td>86</td><td>68</td><td>32</td><td>0</td><td>35.8</td><td>0.238</td><td>25</td><td>0</td></tr>",
                            "<tr><td>1</td><td>113</td><td>64</td><td>35</td><td>0</td><td>33.6</td><td>0.543</td><td>21</td><td>1</td></tr>",
                            "<tr><td>3</td><td>111</td><td>56</td><td>39</td><td>0</td><td>30.1</td><td>0.557</td><td>30</td><td>0</td></tr>",
                            "<tr><td>2</td><td>114</td><td>68</td><td>22</td><td>0</td><td>28.7</td><td>0.092</td><td>25</td><td>0</td></tr>",
                            "<tr><td>1</td><td>193</td><td>50</td><td>16</td><td>375</td><td>25.9</td><td>0.655</td><td>24</td><td>0</td></tr>",
                            "<tr><td>3</td><td>141</td><td>0</td><td>0</td><td>0</td><td>30.0</td><td>0.761</td><td>27</td><td>1</td></tr>",
                            "<tr><td>4</td><td>95</td><td>70</td><td>32</td><td>0</td><td>32.1</td><td>0.612</td><td>24</td><td>0</td></tr>",
                            "<tr><td>0</td><td>138</td><td>0</td><td>0</td><td>0</td><td>36.3</td><td>0.933</td><td>25</td><td>1</td></tr>",
                            "<tr><td>2</td><td>128</td><td>64</td><td>42</td><td>0</td><td>40.0</td><td>1.101</td><td>24</td><td>0</td></tr>",
                            "<tr><td>0</td><td>102</td><td>52</td><td>0</td><td>0</td><td>25.1</td><td>0.078</td><td>21</td><td>0</td></tr>",
                            "<tr><td>2</td><td>146</td><td>0</td><td>0</td><td>0</td><td>27.5</td><td>0.24</td><td>28</td><td>1</td></tr>",
                            "<tr><td>2</td><td>108</td><td>62</td><td>32</td><td>56</td><td>25.2</td><td>0.128</td><td>21</td><td>0</td></tr>",
                            "<tr><td>1</td><td>71</td><td>78</td><td>50</td><td>45</td><td>33.2</td><td>0.422</td><td>21</td><td>0</td></tr>",
                            "<tr><td>2</td><td>100</td><td>70</td><td>52</td><td>57</td><td>40.5</td><td>0.677</td><td>25</td><td>0</td></tr>",
                            "<tr><td>7</td><td>106</td><td>60</td><td>24</td><td>0</td><td>26.5</td><td>0.296</td><td>29</td><td>1</td></tr>",
                            "<tr><td>0</td><td>104</td><td>64</td><td>23</td><td>116</td><td>27.8</td><td>0.454</td><td>23</td><td>0</td></tr>",
                            "<tr><td>2</td><td>108</td><td>62</td><td>10</td><td>278</td><td>25.3</td><td>0.881</td><td>22</td><td>0</td></tr>",
                            "<tr><td>0</td><td>146</td><td>70</td><td>0</td><td>0</td><td>37.9</td><td>0.334</td><td>28</td><td>1</td></tr>",
                            "<tr><td>1</td><td>119</td><td>86</td><td>39</td><td>220</td><td>45.6</td><td>0.808</td><td>29</td><td>1</td></tr>",
                            "<tr><td>4</td><td>96</td><td>56</td><td>17</td><td>49</td><td>20.8</td><td>0.34</td><td>26</td><td>0</td></tr>",
                            "<tr><td>0</td><td>78</td><td>88</td><td>29</td><td>40</td><td>36.9</td><td>0.434</td><td>21</td><td>0</td></tr>",
                            "<tr><td>0</td><td>107</td><td>62</td><td>30</td><td>74</td><td>36.6</td><td>0.757</td><td>25</td><td>1</td></tr>",
                            "<tr><td>1</td><td>128</td><td>48</td><td>45</td><td>194</td><td>40.5</td><td>0.613</td><td>24</td><td>1</td></tr>",
                            "<tr><td>6</td><td>151</td><td>62</td><td>31</td><td>120</td><td>35.5</td><td>0.692</td><td>28</td><td>0</td></tr>",
                            "<tr><td>2</td><td>146</td><td>70</td><td>38</td><td>360</td><td>28.0</td><td>0.337</td><td>29</td><td>1</td></tr>",
                            "<tr><td>0</td><td>126</td><td>84</td><td>29</td><td>215</td><td>30.7</td><td>0.52</td><td>24</td><td>0</td></tr>",
                            "<tr><td>0</td><td>167</td><td>0</td><td>0</td><td>0</td><td>32.3</td><td>0.839</td><td>30</td><td>1</td></tr>",
                            "<tr><td>2</td><td>144</td><td>58</td><td>33</td><td>135</td><td>31.6</td><td>0.422</td><td>25</td><td>1</td></tr>",
                            "<tr><td>5</td><td>115</td><td>98</td><td>0</td><td>0</td><td>52.9</td><td>0.209</td><td>28</td><td>1</td></tr>",
                            "<tr><td>2</td><td>120</td><td>76</td><td>37</td><td>105</td><td>39.7</td><td>0.215</td><td>29</td><td>0</td></tr>",
                            "<tr><td>0</td><td>137</td><td>68</td><td>14</td><td>148</td><td>24.8</td><td>0.143</td><td>21</td><td>0</td></tr>",
                            "<tr><td>0</td><td>128</td><td>68</td><td>19</td><td>180</td><td>30.5</td><td>1.391</td><td>25</td><td>1</td></tr>",
                            "<tr><td>2</td><td>124</td><td>68</td><td>28</td><td>205</td><td>32.9</td><td>0.875</td><td>30</td><td>1</td></tr>",
                            "<tr><td>0</td><td>106</td><td>70</td><td>37</td><td>148</td><td>39.4</td><td>0.605</td><td>22</td><td>0</td></tr>",
                            "<tr><td>2</td><td>155</td><td>74</td><td>17</td><td>96</td><td>26.6</td><td>0.433</td><td>27</td><td>1</td></tr>",
                            "<tr><td>3</td><td>113</td><td>50</td><td>10</td><td>85</td><td>29.5</td><td>0.626</td><td>25</td><td>0</td></tr>",
                            "<tr><td>2</td><td>112</td><td>68</td><td>22</td><td>94</td><td>34.1</td><td>0.315</td><td>26</td><td>0</td></tr>",
                            "<tr><td>3</td><td>99</td><td>80</td><td>11</td><td>64</td><td>19.3</td><td>0.284</td><td>30</td><td>0</td></tr>",
                            "<tr><td>3</td><td>182</td><td>74</td><td>0</td><td>0</td><td>30.5</td><td>0.345</td><td>29</td><td>1</td></tr>",
                            "<tr><td>3</td><td>115</td><td>66</td><td>39</td><td>140</td><td>38.1</td><td>0.15</td><td>28</td><td>0</td></tr>",
                            "<tr><td>3</td><td>112</td><td>74</td><td>30</td><td>0</td><td>31.6</td><td>0.197</td><td>25</td><td>1</td></tr>",
                            "<tr><td>2</td><td>112</td><td>75</td><td>32</td><td>0</td><td>35.7</td><td>0.148</td><td>21</td><td>0</td></tr>",
                            "<tr><td>1</td><td>157</td><td>72</td><td>21</td><td>168</td><td>25.6</td><td>0.123</td><td>24</td><td>0</td></tr>",
                            "<tr><td>1</td><td>122</td><td>64</td><td>32</td><td>156</td><td>35.1</td><td>0.692</td><td>30</td><td>1</td></tr>",
                            "<tr><td>2</td><td>102</td><td>86</td><td>36</td><td>120</td><td>45.5</td><td>0.127</td><td>23</td><td>1</td></tr>",
                            "<tr><td>2</td><td>87</td><td>58</td><td>16</td><td>52</td><td>32.7</td><td>0.166</td><td>25</td><td>0</td></tr>",
                            "<tr><td>1</td><td>95</td><td>60</td><td>18</td><td>58</td><td>23.9</td><td>0.26</td><td>22</td><td>0</td></tr>",
                            "<tr><td>0</td><td>165</td><td>76</td><td>43</td><td>255</td><td>47.9</td><td>0.259</td><td>26</td><td>0</td></tr>",
                            "<tr><td>1</td><td>130</td><td>70</td><td>13</td><td>105</td><td>25.9</td><td>0.472</td><td>22</td><td>0</td></tr>",
                            "<tr><td>1</td><td>0</td><td>68</td><td>35</td><td>0</td><td>32.0</td><td>0.389</td><td>22</td><td>0</td></tr>",
                            "<tr><td>1</td><td>139</td><td>46</td><td>19</td><td>83</td><td>28.7</td><td>0.654</td><td>22</td><td>0</td></tr>",
                            "<tr><td>3</td><td>116</td><td>0</td><td>0</td><td>0</td><td>23.5</td><td>0.187</td><td>23</td><td>0</td></tr>",
                            "<tr><td>3</td><td>99</td><td>62</td><td>19</td><td>74</td><td>21.8</td><td>0.279</td><td>26</td><td>0</td></tr>",
                            "<tr><td>4</td><td>92</td><td>80</td><td>0</td><td>0</td><td>42.2</td><td>0.237</td><td>29</td><td>0</td></tr>",
                            "<tr><td>4</td><td>137</td><td>84</td><td>0</td><td>0</td><td>31.2</td><td>0.252</td><td>30</td><td>0</td></tr>",
                            "<tr><td>1</td><td>90</td><td>62</td><td>12</td><td>43</td><td>27.2</td><td>0.58</td><td>24</td><td>0</td></tr>",
                            "<tr><td>3</td><td>90</td><td>78</td><td>0</td><td>0</td><td>42.7</td><td>0.559</td><td>21</td><td>0</td></tr>",
                            "<tr><td>1</td><td>125</td><td>50</td><td>40</td><td>167</td><td>33.3</td><td>0.962</td><td>28</td><td>1</td></tr>",
                            "<tr><td>1</td><td>196</td><td>76</td><td>36</td><td>249</td><td>36.5</td><td>0.875</td><td>29</td><td>1</td></tr>",
                            "<tr><td>5</td><td>189</td><td>64</td><td>33</td><td>325</td><td>31.2</td><td>0.583</td><td>29</td><td>1</td></tr>",
                            "<tr><td>4</td><td>147</td><td>74</td><td>25</td><td>293</td><td>34.9</td><td>0.385</td><td>30</td><td>0</td></tr>",
                            "<tr><td>5</td><td>99</td><td>54</td><td>28</td><td>83</td><td>34.0</td><td>0.499</td><td>30</td><td>0</td></tr>",
                            "<tr><td>6</td><td>124</td><td>72</td><td>0</td><td>0</td><td>27.6</td><td>0.368</td><td>29</td><td>1</td></tr>",
                            "<tr><td>0</td><td>101</td><td>64</td><td>17</td><td>0</td><td>21.0</td><td>0.252</td><td>21</td><td>0</td></tr>",
                            "<tr><td>3</td><td>81</td><td>86</td><td>16</td><td>66</td><td>27.5</td><td>0.306</td><td>22</td><td>0</td></tr>",
                            "<tr><td>3</td><td>173</td><td>82</td><td>48</td><td>465</td><td>38.4</td><td>2.137</td><td>25</td><td>1</td></tr>",
                            "<tr><td>0</td><td>118</td><td>64</td><td>23</td><td>89</td><td>0.0</td><td>1.731</td><td>21</td><td>0</td></tr>",
                            "<tr><td>0</td><td>84</td><td>64</td><td>22</td><td>66</td><td>35.8</td><td>0.545</td><td>21</td><td>0</td></tr>",
                            "<tr><td>2</td><td>105</td><td>58</td><td>40</td><td>94</td><td>34.9</td><td>0.225</td><td>25</td><td>0</td></tr>",
                            "<tr><td>2</td><td>122</td><td>52</td><td>43</td><td>158</td><td>36.2</td><td>0.816</td><td>28</td><td>0</td></tr>",
                            "<tr><td>0</td><td>98</td><td>82</td><td>15</td><td>84</td><td>25.2</td><td>0.299</td><td>22</td><td>0</td></tr>",
                            "<tr><td>1</td><td>87</td><td>60</td><td>37</td><td>75</td><td>37.2</td><td>0.509</td><td>22</td><td>0</td></tr>",
                            "<tr><td>1</td><td>107</td><td>72</td><td>30</td><td>82</td><td>30.8</td><td>0.821</td><td>24</td><td>0</td></tr>",
                            "<tr><td>0</td><td>105</td><td>68</td><td>22</td><td>0</td><td>20.0</td><td>0.236</td><td>22</td><td>0</td></tr>",
                            "<tr><td>1</td><td>109</td><td>60</td><td>8</td><td>182</td><td>25.4</td><td>0.947</td><td>21</td><td>0</td></tr>",
                            "<tr><td>1</td><td>90</td><td>62</td><td>18</td><td>59</td><td>25.1</td><td>1.268</td><td>25</td><td>0</td></tr>",
                            "<tr><td>1</td><td>125</td><td>70</td><td>24</td><td>110</td><td>24.3</td><td>0.221</td><td>25</td><td>0</td></tr>",
                            "<tr><td>1</td><td>119</td><td>54</td><td>13</td><td>50</td><td>22.3</td><td>0.205</td><td>24</td><td>0</td></tr>",
                            "<tr><td>3</td><td>100</td><td>68</td><td>23</td><td>81</td><td>31.6</td><td>0.949</td><td>28</td><td>0</td></tr>",
                            "<tr><td>5</td><td>166</td><td>76</td><td>0</td><td>0</td><td>45.7</td><td>0.34</td><td>27</td><td>1</td></tr>",
                            "<tr><td>1</td><td>131</td><td>64</td><td>14</td><td>415</td><td>23.7</td><td>0.389</td><td>21</td><td>0</td></tr>",
                            "<tr><td>2</td><td>127</td><td>58</td><td>24</td><td>275</td><td>27.7</td><td>1.6</td><td>25</td><td>0</td></tr>",
                            "<tr><td>0</td><td>131</td><td>66</td><td>40</td><td>0</td><td>34.3</td><td>0.196</td><td>22</td><td>1</td></tr>",
                            "<tr><td>3</td><td>82</td><td>70</td><td>0</td><td>0</td><td>21.1</td><td>0.389</td><td>25</td><td>0</td></tr>",
                            "<tr><td>3</td><td>193</td><td>70</td><td>31</td><td>0</td><td>34.9</td><td>0.241</td><td>25</td><td>1</td></tr>",
                            "<tr><td>2</td><td>123</td><td>48</td><td>32</td><td>165</td><td>42.1</td><td>0.52</td><td>26</td><td>0</td></tr>",
                            "<tr><td>0</td><td>101</td><td>62</td><td>0</td><td>0</td><td>21.9</td><td>0.336</td><td>25</td><td>0</td></tr>",
                            "<tr><td>1</td><td>172</td><td>68</td><td>49</td><td>579</td><td>42.4</td><td>0.702</td><td>28</td><td>1</td></tr>",
                            "<tr><td>6</td><td>102</td><td>90</td><td>39</td><td>0</td><td>35.7</td><td>0.674</td><td>28</td><td>0</td></tr>",
                            "<tr><td>1</td><td>112</td><td>72</td><td>30</td><td>176</td><td>34.4</td><td>0.528</td><td>25</td><td>0</td></tr>",
                            "<tr><td>1</td><td>143</td><td>84</td><td>23</td><td>310</td><td>42.4</td><td>1.076</td><td>22</td><td>0</td></tr>",
                            "<tr><td>1</td><td>143</td><td>74</td><td>22</td><td>61</td><td>26.2</td><td>0.256</td><td>21</td><td>0</td></tr>",
                            "<tr><td>0</td><td>138</td><td>60</td><td>35</td><td>167</td><td>34.6</td><td>0.534</td><td>21</td><td>1</td></tr>",
                            "<tr><td>3</td><td>173</td><td>84</td><td>33</td><td>474</td><td>35.7</td><td>0.258</td><td>22</td><td>1</td></tr>",
                            "<tr><td>1</td><td>97</td><td>68</td><td>21</td><td>0</td><td>27.2</td><td>1.095</td><td>22</td><td>0</td></tr>",
                            "<tr><td>1</td><td>83</td><td>68</td><td>0</td><td>0</td><td>18.2</td><td>0.624</td><td>27</td><td>0</td></tr>",
                            "<tr><td>3</td><td>129</td><td>64</td><td>29</td><td>115</td><td>26.4</td><td>0.219</td><td>28</td><td>1</td></tr>",
                            "<tr><td>1</td><td>119</td><td>88</td><td>41</td><td>170</td><td>45.3</td><td>0.507</td><td>26</td><td>0</td></tr>",
                            "<tr><td>2</td><td>94</td><td>68</td><td>18</td><td>76</td><td>26.0</td><td>0.561</td><td>21</td><td>0</td></tr>",
                            "<tr><td>0</td><td>102</td><td>64</td><td>46</td><td>78</td><td>40.6</td><td>0.496</td><td>21</td><td>0</td></tr>",
                            "<tr><td>2</td><td>115</td><td>64</td><td>22</td><td>0</td><td>30.8</td><td>0.421</td><td>21</td><td>0</td></tr>",
                            "<tr><td>0</td><td>94</td><td>0</td><td>0</td><td>0</td><td>0.0</td><td>0.256</td><td>25</td><td>0</td></tr>",
                            "<tr><td>0</td><td>135</td><td>94</td><td>46</td><td>145</td><td>40.6</td><td>0.284</td><td>26</td><td>0</td></tr>",
                            "<tr><td>2</td><td>99</td><td>0</td><td>0</td><td>0</td><td>22.2</td><td>0.108</td><td>23</td><td>0</td></tr>",
                            "<tr><td>1</td><td>80</td><td>74</td><td>11</td><td>60</td><td>30.0</td><td>0.527</td><td>22</td><td>0</td></tr>",
                            "<tr><td>2</td><td>139</td><td>75</td><td>0</td><td>0</td><td>25.6</td><td>0.167</td><td>29</td><td>0</td></tr>",
                            "<tr><td>0</td><td>141</td><td>0</td><td>0</td><td>0</td><td>42.4</td><td>0.205</td><td>29</td><td>1</td></tr>",
                            "<tr><td>5</td><td>147</td><td>75</td><td>0</td><td>0</td><td>29.9</td><td>0.434</td><td>28</td><td>0</td></tr>",
                            "<tr><td>1</td><td>97</td><td>70</td><td>15</td><td>0</td><td>18.2</td><td>0.147</td><td>21</td><td>0</td></tr>",
                            "<tr><td>2</td><td>83</td><td>66</td><td>23</td><td>50</td><td>32.2</td><td>0.497</td><td>22</td><td>0</td></tr>",
                            "<tr><td>4</td><td>117</td><td>64</td><td>27</td><td>120</td><td>33.2</td><td>0.23</td><td>24</td><td>0</td></tr>",
                            "<tr><td>4</td><td>117</td><td>62</td><td>12</td><td>0</td><td>29.7</td><td>0.38</td><td>30</td><td>1</td></tr>",
                            "<tr><td>0</td><td>180</td><td>78</td><td>63</td><td>14</td><td>59.4</td><td>2.42</td><td>25</td><td>1</td></tr>",
                            "<tr><td>1</td><td>100</td><td>72</td><td>12</td><td>70</td><td>25.3</td><td>0.658</td><td>28</td><td>0</td></tr>",
                            "<tr><td>0</td><td>95</td><td>80</td><td>45</td><td>92</td><td>36.5</td><td>0.33</td><td>26</td><td>0</td></tr>",
                            "<tr><td>0</td><td>104</td><td>64</td><td>37</td><td>64</td><td>33.6</td><td>0.51</td><td>22</td><td>1</td></tr>",
                            "<tr><td>0</td><td>120</td><td>74</td><td>18</td><td>63</td><td>30.5</td><td>0.285</td><td>26</td><td>0</td></tr>",
                            "<tr><td>1</td><td>82</td><td>64</td><td>13</td><td>95</td><td>21.2</td><td>0.415</td><td>23</td><td>0</td></tr>",
                            "<tr><td>2</td><td>134</td><td>70</td><td>0</td><td>0</td><td>28.9</td><td>0.542</td><td>23</td><td>1</td></tr>",
                            "<tr><td>0</td><td>91</td><td>68</td><td>32</td><td>210</td><td>39.9</td><td>0.381</td><td>25</td><td>0</td></tr>",
                            "<tr><td>2</td><td>100</td><td>54</td><td>28</td><td>105</td><td>37.8</td><td>0.498</td><td>24</td><td>0</td></tr>",
                            "<tr><td>5</td><td>86</td><td>68</td><td>28</td><td>71</td><td>30.2</td><td>0.364</td><td>24</td><td>0</td></tr>",
                            "<tr><td>1</td><td>71</td><td>62</td><td>0</td><td>0</td><td>21.8</td><td>0.416</td><td>26</td><td>0</td></tr>",
                            "<tr><td>0</td><td>124</td><td>56</td><td>13</td><td>105</td><td>21.8</td><td>0.452</td><td>21</td><td>0</td></tr>",
                            "<tr><td>0</td><td>74</td><td>52</td><td>10</td><td>36</td><td>27.8</td><td>0.269</td><td>22</td><td>0</td></tr>",
                            "<tr><td>0</td><td>97</td><td>64</td><td>36</td><td>100</td><td>36.8</td><td>0.6</td><td>25</td><td>0</td></tr>",
                            "<tr><td>6</td><td>154</td><td>78</td><td>41</td><td>140</td><td>46.1</td><td>0.571</td><td>27</td><td>0</td></tr>",
                            "<tr><td>1</td><td>144</td><td>82</td><td>40</td><td>0</td><td>41.3</td><td>0.607</td><td>28</td><td>0</td></tr>",
                            "<tr><td>0</td><td>137</td><td>70</td><td>38</td><td>0</td><td>33.2</td><td>0.17</td><td>22</td><td>0</td></tr>",
                            "<tr><td>0</td><td>119</td><td>66</td><td>27</td><td>0</td><td>38.8</td><td>0.259</td><td>22</td><td>0</td></tr>",
                            "<tr><td>4</td><td>114</td><td>64</td><td>0</td><td>0</td><td>28.9</td><td>0.126</td><td>24</td><td>0</td></tr>",
                            "<tr><td>2</td><td>105</td><td>80</td><td>45</td><td>191</td><td>33.7</td><td>0.711</td><td>29</td><td>1</td></tr>",
                            "<tr><td>0</td><td>123</td><td>88</td><td>37</td><td>0</td><td>35.2</td><td>0.197</td><td>29</td><td>0</td></tr>",
                            "<tr><td>4</td><td>85</td><td>58</td><td>22</td><td>49</td><td>27.8</td><td>0.306</td><td>28</td><td>0</td></tr>",
                            "<tr><td>0</td><td>84</td><td>82</td><td>31</td><td>125</td><td>38.2</td><td>0.233</td><td>23</td><td>0</td></tr>",
                            "<tr><td>0</td><td>135</td><td>68</td><td>42</td><td>250</td><td>42.3</td><td>0.365</td><td>24</td><td>1</td></tr>",
                            "<tr><td>1</td><td>139</td><td>62</td><td>41</td><td>480</td><td>40.7</td><td>0.536</td><td>21</td><td>0</td></tr>",
                            "<tr><td>4</td><td>99</td><td>72</td><td>17</td><td>0</td><td>25.6</td><td>0.294</td><td>28</td><td>0</td></tr>",
                            "<tr><td>2</td><td>83</td><td>65</td><td>28</td><td>66</td><td>36.8</td><td>0.629</td><td>24</td><td>0</td></tr>",
                            "<tr><td>3</td><td>80</td><td>0</td><td>0</td><td>0</td><td>0.0</td><td>0.174</td><td>22</td><td>0</td></tr>",
                            "<tr><td>5</td><td>110</td><td>68</td><td>0</td><td>0</td><td>26.0</td><td>0.292</td><td>30</td><td>0</td></tr>",
                            "<tr><td>2</td><td>81</td><td>72</td><td>15</td><td>76</td><td>30.1</td><td>0.547</td><td>25</td><td>0</td></tr>",
                            "<tr><td>2</td><td>117</td><td>90</td><td>19</td><td>71</td><td>25.2</td><td>0.313</td><td>21</td><td>0</td></tr>",
                            "<tr><td>3</td><td>84</td><td>72</td><td>32</td><td>0</td><td>37.2</td><td>0.267</td><td>28</td><td>0</td></tr>",
                            "<tr><td>1</td><td>130</td><td>60</td><td>23</td><td>170</td><td>28.6</td><td>0.692</td><td>21</td><td>0</td></tr>",
                            "<tr><td>2</td><td>84</td><td>50</td><td>23</td><td>76</td><td>30.4</td><td>0.968</td><td>21</td><td>0</td></tr>",
                            "<tr><td>0</td><td>139</td><td>62</td><td>17</td><td>210</td><td>22.1</td><td>0.207</td><td>21</td><td>0</td></tr>",
                            "<tr><td>2</td><td>91</td><td>62</td><td>0</td><td>0</td><td>27.3</td><td>0.525</td><td>22</td><td>0</td></tr>",
                            "<tr><td>3</td><td>99</td><td>54</td><td>19</td><td>86</td><td>25.6</td><td>0.154</td><td>24</td><td>0</td></tr>",
                            "<tr><td>3</td><td>163</td><td>70</td><td>18</td><td>105</td><td>31.6</td><td>0.268</td><td>28</td><td>1</td></tr>",
                            "<tr><td>2</td><td>68</td><td>70</td><td>32</td><td>66</td><td>25.0</td><td>0.187</td><td>25</td><td>0</td></tr>",
                            "<tr><td>3</td><td>124</td><td>80</td><td>33</td><td>130</td><td>33.2</td><td>0.305</td><td>26</td><td>0</td></tr>",
                            "<tr><td>6</td><td>114</td><td>0</td><td>0</td><td>0</td><td>0.0</td><td>0.189</td><td>26</td><td>0</td></tr>",
                            "<tr><td>3</td><td>125</td><td>58</td><td>0</td><td>0</td><td>31.6</td><td>0.151</td><td>24</td><td>0</td></tr>",
                            "<tr><td>3</td><td>87</td><td>60</td><td>18</td><td>0</td><td>21.8</td><td>0.444</td><td>21</td><td>0</td></tr>",
                            "<tr><td>1</td><td>97</td><td>64</td><td>19</td><td>82</td><td>18.2</td><td>0.299</td><td>21</td><td>0</td></tr>",
                            "<tr><td>3</td><td>116</td><td>74</td><td>15</td><td>105</td><td>26.3</td><td>0.107</td><td>24</td><td>0</td></tr>",
                            "<tr><td>0</td><td>117</td><td>66</td><td>31</td><td>188</td><td>30.8</td><td>0.493</td><td>22</td><td>0</td></tr>",
                            "<tr><td>2</td><td>122</td><td>60</td><td>18</td><td>106</td><td>29.8</td><td>0.717</td><td>22</td><td>0</td></tr>",
                            "<tr><td>0</td><td>107</td><td>76</td><td>0</td><td>0</td><td>45.3</td><td>0.686</td><td>24</td><td>0</td></tr>",
                            "<tr><td>1</td><td>86</td><td>66</td><td>52</td><td>65</td><td>41.3</td><td>0.917</td><td>29</td><td>0</td></tr>",
                            "<tr><td>1</td><td>77</td><td>56</td><td>30</td><td>56</td><td>33.3</td><td>1.251</td><td>24</td><td>0</td></tr>",
                            "<tr><td>4</td><td>132</td><td>0</td><td>0</td><td>0</td><td>32.9</td><td>0.302</td><td>23</td><td>1</td></tr>",
                            "<tr><td>0</td><td>127</td><td>80</td><td>37</td><td>210</td><td>36.3</td><td>0.804</td><td>23</td><td>0</td></tr>",
                            "<tr><td>3</td><td>128</td><td>72</td><td>25</td><td>190</td><td>32.4</td><td>0.549</td><td>27</td><td>1</td></tr>",
                            "<tr><td>4</td><td>84</td><td>90</td><td>23</td><td>56</td><td>39.5</td><td>0.159</td><td>25</td><td>0</td></tr>",
                            "<tr><td>1</td><td>88</td><td>78</td><td>29</td><td>76</td><td>32.0</td><td>0.365</td><td>29</td><td>0</td></tr>",
                            "<tr><td>4</td><td>131</td><td>68</td><td>21</td><td>166</td><td>33.1</td><td>0.16</td><td>28</td><td>0</td></tr>",
                            "<tr><td>1</td><td>116</td><td>70</td><td>28</td><td>0</td><td>27.4</td><td>0.204</td><td>21</td><td>0</td></tr>",
                            "<tr><td>3</td><td>84</td><td>68</td><td>30</td><td>106</td><td>31.9</td><td>0.591</td><td>25</td><td>0</td></tr>",
                            "<tr><td>1</td><td>88</td><td>62</td><td>24</td><td>44</td><td>29.9</td><td>0.422</td><td>23</td><td>0</td></tr>",
                            "<tr><td>1</td><td>84</td><td>64</td><td>23</td><td>115</td><td>36.9</td><td>0.471</td><td>28</td><td>0</td></tr>",
                            "<tr><td>1</td><td>97</td><td>70</td><td>40</td><td>0</td><td>38.1</td><td>0.218</td><td>30</td><td>0</td></tr>",
                            "<tr><td>0</td><td>198</td><td>66</td><td>32</td><td>274</td><td>41.3</td><td>0.502</td><td>28</td><td>1</td></tr>",
                            "<tr><td>1</td><td>87</td><td>68</td><td>34</td><td>77</td><td>37.6</td><td>0.401</td><td>24</td><td>0</td></tr>",
                            "<tr><td>0</td><td>91</td><td>80</td><td>0</td><td>0</td><td>32.4</td><td>0.601</td><td>27</td><td>0</td></tr>",
                            "<tr><td>2</td><td>95</td><td>54</td><td>14</td><td>88</td><td>26.1</td><td>0.748</td><td>22</td><td>0</td></tr>",
                            "<tr><td>1</td><td>99</td><td>72</td><td>30</td><td>18</td><td>38.6</td><td>0.412</td><td>21</td><td>0</td></tr>",
                            "<tr><td>2</td><td>130</td><td>96</td><td>0</td><td>0</td><td>22.6</td><td>0.268</td><td>21</td><td>0</td></tr>",
                            "<tr><td>3</td><td>111</td><td>58</td><td>31</td><td>44</td><td>29.5</td><td>0.43</td><td>22</td><td>0</td></tr>",
                            "<tr><td>2</td><td>98</td><td>60</td><td>17</td><td>120</td><td>34.7</td><td>0.198</td><td>22</td><td>0</td></tr>",
                            "<tr><td>1</td><td>143</td><td>86</td><td>30</td><td>330</td><td>30.1</td><td>0.892</td><td>23</td><td>0</td></tr>",
                            "<tr><td>1</td><td>119</td><td>44</td><td>47</td><td>63</td><td>35.5</td><td>0.28</td><td>25</td><td>0</td></tr>",
                            "<tr><td>2</td><td>118</td><td>80</td><td>0</td><td>0</td><td>42.9</td><td>0.693</td><td>21</td><td>1</td></tr>",
                            "<tr><td>0</td><td>151</td><td>90</td><td>46</td><td>0</td><td>42.1</td><td>0.371</td><td>21</td><td>1</td></tr>",
                            "<tr><td>6</td><td>109</td><td>60</td><td>27</td><td>0</td><td>25.0</td><td>0.206</td><td>27</td><td>0</td></tr>",
                            "<tr><td>1</td><td>93</td><td>56</td><td>11</td><td>0</td><td>22.5</td><td>0.417</td><td>22</td><td>0</td></tr>",
                            "<tr><td>6</td><td>103</td><td>66</td><td>0</td><td>0</td><td>24.3</td><td>0.249</td><td>29</td><td>0</td></tr>",
                            "<tr><td>0</td><td>73</td><td>0</td><td>0</td><td>0</td><td>21.1</td><td>0.342</td><td>25</td><td>0</td></tr>",
                            "<tr><td>2</td><td>112</td><td>78</td><td>50</td><td>140</td><td>39.4</td><td>0.175</td><td>24</td><td>0</td></tr>",
                            "<tr><td>2</td><td>82</td><td>52</td><td>22</td><td>115</td><td>28.5</td><td>1.699</td><td>25</td><td>0</td></tr>",
                            "<tr><td>0</td><td>188</td><td>82</td><td>14</td><td>185</td><td>32.0</td><td>0.682</td><td>22</td><td>1</td></tr>",
                            "<tr><td>1</td><td>89</td><td>24</td><td>19</td><td>25</td><td>27.8</td><td>0.559</td><td>21</td><td>0</td></tr>",
                            "<tr><td>1</td><td>109</td><td>38</td><td>18</td><td>120</td><td>23.1</td><td>0.407</td><td>26</td><td>0</td></tr>",
                            "<tr><td>1</td><td>108</td><td>88</td><td>19</td><td>0</td><td>27.1</td><td>0.4</td><td>24</td><td>0</td></tr>",
                            "<tr><td>6</td><td>96</td><td>0</td><td>0</td><td>0</td><td>23.7</td><td>0.19</td><td>28</td><td>0</td></tr>",
                            "<tr><td>1</td><td>124</td><td>74</td><td>36</td><td>0</td><td>27.8</td><td>0.1</td><td>30</td><td>0</td></tr>",
                            "<tr><td>1</td><td>124</td><td>60</td><td>32</td><td>0</td><td>35.8</td><td>0.514</td><td>21</td><td>0</td></tr>",
                            "<tr><td>1</td><td>181</td><td>78</td><td>42</td><td>293</td><td>40.0</td><td>1.258</td><td>22</td><td>1</td></tr>",
                            "<tr><td>1</td><td>92</td><td>62</td><td>25</td><td>41</td><td>19.5</td><td>0.482</td><td>25</td><td>0</td></tr>",
                            "<tr><td>0</td><td>152</td><td>82</td><td>39</td><td>272</td><td>41.5</td><td>0.27</td><td>27</td><td>0</td></tr>",
                            "<tr><td>1</td><td>111</td><td>62</td><td>13</td><td>182</td><td>24.0</td><td>0.138</td><td>23</td><td>0</td></tr>",
                            "<tr><td>3</td><td>106</td><td>54</td><td>21</td><td>158</td><td>30.9</td><td>0.292</td><td>24</td><td>0</td></tr>",
                            "<tr><td>6</td><td>105</td><td>80</td><td>28</td><td>0</td><td>32.5</td><td>0.878</td><td>26</td><td>0</td></tr>",
                            "<tr><td>3</td><td>106</td><td>72</td><td>0</td><td>0</td><td>25.8</td><td>0.207</td><td>27</td><td>0</td></tr>",
                            "<tr><td>6</td><td>117</td><td>96</td><td>0</td><td>0</td><td>28.7</td><td>0.157</td><td>30</td><td>0</td></tr>",
                            "<tr><td>2</td><td>68</td><td>62</td><td>13</td><td>15</td><td>20.1</td><td>0.257</td><td>23</td><td>0</td></tr>",
                            "<tr><td>0</td><td>119</td><td>0</td><td>0</td><td>0</td><td>32.4</td><td>0.141</td><td>24</td><td>1</td></tr>",
                            "<tr><td>2</td><td>112</td><td>86</td><td>42</td><td>160</td><td>38.4</td><td>0.246</td><td>28</td><td>0</td></tr>",
                            "<tr><td>2</td><td>92</td><td>76</td><td>20</td><td>0</td><td>24.2</td><td>1.698</td><td>28</td><td>0</td></tr>",
                            "<tr><td>0</td><td>94</td><td>70</td><td>27</td><td>115</td><td>43.5</td><td>0.347</td><td>21</td><td>0</td></tr>",
                            "<tr><td>2</td><td>108</td><td>64</td><td>0</td><td>0</td><td>30.8</td><td>0.158</td><td>21</td><td>0</td></tr>",
                            "<tr><td>4</td><td>90</td><td>88</td><td>47</td><td>54</td><td>37.7</td><td>0.362</td><td>29</td><td>0</td></tr>",
                            "<tr><td>0</td><td>125</td><td>68</td><td>0</td><td>0</td><td>24.7</td><td>0.206</td><td>21</td><td>0</td></tr>",
                            "<tr><td>0</td><td>132</td><td>78</td><td>0</td><td>0</td><td>32.4</td><td>0.393</td><td>21</td><td>0</td></tr>",
                            "<tr><td>4</td><td>94</td><td>65</td><td>22</td><td>0</td><td>24.7</td><td>0.148</td><td>21</td><td>0</td></tr>",
                            "<tr><td>0</td><td>102</td><td>78</td><td>40</td><td>90</td><td>34.5</td><td>0.238</td><td>24</td><td>0</td></tr>",
                            "<tr><td>2</td><td>111</td><td>60</td><td>0</td><td>0</td><td>26.2</td><td>0.343</td><td>23</td><td>0</td></tr>",
                            "<tr><td>1</td><td>128</td><td>82</td><td>17</td><td>183</td><td>27.5</td><td>0.115</td><td>22</td><td>0</td></tr>",
                            "<tr><td>2</td><td>94</td><td>76</td><td>18</td><td>66</td><td>31.6</td><td>0.649</td><td>23</td><td>0</td></tr>",
                            "<tr><td>1</td><td>100</td><td>74</td><td>12</td><td>46</td><td>19.5</td><td>0.149</td><td>28</td><td>0</td></tr>",
                            "<tr><td>0</td><td>102</td><td>86</td><td>17</td><td>105</td><td>29.3</td><td>0.695</td><td>27</td><td>0</td></tr>",
                            "<tr><td>4</td><td>128</td><td>70</td><td>0</td><td>0</td><td>34.3</td><td>0.303</td><td>24</td><td>0</td></tr>",
                            "<tr><td>3</td><td>103</td><td>72</td><td>30</td><td>152</td><td>27.6</td><td>0.73</td><td>27</td><td>0</td></tr>",
                            "<tr><td>2</td><td>157</td><td>74</td><td>35</td><td>440</td><td>39.4</td><td>0.134</td><td>30</td><td>0</td></tr>",
                            "<tr><td>0</td><td>179</td><td>50</td><td>36</td><td>159</td><td>37.8</td><td>0.455</td><td>22</td><td>1</td></tr>",
                            "<tr><td>0</td><td>107</td><td>60</td><td>25</td><td>0</td><td>26.4</td><td>0.133</td><td>23</td><td>0</td></tr>",
                            "<tr><td>1</td><td>91</td><td>54</td><td>25</td><td>100</td><td>25.2</td><td>0.234</td><td>23</td><td>0</td></tr>",
                            "<tr><td>1</td><td>117</td><td>60</td><td>23</td><td>106</td><td>33.8</td><td>0.466</td><td>27</td><td>0</td></tr>",
                            "<tr><td>5</td><td>123</td><td>74</td><td>40</td><td>77</td><td>34.1</td><td>0.269</td><td>28</td><td>0</td></tr>",
                            "<tr><td>2</td><td>120</td><td>54</td><td>0</td><td>0</td><td>26.8</td><td>0.455</td><td>27</td><td>0</td></tr>",
                            "<tr><td>1</td><td>106</td><td>70</td><td>28</td><td>135</td><td>34.2</td><td>0.142</td><td>22</td><td>0</td></tr>",
                            "<tr><td>2</td><td>155</td><td>52</td><td>27</td><td>540</td><td>38.7</td><td>0.24</td><td>25</td><td>1</td></tr>",
                            "<tr><td>2</td><td>101</td><td>58</td><td>35</td><td>90</td><td>21.8</td><td>0.155</td><td>22</td><td>0</td></tr>",
                            "<tr><td>3</td><td>80</td><td>82</td><td>31</td><td>70</td><td>34.2</td><td>1.292</td><td>27</td><td>1</td></tr>",
                            "<tr><td>1</td><td>199</td><td>76</td><td>43</td><td>0</td><td>42.9</td><td>1.394</td><td>22</td><td>1</td></tr>",
                            "<tr><td>1</td><td>112</td><td>80</td><td>45</td><td>132</td><td>34.8</td><td>0.217</td><td>24</td><td>0</td></tr>",
                            "<tr><td>1</td><td>99</td><td>58</td><td>10</td><td>0</td><td>25.4</td><td>0.551</td><td>21</td><td>0</td></tr>",
                            "<tr><td>3</td><td>123</td><td>100</td><td>35</td><td>240</td><td>57.3</td><td>0.88</td><td>22</td><td>0</td></tr>",
                            "<tr><td>0</td><td>93</td><td>60</td><td>0</td><td>0</td><td>35.3</td><td>0.263</td><td>25</td><td>0</td></tr>",
                            "<tr><td>3</td><td>121</td><td>52</td><td>0</td><td>0</td><td>36.0</td><td>0.127</td><td>25</td><td>1</td></tr>",
                            "<tr><td>2</td><td>101</td><td>58</td><td>17</td><td>265</td><td>24.2</td><td>0.614</td><td>23</td><td>0</td></tr>",
                            "<tr><td>2</td><td>56</td><td>56</td><td>28</td><td>45</td><td>24.2</td><td>0.332</td><td>22</td><td>0</td></tr>",
                            "<tr><td>0</td><td>162</td><td>76</td><td>36</td><td>0</td><td>49.6</td><td>0.364</td><td>26</td><td>1</td></tr>",
                            "<tr><td>0</td><td>95</td><td>64</td><td>39</td><td>105</td><td>44.6</td><td>0.366</td><td>22</td><td>0</td></tr>",
                            "<tr><td>4</td><td>125</td><td>80</td><td>0</td><td>0</td><td>32.3</td><td>0.536</td><td>27</td><td>1</td></tr>",
                            "<tr><td>2</td><td>129</td><td>74</td><td>26</td><td>205</td><td>33.2</td><td>0.591</td><td>25</td><td>0</td></tr>",
                            "<tr><td>3</td><td>130</td><td>64</td><td>0</td><td>0</td><td>23.1</td><td>0.314</td><td>22</td><td>0</td></tr>",
                            "<tr><td>1</td><td>107</td><td>50</td><td>19</td><td>0</td><td>28.3</td><td>0.181</td><td>29</td><td>0</td></tr>",
                            "<tr><td>1</td><td>140</td><td>74</td><td>26</td><td>180</td><td>24.1</td><td>0.828</td><td>23</td><td>0</td></tr>",
                            "<tr><td>2</td><td>121</td><td>70</td><td>32</td><td>95</td><td>39.1</td><td>0.886</td><td>23</td><td>0</td></tr>",
                            "<tr><td>2</td><td>90</td><td>60</td><td>0</td><td>0</td><td>23.5</td><td>0.191</td><td>25</td><td>0</td></tr>",
                            "<tr><td>0</td><td>99</td><td>0</td><td>0</td><td>0</td><td>25.0</td><td>0.253</td><td>22</td><td>0</td></tr>",
                            "<tr><td>4</td><td>127</td><td>88</td><td>11</td><td>155</td><td>34.5</td><td>0.598</td><td>28</td><td>0</td></tr>",
                            "<tr><td>4</td><td>118</td><td>70</td><td>0</td><td>0</td><td>44.5</td><td>0.904</td><td>26</td><td>0</td></tr>",
                            "<tr><td>2</td><td>122</td><td>76</td><td>27</td><td>200</td><td>35.9</td><td>0.483</td><td>26</td><td>0</td></tr>",
                            "<tr><td>4</td><td>110</td><td>76</td><td>20</td><td>100</td><td>28.4</td><td>0.118</td><td>27</td><td>0</td></tr>",
                            "<tr><td>6</td><td>80</td><td>80</td><td>36</td><td>0</td><td>39.8</td><td>0.177</td><td>28</td><td>0</td></tr>",
                            "<tr><td>10</td><td>115</td><td>0</td><td>0</td><td>0</td><td>0.0</td><td>0.261</td><td>30</td><td>1</td></tr>",
                            "<tr><td>2</td><td>127</td><td>46</td><td>21</td><td>335</td><td>34.4</td><td>0.176</td><td>22</td><td>0</td></tr>",
                            "<tr><td>2</td><td>93</td><td>64</td><td>32</td><td>160</td><td>38.0</td><td>0.674</td><td>23</td><td>1</td></tr>",
                            "<tr><td>3</td><td>158</td><td>64</td><td>13</td><td>387</td><td>31.2</td><td>0.295</td><td>24</td><td>0</td></tr>",
                            "<tr><td>0</td><td>134</td><td>58</td><td>20</td><td>291</td><td>26.4</td><td>0.352</td><td>21</td><td>0</td></tr>",
                            "<tr><td>1</td><td>108</td><td>60</td><td>46</td><td>178</td><td>35.5</td><td>0.415</td><td>24</td><td>0</td></tr>",
                            "<tr><td>1</td><td>114</td><td>66</td><td>36</td><td>200</td><td>38.1</td><td>0.289</td><td>21</td><td>0</td></tr>",
                            "<tr><td>1</td><td>116</td><td>78</td><td>29</td><td>180</td><td>36.1</td><td>0.496</td><td>25</td><td>0</td></tr>",
                            "<tr><td>0</td><td>141</td><td>84</td><td>26</td><td>0</td><td>32.4</td><td>0.433</td><td>22</td><td>0</td></tr>",
                            "<tr><td>2</td><td>175</td><td>88</td><td>0</td><td>0</td><td>22.9</td><td>0.326</td><td>22</td><td>0</td></tr>",
                            "<tr><td>2</td><td>92</td><td>52</td><td>0</td><td>0</td><td>30.1</td><td>0.141</td><td>22</td><td>0</td></tr>",
                            "<tr><td>8</td><td>120</td><td>86</td><td>0</td><td>0</td><td>28.4</td><td>0.259</td><td>22</td><td>1</td></tr>",
                            "<tr><td>2</td><td>174</td><td>88</td><td>37</td><td>120</td><td>44.5</td><td>0.646</td><td>24</td><td>1</td></tr>",
                            "<tr><td>2</td><td>106</td><td>56</td><td>27</td><td>165</td><td>29.0</td><td>0.426</td><td>22</td><td>0</td></tr>",
                            "<tr><td>4</td><td>95</td><td>60</td><td>32</td><td>0</td><td>35.4</td><td>0.284</td><td>28</td><td>0</td></tr>",
                            "<tr><td>0</td><td>126</td><td>86</td><td>27</td><td>120</td><td>27.4</td><td>0.515</td><td>21</td><td>0</td></tr>",
                            "<tr><td>2</td><td>99</td><td>60</td><td>17</td><td>160</td><td>36.6</td><td>0.453</td><td>21</td><td>0</td></tr>",
                            "<tr><td>3</td><td>102</td><td>44</td><td>20</td><td>94</td><td>30.8</td><td>0.4</td><td>26</td><td>0</td></tr>",
                            "<tr><td>1</td><td>109</td><td>58</td><td>18</td><td>116</td><td>28.5</td><td>0.219</td><td>22</td><td>0</td></tr>",
                            "<tr><td>1</td><td>147</td><td>94</td><td>41</td><td>0</td><td>49.3</td><td>0.358</td><td>27</td><td>1</td></tr>",
                            "<tr><td>4</td><td>136</td><td>70</td><td>0</td><td>0</td><td>31.2</td><td>1.182</td><td>22</td><td>1</td></tr>",
                            "<tr><td>1</td><td>121</td><td>78</td><td>39</td><td>74</td><td>39.0</td><td>0.261</td><td>28</td><td>0</td></tr>",
                            "<tr><td>3</td><td>108</td><td>62</td><td>24</td><td>0</td><td>26.0</td><td>0.223</td><td>25</td><td>0</td></tr>",
                            "<tr><td>0</td><td>181</td><td>88</td><td>44</td><td>510</td><td>43.3</td><td>0.222</td><td>26</td><td>1</td></tr>",
                            "<tr><td>1</td><td>106</td><td>76</td><td>0</td><td>0</td><td>37.5</td><td>0.197</td><td>26</td><td>0</td></tr>",
                            "<tr><td>2</td><td>88</td><td>58</td><td>26</td><td>16</td><td>28.4</td><td>0.766</td><td>22</td><td>0</td></tr>",
                            "<tr><td>2</td><td>122</td><td>70</td><td>27</td><td>0</td><td>36.8</td><td>0.34</td><td>27</td><td>0</td></tr>",
                            "<tr><td>5</td><td>121</td><td>72</td><td>23</td><td>112</td><td>26.2</td><td>0.245</td><td>30</td><td>0</td></tr>",
                            "<tr><td>1</td><td>93</td><td>70</td><td>31</td><td>0</td><td>30.4</td><td>0.315</td><td>23</td><td>0</td></tr>",
                            "</table>"
                        ]
                    }
                }
            ],
            "execution_count": 14
        },
        {
            "cell_type": "markdown",
            "source": [
                "### Calculate the total number of Preganancies for all the records in the diabetes table"
            ],
            "metadata": {
                "language": "sql",
                "azdata_cell_guid": "bf27203f-2e66-489f-ba17-1a8449b1b546"
            },
            "attachments": {}
        },
        {
            "cell_type": "code",
            "source": [
                "select SUM(Pregnancies) as total_pregnancies\r\n",
                "from diabetes;"
            ],
            "metadata": {
                "language": "sql",
                "azdata_cell_guid": "4b3fc1fe-6b7d-48a1-900b-cc680725aadb"
            },
            "outputs": [
                {
                    "output_type": "display_data",
                    "data": {
                        "text/html": "(1 row(s) affected)"
                    },
                    "metadata": {}
                },
                {
                    "output_type": "display_data",
                    "data": {
                        "text/html": "Total execution time: 00:00:01.016"
                    },
                    "metadata": {}
                },
                {
                    "output_type": "execute_result",
                    "metadata": {},
                    "execution_count": 15,
                    "data": {
                        "application/vnd.dataresource+json": {
                            "schema": {
                                "fields": [
                                    {
                                        "name": "total_pregnancies"
                                    }
                                ]
                            },
                            "data": [
                                {
                                    "total_pregnancies": "2953"
                                }
                            ]
                        },
                        "text/html": [
                            "<table>",
                            "<tr><th>total_pregnancies</th></tr>",
                            "<tr><td>2953</td></tr>",
                            "</table>"
                        ]
                    }
                }
            ],
            "execution_count": 15
        },
        {
            "cell_type": "markdown",
            "source": [
                "### Find the records where the Outcome is 1 (indicating diabetes) and the BMI is above 35"
            ],
            "metadata": {
                "language": "sql",
                "azdata_cell_guid": "22767429-977c-4a62-8107-1de5396ff5a0"
            },
            "attachments": {}
        },
        {
            "cell_type": "code",
            "source": [
                "SELECT * from diabetes\r\n",
                "where Outcome = 1 and BMI >35;"
            ],
            "metadata": {
                "language": "sql",
                "azdata_cell_guid": "3114dae8-740b-48a8-a9c4-0450944da2b9"
            },
            "outputs": [
                {
                    "output_type": "display_data",
                    "data": {
                        "text/html": "(115 row(s) affected)"
                    },
                    "metadata": {}
                },
                {
                    "output_type": "display_data",
                    "data": {
                        "text/html": "Total execution time: 00:00:01.017"
                    },
                    "metadata": {}
                },
                {
                    "output_type": "execute_result",
                    "metadata": {},
                    "execution_count": 16,
                    "data": {
                        "application/vnd.dataresource+json": {
                            "schema": {
                                "fields": [
                                    {
                                        "name": "Pregnancies"
                                    },
                                    {
                                        "name": "Glucose"
                                    },
                                    {
                                        "name": "BloodPressure"
                                    },
                                    {
                                        "name": "SkinThickness"
                                    },
                                    {
                                        "name": "Insulin"
                                    },
                                    {
                                        "name": "BMI"
                                    },
                                    {
                                        "name": "DiabetesPedigreeFunction"
                                    },
                                    {
                                        "name": "Age"
                                    },
                                    {
                                        "name": "Outcome"
                                    }
                                ]
                            },
                            "data": [
                                {
                                    "Pregnancies": "0",
                                    "Glucose": "137",
                                    "BloodPressure": "40",
                                    "SkinThickness": "35",
                                    "Insulin": "168",
                                    "BMI": "43.1",
                                    "DiabetesPedigreeFunction": "2.288",
                                    "Age": "33",
                                    "Outcome": "1"
                                },
                                {
                                    "Pregnancies": "10",
                                    "Glucose": "168",
                                    "BloodPressure": "74",
                                    "SkinThickness": "0",
                                    "Insulin": "0",
                                    "BMI": "38.0",
                                    "DiabetesPedigreeFunction": "0.537",
                                    "Age": "34",
                                    "Outcome": "1"
                                },
                                {
                                    "Pregnancies": "0",
                                    "Glucose": "118",
                                    "BloodPressure": "84",
                                    "SkinThickness": "47",
                                    "Insulin": "230",
                                    "BMI": "45.8",
                                    "DiabetesPedigreeFunction": "0.551",
                                    "Age": "31",
                                    "Outcome": "1"
                                },
                                {
                                    "Pregnancies": "7",
                                    "Glucose": "196",
                                    "BloodPressure": "90",
                                    "SkinThickness": "0",
                                    "Insulin": "0",
                                    "BMI": "39.8",
                                    "DiabetesPedigreeFunction": "0.451",
                                    "Age": "41",
                                    "Outcome": "1"
                                },
                                {
                                    "Pregnancies": "11",
                                    "Glucose": "143",
                                    "BloodPressure": "94",
                                    "SkinThickness": "33",
                                    "Insulin": "146",
                                    "BMI": "36.6",
                                    "DiabetesPedigreeFunction": "0.254",
                                    "Age": "51",
                                    "Outcome": "1"
                                },
                                {
                                    "Pregnancies": "7",
                                    "Glucose": "147",
                                    "BloodPressure": "76",
                                    "SkinThickness": "0",
                                    "Insulin": "0",
                                    "BMI": "39.4",
                                    "DiabetesPedigreeFunction": "0.257",
                                    "Age": "43",
                                    "Outcome": "1"
                                },
                                {
                                    "Pregnancies": "2",
                                    "Glucose": "90",
                                    "BloodPressure": "68",
                                    "SkinThickness": "42",
                                    "Insulin": "0",
                                    "BMI": "38.2",
                                    "DiabetesPedigreeFunction": "0.503",
                                    "Age": "27",
                                    "Outcome": "1"
                                },
                                {
                                    "Pregnancies": "4",
                                    "Glucose": "111",
                                    "BloodPressure": "72",
                                    "SkinThickness": "47",
                                    "Insulin": "207",
                                    "BMI": "37.1",
                                    "DiabetesPedigreeFunction": "1.39",
                                    "Age": "56",
                                    "Outcome": "1"
                                },
                                {
                                    "Pregnancies": "9",
                                    "Glucose": "171",
                                    "BloodPressure": "110",
                                    "SkinThickness": "24",
                                    "Insulin": "240",
                                    "BMI": "45.4",
                                    "DiabetesPedigreeFunction": "0.721",
                                    "Age": "54",
                                    "Outcome": "1"
                                },
                                {
                                    "Pregnancies": "0",
                                    "Glucose": "180",
                                    "BloodPressure": "66",
                                    "SkinThickness": "39",
                                    "Insulin": "0",
                                    "BMI": "42.0",
                                    "DiabetesPedigreeFunction": "1.893",
                                    "Age": "25",
                                    "Outcome": "1"
                                },
                                {
                                    "Pregnancies": "7",
                                    "Glucose": "103",
                                    "BloodPressure": "66",
                                    "SkinThickness": "32",
                                    "Insulin": "0",
                                    "BMI": "39.1",
                                    "DiabetesPedigreeFunction": "0.344",
                                    "Age": "31",
                                    "Outcome": "1"
                                },
                                {
                                    "Pregnancies": "7",
                                    "Glucose": "187",
                                    "BloodPressure": "68",
                                    "SkinThickness": "39",
                                    "Insulin": "304",
                                    "BMI": "37.7",
                                    "DiabetesPedigreeFunction": "0.254",
                                    "Age": "41",
                                    "Outcome": "1"
                                },
                                {
                                    "Pregnancies": "13",
                                    "Glucose": "126",
                                    "BloodPressure": "90",
                                    "SkinThickness": "0",
                                    "Insulin": "0",
                                    "BMI": "43.4",
                                    "DiabetesPedigreeFunction": "0.583",
                                    "Age": "42",
                                    "Outcome": "1"
                                },
                                {
                                    "Pregnancies": "0",
                                    "Glucose": "131",
                                    "BloodPressure": "0",
                                    "SkinThickness": "0",
                                    "Insulin": "0",
                                    "BMI": "43.2",
                                    "DiabetesPedigreeFunction": "0.27",
                                    "Age": "26",
                                    "Outcome": "1"
                                },
                                {
                                    "Pregnancies": "5",
                                    "Glucose": "137",
                                    "BloodPressure": "108",
                                    "SkinThickness": "0",
                                    "Insulin": "0",
                                    "BMI": "48.8",
                                    "DiabetesPedigreeFunction": "0.227",
                                    "Age": "37",
                                    "Outcome": "1"
                                },
                                {
                                    "Pregnancies": "15",
                                    "Glucose": "136",
                                    "BloodPressure": "70",
                                    "SkinThickness": "32",
                                    "Insulin": "110",
                                    "BMI": "37.1",
                                    "DiabetesPedigreeFunction": "0.153",
                                    "Age": "43",
                                    "Outcome": "1"
                                },
                                {
                                    "Pregnancies": "1",
                                    "Glucose": "122",
                                    "BloodPressure": "90",
                                    "SkinThickness": "51",
                                    "Insulin": "220",
                                    "BMI": "49.7",
                                    "DiabetesPedigreeFunction": "0.325",
                                    "Age": "31",
                                    "Outcome": "1"
                                },
                                {
                                    "Pregnancies": "1",
                                    "Glucose": "163",
                                    "BloodPressure": "72",
                                    "SkinThickness": "0",
                                    "Insulin": "0",
                                    "BMI": "39.0",
                                    "DiabetesPedigreeFunction": "1.222",
                                    "Age": "33",
                                    "Outcome": "1"
                                },
                                {
                                    "Pregnancies": "0",
                                    "Glucose": "95",
                                    "BloodPressure": "85",
                                    "SkinThickness": "25",
                                    "Insulin": "36",
                                    "BMI": "37.4",
                                    "DiabetesPedigreeFunction": "0.247",
                                    "Age": "24",
                                    "Outcome": "1"
                                },
                                {
                                    "Pregnancies": "0",
                                    "Glucose": "162",
                                    "BloodPressure": "76",
                                    "SkinThickness": "56",
                                    "Insulin": "100",
                                    "BMI": "53.2",
                                    "DiabetesPedigreeFunction": "0.759",
                                    "Age": "25",
                                    "Outcome": "1"
                                },
                                {
                                    "Pregnancies": "1",
                                    "Glucose": "88",
                                    "BloodPressure": "30",
                                    "SkinThickness": "42",
                                    "Insulin": "99",
                                    "BMI": "55.0",
                                    "DiabetesPedigreeFunction": "0.496",
                                    "Age": "26",
                                    "Outcome": "1"
                                },
                                {
                                    "Pregnancies": "8",
                                    "Glucose": "188",
                                    "BloodPressure": "78",
                                    "SkinThickness": "0",
                                    "Insulin": "0",
                                    "BMI": "47.9",
                                    "DiabetesPedigreeFunction": "0.137",
                                    "Age": "43",
                                    "Outcome": "1"
                                },
                                {
                                    "Pregnancies": "7",
                                    "Glucose": "152",
                                    "BloodPressure": "88",
                                    "SkinThickness": "44",
                                    "Insulin": "0",
                                    "BMI": "50.0",
                                    "DiabetesPedigreeFunction": "0.337",
                                    "Age": "36",
                                    "Outcome": "1"
                                },
                                {
                                    "Pregnancies": "17",
                                    "Glucose": "163",
                                    "BloodPressure": "72",
                                    "SkinThickness": "41",
                                    "Insulin": "114",
                                    "BMI": "40.9",
                                    "DiabetesPedigreeFunction": "0.817",
                                    "Age": "47",
                                    "Outcome": "1"
                                },
                                {
                                    "Pregnancies": "6",
                                    "Glucose": "134",
                                    "BloodPressure": "70",
                                    "SkinThickness": "23",
                                    "Insulin": "130",
                                    "BMI": "35.4",
                                    "DiabetesPedigreeFunction": "0.542",
                                    "Age": "29",
                                    "Outcome": "1"
                                },
                                {
                                    "Pregnancies": "0",
                                    "Glucose": "129",
                                    "BloodPressure": "110",
                                    "SkinThickness": "46",
                                    "Insulin": "130",
                                    "BMI": "67.1",
                                    "DiabetesPedigreeFunction": "0.319",
                                    "Age": "26",
                                    "Outcome": "1"
                                },
                                {
                                    "Pregnancies": "5",
                                    "Glucose": "130",
                                    "BloodPressure": "82",
                                    "SkinThickness": "0",
                                    "Insulin": "0",
                                    "BMI": "39.1",
                                    "DiabetesPedigreeFunction": "0.956",
                                    "Age": "37",
                                    "Outcome": "1"
                                },
                                {
                                    "Pregnancies": "7",
                                    "Glucose": "194",
                                    "BloodPressure": "68",
                                    "SkinThickness": "28",
                                    "Insulin": "0",
                                    "BMI": "35.9",
                                    "DiabetesPedigreeFunction": "0.745",
                                    "Age": "41",
                                    "Outcome": "1"
                                },
                                {
                                    "Pregnancies": "11",
                                    "Glucose": "135",
                                    "BloodPressure": "0",
                                    "SkinThickness": "0",
                                    "Insulin": "0",
                                    "BMI": "52.3",
                                    "DiabetesPedigreeFunction": "0.578",
                                    "Age": "40",
                                    "Outcome": "1"
                                },
                                {
                                    "Pregnancies": "5",
                                    "Glucose": "158",
                                    "BloodPressure": "84",
                                    "SkinThickness": "41",
                                    "Insulin": "210",
                                    "BMI": "39.4",
                                    "DiabetesPedigreeFunction": "0.395",
                                    "Age": "29",
                                    "Outcome": "1"
                                },
                                {
                                    "Pregnancies": "8",
                                    "Glucose": "196",
                                    "BloodPressure": "76",
                                    "SkinThickness": "29",
                                    "Insulin": "280",
                                    "BMI": "37.5",
                                    "DiabetesPedigreeFunction": "0.605",
                                    "Age": "57",
                                    "Outcome": "1"
                                },
                                {
                                    "Pregnancies": "5",
                                    "Glucose": "162",
                                    "BloodPressure": "104",
                                    "SkinThickness": "0",
                                    "Insulin": "0",
                                    "BMI": "37.7",
                                    "DiabetesPedigreeFunction": "0.151",
                                    "Age": "52",
                                    "Outcome": "1"
                                },
                                {
                                    "Pregnancies": "7",
                                    "Glucose": "184",
                                    "BloodPressure": "84",
                                    "SkinThickness": "33",
                                    "Insulin": "0",
                                    "BMI": "35.5",
                                    "DiabetesPedigreeFunction": "0.355",
                                    "Age": "41",
                                    "Outcome": "1"
                                },
                                {
                                    "Pregnancies": "0",
                                    "Glucose": "140",
                                    "BloodPressure": "65",
                                    "SkinThickness": "26",
                                    "Insulin": "130",
                                    "BMI": "42.6",
                                    "DiabetesPedigreeFunction": "0.431",
                                    "Age": "24",
                                    "Outcome": "1"
                                },
                                {
                                    "Pregnancies": "12",
                                    "Glucose": "151",
                                    "BloodPressure": "70",
                                    "SkinThickness": "40",
                                    "Insulin": "271",
                                    "BMI": "41.8",
                                    "DiabetesPedigreeFunction": "0.742",
                                    "Age": "38",
                                    "Outcome": "1"
                                },
                                {
                                    "Pregnancies": "5",
                                    "Glucose": "109",
                                    "BloodPressure": "62",
                                    "SkinThickness": "41",
                                    "Insulin": "129",
                                    "BMI": "35.8",
                                    "DiabetesPedigreeFunction": "0.514",
                                    "Age": "25",
                                    "Outcome": "1"
                                },
                                {
                                    "Pregnancies": "5",
                                    "Glucose": "112",
                                    "BloodPressure": "66",
                                    "SkinThickness": "0",
                                    "Insulin": "0",
                                    "BMI": "37.8",
                                    "DiabetesPedigreeFunction": "0.261",
                                    "Age": "41",
                                    "Outcome": "1"
                                },
                                {
                                    "Pregnancies": "3",
                                    "Glucose": "162",
                                    "BloodPressure": "52",
                                    "SkinThickness": "38",
                                    "Insulin": "0",
                                    "BMI": "37.2",
                                    "DiabetesPedigreeFunction": "0.652",
                                    "Age": "24",
                                    "Outcome": "1"
                                },
                                {
                                    "Pregnancies": "4",
                                    "Glucose": "142",
                                    "BloodPressure": "86",
                                    "SkinThickness": "0",
                                    "Insulin": "0",
                                    "BMI": "44.0",
                                    "DiabetesPedigreeFunction": "0.645",
                                    "Age": "22",
                                    "Outcome": "1"
                                },
                                {
                                    "Pregnancies": "6",
                                    "Glucose": "134",
                                    "BloodPressure": "80",
                                    "SkinThickness": "37",
                                    "Insulin": "370",
                                    "BMI": "46.2",
                                    "DiabetesPedigreeFunction": "0.238",
                                    "Age": "46",
                                    "Outcome": "1"
                                },
                                {
                                    "Pregnancies": "4",
                                    "Glucose": "171",
                                    "BloodPressure": "72",
                                    "SkinThickness": "0",
                                    "Insulin": "0",
                                    "BMI": "43.6",
                                    "DiabetesPedigreeFunction": "0.479",
                                    "Age": "26",
                                    "Outcome": "1"
                                },
                                {
                                    "Pregnancies": "7",
                                    "Glucose": "181",
                                    "BloodPressure": "84",
                                    "SkinThickness": "21",
                                    "Insulin": "192",
                                    "BMI": "35.9",
                                    "DiabetesPedigreeFunction": "0.586",
                                    "Age": "51",
                                    "Outcome": "1"
                                },
                                {
                                    "Pregnancies": "0",
                                    "Glucose": "179",
                                    "BloodPressure": "90",
                                    "SkinThickness": "27",
                                    "Insulin": "0",
                                    "BMI": "44.1",
                                    "DiabetesPedigreeFunction": "0.686",
                                    "Age": "23",
                                    "Outcome": "1"
                                },
                                {
                                    "Pregnancies": "0",
                                    "Glucose": "138",
                                    "BloodPressure": "0",
                                    "SkinThickness": "0",
                                    "Insulin": "0",
                                    "BMI": "36.3",
                                    "DiabetesPedigreeFunction": "0.933",
                                    "Age": "25",
                                    "Outcome": "1"
                                },
                                {
                                    "Pregnancies": "10",
                                    "Glucose": "101",
                                    "BloodPressure": "86",
                                    "SkinThickness": "37",
                                    "Insulin": "0",
                                    "BMI": "45.6",
                                    "DiabetesPedigreeFunction": "1.136",
                                    "Age": "38",
                                    "Outcome": "1"
                                },
                                {
                                    "Pregnancies": "0",
                                    "Glucose": "146",
                                    "BloodPressure": "70",
                                    "SkinThickness": "0",
                                    "Insulin": "0",
                                    "BMI": "37.9",
                                    "DiabetesPedigreeFunction": "0.334",
                                    "Age": "28",
                                    "Outcome": "1"
                                },
                                {
                                    "Pregnancies": "1",
                                    "Glucose": "119",
                                    "BloodPressure": "86",
                                    "SkinThickness": "39",
                                    "Insulin": "220",
                                    "BMI": "45.6",
                                    "DiabetesPedigreeFunction": "0.808",
                                    "Age": "29",
                                    "Outcome": "1"
                                },
                                {
                                    "Pregnancies": "0",
                                    "Glucose": "107",
                                    "BloodPressure": "62",
                                    "SkinThickness": "30",
                                    "Insulin": "74",
                                    "BMI": "36.6",
                                    "DiabetesPedigreeFunction": "0.757",
                                    "Age": "25",
                                    "Outcome": "1"
                                },
                                {
                                    "Pregnancies": "2",
                                    "Glucose": "128",
                                    "BloodPressure": "78",
                                    "SkinThickness": "37",
                                    "Insulin": "182",
                                    "BMI": "43.3",
                                    "DiabetesPedigreeFunction": "1.224",
                                    "Age": "31",
                                    "Outcome": "1"
                                },
                                {
                                    "Pregnancies": "1",
                                    "Glucose": "128",
                                    "BloodPressure": "48",
                                    "SkinThickness": "45",
                                    "Insulin": "194",
                                    "BMI": "40.5",
                                    "DiabetesPedigreeFunction": "0.613",
                                    "Age": "24",
                                    "Outcome": "1"
                                },
                                {
                                    "Pregnancies": "14",
                                    "Glucose": "100",
                                    "BloodPressure": "78",
                                    "SkinThickness": "25",
                                    "Insulin": "184",
                                    "BMI": "36.6",
                                    "DiabetesPedigreeFunction": "0.412",
                                    "Age": "46",
                                    "Outcome": "1"
                                },
                                {
                                    "Pregnancies": "5",
                                    "Glucose": "115",
                                    "BloodPressure": "98",
                                    "SkinThickness": "0",
                                    "Insulin": "0",
                                    "BMI": "52.9",
                                    "DiabetesPedigreeFunction": "0.209",
                                    "Age": "28",
                                    "Outcome": "1"
                                },
                                {
                                    "Pregnancies": "7",
                                    "Glucose": "109",
                                    "BloodPressure": "80",
                                    "SkinThickness": "31",
                                    "Insulin": "0",
                                    "BMI": "35.9",
                                    "DiabetesPedigreeFunction": "1.127",
                                    "Age": "43",
                                    "Outcome": "1"
                                },
                                {
                                    "Pregnancies": "1",
                                    "Glucose": "122",
                                    "BloodPressure": "64",
                                    "SkinThickness": "32",
                                    "Insulin": "156",
                                    "BMI": "35.1",
                                    "DiabetesPedigreeFunction": "0.692",
                                    "Age": "30",
                                    "Outcome": "1"
                                },
                                {
                                    "Pregnancies": "2",
                                    "Glucose": "102",
                                    "BloodPressure": "86",
                                    "SkinThickness": "36",
                                    "Insulin": "120",
                                    "BMI": "45.5",
                                    "DiabetesPedigreeFunction": "0.127",
                                    "Age": "23",
                                    "Outcome": "1"
                                },
                                {
                                    "Pregnancies": "1",
                                    "Glucose": "180",
                                    "BloodPressure": "0",
                                    "SkinThickness": "0",
                                    "Insulin": "0",
                                    "BMI": "43.3",
                                    "DiabetesPedigreeFunction": "0.282",
                                    "Age": "41",
                                    "Outcome": "1"
                                },
                                {
                                    "Pregnancies": "7",
                                    "Glucose": "178",
                                    "BloodPressure": "84",
                                    "SkinThickness": "0",
                                    "Insulin": "0",
                                    "BMI": "39.9",
                                    "DiabetesPedigreeFunction": "0.331",
                                    "Age": "41",
                                    "Outcome": "1"
                                },
                                {
                                    "Pregnancies": "5",
                                    "Glucose": "0",
                                    "BloodPressure": "80",
                                    "SkinThickness": "32",
                                    "Insulin": "0",
                                    "BMI": "41.0",
                                    "DiabetesPedigreeFunction": "0.346",
                                    "Age": "37",
                                    "Outcome": "1"
                                },
                                {
                                    "Pregnancies": "13",
                                    "Glucose": "129",
                                    "BloodPressure": "0",
                                    "SkinThickness": "30",
                                    "Insulin": "0",
                                    "BMI": "39.9",
                                    "DiabetesPedigreeFunction": "0.569",
                                    "Age": "44",
                                    "Outcome": "1"
                                },
                                {
                                    "Pregnancies": "1",
                                    "Glucose": "196",
                                    "BloodPressure": "76",
                                    "SkinThickness": "36",
                                    "Insulin": "249",
                                    "BMI": "36.5",
                                    "DiabetesPedigreeFunction": "0.875",
                                    "Age": "29",
                                    "Outcome": "1"
                                },
                                {
                                    "Pregnancies": "4",
                                    "Glucose": "146",
                                    "BloodPressure": "78",
                                    "SkinThickness": "0",
                                    "Insulin": "0",
                                    "BMI": "38.5",
                                    "DiabetesPedigreeFunction": "0.52",
                                    "Age": "67",
                                    "Outcome": "1"
                                },
                                {
                                    "Pregnancies": "3",
                                    "Glucose": "173",
                                    "BloodPressure": "82",
                                    "SkinThickness": "48",
                                    "Insulin": "465",
                                    "BMI": "38.4",
                                    "DiabetesPedigreeFunction": "2.137",
                                    "Age": "25",
                                    "Outcome": "1"
                                },
                                {
                                    "Pregnancies": "12",
                                    "Glucose": "140",
                                    "BloodPressure": "82",
                                    "SkinThickness": "43",
                                    "Insulin": "325",
                                    "BMI": "39.2",
                                    "DiabetesPedigreeFunction": "0.528",
                                    "Age": "58",
                                    "Outcome": "1"
                                },
                                {
                                    "Pregnancies": "4",
                                    "Glucose": "156",
                                    "BloodPressure": "75",
                                    "SkinThickness": "0",
                                    "Insulin": "0",
                                    "BMI": "48.3",
                                    "DiabetesPedigreeFunction": "0.238",
                                    "Age": "32",
                                    "Outcome": "1"
                                },
                                {
                                    "Pregnancies": "8",
                                    "Glucose": "105",
                                    "BloodPressure": "100",
                                    "SkinThickness": "36",
                                    "Insulin": "0",
                                    "BMI": "43.3",
                                    "DiabetesPedigreeFunction": "0.239",
                                    "Age": "45",
                                    "Outcome": "1"
                                },
                                {
                                    "Pregnancies": "5",
                                    "Glucose": "166",
                                    "BloodPressure": "76",
                                    "SkinThickness": "0",
                                    "Insulin": "0",
                                    "BMI": "45.7",
                                    "DiabetesPedigreeFunction": "0.34",
                                    "Age": "27",
                                    "Outcome": "1"
                                },
                                {
                                    "Pregnancies": "1",
                                    "Glucose": "172",
                                    "BloodPressure": "68",
                                    "SkinThickness": "49",
                                    "Insulin": "579",
                                    "BMI": "42.4",
                                    "DiabetesPedigreeFunction": "0.702",
                                    "Age": "28",
                                    "Outcome": "1"
                                },
                                {
                                    "Pregnancies": "3",
                                    "Glucose": "173",
                                    "BloodPressure": "84",
                                    "SkinThickness": "33",
                                    "Insulin": "474",
                                    "BMI": "35.7",
                                    "DiabetesPedigreeFunction": "0.258",
                                    "Age": "22",
                                    "Outcome": "1"
                                },
                                {
                                    "Pregnancies": "4",
                                    "Glucose": "144",
                                    "BloodPressure": "82",
                                    "SkinThickness": "32",
                                    "Insulin": "0",
                                    "BMI": "38.5",
                                    "DiabetesPedigreeFunction": "0.554",
                                    "Age": "37",
                                    "Outcome": "1"
                                },
                                {
                                    "Pregnancies": "8",
                                    "Glucose": "151",
                                    "BloodPressure": "78",
                                    "SkinThickness": "32",
                                    "Insulin": "210",
                                    "BMI": "42.9",
                                    "DiabetesPedigreeFunction": "0.516",
                                    "Age": "36",
                                    "Outcome": "1"
                                },
                                {
                                    "Pregnancies": "4",
                                    "Glucose": "184",
                                    "BloodPressure": "78",
                                    "SkinThickness": "39",
                                    "Insulin": "277",
                                    "BMI": "37.0",
                                    "DiabetesPedigreeFunction": "0.264",
                                    "Age": "31",
                                    "Outcome": "1"
                                },
                                {
                                    "Pregnancies": "0",
                                    "Glucose": "141",
                                    "BloodPressure": "0",
                                    "SkinThickness": "0",
                                    "Insulin": "0",
                                    "BMI": "42.4",
                                    "DiabetesPedigreeFunction": "0.205",
                                    "Age": "29",
                                    "Outcome": "1"
                                },
                                {
                                    "Pregnancies": "0",
                                    "Glucose": "180",
                                    "BloodPressure": "78",
                                    "SkinThickness": "63",
                                    "Insulin": "14",
                                    "BMI": "59.4",
                                    "DiabetesPedigreeFunction": "2.42",
                                    "Age": "25",
                                    "Outcome": "1"
                                },
                                {
                                    "Pregnancies": "10",
                                    "Glucose": "148",
                                    "BloodPressure": "84",
                                    "SkinThickness": "48",
                                    "Insulin": "237",
                                    "BMI": "37.6",
                                    "DiabetesPedigreeFunction": "1.001",
                                    "Age": "51",
                                    "Outcome": "1"
                                },
                                {
                                    "Pregnancies": "3",
                                    "Glucose": "158",
                                    "BloodPressure": "70",
                                    "SkinThickness": "30",
                                    "Insulin": "328",
                                    "BMI": "35.5",
                                    "DiabetesPedigreeFunction": "0.344",
                                    "Age": "35",
                                    "Outcome": "1"
                                },
                                {
                                    "Pregnancies": "0",
                                    "Glucose": "145",
                                    "BloodPressure": "0",
                                    "SkinThickness": "0",
                                    "Insulin": "0",
                                    "BMI": "44.2",
                                    "DiabetesPedigreeFunction": "0.63",
                                    "Age": "31",
                                    "Outcome": "1"
                                },
                                {
                                    "Pregnancies": "0",
                                    "Glucose": "135",
                                    "BloodPressure": "68",
                                    "SkinThickness": "42",
                                    "Insulin": "250",
                                    "BMI": "42.3",
                                    "DiabetesPedigreeFunction": "0.365",
                                    "Age": "24",
                                    "Outcome": "1"
                                },
                                {
                                    "Pregnancies": "6",
                                    "Glucose": "0",
                                    "BloodPressure": "68",
                                    "SkinThickness": "41",
                                    "Insulin": "0",
                                    "BMI": "39.0",
                                    "DiabetesPedigreeFunction": "0.727",
                                    "Age": "41",
                                    "Outcome": "1"
                                },
                                {
                                    "Pregnancies": "0",
                                    "Glucose": "180",
                                    "BloodPressure": "90",
                                    "SkinThickness": "26",
                                    "Insulin": "90",
                                    "BMI": "36.5",
                                    "DiabetesPedigreeFunction": "0.314",
                                    "Age": "35",
                                    "Outcome": "1"
                                },
                                {
                                    "Pregnancies": "3",
                                    "Glucose": "129",
                                    "BloodPressure": "92",
                                    "SkinThickness": "49",
                                    "Insulin": "155",
                                    "BMI": "36.4",
                                    "DiabetesPedigreeFunction": "0.968",
                                    "Age": "32",
                                    "Outcome": "1"
                                },
                                {
                                    "Pregnancies": "8",
                                    "Glucose": "100",
                                    "BloodPressure": "74",
                                    "SkinThickness": "40",
                                    "Insulin": "215",
                                    "BMI": "39.4",
                                    "DiabetesPedigreeFunction": "0.661",
                                    "Age": "43",
                                    "Outcome": "1"
                                },
                                {
                                    "Pregnancies": "5",
                                    "Glucose": "187",
                                    "BloodPressure": "76",
                                    "SkinThickness": "27",
                                    "Insulin": "207",
                                    "BMI": "43.6",
                                    "DiabetesPedigreeFunction": "1.034",
                                    "Age": "53",
                                    "Outcome": "1"
                                },
                                {
                                    "Pregnancies": "0",
                                    "Glucose": "198",
                                    "BloodPressure": "66",
                                    "SkinThickness": "32",
                                    "Insulin": "274",
                                    "BMI": "41.3",
                                    "DiabetesPedigreeFunction": "0.502",
                                    "Age": "28",
                                    "Outcome": "1"
                                },
                                {
                                    "Pregnancies": "2",
                                    "Glucose": "118",
                                    "BloodPressure": "80",
                                    "SkinThickness": "0",
                                    "Insulin": "0",
                                    "BMI": "42.9",
                                    "DiabetesPedigreeFunction": "0.693",
                                    "Age": "21",
                                    "Outcome": "1"
                                },
                                {
                                    "Pregnancies": "0",
                                    "Glucose": "151",
                                    "BloodPressure": "90",
                                    "SkinThickness": "46",
                                    "Insulin": "0",
                                    "BMI": "42.1",
                                    "DiabetesPedigreeFunction": "0.371",
                                    "Age": "21",
                                    "Outcome": "1"
                                },
                                {
                                    "Pregnancies": "11",
                                    "Glucose": "111",
                                    "BloodPressure": "84",
                                    "SkinThickness": "40",
                                    "Insulin": "0",
                                    "BMI": "46.8",
                                    "DiabetesPedigreeFunction": "0.925",
                                    "Age": "45",
                                    "Outcome": "1"
                                },
                                {
                                    "Pregnancies": "1",
                                    "Glucose": "173",
                                    "BloodPressure": "74",
                                    "SkinThickness": "0",
                                    "Insulin": "0",
                                    "BMI": "36.8",
                                    "DiabetesPedigreeFunction": "0.088",
                                    "Age": "38",
                                    "Outcome": "1"
                                },
                                {
                                    "Pregnancies": "7",
                                    "Glucose": "150",
                                    "BloodPressure": "78",
                                    "SkinThickness": "29",
                                    "Insulin": "126",
                                    "BMI": "35.2",
                                    "DiabetesPedigreeFunction": "0.692",
                                    "Age": "54",
                                    "Outcome": "1"
                                },
                                {
                                    "Pregnancies": "1",
                                    "Glucose": "181",
                                    "BloodPressure": "78",
                                    "SkinThickness": "42",
                                    "Insulin": "293",
                                    "BMI": "40.0",
                                    "DiabetesPedigreeFunction": "1.258",
                                    "Age": "22",
                                    "Outcome": "1"
                                },
                                {
                                    "Pregnancies": "7",
                                    "Glucose": "168",
                                    "BloodPressure": "88",
                                    "SkinThickness": "42",
                                    "Insulin": "321",
                                    "BMI": "38.2",
                                    "DiabetesPedigreeFunction": "0.787",
                                    "Age": "40",
                                    "Outcome": "1"
                                },
                                {
                                    "Pregnancies": "11",
                                    "Glucose": "138",
                                    "BloodPressure": "74",
                                    "SkinThickness": "26",
                                    "Insulin": "144",
                                    "BMI": "36.1",
                                    "DiabetesPedigreeFunction": "0.557",
                                    "Age": "50",
                                    "Outcome": "1"
                                },
                                {
                                    "Pregnancies": "7",
                                    "Glucose": "97",
                                    "BloodPressure": "76",
                                    "SkinThickness": "32",
                                    "Insulin": "91",
                                    "BMI": "40.9",
                                    "DiabetesPedigreeFunction": "0.871",
                                    "Age": "32",
                                    "Outcome": "1"
                                },
                                {
                                    "Pregnancies": "0",
                                    "Glucose": "179",
                                    "BloodPressure": "50",
                                    "SkinThickness": "36",
                                    "Insulin": "159",
                                    "BMI": "37.8",
                                    "DiabetesPedigreeFunction": "0.455",
                                    "Age": "22",
                                    "Outcome": "1"
                                },
                                {
                                    "Pregnancies": "2",
                                    "Glucose": "155",
                                    "BloodPressure": "52",
                                    "SkinThickness": "27",
                                    "Insulin": "540",
                                    "BMI": "38.7",
                                    "DiabetesPedigreeFunction": "0.24",
                                    "Age": "25",
                                    "Outcome": "1"
                                },
                                {
                                    "Pregnancies": "1",
                                    "Glucose": "199",
                                    "BloodPressure": "76",
                                    "SkinThickness": "43",
                                    "Insulin": "0",
                                    "BMI": "42.9",
                                    "DiabetesPedigreeFunction": "1.394",
                                    "Age": "22",
                                    "Outcome": "1"
                                },
                                {
                                    "Pregnancies": "8",
                                    "Glucose": "167",
                                    "BloodPressure": "106",
                                    "SkinThickness": "46",
                                    "Insulin": "231",
                                    "BMI": "37.6",
                                    "DiabetesPedigreeFunction": "0.165",
                                    "Age": "43",
                                    "Outcome": "1"
                                },
                                {
                                    "Pregnancies": "9",
                                    "Glucose": "145",
                                    "BloodPressure": "80",
                                    "SkinThickness": "46",
                                    "Insulin": "130",
                                    "BMI": "37.9",
                                    "DiabetesPedigreeFunction": "0.637",
                                    "Age": "40",
                                    "Outcome": "1"
                                },
                                {
                                    "Pregnancies": "3",
                                    "Glucose": "121",
                                    "BloodPressure": "52",
                                    "SkinThickness": "0",
                                    "Insulin": "0",
                                    "BMI": "36.0",
                                    "DiabetesPedigreeFunction": "0.127",
                                    "Age": "25",
                                    "Outcome": "1"
                                },
                                {
                                    "Pregnancies": "0",
                                    "Glucose": "162",
                                    "BloodPressure": "76",
                                    "SkinThickness": "36",
                                    "Insulin": "0",
                                    "BMI": "49.6",
                                    "DiabetesPedigreeFunction": "0.364",
                                    "Age": "26",
                                    "Outcome": "1"
                                },
                                {
                                    "Pregnancies": "1",
                                    "Glucose": "144",
                                    "BloodPressure": "82",
                                    "SkinThickness": "46",
                                    "Insulin": "180",
                                    "BMI": "46.1",
                                    "DiabetesPedigreeFunction": "0.335",
                                    "Age": "46",
                                    "Outcome": "1"
                                },
                                {
                                    "Pregnancies": "13",
                                    "Glucose": "158",
                                    "BloodPressure": "114",
                                    "SkinThickness": "0",
                                    "Insulin": "0",
                                    "BMI": "42.3",
                                    "DiabetesPedigreeFunction": "0.257",
                                    "Age": "44",
                                    "Outcome": "1"
                                },
                                {
                                    "Pregnancies": "7",
                                    "Glucose": "129",
                                    "BloodPressure": "68",
                                    "SkinThickness": "49",
                                    "Insulin": "125",
                                    "BMI": "38.5",
                                    "DiabetesPedigreeFunction": "0.439",
                                    "Age": "43",
                                    "Outcome": "1"
                                },
                                {
                                    "Pregnancies": "2",
                                    "Glucose": "93",
                                    "BloodPressure": "64",
                                    "SkinThickness": "32",
                                    "Insulin": "160",
                                    "BMI": "38.0",
                                    "DiabetesPedigreeFunction": "0.674",
                                    "Age": "23",
                                    "Outcome": "1"
                                },
                                {
                                    "Pregnancies": "10",
                                    "Glucose": "129",
                                    "BloodPressure": "62",
                                    "SkinThickness": "36",
                                    "Insulin": "0",
                                    "BMI": "41.2",
                                    "DiabetesPedigreeFunction": "0.441",
                                    "Age": "38",
                                    "Outcome": "1"
                                },
                                {
                                    "Pregnancies": "5",
                                    "Glucose": "97",
                                    "BloodPressure": "76",
                                    "SkinThickness": "27",
                                    "Insulin": "0",
                                    "BMI": "35.6",
                                    "DiabetesPedigreeFunction": "0.378",
                                    "Age": "52",
                                    "Outcome": "1"
                                },
                                {
                                    "Pregnancies": "2",
                                    "Glucose": "174",
                                    "BloodPressure": "88",
                                    "SkinThickness": "37",
                                    "Insulin": "120",
                                    "BMI": "44.5",
                                    "DiabetesPedigreeFunction": "0.646",
                                    "Age": "24",
                                    "Outcome": "1"
                                },
                                {
                                    "Pregnancies": "1",
                                    "Glucose": "102",
                                    "BloodPressure": "74",
                                    "SkinThickness": "0",
                                    "Insulin": "0",
                                    "BMI": "39.5",
                                    "DiabetesPedigreeFunction": "0.293",
                                    "Age": "42",
                                    "Outcome": "1"
                                },
                                {
                                    "Pregnancies": "11",
                                    "Glucose": "120",
                                    "BloodPressure": "80",
                                    "SkinThickness": "37",
                                    "Insulin": "150",
                                    "BMI": "42.3",
                                    "DiabetesPedigreeFunction": "0.785",
                                    "Age": "48",
                                    "Outcome": "1"
                                },
                                {
                                    "Pregnancies": "1",
                                    "Glucose": "147",
                                    "BloodPressure": "94",
                                    "SkinThickness": "41",
                                    "Insulin": "0",
                                    "BMI": "49.3",
                                    "DiabetesPedigreeFunction": "0.358",
                                    "Age": "27",
                                    "Outcome": "1"
                                },
                                {
                                    "Pregnancies": "3",
                                    "Glucose": "187",
                                    "BloodPressure": "70",
                                    "SkinThickness": "22",
                                    "Insulin": "200",
                                    "BMI": "36.4",
                                    "DiabetesPedigreeFunction": "0.408",
                                    "Age": "36",
                                    "Outcome": "1"
                                },
                                {
                                    "Pregnancies": "0",
                                    "Glucose": "181",
                                    "BloodPressure": "88",
                                    "SkinThickness": "44",
                                    "Insulin": "510",
                                    "BMI": "43.3",
                                    "DiabetesPedigreeFunction": "0.222",
                                    "Age": "26",
                                    "Outcome": "1"
                                },
                                {
                                    "Pregnancies": "1",
                                    "Glucose": "128",
                                    "BloodPressure": "88",
                                    "SkinThickness": "39",
                                    "Insulin": "110",
                                    "BMI": "36.5",
                                    "DiabetesPedigreeFunction": "1.057",
                                    "Age": "37",
                                    "Outcome": "1"
                                },
                                {
                                    "Pregnancies": "0",
                                    "Glucose": "123",
                                    "BloodPressure": "72",
                                    "SkinThickness": "0",
                                    "Insulin": "0",
                                    "BMI": "36.3",
                                    "DiabetesPedigreeFunction": "0.258",
                                    "Age": "52",
                                    "Outcome": "1"
                                },
                                {
                                    "Pregnancies": "6",
                                    "Glucose": "190",
                                    "BloodPressure": "92",
                                    "SkinThickness": "0",
                                    "Insulin": "0",
                                    "BMI": "35.5",
                                    "DiabetesPedigreeFunction": "0.278",
                                    "Age": "66",
                                    "Outcome": "1"
                                },
                                {
                                    "Pregnancies": "9",
                                    "Glucose": "170",
                                    "BloodPressure": "74",
                                    "SkinThickness": "31",
                                    "Insulin": "0",
                                    "BMI": "44.0",
                                    "DiabetesPedigreeFunction": "0.403",
                                    "Age": "43",
                                    "Outcome": "1"
                                }
                            ]
                        },
                        "text/html": [
                            "<table>",
                            "<tr><th>Pregnancies</th><th>Glucose</th><th>BloodPressure</th><th>SkinThickness</th><th>Insulin</th><th>BMI</th><th>DiabetesPedigreeFunction</th><th>Age</th><th>Outcome</th></tr>",
                            "<tr><td>0</td><td>137</td><td>40</td><td>35</td><td>168</td><td>43.1</td><td>2.288</td><td>33</td><td>1</td></tr>",
                            "<tr><td>10</td><td>168</td><td>74</td><td>0</td><td>0</td><td>38.0</td><td>0.537</td><td>34</td><td>1</td></tr>",
                            "<tr><td>0</td><td>118</td><td>84</td><td>47</td><td>230</td><td>45.8</td><td>0.551</td><td>31</td><td>1</td></tr>",
                            "<tr><td>7</td><td>196</td><td>90</td><td>0</td><td>0</td><td>39.8</td><td>0.451</td><td>41</td><td>1</td></tr>",
                            "<tr><td>11</td><td>143</td><td>94</td><td>33</td><td>146</td><td>36.6</td><td>0.254</td><td>51</td><td>1</td></tr>",
                            "<tr><td>7</td><td>147</td><td>76</td><td>0</td><td>0</td><td>39.4</td><td>0.257</td><td>43</td><td>1</td></tr>",
                            "<tr><td>2</td><td>90</td><td>68</td><td>42</td><td>0</td><td>38.2</td><td>0.503</td><td>27</td><td>1</td></tr>",
                            "<tr><td>4</td><td>111</td><td>72</td><td>47</td><td>207</td><td>37.1</td><td>1.39</td><td>56</td><td>1</td></tr>",
                            "<tr><td>9</td><td>171</td><td>110</td><td>24</td><td>240</td><td>45.4</td><td>0.721</td><td>54</td><td>1</td></tr>",
                            "<tr><td>0</td><td>180</td><td>66</td><td>39</td><td>0</td><td>42.0</td><td>1.893</td><td>25</td><td>1</td></tr>",
                            "<tr><td>7</td><td>103</td><td>66</td><td>32</td><td>0</td><td>39.1</td><td>0.344</td><td>31</td><td>1</td></tr>",
                            "<tr><td>7</td><td>187</td><td>68</td><td>39</td><td>304</td><td>37.7</td><td>0.254</td><td>41</td><td>1</td></tr>",
                            "<tr><td>13</td><td>126</td><td>90</td><td>0</td><td>0</td><td>43.4</td><td>0.583</td><td>42</td><td>1</td></tr>",
                            "<tr><td>0</td><td>131</td><td>0</td><td>0</td><td>0</td><td>43.2</td><td>0.27</td><td>26</td><td>1</td></tr>",
                            "<tr><td>5</td><td>137</td><td>108</td><td>0</td><td>0</td><td>48.8</td><td>0.227</td><td>37</td><td>1</td></tr>",
                            "<tr><td>15</td><td>136</td><td>70</td><td>32</td><td>110</td><td>37.1</td><td>0.153</td><td>43</td><td>1</td></tr>",
                            "<tr><td>1</td><td>122</td><td>90</td><td>51</td><td>220</td><td>49.7</td><td>0.325</td><td>31</td><td>1</td></tr>",
                            "<tr><td>1</td><td>163</td><td>72</td><td>0</td><td>0</td><td>39.0</td><td>1.222</td><td>33</td><td>1</td></tr>",
                            "<tr><td>0</td><td>95</td><td>85</td><td>25</td><td>36</td><td>37.4</td><td>0.247</td><td>24</td><td>1</td></tr>",
                            "<tr><td>0</td><td>162</td><td>76</td><td>56</td><td>100</td><td>53.2</td><td>0.759</td><td>25</td><td>1</td></tr>",
                            "<tr><td>1</td><td>88</td><td>30</td><td>42</td><td>99</td><td>55.0</td><td>0.496</td><td>26</td><td>1</td></tr>",
                            "<tr><td>8</td><td>188</td><td>78</td><td>0</td><td>0</td><td>47.9</td><td>0.137</td><td>43</td><td>1</td></tr>",
                            "<tr><td>7</td><td>152</td><td>88</td><td>44</td><td>0</td><td>50.0</td><td>0.337</td><td>36</td><td>1</td></tr>",
                            "<tr><td>17</td><td>163</td><td>72</td><td>41</td><td>114</td><td>40.9</td><td>0.817</td><td>47</td><td>1</td></tr>",
                            "<tr><td>6</td><td>134</td><td>70</td><td>23</td><td>130</td><td>35.4</td><td>0.542</td><td>29</td><td>1</td></tr>",
                            "<tr><td>0</td><td>129</td><td>110</td><td>46</td><td>130</td><td>67.1</td><td>0.319</td><td>26</td><td>1</td></tr>",
                            "<tr><td>5</td><td>130</td><td>82</td><td>0</td><td>0</td><td>39.1</td><td>0.956</td><td>37</td><td>1</td></tr>",
                            "<tr><td>7</td><td>194</td><td>68</td><td>28</td><td>0</td><td>35.9</td><td>0.745</td><td>41</td><td>1</td></tr>",
                            "<tr><td>11</td><td>135</td><td>0</td><td>0</td><td>0</td><td>52.3</td><td>0.578</td><td>40</td><td>1</td></tr>",
                            "<tr><td>5</td><td>158</td><td>84</td><td>41</td><td>210</td><td>39.4</td><td>0.395</td><td>29</td><td>1</td></tr>",
                            "<tr><td>8</td><td>196</td><td>76</td><td>29</td><td>280</td><td>37.5</td><td>0.605</td><td>57</td><td>1</td></tr>",
                            "<tr><td>5</td><td>162</td><td>104</td><td>0</td><td>0</td><td>37.7</td><td>0.151</td><td>52</td><td>1</td></tr>",
                            "<tr><td>7</td><td>184</td><td>84</td><td>33</td><td>0</td><td>35.5</td><td>0.355</td><td>41</td><td>1</td></tr>",
                            "<tr><td>0</td><td>140</td><td>65</td><td>26</td><td>130</td><td>42.6</td><td>0.431</td><td>24</td><td>1</td></tr>",
                            "<tr><td>12</td><td>151</td><td>70</td><td>40</td><td>271</td><td>41.8</td><td>0.742</td><td>38</td><td>1</td></tr>",
                            "<tr><td>5</td><td>109</td><td>62</td><td>41</td><td>129</td><td>35.8</td><td>0.514</td><td>25</td><td>1</td></tr>",
                            "<tr><td>5</td><td>112</td><td>66</td><td>0</td><td>0</td><td>37.8</td><td>0.261</td><td>41</td><td>1</td></tr>",
                            "<tr><td>3</td><td>162</td><td>52</td><td>38</td><td>0</td><td>37.2</td><td>0.652</td><td>24</td><td>1</td></tr>",
                            "<tr><td>4</td><td>142</td><td>86</td><td>0</td><td>0</td><td>44.0</td><td>0.645</td><td>22</td><td>1</td></tr>",
                            "<tr><td>6</td><td>134</td><td>80</td><td>37</td><td>370</td><td>46.2</td><td>0.238</td><td>46</td><td>1</td></tr>",
                            "<tr><td>4</td><td>171</td><td>72</td><td>0</td><td>0</td><td>43.6</td><td>0.479</td><td>26</td><td>1</td></tr>",
                            "<tr><td>7</td><td>181</td><td>84</td><td>21</td><td>192</td><td>35.9</td><td>0.586</td><td>51</td><td>1</td></tr>",
                            "<tr><td>0</td><td>179</td><td>90</td><td>27</td><td>0</td><td>44.1</td><td>0.686</td><td>23</td><td>1</td></tr>",
                            "<tr><td>0</td><td>138</td><td>0</td><td>0</td><td>0</td><td>36.3</td><td>0.933</td><td>25</td><td>1</td></tr>",
                            "<tr><td>10</td><td>101</td><td>86</td><td>37</td><td>0</td><td>45.6</td><td>1.136</td><td>38</td><td>1</td></tr>",
                            "<tr><td>0</td><td>146</td><td>70</td><td>0</td><td>0</td><td>37.9</td><td>0.334</td><td>28</td><td>1</td></tr>",
                            "<tr><td>1</td><td>119</td><td>86</td><td>39</td><td>220</td><td>45.6</td><td>0.808</td><td>29</td><td>1</td></tr>",
                            "<tr><td>0</td><td>107</td><td>62</td><td>30</td><td>74</td><td>36.6</td><td>0.757</td><td>25</td><td>1</td></tr>",
                            "<tr><td>2</td><td>128</td><td>78</td><td>37</td><td>182</td><td>43.3</td><td>1.224</td><td>31</td><td>1</td></tr>",
                            "<tr><td>1</td><td>128</td><td>48</td><td>45</td><td>194</td><td>40.5</td><td>0.613</td><td>24</td><td>1</td></tr>",
                            "<tr><td>14</td><td>100</td><td>78</td><td>25</td><td>184</td><td>36.6</td><td>0.412</td><td>46</td><td>1</td></tr>",
                            "<tr><td>5</td><td>115</td><td>98</td><td>0</td><td>0</td><td>52.9</td><td>0.209</td><td>28</td><td>1</td></tr>",
                            "<tr><td>7</td><td>109</td><td>80</td><td>31</td><td>0</td><td>35.9</td><td>1.127</td><td>43</td><td>1</td></tr>",
                            "<tr><td>1</td><td>122</td><td>64</td><td>32</td><td>156</td><td>35.1</td><td>0.692</td><td>30</td><td>1</td></tr>",
                            "<tr><td>2</td><td>102</td><td>86</td><td>36</td><td>120</td><td>45.5</td><td>0.127</td><td>23</td><td>1</td></tr>",
                            "<tr><td>1</td><td>180</td><td>0</td><td>0</td><td>0</td><td>43.3</td><td>0.282</td><td>41</td><td>1</td></tr>",
                            "<tr><td>7</td><td>178</td><td>84</td><td>0</td><td>0</td><td>39.9</td><td>0.331</td><td>41</td><td>1</td></tr>",
                            "<tr><td>5</td><td>0</td><td>80</td><td>32</td><td>0</td><td>41.0</td><td>0.346</td><td>37</td><td>1</td></tr>",
                            "<tr><td>13</td><td>129</td><td>0</td><td>30</td><td>0</td><td>39.9</td><td>0.569</td><td>44</td><td>1</td></tr>",
                            "<tr><td>1</td><td>196</td><td>76</td><td>36</td><td>249</td><td>36.5</td><td>0.875</td><td>29</td><td>1</td></tr>",
                            "<tr><td>4</td><td>146</td><td>78</td><td>0</td><td>0</td><td>38.5</td><td>0.52</td><td>67</td><td>1</td></tr>",
                            "<tr><td>3</td><td>173</td><td>82</td><td>48</td><td>465</td><td>38.4</td><td>2.137</td><td>25</td><td>1</td></tr>",
                            "<tr><td>12</td><td>140</td><td>82</td><td>43</td><td>325</td><td>39.2</td><td>0.528</td><td>58</td><td>1</td></tr>",
                            "<tr><td>4</td><td>156</td><td>75</td><td>0</td><td>0</td><td>48.3</td><td>0.238</td><td>32</td><td>1</td></tr>",
                            "<tr><td>8</td><td>105</td><td>100</td><td>36</td><td>0</td><td>43.3</td><td>0.239</td><td>45</td><td>1</td></tr>",
                            "<tr><td>5</td><td>166</td><td>76</td><td>0</td><td>0</td><td>45.7</td><td>0.34</td><td>27</td><td>1</td></tr>",
                            "<tr><td>1</td><td>172</td><td>68</td><td>49</td><td>579</td><td>42.4</td><td>0.702</td><td>28</td><td>1</td></tr>",
                            "<tr><td>3</td><td>173</td><td>84</td><td>33</td><td>474</td><td>35.7</td><td>0.258</td><td>22</td><td>1</td></tr>",
                            "<tr><td>4</td><td>144</td><td>82</td><td>32</td><td>0</td><td>38.5</td><td>0.554</td><td>37</td><td>1</td></tr>",
                            "<tr><td>8</td><td>151</td><td>78</td><td>32</td><td>210</td><td>42.9</td><td>0.516</td><td>36</td><td>1</td></tr>",
                            "<tr><td>4</td><td>184</td><td>78</td><td>39</td><td>277</td><td>37.0</td><td>0.264</td><td>31</td><td>1</td></tr>",
                            "<tr><td>0</td><td>141</td><td>0</td><td>0</td><td>0</td><td>42.4</td><td>0.205</td><td>29</td><td>1</td></tr>",
                            "<tr><td>0</td><td>180</td><td>78</td><td>63</td><td>14</td><td>59.4</td><td>2.42</td><td>25</td><td>1</td></tr>",
                            "<tr><td>10</td><td>148</td><td>84</td><td>48</td><td>237</td><td>37.6</td><td>1.001</td><td>51</td><td>1</td></tr>",
                            "<tr><td>3</td><td>158</td><td>70</td><td>30</td><td>328</td><td>35.5</td><td>0.344</td><td>35</td><td>1</td></tr>",
                            "<tr><td>0</td><td>145</td><td>0</td><td>0</td><td>0</td><td>44.2</td><td>0.63</td><td>31</td><td>1</td></tr>",
                            "<tr><td>0</td><td>135</td><td>68</td><td>42</td><td>250</td><td>42.3</td><td>0.365</td><td>24</td><td>1</td></tr>",
                            "<tr><td>6</td><td>0</td><td>68</td><td>41</td><td>0</td><td>39.0</td><td>0.727</td><td>41</td><td>1</td></tr>",
                            "<tr><td>0</td><td>180</td><td>90</td><td>26</td><td>90</td><td>36.5</td><td>0.314</td><td>35</td><td>1</td></tr>",
                            "<tr><td>3</td><td>129</td><td>92</td><td>49</td><td>155</td><td>36.4</td><td>0.968</td><td>32</td><td>1</td></tr>",
                            "<tr><td>8</td><td>100</td><td>74</td><td>40</td><td>215</td><td>39.4</td><td>0.661</td><td>43</td><td>1</td></tr>",
                            "<tr><td>5</td><td>187</td><td>76</td><td>27</td><td>207</td><td>43.6</td><td>1.034</td><td>53</td><td>1</td></tr>",
                            "<tr><td>0</td><td>198</td><td>66</td><td>32</td><td>274</td><td>41.3</td><td>0.502</td><td>28</td><td>1</td></tr>",
                            "<tr><td>2</td><td>118</td><td>80</td><td>0</td><td>0</td><td>42.9</td><td>0.693</td><td>21</td><td>1</td></tr>",
                            "<tr><td>0</td><td>151</td><td>90</td><td>46</td><td>0</td><td>42.1</td><td>0.371</td><td>21</td><td>1</td></tr>",
                            "<tr><td>11</td><td>111</td><td>84</td><td>40</td><td>0</td><td>46.8</td><td>0.925</td><td>45</td><td>1</td></tr>",
                            "<tr><td>1</td><td>173</td><td>74</td><td>0</td><td>0</td><td>36.8</td><td>0.088</td><td>38</td><td>1</td></tr>",
                            "<tr><td>7</td><td>150</td><td>78</td><td>29</td><td>126</td><td>35.2</td><td>0.692</td><td>54</td><td>1</td></tr>",
                            "<tr><td>1</td><td>181</td><td>78</td><td>42</td><td>293</td><td>40.0</td><td>1.258</td><td>22</td><td>1</td></tr>",
                            "<tr><td>7</td><td>168</td><td>88</td><td>42</td><td>321</td><td>38.2</td><td>0.787</td><td>40</td><td>1</td></tr>",
                            "<tr><td>11</td><td>138</td><td>74</td><td>26</td><td>144</td><td>36.1</td><td>0.557</td><td>50</td><td>1</td></tr>",
                            "<tr><td>7</td><td>97</td><td>76</td><td>32</td><td>91</td><td>40.9</td><td>0.871</td><td>32</td><td>1</td></tr>",
                            "<tr><td>0</td><td>179</td><td>50</td><td>36</td><td>159</td><td>37.8</td><td>0.455</td><td>22</td><td>1</td></tr>",
                            "<tr><td>2</td><td>155</td><td>52</td><td>27</td><td>540</td><td>38.7</td><td>0.24</td><td>25</td><td>1</td></tr>",
                            "<tr><td>1</td><td>199</td><td>76</td><td>43</td><td>0</td><td>42.9</td><td>1.394</td><td>22</td><td>1</td></tr>",
                            "<tr><td>8</td><td>167</td><td>106</td><td>46</td><td>231</td><td>37.6</td><td>0.165</td><td>43</td><td>1</td></tr>",
                            "<tr><td>9</td><td>145</td><td>80</td><td>46</td><td>130</td><td>37.9</td><td>0.637</td><td>40</td><td>1</td></tr>",
                            "<tr><td>3</td><td>121</td><td>52</td><td>0</td><td>0</td><td>36.0</td><td>0.127</td><td>25</td><td>1</td></tr>",
                            "<tr><td>0</td><td>162</td><td>76</td><td>36</td><td>0</td><td>49.6</td><td>0.364</td><td>26</td><td>1</td></tr>",
                            "<tr><td>1</td><td>144</td><td>82</td><td>46</td><td>180</td><td>46.1</td><td>0.335</td><td>46</td><td>1</td></tr>",
                            "<tr><td>13</td><td>158</td><td>114</td><td>0</td><td>0</td><td>42.3</td><td>0.257</td><td>44</td><td>1</td></tr>",
                            "<tr><td>7</td><td>129</td><td>68</td><td>49</td><td>125</td><td>38.5</td><td>0.439</td><td>43</td><td>1</td></tr>",
                            "<tr><td>2</td><td>93</td><td>64</td><td>32</td><td>160</td><td>38.0</td><td>0.674</td><td>23</td><td>1</td></tr>",
                            "<tr><td>10</td><td>129</td><td>62</td><td>36</td><td>0</td><td>41.2</td><td>0.441</td><td>38</td><td>1</td></tr>",
                            "<tr><td>5</td><td>97</td><td>76</td><td>27</td><td>0</td><td>35.6</td><td>0.378</td><td>52</td><td>1</td></tr>",
                            "<tr><td>2</td><td>174</td><td>88</td><td>37</td><td>120</td><td>44.5</td><td>0.646</td><td>24</td><td>1</td></tr>",
                            "<tr><td>1</td><td>102</td><td>74</td><td>0</td><td>0</td><td>39.5</td><td>0.293</td><td>42</td><td>1</td></tr>",
                            "<tr><td>11</td><td>120</td><td>80</td><td>37</td><td>150</td><td>42.3</td><td>0.785</td><td>48</td><td>1</td></tr>",
                            "<tr><td>1</td><td>147</td><td>94</td><td>41</td><td>0</td><td>49.3</td><td>0.358</td><td>27</td><td>1</td></tr>",
                            "<tr><td>3</td><td>187</td><td>70</td><td>22</td><td>200</td><td>36.4</td><td>0.408</td><td>36</td><td>1</td></tr>",
                            "<tr><td>0</td><td>181</td><td>88</td><td>44</td><td>510</td><td>43.3</td><td>0.222</td><td>26</td><td>1</td></tr>",
                            "<tr><td>1</td><td>128</td><td>88</td><td>39</td><td>110</td><td>36.5</td><td>1.057</td><td>37</td><td>1</td></tr>",
                            "<tr><td>0</td><td>123</td><td>72</td><td>0</td><td>0</td><td>36.3</td><td>0.258</td><td>52</td><td>1</td></tr>",
                            "<tr><td>6</td><td>190</td><td>92</td><td>0</td><td>0</td><td>35.5</td><td>0.278</td><td>66</td><td>1</td></tr>",
                            "<tr><td>9</td><td>170</td><td>74</td><td>31</td><td>0</td><td>44.0</td><td>0.403</td><td>43</td><td>1</td></tr>",
                            "</table>"
                        ]
                    }
                }
            ],
            "execution_count": 16
        },
        {
            "cell_type": "markdown",
            "source": [
                "### Display the records where the Glucose level is above 150 and the BloodPressure is below 80."
            ],
            "metadata": {
                "language": "sql",
                "azdata_cell_guid": "4e8becc2-ec32-468a-b924-cea8ae7b73b1"
            },
            "attachments": {}
        },
        {
            "cell_type": "code",
            "source": [
                "select * from diabetes\r\n",
                "WHERE Glucose > 150 and BloodPressure < 80;"
            ],
            "metadata": {
                "language": "sql",
                "azdata_cell_guid": "34117fc2-1894-49c4-be55-993164c21db6"
            },
            "outputs": [
                {
                    "output_type": "display_data",
                    "data": {
                        "text/html": "(94 row(s) affected)"
                    },
                    "metadata": {}
                },
                {
                    "output_type": "display_data",
                    "data": {
                        "text/html": "Total execution time: 00:00:01.017"
                    },
                    "metadata": {}
                },
                {
                    "output_type": "execute_result",
                    "metadata": {},
                    "execution_count": 18,
                    "data": {
                        "application/vnd.dataresource+json": {
                            "schema": {
                                "fields": [
                                    {
                                        "name": "Pregnancies"
                                    },
                                    {
                                        "name": "Glucose"
                                    },
                                    {
                                        "name": "BloodPressure"
                                    },
                                    {
                                        "name": "SkinThickness"
                                    },
                                    {
                                        "name": "Insulin"
                                    },
                                    {
                                        "name": "BMI"
                                    },
                                    {
                                        "name": "DiabetesPedigreeFunction"
                                    },
                                    {
                                        "name": "Age"
                                    },
                                    {
                                        "name": "Outcome"
                                    }
                                ]
                            },
                            "data": [
                                {
                                    "Pregnancies": "8",
                                    "Glucose": "183",
                                    "BloodPressure": "64",
                                    "SkinThickness": "0",
                                    "Insulin": "0",
                                    "BMI": "23.3",
                                    "DiabetesPedigreeFunction": "0.672",
                                    "Age": "32",
                                    "Outcome": "1"
                                },
                                {
                                    "Pregnancies": "2",
                                    "Glucose": "197",
                                    "BloodPressure": "70",
                                    "SkinThickness": "45",
                                    "Insulin": "543",
                                    "BMI": "30.5",
                                    "DiabetesPedigreeFunction": "0.158",
                                    "Age": "53",
                                    "Outcome": "1"
                                },
                                {
                                    "Pregnancies": "10",
                                    "Glucose": "168",
                                    "BloodPressure": "74",
                                    "SkinThickness": "0",
                                    "Insulin": "0",
                                    "BMI": "38.0",
                                    "DiabetesPedigreeFunction": "0.537",
                                    "Age": "34",
                                    "Outcome": "1"
                                },
                                {
                                    "Pregnancies": "1",
                                    "Glucose": "189",
                                    "BloodPressure": "60",
                                    "SkinThickness": "23",
                                    "Insulin": "846",
                                    "BMI": "30.1",
                                    "DiabetesPedigreeFunction": "0.398",
                                    "Age": "59",
                                    "Outcome": "1"
                                },
                                {
                                    "Pregnancies": "5",
                                    "Glucose": "166",
                                    "BloodPressure": "72",
                                    "SkinThickness": "19",
                                    "Insulin": "175",
                                    "BMI": "25.8",
                                    "DiabetesPedigreeFunction": "0.587",
                                    "Age": "51",
                                    "Outcome": "1"
                                },
                                {
                                    "Pregnancies": "3",
                                    "Glucose": "158",
                                    "BloodPressure": "76",
                                    "SkinThickness": "36",
                                    "Insulin": "245",
                                    "BMI": "31.6",
                                    "DiabetesPedigreeFunction": "0.851",
                                    "Age": "28",
                                    "Outcome": "1"
                                },
                                {
                                    "Pregnancies": "3",
                                    "Glucose": "180",
                                    "BloodPressure": "64",
                                    "SkinThickness": "25",
                                    "Insulin": "70",
                                    "BMI": "34.0",
                                    "DiabetesPedigreeFunction": "0.271",
                                    "Age": "26",
                                    "Outcome": "0"
                                },
                                {
                                    "Pregnancies": "7",
                                    "Glucose": "159",
                                    "BloodPressure": "64",
                                    "SkinThickness": "0",
                                    "Insulin": "0",
                                    "BMI": "27.4",
                                    "DiabetesPedigreeFunction": "0.294",
                                    "Age": "40",
                                    "Outcome": "0"
                                },
                                {
                                    "Pregnancies": "0",
                                    "Glucose": "180",
                                    "BloodPressure": "66",
                                    "SkinThickness": "39",
                                    "Insulin": "0",
                                    "BMI": "42.0",
                                    "DiabetesPedigreeFunction": "1.893",
                                    "Age": "25",
                                    "Outcome": "1"
                                },
                                {
                                    "Pregnancies": "7",
                                    "Glucose": "187",
                                    "BloodPressure": "68",
                                    "SkinThickness": "39",
                                    "Insulin": "304",
                                    "BMI": "37.7",
                                    "DiabetesPedigreeFunction": "0.254",
                                    "Age": "41",
                                    "Outcome": "1"
                                },
                                {
                                    "Pregnancies": "1",
                                    "Glucose": "163",
                                    "BloodPressure": "72",
                                    "SkinThickness": "0",
                                    "Insulin": "0",
                                    "BMI": "39.0",
                                    "DiabetesPedigreeFunction": "1.222",
                                    "Age": "33",
                                    "Outcome": "1"
                                },
                                {
                                    "Pregnancies": "1",
                                    "Glucose": "151",
                                    "BloodPressure": "60",
                                    "SkinThickness": "0",
                                    "Insulin": "0",
                                    "BMI": "26.1",
                                    "DiabetesPedigreeFunction": "0.179",
                                    "Age": "22",
                                    "Outcome": "0"
                                },
                                {
                                    "Pregnancies": "3",
                                    "Glucose": "171",
                                    "BloodPressure": "72",
                                    "SkinThickness": "33",
                                    "Insulin": "135",
                                    "BMI": "33.3",
                                    "DiabetesPedigreeFunction": "0.199",
                                    "Age": "24",
                                    "Outcome": "1"
                                },
                                {
                                    "Pregnancies": "8",
                                    "Glucose": "155",
                                    "BloodPressure": "62",
                                    "SkinThickness": "26",
                                    "Insulin": "495",
                                    "BMI": "34.0",
                                    "DiabetesPedigreeFunction": "0.543",
                                    "Age": "46",
                                    "Outcome": "1"
                                },
                                {
                                    "Pregnancies": "7",
                                    "Glucose": "160",
                                    "BloodPressure": "54",
                                    "SkinThickness": "32",
                                    "Insulin": "175",
                                    "BMI": "30.5",
                                    "DiabetesPedigreeFunction": "0.588",
                                    "Age": "39",
                                    "Outcome": "1"
                                },
                                {
                                    "Pregnancies": "0",
                                    "Glucose": "162",
                                    "BloodPressure": "76",
                                    "SkinThickness": "56",
                                    "Insulin": "100",
                                    "BMI": "53.2",
                                    "DiabetesPedigreeFunction": "0.759",
                                    "Age": "25",
                                    "Outcome": "1"
                                },
                                {
                                    "Pregnancies": "4",
                                    "Glucose": "173",
                                    "BloodPressure": "70",
                                    "SkinThickness": "14",
                                    "Insulin": "168",
                                    "BMI": "29.7",
                                    "DiabetesPedigreeFunction": "0.361",
                                    "Age": "33",
                                    "Outcome": "1"
                                },
                                {
                                    "Pregnancies": "3",
                                    "Glucose": "170",
                                    "BloodPressure": "64",
                                    "SkinThickness": "37",
                                    "Insulin": "225",
                                    "BMI": "34.5",
                                    "DiabetesPedigreeFunction": "0.356",
                                    "Age": "30",
                                    "Outcome": "1"
                                },
                                {
                                    "Pregnancies": "4",
                                    "Glucose": "154",
                                    "BloodPressure": "62",
                                    "SkinThickness": "31",
                                    "Insulin": "284",
                                    "BMI": "32.8",
                                    "DiabetesPedigreeFunction": "0.237",
                                    "Age": "23",
                                    "Outcome": "0"
                                },
                                {
                                    "Pregnancies": "8",
                                    "Glucose": "188",
                                    "BloodPressure": "78",
                                    "SkinThickness": "0",
                                    "Insulin": "0",
                                    "BMI": "47.9",
                                    "DiabetesPedigreeFunction": "0.137",
                                    "Age": "43",
                                    "Outcome": "1"
                                },
                                {
                                    "Pregnancies": "17",
                                    "Glucose": "163",
                                    "BloodPressure": "72",
                                    "SkinThickness": "41",
                                    "Insulin": "114",
                                    "BMI": "40.9",
                                    "DiabetesPedigreeFunction": "0.817",
                                    "Age": "47",
                                    "Outcome": "1"
                                },
                                {
                                    "Pregnancies": "8",
                                    "Glucose": "179",
                                    "BloodPressure": "72",
                                    "SkinThickness": "42",
                                    "Insulin": "130",
                                    "BMI": "32.7",
                                    "DiabetesPedigreeFunction": "0.719",
                                    "Age": "36",
                                    "Outcome": "1"
                                },
                                {
                                    "Pregnancies": "7",
                                    "Glucose": "194",
                                    "BloodPressure": "68",
                                    "SkinThickness": "28",
                                    "Insulin": "0",
                                    "BMI": "35.9",
                                    "DiabetesPedigreeFunction": "0.745",
                                    "Age": "41",
                                    "Outcome": "1"
                                },
                                {
                                    "Pregnancies": "8",
                                    "Glucose": "181",
                                    "BloodPressure": "68",
                                    "SkinThickness": "36",
                                    "Insulin": "495",
                                    "BMI": "30.1",
                                    "DiabetesPedigreeFunction": "0.615",
                                    "Age": "60",
                                    "Outcome": "1"
                                },
                                {
                                    "Pregnancies": "7",
                                    "Glucose": "159",
                                    "BloodPressure": "66",
                                    "SkinThickness": "0",
                                    "Insulin": "0",
                                    "BMI": "30.4",
                                    "DiabetesPedigreeFunction": "0.383",
                                    "Age": "36",
                                    "Outcome": "1"
                                },
                                {
                                    "Pregnancies": "8",
                                    "Glucose": "196",
                                    "BloodPressure": "76",
                                    "SkinThickness": "29",
                                    "Insulin": "280",
                                    "BMI": "37.5",
                                    "DiabetesPedigreeFunction": "0.605",
                                    "Age": "57",
                                    "Outcome": "1"
                                },
                                {
                                    "Pregnancies": "12",
                                    "Glucose": "151",
                                    "BloodPressure": "70",
                                    "SkinThickness": "40",
                                    "Insulin": "271",
                                    "BMI": "41.8",
                                    "DiabetesPedigreeFunction": "0.742",
                                    "Age": "38",
                                    "Outcome": "1"
                                },
                                {
                                    "Pregnancies": "0",
                                    "Glucose": "177",
                                    "BloodPressure": "60",
                                    "SkinThickness": "29",
                                    "Insulin": "478",
                                    "BMI": "34.6",
                                    "DiabetesPedigreeFunction": "1.072",
                                    "Age": "21",
                                    "Outcome": "1"
                                },
                                {
                                    "Pregnancies": "3",
                                    "Glucose": "162",
                                    "BloodPressure": "52",
                                    "SkinThickness": "38",
                                    "Insulin": "0",
                                    "BMI": "37.2",
                                    "DiabetesPedigreeFunction": "0.652",
                                    "Age": "24",
                                    "Outcome": "1"
                                },
                                {
                                    "Pregnancies": "4",
                                    "Glucose": "197",
                                    "BloodPressure": "70",
                                    "SkinThickness": "39",
                                    "Insulin": "744",
                                    "BMI": "36.7",
                                    "DiabetesPedigreeFunction": "2.329",
                                    "Age": "31",
                                    "Outcome": "0"
                                },
                                {
                                    "Pregnancies": "4",
                                    "Glucose": "171",
                                    "BloodPressure": "72",
                                    "SkinThickness": "0",
                                    "Insulin": "0",
                                    "BMI": "43.6",
                                    "DiabetesPedigreeFunction": "0.479",
                                    "Age": "26",
                                    "Outcome": "1"
                                },
                                {
                                    "Pregnancies": "1",
                                    "Glucose": "193",
                                    "BloodPressure": "50",
                                    "SkinThickness": "16",
                                    "Insulin": "375",
                                    "BMI": "25.9",
                                    "DiabetesPedigreeFunction": "0.655",
                                    "Age": "24",
                                    "Outcome": "0"
                                },
                                {
                                    "Pregnancies": "11",
                                    "Glucose": "155",
                                    "BloodPressure": "76",
                                    "SkinThickness": "28",
                                    "Insulin": "150",
                                    "BMI": "33.3",
                                    "DiabetesPedigreeFunction": "1.353",
                                    "Age": "51",
                                    "Outcome": "1"
                                },
                                {
                                    "Pregnancies": "3",
                                    "Glucose": "191",
                                    "BloodPressure": "68",
                                    "SkinThickness": "15",
                                    "Insulin": "130",
                                    "BMI": "30.9",
                                    "DiabetesPedigreeFunction": "0.299",
                                    "Age": "34",
                                    "Outcome": "0"
                                },
                                {
                                    "Pregnancies": "0",
                                    "Glucose": "161",
                                    "BloodPressure": "50",
                                    "SkinThickness": "0",
                                    "Insulin": "0",
                                    "BMI": "21.9",
                                    "DiabetesPedigreeFunction": "0.254",
                                    "Age": "65",
                                    "Outcome": "0"
                                },
                                {
                                    "Pregnancies": "6",
                                    "Glucose": "151",
                                    "BloodPressure": "62",
                                    "SkinThickness": "31",
                                    "Insulin": "120",
                                    "BMI": "35.5",
                                    "DiabetesPedigreeFunction": "0.692",
                                    "Age": "28",
                                    "Outcome": "0"
                                },
                                {
                                    "Pregnancies": "0",
                                    "Glucose": "167",
                                    "BloodPressure": "0",
                                    "SkinThickness": "0",
                                    "Insulin": "0",
                                    "BMI": "32.3",
                                    "DiabetesPedigreeFunction": "0.839",
                                    "Age": "30",
                                    "Outcome": "1"
                                },
                                {
                                    "Pregnancies": "10",
                                    "Glucose": "161",
                                    "BloodPressure": "68",
                                    "SkinThickness": "23",
                                    "Insulin": "132",
                                    "BMI": "25.5",
                                    "DiabetesPedigreeFunction": "0.326",
                                    "Age": "47",
                                    "Outcome": "1"
                                },
                                {
                                    "Pregnancies": "2",
                                    "Glucose": "155",
                                    "BloodPressure": "74",
                                    "SkinThickness": "17",
                                    "Insulin": "96",
                                    "BMI": "26.6",
                                    "DiabetesPedigreeFunction": "0.433",
                                    "Age": "27",
                                    "Outcome": "1"
                                },
                                {
                                    "Pregnancies": "3",
                                    "Glucose": "182",
                                    "BloodPressure": "74",
                                    "SkinThickness": "0",
                                    "Insulin": "0",
                                    "BMI": "30.5",
                                    "DiabetesPedigreeFunction": "0.345",
                                    "Age": "29",
                                    "Outcome": "1"
                                },
                                {
                                    "Pregnancies": "6",
                                    "Glucose": "194",
                                    "BloodPressure": "78",
                                    "SkinThickness": "0",
                                    "Insulin": "0",
                                    "BMI": "23.5",
                                    "DiabetesPedigreeFunction": "0.129",
                                    "Age": "59",
                                    "Outcome": "1"
                                },
                                {
                                    "Pregnancies": "1",
                                    "Glucose": "157",
                                    "BloodPressure": "72",
                                    "SkinThickness": "21",
                                    "Insulin": "168",
                                    "BMI": "25.6",
                                    "DiabetesPedigreeFunction": "0.123",
                                    "Age": "24",
                                    "Outcome": "0"
                                },
                                {
                                    "Pregnancies": "10",
                                    "Glucose": "179",
                                    "BloodPressure": "70",
                                    "SkinThickness": "0",
                                    "Insulin": "0",
                                    "BMI": "35.1",
                                    "DiabetesPedigreeFunction": "0.2",
                                    "Age": "37",
                                    "Outcome": "0"
                                },
                                {
                                    "Pregnancies": "1",
                                    "Glucose": "180",
                                    "BloodPressure": "0",
                                    "SkinThickness": "0",
                                    "Insulin": "0",
                                    "BMI": "43.3",
                                    "DiabetesPedigreeFunction": "0.282",
                                    "Age": "41",
                                    "Outcome": "1"
                                },
                                {
                                    "Pregnancies": "0",
                                    "Glucose": "165",
                                    "BloodPressure": "76",
                                    "SkinThickness": "43",
                                    "Insulin": "255",
                                    "BMI": "47.9",
                                    "DiabetesPedigreeFunction": "0.259",
                                    "Age": "26",
                                    "Outcome": "0"
                                },
                                {
                                    "Pregnancies": "9",
                                    "Glucose": "152",
                                    "BloodPressure": "78",
                                    "SkinThickness": "34",
                                    "Insulin": "171",
                                    "BMI": "34.2",
                                    "DiabetesPedigreeFunction": "0.893",
                                    "Age": "33",
                                    "Outcome": "1"
                                },
                                {
                                    "Pregnancies": "1",
                                    "Glucose": "196",
                                    "BloodPressure": "76",
                                    "SkinThickness": "36",
                                    "Insulin": "249",
                                    "BMI": "36.5",
                                    "DiabetesPedigreeFunction": "0.875",
                                    "Age": "29",
                                    "Outcome": "1"
                                },
                                {
                                    "Pregnancies": "5",
                                    "Glucose": "189",
                                    "BloodPressure": "64",
                                    "SkinThickness": "33",
                                    "Insulin": "325",
                                    "BMI": "31.2",
                                    "DiabetesPedigreeFunction": "0.583",
                                    "Age": "29",
                                    "Outcome": "1"
                                },
                                {
                                    "Pregnancies": "5",
                                    "Glucose": "158",
                                    "BloodPressure": "70",
                                    "SkinThickness": "0",
                                    "Insulin": "0",
                                    "BMI": "29.8",
                                    "DiabetesPedigreeFunction": "0.207",
                                    "Age": "63",
                                    "Outcome": "0"
                                },
                                {
                                    "Pregnancies": "4",
                                    "Glucose": "156",
                                    "BloodPressure": "75",
                                    "SkinThickness": "0",
                                    "Insulin": "0",
                                    "BMI": "48.3",
                                    "DiabetesPedigreeFunction": "0.238",
                                    "Age": "32",
                                    "Outcome": "1"
                                },
                                {
                                    "Pregnancies": "5",
                                    "Glucose": "166",
                                    "BloodPressure": "76",
                                    "SkinThickness": "0",
                                    "Insulin": "0",
                                    "BMI": "45.7",
                                    "DiabetesPedigreeFunction": "0.34",
                                    "Age": "27",
                                    "Outcome": "1"
                                },
                                {
                                    "Pregnancies": "4",
                                    "Glucose": "158",
                                    "BloodPressure": "78",
                                    "SkinThickness": "0",
                                    "Insulin": "0",
                                    "BMI": "32.9",
                                    "DiabetesPedigreeFunction": "0.803",
                                    "Age": "31",
                                    "Outcome": "1"
                                },
                                {
                                    "Pregnancies": "3",
                                    "Glucose": "193",
                                    "BloodPressure": "70",
                                    "SkinThickness": "31",
                                    "Insulin": "0",
                                    "BMI": "34.9",
                                    "DiabetesPedigreeFunction": "0.241",
                                    "Age": "25",
                                    "Outcome": "1"
                                },
                                {
                                    "Pregnancies": "5",
                                    "Glucose": "168",
                                    "BloodPressure": "64",
                                    "SkinThickness": "0",
                                    "Insulin": "0",
                                    "BMI": "32.9",
                                    "DiabetesPedigreeFunction": "0.135",
                                    "Age": "41",
                                    "Outcome": "1"
                                },
                                {
                                    "Pregnancies": "8",
                                    "Glucose": "197",
                                    "BloodPressure": "74",
                                    "SkinThickness": "0",
                                    "Insulin": "0",
                                    "BMI": "25.9",
                                    "DiabetesPedigreeFunction": "1.191",
                                    "Age": "39",
                                    "Outcome": "1"
                                },
                                {
                                    "Pregnancies": "1",
                                    "Glucose": "172",
                                    "BloodPressure": "68",
                                    "SkinThickness": "49",
                                    "Insulin": "579",
                                    "BMI": "42.4",
                                    "DiabetesPedigreeFunction": "0.702",
                                    "Age": "28",
                                    "Outcome": "1"
                                },
                                {
                                    "Pregnancies": "8",
                                    "Glucose": "151",
                                    "BloodPressure": "78",
                                    "SkinThickness": "32",
                                    "Insulin": "210",
                                    "BMI": "42.9",
                                    "DiabetesPedigreeFunction": "0.516",
                                    "Age": "36",
                                    "Outcome": "1"
                                },
                                {
                                    "Pregnancies": "4",
                                    "Glucose": "184",
                                    "BloodPressure": "78",
                                    "SkinThickness": "39",
                                    "Insulin": "277",
                                    "BMI": "37.0",
                                    "DiabetesPedigreeFunction": "0.264",
                                    "Age": "31",
                                    "Outcome": "1"
                                },
                                {
                                    "Pregnancies": "1",
                                    "Glucose": "181",
                                    "BloodPressure": "64",
                                    "SkinThickness": "30",
                                    "Insulin": "180",
                                    "BMI": "34.1",
                                    "DiabetesPedigreeFunction": "0.328",
                                    "Age": "38",
                                    "Outcome": "1"
                                },
                                {
                                    "Pregnancies": "0",
                                    "Glucose": "180",
                                    "BloodPressure": "78",
                                    "SkinThickness": "63",
                                    "Insulin": "14",
                                    "BMI": "59.4",
                                    "DiabetesPedigreeFunction": "2.42",
                                    "Age": "25",
                                    "Outcome": "1"
                                },
                                {
                                    "Pregnancies": "14",
                                    "Glucose": "175",
                                    "BloodPressure": "62",
                                    "SkinThickness": "30",
                                    "Insulin": "0",
                                    "BMI": "33.6",
                                    "DiabetesPedigreeFunction": "0.212",
                                    "Age": "38",
                                    "Outcome": "1"
                                },
                                {
                                    "Pregnancies": "6",
                                    "Glucose": "154",
                                    "BloodPressure": "78",
                                    "SkinThickness": "41",
                                    "Insulin": "140",
                                    "BMI": "46.1",
                                    "DiabetesPedigreeFunction": "0.571",
                                    "Age": "27",
                                    "Outcome": "0"
                                },
                                {
                                    "Pregnancies": "3",
                                    "Glucose": "158",
                                    "BloodPressure": "70",
                                    "SkinThickness": "30",
                                    "Insulin": "328",
                                    "BMI": "35.5",
                                    "DiabetesPedigreeFunction": "0.344",
                                    "Age": "35",
                                    "Outcome": "1"
                                },
                                {
                                    "Pregnancies": "0",
                                    "Glucose": "173",
                                    "BloodPressure": "78",
                                    "SkinThickness": "32",
                                    "Insulin": "265",
                                    "BMI": "46.5",
                                    "DiabetesPedigreeFunction": "1.159",
                                    "Age": "58",
                                    "Outcome": "0"
                                },
                                {
                                    "Pregnancies": "6",
                                    "Glucose": "166",
                                    "BloodPressure": "74",
                                    "SkinThickness": "0",
                                    "Insulin": "0",
                                    "BMI": "26.6",
                                    "DiabetesPedigreeFunction": "0.304",
                                    "Age": "66",
                                    "Outcome": "0"
                                },
                                {
                                    "Pregnancies": "7",
                                    "Glucose": "195",
                                    "BloodPressure": "70",
                                    "SkinThickness": "33",
                                    "Insulin": "145",
                                    "BMI": "25.1",
                                    "DiabetesPedigreeFunction": "0.163",
                                    "Age": "55",
                                    "Outcome": "1"
                                },
                                {
                                    "Pregnancies": "6",
                                    "Glucose": "154",
                                    "BloodPressure": "74",
                                    "SkinThickness": "32",
                                    "Insulin": "193",
                                    "BMI": "29.3",
                                    "DiabetesPedigreeFunction": "0.839",
                                    "Age": "39",
                                    "Outcome": "0"
                                },
                                {
                                    "Pregnancies": "3",
                                    "Glucose": "163",
                                    "BloodPressure": "70",
                                    "SkinThickness": "18",
                                    "Insulin": "105",
                                    "BMI": "31.6",
                                    "DiabetesPedigreeFunction": "0.268",
                                    "Age": "28",
                                    "Outcome": "1"
                                },
                                {
                                    "Pregnancies": "5",
                                    "Glucose": "187",
                                    "BloodPressure": "76",
                                    "SkinThickness": "27",
                                    "Insulin": "207",
                                    "BMI": "43.6",
                                    "DiabetesPedigreeFunction": "1.034",
                                    "Age": "53",
                                    "Outcome": "1"
                                },
                                {
                                    "Pregnancies": "0",
                                    "Glucose": "198",
                                    "BloodPressure": "66",
                                    "SkinThickness": "32",
                                    "Insulin": "274",
                                    "BMI": "41.3",
                                    "DiabetesPedigreeFunction": "0.502",
                                    "Age": "28",
                                    "Outcome": "1"
                                },
                                {
                                    "Pregnancies": "4",
                                    "Glucose": "154",
                                    "BloodPressure": "72",
                                    "SkinThickness": "29",
                                    "Insulin": "126",
                                    "BMI": "31.3",
                                    "DiabetesPedigreeFunction": "0.338",
                                    "Age": "37",
                                    "Outcome": "0"
                                },
                                {
                                    "Pregnancies": "2",
                                    "Glucose": "197",
                                    "BloodPressure": "70",
                                    "SkinThickness": "99",
                                    "Insulin": "0",
                                    "BMI": "34.7",
                                    "DiabetesPedigreeFunction": "0.575",
                                    "Age": "62",
                                    "Outcome": "1"
                                },
                                {
                                    "Pregnancies": "1",
                                    "Glucose": "173",
                                    "BloodPressure": "74",
                                    "SkinThickness": "0",
                                    "Insulin": "0",
                                    "BMI": "36.8",
                                    "DiabetesPedigreeFunction": "0.088",
                                    "Age": "38",
                                    "Outcome": "1"
                                },
                                {
                                    "Pregnancies": "4",
                                    "Glucose": "183",
                                    "BloodPressure": "0",
                                    "SkinThickness": "0",
                                    "Insulin": "0",
                                    "BMI": "28.4",
                                    "DiabetesPedigreeFunction": "0.212",
                                    "Age": "36",
                                    "Outcome": "1"
                                },
                                {
                                    "Pregnancies": "1",
                                    "Glucose": "181",
                                    "BloodPressure": "78",
                                    "SkinThickness": "42",
                                    "Insulin": "293",
                                    "BMI": "40.0",
                                    "DiabetesPedigreeFunction": "1.258",
                                    "Age": "22",
                                    "Outcome": "1"
                                },
                                {
                                    "Pregnancies": "3",
                                    "Glucose": "174",
                                    "BloodPressure": "58",
                                    "SkinThickness": "22",
                                    "Insulin": "194",
                                    "BMI": "32.9",
                                    "DiabetesPedigreeFunction": "0.593",
                                    "Age": "36",
                                    "Outcome": "1"
                                },
                                {
                                    "Pregnancies": "2",
                                    "Glucose": "157",
                                    "BloodPressure": "74",
                                    "SkinThickness": "35",
                                    "Insulin": "440",
                                    "BMI": "39.4",
                                    "DiabetesPedigreeFunction": "0.134",
                                    "Age": "30",
                                    "Outcome": "0"
                                },
                                {
                                    "Pregnancies": "1",
                                    "Glucose": "167",
                                    "BloodPressure": "74",
                                    "SkinThickness": "17",
                                    "Insulin": "144",
                                    "BMI": "23.4",
                                    "DiabetesPedigreeFunction": "0.447",
                                    "Age": "33",
                                    "Outcome": "1"
                                },
                                {
                                    "Pregnancies": "0",
                                    "Glucose": "179",
                                    "BloodPressure": "50",
                                    "SkinThickness": "36",
                                    "Insulin": "159",
                                    "BMI": "37.8",
                                    "DiabetesPedigreeFunction": "0.455",
                                    "Age": "22",
                                    "Outcome": "1"
                                },
                                {
                                    "Pregnancies": "2",
                                    "Glucose": "155",
                                    "BloodPressure": "52",
                                    "SkinThickness": "27",
                                    "Insulin": "540",
                                    "BMI": "38.7",
                                    "DiabetesPedigreeFunction": "0.24",
                                    "Age": "25",
                                    "Outcome": "1"
                                },
                                {
                                    "Pregnancies": "1",
                                    "Glucose": "199",
                                    "BloodPressure": "76",
                                    "SkinThickness": "43",
                                    "Insulin": "0",
                                    "BMI": "42.9",
                                    "DiabetesPedigreeFunction": "1.394",
                                    "Age": "22",
                                    "Outcome": "1"
                                },
                                {
                                    "Pregnancies": "9",
                                    "Glucose": "154",
                                    "BloodPressure": "78",
                                    "SkinThickness": "30",
                                    "Insulin": "100",
                                    "BMI": "30.9",
                                    "DiabetesPedigreeFunction": "0.164",
                                    "Age": "45",
                                    "Outcome": "0"
                                },
                                {
                                    "Pregnancies": "6",
                                    "Glucose": "165",
                                    "BloodPressure": "68",
                                    "SkinThickness": "26",
                                    "Insulin": "168",
                                    "BMI": "33.6",
                                    "DiabetesPedigreeFunction": "0.631",
                                    "Age": "49",
                                    "Outcome": "0"
                                },
                                {
                                    "Pregnancies": "6",
                                    "Glucose": "195",
                                    "BloodPressure": "70",
                                    "SkinThickness": "0",
                                    "Insulin": "0",
                                    "BMI": "30.9",
                                    "DiabetesPedigreeFunction": "0.328",
                                    "Age": "31",
                                    "Outcome": "1"
                                },
                                {
                                    "Pregnancies": "0",
                                    "Glucose": "162",
                                    "BloodPressure": "76",
                                    "SkinThickness": "36",
                                    "Insulin": "0",
                                    "BMI": "49.6",
                                    "DiabetesPedigreeFunction": "0.364",
                                    "Age": "26",
                                    "Outcome": "1"
                                },
                                {
                                    "Pregnancies": "3",
                                    "Glucose": "169",
                                    "BloodPressure": "74",
                                    "SkinThickness": "19",
                                    "Insulin": "125",
                                    "BMI": "29.9",
                                    "DiabetesPedigreeFunction": "0.268",
                                    "Age": "31",
                                    "Outcome": "1"
                                },
                                {
                                    "Pregnancies": "9",
                                    "Glucose": "164",
                                    "BloodPressure": "78",
                                    "SkinThickness": "0",
                                    "Insulin": "0",
                                    "BMI": "32.8",
                                    "DiabetesPedigreeFunction": "0.148",
                                    "Age": "45",
                                    "Outcome": "1"
                                },
                                {
                                    "Pregnancies": "3",
                                    "Glucose": "158",
                                    "BloodPressure": "64",
                                    "SkinThickness": "13",
                                    "Insulin": "387",
                                    "BMI": "31.2",
                                    "DiabetesPedigreeFunction": "0.295",
                                    "Age": "24",
                                    "Outcome": "0"
                                },
                                {
                                    "Pregnancies": "7",
                                    "Glucose": "187",
                                    "BloodPressure": "50",
                                    "SkinThickness": "33",
                                    "Insulin": "392",
                                    "BMI": "33.9",
                                    "DiabetesPedigreeFunction": "0.826",
                                    "Age": "34",
                                    "Outcome": "1"
                                },
                                {
                                    "Pregnancies": "3",
                                    "Glucose": "173",
                                    "BloodPressure": "78",
                                    "SkinThickness": "39",
                                    "Insulin": "185",
                                    "BMI": "33.8",
                                    "DiabetesPedigreeFunction": "0.97",
                                    "Age": "31",
                                    "Outcome": "1"
                                },
                                {
                                    "Pregnancies": "3",
                                    "Glucose": "187",
                                    "BloodPressure": "70",
                                    "SkinThickness": "22",
                                    "Insulin": "200",
                                    "BMI": "36.4",
                                    "DiabetesPedigreeFunction": "0.408",
                                    "Age": "36",
                                    "Outcome": "1"
                                },
                                {
                                    "Pregnancies": "6",
                                    "Glucose": "162",
                                    "BloodPressure": "62",
                                    "SkinThickness": "0",
                                    "Insulin": "0",
                                    "BMI": "24.3",
                                    "DiabetesPedigreeFunction": "0.178",
                                    "Age": "50",
                                    "Outcome": "1"
                                },
                                {
                                    "Pregnancies": "8",
                                    "Glucose": "154",
                                    "BloodPressure": "78",
                                    "SkinThickness": "32",
                                    "Insulin": "0",
                                    "BMI": "32.4",
                                    "DiabetesPedigreeFunction": "0.443",
                                    "Age": "45",
                                    "Outcome": "1"
                                },
                                {
                                    "Pregnancies": "9",
                                    "Glucose": "170",
                                    "BloodPressure": "74",
                                    "SkinThickness": "31",
                                    "Insulin": "0",
                                    "BMI": "44.0",
                                    "DiabetesPedigreeFunction": "0.403",
                                    "Age": "43",
                                    "Outcome": "1"
                                }
                            ]
                        },
                        "text/html": [
                            "<table>",
                            "<tr><th>Pregnancies</th><th>Glucose</th><th>BloodPressure</th><th>SkinThickness</th><th>Insulin</th><th>BMI</th><th>DiabetesPedigreeFunction</th><th>Age</th><th>Outcome</th></tr>",
                            "<tr><td>8</td><td>183</td><td>64</td><td>0</td><td>0</td><td>23.3</td><td>0.672</td><td>32</td><td>1</td></tr>",
                            "<tr><td>2</td><td>197</td><td>70</td><td>45</td><td>543</td><td>30.5</td><td>0.158</td><td>53</td><td>1</td></tr>",
                            "<tr><td>10</td><td>168</td><td>74</td><td>0</td><td>0</td><td>38.0</td><td>0.537</td><td>34</td><td>1</td></tr>",
                            "<tr><td>1</td><td>189</td><td>60</td><td>23</td><td>846</td><td>30.1</td><td>0.398</td><td>59</td><td>1</td></tr>",
                            "<tr><td>5</td><td>166</td><td>72</td><td>19</td><td>175</td><td>25.8</td><td>0.587</td><td>51</td><td>1</td></tr>",
                            "<tr><td>3</td><td>158</td><td>76</td><td>36</td><td>245</td><td>31.6</td><td>0.851</td><td>28</td><td>1</td></tr>",
                            "<tr><td>3</td><td>180</td><td>64</td><td>25</td><td>70</td><td>34.0</td><td>0.271</td><td>26</td><td>0</td></tr>",
                            "<tr><td>7</td><td>159</td><td>64</td><td>0</td><td>0</td><td>27.4</td><td>0.294</td><td>40</td><td>0</td></tr>",
                            "<tr><td>0</td><td>180</td><td>66</td><td>39</td><td>0</td><td>42.0</td><td>1.893</td><td>25</td><td>1</td></tr>",
                            "<tr><td>7</td><td>187</td><td>68</td><td>39</td><td>304</td><td>37.7</td><td>0.254</td><td>41</td><td>1</td></tr>",
                            "<tr><td>1</td><td>163</td><td>72</td><td>0</td><td>0</td><td>39.0</td><td>1.222</td><td>33</td><td>1</td></tr>",
                            "<tr><td>1</td><td>151</td><td>60</td><td>0</td><td>0</td><td>26.1</td><td>0.179</td><td>22</td><td>0</td></tr>",
                            "<tr><td>3</td><td>171</td><td>72</td><td>33</td><td>135</td><td>33.3</td><td>0.199</td><td>24</td><td>1</td></tr>",
                            "<tr><td>8</td><td>155</td><td>62</td><td>26</td><td>495</td><td>34.0</td><td>0.543</td><td>46</td><td>1</td></tr>",
                            "<tr><td>7</td><td>160</td><td>54</td><td>32</td><td>175</td><td>30.5</td><td>0.588</td><td>39</td><td>1</td></tr>",
                            "<tr><td>0</td><td>162</td><td>76</td><td>56</td><td>100</td><td>53.2</td><td>0.759</td><td>25</td><td>1</td></tr>",
                            "<tr><td>4</td><td>173</td><td>70</td><td>14</td><td>168</td><td>29.7</td><td>0.361</td><td>33</td><td>1</td></tr>",
                            "<tr><td>3</td><td>170</td><td>64</td><td>37</td><td>225</td><td>34.5</td><td>0.356</td><td>30</td><td>1</td></tr>",
                            "<tr><td>4</td><td>154</td><td>62</td><td>31</td><td>284</td><td>32.8</td><td>0.237</td><td>23</td><td>0</td></tr>",
                            "<tr><td>8</td><td>188</td><td>78</td><td>0</td><td>0</td><td>47.9</td><td>0.137</td><td>43</td><td>1</td></tr>",
                            "<tr><td>17</td><td>163</td><td>72</td><td>41</td><td>114</td><td>40.9</td><td>0.817</td><td>47</td><td>1</td></tr>",
                            "<tr><td>8</td><td>179</td><td>72</td><td>42</td><td>130</td><td>32.7</td><td>0.719</td><td>36</td><td>1</td></tr>",
                            "<tr><td>7</td><td>194</td><td>68</td><td>28</td><td>0</td><td>35.9</td><td>0.745</td><td>41</td><td>1</td></tr>",
                            "<tr><td>8</td><td>181</td><td>68</td><td>36</td><td>495</td><td>30.1</td><td>0.615</td><td>60</td><td>1</td></tr>",
                            "<tr><td>7</td><td>159</td><td>66</td><td>0</td><td>0</td><td>30.4</td><td>0.383</td><td>36</td><td>1</td></tr>",
                            "<tr><td>8</td><td>196</td><td>76</td><td>29</td><td>280</td><td>37.5</td><td>0.605</td><td>57</td><td>1</td></tr>",
                            "<tr><td>12</td><td>151</td><td>70</td><td>40</td><td>271</td><td>41.8</td><td>0.742</td><td>38</td><td>1</td></tr>",
                            "<tr><td>0</td><td>177</td><td>60</td><td>29</td><td>478</td><td>34.6</td><td>1.072</td><td>21</td><td>1</td></tr>",
                            "<tr><td>3</td><td>162</td><td>52</td><td>38</td><td>0</td><td>37.2</td><td>0.652</td><td>24</td><td>1</td></tr>",
                            "<tr><td>4</td><td>197</td><td>70</td><td>39</td><td>744</td><td>36.7</td><td>2.329</td><td>31</td><td>0</td></tr>",
                            "<tr><td>4</td><td>171</td><td>72</td><td>0</td><td>0</td><td>43.6</td><td>0.479</td><td>26</td><td>1</td></tr>",
                            "<tr><td>1</td><td>193</td><td>50</td><td>16</td><td>375</td><td>25.9</td><td>0.655</td><td>24</td><td>0</td></tr>",
                            "<tr><td>11</td><td>155</td><td>76</td><td>28</td><td>150</td><td>33.3</td><td>1.353</td><td>51</td><td>1</td></tr>",
                            "<tr><td>3</td><td>191</td><td>68</td><td>15</td><td>130</td><td>30.9</td><td>0.299</td><td>34</td><td>0</td></tr>",
                            "<tr><td>0</td><td>161</td><td>50</td><td>0</td><td>0</td><td>21.9</td><td>0.254</td><td>65</td><td>0</td></tr>",
                            "<tr><td>6</td><td>151</td><td>62</td><td>31</td><td>120</td><td>35.5</td><td>0.692</td><td>28</td><td>0</td></tr>",
                            "<tr><td>0</td><td>167</td><td>0</td><td>0</td><td>0</td><td>32.3</td><td>0.839</td><td>30</td><td>1</td></tr>",
                            "<tr><td>10</td><td>161</td><td>68</td><td>23</td><td>132</td><td>25.5</td><td>0.326</td><td>47</td><td>1</td></tr>",
                            "<tr><td>2</td><td>155</td><td>74</td><td>17</td><td>96</td><td>26.6</td><td>0.433</td><td>27</td><td>1</td></tr>",
                            "<tr><td>3</td><td>182</td><td>74</td><td>0</td><td>0</td><td>30.5</td><td>0.345</td><td>29</td><td>1</td></tr>",
                            "<tr><td>6</td><td>194</td><td>78</td><td>0</td><td>0</td><td>23.5</td><td>0.129</td><td>59</td><td>1</td></tr>",
                            "<tr><td>1</td><td>157</td><td>72</td><td>21</td><td>168</td><td>25.6</td><td>0.123</td><td>24</td><td>0</td></tr>",
                            "<tr><td>10</td><td>179</td><td>70</td><td>0</td><td>0</td><td>35.1</td><td>0.2</td><td>37</td><td>0</td></tr>",
                            "<tr><td>1</td><td>180</td><td>0</td><td>0</td><td>0</td><td>43.3</td><td>0.282</td><td>41</td><td>1</td></tr>",
                            "<tr><td>0</td><td>165</td><td>76</td><td>43</td><td>255</td><td>47.9</td><td>0.259</td><td>26</td><td>0</td></tr>",
                            "<tr><td>9</td><td>152</td><td>78</td><td>34</td><td>171</td><td>34.2</td><td>0.893</td><td>33</td><td>1</td></tr>",
                            "<tr><td>1</td><td>196</td><td>76</td><td>36</td><td>249</td><td>36.5</td><td>0.875</td><td>29</td><td>1</td></tr>",
                            "<tr><td>5</td><td>189</td><td>64</td><td>33</td><td>325</td><td>31.2</td><td>0.583</td><td>29</td><td>1</td></tr>",
                            "<tr><td>5</td><td>158</td><td>70</td><td>0</td><td>0</td><td>29.8</td><td>0.207</td><td>63</td><td>0</td></tr>",
                            "<tr><td>4</td><td>156</td><td>75</td><td>0</td><td>0</td><td>48.3</td><td>0.238</td><td>32</td><td>1</td></tr>",
                            "<tr><td>5</td><td>166</td><td>76</td><td>0</td><td>0</td><td>45.7</td><td>0.34</td><td>27</td><td>1</td></tr>",
                            "<tr><td>4</td><td>158</td><td>78</td><td>0</td><td>0</td><td>32.9</td><td>0.803</td><td>31</td><td>1</td></tr>",
                            "<tr><td>3</td><td>193</td><td>70</td><td>31</td><td>0</td><td>34.9</td><td>0.241</td><td>25</td><td>1</td></tr>",
                            "<tr><td>5</td><td>168</td><td>64</td><td>0</td><td>0</td><td>32.9</td><td>0.135</td><td>41</td><td>1</td></tr>",
                            "<tr><td>8</td><td>197</td><td>74</td><td>0</td><td>0</td><td>25.9</td><td>1.191</td><td>39</td><td>1</td></tr>",
                            "<tr><td>1</td><td>172</td><td>68</td><td>49</td><td>579</td><td>42.4</td><td>0.702</td><td>28</td><td>1</td></tr>",
                            "<tr><td>8</td><td>151</td><td>78</td><td>32</td><td>210</td><td>42.9</td><td>0.516</td><td>36</td><td>1</td></tr>",
                            "<tr><td>4</td><td>184</td><td>78</td><td>39</td><td>277</td><td>37.0</td><td>0.264</td><td>31</td><td>1</td></tr>",
                            "<tr><td>1</td><td>181</td><td>64</td><td>30</td><td>180</td><td>34.1</td><td>0.328</td><td>38</td><td>1</td></tr>",
                            "<tr><td>0</td><td>180</td><td>78</td><td>63</td><td>14</td><td>59.4</td><td>2.42</td><td>25</td><td>1</td></tr>",
                            "<tr><td>14</td><td>175</td><td>62</td><td>30</td><td>0</td><td>33.6</td><td>0.212</td><td>38</td><td>1</td></tr>",
                            "<tr><td>6</td><td>154</td><td>78</td><td>41</td><td>140</td><td>46.1</td><td>0.571</td><td>27</td><td>0</td></tr>",
                            "<tr><td>3</td><td>158</td><td>70</td><td>30</td><td>328</td><td>35.5</td><td>0.344</td><td>35</td><td>1</td></tr>",
                            "<tr><td>0</td><td>173</td><td>78</td><td>32</td><td>265</td><td>46.5</td><td>1.159</td><td>58</td><td>0</td></tr>",
                            "<tr><td>6</td><td>166</td><td>74</td><td>0</td><td>0</td><td>26.6</td><td>0.304</td><td>66</td><td>0</td></tr>",
                            "<tr><td>7</td><td>195</td><td>70</td><td>33</td><td>145</td><td>25.1</td><td>0.163</td><td>55</td><td>1</td></tr>",
                            "<tr><td>6</td><td>154</td><td>74</td><td>32</td><td>193</td><td>29.3</td><td>0.839</td><td>39</td><td>0</td></tr>",
                            "<tr><td>3</td><td>163</td><td>70</td><td>18</td><td>105</td><td>31.6</td><td>0.268</td><td>28</td><td>1</td></tr>",
                            "<tr><td>5</td><td>187</td><td>76</td><td>27</td><td>207</td><td>43.6</td><td>1.034</td><td>53</td><td>1</td></tr>",
                            "<tr><td>0</td><td>198</td><td>66</td><td>32</td><td>274</td><td>41.3</td><td>0.502</td><td>28</td><td>1</td></tr>",
                            "<tr><td>4</td><td>154</td><td>72</td><td>29</td><td>126</td><td>31.3</td><td>0.338</td><td>37</td><td>0</td></tr>",
                            "<tr><td>2</td><td>197</td><td>70</td><td>99</td><td>0</td><td>34.7</td><td>0.575</td><td>62</td><td>1</td></tr>",
                            "<tr><td>1</td><td>173</td><td>74</td><td>0</td><td>0</td><td>36.8</td><td>0.088</td><td>38</td><td>1</td></tr>",
                            "<tr><td>4</td><td>183</td><td>0</td><td>0</td><td>0</td><td>28.4</td><td>0.212</td><td>36</td><td>1</td></tr>",
                            "<tr><td>1</td><td>181</td><td>78</td><td>42</td><td>293</td><td>40.0</td><td>1.258</td><td>22</td><td>1</td></tr>",
                            "<tr><td>3</td><td>174</td><td>58</td><td>22</td><td>194</td><td>32.9</td><td>0.593</td><td>36</td><td>1</td></tr>",
                            "<tr><td>2</td><td>157</td><td>74</td><td>35</td><td>440</td><td>39.4</td><td>0.134</td><td>30</td><td>0</td></tr>",
                            "<tr><td>1</td><td>167</td><td>74</td><td>17</td><td>144</td><td>23.4</td><td>0.447</td><td>33</td><td>1</td></tr>",
                            "<tr><td>0</td><td>179</td><td>50</td><td>36</td><td>159</td><td>37.8</td><td>0.455</td><td>22</td><td>1</td></tr>",
                            "<tr><td>2</td><td>155</td><td>52</td><td>27</td><td>540</td><td>38.7</td><td>0.24</td><td>25</td><td>1</td></tr>",
                            "<tr><td>1</td><td>199</td><td>76</td><td>43</td><td>0</td><td>42.9</td><td>1.394</td><td>22</td><td>1</td></tr>",
                            "<tr><td>9</td><td>154</td><td>78</td><td>30</td><td>100</td><td>30.9</td><td>0.164</td><td>45</td><td>0</td></tr>",
                            "<tr><td>6</td><td>165</td><td>68</td><td>26</td><td>168</td><td>33.6</td><td>0.631</td><td>49</td><td>0</td></tr>",
                            "<tr><td>6</td><td>195</td><td>70</td><td>0</td><td>0</td><td>30.9</td><td>0.328</td><td>31</td><td>1</td></tr>",
                            "<tr><td>0</td><td>162</td><td>76</td><td>36</td><td>0</td><td>49.6</td><td>0.364</td><td>26</td><td>1</td></tr>",
                            "<tr><td>3</td><td>169</td><td>74</td><td>19</td><td>125</td><td>29.9</td><td>0.268</td><td>31</td><td>1</td></tr>",
                            "<tr><td>9</td><td>164</td><td>78</td><td>0</td><td>0</td><td>32.8</td><td>0.148</td><td>45</td><td>1</td></tr>",
                            "<tr><td>3</td><td>158</td><td>64</td><td>13</td><td>387</td><td>31.2</td><td>0.295</td><td>24</td><td>0</td></tr>",
                            "<tr><td>7</td><td>187</td><td>50</td><td>33</td><td>392</td><td>33.9</td><td>0.826</td><td>34</td><td>1</td></tr>",
                            "<tr><td>3</td><td>173</td><td>78</td><td>39</td><td>185</td><td>33.8</td><td>0.97</td><td>31</td><td>1</td></tr>",
                            "<tr><td>3</td><td>187</td><td>70</td><td>22</td><td>200</td><td>36.4</td><td>0.408</td><td>36</td><td>1</td></tr>",
                            "<tr><td>6</td><td>162</td><td>62</td><td>0</td><td>0</td><td>24.3</td><td>0.178</td><td>50</td><td>1</td></tr>",
                            "<tr><td>8</td><td>154</td><td>78</td><td>32</td><td>0</td><td>32.4</td><td>0.443</td><td>45</td><td>1</td></tr>",
                            "<tr><td>9</td><td>170</td><td>74</td><td>31</td><td>0</td><td>44.0</td><td>0.403</td><td>43</td><td>1</td></tr>",
                            "</table>"
                        ]
                    }
                }
            ],
            "execution_count": 18
        },
        {
            "cell_type": "markdown",
            "source": [
                "### Calculate the average DiabetesPedigreeFunction for females(where outcome is 1)"
            ],
            "metadata": {
                "language": "sql",
                "azdata_cell_guid": "8e7c68d3-b27b-4d85-901d-90638349645d"
            },
            "attachments": {}
        },
        {
            "cell_type": "code",
            "source": [
                "SELECT AVG(DiabetesPedigreeFunction) as avg_diabetesPedigreeFunction\r\n",
                "from diabetes\r\n",
                "where Outcome=1;"
            ],
            "metadata": {
                "language": "sql",
                "azdata_cell_guid": "2b3b3eb6-98a8-4ab5-b77a-a0f2da3f9555"
            },
            "outputs": [
                {
                    "output_type": "display_data",
                    "data": {
                        "text/html": "(1 row(s) affected)"
                    },
                    "metadata": {}
                },
                {
                    "output_type": "display_data",
                    "data": {
                        "text/html": "Total execution time: 00:00:01.013"
                    },
                    "metadata": {}
                },
                {
                    "output_type": "execute_result",
                    "metadata": {},
                    "execution_count": 19,
                    "data": {
                        "application/vnd.dataresource+json": {
                            "schema": {
                                "fields": [
                                    {
                                        "name": "avg_diabetesPedigreeFunction"
                                    }
                                ]
                            },
                            "data": [
                                {
                                    "avg_diabetesPedigreeFunction": "0.5505"
                                }
                            ]
                        },
                        "text/html": [
                            "<table>",
                            "<tr><th>avg_diabetesPedigreeFunction</th></tr>",
                            "<tr><td>0.5505</td></tr>",
                            "</table>"
                        ]
                    }
                }
            ],
            "execution_count": 19
        },
        {
            "cell_type": "markdown",
            "source": [
                "### Retrieve the records where the Insulin value is null (missing)."
            ],
            "metadata": {
                "language": "sql",
                "azdata_cell_guid": "451b91b2-8ca4-4e0f-9f3b-a72f91e5b666"
            },
            "attachments": {}
        },
        {
            "cell_type": "code",
            "source": [
                "SELECT * \r\n",
                "from diabetes\r\n",
                "where Insulin IS NULL;"
            ],
            "metadata": {
                "language": "sql",
                "azdata_cell_guid": "2518d7c8-1b87-4fbf-aa73-340aaef96268",
                "tags": []
            },
            "outputs": [
{
    "output_type": "display_data",
    "data": {
        "text/html": "(0 row(s) affected)"
    },
    "metadata": {}
}, {
    "output_type": "display_data",
    "data": {
        "text/html": "Total execution time: 00:00:01.007"
    },
    "metadata": {}
}, {
    "output_type": "execute_result",
    "metadata": {},
    "execution_count": 24,
    "data": {
        "application/vnd.dataresource+json": {
            "schema": {
                "fields": [
                    {
                        "name": "Pregnancies"
                    },
                    {
                        "name": "Glucose"
                    },
                    {
                        "name": "BloodPressure"
                    },
                    {
                        "name": "SkinThickness"
                    },
                    {
                        "name": "Insulin"
                    },
                    {
                        "name": "BMI"
                    },
                    {
                        "name": "DiabetesPedigreeFunction"
                    },
                    {
                        "name": "Age"
                    },
                    {
                        "name": "Outcome"
                    }
                ]
            },
            "data": []
        },
        "text/html": [
            "<table>",
            "<tr><th>Pregnancies</th><th>Glucose</th><th>BloodPressure</th><th>SkinThickness</th><th>Insulin</th><th>BMI</th><th>DiabetesPedigreeFunction</th><th>Age</th><th>Outcome</th></tr>",
            "</table>"
        ]
    }
}
],
            "execution_count": 24
        }
    ]
}