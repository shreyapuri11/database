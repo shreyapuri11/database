{
    "metadata": {
        "kernelspec": {
            "name": "SQL",
            "display_name": "SQL",
            "language": "sql"
        },
        "language_info": {
            "name": "sql",
            "version": ""
        }
    },
    "nbformat_minor": 2,
    "nbformat": 4,
    "cells": [
        {
            "cell_type": "code",
            "source": [
                "use sakila;"
            ],
            "metadata": {
                "azdata_cell_guid": "e2d8d207-a10a-4bb2-b18e-b66b9939d5c6",
                "language": "sql"
            },
            "outputs": [
                {
                    "output_type": "display_data",
                    "data": {
                        "text/html": "Commands completed successfully"
                    },
                    "metadata": {}
                },
                {
                    "output_type": "display_data",
                    "data": {
                        "text/html": "Total execution time: 00:00:00.002"
                    },
                    "metadata": {}
                }
            ],
            "execution_count": 1
        },
        {
            "cell_type": "code",
            "source": [
                "show tables;"
            ],
            "metadata": {
                "azdata_cell_guid": "dec802e3-545c-433e-85c5-30e9961dcc73",
                "language": "sql"
            },
            "outputs": [
                {
                    "output_type": "display_data",
                    "data": {
                        "text/html": "(23 row(s) affected)"
                    },
                    "metadata": {}
                },
                {
                    "output_type": "display_data",
                    "data": {
                        "text/html": "Total execution time: 00:00:01.047"
                    },
                    "metadata": {}
                },
                {
                    "output_type": "execute_result",
                    "execution_count": 2,
                    "data": {
                        "application/vnd.dataresource+json": {
                            "schema": {
                                "fields": [
                                    {
                                        "name": "Tables_in_sakila"
                                    }
                                ]
                            },
                            "data": [
                                {
                                    "Tables_in_sakila": "actor"
                                },
                                {
                                    "Tables_in_sakila": "actor_info"
                                },
                                {
                                    "Tables_in_sakila": "address"
                                },
                                {
                                    "Tables_in_sakila": "category"
                                },
                                {
                                    "Tables_in_sakila": "city"
                                },
                                {
                                    "Tables_in_sakila": "country"
                                },
                                {
                                    "Tables_in_sakila": "customer"
                                },
                                {
                                    "Tables_in_sakila": "customer_list"
                                },
                                {
                                    "Tables_in_sakila": "film"
                                },
                                {
                                    "Tables_in_sakila": "film_actor"
                                },
                                {
                                    "Tables_in_sakila": "film_category"
                                },
                                {
                                    "Tables_in_sakila": "film_list"
                                },
                                {
                                    "Tables_in_sakila": "film_text"
                                },
                                {
                                    "Tables_in_sakila": "inventory"
                                },
                                {
                                    "Tables_in_sakila": "language"
                                },
                                {
                                    "Tables_in_sakila": "nicer_but_slower_film_list"
                                },
                                {
                                    "Tables_in_sakila": "payment"
                                },
                                {
                                    "Tables_in_sakila": "rental"
                                },
                                {
                                    "Tables_in_sakila": "sales_by_film_category"
                                },
                                {
                                    "Tables_in_sakila": "sales_by_store"
                                },
                                {
                                    "Tables_in_sakila": "staff"
                                },
                                {
                                    "Tables_in_sakila": "staff_list"
                                },
                                {
                                    "Tables_in_sakila": "store"
                                }
                            ]
                        },
                        "text/html": "<table><tr><th>Tables_in_sakila</th></tr><tr><td>actor</td></tr><tr><td>actor_info</td></tr><tr><td>address</td></tr><tr><td>category</td></tr><tr><td>city</td></tr><tr><td>country</td></tr><tr><td>customer</td></tr><tr><td>customer_list</td></tr><tr><td>film</td></tr><tr><td>film_actor</td></tr><tr><td>film_category</td></tr><tr><td>film_list</td></tr><tr><td>film_text</td></tr><tr><td>inventory</td></tr><tr><td>language</td></tr><tr><td>nicer_but_slower_film_list</td></tr><tr><td>payment</td></tr><tr><td>rental</td></tr><tr><td>sales_by_film_category</td></tr><tr><td>sales_by_store</td></tr><tr><td>staff</td></tr><tr><td>staff_list</td></tr><tr><td>store</td></tr></table>"
                    },
                    "metadata": {}
                }
            ],
            "execution_count": 2
        },
        {
            "cell_type": "code",
            "source": [
                "describe actor;"
            ],
            "metadata": {
                "azdata_cell_guid": "40603dd2-e6e3-40a9-b71e-5bc9a0748742",
                "language": "sql"
            },
            "outputs": [
                {
                    "output_type": "display_data",
                    "data": {
                        "text/html": "(4 row(s) affected)"
                    },
                    "metadata": {}
                },
                {
                    "output_type": "display_data",
                    "data": {
                        "text/html": "Total execution time: 00:00:01.057"
                    },
                    "metadata": {}
                },
                {
                    "output_type": "execute_result",
                    "execution_count": 3,
                    "data": {
                        "application/vnd.dataresource+json": {
                            "schema": {
                                "fields": [
                                    {
                                        "name": "Field"
                                    },
                                    {
                                        "name": "Type"
                                    },
                                    {
                                        "name": "Null"
                                    },
                                    {
                                        "name": "Key"
                                    },
                                    {
                                        "name": "Default"
                                    },
                                    {
                                        "name": "Extra"
                                    }
                                ]
                            },
                            "data": [
                                {
                                    "Field": "actor_id",
                                    "Type": "b'smallint unsigned'",
                                    "Null": "NO",
                                    "Key": "PRI",
                                    "Default": "NULL",
                                    "Extra": "auto_increment"
                                },
                                {
                                    "Field": "first_name",
                                    "Type": "b'varchar(45)'",
                                    "Null": "NO",
                                    "Key": "",
                                    "Default": "NULL",
                                    "Extra": ""
                                },
                                {
                                    "Field": "last_name",
                                    "Type": "b'varchar(45)'",
                                    "Null": "NO",
                                    "Key": "MUL",
                                    "Default": "NULL",
                                    "Extra": ""
                                },
                                {
                                    "Field": "last_update",
                                    "Type": "b'timestamp'",
                                    "Null": "NO",
                                    "Key": "",
                                    "Default": "b'CURRENT_TIMESTAMP'",
                                    "Extra": "DEFAULT_GENERATED on update CURRENT_TIMESTAMP"
                                }
                            ]
                        },
                        "text/html": "<table><tr><th>Field</th><th>Type</th><th>Null</th><th>Key</th><th>Default</th><th>Extra</th></tr><tr><td>actor_id</td><td>b&#39;smallint unsigned&#39;</td><td>NO</td><td>PRI</td><td>NULL</td><td>auto_increment</td></tr><tr><td>first_name</td><td>b&#39;varchar(45)&#39;</td><td>NO</td><td></td><td>NULL</td><td></td></tr><tr><td>last_name</td><td>b&#39;varchar(45)&#39;</td><td>NO</td><td>MUL</td><td>NULL</td><td></td></tr><tr><td>last_update</td><td>b&#39;timestamp&#39;</td><td>NO</td><td></td><td>b&#39;CURRENT_TIMESTAMP&#39;</td><td>DEFAULT_GENERATED on update CURRENT_TIMESTAMP</td></tr></table>"
                    },
                    "metadata": {}
                }
            ],
            "execution_count": 3
        },
        {
            "cell_type": "code",
            "source": [
                "SELECT\r\n",
                "     first_name,\r\n",
                "     last_name\r\n",
                "FROM\r\n",
                "   actor;"
            ],
            "metadata": {
                "azdata_cell_guid": "1201b07b-c333-4187-884b-08de40fd167f",
                "language": "sql"
            },
            "outputs": [
                {
                    "output_type": "display_data",
                    "data": {
                        "text/html": "(200 row(s) affected)"
                    },
                    "metadata": {}
                },
                {
                    "output_type": "display_data",
                    "data": {
                        "text/html": "Total execution time: 00:00:01.040"
                    },
                    "metadata": {}
                },
                {
                    "output_type": "execute_result",
                    "execution_count": 4,
                    "data": {
                        "application/vnd.dataresource+json": {
                            "schema": {
                                "fields": [
                                    {
                                        "name": "first_name"
                                    },
                                    {
                                        "name": "last_name"
                                    }
                                ]
                            },
                            "data": [
                                {
                                    "first_name": "PENELOPE",
                                    "last_name": "GUINESS"
                                },
                                {
                                    "first_name": "NICK",
                                    "last_name": "WAHLBERG"
                                },
                                {
                                    "first_name": "ED",
                                    "last_name": "CHASE"
                                },
                                {
                                    "first_name": "JENNIFER",
                                    "last_name": "DAVIS"
                                },
                                {
                                    "first_name": "JOHNNY",
                                    "last_name": "LOLLOBRIGIDA"
                                },
                                {
                                    "first_name": "BETTE",
                                    "last_name": "NICHOLSON"
                                },
                                {
                                    "first_name": "GRACE",
                                    "last_name": "MOSTEL"
                                },
                                {
                                    "first_name": "MATTHEW",
                                    "last_name": "JOHANSSON"
                                },
                                {
                                    "first_name": "JOE",
                                    "last_name": "SWANK"
                                },
                                {
                                    "first_name": "CHRISTIAN",
                                    "last_name": "GABLE"
                                },
                                {
                                    "first_name": "ZERO",
                                    "last_name": "CAGE"
                                },
                                {
                                    "first_name": "KARL",
                                    "last_name": "BERRY"
                                },
                                {
                                    "first_name": "UMA",
                                    "last_name": "WOOD"
                                },
                                {
                                    "first_name": "VIVIEN",
                                    "last_name": "BERGEN"
                                },
                                {
                                    "first_name": "CUBA",
                                    "last_name": "OLIVIER"
                                },
                                {
                                    "first_name": "FRED",
                                    "last_name": "COSTNER"
                                },
                                {
                                    "first_name": "HELEN",
                                    "last_name": "VOIGHT"
                                },
                                {
                                    "first_name": "DAN",
                                    "last_name": "TORN"
                                },
                                {
                                    "first_name": "BOB",
                                    "last_name": "FAWCETT"
                                },
                                {
                                    "first_name": "LUCILLE",
                                    "last_name": "TRACY"
                                },
                                {
                                    "first_name": "KIRSTEN",
                                    "last_name": "PALTROW"
                                },
                                {
                                    "first_name": "ELVIS",
                                    "last_name": "MARX"
                                },
                                {
                                    "first_name": "SANDRA",
                                    "last_name": "KILMER"
                                },
                                {
                                    "first_name": "CAMERON",
                                    "last_name": "STREEP"
                                },
                                {
                                    "first_name": "KEVIN",
                                    "last_name": "BLOOM"
                                },
                                {
                                    "first_name": "RIP",
                                    "last_name": "CRAWFORD"
                                },
                                {
                                    "first_name": "JULIA",
                                    "last_name": "MCQUEEN"
                                },
                                {
                                    "first_name": "WOODY",
                                    "last_name": "HOFFMAN"
                                },
                                {
                                    "first_name": "ALEC",
                                    "last_name": "WAYNE"
                                },
                                {
                                    "first_name": "SANDRA",
                                    "last_name": "PECK"
                                },
                                {
                                    "first_name": "SISSY",
                                    "last_name": "SOBIESKI"
                                },
                                {
                                    "first_name": "TIM",
                                    "last_name": "HACKMAN"
                                },
                                {
                                    "first_name": "MILLA",
                                    "last_name": "PECK"
                                },
                                {
                                    "first_name": "AUDREY",
                                    "last_name": "OLIVIER"
                                },
                                {
                                    "first_name": "JUDY",
                                    "last_name": "DEAN"
                                },
                                {
                                    "first_name": "BURT",
                                    "last_name": "DUKAKIS"
                                },
                                {
                                    "first_name": "VAL",
                                    "last_name": "BOLGER"
                                },
                                {
                                    "first_name": "TOM",
                                    "last_name": "MCKELLEN"
                                },
                                {
                                    "first_name": "GOLDIE",
                                    "last_name": "BRODY"
                                },
                                {
                                    "first_name": "JOHNNY",
                                    "last_name": "CAGE"
                                },
                                {
                                    "first_name": "JODIE",
                                    "last_name": "DEGENERES"
                                },
                                {
                                    "first_name": "TOM",
                                    "last_name": "MIRANDA"
                                },
                                {
                                    "first_name": "KIRK",
                                    "last_name": "JOVOVICH"
                                },
                                {
                                    "first_name": "NICK",
                                    "last_name": "STALLONE"
                                },
                                {
                                    "first_name": "REESE",
                                    "last_name": "KILMER"
                                },
                                {
                                    "first_name": "PARKER",
                                    "last_name": "GOLDBERG"
                                },
                                {
                                    "first_name": "JULIA",
                                    "last_name": "BARRYMORE"
                                },
                                {
                                    "first_name": "FRANCES",
                                    "last_name": "DAY-LEWIS"
                                },
                                {
                                    "first_name": "ANNE",
                                    "last_name": "CRONYN"
                                },
                                {
                                    "first_name": "NATALIE",
                                    "last_name": "HOPKINS"
                                },
                                {
                                    "first_name": "GARY",
                                    "last_name": "PHOENIX"
                                },
                                {
                                    "first_name": "CARMEN",
                                    "last_name": "HUNT"
                                },
                                {
                                    "first_name": "MENA",
                                    "last_name": "TEMPLE"
                                },
                                {
                                    "first_name": "PENELOPE",
                                    "last_name": "PINKETT"
                                },
                                {
                                    "first_name": "FAY",
                                    "last_name": "KILMER"
                                },
                                {
                                    "first_name": "DAN",
                                    "last_name": "HARRIS"
                                },
                                {
                                    "first_name": "JUDE",
                                    "last_name": "CRUISE"
                                },
                                {
                                    "first_name": "CHRISTIAN",
                                    "last_name": "AKROYD"
                                },
                                {
                                    "first_name": "DUSTIN",
                                    "last_name": "TAUTOU"
                                },
                                {
                                    "first_name": "HENRY",
                                    "last_name": "BERRY"
                                },
                                {
                                    "first_name": "CHRISTIAN",
                                    "last_name": "NEESON"
                                },
                                {
                                    "first_name": "JAYNE",
                                    "last_name": "NEESON"
                                },
                                {
                                    "first_name": "CAMERON",
                                    "last_name": "WRAY"
                                },
                                {
                                    "first_name": "RAY",
                                    "last_name": "JOHANSSON"
                                },
                                {
                                    "first_name": "ANGELA",
                                    "last_name": "HUDSON"
                                },
                                {
                                    "first_name": "MARY",
                                    "last_name": "TANDY"
                                },
                                {
                                    "first_name": "JESSICA",
                                    "last_name": "BAILEY"
                                },
                                {
                                    "first_name": "RIP",
                                    "last_name": "WINSLET"
                                },
                                {
                                    "first_name": "KENNETH",
                                    "last_name": "PALTROW"
                                },
                                {
                                    "first_name": "MICHELLE",
                                    "last_name": "MCCONAUGHEY"
                                },
                                {
                                    "first_name": "ADAM",
                                    "last_name": "GRANT"
                                },
                                {
                                    "first_name": "SEAN",
                                    "last_name": "WILLIAMS"
                                },
                                {
                                    "first_name": "GARY",
                                    "last_name": "PENN"
                                },
                                {
                                    "first_name": "MILLA",
                                    "last_name": "KEITEL"
                                },
                                {
                                    "first_name": "BURT",
                                    "last_name": "POSEY"
                                },
                                {
                                    "first_name": "ANGELINA",
                                    "last_name": "ASTAIRE"
                                },
                                {
                                    "first_name": "CARY",
                                    "last_name": "MCCONAUGHEY"
                                },
                                {
                                    "first_name": "GROUCHO",
                                    "last_name": "SINATRA"
                                },
                                {
                                    "first_name": "MAE",
                                    "last_name": "HOFFMAN"
                                },
                                {
                                    "first_name": "RALPH",
                                    "last_name": "CRUZ"
                                },
                                {
                                    "first_name": "SCARLETT",
                                    "last_name": "DAMON"
                                },
                                {
                                    "first_name": "WOODY",
                                    "last_name": "JOLIE"
                                },
                                {
                                    "first_name": "BEN",
                                    "last_name": "WILLIS"
                                },
                                {
                                    "first_name": "JAMES",
                                    "last_name": "PITT"
                                },
                                {
                                    "first_name": "MINNIE",
                                    "last_name": "ZELLWEGER"
                                },
                                {
                                    "first_name": "GREG",
                                    "last_name": "CHAPLIN"
                                },
                                {
                                    "first_name": "SPENCER",
                                    "last_name": "PECK"
                                },
                                {
                                    "first_name": "KENNETH",
                                    "last_name": "PESCI"
                                },
                                {
                                    "first_name": "CHARLIZE",
                                    "last_name": "DENCH"
                                },
                                {
                                    "first_name": "SEAN",
                                    "last_name": "GUINESS"
                                },
                                {
                                    "first_name": "CHRISTOPHER",
                                    "last_name": "BERRY"
                                },
                                {
                                    "first_name": "KIRSTEN",
                                    "last_name": "AKROYD"
                                },
                                {
                                    "first_name": "ELLEN",
                                    "last_name": "PRESLEY"
                                },
                                {
                                    "first_name": "KENNETH",
                                    "last_name": "TORN"
                                },
                                {
                                    "first_name": "DARYL",
                                    "last_name": "WAHLBERG"
                                },
                                {
                                    "first_name": "GENE",
                                    "last_name": "WILLIS"
                                },
                                {
                                    "first_name": "MEG",
                                    "last_name": "HAWKE"
                                },
                                {
                                    "first_name": "CHRIS",
                                    "last_name": "BRIDGES"
                                },
                                {
                                    "first_name": "JIM",
                                    "last_name": "MOSTEL"
                                },
                                {
                                    "first_name": "SPENCER",
                                    "last_name": "DEPP"
                                },
                                {
                                    "first_name": "SUSAN",
                                    "last_name": "DAVIS"
                                },
                                {
                                    "first_name": "WALTER",
                                    "last_name": "TORN"
                                },
                                {
                                    "first_name": "MATTHEW",
                                    "last_name": "LEIGH"
                                },
                                {
                                    "first_name": "PENELOPE",
                                    "last_name": "CRONYN"
                                },
                                {
                                    "first_name": "SIDNEY",
                                    "last_name": "CROWE"
                                },
                                {
                                    "first_name": "GROUCHO",
                                    "last_name": "DUNST"
                                },
                                {
                                    "first_name": "GINA",
                                    "last_name": "DEGENERES"
                                },
                                {
                                    "first_name": "WARREN",
                                    "last_name": "NOLTE"
                                },
                                {
                                    "first_name": "SYLVESTER",
                                    "last_name": "DERN"
                                },
                                {
                                    "first_name": "SUSAN",
                                    "last_name": "DAVIS"
                                },
                                {
                                    "first_name": "CAMERON",
                                    "last_name": "ZELLWEGER"
                                },
                                {
                                    "first_name": "RUSSELL",
                                    "last_name": "BACALL"
                                },
                                {
                                    "first_name": "MORGAN",
                                    "last_name": "HOPKINS"
                                },
                                {
                                    "first_name": "MORGAN",
                                    "last_name": "MCDORMAND"
                                },
                                {
                                    "first_name": "HARRISON",
                                    "last_name": "BALE"
                                },
                                {
                                    "first_name": "DAN",
                                    "last_name": "STREEP"
                                },
                                {
                                    "first_name": "RENEE",
                                    "last_name": "TRACY"
                                },
                                {
                                    "first_name": "CUBA",
                                    "last_name": "ALLEN"
                                },
                                {
                                    "first_name": "WARREN",
                                    "last_name": "JACKMAN"
                                },
                                {
                                    "first_name": "PENELOPE",
                                    "last_name": "MONROE"
                                },
                                {
                                    "first_name": "LIZA",
                                    "last_name": "BERGMAN"
                                },
                                {
                                    "first_name": "SALMA",
                                    "last_name": "NOLTE"
                                },
                                {
                                    "first_name": "JULIANNE",
                                    "last_name": "DENCH"
                                },
                                {
                                    "first_name": "SCARLETT",
                                    "last_name": "BENING"
                                },
                                {
                                    "first_name": "ALBERT",
                                    "last_name": "NOLTE"
                                },
                                {
                                    "first_name": "FRANCES",
                                    "last_name": "TOMEI"
                                },
                                {
                                    "first_name": "KEVIN",
                                    "last_name": "GARLAND"
                                },
                                {
                                    "first_name": "CATE",
                                    "last_name": "MCQUEEN"
                                },
                                {
                                    "first_name": "DARYL",
                                    "last_name": "CRAWFORD"
                                },
                                {
                                    "first_name": "GRETA",
                                    "last_name": "KEITEL"
                                },
                                {
                                    "first_name": "JANE",
                                    "last_name": "JACKMAN"
                                },
                                {
                                    "first_name": "ADAM",
                                    "last_name": "HOPPER"
                                },
                                {
                                    "first_name": "RICHARD",
                                    "last_name": "PENN"
                                },
                                {
                                    "first_name": "GENE",
                                    "last_name": "HOPKINS"
                                },
                                {
                                    "first_name": "RITA",
                                    "last_name": "REYNOLDS"
                                },
                                {
                                    "first_name": "ED",
                                    "last_name": "MANSFIELD"
                                },
                                {
                                    "first_name": "MORGAN",
                                    "last_name": "WILLIAMS"
                                },
                                {
                                    "first_name": "LUCILLE",
                                    "last_name": "DEE"
                                },
                                {
                                    "first_name": "EWAN",
                                    "last_name": "GOODING"
                                },
                                {
                                    "first_name": "WHOOPI",
                                    "last_name": "HURT"
                                },
                                {
                                    "first_name": "CATE",
                                    "last_name": "HARRIS"
                                },
                                {
                                    "first_name": "JADA",
                                    "last_name": "RYDER"
                                },
                                {
                                    "first_name": "RIVER",
                                    "last_name": "DEAN"
                                },
                                {
                                    "first_name": "ANGELA",
                                    "last_name": "WITHERSPOON"
                                },
                                {
                                    "first_name": "KIM",
                                    "last_name": "ALLEN"
                                },
                                {
                                    "first_name": "ALBERT",
                                    "last_name": "JOHANSSON"
                                },
                                {
                                    "first_name": "FAY",
                                    "last_name": "WINSLET"
                                },
                                {
                                    "first_name": "EMILY",
                                    "last_name": "DEE"
                                },
                                {
                                    "first_name": "RUSSELL",
                                    "last_name": "TEMPLE"
                                },
                                {
                                    "first_name": "JAYNE",
                                    "last_name": "NOLTE"
                                },
                                {
                                    "first_name": "GEOFFREY",
                                    "last_name": "HESTON"
                                },
                                {
                                    "first_name": "BEN",
                                    "last_name": "HARRIS"
                                },
                                {
                                    "first_name": "MINNIE",
                                    "last_name": "KILMER"
                                },
                                {
                                    "first_name": "MERYL",
                                    "last_name": "GIBSON"
                                },
                                {
                                    "first_name": "IAN",
                                    "last_name": "TANDY"
                                },
                                {
                                    "first_name": "FAY",
                                    "last_name": "WOOD"
                                },
                                {
                                    "first_name": "GRETA",
                                    "last_name": "MALDEN"
                                },
                                {
                                    "first_name": "VIVIEN",
                                    "last_name": "BASINGER"
                                },
                                {
                                    "first_name": "LAURA",
                                    "last_name": "BRODY"
                                },
                                {
                                    "first_name": "CHRIS",
                                    "last_name": "DEPP"
                                },
                                {
                                    "first_name": "HARVEY",
                                    "last_name": "HOPE"
                                },
                                {
                                    "first_name": "OPRAH",
                                    "last_name": "KILMER"
                                },
                                {
                                    "first_name": "CHRISTOPHER",
                                    "last_name": "WEST"
                                },
                                {
                                    "first_name": "HUMPHREY",
                                    "last_name": "WILLIS"
                                },
                                {
                                    "first_name": "AL",
                                    "last_name": "GARLAND"
                                },
                                {
                                    "first_name": "NICK",
                                    "last_name": "DEGENERES"
                                },
                                {
                                    "first_name": "LAURENCE",
                                    "last_name": "BULLOCK"
                                },
                                {
                                    "first_name": "WILL",
                                    "last_name": "WILSON"
                                },
                                {
                                    "first_name": "KENNETH",
                                    "last_name": "HOFFMAN"
                                },
                                {
                                    "first_name": "MENA",
                                    "last_name": "HOPPER"
                                },
                                {
                                    "first_name": "OLYMPIA",
                                    "last_name": "PFEIFFER"
                                },
                                {
                                    "first_name": "GROUCHO",
                                    "last_name": "WILLIAMS"
                                },
                                {
                                    "first_name": "ALAN",
                                    "last_name": "DREYFUSS"
                                },
                                {
                                    "first_name": "MICHAEL",
                                    "last_name": "BENING"
                                },
                                {
                                    "first_name": "WILLIAM",
                                    "last_name": "HACKMAN"
                                },
                                {
                                    "first_name": "JON",
                                    "last_name": "CHASE"
                                },
                                {
                                    "first_name": "GENE",
                                    "last_name": "MCKELLEN"
                                },
                                {
                                    "first_name": "LISA",
                                    "last_name": "MONROE"
                                },
                                {
                                    "first_name": "ED",
                                    "last_name": "GUINESS"
                                },
                                {
                                    "first_name": "JEFF",
                                    "last_name": "SILVERSTONE"
                                },
                                {
                                    "first_name": "MATTHEW",
                                    "last_name": "CARREY"
                                },
                                {
                                    "first_name": "DEBBIE",
                                    "last_name": "AKROYD"
                                },
                                {
                                    "first_name": "RUSSELL",
                                    "last_name": "CLOSE"
                                },
                                {
                                    "first_name": "HUMPHREY",
                                    "last_name": "GARLAND"
                                },
                                {
                                    "first_name": "MICHAEL",
                                    "last_name": "BOLGER"
                                },
                                {
                                    "first_name": "JULIA",
                                    "last_name": "ZELLWEGER"
                                },
                                {
                                    "first_name": "RENEE",
                                    "last_name": "BALL"
                                },
                                {
                                    "first_name": "ROCK",
                                    "last_name": "DUKAKIS"
                                },
                                {
                                    "first_name": "CUBA",
                                    "last_name": "BIRCH"
                                },
                                {
                                    "first_name": "AUDREY",
                                    "last_name": "BAILEY"
                                },
                                {
                                    "first_name": "GREGORY",
                                    "last_name": "GOODING"
                                },
                                {
                                    "first_name": "JOHN",
                                    "last_name": "SUVARI"
                                },
                                {
                                    "first_name": "BURT",
                                    "last_name": "TEMPLE"
                                },
                                {
                                    "first_name": "MERYL",
                                    "last_name": "ALLEN"
                                },
                                {
                                    "first_name": "JAYNE",
                                    "last_name": "SILVERSTONE"
                                },
                                {
                                    "first_name": "BELA",
                                    "last_name": "WALKEN"
                                },
                                {
                                    "first_name": "REESE",
                                    "last_name": "WEST"
                                },
                                {
                                    "first_name": "MARY",
                                    "last_name": "KEITEL"
                                },
                                {
                                    "first_name": "JULIA",
                                    "last_name": "FAWCETT"
                                },
                                {
                                    "first_name": "THORA",
                                    "last_name": "TEMPLE"
                                }
                            ]
                        },
                        "text/html": "<table><tr><th>first_name</th><th>last_name</th></tr><tr><td>PENELOPE</td><td>GUINESS</td></tr><tr><td>NICK</td><td>WAHLBERG</td></tr><tr><td>ED</td><td>CHASE</td></tr><tr><td>JENNIFER</td><td>DAVIS</td></tr><tr><td>JOHNNY</td><td>LOLLOBRIGIDA</td></tr><tr><td>BETTE</td><td>NICHOLSON</td></tr><tr><td>GRACE</td><td>MOSTEL</td></tr><tr><td>MATTHEW</td><td>JOHANSSON</td></tr><tr><td>JOE</td><td>SWANK</td></tr><tr><td>CHRISTIAN</td><td>GABLE</td></tr><tr><td>ZERO</td><td>CAGE</td></tr><tr><td>KARL</td><td>BERRY</td></tr><tr><td>UMA</td><td>WOOD</td></tr><tr><td>VIVIEN</td><td>BERGEN</td></tr><tr><td>CUBA</td><td>OLIVIER</td></tr><tr><td>FRED</td><td>COSTNER</td></tr><tr><td>HELEN</td><td>VOIGHT</td></tr><tr><td>DAN</td><td>TORN</td></tr><tr><td>BOB</td><td>FAWCETT</td></tr><tr><td>LUCILLE</td><td>TRACY</td></tr><tr><td>KIRSTEN</td><td>PALTROW</td></tr><tr><td>ELVIS</td><td>MARX</td></tr><tr><td>SANDRA</td><td>KILMER</td></tr><tr><td>CAMERON</td><td>STREEP</td></tr><tr><td>KEVIN</td><td>BLOOM</td></tr><tr><td>RIP</td><td>CRAWFORD</td></tr><tr><td>JULIA</td><td>MCQUEEN</td></tr><tr><td>WOODY</td><td>HOFFMAN</td></tr><tr><td>ALEC</td><td>WAYNE</td></tr><tr><td>SANDRA</td><td>PECK</td></tr><tr><td>SISSY</td><td>SOBIESKI</td></tr><tr><td>TIM</td><td>HACKMAN</td></tr><tr><td>MILLA</td><td>PECK</td></tr><tr><td>AUDREY</td><td>OLIVIER</td></tr><tr><td>JUDY</td><td>DEAN</td></tr><tr><td>BURT</td><td>DUKAKIS</td></tr><tr><td>VAL</td><td>BOLGER</td></tr><tr><td>TOM</td><td>MCKELLEN</td></tr><tr><td>GOLDIE</td><td>BRODY</td></tr><tr><td>JOHNNY</td><td>CAGE</td></tr><tr><td>JODIE</td><td>DEGENERES</td></tr><tr><td>TOM</td><td>MIRANDA</td></tr><tr><td>KIRK</td><td>JOVOVICH</td></tr><tr><td>NICK</td><td>STALLONE</td></tr><tr><td>REESE</td><td>KILMER</td></tr><tr><td>PARKER</td><td>GOLDBERG</td></tr><tr><td>JULIA</td><td>BARRYMORE</td></tr><tr><td>FRANCES</td><td>DAY-LEWIS</td></tr><tr><td>ANNE</td><td>CRONYN</td></tr><tr><td>NATALIE</td><td>HOPKINS</td></tr><tr><td>GARY</td><td>PHOENIX</td></tr><tr><td>CARMEN</td><td>HUNT</td></tr><tr><td>MENA</td><td>TEMPLE</td></tr><tr><td>PENELOPE</td><td>PINKETT</td></tr><tr><td>FAY</td><td>KILMER</td></tr><tr><td>DAN</td><td>HARRIS</td></tr><tr><td>JUDE</td><td>CRUISE</td></tr><tr><td>CHRISTIAN</td><td>AKROYD</td></tr><tr><td>DUSTIN</td><td>TAUTOU</td></tr><tr><td>HENRY</td><td>BERRY</td></tr><tr><td>CHRISTIAN</td><td>NEESON</td></tr><tr><td>JAYNE</td><td>NEESON</td></tr><tr><td>CAMERON</td><td>WRAY</td></tr><tr><td>RAY</td><td>JOHANSSON</td></tr><tr><td>ANGELA</td><td>HUDSON</td></tr><tr><td>MARY</td><td>TANDY</td></tr><tr><td>JESSICA</td><td>BAILEY</td></tr><tr><td>RIP</td><td>WINSLET</td></tr><tr><td>KENNETH</td><td>PALTROW</td></tr><tr><td>MICHELLE</td><td>MCCONAUGHEY</td></tr><tr><td>ADAM</td><td>GRANT</td></tr><tr><td>SEAN</td><td>WILLIAMS</td></tr><tr><td>GARY</td><td>PENN</td></tr><tr><td>MILLA</td><td>KEITEL</td></tr><tr><td>BURT</td><td>POSEY</td></tr><tr><td>ANGELINA</td><td>ASTAIRE</td></tr><tr><td>CARY</td><td>MCCONAUGHEY</td></tr><tr><td>GROUCHO</td><td>SINATRA</td></tr><tr><td>MAE</td><td>HOFFMAN</td></tr><tr><td>RALPH</td><td>CRUZ</td></tr><tr><td>SCARLETT</td><td>DAMON</td></tr><tr><td>WOODY</td><td>JOLIE</td></tr><tr><td>BEN</td><td>WILLIS</td></tr><tr><td>JAMES</td><td>PITT</td></tr><tr><td>MINNIE</td><td>ZELLWEGER</td></tr><tr><td>GREG</td><td>CHAPLIN</td></tr><tr><td>SPENCER</td><td>PECK</td></tr><tr><td>KENNETH</td><td>PESCI</td></tr><tr><td>CHARLIZE</td><td>DENCH</td></tr><tr><td>SEAN</td><td>GUINESS</td></tr><tr><td>CHRISTOPHER</td><td>BERRY</td></tr><tr><td>KIRSTEN</td><td>AKROYD</td></tr><tr><td>ELLEN</td><td>PRESLEY</td></tr><tr><td>KENNETH</td><td>TORN</td></tr><tr><td>DARYL</td><td>WAHLBERG</td></tr><tr><td>GENE</td><td>WILLIS</td></tr><tr><td>MEG</td><td>HAWKE</td></tr><tr><td>CHRIS</td><td>BRIDGES</td></tr><tr><td>JIM</td><td>MOSTEL</td></tr><tr><td>SPENCER</td><td>DEPP</td></tr><tr><td>SUSAN</td><td>DAVIS</td></tr><tr><td>WALTER</td><td>TORN</td></tr><tr><td>MATTHEW</td><td>LEIGH</td></tr><tr><td>PENELOPE</td><td>CRONYN</td></tr><tr><td>SIDNEY</td><td>CROWE</td></tr><tr><td>GROUCHO</td><td>DUNST</td></tr><tr><td>GINA</td><td>DEGENERES</td></tr><tr><td>WARREN</td><td>NOLTE</td></tr><tr><td>SYLVESTER</td><td>DERN</td></tr><tr><td>SUSAN</td><td>DAVIS</td></tr><tr><td>CAMERON</td><td>ZELLWEGER</td></tr><tr><td>RUSSELL</td><td>BACALL</td></tr><tr><td>MORGAN</td><td>HOPKINS</td></tr><tr><td>MORGAN</td><td>MCDORMAND</td></tr><tr><td>HARRISON</td><td>BALE</td></tr><tr><td>DAN</td><td>STREEP</td></tr><tr><td>RENEE</td><td>TRACY</td></tr><tr><td>CUBA</td><td>ALLEN</td></tr><tr><td>WARREN</td><td>JACKMAN</td></tr><tr><td>PENELOPE</td><td>MONROE</td></tr><tr><td>LIZA</td><td>BERGMAN</td></tr><tr><td>SALMA</td><td>NOLTE</td></tr><tr><td>JULIANNE</td><td>DENCH</td></tr><tr><td>SCARLETT</td><td>BENING</td></tr><tr><td>ALBERT</td><td>NOLTE</td></tr><tr><td>FRANCES</td><td>TOMEI</td></tr><tr><td>KEVIN</td><td>GARLAND</td></tr><tr><td>CATE</td><td>MCQUEEN</td></tr><tr><td>DARYL</td><td>CRAWFORD</td></tr><tr><td>GRETA</td><td>KEITEL</td></tr><tr><td>JANE</td><td>JACKMAN</td></tr><tr><td>ADAM</td><td>HOPPER</td></tr><tr><td>RICHARD</td><td>PENN</td></tr><tr><td>GENE</td><td>HOPKINS</td></tr><tr><td>RITA</td><td>REYNOLDS</td></tr><tr><td>ED</td><td>MANSFIELD</td></tr><tr><td>MORGAN</td><td>WILLIAMS</td></tr><tr><td>LUCILLE</td><td>DEE</td></tr><tr><td>EWAN</td><td>GOODING</td></tr><tr><td>WHOOPI</td><td>HURT</td></tr><tr><td>CATE</td><td>HARRIS</td></tr><tr><td>JADA</td><td>RYDER</td></tr><tr><td>RIVER</td><td>DEAN</td></tr><tr><td>ANGELA</td><td>WITHERSPOON</td></tr><tr><td>KIM</td><td>ALLEN</td></tr><tr><td>ALBERT</td><td>JOHANSSON</td></tr><tr><td>FAY</td><td>WINSLET</td></tr><tr><td>EMILY</td><td>DEE</td></tr><tr><td>RUSSELL</td><td>TEMPLE</td></tr><tr><td>JAYNE</td><td>NOLTE</td></tr><tr><td>GEOFFREY</td><td>HESTON</td></tr><tr><td>BEN</td><td>HARRIS</td></tr><tr><td>MINNIE</td><td>KILMER</td></tr><tr><td>MERYL</td><td>GIBSON</td></tr><tr><td>IAN</td><td>TANDY</td></tr><tr><td>FAY</td><td>WOOD</td></tr><tr><td>GRETA</td><td>MALDEN</td></tr><tr><td>VIVIEN</td><td>BASINGER</td></tr><tr><td>LAURA</td><td>BRODY</td></tr><tr><td>CHRIS</td><td>DEPP</td></tr><tr><td>HARVEY</td><td>HOPE</td></tr><tr><td>OPRAH</td><td>KILMER</td></tr><tr><td>CHRISTOPHER</td><td>WEST</td></tr><tr><td>HUMPHREY</td><td>WILLIS</td></tr><tr><td>AL</td><td>GARLAND</td></tr><tr><td>NICK</td><td>DEGENERES</td></tr><tr><td>LAURENCE</td><td>BULLOCK</td></tr><tr><td>WILL</td><td>WILSON</td></tr><tr><td>KENNETH</td><td>HOFFMAN</td></tr><tr><td>MENA</td><td>HOPPER</td></tr><tr><td>OLYMPIA</td><td>PFEIFFER</td></tr><tr><td>GROUCHO</td><td>WILLIAMS</td></tr><tr><td>ALAN</td><td>DREYFUSS</td></tr><tr><td>MICHAEL</td><td>BENING</td></tr><tr><td>WILLIAM</td><td>HACKMAN</td></tr><tr><td>JON</td><td>CHASE</td></tr><tr><td>GENE</td><td>MCKELLEN</td></tr><tr><td>LISA</td><td>MONROE</td></tr><tr><td>ED</td><td>GUINESS</td></tr><tr><td>JEFF</td><td>SILVERSTONE</td></tr><tr><td>MATTHEW</td><td>CARREY</td></tr><tr><td>DEBBIE</td><td>AKROYD</td></tr><tr><td>RUSSELL</td><td>CLOSE</td></tr><tr><td>HUMPHREY</td><td>GARLAND</td></tr><tr><td>MICHAEL</td><td>BOLGER</td></tr><tr><td>JULIA</td><td>ZELLWEGER</td></tr><tr><td>RENEE</td><td>BALL</td></tr><tr><td>ROCK</td><td>DUKAKIS</td></tr><tr><td>CUBA</td><td>BIRCH</td></tr><tr><td>AUDREY</td><td>BAILEY</td></tr><tr><td>GREGORY</td><td>GOODING</td></tr><tr><td>JOHN</td><td>SUVARI</td></tr><tr><td>BURT</td><td>TEMPLE</td></tr><tr><td>MERYL</td><td>ALLEN</td></tr><tr><td>JAYNE</td><td>SILVERSTONE</td></tr><tr><td>BELA</td><td>WALKEN</td></tr><tr><td>REESE</td><td>WEST</td></tr><tr><td>MARY</td><td>KEITEL</td></tr><tr><td>JULIA</td><td>FAWCETT</td></tr><tr><td>THORA</td><td>TEMPLE</td></tr></table>"
                    },
                    "metadata": {}
                }
            ],
            "execution_count": 4
        },
        {
            "cell_type": "code",
            "source": [
                "select * from actor;"
            ],
            "metadata": {
                "azdata_cell_guid": "8edbbcd5-9681-4227-8993-4beceae23aea",
                "language": "sql"
            },
            "outputs": [
                {
                    "output_type": "display_data",
                    "data": {
                        "text/html": "(200 row(s) affected)"
                    },
                    "metadata": {}
                },
                {
                    "output_type": "display_data",
                    "data": {
                        "text/html": "Total execution time: 00:00:01.049"
                    },
                    "metadata": {}
                },
                {
                    "output_type": "execute_result",
                    "execution_count": 5,
                    "data": {
                        "application/vnd.dataresource+json": {
                            "schema": {
                                "fields": [
                                    {
                                        "name": "actor_id"
                                    },
                                    {
                                        "name": "first_name"
                                    },
                                    {
                                        "name": "last_name"
                                    },
                                    {
                                        "name": "last_update"
                                    }
                                ]
                            },
                            "data": [
                                {
                                    "actor_id": "1",
                                    "first_name": "PENELOPE",
                                    "last_name": "GUINESS",
                                    "last_update": "2006-02-15 04:34:33"
                                },
                                {
                                    "actor_id": "2",
                                    "first_name": "NICK",
                                    "last_name": "WAHLBERG",
                                    "last_update": "2006-02-15 04:34:33"
                                },
                                {
                                    "actor_id": "3",
                                    "first_name": "ED",
                                    "last_name": "CHASE",
                                    "last_update": "2006-02-15 04:34:33"
                                },
                                {
                                    "actor_id": "4",
                                    "first_name": "JENNIFER",
                                    "last_name": "DAVIS",
                                    "last_update": "2006-02-15 04:34:33"
                                },
                                {
                                    "actor_id": "5",
                                    "first_name": "JOHNNY",
                                    "last_name": "LOLLOBRIGIDA",
                                    "last_update": "2006-02-15 04:34:33"
                                },
                                {
                                    "actor_id": "6",
                                    "first_name": "BETTE",
                                    "last_name": "NICHOLSON",
                                    "last_update": "2006-02-15 04:34:33"
                                },
                                {
                                    "actor_id": "7",
                                    "first_name": "GRACE",
                                    "last_name": "MOSTEL",
                                    "last_update": "2006-02-15 04:34:33"
                                },
                                {
                                    "actor_id": "8",
                                    "first_name": "MATTHEW",
                                    "last_name": "JOHANSSON",
                                    "last_update": "2006-02-15 04:34:33"
                                },
                                {
                                    "actor_id": "9",
                                    "first_name": "JOE",
                                    "last_name": "SWANK",
                                    "last_update": "2006-02-15 04:34:33"
                                },
                                {
                                    "actor_id": "10",
                                    "first_name": "CHRISTIAN",
                                    "last_name": "GABLE",
                                    "last_update": "2006-02-15 04:34:33"
                                },
                                {
                                    "actor_id": "11",
                                    "first_name": "ZERO",
                                    "last_name": "CAGE",
                                    "last_update": "2006-02-15 04:34:33"
                                },
                                {
                                    "actor_id": "12",
                                    "first_name": "KARL",
                                    "last_name": "BERRY",
                                    "last_update": "2006-02-15 04:34:33"
                                },
                                {
                                    "actor_id": "13",
                                    "first_name": "UMA",
                                    "last_name": "WOOD",
                                    "last_update": "2006-02-15 04:34:33"
                                },
                                {
                                    "actor_id": "14",
                                    "first_name": "VIVIEN",
                                    "last_name": "BERGEN",
                                    "last_update": "2006-02-15 04:34:33"
                                },
                                {
                                    "actor_id": "15",
                                    "first_name": "CUBA",
                                    "last_name": "OLIVIER",
                                    "last_update": "2006-02-15 04:34:33"
                                },
                                {
                                    "actor_id": "16",
                                    "first_name": "FRED",
                                    "last_name": "COSTNER",
                                    "last_update": "2006-02-15 04:34:33"
                                },
                                {
                                    "actor_id": "17",
                                    "first_name": "HELEN",
                                    "last_name": "VOIGHT",
                                    "last_update": "2006-02-15 04:34:33"
                                },
                                {
                                    "actor_id": "18",
                                    "first_name": "DAN",
                                    "last_name": "TORN",
                                    "last_update": "2006-02-15 04:34:33"
                                },
                                {
                                    "actor_id": "19",
                                    "first_name": "BOB",
                                    "last_name": "FAWCETT",
                                    "last_update": "2006-02-15 04:34:33"
                                },
                                {
                                    "actor_id": "20",
                                    "first_name": "LUCILLE",
                                    "last_name": "TRACY",
                                    "last_update": "2006-02-15 04:34:33"
                                },
                                {
                                    "actor_id": "21",
                                    "first_name": "KIRSTEN",
                                    "last_name": "PALTROW",
                                    "last_update": "2006-02-15 04:34:33"
                                },
                                {
                                    "actor_id": "22",
                                    "first_name": "ELVIS",
                                    "last_name": "MARX",
                                    "last_update": "2006-02-15 04:34:33"
                                },
                                {
                                    "actor_id": "23",
                                    "first_name": "SANDRA",
                                    "last_name": "KILMER",
                                    "last_update": "2006-02-15 04:34:33"
                                },
                                {
                                    "actor_id": "24",
                                    "first_name": "CAMERON",
                                    "last_name": "STREEP",
                                    "last_update": "2006-02-15 04:34:33"
                                },
                                {
                                    "actor_id": "25",
                                    "first_name": "KEVIN",
                                    "last_name": "BLOOM",
                                    "last_update": "2006-02-15 04:34:33"
                                },
                                {
                                    "actor_id": "26",
                                    "first_name": "RIP",
                                    "last_name": "CRAWFORD",
                                    "last_update": "2006-02-15 04:34:33"
                                },
                                {
                                    "actor_id": "27",
                                    "first_name": "JULIA",
                                    "last_name": "MCQUEEN",
                                    "last_update": "2006-02-15 04:34:33"
                                },
                                {
                                    "actor_id": "28",
                                    "first_name": "WOODY",
                                    "last_name": "HOFFMAN",
                                    "last_update": "2006-02-15 04:34:33"
                                },
                                {
                                    "actor_id": "29",
                                    "first_name": "ALEC",
                                    "last_name": "WAYNE",
                                    "last_update": "2006-02-15 04:34:33"
                                },
                                {
                                    "actor_id": "30",
                                    "first_name": "SANDRA",
                                    "last_name": "PECK",
                                    "last_update": "2006-02-15 04:34:33"
                                },
                                {
                                    "actor_id": "31",
                                    "first_name": "SISSY",
                                    "last_name": "SOBIESKI",
                                    "last_update": "2006-02-15 04:34:33"
                                },
                                {
                                    "actor_id": "32",
                                    "first_name": "TIM",
                                    "last_name": "HACKMAN",
                                    "last_update": "2006-02-15 04:34:33"
                                },
                                {
                                    "actor_id": "33",
                                    "first_name": "MILLA",
                                    "last_name": "PECK",
                                    "last_update": "2006-02-15 04:34:33"
                                },
                                {
                                    "actor_id": "34",
                                    "first_name": "AUDREY",
                                    "last_name": "OLIVIER",
                                    "last_update": "2006-02-15 04:34:33"
                                },
                                {
                                    "actor_id": "35",
                                    "first_name": "JUDY",
                                    "last_name": "DEAN",
                                    "last_update": "2006-02-15 04:34:33"
                                },
                                {
                                    "actor_id": "36",
                                    "first_name": "BURT",
                                    "last_name": "DUKAKIS",
                                    "last_update": "2006-02-15 04:34:33"
                                },
                                {
                                    "actor_id": "37",
                                    "first_name": "VAL",
                                    "last_name": "BOLGER",
                                    "last_update": "2006-02-15 04:34:33"
                                },
                                {
                                    "actor_id": "38",
                                    "first_name": "TOM",
                                    "last_name": "MCKELLEN",
                                    "last_update": "2006-02-15 04:34:33"
                                },
                                {
                                    "actor_id": "39",
                                    "first_name": "GOLDIE",
                                    "last_name": "BRODY",
                                    "last_update": "2006-02-15 04:34:33"
                                },
                                {
                                    "actor_id": "40",
                                    "first_name": "JOHNNY",
                                    "last_name": "CAGE",
                                    "last_update": "2006-02-15 04:34:33"
                                },
                                {
                                    "actor_id": "41",
                                    "first_name": "JODIE",
                                    "last_name": "DEGENERES",
                                    "last_update": "2006-02-15 04:34:33"
                                },
                                {
                                    "actor_id": "42",
                                    "first_name": "TOM",
                                    "last_name": "MIRANDA",
                                    "last_update": "2006-02-15 04:34:33"
                                },
                                {
                                    "actor_id": "43",
                                    "first_name": "KIRK",
                                    "last_name": "JOVOVICH",
                                    "last_update": "2006-02-15 04:34:33"
                                },
                                {
                                    "actor_id": "44",
                                    "first_name": "NICK",
                                    "last_name": "STALLONE",
                                    "last_update": "2006-02-15 04:34:33"
                                },
                                {
                                    "actor_id": "45",
                                    "first_name": "REESE",
                                    "last_name": "KILMER",
                                    "last_update": "2006-02-15 04:34:33"
                                },
                                {
                                    "actor_id": "46",
                                    "first_name": "PARKER",
                                    "last_name": "GOLDBERG",
                                    "last_update": "2006-02-15 04:34:33"
                                },
                                {
                                    "actor_id": "47",
                                    "first_name": "JULIA",
                                    "last_name": "BARRYMORE",
                                    "last_update": "2006-02-15 04:34:33"
                                },
                                {
                                    "actor_id": "48",
                                    "first_name": "FRANCES",
                                    "last_name": "DAY-LEWIS",
                                    "last_update": "2006-02-15 04:34:33"
                                },
                                {
                                    "actor_id": "49",
                                    "first_name": "ANNE",
                                    "last_name": "CRONYN",
                                    "last_update": "2006-02-15 04:34:33"
                                },
                                {
                                    "actor_id": "50",
                                    "first_name": "NATALIE",
                                    "last_name": "HOPKINS",
                                    "last_update": "2006-02-15 04:34:33"
                                },
                                {
                                    "actor_id": "51",
                                    "first_name": "GARY",
                                    "last_name": "PHOENIX",
                                    "last_update": "2006-02-15 04:34:33"
                                },
                                {
                                    "actor_id": "52",
                                    "first_name": "CARMEN",
                                    "last_name": "HUNT",
                                    "last_update": "2006-02-15 04:34:33"
                                },
                                {
                                    "actor_id": "53",
                                    "first_name": "MENA",
                                    "last_name": "TEMPLE",
                                    "last_update": "2006-02-15 04:34:33"
                                },
                                {
                                    "actor_id": "54",
                                    "first_name": "PENELOPE",
                                    "last_name": "PINKETT",
                                    "last_update": "2006-02-15 04:34:33"
                                },
                                {
                                    "actor_id": "55",
                                    "first_name": "FAY",
                                    "last_name": "KILMER",
                                    "last_update": "2006-02-15 04:34:33"
                                },
                                {
                                    "actor_id": "56",
                                    "first_name": "DAN",
                                    "last_name": "HARRIS",
                                    "last_update": "2006-02-15 04:34:33"
                                },
                                {
                                    "actor_id": "57",
                                    "first_name": "JUDE",
                                    "last_name": "CRUISE",
                                    "last_update": "2006-02-15 04:34:33"
                                },
                                {
                                    "actor_id": "58",
                                    "first_name": "CHRISTIAN",
                                    "last_name": "AKROYD",
                                    "last_update": "2006-02-15 04:34:33"
                                },
                                {
                                    "actor_id": "59",
                                    "first_name": "DUSTIN",
                                    "last_name": "TAUTOU",
                                    "last_update": "2006-02-15 04:34:33"
                                },
                                {
                                    "actor_id": "60",
                                    "first_name": "HENRY",
                                    "last_name": "BERRY",
                                    "last_update": "2006-02-15 04:34:33"
                                },
                                {
                                    "actor_id": "61",
                                    "first_name": "CHRISTIAN",
                                    "last_name": "NEESON",
                                    "last_update": "2006-02-15 04:34:33"
                                },
                                {
                                    "actor_id": "62",
                                    "first_name": "JAYNE",
                                    "last_name": "NEESON",
                                    "last_update": "2006-02-15 04:34:33"
                                },
                                {
                                    "actor_id": "63",
                                    "first_name": "CAMERON",
                                    "last_name": "WRAY",
                                    "last_update": "2006-02-15 04:34:33"
                                },
                                {
                                    "actor_id": "64",
                                    "first_name": "RAY",
                                    "last_name": "JOHANSSON",
                                    "last_update": "2006-02-15 04:34:33"
                                },
                                {
                                    "actor_id": "65",
                                    "first_name": "ANGELA",
                                    "last_name": "HUDSON",
                                    "last_update": "2006-02-15 04:34:33"
                                },
                                {
                                    "actor_id": "66",
                                    "first_name": "MARY",
                                    "last_name": "TANDY",
                                    "last_update": "2006-02-15 04:34:33"
                                },
                                {
                                    "actor_id": "67",
                                    "first_name": "JESSICA",
                                    "last_name": "BAILEY",
                                    "last_update": "2006-02-15 04:34:33"
                                },
                                {
                                    "actor_id": "68",
                                    "first_name": "RIP",
                                    "last_name": "WINSLET",
                                    "last_update": "2006-02-15 04:34:33"
                                },
                                {
                                    "actor_id": "69",
                                    "first_name": "KENNETH",
                                    "last_name": "PALTROW",
                                    "last_update": "2006-02-15 04:34:33"
                                },
                                {
                                    "actor_id": "70",
                                    "first_name": "MICHELLE",
                                    "last_name": "MCCONAUGHEY",
                                    "last_update": "2006-02-15 04:34:33"
                                },
                                {
                                    "actor_id": "71",
                                    "first_name": "ADAM",
                                    "last_name": "GRANT",
                                    "last_update": "2006-02-15 04:34:33"
                                },
                                {
                                    "actor_id": "72",
                                    "first_name": "SEAN",
                                    "last_name": "WILLIAMS",
                                    "last_update": "2006-02-15 04:34:33"
                                },
                                {
                                    "actor_id": "73",
                                    "first_name": "GARY",
                                    "last_name": "PENN",
                                    "last_update": "2006-02-15 04:34:33"
                                },
                                {
                                    "actor_id": "74",
                                    "first_name": "MILLA",
                                    "last_name": "KEITEL",
                                    "last_update": "2006-02-15 04:34:33"
                                },
                                {
                                    "actor_id": "75",
                                    "first_name": "BURT",
                                    "last_name": "POSEY",
                                    "last_update": "2006-02-15 04:34:33"
                                },
                                {
                                    "actor_id": "76",
                                    "first_name": "ANGELINA",
                                    "last_name": "ASTAIRE",
                                    "last_update": "2006-02-15 04:34:33"
                                },
                                {
                                    "actor_id": "77",
                                    "first_name": "CARY",
                                    "last_name": "MCCONAUGHEY",
                                    "last_update": "2006-02-15 04:34:33"
                                },
                                {
                                    "actor_id": "78",
                                    "first_name": "GROUCHO",
                                    "last_name": "SINATRA",
                                    "last_update": "2006-02-15 04:34:33"
                                },
                                {
                                    "actor_id": "79",
                                    "first_name": "MAE",
                                    "last_name": "HOFFMAN",
                                    "last_update": "2006-02-15 04:34:33"
                                },
                                {
                                    "actor_id": "80",
                                    "first_name": "RALPH",
                                    "last_name": "CRUZ",
                                    "last_update": "2006-02-15 04:34:33"
                                },
                                {
                                    "actor_id": "81",
                                    "first_name": "SCARLETT",
                                    "last_name": "DAMON",
                                    "last_update": "2006-02-15 04:34:33"
                                },
                                {
                                    "actor_id": "82",
                                    "first_name": "WOODY",
                                    "last_name": "JOLIE",
                                    "last_update": "2006-02-15 04:34:33"
                                },
                                {
                                    "actor_id": "83",
                                    "first_name": "BEN",
                                    "last_name": "WILLIS",
                                    "last_update": "2006-02-15 04:34:33"
                                },
                                {
                                    "actor_id": "84",
                                    "first_name": "JAMES",
                                    "last_name": "PITT",
                                    "last_update": "2006-02-15 04:34:33"
                                },
                                {
                                    "actor_id": "85",
                                    "first_name": "MINNIE",
                                    "last_name": "ZELLWEGER",
                                    "last_update": "2006-02-15 04:34:33"
                                },
                                {
                                    "actor_id": "86",
                                    "first_name": "GREG",
                                    "last_name": "CHAPLIN",
                                    "last_update": "2006-02-15 04:34:33"
                                },
                                {
                                    "actor_id": "87",
                                    "first_name": "SPENCER",
                                    "last_name": "PECK",
                                    "last_update": "2006-02-15 04:34:33"
                                },
                                {
                                    "actor_id": "88",
                                    "first_name": "KENNETH",
                                    "last_name": "PESCI",
                                    "last_update": "2006-02-15 04:34:33"
                                },
                                {
                                    "actor_id": "89",
                                    "first_name": "CHARLIZE",
                                    "last_name": "DENCH",
                                    "last_update": "2006-02-15 04:34:33"
                                },
                                {
                                    "actor_id": "90",
                                    "first_name": "SEAN",
                                    "last_name": "GUINESS",
                                    "last_update": "2006-02-15 04:34:33"
                                },
                                {
                                    "actor_id": "91",
                                    "first_name": "CHRISTOPHER",
                                    "last_name": "BERRY",
                                    "last_update": "2006-02-15 04:34:33"
                                },
                                {
                                    "actor_id": "92",
                                    "first_name": "KIRSTEN",
                                    "last_name": "AKROYD",
                                    "last_update": "2006-02-15 04:34:33"
                                },
                                {
                                    "actor_id": "93",
                                    "first_name": "ELLEN",
                                    "last_name": "PRESLEY",
                                    "last_update": "2006-02-15 04:34:33"
                                },
                                {
                                    "actor_id": "94",
                                    "first_name": "KENNETH",
                                    "last_name": "TORN",
                                    "last_update": "2006-02-15 04:34:33"
                                },
                                {
                                    "actor_id": "95",
                                    "first_name": "DARYL",
                                    "last_name": "WAHLBERG",
                                    "last_update": "2006-02-15 04:34:33"
                                },
                                {
                                    "actor_id": "96",
                                    "first_name": "GENE",
                                    "last_name": "WILLIS",
                                    "last_update": "2006-02-15 04:34:33"
                                },
                                {
                                    "actor_id": "97",
                                    "first_name": "MEG",
                                    "last_name": "HAWKE",
                                    "last_update": "2006-02-15 04:34:33"
                                },
                                {
                                    "actor_id": "98",
                                    "first_name": "CHRIS",
                                    "last_name": "BRIDGES",
                                    "last_update": "2006-02-15 04:34:33"
                                },
                                {
                                    "actor_id": "99",
                                    "first_name": "JIM",
                                    "last_name": "MOSTEL",
                                    "last_update": "2006-02-15 04:34:33"
                                },
                                {
                                    "actor_id": "100",
                                    "first_name": "SPENCER",
                                    "last_name": "DEPP",
                                    "last_update": "2006-02-15 04:34:33"
                                },
                                {
                                    "actor_id": "101",
                                    "first_name": "SUSAN",
                                    "last_name": "DAVIS",
                                    "last_update": "2006-02-15 04:34:33"
                                },
                                {
                                    "actor_id": "102",
                                    "first_name": "WALTER",
                                    "last_name": "TORN",
                                    "last_update": "2006-02-15 04:34:33"
                                },
                                {
                                    "actor_id": "103",
                                    "first_name": "MATTHEW",
                                    "last_name": "LEIGH",
                                    "last_update": "2006-02-15 04:34:33"
                                },
                                {
                                    "actor_id": "104",
                                    "first_name": "PENELOPE",
                                    "last_name": "CRONYN",
                                    "last_update": "2006-02-15 04:34:33"
                                },
                                {
                                    "actor_id": "105",
                                    "first_name": "SIDNEY",
                                    "last_name": "CROWE",
                                    "last_update": "2006-02-15 04:34:33"
                                },
                                {
                                    "actor_id": "106",
                                    "first_name": "GROUCHO",
                                    "last_name": "DUNST",
                                    "last_update": "2006-02-15 04:34:33"
                                },
                                {
                                    "actor_id": "107",
                                    "first_name": "GINA",
                                    "last_name": "DEGENERES",
                                    "last_update": "2006-02-15 04:34:33"
                                },
                                {
                                    "actor_id": "108",
                                    "first_name": "WARREN",
                                    "last_name": "NOLTE",
                                    "last_update": "2006-02-15 04:34:33"
                                },
                                {
                                    "actor_id": "109",
                                    "first_name": "SYLVESTER",
                                    "last_name": "DERN",
                                    "last_update": "2006-02-15 04:34:33"
                                },
                                {
                                    "actor_id": "110",
                                    "first_name": "SUSAN",
                                    "last_name": "DAVIS",
                                    "last_update": "2006-02-15 04:34:33"
                                },
                                {
                                    "actor_id": "111",
                                    "first_name": "CAMERON",
                                    "last_name": "ZELLWEGER",
                                    "last_update": "2006-02-15 04:34:33"
                                },
                                {
                                    "actor_id": "112",
                                    "first_name": "RUSSELL",
                                    "last_name": "BACALL",
                                    "last_update": "2006-02-15 04:34:33"
                                },
                                {
                                    "actor_id": "113",
                                    "first_name": "MORGAN",
                                    "last_name": "HOPKINS",
                                    "last_update": "2006-02-15 04:34:33"
                                },
                                {
                                    "actor_id": "114",
                                    "first_name": "MORGAN",
                                    "last_name": "MCDORMAND",
                                    "last_update": "2006-02-15 04:34:33"
                                },
                                {
                                    "actor_id": "115",
                                    "first_name": "HARRISON",
                                    "last_name": "BALE",
                                    "last_update": "2006-02-15 04:34:33"
                                },
                                {
                                    "actor_id": "116",
                                    "first_name": "DAN",
                                    "last_name": "STREEP",
                                    "last_update": "2006-02-15 04:34:33"
                                },
                                {
                                    "actor_id": "117",
                                    "first_name": "RENEE",
                                    "last_name": "TRACY",
                                    "last_update": "2006-02-15 04:34:33"
                                },
                                {
                                    "actor_id": "118",
                                    "first_name": "CUBA",
                                    "last_name": "ALLEN",
                                    "last_update": "2006-02-15 04:34:33"
                                },
                                {
                                    "actor_id": "119",
                                    "first_name": "WARREN",
                                    "last_name": "JACKMAN",
                                    "last_update": "2006-02-15 04:34:33"
                                },
                                {
                                    "actor_id": "120",
                                    "first_name": "PENELOPE",
                                    "last_name": "MONROE",
                                    "last_update": "2006-02-15 04:34:33"
                                },
                                {
                                    "actor_id": "121",
                                    "first_name": "LIZA",
                                    "last_name": "BERGMAN",
                                    "last_update": "2006-02-15 04:34:33"
                                },
                                {
                                    "actor_id": "122",
                                    "first_name": "SALMA",
                                    "last_name": "NOLTE",
                                    "last_update": "2006-02-15 04:34:33"
                                },
                                {
                                    "actor_id": "123",
                                    "first_name": "JULIANNE",
                                    "last_name": "DENCH",
                                    "last_update": "2006-02-15 04:34:33"
                                },
                                {
                                    "actor_id": "124",
                                    "first_name": "SCARLETT",
                                    "last_name": "BENING",
                                    "last_update": "2006-02-15 04:34:33"
                                },
                                {
                                    "actor_id": "125",
                                    "first_name": "ALBERT",
                                    "last_name": "NOLTE",
                                    "last_update": "2006-02-15 04:34:33"
                                },
                                {
                                    "actor_id": "126",
                                    "first_name": "FRANCES",
                                    "last_name": "TOMEI",
                                    "last_update": "2006-02-15 04:34:33"
                                },
                                {
                                    "actor_id": "127",
                                    "first_name": "KEVIN",
                                    "last_name": "GARLAND",
                                    "last_update": "2006-02-15 04:34:33"
                                },
                                {
                                    "actor_id": "128",
                                    "first_name": "CATE",
                                    "last_name": "MCQUEEN",
                                    "last_update": "2006-02-15 04:34:33"
                                },
                                {
                                    "actor_id": "129",
                                    "first_name": "DARYL",
                                    "last_name": "CRAWFORD",
                                    "last_update": "2006-02-15 04:34:33"
                                },
                                {
                                    "actor_id": "130",
                                    "first_name": "GRETA",
                                    "last_name": "KEITEL",
                                    "last_update": "2006-02-15 04:34:33"
                                },
                                {
                                    "actor_id": "131",
                                    "first_name": "JANE",
                                    "last_name": "JACKMAN",
                                    "last_update": "2006-02-15 04:34:33"
                                },
                                {
                                    "actor_id": "132",
                                    "first_name": "ADAM",
                                    "last_name": "HOPPER",
                                    "last_update": "2006-02-15 04:34:33"
                                },
                                {
                                    "actor_id": "133",
                                    "first_name": "RICHARD",
                                    "last_name": "PENN",
                                    "last_update": "2006-02-15 04:34:33"
                                },
                                {
                                    "actor_id": "134",
                                    "first_name": "GENE",
                                    "last_name": "HOPKINS",
                                    "last_update": "2006-02-15 04:34:33"
                                },
                                {
                                    "actor_id": "135",
                                    "first_name": "RITA",
                                    "last_name": "REYNOLDS",
                                    "last_update": "2006-02-15 04:34:33"
                                },
                                {
                                    "actor_id": "136",
                                    "first_name": "ED",
                                    "last_name": "MANSFIELD",
                                    "last_update": "2006-02-15 04:34:33"
                                },
                                {
                                    "actor_id": "137",
                                    "first_name": "MORGAN",
                                    "last_name": "WILLIAMS",
                                    "last_update": "2006-02-15 04:34:33"
                                },
                                {
                                    "actor_id": "138",
                                    "first_name": "LUCILLE",
                                    "last_name": "DEE",
                                    "last_update": "2006-02-15 04:34:33"
                                },
                                {
                                    "actor_id": "139",
                                    "first_name": "EWAN",
                                    "last_name": "GOODING",
                                    "last_update": "2006-02-15 04:34:33"
                                },
                                {
                                    "actor_id": "140",
                                    "first_name": "WHOOPI",
                                    "last_name": "HURT",
                                    "last_update": "2006-02-15 04:34:33"
                                },
                                {
                                    "actor_id": "141",
                                    "first_name": "CATE",
                                    "last_name": "HARRIS",
                                    "last_update": "2006-02-15 04:34:33"
                                },
                                {
                                    "actor_id": "142",
                                    "first_name": "JADA",
                                    "last_name": "RYDER",
                                    "last_update": "2006-02-15 04:34:33"
                                },
                                {
                                    "actor_id": "143",
                                    "first_name": "RIVER",
                                    "last_name": "DEAN",
                                    "last_update": "2006-02-15 04:34:33"
                                },
                                {
                                    "actor_id": "144",
                                    "first_name": "ANGELA",
                                    "last_name": "WITHERSPOON",
                                    "last_update": "2006-02-15 04:34:33"
                                },
                                {
                                    "actor_id": "145",
                                    "first_name": "KIM",
                                    "last_name": "ALLEN",
                                    "last_update": "2006-02-15 04:34:33"
                                },
                                {
                                    "actor_id": "146",
                                    "first_name": "ALBERT",
                                    "last_name": "JOHANSSON",
                                    "last_update": "2006-02-15 04:34:33"
                                },
                                {
                                    "actor_id": "147",
                                    "first_name": "FAY",
                                    "last_name": "WINSLET",
                                    "last_update": "2006-02-15 04:34:33"
                                },
                                {
                                    "actor_id": "148",
                                    "first_name": "EMILY",
                                    "last_name": "DEE",
                                    "last_update": "2006-02-15 04:34:33"
                                },
                                {
                                    "actor_id": "149",
                                    "first_name": "RUSSELL",
                                    "last_name": "TEMPLE",
                                    "last_update": "2006-02-15 04:34:33"
                                },
                                {
                                    "actor_id": "150",
                                    "first_name": "JAYNE",
                                    "last_name": "NOLTE",
                                    "last_update": "2006-02-15 04:34:33"
                                },
                                {
                                    "actor_id": "151",
                                    "first_name": "GEOFFREY",
                                    "last_name": "HESTON",
                                    "last_update": "2006-02-15 04:34:33"
                                },
                                {
                                    "actor_id": "152",
                                    "first_name": "BEN",
                                    "last_name": "HARRIS",
                                    "last_update": "2006-02-15 04:34:33"
                                },
                                {
                                    "actor_id": "153",
                                    "first_name": "MINNIE",
                                    "last_name": "KILMER",
                                    "last_update": "2006-02-15 04:34:33"
                                },
                                {
                                    "actor_id": "154",
                                    "first_name": "MERYL",
                                    "last_name": "GIBSON",
                                    "last_update": "2006-02-15 04:34:33"
                                },
                                {
                                    "actor_id": "155",
                                    "first_name": "IAN",
                                    "last_name": "TANDY",
                                    "last_update": "2006-02-15 04:34:33"
                                },
                                {
                                    "actor_id": "156",
                                    "first_name": "FAY",
                                    "last_name": "WOOD",
                                    "last_update": "2006-02-15 04:34:33"
                                },
                                {
                                    "actor_id": "157",
                                    "first_name": "GRETA",
                                    "last_name": "MALDEN",
                                    "last_update": "2006-02-15 04:34:33"
                                },
                                {
                                    "actor_id": "158",
                                    "first_name": "VIVIEN",
                                    "last_name": "BASINGER",
                                    "last_update": "2006-02-15 04:34:33"
                                },
                                {
                                    "actor_id": "159",
                                    "first_name": "LAURA",
                                    "last_name": "BRODY",
                                    "last_update": "2006-02-15 04:34:33"
                                },
                                {
                                    "actor_id": "160",
                                    "first_name": "CHRIS",
                                    "last_name": "DEPP",
                                    "last_update": "2006-02-15 04:34:33"
                                },
                                {
                                    "actor_id": "161",
                                    "first_name": "HARVEY",
                                    "last_name": "HOPE",
                                    "last_update": "2006-02-15 04:34:33"
                                },
                                {
                                    "actor_id": "162",
                                    "first_name": "OPRAH",
                                    "last_name": "KILMER",
                                    "last_update": "2006-02-15 04:34:33"
                                },
                                {
                                    "actor_id": "163",
                                    "first_name": "CHRISTOPHER",
                                    "last_name": "WEST",
                                    "last_update": "2006-02-15 04:34:33"
                                },
                                {
                                    "actor_id": "164",
                                    "first_name": "HUMPHREY",
                                    "last_name": "WILLIS",
                                    "last_update": "2006-02-15 04:34:33"
                                },
                                {
                                    "actor_id": "165",
                                    "first_name": "AL",
                                    "last_name": "GARLAND",
                                    "last_update": "2006-02-15 04:34:33"
                                },
                                {
                                    "actor_id": "166",
                                    "first_name": "NICK",
                                    "last_name": "DEGENERES",
                                    "last_update": "2006-02-15 04:34:33"
                                },
                                {
                                    "actor_id": "167",
                                    "first_name": "LAURENCE",
                                    "last_name": "BULLOCK",
                                    "last_update": "2006-02-15 04:34:33"
                                },
                                {
                                    "actor_id": "168",
                                    "first_name": "WILL",
                                    "last_name": "WILSON",
                                    "last_update": "2006-02-15 04:34:33"
                                },
                                {
                                    "actor_id": "169",
                                    "first_name": "KENNETH",
                                    "last_name": "HOFFMAN",
                                    "last_update": "2006-02-15 04:34:33"
                                },
                                {
                                    "actor_id": "170",
                                    "first_name": "MENA",
                                    "last_name": "HOPPER",
                                    "last_update": "2006-02-15 04:34:33"
                                },
                                {
                                    "actor_id": "171",
                                    "first_name": "OLYMPIA",
                                    "last_name": "PFEIFFER",
                                    "last_update": "2006-02-15 04:34:33"
                                },
                                {
                                    "actor_id": "172",
                                    "first_name": "GROUCHO",
                                    "last_name": "WILLIAMS",
                                    "last_update": "2006-02-15 04:34:33"
                                },
                                {
                                    "actor_id": "173",
                                    "first_name": "ALAN",
                                    "last_name": "DREYFUSS",
                                    "last_update": "2006-02-15 04:34:33"
                                },
                                {
                                    "actor_id": "174",
                                    "first_name": "MICHAEL",
                                    "last_name": "BENING",
                                    "last_update": "2006-02-15 04:34:33"
                                },
                                {
                                    "actor_id": "175",
                                    "first_name": "WILLIAM",
                                    "last_name": "HACKMAN",
                                    "last_update": "2006-02-15 04:34:33"
                                },
                                {
                                    "actor_id": "176",
                                    "first_name": "JON",
                                    "last_name": "CHASE",
                                    "last_update": "2006-02-15 04:34:33"
                                },
                                {
                                    "actor_id": "177",
                                    "first_name": "GENE",
                                    "last_name": "MCKELLEN",
                                    "last_update": "2006-02-15 04:34:33"
                                },
                                {
                                    "actor_id": "178",
                                    "first_name": "LISA",
                                    "last_name": "MONROE",
                                    "last_update": "2006-02-15 04:34:33"
                                },
                                {
                                    "actor_id": "179",
                                    "first_name": "ED",
                                    "last_name": "GUINESS",
                                    "last_update": "2006-02-15 04:34:33"
                                },
                                {
                                    "actor_id": "180",
                                    "first_name": "JEFF",
                                    "last_name": "SILVERSTONE",
                                    "last_update": "2006-02-15 04:34:33"
                                },
                                {
                                    "actor_id": "181",
                                    "first_name": "MATTHEW",
                                    "last_name": "CARREY",
                                    "last_update": "2006-02-15 04:34:33"
                                },
                                {
                                    "actor_id": "182",
                                    "first_name": "DEBBIE",
                                    "last_name": "AKROYD",
                                    "last_update": "2006-02-15 04:34:33"
                                },
                                {
                                    "actor_id": "183",
                                    "first_name": "RUSSELL",
                                    "last_name": "CLOSE",
                                    "last_update": "2006-02-15 04:34:33"
                                },
                                {
                                    "actor_id": "184",
                                    "first_name": "HUMPHREY",
                                    "last_name": "GARLAND",
                                    "last_update": "2006-02-15 04:34:33"
                                },
                                {
                                    "actor_id": "185",
                                    "first_name": "MICHAEL",
                                    "last_name": "BOLGER",
                                    "last_update": "2006-02-15 04:34:33"
                                },
                                {
                                    "actor_id": "186",
                                    "first_name": "JULIA",
                                    "last_name": "ZELLWEGER",
                                    "last_update": "2006-02-15 04:34:33"
                                },
                                {
                                    "actor_id": "187",
                                    "first_name": "RENEE",
                                    "last_name": "BALL",
                                    "last_update": "2006-02-15 04:34:33"
                                },
                                {
                                    "actor_id": "188",
                                    "first_name": "ROCK",
                                    "last_name": "DUKAKIS",
                                    "last_update": "2006-02-15 04:34:33"
                                },
                                {
                                    "actor_id": "189",
                                    "first_name": "CUBA",
                                    "last_name": "BIRCH",
                                    "last_update": "2006-02-15 04:34:33"
                                },
                                {
                                    "actor_id": "190",
                                    "first_name": "AUDREY",
                                    "last_name": "BAILEY",
                                    "last_update": "2006-02-15 04:34:33"
                                },
                                {
                                    "actor_id": "191",
                                    "first_name": "GREGORY",
                                    "last_name": "GOODING",
                                    "last_update": "2006-02-15 04:34:33"
                                },
                                {
                                    "actor_id": "192",
                                    "first_name": "JOHN",
                                    "last_name": "SUVARI",
                                    "last_update": "2006-02-15 04:34:33"
                                },
                                {
                                    "actor_id": "193",
                                    "first_name": "BURT",
                                    "last_name": "TEMPLE",
                                    "last_update": "2006-02-15 04:34:33"
                                },
                                {
                                    "actor_id": "194",
                                    "first_name": "MERYL",
                                    "last_name": "ALLEN",
                                    "last_update": "2006-02-15 04:34:33"
                                },
                                {
                                    "actor_id": "195",
                                    "first_name": "JAYNE",
                                    "last_name": "SILVERSTONE",
                                    "last_update": "2006-02-15 04:34:33"
                                },
                                {
                                    "actor_id": "196",
                                    "first_name": "BELA",
                                    "last_name": "WALKEN",
                                    "last_update": "2006-02-15 04:34:33"
                                },
                                {
                                    "actor_id": "197",
                                    "first_name": "REESE",
                                    "last_name": "WEST",
                                    "last_update": "2006-02-15 04:34:33"
                                },
                                {
                                    "actor_id": "198",
                                    "first_name": "MARY",
                                    "last_name": "KEITEL",
                                    "last_update": "2006-02-15 04:34:33"
                                },
                                {
                                    "actor_id": "199",
                                    "first_name": "JULIA",
                                    "last_name": "FAWCETT",
                                    "last_update": "2006-02-15 04:34:33"
                                },
                                {
                                    "actor_id": "200",
                                    "first_name": "THORA",
                                    "last_name": "TEMPLE",
                                    "last_update": "2006-02-15 04:34:33"
                                }
                            ]
                        },
                        "text/html": "<table><tr><th>actor_id</th><th>first_name</th><th>last_name</th><th>last_update</th></tr><tr><td>1</td><td>PENELOPE</td><td>GUINESS</td><td>2006-02-15 04:34:33</td></tr><tr><td>2</td><td>NICK</td><td>WAHLBERG</td><td>2006-02-15 04:34:33</td></tr><tr><td>3</td><td>ED</td><td>CHASE</td><td>2006-02-15 04:34:33</td></tr><tr><td>4</td><td>JENNIFER</td><td>DAVIS</td><td>2006-02-15 04:34:33</td></tr><tr><td>5</td><td>JOHNNY</td><td>LOLLOBRIGIDA</td><td>2006-02-15 04:34:33</td></tr><tr><td>6</td><td>BETTE</td><td>NICHOLSON</td><td>2006-02-15 04:34:33</td></tr><tr><td>7</td><td>GRACE</td><td>MOSTEL</td><td>2006-02-15 04:34:33</td></tr><tr><td>8</td><td>MATTHEW</td><td>JOHANSSON</td><td>2006-02-15 04:34:33</td></tr><tr><td>9</td><td>JOE</td><td>SWANK</td><td>2006-02-15 04:34:33</td></tr><tr><td>10</td><td>CHRISTIAN</td><td>GABLE</td><td>2006-02-15 04:34:33</td></tr><tr><td>11</td><td>ZERO</td><td>CAGE</td><td>2006-02-15 04:34:33</td></tr><tr><td>12</td><td>KARL</td><td>BERRY</td><td>2006-02-15 04:34:33</td></tr><tr><td>13</td><td>UMA</td><td>WOOD</td><td>2006-02-15 04:34:33</td></tr><tr><td>14</td><td>VIVIEN</td><td>BERGEN</td><td>2006-02-15 04:34:33</td></tr><tr><td>15</td><td>CUBA</td><td>OLIVIER</td><td>2006-02-15 04:34:33</td></tr><tr><td>16</td><td>FRED</td><td>COSTNER</td><td>2006-02-15 04:34:33</td></tr><tr><td>17</td><td>HELEN</td><td>VOIGHT</td><td>2006-02-15 04:34:33</td></tr><tr><td>18</td><td>DAN</td><td>TORN</td><td>2006-02-15 04:34:33</td></tr><tr><td>19</td><td>BOB</td><td>FAWCETT</td><td>2006-02-15 04:34:33</td></tr><tr><td>20</td><td>LUCILLE</td><td>TRACY</td><td>2006-02-15 04:34:33</td></tr><tr><td>21</td><td>KIRSTEN</td><td>PALTROW</td><td>2006-02-15 04:34:33</td></tr><tr><td>22</td><td>ELVIS</td><td>MARX</td><td>2006-02-15 04:34:33</td></tr><tr><td>23</td><td>SANDRA</td><td>KILMER</td><td>2006-02-15 04:34:33</td></tr><tr><td>24</td><td>CAMERON</td><td>STREEP</td><td>2006-02-15 04:34:33</td></tr><tr><td>25</td><td>KEVIN</td><td>BLOOM</td><td>2006-02-15 04:34:33</td></tr><tr><td>26</td><td>RIP</td><td>CRAWFORD</td><td>2006-02-15 04:34:33</td></tr><tr><td>27</td><td>JULIA</td><td>MCQUEEN</td><td>2006-02-15 04:34:33</td></tr><tr><td>28</td><td>WOODY</td><td>HOFFMAN</td><td>2006-02-15 04:34:33</td></tr><tr><td>29</td><td>ALEC</td><td>WAYNE</td><td>2006-02-15 04:34:33</td></tr><tr><td>30</td><td>SANDRA</td><td>PECK</td><td>2006-02-15 04:34:33</td></tr><tr><td>31</td><td>SISSY</td><td>SOBIESKI</td><td>2006-02-15 04:34:33</td></tr><tr><td>32</td><td>TIM</td><td>HACKMAN</td><td>2006-02-15 04:34:33</td></tr><tr><td>33</td><td>MILLA</td><td>PECK</td><td>2006-02-15 04:34:33</td></tr><tr><td>34</td><td>AUDREY</td><td>OLIVIER</td><td>2006-02-15 04:34:33</td></tr><tr><td>35</td><td>JUDY</td><td>DEAN</td><td>2006-02-15 04:34:33</td></tr><tr><td>36</td><td>BURT</td><td>DUKAKIS</td><td>2006-02-15 04:34:33</td></tr><tr><td>37</td><td>VAL</td><td>BOLGER</td><td>2006-02-15 04:34:33</td></tr><tr><td>38</td><td>TOM</td><td>MCKELLEN</td><td>2006-02-15 04:34:33</td></tr><tr><td>39</td><td>GOLDIE</td><td>BRODY</td><td>2006-02-15 04:34:33</td></tr><tr><td>40</td><td>JOHNNY</td><td>CAGE</td><td>2006-02-15 04:34:33</td></tr><tr><td>41</td><td>JODIE</td><td>DEGENERES</td><td>2006-02-15 04:34:33</td></tr><tr><td>42</td><td>TOM</td><td>MIRANDA</td><td>2006-02-15 04:34:33</td></tr><tr><td>43</td><td>KIRK</td><td>JOVOVICH</td><td>2006-02-15 04:34:33</td></tr><tr><td>44</td><td>NICK</td><td>STALLONE</td><td>2006-02-15 04:34:33</td></tr><tr><td>45</td><td>REESE</td><td>KILMER</td><td>2006-02-15 04:34:33</td></tr><tr><td>46</td><td>PARKER</td><td>GOLDBERG</td><td>2006-02-15 04:34:33</td></tr><tr><td>47</td><td>JULIA</td><td>BARRYMORE</td><td>2006-02-15 04:34:33</td></tr><tr><td>48</td><td>FRANCES</td><td>DAY-LEWIS</td><td>2006-02-15 04:34:33</td></tr><tr><td>49</td><td>ANNE</td><td>CRONYN</td><td>2006-02-15 04:34:33</td></tr><tr><td>50</td><td>NATALIE</td><td>HOPKINS</td><td>2006-02-15 04:34:33</td></tr><tr><td>51</td><td>GARY</td><td>PHOENIX</td><td>2006-02-15 04:34:33</td></tr><tr><td>52</td><td>CARMEN</td><td>HUNT</td><td>2006-02-15 04:34:33</td></tr><tr><td>53</td><td>MENA</td><td>TEMPLE</td><td>2006-02-15 04:34:33</td></tr><tr><td>54</td><td>PENELOPE</td><td>PINKETT</td><td>2006-02-15 04:34:33</td></tr><tr><td>55</td><td>FAY</td><td>KILMER</td><td>2006-02-15 04:34:33</td></tr><tr><td>56</td><td>DAN</td><td>HARRIS</td><td>2006-02-15 04:34:33</td></tr><tr><td>57</td><td>JUDE</td><td>CRUISE</td><td>2006-02-15 04:34:33</td></tr><tr><td>58</td><td>CHRISTIAN</td><td>AKROYD</td><td>2006-02-15 04:34:33</td></tr><tr><td>59</td><td>DUSTIN</td><td>TAUTOU</td><td>2006-02-15 04:34:33</td></tr><tr><td>60</td><td>HENRY</td><td>BERRY</td><td>2006-02-15 04:34:33</td></tr><tr><td>61</td><td>CHRISTIAN</td><td>NEESON</td><td>2006-02-15 04:34:33</td></tr><tr><td>62</td><td>JAYNE</td><td>NEESON</td><td>2006-02-15 04:34:33</td></tr><tr><td>63</td><td>CAMERON</td><td>WRAY</td><td>2006-02-15 04:34:33</td></tr><tr><td>64</td><td>RAY</td><td>JOHANSSON</td><td>2006-02-15 04:34:33</td></tr><tr><td>65</td><td>ANGELA</td><td>HUDSON</td><td>2006-02-15 04:34:33</td></tr><tr><td>66</td><td>MARY</td><td>TANDY</td><td>2006-02-15 04:34:33</td></tr><tr><td>67</td><td>JESSICA</td><td>BAILEY</td><td>2006-02-15 04:34:33</td></tr><tr><td>68</td><td>RIP</td><td>WINSLET</td><td>2006-02-15 04:34:33</td></tr><tr><td>69</td><td>KENNETH</td><td>PALTROW</td><td>2006-02-15 04:34:33</td></tr><tr><td>70</td><td>MICHELLE</td><td>MCCONAUGHEY</td><td>2006-02-15 04:34:33</td></tr><tr><td>71</td><td>ADAM</td><td>GRANT</td><td>2006-02-15 04:34:33</td></tr><tr><td>72</td><td>SEAN</td><td>WILLIAMS</td><td>2006-02-15 04:34:33</td></tr><tr><td>73</td><td>GARY</td><td>PENN</td><td>2006-02-15 04:34:33</td></tr><tr><td>74</td><td>MILLA</td><td>KEITEL</td><td>2006-02-15 04:34:33</td></tr><tr><td>75</td><td>BURT</td><td>POSEY</td><td>2006-02-15 04:34:33</td></tr><tr><td>76</td><td>ANGELINA</td><td>ASTAIRE</td><td>2006-02-15 04:34:33</td></tr><tr><td>77</td><td>CARY</td><td>MCCONAUGHEY</td><td>2006-02-15 04:34:33</td></tr><tr><td>78</td><td>GROUCHO</td><td>SINATRA</td><td>2006-02-15 04:34:33</td></tr><tr><td>79</td><td>MAE</td><td>HOFFMAN</td><td>2006-02-15 04:34:33</td></tr><tr><td>80</td><td>RALPH</td><td>CRUZ</td><td>2006-02-15 04:34:33</td></tr><tr><td>81</td><td>SCARLETT</td><td>DAMON</td><td>2006-02-15 04:34:33</td></tr><tr><td>82</td><td>WOODY</td><td>JOLIE</td><td>2006-02-15 04:34:33</td></tr><tr><td>83</td><td>BEN</td><td>WILLIS</td><td>2006-02-15 04:34:33</td></tr><tr><td>84</td><td>JAMES</td><td>PITT</td><td>2006-02-15 04:34:33</td></tr><tr><td>85</td><td>MINNIE</td><td>ZELLWEGER</td><td>2006-02-15 04:34:33</td></tr><tr><td>86</td><td>GREG</td><td>CHAPLIN</td><td>2006-02-15 04:34:33</td></tr><tr><td>87</td><td>SPENCER</td><td>PECK</td><td>2006-02-15 04:34:33</td></tr><tr><td>88</td><td>KENNETH</td><td>PESCI</td><td>2006-02-15 04:34:33</td></tr><tr><td>89</td><td>CHARLIZE</td><td>DENCH</td><td>2006-02-15 04:34:33</td></tr><tr><td>90</td><td>SEAN</td><td>GUINESS</td><td>2006-02-15 04:34:33</td></tr><tr><td>91</td><td>CHRISTOPHER</td><td>BERRY</td><td>2006-02-15 04:34:33</td></tr><tr><td>92</td><td>KIRSTEN</td><td>AKROYD</td><td>2006-02-15 04:34:33</td></tr><tr><td>93</td><td>ELLEN</td><td>PRESLEY</td><td>2006-02-15 04:34:33</td></tr><tr><td>94</td><td>KENNETH</td><td>TORN</td><td>2006-02-15 04:34:33</td></tr><tr><td>95</td><td>DARYL</td><td>WAHLBERG</td><td>2006-02-15 04:34:33</td></tr><tr><td>96</td><td>GENE</td><td>WILLIS</td><td>2006-02-15 04:34:33</td></tr><tr><td>97</td><td>MEG</td><td>HAWKE</td><td>2006-02-15 04:34:33</td></tr><tr><td>98</td><td>CHRIS</td><td>BRIDGES</td><td>2006-02-15 04:34:33</td></tr><tr><td>99</td><td>JIM</td><td>MOSTEL</td><td>2006-02-15 04:34:33</td></tr><tr><td>100</td><td>SPENCER</td><td>DEPP</td><td>2006-02-15 04:34:33</td></tr><tr><td>101</td><td>SUSAN</td><td>DAVIS</td><td>2006-02-15 04:34:33</td></tr><tr><td>102</td><td>WALTER</td><td>TORN</td><td>2006-02-15 04:34:33</td></tr><tr><td>103</td><td>MATTHEW</td><td>LEIGH</td><td>2006-02-15 04:34:33</td></tr><tr><td>104</td><td>PENELOPE</td><td>CRONYN</td><td>2006-02-15 04:34:33</td></tr><tr><td>105</td><td>SIDNEY</td><td>CROWE</td><td>2006-02-15 04:34:33</td></tr><tr><td>106</td><td>GROUCHO</td><td>DUNST</td><td>2006-02-15 04:34:33</td></tr><tr><td>107</td><td>GINA</td><td>DEGENERES</td><td>2006-02-15 04:34:33</td></tr><tr><td>108</td><td>WARREN</td><td>NOLTE</td><td>2006-02-15 04:34:33</td></tr><tr><td>109</td><td>SYLVESTER</td><td>DERN</td><td>2006-02-15 04:34:33</td></tr><tr><td>110</td><td>SUSAN</td><td>DAVIS</td><td>2006-02-15 04:34:33</td></tr><tr><td>111</td><td>CAMERON</td><td>ZELLWEGER</td><td>2006-02-15 04:34:33</td></tr><tr><td>112</td><td>RUSSELL</td><td>BACALL</td><td>2006-02-15 04:34:33</td></tr><tr><td>113</td><td>MORGAN</td><td>HOPKINS</td><td>2006-02-15 04:34:33</td></tr><tr><td>114</td><td>MORGAN</td><td>MCDORMAND</td><td>2006-02-15 04:34:33</td></tr><tr><td>115</td><td>HARRISON</td><td>BALE</td><td>2006-02-15 04:34:33</td></tr><tr><td>116</td><td>DAN</td><td>STREEP</td><td>2006-02-15 04:34:33</td></tr><tr><td>117</td><td>RENEE</td><td>TRACY</td><td>2006-02-15 04:34:33</td></tr><tr><td>118</td><td>CUBA</td><td>ALLEN</td><td>2006-02-15 04:34:33</td></tr><tr><td>119</td><td>WARREN</td><td>JACKMAN</td><td>2006-02-15 04:34:33</td></tr><tr><td>120</td><td>PENELOPE</td><td>MONROE</td><td>2006-02-15 04:34:33</td></tr><tr><td>121</td><td>LIZA</td><td>BERGMAN</td><td>2006-02-15 04:34:33</td></tr><tr><td>122</td><td>SALMA</td><td>NOLTE</td><td>2006-02-15 04:34:33</td></tr><tr><td>123</td><td>JULIANNE</td><td>DENCH</td><td>2006-02-15 04:34:33</td></tr><tr><td>124</td><td>SCARLETT</td><td>BENING</td><td>2006-02-15 04:34:33</td></tr><tr><td>125</td><td>ALBERT</td><td>NOLTE</td><td>2006-02-15 04:34:33</td></tr><tr><td>126</td><td>FRANCES</td><td>TOMEI</td><td>2006-02-15 04:34:33</td></tr><tr><td>127</td><td>KEVIN</td><td>GARLAND</td><td>2006-02-15 04:34:33</td></tr><tr><td>128</td><td>CATE</td><td>MCQUEEN</td><td>2006-02-15 04:34:33</td></tr><tr><td>129</td><td>DARYL</td><td>CRAWFORD</td><td>2006-02-15 04:34:33</td></tr><tr><td>130</td><td>GRETA</td><td>KEITEL</td><td>2006-02-15 04:34:33</td></tr><tr><td>131</td><td>JANE</td><td>JACKMAN</td><td>2006-02-15 04:34:33</td></tr><tr><td>132</td><td>ADAM</td><td>HOPPER</td><td>2006-02-15 04:34:33</td></tr><tr><td>133</td><td>RICHARD</td><td>PENN</td><td>2006-02-15 04:34:33</td></tr><tr><td>134</td><td>GENE</td><td>HOPKINS</td><td>2006-02-15 04:34:33</td></tr><tr><td>135</td><td>RITA</td><td>REYNOLDS</td><td>2006-02-15 04:34:33</td></tr><tr><td>136</td><td>ED</td><td>MANSFIELD</td><td>2006-02-15 04:34:33</td></tr><tr><td>137</td><td>MORGAN</td><td>WILLIAMS</td><td>2006-02-15 04:34:33</td></tr><tr><td>138</td><td>LUCILLE</td><td>DEE</td><td>2006-02-15 04:34:33</td></tr><tr><td>139</td><td>EWAN</td><td>GOODING</td><td>2006-02-15 04:34:33</td></tr><tr><td>140</td><td>WHOOPI</td><td>HURT</td><td>2006-02-15 04:34:33</td></tr><tr><td>141</td><td>CATE</td><td>HARRIS</td><td>2006-02-15 04:34:33</td></tr><tr><td>142</td><td>JADA</td><td>RYDER</td><td>2006-02-15 04:34:33</td></tr><tr><td>143</td><td>RIVER</td><td>DEAN</td><td>2006-02-15 04:34:33</td></tr><tr><td>144</td><td>ANGELA</td><td>WITHERSPOON</td><td>2006-02-15 04:34:33</td></tr><tr><td>145</td><td>KIM</td><td>ALLEN</td><td>2006-02-15 04:34:33</td></tr><tr><td>146</td><td>ALBERT</td><td>JOHANSSON</td><td>2006-02-15 04:34:33</td></tr><tr><td>147</td><td>FAY</td><td>WINSLET</td><td>2006-02-15 04:34:33</td></tr><tr><td>148</td><td>EMILY</td><td>DEE</td><td>2006-02-15 04:34:33</td></tr><tr><td>149</td><td>RUSSELL</td><td>TEMPLE</td><td>2006-02-15 04:34:33</td></tr><tr><td>150</td><td>JAYNE</td><td>NOLTE</td><td>2006-02-15 04:34:33</td></tr><tr><td>151</td><td>GEOFFREY</td><td>HESTON</td><td>2006-02-15 04:34:33</td></tr><tr><td>152</td><td>BEN</td><td>HARRIS</td><td>2006-02-15 04:34:33</td></tr><tr><td>153</td><td>MINNIE</td><td>KILMER</td><td>2006-02-15 04:34:33</td></tr><tr><td>154</td><td>MERYL</td><td>GIBSON</td><td>2006-02-15 04:34:33</td></tr><tr><td>155</td><td>IAN</td><td>TANDY</td><td>2006-02-15 04:34:33</td></tr><tr><td>156</td><td>FAY</td><td>WOOD</td><td>2006-02-15 04:34:33</td></tr><tr><td>157</td><td>GRETA</td><td>MALDEN</td><td>2006-02-15 04:34:33</td></tr><tr><td>158</td><td>VIVIEN</td><td>BASINGER</td><td>2006-02-15 04:34:33</td></tr><tr><td>159</td><td>LAURA</td><td>BRODY</td><td>2006-02-15 04:34:33</td></tr><tr><td>160</td><td>CHRIS</td><td>DEPP</td><td>2006-02-15 04:34:33</td></tr><tr><td>161</td><td>HARVEY</td><td>HOPE</td><td>2006-02-15 04:34:33</td></tr><tr><td>162</td><td>OPRAH</td><td>KILMER</td><td>2006-02-15 04:34:33</td></tr><tr><td>163</td><td>CHRISTOPHER</td><td>WEST</td><td>2006-02-15 04:34:33</td></tr><tr><td>164</td><td>HUMPHREY</td><td>WILLIS</td><td>2006-02-15 04:34:33</td></tr><tr><td>165</td><td>AL</td><td>GARLAND</td><td>2006-02-15 04:34:33</td></tr><tr><td>166</td><td>NICK</td><td>DEGENERES</td><td>2006-02-15 04:34:33</td></tr><tr><td>167</td><td>LAURENCE</td><td>BULLOCK</td><td>2006-02-15 04:34:33</td></tr><tr><td>168</td><td>WILL</td><td>WILSON</td><td>2006-02-15 04:34:33</td></tr><tr><td>169</td><td>KENNETH</td><td>HOFFMAN</td><td>2006-02-15 04:34:33</td></tr><tr><td>170</td><td>MENA</td><td>HOPPER</td><td>2006-02-15 04:34:33</td></tr><tr><td>171</td><td>OLYMPIA</td><td>PFEIFFER</td><td>2006-02-15 04:34:33</td></tr><tr><td>172</td><td>GROUCHO</td><td>WILLIAMS</td><td>2006-02-15 04:34:33</td></tr><tr><td>173</td><td>ALAN</td><td>DREYFUSS</td><td>2006-02-15 04:34:33</td></tr><tr><td>174</td><td>MICHAEL</td><td>BENING</td><td>2006-02-15 04:34:33</td></tr><tr><td>175</td><td>WILLIAM</td><td>HACKMAN</td><td>2006-02-15 04:34:33</td></tr><tr><td>176</td><td>JON</td><td>CHASE</td><td>2006-02-15 04:34:33</td></tr><tr><td>177</td><td>GENE</td><td>MCKELLEN</td><td>2006-02-15 04:34:33</td></tr><tr><td>178</td><td>LISA</td><td>MONROE</td><td>2006-02-15 04:34:33</td></tr><tr><td>179</td><td>ED</td><td>GUINESS</td><td>2006-02-15 04:34:33</td></tr><tr><td>180</td><td>JEFF</td><td>SILVERSTONE</td><td>2006-02-15 04:34:33</td></tr><tr><td>181</td><td>MATTHEW</td><td>CARREY</td><td>2006-02-15 04:34:33</td></tr><tr><td>182</td><td>DEBBIE</td><td>AKROYD</td><td>2006-02-15 04:34:33</td></tr><tr><td>183</td><td>RUSSELL</td><td>CLOSE</td><td>2006-02-15 04:34:33</td></tr><tr><td>184</td><td>HUMPHREY</td><td>GARLAND</td><td>2006-02-15 04:34:33</td></tr><tr><td>185</td><td>MICHAEL</td><td>BOLGER</td><td>2006-02-15 04:34:33</td></tr><tr><td>186</td><td>JULIA</td><td>ZELLWEGER</td><td>2006-02-15 04:34:33</td></tr><tr><td>187</td><td>RENEE</td><td>BALL</td><td>2006-02-15 04:34:33</td></tr><tr><td>188</td><td>ROCK</td><td>DUKAKIS</td><td>2006-02-15 04:34:33</td></tr><tr><td>189</td><td>CUBA</td><td>BIRCH</td><td>2006-02-15 04:34:33</td></tr><tr><td>190</td><td>AUDREY</td><td>BAILEY</td><td>2006-02-15 04:34:33</td></tr><tr><td>191</td><td>GREGORY</td><td>GOODING</td><td>2006-02-15 04:34:33</td></tr><tr><td>192</td><td>JOHN</td><td>SUVARI</td><td>2006-02-15 04:34:33</td></tr><tr><td>193</td><td>BURT</td><td>TEMPLE</td><td>2006-02-15 04:34:33</td></tr><tr><td>194</td><td>MERYL</td><td>ALLEN</td><td>2006-02-15 04:34:33</td></tr><tr><td>195</td><td>JAYNE</td><td>SILVERSTONE</td><td>2006-02-15 04:34:33</td></tr><tr><td>196</td><td>BELA</td><td>WALKEN</td><td>2006-02-15 04:34:33</td></tr><tr><td>197</td><td>REESE</td><td>WEST</td><td>2006-02-15 04:34:33</td></tr><tr><td>198</td><td>MARY</td><td>KEITEL</td><td>2006-02-15 04:34:33</td></tr><tr><td>199</td><td>JULIA</td><td>FAWCETT</td><td>2006-02-15 04:34:33</td></tr><tr><td>200</td><td>THORA</td><td>TEMPLE</td><td>2006-02-15 04:34:33</td></tr></table>"
                    },
                    "metadata": {}
                }
            ],
            "execution_count": 5
        },
        {
            "cell_type": "code",
            "source": [
                "select first_name from actor ORDER BY first_name;"
            ],
            "metadata": {
                "language": "sql",
                "azdata_cell_guid": "50cce46e-47ee-4c0f-beb9-3e197256f032"
            },
            "outputs": [
                {
                    "output_type": "display_data",
                    "data": {
                        "text/html": "(200 row(s) affected)"
                    },
                    "metadata": {}
                },
                {
                    "output_type": "display_data",
                    "data": {
                        "text/html": "Total execution time: 00:00:01.017"
                    },
                    "metadata": {}
                },
                {
                    "output_type": "execute_result",
                    "execution_count": 12,
                    "data": {
                        "application/vnd.dataresource+json": {
                            "schema": {
                                "fields": [
                                    {
                                        "name": "first_name"
                                    }
                                ]
                            },
                            "data": [
                                {
                                    "first_name": "ADAM"
                                },
                                {
                                    "first_name": "ADAM"
                                },
                                {
                                    "first_name": "AL"
                                },
                                {
                                    "first_name": "ALAN"
                                },
                                {
                                    "first_name": "ALBERT"
                                },
                                {
                                    "first_name": "ALBERT"
                                },
                                {
                                    "first_name": "ALEC"
                                },
                                {
                                    "first_name": "ANGELA"
                                },
                                {
                                    "first_name": "ANGELA"
                                },
                                {
                                    "first_name": "ANGELINA"
                                },
                                {
                                    "first_name": "ANNE"
                                },
                                {
                                    "first_name": "AUDREY"
                                },
                                {
                                    "first_name": "AUDREY"
                                },
                                {
                                    "first_name": "BELA"
                                },
                                {
                                    "first_name": "BEN"
                                },
                                {
                                    "first_name": "BEN"
                                },
                                {
                                    "first_name": "BETTE"
                                },
                                {
                                    "first_name": "BOB"
                                },
                                {
                                    "first_name": "BURT"
                                },
                                {
                                    "first_name": "BURT"
                                },
                                {
                                    "first_name": "BURT"
                                },
                                {
                                    "first_name": "CAMERON"
                                },
                                {
                                    "first_name": "CAMERON"
                                },
                                {
                                    "first_name": "CAMERON"
                                },
                                {
                                    "first_name": "CARMEN"
                                },
                                {
                                    "first_name": "CARY"
                                },
                                {
                                    "first_name": "CATE"
                                },
                                {
                                    "first_name": "CATE"
                                },
                                {
                                    "first_name": "CHARLIZE"
                                },
                                {
                                    "first_name": "CHRIS"
                                },
                                {
                                    "first_name": "CHRIS"
                                },
                                {
                                    "first_name": "CHRISTIAN"
                                },
                                {
                                    "first_name": "CHRISTIAN"
                                },
                                {
                                    "first_name": "CHRISTIAN"
                                },
                                {
                                    "first_name": "CHRISTOPHER"
                                },
                                {
                                    "first_name": "CHRISTOPHER"
                                },
                                {
                                    "first_name": "CUBA"
                                },
                                {
                                    "first_name": "CUBA"
                                },
                                {
                                    "first_name": "CUBA"
                                },
                                {
                                    "first_name": "DAN"
                                },
                                {
                                    "first_name": "DAN"
                                },
                                {
                                    "first_name": "DAN"
                                },
                                {
                                    "first_name": "DARYL"
                                },
                                {
                                    "first_name": "DARYL"
                                },
                                {
                                    "first_name": "DEBBIE"
                                },
                                {
                                    "first_name": "DUSTIN"
                                },
                                {
                                    "first_name": "ED"
                                },
                                {
                                    "first_name": "ED"
                                },
                                {
                                    "first_name": "ED"
                                },
                                {
                                    "first_name": "ELLEN"
                                },
                                {
                                    "first_name": "ELVIS"
                                },
                                {
                                    "first_name": "EMILY"
                                },
                                {
                                    "first_name": "EWAN"
                                },
                                {
                                    "first_name": "FAY"
                                },
                                {
                                    "first_name": "FAY"
                                },
                                {
                                    "first_name": "FAY"
                                },
                                {
                                    "first_name": "FRANCES"
                                },
                                {
                                    "first_name": "FRANCES"
                                },
                                {
                                    "first_name": "FRED"
                                },
                                {
                                    "first_name": "GARY"
                                },
                                {
                                    "first_name": "GARY"
                                },
                                {
                                    "first_name": "GENE"
                                },
                                {
                                    "first_name": "GENE"
                                },
                                {
                                    "first_name": "GENE"
                                },
                                {
                                    "first_name": "GEOFFREY"
                                },
                                {
                                    "first_name": "GINA"
                                },
                                {
                                    "first_name": "GOLDIE"
                                },
                                {
                                    "first_name": "GRACE"
                                },
                                {
                                    "first_name": "GREG"
                                },
                                {
                                    "first_name": "GREGORY"
                                },
                                {
                                    "first_name": "GRETA"
                                },
                                {
                                    "first_name": "GRETA"
                                },
                                {
                                    "first_name": "GROUCHO"
                                },
                                {
                                    "first_name": "GROUCHO"
                                },
                                {
                                    "first_name": "GROUCHO"
                                },
                                {
                                    "first_name": "HARRISON"
                                },
                                {
                                    "first_name": "HARVEY"
                                },
                                {
                                    "first_name": "HELEN"
                                },
                                {
                                    "first_name": "HENRY"
                                },
                                {
                                    "first_name": "HUMPHREY"
                                },
                                {
                                    "first_name": "HUMPHREY"
                                },
                                {
                                    "first_name": "IAN"
                                },
                                {
                                    "first_name": "JADA"
                                },
                                {
                                    "first_name": "JAMES"
                                },
                                {
                                    "first_name": "JANE"
                                },
                                {
                                    "first_name": "JAYNE"
                                },
                                {
                                    "first_name": "JAYNE"
                                },
                                {
                                    "first_name": "JAYNE"
                                },
                                {
                                    "first_name": "JEFF"
                                },
                                {
                                    "first_name": "JENNIFER"
                                },
                                {
                                    "first_name": "JESSICA"
                                },
                                {
                                    "first_name": "JIM"
                                },
                                {
                                    "first_name": "JODIE"
                                },
                                {
                                    "first_name": "JOE"
                                },
                                {
                                    "first_name": "JOHN"
                                },
                                {
                                    "first_name": "JOHNNY"
                                },
                                {
                                    "first_name": "JOHNNY"
                                },
                                {
                                    "first_name": "JON"
                                },
                                {
                                    "first_name": "JUDE"
                                },
                                {
                                    "first_name": "JUDY"
                                },
                                {
                                    "first_name": "JULIA"
                                },
                                {
                                    "first_name": "JULIA"
                                },
                                {
                                    "first_name": "JULIA"
                                },
                                {
                                    "first_name": "JULIA"
                                },
                                {
                                    "first_name": "JULIANNE"
                                },
                                {
                                    "first_name": "KARL"
                                },
                                {
                                    "first_name": "KENNETH"
                                },
                                {
                                    "first_name": "KENNETH"
                                },
                                {
                                    "first_name": "KENNETH"
                                },
                                {
                                    "first_name": "KENNETH"
                                },
                                {
                                    "first_name": "KEVIN"
                                },
                                {
                                    "first_name": "KEVIN"
                                },
                                {
                                    "first_name": "KIM"
                                },
                                {
                                    "first_name": "KIRK"
                                },
                                {
                                    "first_name": "KIRSTEN"
                                },
                                {
                                    "first_name": "KIRSTEN"
                                },
                                {
                                    "first_name": "LAURA"
                                },
                                {
                                    "first_name": "LAURENCE"
                                },
                                {
                                    "first_name": "LISA"
                                },
                                {
                                    "first_name": "LIZA"
                                },
                                {
                                    "first_name": "LUCILLE"
                                },
                                {
                                    "first_name": "LUCILLE"
                                },
                                {
                                    "first_name": "MAE"
                                },
                                {
                                    "first_name": "MARY"
                                },
                                {
                                    "first_name": "MARY"
                                },
                                {
                                    "first_name": "MATTHEW"
                                },
                                {
                                    "first_name": "MATTHEW"
                                },
                                {
                                    "first_name": "MATTHEW"
                                },
                                {
                                    "first_name": "MEG"
                                },
                                {
                                    "first_name": "MENA"
                                },
                                {
                                    "first_name": "MENA"
                                },
                                {
                                    "first_name": "MERYL"
                                },
                                {
                                    "first_name": "MERYL"
                                },
                                {
                                    "first_name": "MICHAEL"
                                },
                                {
                                    "first_name": "MICHAEL"
                                },
                                {
                                    "first_name": "MICHELLE"
                                },
                                {
                                    "first_name": "MILLA"
                                },
                                {
                                    "first_name": "MILLA"
                                },
                                {
                                    "first_name": "MINNIE"
                                },
                                {
                                    "first_name": "MINNIE"
                                },
                                {
                                    "first_name": "MORGAN"
                                },
                                {
                                    "first_name": "MORGAN"
                                },
                                {
                                    "first_name": "MORGAN"
                                },
                                {
                                    "first_name": "NATALIE"
                                },
                                {
                                    "first_name": "NICK"
                                },
                                {
                                    "first_name": "NICK"
                                },
                                {
                                    "first_name": "NICK"
                                },
                                {
                                    "first_name": "OLYMPIA"
                                },
                                {
                                    "first_name": "OPRAH"
                                },
                                {
                                    "first_name": "PARKER"
                                },
                                {
                                    "first_name": "PENELOPE"
                                },
                                {
                                    "first_name": "PENELOPE"
                                },
                                {
                                    "first_name": "PENELOPE"
                                },
                                {
                                    "first_name": "PENELOPE"
                                },
                                {
                                    "first_name": "RALPH"
                                },
                                {
                                    "first_name": "RAY"
                                },
                                {
                                    "first_name": "REESE"
                                },
                                {
                                    "first_name": "REESE"
                                },
                                {
                                    "first_name": "RENEE"
                                },
                                {
                                    "first_name": "RENEE"
                                },
                                {
                                    "first_name": "RICHARD"
                                },
                                {
                                    "first_name": "RIP"
                                },
                                {
                                    "first_name": "RIP"
                                },
                                {
                                    "first_name": "RITA"
                                },
                                {
                                    "first_name": "RIVER"
                                },
                                {
                                    "first_name": "ROCK"
                                },
                                {
                                    "first_name": "RUSSELL"
                                },
                                {
                                    "first_name": "RUSSELL"
                                },
                                {
                                    "first_name": "RUSSELL"
                                },
                                {
                                    "first_name": "SALMA"
                                },
                                {
                                    "first_name": "SANDRA"
                                },
                                {
                                    "first_name": "SANDRA"
                                },
                                {
                                    "first_name": "SCARLETT"
                                },
                                {
                                    "first_name": "SCARLETT"
                                },
                                {
                                    "first_name": "SEAN"
                                },
                                {
                                    "first_name": "SEAN"
                                },
                                {
                                    "first_name": "SIDNEY"
                                },
                                {
                                    "first_name": "SISSY"
                                },
                                {
                                    "first_name": "SPENCER"
                                },
                                {
                                    "first_name": "SPENCER"
                                },
                                {
                                    "first_name": "SUSAN"
                                },
                                {
                                    "first_name": "SUSAN"
                                },
                                {
                                    "first_name": "SYLVESTER"
                                },
                                {
                                    "first_name": "THORA"
                                },
                                {
                                    "first_name": "TIM"
                                },
                                {
                                    "first_name": "TOM"
                                },
                                {
                                    "first_name": "TOM"
                                },
                                {
                                    "first_name": "UMA"
                                },
                                {
                                    "first_name": "VAL"
                                },
                                {
                                    "first_name": "VIVIEN"
                                },
                                {
                                    "first_name": "VIVIEN"
                                },
                                {
                                    "first_name": "WALTER"
                                },
                                {
                                    "first_name": "WARREN"
                                },
                                {
                                    "first_name": "WARREN"
                                },
                                {
                                    "first_name": "WHOOPI"
                                },
                                {
                                    "first_name": "WILL"
                                },
                                {
                                    "first_name": "WILLIAM"
                                },
                                {
                                    "first_name": "WOODY"
                                },
                                {
                                    "first_name": "WOODY"
                                },
                                {
                                    "first_name": "ZERO"
                                }
                            ]
                        },
                        "text/html": "<table><tr><th>first_name</th></tr><tr><td>ADAM</td></tr><tr><td>ADAM</td></tr><tr><td>AL</td></tr><tr><td>ALAN</td></tr><tr><td>ALBERT</td></tr><tr><td>ALBERT</td></tr><tr><td>ALEC</td></tr><tr><td>ANGELA</td></tr><tr><td>ANGELA</td></tr><tr><td>ANGELINA</td></tr><tr><td>ANNE</td></tr><tr><td>AUDREY</td></tr><tr><td>AUDREY</td></tr><tr><td>BELA</td></tr><tr><td>BEN</td></tr><tr><td>BEN</td></tr><tr><td>BETTE</td></tr><tr><td>BOB</td></tr><tr><td>BURT</td></tr><tr><td>BURT</td></tr><tr><td>BURT</td></tr><tr><td>CAMERON</td></tr><tr><td>CAMERON</td></tr><tr><td>CAMERON</td></tr><tr><td>CARMEN</td></tr><tr><td>CARY</td></tr><tr><td>CATE</td></tr><tr><td>CATE</td></tr><tr><td>CHARLIZE</td></tr><tr><td>CHRIS</td></tr><tr><td>CHRIS</td></tr><tr><td>CHRISTIAN</td></tr><tr><td>CHRISTIAN</td></tr><tr><td>CHRISTIAN</td></tr><tr><td>CHRISTOPHER</td></tr><tr><td>CHRISTOPHER</td></tr><tr><td>CUBA</td></tr><tr><td>CUBA</td></tr><tr><td>CUBA</td></tr><tr><td>DAN</td></tr><tr><td>DAN</td></tr><tr><td>DAN</td></tr><tr><td>DARYL</td></tr><tr><td>DARYL</td></tr><tr><td>DEBBIE</td></tr><tr><td>DUSTIN</td></tr><tr><td>ED</td></tr><tr><td>ED</td></tr><tr><td>ED</td></tr><tr><td>ELLEN</td></tr><tr><td>ELVIS</td></tr><tr><td>EMILY</td></tr><tr><td>EWAN</td></tr><tr><td>FAY</td></tr><tr><td>FAY</td></tr><tr><td>FAY</td></tr><tr><td>FRANCES</td></tr><tr><td>FRANCES</td></tr><tr><td>FRED</td></tr><tr><td>GARY</td></tr><tr><td>GARY</td></tr><tr><td>GENE</td></tr><tr><td>GENE</td></tr><tr><td>GENE</td></tr><tr><td>GEOFFREY</td></tr><tr><td>GINA</td></tr><tr><td>GOLDIE</td></tr><tr><td>GRACE</td></tr><tr><td>GREG</td></tr><tr><td>GREGORY</td></tr><tr><td>GRETA</td></tr><tr><td>GRETA</td></tr><tr><td>GROUCHO</td></tr><tr><td>GROUCHO</td></tr><tr><td>GROUCHO</td></tr><tr><td>HARRISON</td></tr><tr><td>HARVEY</td></tr><tr><td>HELEN</td></tr><tr><td>HENRY</td></tr><tr><td>HUMPHREY</td></tr><tr><td>HUMPHREY</td></tr><tr><td>IAN</td></tr><tr><td>JADA</td></tr><tr><td>JAMES</td></tr><tr><td>JANE</td></tr><tr><td>JAYNE</td></tr><tr><td>JAYNE</td></tr><tr><td>JAYNE</td></tr><tr><td>JEFF</td></tr><tr><td>JENNIFER</td></tr><tr><td>JESSICA</td></tr><tr><td>JIM</td></tr><tr><td>JODIE</td></tr><tr><td>JOE</td></tr><tr><td>JOHN</td></tr><tr><td>JOHNNY</td></tr><tr><td>JOHNNY</td></tr><tr><td>JON</td></tr><tr><td>JUDE</td></tr><tr><td>JUDY</td></tr><tr><td>JULIA</td></tr><tr><td>JULIA</td></tr><tr><td>JULIA</td></tr><tr><td>JULIA</td></tr><tr><td>JULIANNE</td></tr><tr><td>KARL</td></tr><tr><td>KENNETH</td></tr><tr><td>KENNETH</td></tr><tr><td>KENNETH</td></tr><tr><td>KENNETH</td></tr><tr><td>KEVIN</td></tr><tr><td>KEVIN</td></tr><tr><td>KIM</td></tr><tr><td>KIRK</td></tr><tr><td>KIRSTEN</td></tr><tr><td>KIRSTEN</td></tr><tr><td>LAURA</td></tr><tr><td>LAURENCE</td></tr><tr><td>LISA</td></tr><tr><td>LIZA</td></tr><tr><td>LUCILLE</td></tr><tr><td>LUCILLE</td></tr><tr><td>MAE</td></tr><tr><td>MARY</td></tr><tr><td>MARY</td></tr><tr><td>MATTHEW</td></tr><tr><td>MATTHEW</td></tr><tr><td>MATTHEW</td></tr><tr><td>MEG</td></tr><tr><td>MENA</td></tr><tr><td>MENA</td></tr><tr><td>MERYL</td></tr><tr><td>MERYL</td></tr><tr><td>MICHAEL</td></tr><tr><td>MICHAEL</td></tr><tr><td>MICHELLE</td></tr><tr><td>MILLA</td></tr><tr><td>MILLA</td></tr><tr><td>MINNIE</td></tr><tr><td>MINNIE</td></tr><tr><td>MORGAN</td></tr><tr><td>MORGAN</td></tr><tr><td>MORGAN</td></tr><tr><td>NATALIE</td></tr><tr><td>NICK</td></tr><tr><td>NICK</td></tr><tr><td>NICK</td></tr><tr><td>OLYMPIA</td></tr><tr><td>OPRAH</td></tr><tr><td>PARKER</td></tr><tr><td>PENELOPE</td></tr><tr><td>PENELOPE</td></tr><tr><td>PENELOPE</td></tr><tr><td>PENELOPE</td></tr><tr><td>RALPH</td></tr><tr><td>RAY</td></tr><tr><td>REESE</td></tr><tr><td>REESE</td></tr><tr><td>RENEE</td></tr><tr><td>RENEE</td></tr><tr><td>RICHARD</td></tr><tr><td>RIP</td></tr><tr><td>RIP</td></tr><tr><td>RITA</td></tr><tr><td>RIVER</td></tr><tr><td>ROCK</td></tr><tr><td>RUSSELL</td></tr><tr><td>RUSSELL</td></tr><tr><td>RUSSELL</td></tr><tr><td>SALMA</td></tr><tr><td>SANDRA</td></tr><tr><td>SANDRA</td></tr><tr><td>SCARLETT</td></tr><tr><td>SCARLETT</td></tr><tr><td>SEAN</td></tr><tr><td>SEAN</td></tr><tr><td>SIDNEY</td></tr><tr><td>SISSY</td></tr><tr><td>SPENCER</td></tr><tr><td>SPENCER</td></tr><tr><td>SUSAN</td></tr><tr><td>SUSAN</td></tr><tr><td>SYLVESTER</td></tr><tr><td>THORA</td></tr><tr><td>TIM</td></tr><tr><td>TOM</td></tr><tr><td>TOM</td></tr><tr><td>UMA</td></tr><tr><td>VAL</td></tr><tr><td>VIVIEN</td></tr><tr><td>VIVIEN</td></tr><tr><td>WALTER</td></tr><tr><td>WARREN</td></tr><tr><td>WARREN</td></tr><tr><td>WHOOPI</td></tr><tr><td>WILL</td></tr><tr><td>WILLIAM</td></tr><tr><td>WOODY</td></tr><tr><td>WOODY</td></tr><tr><td>ZERO</td></tr></table>"
                    },
                    "metadata": {}
                }
            ],
            "execution_count": 12
        },
        {
            "cell_type": "code",
            "source": [
                "select first_name from actor where first_name LIKE 'AD%';"
            ],
            "metadata": {
                "azdata_cell_guid": "ff25d9aa-3850-449e-a4d9-576f9d471414",
                "language": "sql"
            },
            "outputs": [
                {
                    "output_type": "display_data",
                    "data": {
                        "text/html": "(2 row(s) affected)"
                    },
                    "metadata": {}
                },
                {
                    "output_type": "display_data",
                    "data": {
                        "text/html": "Total execution time: 00:00:01.057"
                    },
                    "metadata": {}
                },
                {
                    "output_type": "execute_result",
                    "execution_count": 7,
                    "data": {
                        "application/vnd.dataresource+json": {
                            "schema": {
                                "fields": [
                                    {
                                        "name": "first_name"
                                    }
                                ]
                            },
                            "data": [
                                {
                                    "first_name": "ADAM"
                                },
                                {
                                    "first_name": "ADAM"
                                }
                            ]
                        },
                        "text/html": "<table><tr><th>first_name</th></tr><tr><td>ADAM</td></tr><tr><td>ADAM</td></tr></table>"
                    },
                    "metadata": {}
                }
            ],
            "execution_count": 7
        },
        {
            "cell_type": "code",
            "source": [
                "select 2+2;"
            ],
            "metadata": {
                "language": "sql",
                "azdata_cell_guid": "b3813fd8-d98f-4492-852b-365f3ce3fb81"
            },
            "outputs": [
                {
                    "output_type": "display_data",
                    "data": {
                        "text/html": "(1 row(s) affected)"
                    },
                    "metadata": {}
                },
                {
                    "output_type": "display_data",
                    "data": {
                        "text/html": "Total execution time: 00:00:01.014"
                    },
                    "metadata": {}
                },
                {
                    "output_type": "execute_result",
                    "execution_count": 10,
                    "data": {
                        "application/vnd.dataresource+json": {
                            "schema": {
                                "fields": [
                                    {
                                        "name": "2+2"
                                    }
                                ]
                            },
                            "data": [
                                {
                                    "2+2": "4"
                                }
                            ]
                        },
                        "text/html": "<table><tr><th>2+2</th></tr><tr><td>4</td></tr></table>"
                    },
                    "metadata": {}
                }
            ],
            "execution_count": 10
        },
        {
            "cell_type": "code",
            "source": [
                "use school;"
            ],
            "metadata": {
                "azdata_cell_guid": "e75d03e9-9fc8-47e5-afd5-7d0d836bf624",
                "language": "sql"
            },
            "outputs": [
                {
                    "output_type": "display_data",
                    "data": {
                        "text/html": "Commands completed successfully"
                    },
                    "metadata": {}
                },
                {
                    "output_type": "display_data",
                    "data": {
                        "text/html": "Total execution time: 00:00:00.001"
                    },
                    "metadata": {}
                }
            ],
            "execution_count": 13
        },
        {
            "cell_type": "code",
            "source": [
                "create table IF NOT EXISTS report(\r\n",
                "    id INTEGER PRIMARY KEY AUTO_INCREMENT,\r\n",
                "    name VARCHAR(25),\r\n",
                "    marks INTEGER,\r\n",
                "    total INTEGER DEFAULT 100\r\n",
                ");\r\n",
                "describe report;"
            ],
            "metadata": {
                "language": "sql",
                "azdata_cell_guid": "916f4451-3893-49ce-a300-5b4b295ff40a"
            },
            "outputs": [
                {
                    "output_type": "display_data",
                    "data": {
                        "text/html": "Commands completed successfully"
                    },
                    "metadata": {}
                },
                {
                    "output_type": "display_data",
                    "data": {
                        "text/html": "(4 row(s) affected)"
                    },
                    "metadata": {}
                },
                {
                    "output_type": "display_data",
                    "data": {
                        "text/html": "Total execution time: 00:00:01.025"
                    },
                    "metadata": {}
                },
                {
                    "output_type": "execute_result",
                    "execution_count": 15,
                    "data": {
                        "application/vnd.dataresource+json": {
                            "schema": {
                                "fields": [
                                    {
                                        "name": "Field"
                                    },
                                    {
                                        "name": "Type"
                                    },
                                    {
                                        "name": "Null"
                                    },
                                    {
                                        "name": "Key"
                                    },
                                    {
                                        "name": "Default"
                                    },
                                    {
                                        "name": "Extra"
                                    }
                                ]
                            },
                            "data": [
                                {
                                    "Field": "id",
                                    "Type": "b'int'",
                                    "Null": "NO",
                                    "Key": "PRI",
                                    "Default": "NULL",
                                    "Extra": "auto_increment"
                                },
                                {
                                    "Field": "name",
                                    "Type": "b'varchar(25)'",
                                    "Null": "YES",
                                    "Key": "",
                                    "Default": "NULL",
                                    "Extra": ""
                                },
                                {
                                    "Field": "marks",
                                    "Type": "b'int'",
                                    "Null": "YES",
                                    "Key": "",
                                    "Default": "NULL",
                                    "Extra": ""
                                },
                                {
                                    "Field": "total",
                                    "Type": "b'int'",
                                    "Null": "YES",
                                    "Key": "",
                                    "Default": "b'100'",
                                    "Extra": ""
                                }
                            ]
                        },
                        "text/html": "<table><tr><th>Field</th><th>Type</th><th>Null</th><th>Key</th><th>Default</th><th>Extra</th></tr><tr><td>id</td><td>b&#39;int&#39;</td><td>NO</td><td>PRI</td><td>NULL</td><td>auto_increment</td></tr><tr><td>name</td><td>b&#39;varchar(25)&#39;</td><td>YES</td><td></td><td>NULL</td><td></td></tr><tr><td>marks</td><td>b&#39;int&#39;</td><td>YES</td><td></td><td>NULL</td><td></td></tr><tr><td>total</td><td>b&#39;int&#39;</td><td>YES</td><td></td><td>b&#39;100&#39;</td><td></td></tr></table>"
                    },
                    "metadata": {}
                }
            ],
            "execution_count": 15
        },
        {
            "cell_type": "code",
            "source": [
                "insert into report (name,marks,total) VALUES ('Raj',90,200);\r\n",
                "insert into report (name,marks,total) VALUES ('Rahul',50,50);\r\n",
                "insert into report (name,marks,total) VALUES ('Rohan',70,90);\r\n",
                "insert into report (name,marks,total) VALUES ('Rajesh',50,250);\r\n",
                "insert into report (name,marks,total) VALUES ('Mahesh',90,250);\r\n",
                "select * from report;\r\n",
                "\r\n",
                ""
            ],
            "metadata": {
                "language": "sql",
                "azdata_cell_guid": "ffa37637-202a-45e8-839f-498ba8c0b5ae"
            },
            "outputs": [
                {
                    "output_type": "display_data",
                    "data": {
                        "text/html": "Commands completed successfully"
                    },
                    "metadata": {}
                },
                {
                    "output_type": "display_data",
                    "data": {
                        "text/html": "Commands completed successfully"
                    },
                    "metadata": {}
                },
                {
                    "output_type": "display_data",
                    "data": {
                        "text/html": "Commands completed successfully"
                    },
                    "metadata": {}
                },
                {
                    "output_type": "display_data",
                    "data": {
                        "text/html": "Commands completed successfully"
                    },
                    "metadata": {}
                },
                {
                    "output_type": "display_data",
                    "data": {
                        "text/html": "Commands completed successfully"
                    },
                    "metadata": {}
                },
                {
                    "output_type": "display_data",
                    "data": {
                        "text/html": "(5 row(s) affected)"
                    },
                    "metadata": {}
                },
                {
                    "output_type": "display_data",
                    "data": {
                        "text/html": "Total execution time: 00:00:01.077"
                    },
                    "metadata": {}
                },
                {
                    "output_type": "execute_result",
                    "execution_count": 18,
                    "data": {
                        "application/vnd.dataresource+json": {
                            "schema": {
                                "fields": [
                                    {
                                        "name": "id"
                                    },
                                    {
                                        "name": "name"
                                    },
                                    {
                                        "name": "marks"
                                    },
                                    {
                                        "name": "total"
                                    }
                                ]
                            },
                            "data": [
                                {
                                    "id": "1",
                                    "name": "Raj",
                                    "marks": "90",
                                    "total": "200"
                                },
                                {
                                    "id": "2",
                                    "name": "Rahul",
                                    "marks": "50",
                                    "total": "50"
                                },
                                {
                                    "id": "3",
                                    "name": "Rohan",
                                    "marks": "70",
                                    "total": "90"
                                },
                                {
                                    "id": "4",
                                    "name": "Rajesh",
                                    "marks": "50",
                                    "total": "250"
                                },
                                {
                                    "id": "5",
                                    "name": "Mahesh",
                                    "marks": "90",
                                    "total": "250"
                                }
                            ]
                        },
                        "text/html": "<table><tr><th>id</th><th>name</th><th>marks</th><th>total</th></tr><tr><td>1</td><td>Raj</td><td>90</td><td>200</td></tr><tr><td>2</td><td>Rahul</td><td>50</td><td>50</td></tr><tr><td>3</td><td>Rohan</td><td>70</td><td>90</td></tr><tr><td>4</td><td>Rajesh</td><td>50</td><td>250</td></tr><tr><td>5</td><td>Mahesh</td><td>90</td><td>250</td></tr></table>"
                    },
                    "metadata": {}
                }
            ],
            "execution_count": 18
        },
        {
            "cell_type": "code",
            "source": [
                "select \r\n",
                "    name,\r\n",
                "    marks,\r\n",
                "    marks/total*100 as percentage\r\n",
                "FROM\r\n",
                "    report\r\n",
                "ORDER BY\r\n",
                "     percentage DESC;"
            ],
            "metadata": {
                "azdata_cell_guid": "55cb42c8-ee52-449e-ba57-e47bc91f9d12",
                "language": "sql",
                "tags": [
                    "hide_input"
                ]
            },
            "outputs": [
                {
                    "output_type": "display_data",
                    "data": {
                        "text/html": "(5 row(s) affected)"
                    },
                    "metadata": {}
                },
                {
                    "output_type": "display_data",
                    "data": {
                        "text/html": "Total execution time: 00:00:01.050"
                    },
                    "metadata": {}
                },
                {
                    "output_type": "execute_result",
                    "execution_count": 19,
                    "data": {
                        "application/vnd.dataresource+json": {
                            "schema": {
                                "fields": [
                                    {
                                        "name": "name"
                                    },
                                    {
                                        "name": "marks"
                                    },
                                    {
                                        "name": "percentage"
                                    }
                                ]
                            },
                            "data": [
                                {
                                    "name": "Rahul",
                                    "marks": "50",
                                    "percentage": "100.0000"
                                },
                                {
                                    "name": "Rohan",
                                    "marks": "70",
                                    "percentage": "77.7778"
                                },
                                {
                                    "name": "Raj",
                                    "marks": "90",
                                    "percentage": "45.0000"
                                },
                                {
                                    "name": "Mahesh",
                                    "marks": "90",
                                    "percentage": "36.0000"
                                },
                                {
                                    "name": "Rajesh",
                                    "marks": "50",
                                    "percentage": "20.0000"
                                }
                            ]
                        },
                        "text/html": "<table><tr><th>name</th><th>marks</th><th>percentage</th></tr><tr><td>Rahul</td><td>50</td><td>100.0000</td></tr><tr><td>Rohan</td><td>70</td><td>77.7778</td></tr><tr><td>Raj</td><td>90</td><td>45.0000</td></tr><tr><td>Mahesh</td><td>90</td><td>36.0000</td></tr><tr><td>Rajesh</td><td>50</td><td>20.0000</td></tr></table>"
                    },
                    "metadata": {}
                }
            ],
            "execution_count": 19
        },
        {
            "cell_type": "code",
            "source": [
                ""
            ],
            "metadata": {
                "language": "sql",
                "azdata_cell_guid": "d59599a9-a4a3-430f-93fa-ba77aa2942a6"
            },
            "outputs": [],
            "execution_count": null
        }
    ]
}